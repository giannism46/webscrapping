{
 "cells": [
  {
   "cell_type": "markdown",
   "metadata": {},
   "source": [
    "## Imports"
   ]
  },
  {
   "cell_type": "code",
   "execution_count": 176,
   "metadata": {},
   "outputs": [],
   "source": [
    "import time\n",
    "from time import sleep\n",
    "from tqdm import tqdm\n",
    "\n",
    "\n",
    "#---------Selenium------------\n",
    "\n",
    "from selenium import webdriver\n",
    "from selenium.webdriver.common.keys import Keys\n",
    "from selenium.webdriver.common.by import By\n",
    "from selenium.webdriver.support.ui import WebDriverWait\n",
    "from selenium.webdriver.support import expected_conditions as EC\n",
    "\n",
    "# generate random for time\n",
    "import random\n",
    "\n",
    "# for dates\n",
    "from datetime import datetime, timedelta\n",
    "\n",
    "# regex of course\n",
    "import re\n",
    "\n",
    "# pandas for dataframe\n",
    "import pandas as pd\n"
   ]
  },
  {
   "cell_type": "markdown",
   "metadata": {},
   "source": [
    "# chrome driver \n",
    "### https://chromedriver.chromium.org/"
   ]
  },
  {
   "cell_type": "markdown",
   "metadata": {},
   "source": [
    "# FUNCTIONS"
   ]
  },
  {
   "cell_type": "markdown",
   "metadata": {},
   "source": [
    "## Remove the Ads actually hide them.."
   ]
  },
  {
   "cell_type": "code",
   "execution_count": 2,
   "metadata": {},
   "outputs": [],
   "source": [
    "def Count_remove_Ads(driver): \n",
    "    all_iframes = driver.find_elements_by_tag_name(\"iframe\")\n",
    "    if len(all_iframes) > 0:\n",
    "#         print(\"Ad Found\\n\")\n",
    "        driver.execute_script(\"\"\"\n",
    "            var elems = document.getElementsByTagName(\"iframe\"); \n",
    "            for(var i = 0, max = elems.length; i < max; i++)\n",
    "                 {\n",
    "                     elems[i].hidden=true;\n",
    "                 }\n",
    "                              \"\"\")\n",
    "#         print('Total Ads: ' + str(len(all_iframes)))\n",
    "    else:\n",
    "#         print('No frames found')\n",
    "        pass"
   ]
  },
  {
   "cell_type": "markdown",
   "metadata": {},
   "source": [
    "## Give all jobs in a single page"
   ]
  },
  {
   "cell_type": "code",
   "execution_count": 3,
   "metadata": {},
   "outputs": [],
   "source": [
    "def All_Jobs_to_me(driver):\n",
    "    \n",
    "    #     All_Jobs_to_me \"extract\" the site, give all jobs in a single page\n",
    "\n",
    "\n",
    "\n",
    "    #     create button for Click Περισσότερες Αγγελίες... \n",
    "    morejobs_btn = driver.find_element_by_id('ctl00_ContentplaceholderSubMenu_ASPxCallbackPanel1_ASPxDataView2_EPContainer')\n",
    "\n",
    "\n",
    "    myflag=True\n",
    "    i=1\n",
    "    test=0\n",
    "    while myflag :\n",
    "        try:\n",
    "            morejobs_btn.click()\n",
    "  \n",
    "            sleep(random.uniform(3, 4))\n",
    "        except:\n",
    "            sleep(random.uniform(2, 3))\n",
    "            test+=1\n",
    "#             print(f'tries {test}')\n",
    "            if test>4:\n",
    "                myflag=False\n",
    "            continue"
   ]
  },
  {
   "cell_type": "markdown",
   "metadata": {},
   "source": [
    "## Open the site and remove what ever appear"
   ]
  },
  {
   "cell_type": "code",
   "execution_count": 8,
   "metadata": {},
   "outputs": [],
   "source": [
    "def opensite(myurl):\n",
    "\n",
    "    # https://chromedriver.chromium.org/\n",
    "    driverjob = webdriver.Chrome(\"C:\\Program Files (x86)\\chromedriver.exe\")\n",
    "    driverjob.get(myurl)\n",
    "    \n",
    "\n",
    "\n",
    "    # the first message appear!! \n",
    "    sleep(random.uniform(2, 3))\n",
    "    for check in range(3):\n",
    "        try:\n",
    "            driverjob.find_element_by_xpath(\"//*[contains(text(), 'Οχι')]\").click()\n",
    "            break\n",
    "        except:\n",
    "            continue\n",
    "            sleep(random.uniform(0,0.5))\n",
    "    #---------------------------------------------------------------\n",
    "    print(driverjob.title)\n",
    "    #---------------------------------------------------------------\n",
    "\n",
    "    \n",
    "    # hide the ads!!\n",
    "    sleep(random.uniform(2, 3))\n",
    "    for check in range(3):\n",
    "        try:\n",
    "            Count_remove_Ads(driverjob)\n",
    "            break\n",
    "        except:            \n",
    "            sleep(random.uniform(0,0.5))\n",
    "            continue\n",
    "    #---------------------------------------------------------------\n",
    "\n",
    "    # agree for cookies \n",
    "    sleep(random.uniform(0.5,1))\n",
    "    for check in range(3):\n",
    "        try:\n",
    "            driverjob.find_element_by_class_name(\"cc-compliance\").click()\n",
    "            break\n",
    "        except:\n",
    "            continue\n",
    "            sleep(random.uniform(0.5,1))\n",
    "    #---------------------------------------------------------------\n",
    "\n",
    "    return driverjob"
   ]
  },
  {
   "cell_type": "markdown",
   "metadata": {},
   "source": [
    "### Extract specific data from url"
   ]
  },
  {
   "cell_type": "code",
   "execution_count": 9,
   "metadata": {},
   "outputs": [],
   "source": [
    "def job_analysis(driverjob):\n",
    "    # the actually job in the site\n",
    "    thejob=driverjob.find_element_by_id(\"ctl00_ContentplaceholderSubMenu_PanelLiveContent\")\n",
    "    info_of_job=thejob.find_elements_by_tag_name(\"a\")\n",
    "    specific=thejob.find_elements_by_class_name('col-md-6')\n",
    "    specificjob=specific[0].find_elements_by_tag_name('p')\n",
    "    specificjob1=specific[1].find_elements_by_tag_name('p')\n",
    "    \n",
    "    #------titleofjob------    \n",
    "    titleofjob=thejob.find_element_by_tag_name(\"h1\").text  \n",
    "    #----------------------\n",
    "    \n",
    "    \n",
    "    #----refernce_number---    \n",
    "    refernce_number=int(info_of_job[0].text[10:])    \n",
    "    #----------------------\n",
    "    \n",
    "    \n",
    "    #---------city---------    \n",
    "    city=info_of_job[1].text    \n",
    "    #----------------------\n",
    "    \n",
    "    #------date_posted-----    \n",
    "    date_posted=info_of_job[2].text\n",
    "    if date_posted=='αναρτήθηκε σήμερα':    \n",
    "        # get the date and time now\n",
    "        now = datetime.now()\n",
    "        date_posted = now.strftime(\"%d/%m/%Y\")\n",
    "    elif date_posted=='αναρτήθηκε χθές':\n",
    "        # get the date and time now\n",
    "        now = datetime.now()\n",
    "        date_posted=(now - timedelta(hours=24)).strftime(\"%d/%m/%Y\")\n",
    "    else:\n",
    "        try:\n",
    "            Posted_days=int(re.findall(r'[0-9]+', date_posted)[0])\n",
    "            # get the date and time now\n",
    "            now = datetime.now()\n",
    "            date_posted=(now + timedelta(days=Posted_days)).strftime(\"%d/%m/%Y\")\n",
    "        except:\n",
    "            pass\n",
    "    #----------------------\n",
    "    \n",
    "    #------expire_date-----   \n",
    "    expire_date=info_of_job[4].text\n",
    "    try:\n",
    "\n",
    "        expire_days=int(re.findall(r'[0-9]+', expire_date)[0])\n",
    "        # get the date and time now\n",
    "        now = datetime.now()\n",
    "        expire_date=(now + timedelta(days=expire_days)).strftime(\"%d/%m/%Y\")\n",
    "    except:\n",
    "        pass\n",
    "    #----------------------\n",
    "    \n",
    "    #---------views--------   \n",
    "    views=int(info_of_job[5].text)\n",
    "    #----------------------\n",
    "    \n",
    "    #------type_of_job-----   \n",
    "    type_of_employment=specificjob1[0].text\n",
    "    try:\n",
    "        if type_of_employment[:18]=='ΤΥΠΟΣ ΑΠΑΣΧΟΛΗΣΗΣ:':\n",
    "            type_of_employment=type_of_employment[19:]\n",
    "    except:\n",
    "        pass\n",
    "    #----------------------\n",
    "    \n",
    "    #---------employment_sector--------   \n",
    "    employment_sector=specificjob1[1].text\n",
    "    try:\n",
    "        if employment_sector[:19]=='ΚΛΑΔΟΣ ΑΠΑΣΧΟΛΗΣΗΣ:':\n",
    "            employment_sector=employment_sector[20:]\n",
    "    except:\n",
    "        pass\n",
    "    #----------------------------------\n",
    "    \n",
    "    #-------------publisher------------   \n",
    "    publisher=specificjob[1].text\n",
    "    try:\n",
    "        if publisher[:18]=='ΔΗΜΟΣΙΟΠΟΙΗΣΗ ΑΠΟ:':\n",
    "            publisher=publisher[19:]\n",
    "    except:\n",
    "        pass\n",
    "    #----------------------------------\n",
    "    \n",
    "    #-------------category-------------   \n",
    "    category=specificjob[0].text\n",
    "    try:\n",
    "        if category[:22]=='ΚΑΤΗΓΟΡΙΑ ΑΠΑΣΧΟΛΗΣΗΣ:':\n",
    "            category=category[23:]\n",
    "    except:\n",
    "        pass\n",
    "    #----------------------------------\n",
    "    \n",
    "    \n",
    "    \n",
    "    print(f\"titleofjob={titleofjob}\\nrefernce_number={refernce_number}\\ncity={city}\\ndate_posted={date_posted}\\nexpire_date={expire_date}\\nviews={views}\\ntype_of_employment={type_of_employment}\\nemployment_sector={employment_sector}\\npublisher={publisher}\\ncategory={category}\")\n",
    "\n",
    "    return (titleofjob, refernce_number, city, date_posted, expire_date, views, type_of_employment, employment_sector, publisher, category)\n"
   ]
  },
  {
   "cell_type": "markdown",
   "metadata": {},
   "source": [
    " # ------------------------------------------------------------------------------"
   ]
  },
  {
   "cell_type": "markdown",
   "metadata": {},
   "source": [
    "### OPEN THE SITE"
   ]
  },
  {
   "cell_type": "code",
   "execution_count": 177,
   "metadata": {},
   "outputs": [
    {
     "name": "stdout",
     "output_type": "stream",
     "text": [
      "Ergodotisi.com - Θέσεις εργασίας στην Κύπρο\n",
      "Runtime of the program is 9.622676372528076\n"
     ]
    }
   ],
   "source": [
    "start = time.time()\n",
    "\n",
    "url = \"https://www.ergodotisi.com/\"\n",
    "driver=opensite(url)\n",
    "\n",
    "end = time.time()\n",
    "print(f\"Runtime of the program is {end - start}\")"
   ]
  },
  {
   "cell_type": "markdown",
   "metadata": {},
   "source": [
    "### Click Αναζητηση Εργασιας"
   ]
  },
  {
   "cell_type": "code",
   "execution_count": 6,
   "metadata": {},
   "outputs": [],
   "source": [
    "\n",
    "sleep(random.uniform(0, 1))\n",
    "SearchButton= WebDriverWait(driver,3).until(EC.element_to_be_clickable((By.CSS_SELECTOR,\"input[name='ctl00$ContentplaceholderMenu$ASPxButton1']\")))\n",
    "SearchButton.click()"
   ]
  },
  {
   "cell_type": "markdown",
   "metadata": {},
   "source": [
    "### Put all job in the page"
   ]
  },
  {
   "cell_type": "code",
   "execution_count": 7,
   "metadata": {},
   "outputs": [
    {
     "name": "stdout",
     "output_type": "stream",
     "text": [
      "Runtime of the program is 363.526620388031\n"
     ]
    }
   ],
   "source": [
    "start = time.time()\n",
    "\n",
    "All_Jobs_to_me(driver)\n",
    "\n",
    "#sometimes appear !!\n",
    "for check in range(3):\n",
    "    try:\n",
    "        driverjob.find_element_by_xpath(\"//*[contains(text(), 'Οχι')]\").click()\n",
    "        break\n",
    "    except:        \n",
    "        sleep(random.uniform(0,0.5))\n",
    "        continue\n",
    "\n",
    "end = time.time()\n",
    "print(f\"Runtime of the program is {end - start}\")"
   ]
  },
  {
   "cell_type": "markdown",
   "metadata": {},
   "source": [
    "### How many jobs have the site"
   ]
  },
  {
   "cell_type": "code",
   "execution_count": 12,
   "metadata": {},
   "outputs": [
    {
     "name": "stdout",
     "output_type": "stream",
     "text": [
      "1000\n"
     ]
    }
   ],
   "source": [
    "\n",
    "tableJobs=driver.find_element_by_id(\"ctl00_ContentplaceholderSubMenu_ASPxCallbackPanel1_ASPxDataView2_ICell\")\n",
    "ListOfJobs=tableJobs.find_elements_by_tag_name(\"tr\")\n",
    "print(len(ListOfJobs))"
   ]
  },
  {
   "cell_type": "markdown",
   "metadata": {},
   "source": [
    "### number of job for each city"
   ]
  },
  {
   "cell_type": "code",
   "execution_count": 13,
   "metadata": {},
   "outputs": [
    {
     "name": "stdout",
     "output_type": "stream",
     "text": [
      "2170\n"
     ]
    }
   ],
   "source": [
    "numJob=int(driver.find_element_by_id(\"ctl00_ContentplaceholderSubMenu_ASPxCallbackPanel1_resultscount\").text)\n",
    "print(numJob)"
   ]
  },
  {
   "cell_type": "markdown",
   "metadata": {},
   "source": [
    "### Get the links of jobs"
   ]
  },
  {
   "cell_type": "code",
   "execution_count": 14,
   "metadata": {},
   "outputs": [
    {
     "name": "stderr",
     "output_type": "stream",
     "text": [
      "100%|██████████| 1000/1000 [00:11<00:00, 85.74it/s]\n"
     ]
    }
   ],
   "source": [
    "# Get the links of jobs\n",
    "linksjobs=[]\n",
    "for job in tqdm(ListOfJobs):\n",
    "    linksjobs.append(job.find_element_by_tag_name(\"a\").get_attribute('href'))"
   ]
  },
  {
   "cell_type": "markdown",
   "metadata": {},
   "source": [
    "### Create a df"
   ]
  },
  {
   "cell_type": "code",
   "execution_count": 179,
   "metadata": {},
   "outputs": [
    {
     "data": {
      "text/html": [
       "<div>\n",
       "<style scoped>\n",
       "    .dataframe tbody tr th:only-of-type {\n",
       "        vertical-align: middle;\n",
       "    }\n",
       "\n",
       "    .dataframe tbody tr th {\n",
       "        vertical-align: top;\n",
       "    }\n",
       "\n",
       "    .dataframe thead th {\n",
       "        text-align: right;\n",
       "    }\n",
       "</style>\n",
       "<table border=\"1\" class=\"dataframe\">\n",
       "  <thead>\n",
       "    <tr style=\"text-align: right;\">\n",
       "      <th></th>\n",
       "      <th>title_of_job</th>\n",
       "      <th>refernce_number</th>\n",
       "      <th>city</th>\n",
       "      <th>date_posted</th>\n",
       "      <th>expire_date</th>\n",
       "      <th>views</th>\n",
       "      <th>type_of_employment</th>\n",
       "      <th>employment_sector</th>\n",
       "      <th>publisher</th>\n",
       "      <th>category</th>\n",
       "    </tr>\n",
       "  </thead>\n",
       "  <tbody>\n",
       "  </tbody>\n",
       "</table>\n",
       "</div>"
      ],
      "text/plain": [
       "Empty DataFrame\n",
       "Columns: [title_of_job, refernce_number, city, date_posted, expire_date, views, type_of_employment, employment_sector, publisher, category]\n",
       "Index: []"
      ]
     },
     "execution_count": 179,
     "metadata": {},
     "output_type": "execute_result"
    }
   ],
   "source": [
    "cols = [\n",
    "    'title_of_job', 'refernce_number', 'city', \n",
    "    'date_posted', 'expire_date', 'views',\n",
    "    'type_of_employment', 'employment_sector', \n",
    "    'publisher', 'category'\n",
    "\n",
    "]\n",
    "df = pd.DataFrame(columns=cols)\n",
    "df"
   ]
  },
  {
   "cell_type": "markdown",
   "metadata": {},
   "source": [
    "### Extract specific data from each url"
   ]
  },
  {
   "cell_type": "code",
   "execution_count": 180,
   "metadata": {},
   "outputs": [
    {
     "name": "stderr",
     "output_type": "stream",
     "text": [
      "\r",
      "  0%|          | 0/1000 [00:00<?, ?it/s]"
     ]
    },
    {
     "name": "stdout",
     "output_type": "stream",
     "text": [
      "Γραμματέας - MESITIS REAL ESTATE AGENTS LTD\n",
      "titleofjob=Γραμματέας\n",
      "refernce_number=148792\n",
      "city=Λευκωσία\n",
      "date_posted=31/08/2021\n",
      "expire_date=27/09/2021\n",
      "views=469\n",
      "type_of_employment=Πλήρης\n",
      "employment_sector=Κτηματομεσιτικά γραφεία\n",
      "publisher=Ιδιωτική Εταιρεία (LTD)\n",
      "category=Γραμματειακά, Εξυπηρέτηση Πελατών, Λογιστές\n"
     ]
    },
    {
     "name": "stderr",
     "output_type": "stream",
     "text": [
      "\r",
      "  0%|          | 1/1000 [00:14<4:02:21, 14.56s/it]"
     ]
    },
    {
     "name": "stdout",
     "output_type": "stream",
     "text": [
      "Systems Engineer - NewCytech Business Solutions - Nicosia & Limassol - Logicom Public Ltd\n",
      "titleofjob=Systems Engineer - NewCytech Business Solutions - Nicosia & Limassol\n",
      "refernce_number=148797\n",
      "city=Λεμεσός, Λευκωσία\n",
      "date_posted=31/08/2021\n",
      "expire_date=27/09/2021\n",
      "views=159\n",
      "type_of_employment=Πλήρης\n",
      "employment_sector=Πληροφορική\n",
      "publisher=Δημόσια Εταιρεία (PLC)\n",
      "category=Πληροφορική\n"
     ]
    },
    {
     "name": "stderr",
     "output_type": "stream",
     "text": [
      "\r",
      "  0%|          | 2/1000 [00:29<4:03:05, 14.61s/it]"
     ]
    },
    {
     "name": "stdout",
     "output_type": "stream",
     "text": [
      "Senior Accountant - MSEA MANAGEMENT LIMITED\n",
      "titleofjob=Senior Accountant\n",
      "refernce_number=148790\n",
      "city=Λεμεσός\n",
      "date_posted=31/08/2021\n",
      "expire_date=27/09/2021\n",
      "views=311\n",
      "type_of_employment=Πλήρης\n",
      "employment_sector=Λογιστικά / Ελεγκτικά γραφεία\n",
      "publisher=Ιδιωτική Εταιρεία (LTD)\n",
      "category=Λογιστές, Οικονομολόγοι, Χρηματοοικονομικά/Χρηματοπιστωτικά\n"
     ]
    },
    {
     "name": "stderr",
     "output_type": "stream",
     "text": [
      "\r",
      "  0%|          | 3/1000 [00:43<4:00:10, 14.45s/it]"
     ]
    },
    {
     "name": "stdout",
     "output_type": "stream",
     "text": [
      "Web Developer: Nicosia, Cyprus - 3CX\n",
      "titleofjob=Web Developer: Nicosia, Cyprus\n",
      "refernce_number=148788\n",
      "city=Λευκωσία\n",
      "date_posted=31/08/2021\n",
      "expire_date=27/09/2021\n",
      "views=191\n",
      "type_of_employment=Πλήρης\n",
      "employment_sector=Τηλεπικοινωνία / Internet\n",
      "publisher=Ιδιωτική Εταιρεία (LTD)\n",
      "category=Πληροφορική\n"
     ]
    },
    {
     "name": "stderr",
     "output_type": "stream",
     "text": [
      "\r",
      "  0%|          | 4/1000 [00:57<3:56:20, 14.24s/it]"
     ]
    },
    {
     "name": "stdout",
     "output_type": "stream",
     "text": [
      "IT Support Engineer - NewCytech Business Solutions - Logicom Public Ltd\n",
      "titleofjob=IT Support Engineer - NewCytech Business Solutions\n",
      "refernce_number=148796\n",
      "city=Λευκωσία\n",
      "date_posted=31/08/2021\n",
      "expire_date=27/09/2021\n",
      "views=103\n",
      "type_of_employment=Πλήρης\n",
      "employment_sector=Πληροφορική\n",
      "publisher=Ιδιωτική Εταιρεία (LTD)\n",
      "category=Πληροφορική\n"
     ]
    },
    {
     "name": "stderr",
     "output_type": "stream",
     "text": [
      "\r",
      "  0%|          | 5/1000 [01:12<4:02:13, 14.61s/it]"
     ]
    },
    {
     "name": "stdout",
     "output_type": "stream",
     "text": [
      "Εργάτες/τριες - D.ELLINAS HOLDING LTD\n",
      "titleofjob=Εργάτες/τριες\n",
      "refernce_number=148778\n",
      "city=Λεμεσός\n",
      "date_posted=31/08/2021\n",
      "expire_date=27/09/2021\n",
      "views=278\n",
      "type_of_employment=Πλήρης\n",
      "employment_sector=Μη διαθέσιμο\n",
      "publisher=Ιδιωτική Εταιρεία (LTD)\n",
      "category=Εργάτες - Τεχνίτες\n"
     ]
    },
    {
     "name": "stderr",
     "output_type": "stream",
     "text": [
      "\r",
      "  1%|          | 6/1000 [01:28<4:06:36, 14.89s/it]"
     ]
    },
    {
     "name": "stdout",
     "output_type": "stream",
     "text": [
      ".NET C# Developer: Nicosia, Cyprus - 3CX\n",
      "titleofjob=.NET C# Developer: Nicosia, Cyprus\n",
      "refernce_number=148784\n",
      "city=Λευκωσία\n",
      "date_posted=31/08/2021\n",
      "expire_date=27/09/2021\n",
      "views=85\n",
      "type_of_employment=Πλήρης\n",
      "employment_sector=Τηλεπικοινωνία / Internet\n",
      "publisher=Ιδιωτική Εταιρεία (LTD)\n",
      "category=Πληροφορική\n"
     ]
    },
    {
     "name": "stderr",
     "output_type": "stream",
     "text": [
      "\r",
      "  1%|          | 7/1000 [01:43<4:08:07, 14.99s/it]"
     ]
    },
    {
     "name": "stdout",
     "output_type": "stream",
     "text": [
      "Networking Engineer - Newcytech Business Solutions - Logicom Public Ltd\n",
      "titleofjob=Networking Engineer - Newcytech Business Solutions\n",
      "refernce_number=148795\n",
      "city=Λευκωσία\n",
      "date_posted=31/08/2021\n",
      "expire_date=27/09/2021\n",
      "views=57\n",
      "type_of_employment=Πλήρης\n",
      "employment_sector=Πληροφορική\n",
      "publisher=Δημόσια Εταιρεία (PLC)\n",
      "category=Πληροφορική\n"
     ]
    },
    {
     "name": "stderr",
     "output_type": "stream",
     "text": [
      "\r",
      "  1%|          | 8/1000 [01:57<4:04:46, 14.81s/it]"
     ]
    },
    {
     "name": "stdout",
     "output_type": "stream",
     "text": [
      "Android Developer: Nicosia, Cyprus - 3CX\n",
      "titleofjob=Android Developer: Nicosia, Cyprus\n",
      "refernce_number=148782\n",
      "city=Λευκωσία\n",
      "date_posted=31/08/2021\n",
      "expire_date=27/09/2021\n",
      "views=82\n",
      "type_of_employment=Πλήρης\n",
      "employment_sector=Τηλεπικοινωνία / Internet\n",
      "publisher=Ιδιωτική Εταιρεία (LTD)\n",
      "category=Πληροφορική\n"
     ]
    },
    {
     "name": "stderr",
     "output_type": "stream",
     "text": [
      "\r",
      "  1%|          | 9/1000 [02:12<4:01:54, 14.65s/it]"
     ]
    },
    {
     "name": "stdout",
     "output_type": "stream",
     "text": [
      "Barista - DOMETICA LTD\n",
      "titleofjob=Barista\n",
      "refernce_number=148764\n",
      "city=Λευκωσία\n",
      "date_posted=31/08/2021\n",
      "expire_date=27/09/2021\n",
      "views=109\n",
      "type_of_employment=Πλήρης\n",
      "employment_sector=Εστιατόρια / Καφετέριες\n",
      "publisher=Ιδιωτική Εταιρεία (LTD)\n",
      "category=Υπάλληλοι HORECA, Baristas\n"
     ]
    },
    {
     "name": "stderr",
     "output_type": "stream",
     "text": [
      "\r",
      "  1%|          | 10/1000 [02:26<3:58:42, 14.47s/it]"
     ]
    },
    {
     "name": "stdout",
     "output_type": "stream",
     "text": [
      "iOS Developer: Nicosia, Cyprus - 3CX\n",
      "titleofjob=iOS Developer: Nicosia, Cyprus\n",
      "refernce_number=148783\n",
      "city=Λευκωσία\n",
      "date_posted=31/08/2021\n",
      "expire_date=27/09/2021\n",
      "views=67\n",
      "type_of_employment=Πλήρης\n",
      "employment_sector=Τηλεπικοινωνία / Internet\n",
      "publisher=Ιδιωτική Εταιρεία (LTD)\n",
      "category=Πληροφορική\n"
     ]
    },
    {
     "name": "stderr",
     "output_type": "stream",
     "text": [
      "\r",
      "  1%|          | 11/1000 [02:41<4:01:19, 14.64s/it]"
     ]
    },
    {
     "name": "stdout",
     "output_type": "stream",
     "text": [
      "Σερβιτόρους/Σερβιτόρες - To Tavernaki\n",
      "titleofjob=Σερβιτόρους/Σερβιτόρες\n",
      "refernce_number=148789\n",
      "city=Λευκωσία\n",
      "date_posted=31/08/2021\n",
      "expire_date=27/09/2021\n",
      "views=80\n",
      "type_of_employment=Πλήρη ή Μερική\n",
      "employment_sector=Εστιατόρια / Καφετέριες\n",
      "publisher=Ιδιωτική Εταιρεία (LTD)\n",
      "category=Υπάλληλοι HORECA, Σερβιτόροι\n"
     ]
    },
    {
     "name": "stderr",
     "output_type": "stream",
     "text": [
      "\r",
      "  1%|          | 12/1000 [02:55<3:58:21, 14.48s/it]"
     ]
    },
    {
     "name": "stdout",
     "output_type": "stream",
     "text": [
      "German Speaking Support Engineer: Nicosia, Cyprus / Hanover, Germany - 3CX\n",
      "titleofjob=German Speaking Support Engineer: Nicosia, Cyprus / Hanover, Germany\n",
      "refernce_number=148769\n",
      "city=Λευκωσία\n",
      "date_posted=31/08/2021\n",
      "expire_date=10/09/2021\n",
      "views=109\n",
      "type_of_employment=Πλήρης\n",
      "employment_sector=Τηλεπικοινωνία / Internet\n",
      "publisher=Ιδιωτική Εταιρεία (LTD)\n",
      "category=Εξυπηρέτηση Πελατών, Ξένες Γλώσσες / Μεταφραστές, Πληροφορική\n"
     ]
    },
    {
     "name": "stderr",
     "output_type": "stream",
     "text": [
      "\r",
      "  1%|▏         | 13/1000 [03:09<3:55:57, 14.34s/it]"
     ]
    },
    {
     "name": "stdout",
     "output_type": "stream",
     "text": [
      "French Speaking Support Engineer: Nicosia, Cyprus - 3CX\n",
      "titleofjob=French Speaking Support Engineer: Nicosia, Cyprus\n",
      "refernce_number=148773\n",
      "city=Λευκωσία\n",
      "date_posted=31/08/2021\n",
      "expire_date=10/09/2021\n",
      "views=74\n",
      "type_of_employment=Πλήρης\n",
      "employment_sector=Τηλεπικοινωνία / Internet\n",
      "publisher=Ιδιωτική Εταιρεία (LTD)\n",
      "category=Εξυπηρέτηση Πελατών, Ξένες Γλώσσες / Μεταφραστές, Πληροφορική\n"
     ]
    },
    {
     "name": "stderr",
     "output_type": "stream",
     "text": [
      "\r",
      "  1%|▏         | 14/1000 [03:22<3:52:51, 14.17s/it]"
     ]
    },
    {
     "name": "stdout",
     "output_type": "stream",
     "text": [
      "Norwegian Customer Support Agent - Brainrocket\n",
      "titleofjob=Norwegian Customer Support Agent\n",
      "refernce_number=148768\n",
      "city=Λεμεσός\n",
      "date_posted=31/08/2021\n",
      "expire_date=27/09/2021\n",
      "views=63\n",
      "type_of_employment=Πλήρης\n",
      "employment_sector=Μη διαθέσιμο\n",
      "publisher=Ιδιωτική Εταιρεία (LTD)\n",
      "category=Εξυπηρέτηση Πελατών, Ξένες Γλώσσες / Μεταφραστές, Τηλεφωνητές\n"
     ]
    },
    {
     "name": "stderr",
     "output_type": "stream",
     "text": [
      "\r",
      "  2%|▏         | 15/1000 [03:36<3:48:07, 13.90s/it]"
     ]
    },
    {
     "name": "stdout",
     "output_type": "stream",
     "text": [
      "Ερευνητές / Ερευνήτριες - Cypronetwork Consultancy Group\n",
      "titleofjob=Ερευνητές / Ερευνήτριες\n",
      "refernce_number=148791\n",
      "city=Λεμεσός\n",
      "date_posted=31/08/2021\n",
      "expire_date=27/09/2021\n",
      "views=199\n",
      "type_of_employment=Πλήρης\n",
      "employment_sector=Μη διαθέσιμο\n",
      "publisher=Ιδιωτική Εταιρεία (LTD)\n",
      "category=Έρευνες / Ερωτηματολόγια, Τηλεφωνητές\n"
     ]
    },
    {
     "name": "stderr",
     "output_type": "stream",
     "text": [
      "\r",
      "  2%|▏         | 16/1000 [03:49<3:44:38, 13.70s/it]"
     ]
    },
    {
     "name": "stdout",
     "output_type": "stream",
     "text": [
      "Ταμίες Καταστήματος (Λεμεσός) - ITC PUBLICWORLD LTD\n",
      "titleofjob=Ταμίες Καταστήματος (Λεμεσός)\n",
      "refernce_number=148767\n",
      "city=Λεμεσός\n",
      "date_posted=31/08/2021\n",
      "expire_date=27/09/2021\n",
      "views=125\n",
      "type_of_employment=Πλήρη ή Μερική\n",
      "employment_sector=Λιανικό Εμπόριο\n",
      "publisher=Ιδιωτική Εταιρεία (LTD)\n",
      "category=Εξυπηρέτηση Πελατών, Ταμίες\n"
     ]
    },
    {
     "name": "stderr",
     "output_type": "stream",
     "text": [
      "\r",
      "  2%|▏         | 17/1000 [04:02<3:41:56, 13.55s/it]"
     ]
    },
    {
     "name": "stdout",
     "output_type": "stream",
     "text": [
      "Λογιστής / Λογίστρια - A.Tembriotis & Co Ltd\n",
      "titleofjob=Λογιστής / Λογίστρια\n",
      "refernce_number=148787\n",
      "city=Λευκωσία\n",
      "date_posted=31/08/2021\n",
      "expire_date=27/09/2021\n",
      "views=402\n",
      "type_of_employment=Πλήρης\n",
      "employment_sector=Λογιστικά / Ελεγκτικά γραφεία\n",
      "publisher=Ιδιωτική Εταιρεία (LTD)\n",
      "category=Λογιστές, Οικονομολόγοι, Χρηματοοικονομικά/Χρηματοπιστωτικά\n"
     ]
    },
    {
     "name": "stderr",
     "output_type": "stream",
     "text": [
      "\r",
      "  2%|▏         | 18/1000 [04:16<3:41:58, 13.56s/it]"
     ]
    },
    {
     "name": "stdout",
     "output_type": "stream",
     "text": [
      "Head of Compliance - The Luck Factory\n",
      "titleofjob=Head of Compliance\n",
      "refernce_number=148786\n",
      "city=Λεμεσός\n",
      "date_posted=31/08/2021\n",
      "expire_date=27/09/2021\n",
      "views=109\n",
      "type_of_employment=Πλήρης\n",
      "employment_sector=Καζίνο\n",
      "publisher=Ιδιωτική Εταιρεία (LTD)\n",
      "category=Δικηγόροι, Καζίνο\n"
     ]
    },
    {
     "name": "stderr",
     "output_type": "stream",
     "text": [
      "\r",
      "  2%|▏         | 19/1000 [04:29<3:38:20, 13.35s/it]"
     ]
    },
    {
     "name": "stdout",
     "output_type": "stream",
     "text": [
      "Συντηρητής/Συντηρήτρια Συσκευών Draught - Photos Photiades Distributors Ltd\n",
      "titleofjob=Συντηρητής/Συντηρήτρια Συσκευών Draught\n",
      "refernce_number=148766\n",
      "city=Λευκωσία\n",
      "date_posted=31/08/2021\n",
      "expire_date=27/09/2021\n",
      "views=154\n",
      "type_of_employment=Πλήρης\n",
      "employment_sector=Χοντρικό Εμπόριο\n",
      "publisher=Ιδιωτική Εταιρεία (LTD)\n",
      "category=Μηχανολόγοι Μηχανικοί, Ηλεκτρολόγοι Μηχανικοί\n"
     ]
    },
    {
     "name": "stderr",
     "output_type": "stream",
     "text": [
      "\r",
      "  2%|▏         | 20/1000 [04:42<3:37:50, 13.34s/it]"
     ]
    },
    {
     "name": "stdout",
     "output_type": "stream",
     "text": [
      "Event Planner - D.ELLINAS HOLDING LTD\n",
      "titleofjob=Event Planner\n",
      "refernce_number=148762\n",
      "city=Λεμεσός\n",
      "date_posted=31/08/2021\n",
      "expire_date=27/09/2021\n",
      "views=167\n",
      "type_of_employment=Πλήρης\n",
      "employment_sector=Μη διαθέσιμο\n",
      "publisher=Ιδιωτική Εταιρεία (LTD)\n",
      "category=Εξυπηρέτηση Πελατών, Μάρκετινγκ / Δημόσιες Σχέσεις\n"
     ]
    },
    {
     "name": "stderr",
     "output_type": "stream",
     "text": [
      "\r",
      "  2%|▏         | 21/1000 [04:57<3:46:54, 13.91s/it]"
     ]
    },
    {
     "name": "stdout",
     "output_type": "stream",
     "text": [
      "SDET Analyst - TSYS, A Global Payments company\n",
      "titleofjob=SDET Analyst\n",
      "refernce_number=148785\n",
      "city=Λευκωσία\n",
      "date_posted=31/08/2021\n",
      "expire_date=19/09/2021\n",
      "views=56\n",
      "type_of_employment=Πλήρης\n",
      "employment_sector=Πληροφορική\n",
      "publisher=Ιδιωτική Εταιρεία (LTD)\n",
      "category=Πληροφορική\n"
     ]
    },
    {
     "name": "stderr",
     "output_type": "stream",
     "text": [
      "\r",
      "  2%|▏         | 22/1000 [05:11<3:46:35, 13.90s/it]"
     ]
    },
    {
     "name": "stdout",
     "output_type": "stream",
     "text": [
      "Σύμβουλοι Μόδας (ERA Department Stores) - ERMES GROUP\n",
      "titleofjob=Σύμβουλοι Μόδας (ERA Department Stores)\n",
      "refernce_number=148765\n",
      "city=Λεμεσός, Λευκωσία, Λάρνακα\n",
      "date_posted=31/08/2021\n",
      "expire_date=27/09/2021\n",
      "views=270\n",
      "type_of_employment=Πλήρη ή Μερική\n",
      "employment_sector=Λιανικό Εμπόριο\n",
      "publisher=Δημόσια Εταιρεία (PLC)\n",
      "category=Εξυπηρέτηση Πελατών, Υπεραγορές - Πολυκαταστήματα, Πωλητές - Καταστήματα, Ρωσική γλώσσα\n"
     ]
    },
    {
     "name": "stderr",
     "output_type": "stream",
     "text": [
      "\r",
      "  2%|▏         | 23/1000 [05:26<3:49:54, 14.12s/it]"
     ]
    },
    {
     "name": "stdout",
     "output_type": "stream",
     "text": [
      "Trade Marketing Officer - Iakovos Photiades Foodstuff Suppliers Ltd\n",
      "titleofjob=Trade Marketing Officer\n",
      "refernce_number=148781\n",
      "city=Λευκωσία\n",
      "date_posted=31/08/2021\n",
      "expire_date=12/09/2021\n",
      "views=210\n",
      "type_of_employment=Πλήρης\n",
      "employment_sector=Χοντρικό Εμπόριο\n",
      "publisher=Ιδιωτική Εταιρεία (LTD)\n",
      "category=Διοίκηση επιχειρήσεων, Μάρκετινγκ / Δημόσιες Σχέσεις, Υπεύθυνοι Πωλήσεων\n"
     ]
    },
    {
     "name": "stderr",
     "output_type": "stream",
     "text": [
      "\r",
      "  2%|▏         | 24/1000 [05:40<3:49:18, 14.10s/it]"
     ]
    },
    {
     "name": "stdout",
     "output_type": "stream",
     "text": [
      "Ιατρικός/ή Επισκέπτης - P.T. HADJIGEORGIOU CO LTD\n",
      "titleofjob=Ιατρικός/ή Επισκέπτης\n",
      "refernce_number=148777\n",
      "city=Λεμεσός, Λευκωσία, Λάρνακα, Πάφος, Αμμόχωστος\n",
      "date_posted=31/08/2021\n",
      "expire_date=27/09/2021\n",
      "views=267\n",
      "type_of_employment=Πλήρης\n",
      "employment_sector=Φαρμακοβιομηχανίες\n",
      "publisher=Ιδιωτική Εταιρεία (LTD)\n",
      "category=Βιολόγοι, Φαρμακοποιοί, Ιατρικοί Επισκέπτες\n"
     ]
    },
    {
     "name": "stderr",
     "output_type": "stream",
     "text": [
      "\r",
      "  2%|▎         | 25/1000 [05:54<3:52:07, 14.28s/it]"
     ]
    },
    {
     "name": "stdout",
     "output_type": "stream",
     "text": [
      "Υπάλληλος Πλυντηρίου (Laundry Attendant) - Stademos Hotels Ltd\n",
      "titleofjob=Υπάλληλος Πλυντηρίου (Laundry Attendant)\n",
      "refernce_number=148742\n",
      "city=Πάφος\n",
      "date_posted=31/08/2021\n",
      "expire_date=15/09/2021\n",
      "views=138\n",
      "type_of_employment=Πλήρης\n",
      "employment_sector=Τουρισμός - Ξενοδοχεία\n",
      "publisher=Ιδιωτική Εταιρεία (LTD)\n",
      "category=Υπάλληλοι HORECA\n"
     ]
    },
    {
     "name": "stderr",
     "output_type": "stream",
     "text": [
      "\r",
      "  3%|▎         | 26/1000 [06:09<3:54:15, 14.43s/it]"
     ]
    },
    {
     "name": "stdout",
     "output_type": "stream",
     "text": [
      "Σύμβουλοι Πωλήσεων Τεχνολογίας (Λεμεσός) - ITC PUBLICWORLD LTD\n",
      "titleofjob=Σύμβουλοι Πωλήσεων Τεχνολογίας (Λεμεσός)\n",
      "refernce_number=148775\n",
      "city=Λεμεσός\n",
      "date_posted=31/08/2021\n",
      "expire_date=27/09/2021\n",
      "views=45\n",
      "type_of_employment=Πλήρη ή Μερική\n",
      "employment_sector=Λιανικό Εμπόριο\n",
      "publisher=Ιδιωτική Εταιρεία (LTD)\n",
      "category=Εξυπηρέτηση Πελατών, Σύμβουλοι Επιχειρήσεων\n"
     ]
    },
    {
     "name": "stderr",
     "output_type": "stream",
     "text": [
      "\r",
      "  3%|▎         | 27/1000 [06:23<3:51:03, 14.25s/it]"
     ]
    },
    {
     "name": "stdout",
     "output_type": "stream",
     "text": [
      "Russian Speaking Dispatcher - Lekkeran Car Hire LTD\n",
      "titleofjob=Russian Speaking Dispatcher\n",
      "refernce_number=148760\n",
      "city=Λάρνακα\n",
      "date_posted=31/08/2021\n",
      "expire_date=27/09/2021\n",
      "views=86\n",
      "type_of_employment=Πλήρης\n",
      "employment_sector=Μη διαθέσιμο\n",
      "publisher=Ιδιωτική Εταιρεία (LTD)\n",
      "category=Τηλεφωνητές, Ρωσική γλώσσα\n"
     ]
    },
    {
     "name": "stderr",
     "output_type": "stream",
     "text": [
      "\r",
      "  3%|▎         | 28/1000 [06:39<3:58:13, 14.70s/it]"
     ]
    },
    {
     "name": "stdout",
     "output_type": "stream",
     "text": [
      "Office Administrator - FINCAP Advisers Ltd\n",
      "titleofjob=Office Administrator\n",
      "refernce_number=148776\n",
      "city=Λευκωσία\n",
      "date_posted=31/08/2021\n",
      "expire_date=27/09/2021\n",
      "views=295\n",
      "type_of_employment=Πλήρης\n",
      "employment_sector=Μη διαθέσιμο\n",
      "publisher=Ιδιωτική Εταιρεία (LTD)\n",
      "category=Γραμματειακά, Διοίκηση επιχειρήσεων\n"
     ]
    },
    {
     "name": "stderr",
     "output_type": "stream",
     "text": [
      "\r",
      "  3%|▎         | 29/1000 [06:52<3:52:54, 14.39s/it]"
     ]
    },
    {
     "name": "stdout",
     "output_type": "stream",
     "text": [
      "Junior Sales General Assistant - RnR Marketing Ltd\n",
      "titleofjob=Junior Sales General Assistant\n",
      "refernce_number=148758\n",
      "city=Λεμεσός, Λάρνακα, Πάφος\n",
      "date_posted=31/08/2021\n",
      "expire_date=27/09/2021\n",
      "views=226\n",
      "type_of_employment=Πλήρη ή Μερική\n",
      "employment_sector=Μη διαθέσιμο\n",
      "publisher=Ιδιωτική Εταιρεία (LTD)\n",
      "category=Εξυπηρέτηση Πελατών, Μάρκετινγκ / Δημόσιες Σχέσεις, Υπεύθυνοι Πωλήσεων\n"
     ]
    },
    {
     "name": "stderr",
     "output_type": "stream",
     "text": [
      "\r",
      "  3%|▎         | 30/1000 [07:07<3:53:36, 14.45s/it]"
     ]
    },
    {
     "name": "stdout",
     "output_type": "stream",
     "text": [
      "Γραμματέας - MARINOS KINEYIROU ESTATE AGENCIES LTD\n",
      "titleofjob=Γραμματέας\n",
      "refernce_number=148388\n",
      "city=Λάρνακα\n",
      "date_posted=02/09/2021\n",
      "expire_date=25/09/2021\n",
      "views=1316\n",
      "type_of_employment=Πλήρης\n",
      "employment_sector=Κτηματομεσιτικά γραφεία\n",
      "publisher=Ιδιωτική Εταιρεία (LTD)\n",
      "category=Γραμματειακά, Ρωσική γλώσσα\n"
     ]
    },
    {
     "name": "stderr",
     "output_type": "stream",
     "text": [
      "\r",
      "  3%|▎         | 31/1000 [07:21<3:52:26, 14.39s/it]"
     ]
    },
    {
     "name": "stdout",
     "output_type": "stream",
     "text": [
      "Σύμβουλοι Πωλήσεων Πολιτισμού (Λεμεσός) - ITC PUBLICWORLD LTD\n",
      "titleofjob=Σύμβουλοι Πωλήσεων Πολιτισμού (Λεμεσός)\n",
      "refernce_number=148771\n",
      "city=Λεμεσός\n",
      "date_posted=31/08/2021\n",
      "expire_date=27/09/2021\n",
      "views=63\n",
      "type_of_employment=Πλήρη ή Μερική\n",
      "employment_sector=Λιανικό Εμπόριο\n",
      "publisher=Ιδιωτική Εταιρεία (LTD)\n",
      "category=Εξυπηρέτηση Πελατών, Σύμβουλοι Επιχειρήσεων\n"
     ]
    },
    {
     "name": "stderr",
     "output_type": "stream",
     "text": [
      "\r",
      "  3%|▎         | 32/1000 [07:35<3:49:24, 14.22s/it]"
     ]
    },
    {
     "name": "stdout",
     "output_type": "stream",
     "text": [
      "Πωλητές/τριες (Stylists) - OJO SUNGLASSES\n",
      "titleofjob=Πωλητές/τριες (Stylists)\n",
      "refernce_number=148770\n",
      "city=Λεμεσός, Λευκωσία\n",
      "date_posted=31/08/2021\n",
      "expire_date=27/09/2021\n",
      "views=147\n",
      "type_of_employment=Πλήρης\n",
      "employment_sector=Λιανικό Εμπόριο\n",
      "publisher=Ιδιωτική Εταιρεία (LTD)\n",
      "category=Εξυπηρέτηση Πελατών, Πωλητές - Καταστήματα\n"
     ]
    },
    {
     "name": "stderr",
     "output_type": "stream",
     "text": [
      "\r",
      "  3%|▎         | 33/1000 [07:49<3:45:21, 13.98s/it]"
     ]
    },
    {
     "name": "stdout",
     "output_type": "stream",
     "text": [
      "Επόπτες/τριες Ταμείων - JUMBO TRADING LTD\n",
      "titleofjob=Επόπτες/τριες Ταμείων\n",
      "refernce_number=148780\n",
      "city=Λεμεσός, Λευκωσία\n",
      "date_posted=31/08/2021\n",
      "expire_date=27/09/2021\n",
      "views=272\n",
      "type_of_employment=Πλήρης\n",
      "employment_sector=Λιανικό Εμπόριο\n",
      "publisher=Ιδιωτική Εταιρεία (LTD)\n",
      "category=Ταμίες\n"
     ]
    },
    {
     "name": "stderr",
     "output_type": "stream",
     "text": [
      "\r",
      "  3%|▎         | 34/1000 [08:03<3:48:24, 14.19s/it]"
     ]
    },
    {
     "name": "stdout",
     "output_type": "stream",
     "text": [
      "Food & Beverage Manager - Capital Coast Resort & Spa\n",
      "titleofjob=Food & Beverage Manager\n",
      "refernce_number=148779\n",
      "city=Πάφος\n",
      "date_posted=31/08/2021\n",
      "expire_date=27/09/2021\n",
      "views=112\n",
      "type_of_employment=Πλήρης\n",
      "employment_sector=Τουρισμός - Ξενοδοχεία\n",
      "publisher=Ιδιωτική Εταιρεία (LTD)\n",
      "category=Τουριστικές Σπουδές, Υπάλληλοι HORECA, Απόφοιτοι Ξενοδοχειακής Σχολής\n"
     ]
    },
    {
     "name": "stderr",
     "output_type": "stream",
     "text": [
      "\r",
      "  4%|▎         | 35/1000 [08:18<3:50:32, 14.33s/it]"
     ]
    },
    {
     "name": "stdout",
     "output_type": "stream",
     "text": [
      "Τεχνίτες/τριες (Τμήμα Συναρμολόγησης) - D.ELLINAS HOLDING LTD\n",
      "titleofjob=Τεχνίτες/τριες (Τμήμα Συναρμολόγησης)\n",
      "refernce_number=148750\n",
      "city=Λεμεσός\n",
      "date_posted=31/08/2021\n",
      "expire_date=27/09/2021\n",
      "views=79\n",
      "type_of_employment=Πλήρης\n",
      "employment_sector=Μη διαθέσιμο\n",
      "publisher=Ιδιωτική Εταιρεία (LTD)\n",
      "category=Τεχνικοί\n"
     ]
    },
    {
     "name": "stderr",
     "output_type": "stream",
     "text": [
      "\r",
      "  4%|▎         | 36/1000 [08:31<3:46:35, 14.10s/it]"
     ]
    },
    {
     "name": "stdout",
     "output_type": "stream",
     "text": [
      "Customer Support Agent (Italian Speaking) (5281) - CareerFinders Recruitment Services Ltd\n",
      "titleofjob=Customer Support Agent (Italian Speaking) (5281)\n",
      "refernce_number=148729\n",
      "city=Λευκωσία\n",
      "date_posted=31/08/2021\n",
      "expire_date=27/09/2021\n",
      "views=55\n",
      "type_of_employment=Πλήρης\n",
      "employment_sector=Forex\n",
      "publisher=Ιδιωτική Εταιρεία (LTD)\n",
      "category=Εξυπηρέτηση Πελατών, Ξένες Γλώσσες / Μεταφραστές, Forex\n"
     ]
    },
    {
     "name": "stderr",
     "output_type": "stream",
     "text": [
      "\r",
      "  4%|▎         | 37/1000 [08:46<3:48:00, 14.21s/it]"
     ]
    },
    {
     "name": "stdout",
     "output_type": "stream",
     "text": [
      "Εργάτης/τρια Ορόφων - Stademos Hotels Ltd\n",
      "titleofjob=Εργάτης/τρια Ορόφων\n",
      "refernce_number=148740\n",
      "city=Πάφος\n",
      "date_posted=31/08/2021\n",
      "expire_date=27/09/2021\n",
      "views=128\n",
      "type_of_employment=Πλήρης\n",
      "employment_sector=Τουρισμός - Ξενοδοχεία\n",
      "publisher=Ιδιωτική Εταιρεία (LTD)\n",
      "category=Υπάλληλοι HORECA, Καθαριστές / Καθαρίστριες\n"
     ]
    },
    {
     "name": "stderr",
     "output_type": "stream",
     "text": [
      "\r",
      "  4%|▍         | 38/1000 [09:01<3:50:26, 14.37s/it]"
     ]
    },
    {
     "name": "stdout",
     "output_type": "stream",
     "text": [
      "Crewing System Administrator - Uniteam Recruitment Services\n",
      "titleofjob=Crewing System Administrator\n",
      "refernce_number=148728\n",
      "city=Λεμεσός\n",
      "date_posted=31/08/2021\n",
      "expire_date=27/09/2021\n",
      "views=172\n",
      "type_of_employment=Πλήρης\n",
      "employment_sector=Ναυτιλιακές Εταιρείες\n",
      "publisher=Ιδιωτική Εταιρεία (LTD)\n",
      "category=Ναυτιλιακά, Πληροφορική\n"
     ]
    },
    {
     "name": "stderr",
     "output_type": "stream",
     "text": [
      "\r",
      "  4%|▍         | 39/1000 [09:14<3:46:04, 14.12s/it]"
     ]
    },
    {
     "name": "stdout",
     "output_type": "stream",
     "text": [
      "Διανομέας Τροφίμων - JANFOOD TRADING LIMITED\n",
      "titleofjob=Διανομέας Τροφίμων\n",
      "refernce_number=148726\n",
      "city=Λεμεσός, Λευκωσία, Λάρνακα, Αμμόχωστος\n",
      "date_posted=31/08/2021\n",
      "expire_date=27/09/2021\n",
      "views=592\n",
      "type_of_employment=Πλήρης\n",
      "employment_sector=Χοντρικό Εμπόριο\n",
      "publisher=Ιδιωτική Εταιρεία (LTD)\n",
      "category=Διανομείς, Οδηγοί\n"
     ]
    },
    {
     "name": "stderr",
     "output_type": "stream",
     "text": [
      "\r",
      "  4%|▍         | 40/1000 [09:28<3:44:14, 14.02s/it]"
     ]
    },
    {
     "name": "stdout",
     "output_type": "stream",
     "text": [
      "Μοριακός Βιολόγος - Christos M. Triantafyllides Law Firm\n",
      "titleofjob=Μοριακός Βιολόγος\n",
      "refernce_number=148708\n",
      "city=Λευκωσία\n",
      "date_posted=31/08/2021\n",
      "expire_date=27/09/2021\n",
      "views=161\n",
      "type_of_employment=Πλήρης\n",
      "employment_sector=Μη διαθέσιμο\n",
      "publisher=Ιδιωτική Εταιρεία (LTD)\n",
      "category=Βιολόγοι\n"
     ]
    },
    {
     "name": "stderr",
     "output_type": "stream",
     "text": [
      "\r",
      "  4%|▍         | 41/1000 [09:42<3:45:23, 14.10s/it]"
     ]
    },
    {
     "name": "stdout",
     "output_type": "stream",
     "text": [
      "Office Administrator (5283) - CareerFinders Recruitment Services Ltd\n",
      "titleofjob=Office Administrator (5283)\n",
      "refernce_number=148725\n",
      "city=Λευκωσία\n",
      "date_posted=31/08/2021\n",
      "expire_date=27/09/2021\n",
      "views=191\n",
      "type_of_employment=Πλήρης\n",
      "employment_sector=Λογιστικά / Ελεγκτικά γραφεία\n",
      "publisher=Ιδιωτική Εταιρεία (LTD)\n",
      "category=Γραμματειακά, Διοίκηση επιχειρήσεων\n"
     ]
    },
    {
     "name": "stderr",
     "output_type": "stream",
     "text": [
      "\r",
      "  4%|▍         | 42/1000 [09:56<3:45:39, 14.13s/it]"
     ]
    },
    {
     "name": "stdout",
     "output_type": "stream",
     "text": [
      "Νταντά - Φυσικό Πρόσωπο ΑΔ\n",
      "titleofjob=Νταντά\n",
      "refernce_number=148689\n",
      "city=Λευκωσία\n",
      "date_posted=31/08/2021\n",
      "expire_date=27/09/2021\n",
      "views=275\n",
      "type_of_employment=Μερική\n",
      "employment_sector=Μη διαθέσιμο\n",
      "publisher=Φυσικό Πρόσωπο\n",
      "category=Δάσκαλοι, Γκουβερνάντες\n"
     ]
    },
    {
     "name": "stderr",
     "output_type": "stream",
     "text": [
      "\r",
      "  4%|▍         | 43/1000 [10:11<3:45:16, 14.12s/it]"
     ]
    },
    {
     "name": "stdout",
     "output_type": "stream",
     "text": [
      "Μάγειρας / Μαγείρισσα - T.he Italian Taste Co Ltd\n",
      "titleofjob=Μάγειρας / Μαγείρισσα\n",
      "refernce_number=148739\n",
      "city=Λάρνακα\n",
      "date_posted=31/08/2021\n",
      "expire_date=27/09/2021\n",
      "views=86\n",
      "type_of_employment=Πλήρη ή Μερική\n",
      "employment_sector=Εστιατόρια / Καφετέριες\n",
      "publisher=Ιδιωτική Εταιρεία (LTD)\n",
      "category=Υπάλληλοι HORECA, Μάγειρες / Ζαχαροπλάστες\n"
     ]
    },
    {
     "name": "stderr",
     "output_type": "stream",
     "text": [
      "\r",
      "  4%|▍         | 44/1000 [10:25<3:48:29, 14.34s/it]"
     ]
    },
    {
     "name": "stdout",
     "output_type": "stream",
     "text": [
      "Corporate Administrator (5282) - CareerFinders Recruitment Services Ltd\n",
      "titleofjob=Corporate Administrator (5282)\n",
      "refernce_number=148722\n",
      "city=Λευκωσία\n",
      "date_posted=31/08/2021\n",
      "expire_date=27/09/2021\n",
      "views=110\n",
      "type_of_employment=Πλήρης\n",
      "employment_sector=Σύμβουλοι Επιχειρήσεων\n",
      "publisher=Ιδιωτική Εταιρεία (LTD)\n",
      "category=Γραμματειακά, Δικηγόροι\n"
     ]
    },
    {
     "name": "stderr",
     "output_type": "stream",
     "text": [
      "\r",
      "  4%|▍         | 45/1000 [10:39<3:45:47, 14.19s/it]"
     ]
    },
    {
     "name": "stdout",
     "output_type": "stream",
     "text": [
      "Claims Agent / Health Professional (Dual Role) - INFOCREDIT SPV\n",
      "titleofjob=Claims Agent / Health Professional (Dual Role)\n",
      "refernce_number=148541\n",
      "city=Λευκωσία\n",
      "date_posted=31/08/2021\n",
      "expire_date=27/09/2021\n",
      "views=154\n",
      "type_of_employment=Πλήρης\n",
      "employment_sector=Ασφαλιστικές εταιρείες\n",
      "publisher=Ιδιωτική Εταιρεία (LTD)\n",
      "category=Βιολόγοι, Νοσηλευτές, Ιατρικοί Επισκέπτες\n"
     ]
    },
    {
     "name": "stderr",
     "output_type": "stream",
     "text": [
      "\r",
      "  5%|▍         | 46/1000 [10:53<3:43:18, 14.04s/it]"
     ]
    },
    {
     "name": "stdout",
     "output_type": "stream",
     "text": [
      "Assistant Store Managers – UNDIZ (Nicosia/Limassol) - VOICI LA MODE GROUP\n",
      "titleofjob=Assistant Store Managers – UNDIZ (Nicosia/Limassol)\n",
      "refernce_number=148721\n",
      "city=Λεμεσός, Λευκωσία\n",
      "date_posted=31/08/2021\n",
      "expire_date=27/09/2021\n",
      "views=118\n",
      "type_of_employment=Πλήρης\n",
      "employment_sector=Λιανικό Εμπόριο\n",
      "publisher=Ιδιωτική Εταιρεία (LTD)\n",
      "category=Διοίκηση επιχειρήσεων, Υπεραγορές - Πολυκαταστήματα, Πωλητές - Καταστήματα\n"
     ]
    },
    {
     "name": "stderr",
     "output_type": "stream",
     "text": [
      "\r",
      "  5%|▍         | 47/1000 [11:16<4:24:43, 16.67s/it]"
     ]
    },
    {
     "name": "stdout",
     "output_type": "stream",
     "text": [
      "Waiter/Waitress - Stademos Hotels Ltd\n",
      "titleofjob=Waiter/Waitress\n",
      "refernce_number=148738\n",
      "city=Πάφος\n",
      "date_posted=31/08/2021\n",
      "expire_date=15/09/2021\n",
      "views=67\n",
      "type_of_employment=Πλήρης\n",
      "employment_sector=Τουρισμός - Ξενοδοχεία\n",
      "publisher=Ιδιωτική Εταιρεία (LTD)\n",
      "category=Υπάλληλοι HORECA, Σερβιτόροι\n"
     ]
    },
    {
     "name": "stderr",
     "output_type": "stream",
     "text": [
      "\r",
      "  5%|▍         | 48/1000 [11:29<4:09:27, 15.72s/it]"
     ]
    },
    {
     "name": "stdout",
     "output_type": "stream",
     "text": [
      "IT Help Desk Support Officer - UPCOMINDS\n",
      "titleofjob=IT Help Desk Support Officer\n",
      "refernce_number=148718\n",
      "city=Λευκωσία\n",
      "date_posted=31/08/2021\n",
      "expire_date=27/09/2021\n",
      "views=105\n",
      "type_of_employment=Πλήρης\n",
      "employment_sector=Πληροφορική\n",
      "publisher=Ιδιωτική Εταιρεία (LTD)\n",
      "category=Πληροφορική\n"
     ]
    },
    {
     "name": "stderr",
     "output_type": "stream",
     "text": [
      "\r",
      "  5%|▍         | 49/1000 [11:44<4:04:30, 15.43s/it]"
     ]
    },
    {
     "name": "stdout",
     "output_type": "stream",
     "text": [
      "Λειτουργός Εξυπηρέτησης Πελατών - EASY-BETUP LTD\n",
      "titleofjob=Λειτουργός Εξυπηρέτησης Πελατών\n",
      "refernce_number=148554\n",
      "city=Λευκωσία\n",
      "date_posted=31/08/2021\n",
      "expire_date=27/09/2021\n",
      "views=159\n",
      "type_of_employment=Πλήρη ή Μερική\n",
      "employment_sector=Εταιρείες Στοιχημάτων\n",
      "publisher=Ιδιωτική Εταιρεία (LTD)\n",
      "category=Εξυπηρέτηση Πελατών, Πωλητές - Καταστήματα\n"
     ]
    },
    {
     "name": "stderr",
     "output_type": "stream",
     "text": [
      "\r",
      "  5%|▌         | 50/1000 [11:58<3:58:24, 15.06s/it]"
     ]
    },
    {
     "name": "stdout",
     "output_type": "stream",
     "text": [
      "Compliance Officer - CORPFLOW LTD\n",
      "titleofjob=Compliance Officer\n",
      "refernce_number=148717\n",
      "city=Λεμεσός\n",
      "date_posted=31/08/2021\n",
      "expire_date=27/09/2021\n",
      "views=128\n",
      "type_of_employment=Πλήρης\n",
      "employment_sector=Μη διαθέσιμο\n",
      "publisher=Ιδιωτική Εταιρεία (LTD)\n",
      "category=Λογιστές, Δικηγόροι, Ρωσική γλώσσα\n"
     ]
    },
    {
     "name": "stderr",
     "output_type": "stream",
     "text": [
      "\r",
      "  5%|▌         | 51/1000 [12:13<3:55:13, 14.87s/it]"
     ]
    },
    {
     "name": "stdout",
     "output_type": "stream",
     "text": [
      "Service Engineer - ECLAT ENTERPRISES LTD\n",
      "titleofjob=Service Engineer\n",
      "refernce_number=148716\n",
      "city=Λευκωσία\n",
      "date_posted=31/08/2021\n",
      "expire_date=27/09/2021\n",
      "views=83\n",
      "type_of_employment=Πλήρης\n",
      "employment_sector=Μηχανολογικές Εργασίες\n",
      "publisher=Ιδιωτική Εταιρεία (LTD)\n",
      "category=Χημικοί, Χημικοί Μηχανικοί\n"
     ]
    },
    {
     "name": "stderr",
     "output_type": "stream",
     "text": [
      "\r",
      "  5%|▌         | 52/1000 [12:27<3:50:23, 14.58s/it]"
     ]
    },
    {
     "name": "stdout",
     "output_type": "stream",
     "text": [
      "Junior IT Administrator - Meritkapital Limited\n",
      "titleofjob=Junior IT Administrator\n",
      "refernce_number=148302\n",
      "city=Λεμεσός\n",
      "date_posted=31/08/2021\n",
      "expire_date=27/09/2021\n",
      "views=107\n",
      "type_of_employment=Πλήρης\n",
      "employment_sector=Τράπεζες / Χρηματοπιστωτικά Ιδρύματα\n",
      "publisher=Ιδιωτική Εταιρεία (LTD)\n",
      "category=Πληροφορική\n"
     ]
    },
    {
     "name": "stderr",
     "output_type": "stream",
     "text": [
      "\r",
      "  5%|▌         | 53/1000 [12:41<3:49:13, 14.52s/it]"
     ]
    },
    {
     "name": "stdout",
     "output_type": "stream",
     "text": [
      "Διανομέας (Courier) - Primewell Management Ltd\n",
      "titleofjob=Διανομέας (Courier)\n",
      "refernce_number=148754\n",
      "city=Λεμεσός, Πάφος\n",
      "date_posted=31/08/2021\n",
      "expire_date=27/09/2021\n",
      "views=356\n",
      "type_of_employment=Πλήρης\n",
      "employment_sector=Μη διαθέσιμο\n",
      "publisher=Ιδιωτική Εταιρεία (LTD)\n",
      "category=Διανομείς, Μεταφορές / Logistics\n"
     ]
    },
    {
     "name": "stderr",
     "output_type": "stream",
     "text": [
      "\r",
      "  5%|▌         | 54/1000 [12:55<3:48:01, 14.46s/it]"
     ]
    },
    {
     "name": "stdout",
     "output_type": "stream",
     "text": [
      "Pool Attendant - Stademos Hotels Ltd\n",
      "titleofjob=Pool Attendant\n",
      "refernce_number=148735\n",
      "city=Πάφος\n",
      "date_posted=31/08/2021\n",
      "expire_date=27/09/2021\n",
      "views=63\n",
      "type_of_employment=Πλήρης\n",
      "employment_sector=Τουρισμός - Ξενοδοχεία\n",
      "publisher=Ιδιωτική Εταιρεία (LTD)\n",
      "category=Υπάλληλοι HORECA, Ναυαγοσώστες\n"
     ]
    },
    {
     "name": "stderr",
     "output_type": "stream",
     "text": [
      "\r",
      "  6%|▌         | 55/1000 [13:09<3:44:11, 14.23s/it]"
     ]
    },
    {
     "name": "stdout",
     "output_type": "stream",
     "text": [
      "Junior Accountant (5284) - CareerFinders Recruitment Services Ltd\n",
      "titleofjob=Junior Accountant (5284)\n",
      "refernce_number=148759\n",
      "city=Λευκωσία\n",
      "date_posted=31/08/2021\n",
      "expire_date=27/09/2021\n",
      "views=86\n",
      "type_of_employment=Πλήρης\n",
      "employment_sector=Λογιστικά / Ελεγκτικά γραφεία\n",
      "publisher=Ιδιωτική Εταιρεία (LTD)\n",
      "category=Λογιστές\n"
     ]
    },
    {
     "name": "stderr",
     "output_type": "stream",
     "text": [
      "\r",
      "  6%|▌         | 56/1000 [13:23<3:41:36, 14.08s/it]"
     ]
    },
    {
     "name": "stdout",
     "output_type": "stream",
     "text": [
      "Receptionist - Stademos Hotels Ltd\n",
      "titleofjob=Receptionist\n",
      "refernce_number=148734\n",
      "city=Πάφος\n",
      "date_posted=31/08/2021\n",
      "expire_date=15/09/2021\n",
      "views=200\n",
      "type_of_employment=Πλήρης\n",
      "employment_sector=Τουρισμός - Ξενοδοχεία\n",
      "publisher=Ιδιωτική Εταιρεία (LTD)\n",
      "category=Γραμματειακά, Υπάλληλοι HORECA, Απόφοιτοι Ξενοδοχειακής Σχολής\n"
     ]
    },
    {
     "name": "stderr",
     "output_type": "stream",
     "text": [
      "\r",
      "  6%|▌         | 57/1000 [13:37<3:40:47, 14.05s/it]"
     ]
    },
    {
     "name": "stdout",
     "output_type": "stream",
     "text": [
      "Βοηθός Αποθήκης - PHC Franchised Restaurants Public Ltd\n",
      "titleofjob=Βοηθός Αποθήκης\n",
      "refernce_number=148747\n",
      "city=Λευκωσία\n",
      "date_posted=31/08/2021\n",
      "expire_date=27/09/2021\n",
      "views=205\n",
      "type_of_employment=Πλήρης\n",
      "employment_sector=Εστιατόρια / Καφετέριες\n",
      "publisher=Ιδιωτική Εταιρεία (LTD)\n",
      "category=Αποθηκάριοι\n"
     ]
    },
    {
     "name": "stderr",
     "output_type": "stream",
     "text": [
      "\r",
      "  6%|▌         | 58/1000 [13:52<3:47:40, 14.50s/it]"
     ]
    },
    {
     "name": "stdout",
     "output_type": "stream",
     "text": [
      "Store Manager – UNDIZ (Nicosia/Limassol) - VOICI LA MODE GROUP\n",
      "titleofjob=Store Manager – UNDIZ (Nicosia/Limassol)\n",
      "refernce_number=148714\n",
      "city=Λεμεσός, Λευκωσία\n",
      "date_posted=31/08/2021\n",
      "expire_date=27/09/2021\n",
      "views=111\n",
      "type_of_employment=Πλήρης\n",
      "employment_sector=Λιανικό Εμπόριο\n",
      "publisher=Ιδιωτική Εταιρεία (LTD)\n",
      "category=Διοίκηση επιχειρήσεων, Υπεραγορές - Πολυκαταστήματα, Πωλητές - Καταστήματα\n"
     ]
    },
    {
     "name": "stderr",
     "output_type": "stream",
     "text": [
      "\r",
      "  6%|▌         | 59/1000 [14:16<4:30:53, 17.27s/it]"
     ]
    },
    {
     "name": "stdout",
     "output_type": "stream",
     "text": [
      "Αποθηκάριος - Brand Trader Cy Ltd\n",
      "titleofjob=Αποθηκάριος\n",
      "refernce_number=148741\n",
      "city=Λάρνακα\n",
      "date_posted=31/08/2021\n",
      "expire_date=27/09/2021\n",
      "views=276\n",
      "type_of_employment=Πλήρης\n",
      "employment_sector=Χοντρικό Εμπόριο\n",
      "publisher=Ιδιωτική Εταιρεία (LTD)\n",
      "category=Αποθηκάριοι\n"
     ]
    },
    {
     "name": "stderr",
     "output_type": "stream",
     "text": [
      "\r",
      "  6%|▌         | 60/1000 [14:30<4:16:22, 16.36s/it]"
     ]
    },
    {
     "name": "stdout",
     "output_type": "stream",
     "text": [
      "Σερβιτόρος / Σερβιτόρα - T.he Italian Taste Co Ltd\n",
      "titleofjob=Σερβιτόρος / Σερβιτόρα\n",
      "refernce_number=148730\n",
      "city=Λάρνακα\n",
      "date_posted=31/08/2021\n",
      "expire_date=27/09/2021\n",
      "views=114\n",
      "type_of_employment=Πλήρη ή Μερική\n",
      "employment_sector=Εστιατόρια / Καφετέριες\n",
      "publisher=Ιδιωτική Εταιρεία (LTD)\n",
      "category=Υπάλληλοι HORECA, Σερβιτόροι\n"
     ]
    },
    {
     "name": "stderr",
     "output_type": "stream",
     "text": [
      "\r",
      "  6%|▌         | 61/1000 [14:44<4:04:36, 15.63s/it]"
     ]
    },
    {
     "name": "stdout",
     "output_type": "stream",
     "text": [
      "Πωλητής / Πωλήτρια - S.Z.ELIADES LTD\n",
      "titleofjob=Πωλητής / Πωλήτρια\n",
      "refernce_number=148442\n",
      "city=Λάρνακα\n",
      "date_posted=31/08/2021\n",
      "expire_date=27/09/2021\n",
      "views=200\n",
      "type_of_employment=Πλήρης\n",
      "employment_sector=Μόδα / Ένδυση / Υπόδηση\n",
      "publisher=Ιδιωτική Εταιρεία (LTD)\n",
      "category=Πωλητές - Καταστήματα\n"
     ]
    },
    {
     "name": "stderr",
     "output_type": "stream",
     "text": [
      "\r",
      "  6%|▌         | 62/1000 [14:58<3:58:14, 15.24s/it]"
     ]
    },
    {
     "name": "stdout",
     "output_type": "stream",
     "text": [
      "Picker - Cyprus Trading Corporation Plc\n",
      "titleofjob=Picker\n",
      "refernce_number=148712\n",
      "city=Λευκωσία\n",
      "date_posted=31/08/2021\n",
      "expire_date=27/09/2021\n",
      "views=205\n",
      "type_of_employment=Πλήρης\n",
      "employment_sector=Μη διαθέσιμο\n",
      "publisher=Ιδιωτική Εταιρεία (LTD)\n",
      "category=Αποθηκάριοι, Εργάτες - Τεχνίτες\n"
     ]
    },
    {
     "name": "stderr",
     "output_type": "stream",
     "text": [
      "\r",
      "  6%|▋         | 63/1000 [15:13<3:52:24, 14.88s/it]"
     ]
    },
    {
     "name": "stdout",
     "output_type": "stream",
     "text": [
      "Τεχνικός Μηχανικός - Κυβερνητικές Θέσεις εργασίας\n",
      "titleofjob=Τεχνικός Μηχανικός\n",
      "refernce_number=148757\n",
      "city=Λεμεσός, Λευκωσία, Λάρνακα, Πάφος, Αμμόχωστος\n",
      "date_posted=31/08/2021\n",
      "expire_date=17/09/2021\n",
      "views=415\n",
      "type_of_employment=Πλήρης\n",
      "employment_sector=Κρατικοί Οργανισμοί\n",
      "publisher=Κρατικός οργανισμός\n",
      "category=Κυβερνητικές Θέσεις Εργασίας, Πολιτικοί Μηχανικοί, Πληροφορική, Τοπογράφοι\n"
     ]
    },
    {
     "name": "stderr",
     "output_type": "stream",
     "text": [
      "\r",
      "  6%|▋         | 64/1000 [15:28<3:54:49, 15.05s/it]"
     ]
    },
    {
     "name": "stdout",
     "output_type": "stream",
     "text": [
      "Τεχνικός Μηχανικός - Κυβερνητικές Θέσεις εργασίας\n",
      "titleofjob=Τεχνικός Μηχανικός\n",
      "refernce_number=148755\n",
      "city=Λάρνακα\n",
      "date_posted=31/08/2021\n",
      "expire_date=24/09/2021\n",
      "views=188\n",
      "type_of_employment=Πλήρης\n",
      "employment_sector=Κρατικοί Οργανισμοί\n",
      "publisher=Κρατικός οργανισμός\n",
      "category=Κυβερνητικές Θέσεις Εργασίας, Μηχανολόγοι Μηχανικοί\n"
     ]
    },
    {
     "name": "stderr",
     "output_type": "stream",
     "text": [
      "\r",
      "  6%|▋         | 65/1000 [15:44<3:57:54, 15.27s/it]"
     ]
    },
    {
     "name": "stdout",
     "output_type": "stream",
     "text": [
      "Υπάλληλος Εξυπηρέτησης Πελατών Βιβλιοπωλείου - Parga Bookcenter\n",
      "titleofjob=Υπάλληλος Εξυπηρέτησης Πελατών Βιβλιοπωλείου\n",
      "refernce_number=148711\n",
      "city=Λευκωσία\n",
      "date_posted=31/08/2021\n",
      "expire_date=27/09/2021\n",
      "views=270\n",
      "type_of_employment=Πλήρη ή Μερική\n",
      "employment_sector=Βιβλιοπωλεία\n",
      "publisher=Ιδιωτική Εταιρεία (LTD)\n",
      "category=Βιβλιοθηκονόμοι / Βιβλιοθηκάριοι, Εξυπηρέτηση Πελατών, Πωλητές - Καταστήματα\n"
     ]
    },
    {
     "name": "stderr",
     "output_type": "stream",
     "text": [
      "\r",
      "  7%|▋         | 66/1000 [15:57<3:49:23, 14.74s/it]"
     ]
    },
    {
     "name": "stdout",
     "output_type": "stream",
     "text": [
      "Sales Assistants – UNDIZ (Nicosia/Limassol) - VOICI LA MODE GROUP\n",
      "titleofjob=Sales Assistants – UNDIZ (Nicosia/Limassol)\n",
      "refernce_number=148710\n",
      "city=Λεμεσός, Λευκωσία\n",
      "date_posted=31/08/2021\n",
      "expire_date=27/09/2021\n",
      "views=92\n",
      "type_of_employment=Πλήρη ή Μερική\n",
      "employment_sector=Λιανικό Εμπόριο\n",
      "publisher=Ιδιωτική Εταιρεία (LTD)\n",
      "category=Εξυπηρέτηση Πελατών, Υπεραγορές - Πολυκαταστήματα, Πωλητές - Καταστήματα\n"
     ]
    },
    {
     "name": "stderr",
     "output_type": "stream",
     "text": [
      "\r",
      "  7%|▋         | 67/1000 [16:21<4:31:57, 17.49s/it]"
     ]
    },
    {
     "name": "stdout",
     "output_type": "stream",
     "text": [
      "Υγειονομικός Λειτουργός - Κυβερνητικές Θέσεις εργασίας\n",
      "titleofjob=Υγειονομικός Λειτουργός\n",
      "refernce_number=148756\n",
      "city=Πάφος\n",
      "date_posted=31/08/2021\n",
      "expire_date=27/09/2021\n",
      "views=202\n",
      "type_of_employment=Πλήρης\n",
      "employment_sector=Κρατικοί Οργανισμοί\n",
      "publisher=Κρατικός οργανισμός\n",
      "category=Κυβερνητικές Θέσεις Εργασίας\n"
     ]
    },
    {
     "name": "stderr",
     "output_type": "stream",
     "text": [
      "\r",
      "  7%|▋         | 68/1000 [16:35<4:15:22, 16.44s/it]"
     ]
    },
    {
     "name": "stdout",
     "output_type": "stream",
     "text": [
      "Κτηματολογικός Γραφέας - Κυβερνητικές Θέσεις εργασίας\n",
      "titleofjob=Κτηματολογικός Γραφέας\n",
      "refernce_number=148752\n",
      "city=Λεμεσός, Λευκωσία, Λάρνακα, Πάφος, Αμμόχωστος\n",
      "date_posted=31/08/2021\n",
      "expire_date=17/09/2021\n",
      "views=825\n",
      "type_of_employment=Πλήρης\n",
      "employment_sector=Κρατικοί Οργανισμοί\n",
      "publisher=Κρατικός οργανισμός\n",
      "category=Γραμματειακά, Κυβερνητικές Θέσεις Εργασίας, Πληροφορική, Τομέας Ακινήτων\n"
     ]
    },
    {
     "name": "stderr",
     "output_type": "stream",
     "text": [
      "\r",
      "  7%|▋         | 69/1000 [16:50<4:07:12, 15.93s/it]"
     ]
    },
    {
     "name": "stdout",
     "output_type": "stream",
     "text": [
      "Εκτελεστικός Μηχανικός - Κυβερνητικές Θέσεις εργασίας\n",
      "titleofjob=Εκτελεστικός Μηχανικός\n",
      "refernce_number=148753\n",
      "city=Λεμεσός, Λευκωσία, Λάρνακα, Πάφος, Αμμόχωστος\n",
      "date_posted=31/08/2021\n",
      "expire_date=24/09/2021\n",
      "views=551\n",
      "type_of_employment=Πλήρης\n",
      "employment_sector=Κρατικοί Οργανισμοί\n",
      "publisher=Κρατικός οργανισμός\n",
      "category=Κυβερνητικές Θέσεις Εργασίας, Πολιτικοί Μηχανικοί, Μηχανολόγοι Μηχανικοί, Ηλεκτρολόγοι Μηχανικοί, Τοπογράφοι\n"
     ]
    },
    {
     "name": "stderr",
     "output_type": "stream",
     "text": [
      "\r",
      "  7%|▋         | 70/1000 [17:05<4:02:50, 15.67s/it]"
     ]
    },
    {
     "name": "stdout",
     "output_type": "stream",
     "text": [
      "Ειδικός/Ειδική Εκπαιδευτικός (Συνεργάτης) - Center for Blissful Children\n",
      "titleofjob=Ειδικός/Ειδική Εκπαιδευτικός (Συνεργάτης)\n",
      "refernce_number=148614\n",
      "city=Λευκωσία\n",
      "date_posted=31/08/2021\n",
      "expire_date=27/09/2021\n",
      "views=252\n",
      "type_of_employment=Πλήρης\n",
      "employment_sector=Εκπαιδευτικά Κέντρα / Φροντιστήρια\n",
      "publisher=Φυσικό Πρόσωπο\n",
      "category=Καθηγητές / Ακαδημαϊκοί, Δάσκαλοι, Συνεργάτες / Αυτοαπασχολούμενοι\n"
     ]
    },
    {
     "name": "stderr",
     "output_type": "stream",
     "text": [
      "\r",
      "  7%|▋         | 71/1000 [17:20<4:02:07, 15.64s/it]"
     ]
    },
    {
     "name": "stdout",
     "output_type": "stream",
     "text": [
      "Διοικητικός Λειτουργός - Κυβερνητικές Θέσεις εργασίας\n",
      "titleofjob=Διοικητικός Λειτουργός\n",
      "refernce_number=148749\n",
      "city=Λάρνακα\n",
      "date_posted=31/08/2021\n",
      "expire_date=24/09/2021\n",
      "views=422\n",
      "type_of_employment=Πλήρης\n",
      "employment_sector=Κρατικοί Οργανισμοί\n",
      "publisher=Κρατικός οργανισμός\n",
      "category=Διοίκηση επιχειρήσεων, Κυβερνητικές Θέσεις Εργασίας, Δικηγόροι, Οικονομολόγοι\n"
     ]
    },
    {
     "name": "stderr",
     "output_type": "stream",
     "text": [
      "\r",
      "  7%|▋         | 72/1000 [17:36<3:59:27, 15.48s/it]"
     ]
    },
    {
     "name": "stdout",
     "output_type": "stream",
     "text": [
      "Βοηθός Λειτουργού Καταγραφής και Διαχείρισης - Κυβερνητικές Θέσεις εργασίας\n",
      "titleofjob=Βοηθός Λειτουργού Καταγραφής και Διαχείρισης\n",
      "refernce_number=148748\n",
      "city=Λεμεσός, Λευκωσία, Λάρνακα, Πάφος, Αμμόχωστος\n",
      "date_posted=31/08/2021\n",
      "expire_date=17/09/2021\n",
      "views=627\n",
      "type_of_employment=Πλήρης\n",
      "employment_sector=Κρατικοί Οργανισμοί\n",
      "publisher=Κρατικός οργανισμός\n",
      "category=Γραμματειακά, Κυβερνητικές Θέσεις Εργασίας, Λογιστές\n"
     ]
    },
    {
     "name": "stderr",
     "output_type": "stream",
     "text": [
      "\r",
      "  7%|▋         | 73/1000 [17:50<3:52:55, 15.08s/it]"
     ]
    },
    {
     "name": "stdout",
     "output_type": "stream",
     "text": [
      "Εσωτερικός Ελεγκτής - Κυβερνητικές Θέσεις εργασίας\n",
      "titleofjob=Εσωτερικός Ελεγκτής\n",
      "refernce_number=148744\n",
      "city=Λάρνακα\n",
      "date_posted=31/08/2021\n",
      "expire_date=24/09/2021\n",
      "views=216\n",
      "type_of_employment=Πλήρης\n",
      "employment_sector=Κρατικοί Οργανισμοί\n",
      "publisher=Κρατικός οργανισμός\n",
      "category=Κυβερνητικές Θέσεις Εργασίας\n"
     ]
    },
    {
     "name": "stderr",
     "output_type": "stream",
     "text": [
      "\r",
      "  7%|▋         | 74/1000 [18:03<3:45:50, 14.63s/it]"
     ]
    },
    {
     "name": "stdout",
     "output_type": "stream",
     "text": [
      "Βοηθός Γραμματειακός Λειτουργός - Κυβερνητικές θέσεις Ελλάδα\n",
      "titleofjob=Βοηθός Γραμματειακός Λειτουργός\n",
      "refernce_number=148746\n",
      "city=Λεμεσός, Λευκωσία, Λάρνακα, Πάφος, Αμμόχωστος\n",
      "date_posted=31/08/2021\n",
      "expire_date=16/09/2021\n",
      "views=841\n",
      "type_of_employment=Πλήρης\n",
      "employment_sector=Κρατικοί Οργανισμοί\n",
      "publisher=Κρατικός οργανισμός\n",
      "category=Γραμματειακά, Κυβερνητικές Θέσεις Εργασίας\n"
     ]
    },
    {
     "name": "stderr",
     "output_type": "stream",
     "text": [
      "\r",
      "  8%|▊         | 75/1000 [18:17<3:42:59, 14.46s/it]"
     ]
    },
    {
     "name": "stdout",
     "output_type": "stream",
     "text": [
      "Trade Operations Officer - Cyprus Trading Corporation Plc\n",
      "titleofjob=Trade Operations Officer\n",
      "refernce_number=148588\n",
      "city=Λευκωσία\n",
      "date_posted=31/08/2021\n",
      "expire_date=27/09/2021\n",
      "views=175\n",
      "type_of_employment=Πλήρης\n",
      "employment_sector=Μη διαθέσιμο\n",
      "publisher=Ιδιωτική Εταιρεία (LTD)\n",
      "category=Διοίκηση επιχειρήσεων, Μάρκετινγκ / Δημόσιες Σχέσεις\n"
     ]
    },
    {
     "name": "stderr",
     "output_type": "stream",
     "text": [
      "\r",
      "  8%|▊         | 76/1000 [18:31<3:37:59, 14.16s/it]"
     ]
    },
    {
     "name": "stdout",
     "output_type": "stream",
     "text": [
      "Γραμματέας - Ιατρείο Μ.Ι.Α.\n",
      "titleofjob=Γραμματέας\n",
      "refernce_number=148745\n",
      "city=Λεμεσός\n",
      "date_posted=31/08/2021\n",
      "expire_date=27/09/2021\n",
      "views=349\n",
      "type_of_employment=Πλήρης\n",
      "employment_sector=Νοσοκομεία / Κλινικές\n",
      "publisher=Ιδιωτική Εταιρεία (LTD)\n",
      "category=Γραμματειακά, Εξυπηρέτηση Πελατών\n"
     ]
    },
    {
     "name": "stderr",
     "output_type": "stream",
     "text": [
      "\r",
      "  8%|▊         | 77/1000 [18:44<3:33:39, 13.89s/it]"
     ]
    },
    {
     "name": "stdout",
     "output_type": "stream",
     "text": [
      "Λειτουργός Ανθρώπινου Δυναμικού - Κυβερνητικές Θέσεις εργασίας\n",
      "titleofjob=Λειτουργός Ανθρώπινου Δυναμικού\n",
      "refernce_number=148743\n",
      "city=Λεμεσός, Λευκωσία, Λάρνακα, Πάφος, Αμμόχωστος\n",
      "date_posted=31/08/2021\n",
      "expire_date=16/09/2021\n",
      "views=947\n",
      "type_of_employment=Πλήρης\n",
      "employment_sector=Κρατικοί Οργανισμοί\n",
      "publisher=Κρατικός οργανισμός\n",
      "category=Ανθρώπινο Δυναμικό , Κυβερνητικές Θέσεις Εργασίας\n"
     ]
    },
    {
     "name": "stderr",
     "output_type": "stream",
     "text": [
      "\r",
      "  8%|▊         | 78/1000 [18:59<3:37:27, 14.15s/it]"
     ]
    },
    {
     "name": "stdout",
     "output_type": "stream",
     "text": [
      "Administrator - ICAP People Solutions\n",
      "titleofjob=Administrator\n",
      "refernce_number=148617\n",
      "city=Λευκωσία\n",
      "date_posted=31/08/2021\n",
      "expire_date=27/09/2021\n",
      "views=149\n",
      "type_of_employment=Πλήρης\n",
      "employment_sector=Μη διαθέσιμο\n",
      "publisher=Ιδιωτική Εταιρεία (LTD)\n",
      "category=Γραμματειακά, Διοίκηση επιχειρήσεων\n"
     ]
    },
    {
     "name": "stderr",
     "output_type": "stream",
     "text": [
      "\r",
      "  8%|▊         | 79/1000 [19:14<3:42:36, 14.50s/it]"
     ]
    },
    {
     "name": "stdout",
     "output_type": "stream",
     "text": [
      "Λειτουργός Διαχείρισης Τ/Κ Περιουσιών - Κυβερνητικές Θέσεις εργασίας\n",
      "titleofjob=Λειτουργός Διαχείρισης Τ/Κ Περιουσιών\n",
      "refernce_number=148732\n",
      "city=Λεμεσός, Λευκωσία, Λάρνακα, Πάφος, Αμμόχωστος\n",
      "date_posted=31/08/2021\n",
      "expire_date=17/09/2021\n",
      "views=958\n",
      "type_of_employment=Πλήρης\n",
      "employment_sector=Κρατικοί Οργανισμοί\n",
      "publisher=Κρατικός οργανισμός\n",
      "category=Γεωργοί / Γεωπόνοι , Διοίκηση επιχειρήσεων, Κοινωνικές / Πολιτικές Επιστήμες, Κυβερνητικές Θέσεις Εργασίας, Πολιτικοί Μηχανικοί, Δικηγόροι, Οικονομολόγοι, Τομέας Ακινήτων, Χρηματοοικονομικά/Χρηματοπιστωτικά, Τοπογράφοι\n"
     ]
    },
    {
     "name": "stderr",
     "output_type": "stream",
     "text": [
      "\r",
      "  8%|▊         | 80/1000 [19:28<3:38:09, 14.23s/it]"
     ]
    },
    {
     "name": "stdout",
     "output_type": "stream",
     "text": [
      "Βοηθός Γραμματειακός Λειτούργος - Κυβερνητικές Θέσεις εργασίας\n",
      "titleofjob=Βοηθός Γραμματειακός Λειτούργος\n",
      "refernce_number=148733\n",
      "city=Λάρνακα\n",
      "date_posted=31/08/2021\n",
      "expire_date=21/09/2021\n",
      "views=322\n",
      "type_of_employment=Πλήρης\n",
      "employment_sector=Κρατικοί Οργανισμοί\n",
      "publisher=Κρατικός οργανισμός\n",
      "category=Γραμματειακά, Κυβερνητικές Θέσεις Εργασίας\n"
     ]
    },
    {
     "name": "stderr",
     "output_type": "stream",
     "text": [
      "\r",
      "  8%|▊         | 81/1000 [19:42<3:38:23, 14.26s/it]"
     ]
    },
    {
     "name": "stdout",
     "output_type": "stream",
     "text": [
      "IT Support Engineer - ICAP People Solutions\n",
      "titleofjob=IT Support Engineer\n",
      "refernce_number=148613\n",
      "city=Λευκωσία\n",
      "date_posted=31/08/2021\n",
      "expire_date=27/09/2021\n",
      "views=81\n",
      "type_of_employment=Πλήρης\n",
      "employment_sector=Δικηγορικά γραφεία\n",
      "publisher=Ιδιωτική Εταιρεία (LTD)\n",
      "category=Πληροφορική\n"
     ]
    },
    {
     "name": "stderr",
     "output_type": "stream",
     "text": [
      "\r",
      "  8%|▊         | 82/1000 [19:57<3:39:20, 14.34s/it]"
     ]
    },
    {
     "name": "stdout",
     "output_type": "stream",
     "text": [
      "Διευθυντής Τμήματος Γεωλογικής Επισκόπησης - Κυβερνητικές Θέσεις εργασίας\n",
      "titleofjob=Διευθυντής Τμήματος Γεωλογικής Επισκόπησης\n",
      "refernce_number=148727\n",
      "city=Λεμεσός, Λευκωσία, Λάρνακα, Πάφος, Αμμόχωστος\n",
      "date_posted=31/08/2021\n",
      "expire_date=17/09/2021\n",
      "views=233\n",
      "type_of_employment=Πλήρης\n",
      "employment_sector=Κρατικοί Οργανισμοί\n",
      "publisher=Κρατικός οργανισμός\n",
      "category=Γεωργοί / Γεωπόνοι , Διοίκηση επιχειρήσεων, Κυβερνητικές Θέσεις Εργασίας\n"
     ]
    },
    {
     "name": "stderr",
     "output_type": "stream",
     "text": [
      "\r",
      "  8%|▊         | 83/1000 [20:11<3:38:15, 14.28s/it]"
     ]
    },
    {
     "name": "stdout",
     "output_type": "stream",
     "text": [
      "Auditor - AdvancedAudit & Tax Consulting (P.P.) Ltd\n",
      "titleofjob=Auditor\n",
      "refernce_number=148602\n",
      "city=Λεμεσός\n",
      "date_posted=31/08/2021\n",
      "expire_date=27/09/2021\n",
      "views=341\n",
      "type_of_employment=Πλήρης\n",
      "employment_sector=Λογιστικά / Ελεγκτικά γραφεία\n",
      "publisher=Ιδιωτική Εταιρεία (LTD)\n",
      "category=Ελεγκτές, Λογιστές\n"
     ]
    },
    {
     "name": "stderr",
     "output_type": "stream",
     "text": [
      "\r",
      "  8%|▊         | 84/1000 [20:25<3:35:27, 14.11s/it]"
     ]
    },
    {
     "name": "stdout",
     "output_type": "stream",
     "text": [
      "Υγειονομικός Λειτουργός - Κυβερνητικές Θέσεις εργασίας\n",
      "titleofjob=Υγειονομικός Λειτουργός\n",
      "refernce_number=148715\n",
      "city=Λάρνακα\n",
      "date_posted=31/08/2021\n",
      "expire_date=21/09/2021\n",
      "views=155\n",
      "type_of_employment=Πλήρης\n",
      "employment_sector=Κρατικοί Οργανισμοί\n",
      "publisher=Κρατικός οργανισμός\n",
      "category=Κυβερνητικές Θέσεις Εργασίας\n"
     ]
    },
    {
     "name": "stderr",
     "output_type": "stream",
     "text": [
      "\r",
      "  8%|▊         | 85/1000 [20:38<3:34:07, 14.04s/it]"
     ]
    },
    {
     "name": "stdout",
     "output_type": "stream",
     "text": [
      "Λειτουργός Γραφείου Προστασίας Δεδομένων Προσωπικού Χαρακτήρα - Κυβερνητικές Θέσεις εργασίας\n",
      "titleofjob=Λειτουργός Γραφείου Προστασίας Δεδομένων Προσωπικού Χαρακτήρα\n",
      "refernce_number=148723\n",
      "city=Λεμεσός, Λευκωσία, Λάρνακα, Πάφος, Αμμόχωστος\n",
      "date_posted=31/08/2021\n",
      "expire_date=17/09/2021\n",
      "views=1035\n",
      "type_of_employment=Πλήρης\n",
      "employment_sector=Κρατικοί Οργανισμοί\n",
      "publisher=Κρατικός οργανισμός\n",
      "category=Ανθρώπινο Δυναμικό , Διοίκηση επιχειρήσεων, Κοινωνικές / Πολιτικές Επιστήμες, Κυβερνητικές Θέσεις Εργασίας, Λογιστές, Μαθηματικοί / Στατιστικολόγοι, Δικηγόροι, Οικονομολόγοι, Πληροφορική, Ψυχολόγοι, Χρηματοοικονομικά/Χρηματοπιστωτικά\n"
     ]
    },
    {
     "name": "stderr",
     "output_type": "stream",
     "text": [
      "\r",
      "  9%|▊         | 86/1000 [20:53<3:35:34, 14.15s/it]"
     ]
    },
    {
     "name": "stdout",
     "output_type": "stream",
     "text": [
      "Λειτουργός Πολιτικής Άμυνας - Κυβερνητικές Θέσεις εργασίας\n",
      "titleofjob=Λειτουργός Πολιτικής Άμυνας\n",
      "refernce_number=148720\n",
      "city=Λεμεσός, Λευκωσία, Λάρνακα, Πάφος, Αμμόχωστος\n",
      "date_posted=31/08/2021\n",
      "expire_date=17/09/2021\n",
      "views=471\n",
      "type_of_employment=Πλήρης\n",
      "employment_sector=Κρατικοί Οργανισμοί\n",
      "publisher=Κρατικός οργανισμός\n",
      "category=Διοίκηση επιχειρήσεων, Κυβερνητικές Θέσεις Εργασίας\n"
     ]
    },
    {
     "name": "stderr",
     "output_type": "stream",
     "text": [
      "\r",
      "  9%|▊         | 87/1000 [21:07<3:35:20, 14.15s/it]"
     ]
    },
    {
     "name": "stdout",
     "output_type": "stream",
     "text": [
      "Λειτουργοί Ανθρώπινου Δυναμικού - Κυβερνητικές Θέσεις εργασίας\n",
      "titleofjob=Λειτουργοί Ανθρώπινου Δυναμικού\n",
      "refernce_number=148713\n",
      "city=Λεμεσός, Λευκωσία, Λάρνακα, Πάφος, Αμμόχωστος\n",
      "date_posted=31/08/2021\n",
      "expire_date=17/09/2021\n",
      "views=504\n",
      "type_of_employment=Πλήρης\n",
      "employment_sector=Κρατικοί Οργανισμοί\n",
      "publisher=Κρατικός οργανισμός\n",
      "category=Ανθρώπινο Δυναμικό , Διοίκηση επιχειρήσεων, Κυβερνητικές Θέσεις Εργασίας\n"
     ]
    },
    {
     "name": "stderr",
     "output_type": "stream",
     "text": [
      "\r",
      "  9%|▉         | 88/1000 [21:21<3:32:39, 13.99s/it]"
     ]
    },
    {
     "name": "stdout",
     "output_type": "stream",
     "text": [
      "Secretary - GEORGE COUCOUNIS LLC\n",
      "titleofjob=Secretary\n",
      "refernce_number=148253\n",
      "city=Λάρνακα\n",
      "date_posted=31/08/2021\n",
      "expire_date=27/09/2021\n",
      "views=568\n",
      "type_of_employment=Πλήρης\n",
      "employment_sector=Δικηγορικά γραφεία\n",
      "publisher=Ιδιωτική Εταιρεία (LTD)\n",
      "category=Γραμματειακά\n"
     ]
    },
    {
     "name": "stderr",
     "output_type": "stream",
     "text": [
      "\r",
      "  9%|▉         | 89/1000 [21:34<3:30:22, 13.86s/it]"
     ]
    },
    {
     "name": "stdout",
     "output_type": "stream",
     "text": [
      "Lawyer - GEORGE COUCOUNIS LLC\n",
      "titleofjob=Lawyer\n",
      "refernce_number=148252\n",
      "city=Λάρνακα\n",
      "date_posted=31/08/2021\n",
      "expire_date=27/09/2021\n",
      "views=325\n",
      "type_of_employment=Πλήρης\n",
      "employment_sector=Δικηγορικά γραφεία\n",
      "publisher=Ιδιωτική Εταιρεία (LTD)\n",
      "category=Δικηγόροι\n"
     ]
    },
    {
     "name": "stderr",
     "output_type": "stream",
     "text": [
      "\r",
      "  9%|▉         | 90/1000 [21:49<3:33:17, 14.06s/it]"
     ]
    },
    {
     "name": "stdout",
     "output_type": "stream",
     "text": [
      "Sous Chef - AZIA RESORT & SPA\n",
      "titleofjob=Sous Chef\n",
      "refernce_number=148587\n",
      "city=Πάφος\n",
      "date_posted=31/08/2021\n",
      "expire_date=27/09/2021\n",
      "views=79\n",
      "type_of_employment=Πλήρης\n",
      "employment_sector=Τουρισμός - Ξενοδοχεία\n",
      "publisher=Ιδιωτική Εταιρεία (LTD)\n",
      "category=Υπάλληλοι HORECA, Μάγειρες / Ζαχαροπλάστες\n"
     ]
    },
    {
     "name": "stderr",
     "output_type": "stream",
     "text": [
      "\r",
      "  9%|▉         | 91/1000 [22:02<3:29:00, 13.80s/it]"
     ]
    },
    {
     "name": "stdout",
     "output_type": "stream",
     "text": [
      "Junior IT Administrator - Wintrado Technologies AG\n",
      "titleofjob=Junior IT Administrator\n",
      "refernce_number=148706\n",
      "city=Λεμεσός\n",
      "date_posted=31/08/2021\n",
      "expire_date=27/09/2021\n",
      "views=307\n",
      "type_of_employment=Πλήρης\n",
      "employment_sector=FinTech\n",
      "publisher=Ιδιωτική Εταιρεία (LTD)\n",
      "category=Πληροφορική\n"
     ]
    },
    {
     "name": "stderr",
     "output_type": "stream",
     "text": [
      "\r",
      "  9%|▉         | 92/1000 [22:16<3:29:08, 13.82s/it]"
     ]
    },
    {
     "name": "stdout",
     "output_type": "stream",
     "text": [
      "Full-Stack Software Development Engineer - Factory 39\n",
      "titleofjob=Full-Stack Software Development Engineer\n",
      "refernce_number=148701\n",
      "city=Λεμεσός\n",
      "date_posted=31/08/2021\n",
      "expire_date=27/09/2021\n",
      "views=72\n",
      "type_of_employment=Πλήρης\n",
      "employment_sector=Πληροφορική\n",
      "publisher=Ιδιωτική Εταιρεία (LTD)\n",
      "category=Πληροφορική\n"
     ]
    },
    {
     "name": "stderr",
     "output_type": "stream",
     "text": [
      "\r",
      "  9%|▉         | 93/1000 [22:30<3:32:26, 14.05s/it]"
     ]
    },
    {
     "name": "stdout",
     "output_type": "stream",
     "text": [
      "Βοηθός Μάγειρας / Μαγείρισσα - COSTAS supermarket\n",
      "titleofjob=Βοηθός Μάγειρας / Μαγείρισσα\n",
      "refernce_number=148705\n",
      "city=Λεμεσός\n",
      "date_posted=31/08/2021\n",
      "expire_date=27/09/2021\n",
      "views=105\n",
      "type_of_employment=Πλήρης\n",
      "employment_sector=Εστιατόρια / Καφετέριες\n",
      "publisher=Ιδιωτική Εταιρεία (LTD)\n",
      "category=Υπάλληλοι HORECA, Βοηθοί Κουζίνας / Λάντζα, Μάγειρες / Ζαχαροπλάστες, Baristas\n"
     ]
    },
    {
     "name": "stderr",
     "output_type": "stream",
     "text": [
      "\r",
      "  9%|▉         | 94/1000 [22:45<3:35:21, 14.26s/it]"
     ]
    },
    {
     "name": "stdout",
     "output_type": "stream",
     "text": [
      "Κλητήρας - ANDREAS I.KANNAS & SONS LTD\n",
      "titleofjob=Κλητήρας\n",
      "refernce_number=148700\n",
      "city=Λευκωσία\n",
      "date_posted=31/08/2021\n",
      "expire_date=27/09/2021\n",
      "views=281\n",
      "type_of_employment=Πλήρης\n",
      "employment_sector=Λιανικό Εμπόριο\n",
      "publisher=Ιδιωτική Εταιρεία (LTD)\n",
      "category=Οδηγοί, Κλητήρες\n"
     ]
    },
    {
     "name": "stderr",
     "output_type": "stream",
     "text": [
      "\r",
      " 10%|▉         | 95/1000 [22:59<3:35:56, 14.32s/it]"
     ]
    },
    {
     "name": "stdout",
     "output_type": "stream",
     "text": [
      "Τεχνικός Συντήρησης Μηχανών & Εξοπλισμού - Manpower Cyprus\n",
      "titleofjob=Τεχνικός Συντήρησης Μηχανών & Εξοπλισμού\n",
      "refernce_number=148704\n",
      "city=Λευκωσία\n",
      "date_posted=31/08/2021\n",
      "expire_date=27/09/2021\n",
      "views=444\n",
      "type_of_employment=Πλήρης\n",
      "employment_sector=Μη διαθέσιμο\n",
      "publisher=Ιδιωτική Εταιρεία (LTD)\n",
      "category=Ηλεκτρολόγοι, Μηχανολόγοι Μηχανικοί, Ηλεκτρολόγοι Μηχανικοί, Τεχνικοί\n"
     ]
    },
    {
     "name": "stderr",
     "output_type": "stream",
     "text": [
      "\r",
      " 10%|▉         | 96/1000 [23:13<3:33:32, 14.17s/it]"
     ]
    },
    {
     "name": "stdout",
     "output_type": "stream",
     "text": [
      "Πωλητής / Πωλήτρια - CELESTINO LIMASSOL\n",
      "titleofjob=Πωλητής / Πωλήτρια\n",
      "refernce_number=148699\n",
      "city=Λεμεσός\n",
      "date_posted=31/08/2021\n",
      "expire_date=27/09/2021\n",
      "views=341\n",
      "type_of_employment=Μερική\n",
      "employment_sector=Μόδα / Ένδυση / Υπόδηση\n",
      "publisher=Ιδιωτική Εταιρεία (LTD)\n",
      "category=Εξυπηρέτηση Πελατών, Πωλητές - Καταστήματα\n"
     ]
    },
    {
     "name": "stderr",
     "output_type": "stream",
     "text": [
      "\r",
      " 10%|▉         | 97/1000 [23:27<3:29:04, 13.89s/it]"
     ]
    },
    {
     "name": "stdout",
     "output_type": "stream",
     "text": [
      "AML Officer Assistant - P.CONSTANTINOU & CO LTD\n",
      "titleofjob=AML Officer Assistant\n",
      "refernce_number=148703\n",
      "city=Λεμεσός\n",
      "date_posted=31/08/2021\n",
      "expire_date=27/09/2021\n",
      "views=166\n",
      "type_of_employment=Πλήρης\n",
      "employment_sector=Λογιστικά / Ελεγκτικά γραφεία\n",
      "publisher=Ιδιωτική Εταιρεία (LTD)\n",
      "category=Ελεγκτές, Λογιστές\n"
     ]
    },
    {
     "name": "stderr",
     "output_type": "stream",
     "text": [
      "\r",
      " 10%|▉         | 98/1000 [23:41<3:33:14, 14.18s/it]"
     ]
    },
    {
     "name": "stdout",
     "output_type": "stream",
     "text": [
      "Digital Marketing Executive - THE OFFICE\n",
      "titleofjob=Digital Marketing Executive\n",
      "refernce_number=148696\n",
      "city=Λεμεσός\n",
      "date_posted=31/08/2021\n",
      "expire_date=12/09/2021\n",
      "views=109\n",
      "type_of_employment=Πλήρης\n",
      "employment_sector=Μάρκετινγκ / Διαφήμιση\n",
      "publisher=Ιδιωτική Εταιρεία (LTD)\n",
      "category=Μάρκετινγκ / Δημόσιες Σχέσεις, ΜΜΕ-Δημοσιογραφία\n"
     ]
    },
    {
     "name": "stderr",
     "output_type": "stream",
     "text": [
      "\r",
      " 10%|▉         | 99/1000 [23:57<3:40:37, 14.69s/it]"
     ]
    },
    {
     "name": "stdout",
     "output_type": "stream",
     "text": [
      "Accounting Associate - Limassol (On behalf of Deloitte client) - Deloitte\n",
      "titleofjob=Accounting Associate - Limassol (On behalf of Deloitte client)\n",
      "refernce_number=148702\n",
      "city=Λεμεσός\n",
      "date_posted=31/08/2021\n",
      "expire_date=27/09/2021\n",
      "views=360\n",
      "type_of_employment=Πλήρης\n",
      "employment_sector=Πληροφορική\n",
      "publisher=Ιδιωτική Εταιρεία (LTD)\n",
      "category=Διοίκηση επιχειρήσεων, Λογιστές, Οικονομολόγοι, Χρηματοοικονομικά/Χρηματοπιστωτικά, Ρωσική γλώσσα\n"
     ]
    },
    {
     "name": "stderr",
     "output_type": "stream",
     "text": [
      "\r",
      " 10%|█         | 100/1000 [24:11<3:36:47, 14.45s/it]"
     ]
    },
    {
     "name": "stdout",
     "output_type": "stream",
     "text": [
      "Administration & Marketing Support Officer - ICAP People Solutions\n",
      "titleofjob=Administration & Marketing Support Officer\n",
      "refernce_number=148618\n",
      "city=Λευκωσία\n",
      "date_posted=31/08/2021\n",
      "expire_date=27/09/2021\n",
      "views=167\n",
      "type_of_employment=Πλήρης\n",
      "employment_sector=Μη διαθέσιμο\n",
      "publisher=Ιδιωτική Εταιρεία (LTD)\n",
      "category=Γραμματειακά, Διοίκηση επιχειρήσεων\n"
     ]
    },
    {
     "name": "stderr",
     "output_type": "stream",
     "text": [
      "\r",
      " 10%|█         | 101/1000 [24:26<3:38:33, 14.59s/it]"
     ]
    },
    {
     "name": "stdout",
     "output_type": "stream",
     "text": [
      "Customer Support Team Member - Delivery Hero (Cyprus) LTD\n",
      "titleofjob=Customer Support Team Member\n",
      "refernce_number=148593\n",
      "city=Λεμεσός, Λευκωσία, Λάρνακα, Πάφος, Αμμόχωστος\n",
      "date_posted=31/08/2021\n",
      "expire_date=27/09/2021\n",
      "views=268\n",
      "type_of_employment=Πλήρης\n",
      "employment_sector=Μη διαθέσιμο\n",
      "publisher=Ιδιωτική Εταιρεία (LTD)\n",
      "category=Εξυπηρέτηση Πελατών\n"
     ]
    },
    {
     "name": "stderr",
     "output_type": "stream",
     "text": [
      "\r",
      " 10%|█         | 102/1000 [24:40<3:35:15, 14.38s/it]"
     ]
    },
    {
     "name": "stdout",
     "output_type": "stream",
     "text": [
      "Sales Representative (Limassol) - Coca- Cola HBC Cyprus\n",
      "titleofjob=Sales Representative (Limassol)\n",
      "refernce_number=148698\n",
      "city=Λεμεσός\n",
      "date_posted=31/08/2021\n",
      "expire_date=27/09/2021\n",
      "views=153\n",
      "type_of_employment=Πλήρης\n",
      "employment_sector=Μη διαθέσιμο\n",
      "publisher=Ιδιωτική Εταιρεία (LTD)\n",
      "category=Διοίκηση επιχειρήσεων, Οικονομολόγοι, Υπεύθυνοι Πωλήσεων\n"
     ]
    },
    {
     "name": "stderr",
     "output_type": "stream",
     "text": [
      "\r",
      " 10%|█         | 103/1000 [24:55<3:38:21, 14.61s/it]"
     ]
    },
    {
     "name": "stdout",
     "output_type": "stream",
     "text": [
      "Chef De Partie - AZIA RESORT & SPA\n",
      "titleofjob=Chef De Partie\n",
      "refernce_number=148585\n",
      "city=Πάφος\n",
      "date_posted=31/08/2021\n",
      "expire_date=27/09/2021\n",
      "views=72\n",
      "type_of_employment=Πλήρης\n",
      "employment_sector=Τουρισμός - Ξενοδοχεία\n",
      "publisher=Ιδιωτική Εταιρεία (LTD)\n",
      "category=Τεχνολόγος Τροφίμων, Υπάλληλοι HORECA, Μάγειρες / Ζαχαροπλάστες\n"
     ]
    },
    {
     "name": "stderr",
     "output_type": "stream",
     "text": [
      "\r",
      " 10%|█         | 104/1000 [25:10<3:38:48, 14.65s/it]"
     ]
    },
    {
     "name": "stdout",
     "output_type": "stream",
     "text": [
      "Sales Representative (Paphos) - Coca- Cola HBC Cyprus\n",
      "titleofjob=Sales Representative (Paphos)\n",
      "refernce_number=148697\n",
      "city=Πάφος\n",
      "date_posted=31/08/2021\n",
      "expire_date=27/09/2021\n",
      "views=159\n",
      "type_of_employment=Πλήρης\n",
      "employment_sector=Μη διαθέσιμο\n",
      "publisher=Ιδιωτική Εταιρεία (LTD)\n",
      "category=Διοίκηση επιχειρήσεων, Οικονομολόγοι, Υπεύθυνοι Πωλήσεων\n"
     ]
    },
    {
     "name": "stderr",
     "output_type": "stream",
     "text": [
      "\r",
      " 10%|█         | 105/1000 [25:24<3:37:16, 14.57s/it]"
     ]
    },
    {
     "name": "stdout",
     "output_type": "stream",
     "text": [
      "Client Relationship Manager - Wintrado Technologies AG\n",
      "titleofjob=Client Relationship Manager\n",
      "refernce_number=148694\n",
      "city=Λεμεσός\n",
      "date_posted=31/08/2021\n",
      "expire_date=27/09/2021\n",
      "views=453\n",
      "type_of_employment=Πλήρης\n",
      "employment_sector=FinTech\n",
      "publisher=Ιδιωτική Εταιρεία (LTD)\n",
      "category=Forex, Υπεύθυνοι Πωλήσεων, Χρηματοοικονομικά/Χρηματοπιστωτικά\n"
     ]
    },
    {
     "name": "stderr",
     "output_type": "stream",
     "text": [
      "\r",
      " 11%|█         | 106/1000 [25:38<3:33:26, 14.32s/it]"
     ]
    },
    {
     "name": "stdout",
     "output_type": "stream",
     "text": [
      "Sales Manager (B2B) - Wintrado Technologies AG\n",
      "titleofjob=Sales Manager (B2B)\n",
      "refernce_number=148692\n",
      "city=Λεμεσός\n",
      "date_posted=31/08/2021\n",
      "expire_date=27/09/2021\n",
      "views=306\n",
      "type_of_employment=Πλήρης\n",
      "employment_sector=FinTech\n",
      "publisher=Ιδιωτική Εταιρεία (LTD)\n",
      "category=Forex, Υπεύθυνοι Πωλήσεων, Χρηματοοικονομικά/Χρηματοπιστωτικά\n"
     ]
    },
    {
     "name": "stderr",
     "output_type": "stream",
     "text": [
      "\r",
      " 11%|█         | 107/1000 [25:53<3:35:01, 14.45s/it]"
     ]
    },
    {
     "name": "stdout",
     "output_type": "stream",
     "text": [
      "Sales Representative (Nicosia) - Coca- Cola HBC Cyprus\n",
      "titleofjob=Sales Representative (Nicosia)\n",
      "refernce_number=148695\n",
      "city=Λευκωσία\n",
      "date_posted=31/08/2021\n",
      "expire_date=27/09/2021\n",
      "views=149\n",
      "type_of_employment=Πλήρης\n",
      "employment_sector=Μη διαθέσιμο\n",
      "publisher=Ιδιωτική Εταιρεία (LTD)\n",
      "category=Διοίκηση επιχειρήσεων, Οικονομολόγοι, Υπεύθυνοι Πωλήσεων\n"
     ]
    },
    {
     "name": "stderr",
     "output_type": "stream",
     "text": [
      "\r",
      " 11%|█         | 108/1000 [26:06<3:28:55, 14.05s/it]"
     ]
    },
    {
     "name": "stdout",
     "output_type": "stream",
     "text": [
      "Βοηθός Εργαστηρίου - Clinical Laboratories\n",
      "titleofjob=Βοηθός Εργαστηρίου\n",
      "refernce_number=148690\n",
      "city=Λευκωσία\n",
      "date_posted=31/08/2021\n",
      "expire_date=27/09/2021\n",
      "views=302\n",
      "type_of_employment=Πλήρης\n",
      "employment_sector=Νοσοκομεία / Κλινικές\n",
      "publisher=Ιδιωτική Εταιρεία (LTD)\n",
      "category=Βιολόγοι, Νοσηλευτές, Χημικοί\n"
     ]
    },
    {
     "name": "stderr",
     "output_type": "stream",
     "text": [
      "\r",
      " 11%|█         | 109/1000 [26:21<3:31:30, 14.24s/it]"
     ]
    },
    {
     "name": "stdout",
     "output_type": "stream",
     "text": [
      "Personal Assistant - Vavlitis Group\n",
      "titleofjob=Personal Assistant\n",
      "refernce_number=148693\n",
      "city=Λευκωσία\n",
      "date_posted=31/08/2021\n",
      "expire_date=10/09/2021\n",
      "views=215\n",
      "type_of_employment=Πλήρης\n",
      "employment_sector=Μη διαθέσιμο\n",
      "publisher=Ιδιωτική Εταιρεία (LTD)\n",
      "category=Γραμματειακά\n"
     ]
    },
    {
     "name": "stderr",
     "output_type": "stream",
     "text": [
      "\r",
      " 11%|█         | 110/1000 [26:34<3:28:59, 14.09s/it]"
     ]
    },
    {
     "name": "stdout",
     "output_type": "stream",
     "text": [
      "Business Central 365 Consultant - TalosCo Business Solutions Ltd\n",
      "titleofjob=Business Central 365 Consultant\n",
      "refernce_number=148570\n",
      "city=Λευκωσία\n",
      "date_posted=31/08/2021\n",
      "expire_date=27/09/2021\n",
      "views=103\n",
      "type_of_employment=Πλήρης\n",
      "employment_sector=Πληροφορική\n",
      "publisher=Ιδιωτική Εταιρεία (LTD)\n",
      "category=Πληροφορική\n"
     ]
    },
    {
     "name": "stderr",
     "output_type": "stream",
     "text": [
      "\r",
      " 11%|█         | 111/1000 [26:48<3:26:19, 13.93s/it]"
     ]
    },
    {
     "name": "stdout",
     "output_type": "stream",
     "text": [
      "Πωλητές / Πωλήτριες (Sales Assistants) - Chrysanthou Shoes\n",
      "titleofjob=Πωλητές / Πωλήτριες (Sales Assistants)\n",
      "refernce_number=148688\n",
      "city=Πάφος\n",
      "date_posted=31/08/2021\n",
      "expire_date=27/09/2021\n",
      "views=87\n",
      "type_of_employment=Πλήρη ή Μερική\n",
      "employment_sector=Μόδα / Ένδυση / Υπόδηση\n",
      "publisher=Ιδιωτική Εταιρεία (LTD)\n",
      "category=Εξυπηρέτηση Πελατών, Πωλητές - Καταστήματα\n"
     ]
    },
    {
     "name": "stderr",
     "output_type": "stream",
     "text": [
      "\r",
      " 11%|█         | 112/1000 [27:03<3:30:24, 14.22s/it]"
     ]
    },
    {
     "name": "stdout",
     "output_type": "stream",
     "text": [
      "Sales Assistants (Neo Plaza) - FREEGREE LTD\n",
      "titleofjob=Sales Assistants (Neo Plaza)\n",
      "refernce_number=148683\n",
      "city=Λευκωσία\n",
      "date_posted=31/08/2021\n",
      "expire_date=27/09/2021\n",
      "views=74\n",
      "type_of_employment=Πλήρη ή Μερική\n",
      "employment_sector=Λιανικό Εμπόριο\n",
      "publisher=Ιδιωτική Εταιρεία (LTD)\n",
      "category=Πωλητές - Καταστήματα\n"
     ]
    },
    {
     "name": "stderr",
     "output_type": "stream",
     "text": [
      "\r",
      " 11%|█▏        | 113/1000 [27:17<3:28:48, 14.12s/it]"
     ]
    },
    {
     "name": "stdout",
     "output_type": "stream",
     "text": [
      "Python Developer, Limassol – PYTH/08/21 - Human Asset Ltd\n",
      "titleofjob=Python Developer, Limassol – PYTH/08/21\n",
      "refernce_number=148687\n",
      "city=Λεμεσός, Λευκωσία, Λάρνακα, Πάφος, Αμμόχωστος\n",
      "date_posted=31/08/2021\n",
      "expire_date=10/09/2021\n",
      "views=135\n",
      "type_of_employment=Πλήρης\n",
      "employment_sector=FinTech\n",
      "publisher=Ιδιωτική Εταιρεία (LTD)\n",
      "category=Πληροφορική\n"
     ]
    },
    {
     "name": "stderr",
     "output_type": "stream",
     "text": [
      "\r",
      " 11%|█▏        | 114/1000 [27:32<3:35:57, 14.62s/it]"
     ]
    },
    {
     "name": "stdout",
     "output_type": "stream",
     "text": [
      "Υπάλληλος Υποδοχής - Vavlitis Group\n",
      "titleofjob=Υπάλληλος Υποδοχής\n",
      "refernce_number=148691\n",
      "city=Λευκωσία\n",
      "date_posted=31/08/2021\n",
      "expire_date=10/09/2021\n",
      "views=296\n",
      "type_of_employment=Πλήρης\n",
      "employment_sector=Μη διαθέσιμο\n",
      "publisher=Ιδιωτική Εταιρεία (LTD)\n",
      "category=Γραμματειακά, Εξυπηρέτηση Πελατών\n"
     ]
    },
    {
     "name": "stderr",
     "output_type": "stream",
     "text": [
      "\r",
      " 12%|█▏        | 115/1000 [27:46<3:33:08, 14.45s/it]"
     ]
    },
    {
     "name": "stdout",
     "output_type": "stream",
     "text": [
      "Διανομέας / Delivery Driver - A.J VOUROS GROUP\n",
      "titleofjob=Διανομέας / Delivery Driver\n",
      "refernce_number=148682\n",
      "city=Λευκωσία\n",
      "date_posted=31/08/2021\n",
      "expire_date=27/09/2021\n",
      "views=166\n",
      "type_of_employment=Πλήρης\n",
      "employment_sector=Λιανικό Εμπόριο\n",
      "publisher=Ιδιωτική Εταιρεία (LTD)\n",
      "category=Διανομείς\n"
     ]
    },
    {
     "name": "stderr",
     "output_type": "stream",
     "text": [
      "\r",
      " 12%|█▏        | 116/1000 [28:01<3:33:38, 14.50s/it]"
     ]
    },
    {
     "name": "stdout",
     "output_type": "stream",
     "text": [
      "Store Manager Assistant (Neo Plaza) - FREEGREE LTD\n",
      "titleofjob=Store Manager Assistant (Neo Plaza)\n",
      "refernce_number=148686\n",
      "city=Λευκωσία\n",
      "date_posted=31/08/2021\n",
      "expire_date=27/09/2021\n",
      "views=65\n",
      "type_of_employment=Πλήρης\n",
      "employment_sector=Λιανικό Εμπόριο\n",
      "publisher=Ιδιωτική Εταιρεία (LTD)\n",
      "category=Εξυπηρέτηση Πελατών, Πωλητές - Καταστήματα\n"
     ]
    },
    {
     "name": "stderr",
     "output_type": "stream",
     "text": [
      "\r",
      " 12%|█▏        | 117/1000 [28:15<3:29:37, 14.24s/it]"
     ]
    },
    {
     "name": "stdout",
     "output_type": "stream",
     "text": [
      "Accounts Assistant - Uniteam Recruitment Services\n",
      "titleofjob=Accounts Assistant\n",
      "refernce_number=148685\n",
      "city=Λεμεσός\n",
      "date_posted=31/08/2021\n",
      "expire_date=27/09/2021\n",
      "views=117\n",
      "type_of_employment=Πλήρης\n",
      "employment_sector=Μεταφορές\n",
      "publisher=Ιδιωτική Εταιρεία (LTD)\n",
      "category=Λογιστές, Χρηματοοικονομικά/Χρηματοπιστωτικά\n"
     ]
    },
    {
     "name": "stderr",
     "output_type": "stream",
     "text": [
      "\r",
      " 12%|█▏        | 118/1000 [28:29<3:28:25, 14.18s/it]"
     ]
    },
    {
     "name": "stdout",
     "output_type": "stream",
     "text": [
      "Frontend Developer, Limassol – FED/08/21 - Human Asset Ltd\n",
      "titleofjob=Frontend Developer, Limassol – FED/08/21\n",
      "refernce_number=148684\n",
      "city=Λεμεσός, Λευκωσία, Λάρνακα, Πάφος, Αμμόχωστος\n",
      "date_posted=31/08/2021\n",
      "expire_date=10/09/2021\n",
      "views=115\n",
      "type_of_employment=Πλήρης\n",
      "employment_sector=FinTech\n",
      "publisher=Ιδιωτική Εταιρεία (LTD)\n",
      "category=Πληροφορική\n"
     ]
    },
    {
     "name": "stderr",
     "output_type": "stream",
     "text": [
      "\r",
      " 12%|█▏        | 119/1000 [28:42<3:24:33, 13.93s/it]"
     ]
    },
    {
     "name": "stdout",
     "output_type": "stream",
     "text": [
      "Accountant - Kpax Marketing Online Ltd\n",
      "titleofjob=Accountant\n",
      "refernce_number=148680\n",
      "city=Λεμεσός\n",
      "date_posted=31/08/2021\n",
      "expire_date=27/09/2021\n",
      "views=127\n",
      "type_of_employment=Πλήρης\n",
      "employment_sector=Εταιρείες Στοιχημάτων\n",
      "publisher=Ιδιωτική Εταιρεία (LTD)\n",
      "category=Διοίκηση επιχειρήσεων, Λογιστές, Οικονομολόγοι, Χρηματοοικονομικά/Χρηματοπιστωτικά\n"
     ]
    },
    {
     "name": "stderr",
     "output_type": "stream",
     "text": [
      "\r",
      " 12%|█▏        | 120/1000 [28:55<3:21:09, 13.71s/it]"
     ]
    },
    {
     "name": "stdout",
     "output_type": "stream",
     "text": [
      "Auditor - P&P Advisory Services Limited\n",
      "titleofjob=Auditor\n",
      "refernce_number=148670\n",
      "city=Λεμεσός\n",
      "date_posted=31/08/2021\n",
      "expire_date=27/09/2021\n",
      "views=362\n",
      "type_of_employment=Πλήρης\n",
      "employment_sector=Λογιστικά / Ελεγκτικά γραφεία\n",
      "publisher=Ιδιωτική Εταιρεία (LTD)\n",
      "category=Ελεγκτές, Λογιστές, Χρηματοοικονομικά/Χρηματοπιστωτικά, Ρωσική γλώσσα\n"
     ]
    },
    {
     "name": "stderr",
     "output_type": "stream",
     "text": [
      "\r",
      " 12%|█▏        | 121/1000 [29:09<3:21:40, 13.77s/it]"
     ]
    },
    {
     "name": "stdout",
     "output_type": "stream",
     "text": [
      "Store Manager (Neo Plaza) - FREEGREE LTD\n",
      "titleofjob=Store Manager (Neo Plaza)\n",
      "refernce_number=148679\n",
      "city=Λευκωσία\n",
      "date_posted=31/08/2021\n",
      "expire_date=27/09/2021\n",
      "views=80\n",
      "type_of_employment=Πλήρης\n",
      "employment_sector=Λιανικό Εμπόριο\n",
      "publisher=Ιδιωτική Εταιρεία (LTD)\n",
      "category=Ανθρώπινο Δυναμικό , Διοίκηση επιχειρήσεων, Πωλητές - Καταστήματα\n"
     ]
    },
    {
     "name": "stderr",
     "output_type": "stream",
     "text": [
      "\r",
      " 12%|█▏        | 122/1000 [29:25<3:30:59, 14.42s/it]"
     ]
    },
    {
     "name": "stdout",
     "output_type": "stream",
     "text": [
      "Business Development Manager (Consumer Sales) - ASBISc ENTERPRISES PLC\n",
      "titleofjob=Business Development Manager (Consumer Sales)\n",
      "refernce_number=148678\n",
      "city=Λεμεσός\n",
      "date_posted=31/08/2021\n",
      "expire_date=27/09/2021\n",
      "views=232\n",
      "type_of_employment=Πλήρης\n",
      "employment_sector=Χοντρικό Εμπόριο\n",
      "publisher=Ιδιωτική Εταιρεία (LTD)\n",
      "category=Εξωτερικοί Πωλητές / Πλασιέ, Υπεύθυνοι Πωλήσεων, Εμπορικοί Αντιπροσώποι\n"
     ]
    },
    {
     "name": "stderr",
     "output_type": "stream",
     "text": [
      "\r",
      " 12%|█▏        | 123/1000 [29:39<3:26:16, 14.11s/it]"
     ]
    },
    {
     "name": "stdout",
     "output_type": "stream",
     "text": [
      "Accountant - One Net Ltd\n",
      "titleofjob=Accountant\n",
      "refernce_number=148668\n",
      "city=Λεμεσός\n",
      "date_posted=31/08/2021\n",
      "expire_date=27/09/2021\n",
      "views=104\n",
      "type_of_employment=Πλήρης\n",
      "employment_sector=Ναυτιλιακές Εταιρείες\n",
      "publisher=Ιδιωτική Εταιρεία (LTD)\n",
      "category=Λογιστές, Χρηματοοικονομικά/Χρηματοπιστωτικά\n"
     ]
    },
    {
     "name": "stderr",
     "output_type": "stream",
     "text": [
      "\r",
      " 12%|█▏        | 124/1000 [29:53<3:28:50, 14.30s/it]"
     ]
    },
    {
     "name": "stdout",
     "output_type": "stream",
     "text": [
      "Σύμβουλοι Ευεξίας - C.A. PAPAELLINAS LTD\n",
      "titleofjob=Σύμβουλοι Ευεξίας\n",
      "refernce_number=148675\n",
      "city=Λεμεσός, Λευκωσία, Λάρνακα\n",
      "date_posted=31/08/2021\n",
      "expire_date=27/09/2021\n",
      "views=403\n",
      "type_of_employment=Πλήρης\n",
      "employment_sector=Λιανικό Εμπόριο\n",
      "publisher=Ιδιωτική Εταιρεία (LTD)\n",
      "category=Γυμναστές / Προπονητές, Διαιτολόγοι / Διατροφολόγοι\n"
     ]
    },
    {
     "name": "stderr",
     "output_type": "stream",
     "text": [
      "\r",
      " 12%|█▎        | 125/1000 [30:08<3:28:56, 14.33s/it]"
     ]
    },
    {
     "name": "stdout",
     "output_type": "stream",
     "text": [
      "Υδραυλικός Εγκαταστάσεων Φίλτρων Νερού - NOVEL SUGGESTIONS (AGENCIES) LTD\n",
      "titleofjob=Υδραυλικός Εγκαταστάσεων Φίλτρων Νερού\n",
      "refernce_number=148681\n",
      "city=Λάρνακα\n",
      "date_posted=31/08/2021\n",
      "expire_date=27/09/2021\n",
      "views=76\n",
      "type_of_employment=Πλήρης\n",
      "employment_sector=Μη διαθέσιμο\n",
      "publisher=Ιδιωτική Εταιρεία (LTD)\n",
      "category=Υδραυλικοί\n"
     ]
    },
    {
     "name": "stderr",
     "output_type": "stream",
     "text": [
      "\r",
      " 13%|█▎        | 126/1000 [30:21<3:23:38, 13.98s/it]"
     ]
    },
    {
     "name": "stdout",
     "output_type": "stream",
     "text": [
      "Client Account Representatives (5280) - CareerFinders Recruitment Services Ltd\n",
      "titleofjob=Client Account Representatives (5280)\n",
      "refernce_number=148677\n",
      "city=Λεμεσός\n",
      "date_posted=31/08/2021\n",
      "expire_date=27/09/2021\n",
      "views=109\n",
      "type_of_employment=Πλήρης\n",
      "employment_sector=Τράπεζες / Χρηματοπιστωτικά Ιδρύματα\n",
      "publisher=Ιδιωτική Εταιρεία (LTD)\n",
      "category=Εξυπηρέτηση Πελατών, Ξένες Γλώσσες / Μεταφραστές, Υπεύθυνοι Πωλήσεων\n"
     ]
    },
    {
     "name": "stderr",
     "output_type": "stream",
     "text": [
      "\r",
      " 13%|█▎        | 127/1000 [30:34<3:21:09, 13.83s/it]"
     ]
    },
    {
     "name": "stdout",
     "output_type": "stream",
     "text": [
      "Γραμματέας - CH. AVGOUSTI & PARTNERS LLC\n",
      "titleofjob=Γραμματέας\n",
      "refernce_number=148666\n",
      "city=Λεμεσός\n",
      "date_posted=31/08/2021\n",
      "expire_date=27/09/2021\n",
      "views=377\n",
      "type_of_employment=Πλήρης\n",
      "employment_sector=Δικηγορικά γραφεία\n",
      "publisher=Ιδιωτική Εταιρεία (LTD)\n",
      "category=Γραμματειακά\n"
     ]
    },
    {
     "name": "stderr",
     "output_type": "stream",
     "text": [
      "\r",
      " 13%|█▎        | 128/1000 [30:48<3:18:43, 13.67s/it]"
     ]
    },
    {
     "name": "stdout",
     "output_type": "stream",
     "text": [
      "Λειτουργοί Εξυπηρέτησης Πελατών & Πωλήσεων - Pandora Bakeries\n",
      "titleofjob=Λειτουργοί Εξυπηρέτησης Πελατών & Πωλήσεων\n",
      "refernce_number=148651\n",
      "city=Λευκωσία\n",
      "date_posted=31/08/2021\n",
      "expire_date=27/09/2021\n",
      "views=174\n",
      "type_of_employment=Πλήρης\n",
      "employment_sector=Αρτοποιεία - Ζαχαροπλαστεία\n",
      "publisher=Ιδιωτική Εταιρεία (LTD)\n",
      "category=Εξυπηρέτηση Πελατών, Ταμίες, Πωλητές - Καταστήματα\n"
     ]
    },
    {
     "name": "stderr",
     "output_type": "stream",
     "text": [
      "\r",
      " 13%|█▎        | 129/1000 [31:01<3:19:05, 13.71s/it]"
     ]
    },
    {
     "name": "stdout",
     "output_type": "stream",
     "text": [
      "Τεχνικός Αυτοκινήτων - MICHAEL GARAGE LTD\n",
      "titleofjob=Τεχνικός Αυτοκινήτων\n",
      "refernce_number=148665\n",
      "city=Λευκωσία\n",
      "date_posted=31/08/2021\n",
      "expire_date=27/09/2021\n",
      "views=118\n",
      "type_of_employment=Πλήρης\n",
      "employment_sector=Αυτοκινητοβιομηχανίες\n",
      "publisher=Ιδιωτική Εταιρεία (LTD)\n",
      "category=Μηχανικοί Αυτοκινήτων, Μηχανολόγοι Μηχανικοί\n"
     ]
    },
    {
     "name": "stderr",
     "output_type": "stream",
     "text": [
      "\r",
      " 13%|█▎        | 130/1000 [31:15<3:16:21, 13.54s/it]"
     ]
    },
    {
     "name": "stdout",
     "output_type": "stream",
     "text": [
      "Λειτουργοί Εξυπηρέτησης Πελατών - Margarita Bakeries\n",
      "titleofjob=Λειτουργοί Εξυπηρέτησης Πελατών\n",
      "refernce_number=148673\n",
      "city=Αμμόχωστος\n",
      "date_posted=31/08/2021\n",
      "expire_date=27/09/2021\n",
      "views=264\n",
      "type_of_employment=Πλήρης\n",
      "employment_sector=Αρτοποιεία - Ζαχαροπλαστεία\n",
      "publisher=Ιδιωτική Εταιρεία (LTD)\n",
      "category=Εξυπηρέτηση Πελατών, Ταμίες, Πωλητές - Καταστήματα\n"
     ]
    },
    {
     "name": "stderr",
     "output_type": "stream",
     "text": [
      "\r",
      " 13%|█▎        | 131/1000 [31:28<3:17:27, 13.63s/it]"
     ]
    },
    {
     "name": "stdout",
     "output_type": "stream",
     "text": [
      "Logistics Analyst - Pandora Bakeries\n",
      "titleofjob=Logistics Analyst\n",
      "refernce_number=148662\n",
      "city=Λευκωσία\n",
      "date_posted=31/08/2021\n",
      "expire_date=27/09/2021\n",
      "views=159\n",
      "type_of_employment=Πλήρης\n",
      "employment_sector=Αρτοποιεία - Ζαχαροπλαστεία\n",
      "publisher=Ιδιωτική Εταιρεία (LTD)\n",
      "category=Μαθηματικοί / Στατιστικολόγοι, Χρηματοοικονομικά/Χρηματοπιστωτικά, Μεταφορές / Logistics\n"
     ]
    },
    {
     "name": "stderr",
     "output_type": "stream",
     "text": [
      "\r",
      " 13%|█▎        | 132/1000 [31:42<3:14:53, 13.47s/it]"
     ]
    },
    {
     "name": "stdout",
     "output_type": "stream",
     "text": [
      "Οδηγός Νταλίκας - Φάνος Ν. Επιφανίου Δ.Ε. Λτδ\n",
      "titleofjob=Οδηγός Νταλίκας\n",
      "refernce_number=148661\n",
      "city=Λεμεσός\n",
      "date_posted=31/08/2021\n",
      "expire_date=20/09/2021\n",
      "views=165\n",
      "type_of_employment=Πλήρης\n",
      "employment_sector=Οικοδομικά υλικά\n",
      "publisher=Ιδιωτική Εταιρεία (LTD)\n",
      "category=Οδηγοί\n"
     ]
    },
    {
     "name": "stderr",
     "output_type": "stream",
     "text": [
      "\r",
      " 13%|█▎        | 133/1000 [31:56<3:18:31, 13.74s/it]"
     ]
    },
    {
     "name": "stdout",
     "output_type": "stream",
     "text": [
      "Ασκούμενος/η Δικηγόρος - CH. AVGOUSTI & PARTNERS LLC\n",
      "titleofjob=Ασκούμενος/η Δικηγόρος\n",
      "refernce_number=148671\n",
      "city=Λεμεσός\n",
      "date_posted=31/08/2021\n",
      "expire_date=27/09/2021\n",
      "views=76\n",
      "type_of_employment=Πλήρης\n",
      "employment_sector=Δικηγορικά γραφεία\n",
      "publisher=Ιδιωτική Εταιρεία (LTD)\n",
      "category=Δικηγόροι\n"
     ]
    },
    {
     "name": "stderr",
     "output_type": "stream",
     "text": [
      "\r",
      " 13%|█▎        | 134/1000 [32:09<3:16:17, 13.60s/it]"
     ]
    },
    {
     "name": "stdout",
     "output_type": "stream",
     "text": [
      "Year 1 Teacher - The Junior & Senior School\n",
      "titleofjob=Year 1 Teacher\n",
      "refernce_number=148657\n",
      "city=Λευκωσία\n",
      "date_posted=31/08/2021\n",
      "expire_date=31/08/2021\n",
      "views=153\n",
      "type_of_employment=Πλήρης\n",
      "employment_sector=Εκπαιδευτικά Κέντρα / Φροντιστήρια\n",
      "publisher=Μη κερδοσκοπικός οργανισμός\n",
      "category=Δάσκαλοι\n"
     ]
    },
    {
     "name": "stderr",
     "output_type": "stream",
     "text": [
      "\r",
      " 14%|█▎        | 135/1000 [32:24<3:21:09, 13.95s/it]"
     ]
    },
    {
     "name": "stdout",
     "output_type": "stream",
     "text": [
      "Τεχνικός Service Point – Λευκωσία - Kotsovolos - Dixons South East Europe SA\n",
      "titleofjob=Τεχνικός Service Point – Λευκωσία\n",
      "refernce_number=148676\n",
      "city=Λευκωσία\n",
      "date_posted=31/08/2021\n",
      "expire_date=15/09/2021\n",
      "views=138\n",
      "type_of_employment=Πλήρης\n",
      "employment_sector=Υπεραγορές / Πολυκαταστήματα\n",
      "publisher=Ιδιωτική Εταιρεία (LTD)\n",
      "category=Πληροφορική, Ηλεκτρολόγοι, Τεχνικοί\n"
     ]
    },
    {
     "name": "stderr",
     "output_type": "stream",
     "text": [
      "\r",
      " 14%|█▎        | 136/1000 [32:38<3:19:12, 13.83s/it]"
     ]
    },
    {
     "name": "stdout",
     "output_type": "stream",
     "text": [
      "Salesperson - ORCHIDEA JEWELLERY\n",
      "titleofjob=Salesperson\n",
      "refernce_number=148656\n",
      "city=Πάφος\n",
      "date_posted=31/08/2021\n",
      "expire_date=27/09/2021\n",
      "views=171\n",
      "type_of_employment=Πλήρη ή Μερική\n",
      "employment_sector=Λιανικό Εμπόριο\n",
      "publisher=Ιδιωτική Εταιρεία (LTD)\n",
      "category=Πωλητές - Καταστήματα, Ρωσική γλώσσα\n"
     ]
    },
    {
     "name": "stderr",
     "output_type": "stream",
     "text": [
      "\r",
      " 14%|█▎        | 137/1000 [32:52<3:20:08, 13.91s/it]"
     ]
    },
    {
     "name": "stdout",
     "output_type": "stream",
     "text": [
      "Υπεύθυνος/Υπεύθυνη Καταστήματος - Pandora Bakeries\n",
      "titleofjob=Υπεύθυνος/Υπεύθυνη Καταστήματος\n",
      "refernce_number=148658\n",
      "city=Λευκωσία\n",
      "date_posted=31/08/2021\n",
      "expire_date=27/09/2021\n",
      "views=140\n",
      "type_of_employment=Πλήρης\n",
      "employment_sector=Αρτοποιεία - Ζαχαροπλαστεία\n",
      "publisher=Ιδιωτική Εταιρεία (LTD)\n",
      "category=Διοίκηση επιχειρήσεων, Εξυπηρέτηση Πελατών, Υπεύθυνοι Πωλήσεων\n"
     ]
    },
    {
     "name": "stderr",
     "output_type": "stream",
     "text": [
      "\r",
      " 14%|█▍        | 138/1000 [33:08<3:29:46, 14.60s/it]"
     ]
    },
    {
     "name": "stdout",
     "output_type": "stream",
     "text": [
      "Σύμβουλος Πωλήσεων Κινητής Τηλεφωνίας & Συνδέσεων – Λευκωσία - Kotsovolos - Dixons South East Europe SA\n",
      "titleofjob=Σύμβουλος Πωλήσεων Κινητής Τηλεφωνίας & Συνδέσεων – Λευκωσία\n",
      "refernce_number=148674\n",
      "city=Λευκωσία\n",
      "date_posted=31/08/2021\n",
      "expire_date=15/09/2021\n",
      "views=76\n",
      "type_of_employment=Πλήρης\n",
      "employment_sector=Υπεραγορές / Πολυκαταστήματα\n",
      "publisher=Ιδιωτική Εταιρεία (LTD)\n",
      "category=Υπεραγορές - Πολυκαταστήματα, Πωλητές - Καταστήματα\n"
     ]
    },
    {
     "name": "stderr",
     "output_type": "stream",
     "text": [
      "\r",
      " 14%|█▍        | 139/1000 [33:23<3:32:31, 14.81s/it]"
     ]
    },
    {
     "name": "stdout",
     "output_type": "stream",
     "text": [
      "Οδηγός Φορτηγού (Επαγγελματική Άδεια) - A.S. Pilavakis Ltd\n",
      "titleofjob=Οδηγός Φορτηγού (Επαγγελματική Άδεια)\n",
      "refernce_number=148622\n",
      "city=Αμμόχωστος\n",
      "date_posted=31/08/2021\n",
      "expire_date=27/09/2021\n",
      "views=315\n",
      "type_of_employment=Πλήρης\n",
      "employment_sector=Γεωργία / Γεωργικά Προϊόντα\n",
      "publisher=Ιδιωτική Εταιρεία (LTD)\n",
      "category=Οδηγοί\n"
     ]
    },
    {
     "name": "stderr",
     "output_type": "stream",
     "text": [
      "\r",
      " 14%|█▍        | 140/1000 [33:37<3:29:45, 14.63s/it]"
     ]
    },
    {
     "name": "stdout",
     "output_type": "stream",
     "text": [
      "Tech @ Home – Λευκωσία - Kotsovolos - Dixons South East Europe SA\n",
      "titleofjob=Tech @ Home – Λευκωσία\n",
      "refernce_number=148672\n",
      "city=Λευκωσία\n",
      "date_posted=31/08/2021\n",
      "expire_date=15/09/2021\n",
      "views=81\n",
      "type_of_employment=Πλήρης\n",
      "employment_sector=Υπεραγορές / Πολυκαταστήματα\n",
      "publisher=Ιδιωτική Εταιρεία (LTD)\n",
      "category=Πληροφορική, Τεχνικοί\n"
     ]
    },
    {
     "name": "stderr",
     "output_type": "stream",
     "text": [
      "\r",
      " 14%|█▍        | 141/1000 [33:52<3:30:24, 14.70s/it]"
     ]
    },
    {
     "name": "stdout",
     "output_type": "stream",
     "text": [
      "Κομμώτρια/Κομμωτής (Hair Stylist) - ΚΟΜΜΩΤΗΡΙΟ ΝΤΙΝΑΣ\n",
      "titleofjob=Κομμώτρια/Κομμωτής (Hair Stylist)\n",
      "refernce_number=148621\n",
      "city=Λευκωσία\n",
      "date_posted=31/08/2021\n",
      "expire_date=27/09/2021\n",
      "views=129\n",
      "type_of_employment=Πλήρη ή Μερική\n",
      "employment_sector=Περιποίηση-Ομορφιά-Φυσική κατάσταση\n",
      "publisher=Ιδιωτική Εταιρεία (LTD)\n",
      "category=Κομμωτές\n"
     ]
    },
    {
     "name": "stderr",
     "output_type": "stream",
     "text": [
      "\r",
      " 14%|█▍        | 142/1000 [34:06<3:26:28, 14.44s/it]"
     ]
    },
    {
     "name": "stdout",
     "output_type": "stream",
     "text": [
      "Τεχνικός Service Point – Λεμεσός - Kotsovolos - Dixons South East Europe SA\n",
      "titleofjob=Τεχνικός Service Point – Λεμεσός\n",
      "refernce_number=148669\n",
      "city=Λεμεσός\n",
      "date_posted=31/08/2021\n",
      "expire_date=15/09/2021\n",
      "views=87\n",
      "type_of_employment=Πλήρης\n",
      "employment_sector=Υπεραγορές / Πολυκαταστήματα\n",
      "publisher=Ιδιωτική Εταιρεία (LTD)\n",
      "category=Πληροφορική, Ηλεκτρολόγοι, Τεχνικοί\n"
     ]
    },
    {
     "name": "stderr",
     "output_type": "stream",
     "text": [
      "\r",
      " 14%|█▍        | 143/1000 [34:21<3:27:22, 14.52s/it]"
     ]
    },
    {
     "name": "stdout",
     "output_type": "stream",
     "text": [
      "Καθηγητής/τρια Αγγλικών - SAMASTERMINDS PRIVATE INSTITUTE\n",
      "titleofjob=Καθηγητής/τρια Αγγλικών\n",
      "refernce_number=148620\n",
      "city=Λεμεσός\n",
      "date_posted=01/09/2021\n",
      "expire_date=26/09/2021\n",
      "views=108\n",
      "type_of_employment=Πλήρη ή Μερική\n",
      "employment_sector=Εκπαιδευτικά Κέντρα / Φροντιστήρια\n",
      "publisher=Πανεπιστήμιο / Εκπαιδευτικό Κέντρο\n",
      "category=Καθηγητές / Ακαδημαϊκοί, Δάσκαλοι\n"
     ]
    },
    {
     "name": "stderr",
     "output_type": "stream",
     "text": [
      "\r",
      " 14%|█▍        | 144/1000 [34:35<3:25:03, 14.37s/it]"
     ]
    },
    {
     "name": "stdout",
     "output_type": "stream",
     "text": [
      "Software Developer - Synectics Ltd\n",
      "titleofjob=Software Developer\n",
      "refernce_number=148653\n",
      "city=Λευκωσία\n",
      "date_posted=31/08/2021\n",
      "expire_date=27/09/2021\n",
      "views=290\n",
      "type_of_employment=Πλήρης\n",
      "employment_sector=Πληροφορική\n",
      "publisher=Ιδιωτική Εταιρεία (LTD)\n",
      "category=Πληροφορική\n"
     ]
    },
    {
     "name": "stderr",
     "output_type": "stream",
     "text": [
      "\r",
      " 14%|█▍        | 145/1000 [34:50<3:27:54, 14.59s/it]"
     ]
    },
    {
     "name": "stdout",
     "output_type": "stream",
     "text": [
      "Σύμβουλος Πωλήσεων Κινητής Τηλεφωνίας & Συνδέσεων – Λεμεσός - Kotsovolos - Dixons South East Europe SA\n",
      "titleofjob=Σύμβουλος Πωλήσεων Κινητής Τηλεφωνίας & Συνδέσεων – Λεμεσός\n",
      "refernce_number=148667\n",
      "city=Λεμεσός\n",
      "date_posted=31/08/2021\n",
      "expire_date=15/09/2021\n",
      "views=88\n",
      "type_of_employment=Πλήρης\n",
      "employment_sector=Υπεραγορές / Πολυκαταστήματα\n",
      "publisher=Ιδιωτική Εταιρεία (LTD)\n",
      "category=Υπεραγορές - Πολυκαταστήματα, Πωλητές - Καταστήματα\n"
     ]
    },
    {
     "name": "stderr",
     "output_type": "stream",
     "text": [
      "\r",
      " 15%|█▍        | 146/1000 [35:04<3:26:43, 14.52s/it]"
     ]
    },
    {
     "name": "stdout",
     "output_type": "stream",
     "text": [
      "Τεχνικός Πωλήσεων - ΠΕΛΕΤΙΚΟ ΛΤΔ\n",
      "titleofjob=Τεχνικός Πωλήσεων\n",
      "refernce_number=148647\n",
      "city=Λάρνακα, Αμμόχωστος\n",
      "date_posted=31/08/2021\n",
      "expire_date=10/09/2021\n",
      "views=194\n",
      "type_of_employment=Πλήρης\n",
      "employment_sector=Μη διαθέσιμο\n",
      "publisher=Ιδιωτική Εταιρεία (LTD)\n",
      "category=Αρχιτέκτονες, Πολιτικοί Μηχανικοί, Πωλητές - Καταστήματα, Χημικοί\n"
     ]
    },
    {
     "name": "stderr",
     "output_type": "stream",
     "text": [
      "\r",
      " 15%|█▍        | 147/1000 [35:18<3:22:27, 14.24s/it]"
     ]
    },
    {
     "name": "stdout",
     "output_type": "stream",
     "text": [
      "Βοηθός Ψυκτικού – Λεμεσός - Kotsovolos - Dixons South East Europe SA\n",
      "titleofjob=Βοηθός Ψυκτικού – Λεμεσός\n",
      "refernce_number=148664\n",
      "city=Λεμεσός\n",
      "date_posted=31/08/2021\n",
      "expire_date=15/09/2021\n",
      "views=75\n",
      "type_of_employment=Πλήρης\n",
      "employment_sector=Υπεραγορές / Πολυκαταστήματα\n",
      "publisher=Ιδιωτική Εταιρεία (LTD)\n",
      "category=Τεχνικοί\n"
     ]
    },
    {
     "name": "stderr",
     "output_type": "stream",
     "text": [
      "\r",
      " 15%|█▍        | 148/1000 [35:32<3:23:29, 14.33s/it]"
     ]
    },
    {
     "name": "stdout",
     "output_type": "stream",
     "text": [
      "Διανομέας - PARASKEVAS FOOD SUPPLIERS\n",
      "titleofjob=Διανομέας\n",
      "refernce_number=148619\n",
      "city=Λεμεσός\n",
      "date_posted=31/08/2021\n",
      "expire_date=27/09/2021\n",
      "views=543\n",
      "type_of_employment=Πλήρης\n",
      "employment_sector=Λιανικό Εμπόριο\n",
      "publisher=Ιδιωτική Εταιρεία (LTD)\n",
      "category=Διανομείς, Οδηγοί\n"
     ]
    },
    {
     "name": "stderr",
     "output_type": "stream",
     "text": [
      "\r",
      " 15%|█▍        | 149/1000 [35:46<3:21:36, 14.21s/it]"
     ]
    },
    {
     "name": "stdout",
     "output_type": "stream",
     "text": [
      "Τεχνικός Πωλήσεων - ΠΕΛΕΤΙΚΟ ΛΤΔ\n",
      "titleofjob=Τεχνικός Πωλήσεων\n",
      "refernce_number=148632\n",
      "city=Λευκωσία\n",
      "date_posted=31/08/2021\n",
      "expire_date=10/09/2021\n",
      "views=79\n",
      "type_of_employment=Πλήρης\n",
      "employment_sector=Μη διαθέσιμο\n",
      "publisher=Ιδιωτική Εταιρεία (LTD)\n",
      "category=Αρχιτέκτονες, Πολιτικοί Μηχανικοί, Πωλητές - Καταστήματα, Χημικοί\n"
     ]
    },
    {
     "name": "stderr",
     "output_type": "stream",
     "text": [
      "\r",
      " 15%|█▌        | 150/1000 [36:00<3:20:57, 14.19s/it]"
     ]
    },
    {
     "name": "stdout",
     "output_type": "stream",
     "text": [
      "Αρχιτεχνίτης Ψυκτικός – Λεμεσός - Kotsovolos - Dixons South East Europe SA\n",
      "titleofjob=Αρχιτεχνίτης Ψυκτικός – Λεμεσός\n",
      "refernce_number=148663\n",
      "city=Λεμεσός\n",
      "date_posted=31/08/2021\n",
      "expire_date=15/09/2021\n",
      "views=55\n",
      "type_of_employment=Πλήρης\n",
      "employment_sector=Υπεραγορές / Πολυκαταστήματα\n",
      "publisher=Ιδιωτική Εταιρεία (LTD)\n",
      "category=Τεχνικοί\n"
     ]
    },
    {
     "name": "stderr",
     "output_type": "stream",
     "text": [
      "\r",
      " 15%|█▌        | 151/1000 [36:13<3:16:00, 13.85s/it]"
     ]
    },
    {
     "name": "stdout",
     "output_type": "stream",
     "text": [
      "Tech @ Home – Λεμεσός - Kotsovolos - Dixons South East Europe SA\n",
      "titleofjob=Tech @ Home – Λεμεσός\n",
      "refernce_number=148659\n",
      "city=Λεμεσός\n",
      "date_posted=31/08/2021\n",
      "expire_date=15/09/2021\n",
      "views=113\n",
      "type_of_employment=Πλήρης\n",
      "employment_sector=Υπεραγορές / Πολυκαταστήματα\n",
      "publisher=Ιδιωτική Εταιρεία (LTD)\n",
      "category=Πληροφορική, Υπεραγορές - Πολυκαταστήματα, Ηλεκτρολόγοι, Τεχνικοί\n"
     ]
    },
    {
     "name": "stderr",
     "output_type": "stream",
     "text": [
      "\r",
      " 15%|█▌        | 152/1000 [36:28<3:16:46, 13.92s/it]"
     ]
    },
    {
     "name": "stdout",
     "output_type": "stream",
     "text": [
      "Accounting Assistant - Oneworld Ltd\n",
      "titleofjob=Accounting Assistant\n",
      "refernce_number=148610\n",
      "city=Λεμεσός\n",
      "date_posted=31/08/2021\n",
      "expire_date=27/09/2021\n",
      "views=164\n",
      "type_of_employment=Πλήρης\n",
      "employment_sector=Λογιστικά / Ελεγκτικά γραφεία\n",
      "publisher=Ιδιωτική Εταιρεία (LTD)\n",
      "category=Λογιστές, Χρηματοοικονομικά/Χρηματοπιστωτικά\n"
     ]
    },
    {
     "name": "stderr",
     "output_type": "stream",
     "text": [
      "\r",
      " 15%|█▌        | 153/1000 [36:41<3:16:31, 13.92s/it]"
     ]
    },
    {
     "name": "stdout",
     "output_type": "stream",
     "text": [
      "Head of Operations (5279) - CareerFinders Recruitment Services Ltd\n",
      "titleofjob=Head of Operations (5279)\n",
      "refernce_number=148609\n",
      "city=Λευκωσία\n",
      "date_posted=31/08/2021\n",
      "expire_date=27/09/2021\n",
      "views=218\n",
      "type_of_employment=Πλήρης\n",
      "employment_sector=Μη διαθέσιμο\n",
      "publisher=Ιδιωτική Εταιρεία (LTD)\n",
      "category=Διοίκηση επιχειρήσεων, Χρηματοοικονομικά/Χρηματοπιστωτικά, Ρωσική γλώσσα\n"
     ]
    },
    {
     "name": "stderr",
     "output_type": "stream",
     "text": [
      "\r",
      " 15%|█▌        | 154/1000 [36:57<3:21:02, 14.26s/it]"
     ]
    },
    {
     "name": "stdout",
     "output_type": "stream",
     "text": [
      "Software Engineer - Playtech BGT Sports Ltd\n",
      "titleofjob=Software Engineer\n",
      "refernce_number=148608\n",
      "city=Λευκωσία\n",
      "date_posted=31/08/2021\n",
      "expire_date=27/09/2021\n",
      "views=34\n",
      "type_of_employment=Πλήρης\n",
      "employment_sector=Πληροφορική\n",
      "publisher=Ιδιωτική Εταιρεία (LTD)\n",
      "category=Πληροφορική\n"
     ]
    },
    {
     "name": "stderr",
     "output_type": "stream",
     "text": [
      "\r",
      " 16%|█▌        | 155/1000 [37:12<3:25:08, 14.57s/it]"
     ]
    },
    {
     "name": "stdout",
     "output_type": "stream",
     "text": [
      "Senior Dealer - GT Group\n",
      "titleofjob=Senior Dealer\n",
      "refernce_number=148616\n",
      "city=Πάφος\n",
      "date_posted=31/08/2021\n",
      "expire_date=27/09/2021\n",
      "views=100\n",
      "type_of_employment=Πλήρης\n",
      "employment_sector=Forex\n",
      "publisher=Ιδιωτική Εταιρεία (LTD)\n",
      "category=Μαθηματικοί / Στατιστικολόγοι, Οικονομολόγοι, Forex\n"
     ]
    },
    {
     "name": "stderr",
     "output_type": "stream",
     "text": [
      "\r",
      " 16%|█▌        | 156/1000 [37:25<3:19:02, 14.15s/it]"
     ]
    },
    {
     "name": "stdout",
     "output_type": "stream",
     "text": [
      "Barista - Pandora Bakeries\n",
      "titleofjob=Barista\n",
      "refernce_number=148648\n",
      "city=Λευκωσία\n",
      "date_posted=31/08/2021\n",
      "expire_date=27/09/2021\n",
      "views=99\n",
      "type_of_employment=Πλήρης\n",
      "employment_sector=Αρτοποιεία - Ζαχαροπλαστεία\n",
      "publisher=Ιδιωτική Εταιρεία (LTD)\n",
      "category=Υπάλληλοι HORECA, Baristas\n"
     ]
    },
    {
     "name": "stderr",
     "output_type": "stream",
     "text": [
      "\r",
      " 16%|█▌        | 157/1000 [37:39<3:19:20, 14.19s/it]"
     ]
    },
    {
     "name": "stdout",
     "output_type": "stream",
     "text": [
      "Διανομέας - Iakovos Photiades Foodstuff Suppliers Ltd\n",
      "titleofjob=Διανομέας\n",
      "refernce_number=148615\n",
      "city=Λευκωσία\n",
      "date_posted=31/08/2021\n",
      "expire_date=27/09/2021\n",
      "views=146\n",
      "type_of_employment=Πλήρης\n",
      "employment_sector=Χοντρικό Εμπόριο\n",
      "publisher=Ιδιωτική Εταιρεία (LTD)\n",
      "category=Διανομείς, Οδηγοί\n"
     ]
    },
    {
     "name": "stderr",
     "output_type": "stream",
     "text": [
      "\r",
      " 16%|█▌        | 158/1000 [37:54<3:19:49, 14.24s/it]"
     ]
    },
    {
     "name": "stdout",
     "output_type": "stream",
     "text": [
      "Γραμματέας - Globetech Laboratories Ltd\n",
      "titleofjob=Γραμματέας\n",
      "refernce_number=148624\n",
      "city=Λευκωσία\n",
      "date_posted=31/08/2021\n",
      "expire_date=27/09/2021\n",
      "views=488\n",
      "type_of_employment=Πλήρης\n",
      "employment_sector=Μη διαθέσιμο\n",
      "publisher=Ιδιωτική Εταιρεία (LTD)\n",
      "category=Γραμματειακά\n"
     ]
    },
    {
     "name": "stderr",
     "output_type": "stream",
     "text": [
      "\r",
      " 16%|█▌        | 159/1000 [38:07<3:15:47, 13.97s/it]"
     ]
    },
    {
     "name": "stdout",
     "output_type": "stream",
     "text": [
      "Πωλήτριες / Πωλητές - sugarfree cyprus\n",
      "titleofjob=Πωλήτριες / Πωλητές\n",
      "refernce_number=148607\n",
      "city=Λεμεσός, Λευκωσία, Λάρνακα, Πάφος\n",
      "date_posted=31/08/2021\n",
      "expire_date=27/09/2021\n",
      "views=358\n",
      "type_of_employment=Πλήρη ή Μερική\n",
      "employment_sector=Λιανικό Εμπόριο\n",
      "publisher=Ιδιωτική Εταιρεία (LTD)\n",
      "category=Πωλητές - Καταστήματα\n"
     ]
    },
    {
     "name": "stderr",
     "output_type": "stream",
     "text": [
      "\r",
      " 16%|█▌        | 160/1000 [38:21<3:16:30, 14.04s/it]"
     ]
    },
    {
     "name": "stdout",
     "output_type": "stream",
     "text": [
      "Ταμίας / Cashier - Part Time - Λευκωσία - Kotsovolos - Dixons South East Europe SA\n",
      "titleofjob=Ταμίας / Cashier - Part Time - Λευκωσία\n",
      "refernce_number=148655\n",
      "city=Λευκωσία\n",
      "date_posted=31/08/2021\n",
      "expire_date=15/09/2021\n",
      "views=141\n",
      "type_of_employment=Μερική\n",
      "employment_sector=Υπεραγορές / Πολυκαταστήματα\n",
      "publisher=Ιδιωτική Εταιρεία (LTD)\n",
      "category=Διοίκηση επιχειρήσεων, Οικονομολόγοι, Ταμίες\n"
     ]
    },
    {
     "name": "stderr",
     "output_type": "stream",
     "text": [
      "\r",
      " 16%|█▌        | 161/1000 [38:35<3:17:31, 14.13s/it]"
     ]
    },
    {
     "name": "stdout",
     "output_type": "stream",
     "text": [
      "Ταμίας / Cashier - Part Time - Λεμεσός - Kotsovolos - Dixons South East Europe SA\n",
      "titleofjob=Ταμίας / Cashier - Part Time - Λεμεσός\n",
      "refernce_number=148652\n",
      "city=Λεμεσός\n",
      "date_posted=31/08/2021\n",
      "expire_date=15/09/2021\n",
      "views=147\n",
      "type_of_employment=Μερική\n",
      "employment_sector=Υπεραγορές / Πολυκαταστήματα\n",
      "publisher=Ιδιωτική Εταιρεία (LTD)\n",
      "category=Διοίκηση επιχειρήσεων, Οικονομολόγοι, Ταμίες\n"
     ]
    },
    {
     "name": "stderr",
     "output_type": "stream",
     "text": [
      "\r",
      " 16%|█▌        | 162/1000 [38:49<3:15:45, 14.02s/it]"
     ]
    },
    {
     "name": "stdout",
     "output_type": "stream",
     "text": [
      "Σερβιτόροι/Σερβιτόρες - Jamie’s Italian\n",
      "titleofjob=Σερβιτόροι/Σερβιτόρες\n",
      "refernce_number=148606\n",
      "city=Λευκωσία\n",
      "date_posted=31/08/2021\n",
      "expire_date=27/09/2021\n",
      "views=68\n",
      "type_of_employment=Πλήρη ή Μερική\n",
      "employment_sector=Εστιατόρια / Καφετέριες\n",
      "publisher=Ιδιωτική Εταιρεία (LTD)\n",
      "category=Υπάλληλοι HORECA, Σερβιτόροι\n"
     ]
    },
    {
     "name": "stderr",
     "output_type": "stream",
     "text": [
      "\r",
      " 16%|█▋        | 163/1000 [39:03<3:12:53, 13.83s/it]"
     ]
    },
    {
     "name": "stdout",
     "output_type": "stream",
     "text": [
      "Senior IP/MPLS & DDoS Engineer - Cablenet Communication Systems PLC\n",
      "titleofjob=Senior IP/MPLS & DDoS Engineer\n",
      "refernce_number=148612\n",
      "city=Λευκωσία\n",
      "date_posted=31/08/2021\n",
      "expire_date=27/09/2021\n",
      "views=65\n",
      "type_of_employment=Πλήρης\n",
      "employment_sector=Τηλεπικοινωνία / Internet\n",
      "publisher=Δημόσια Εταιρεία (PLC)\n",
      "category=Πληροφορική\n"
     ]
    },
    {
     "name": "stderr",
     "output_type": "stream",
     "text": [
      "\r",
      " 16%|█▋        | 164/1000 [39:18<3:21:07, 14.44s/it]"
     ]
    },
    {
     "name": "stdout",
     "output_type": "stream",
     "text": [
      "Ταμίας / Cashier - Full Time - Λεμεσός - Kotsovolos - Dixons South East Europe SA\n",
      "titleofjob=Ταμίας / Cashier - Full Time - Λεμεσός\n",
      "refernce_number=148650\n",
      "city=Λεμεσός\n",
      "date_posted=31/08/2021\n",
      "expire_date=15/09/2021\n",
      "views=68\n",
      "type_of_employment=Πλήρης\n",
      "employment_sector=Υπεραγορές / Πολυκαταστήματα\n",
      "publisher=Ιδιωτική Εταιρεία (LTD)\n",
      "category=Διοίκηση επιχειρήσεων, Οικονομολόγοι, Υπεραγορές - Πολυκαταστήματα, Ταμίες\n"
     ]
    },
    {
     "name": "stderr",
     "output_type": "stream",
     "text": [
      "\r",
      " 16%|█▋        | 165/1000 [39:32<3:18:41, 14.28s/it]"
     ]
    },
    {
     "name": "stdout",
     "output_type": "stream",
     "text": [
      "Ταμίας / Cashier - Full Time - Λευκωσία - Kotsovolos - Dixons South East Europe SA\n",
      "titleofjob=Ταμίας / Cashier - Full Time - Λευκωσία\n",
      "refernce_number=148649\n",
      "city=Λευκωσία\n",
      "date_posted=31/08/2021\n",
      "expire_date=15/09/2021\n",
      "views=58\n",
      "type_of_employment=Πλήρης\n",
      "employment_sector=Υπεραγορές / Πολυκαταστήματα\n",
      "publisher=Ιδιωτική Εταιρεία (LTD)\n",
      "category=Διοίκηση επιχειρήσεων, Οικονομολόγοι, Ταμίες\n"
     ]
    },
    {
     "name": "stderr",
     "output_type": "stream",
     "text": [
      "\r",
      " 17%|█▋        | 166/1000 [39:46<3:17:34, 14.21s/it]"
     ]
    },
    {
     "name": "stdout",
     "output_type": "stream",
     "text": [
      "Σύμβουλος Πωλήσεων / Sales Consultant - Full Time - Λευκωσία - Kotsovolos - Dixons South East Europe SA\n",
      "titleofjob=Σύμβουλος Πωλήσεων / Sales Consultant - Full Time - Λευκωσία\n",
      "refernce_number=148645\n",
      "city=Λευκωσία\n",
      "date_posted=31/08/2021\n",
      "expire_date=15/09/2021\n",
      "views=65\n",
      "type_of_employment=Πλήρης\n",
      "employment_sector=Υπεραγορές / Πολυκαταστήματα\n",
      "publisher=Ιδιωτική Εταιρεία (LTD)\n",
      "category=Υπεραγορές - Πολυκαταστήματα, Πωλητές - Καταστήματα\n"
     ]
    },
    {
     "name": "stderr",
     "output_type": "stream",
     "text": [
      "\r",
      " 17%|█▋        | 167/1000 [40:01<3:19:21, 14.36s/it]"
     ]
    },
    {
     "name": "stdout",
     "output_type": "stream",
     "text": [
      "FP&A Senior Analyst - PLAYTECH SERVICES (CYPRUS) LTD\n",
      "titleofjob=FP&A Senior Analyst\n",
      "refernce_number=148611\n",
      "city=Λευκωσία\n",
      "date_posted=31/08/2021\n",
      "expire_date=27/09/2021\n",
      "views=103\n",
      "type_of_employment=Πλήρης\n",
      "employment_sector=Πληροφορική\n",
      "publisher=Ιδιωτική Εταιρεία (LTD)\n",
      "category=Λογιστές, Οικονομολόγοι\n"
     ]
    },
    {
     "name": "stderr",
     "output_type": "stream",
     "text": [
      "\r",
      " 17%|█▋        | 168/1000 [40:15<3:17:37, 14.25s/it]"
     ]
    },
    {
     "name": "stdout",
     "output_type": "stream",
     "text": [
      "Σύμβουλος Πωλήσεων / Sales Consultant - Full Time - Λεμεσός - Kotsovolos - Dixons South East Europe SA\n",
      "titleofjob=Σύμβουλος Πωλήσεων / Sales Consultant - Full Time - Λεμεσός\n",
      "refernce_number=148643\n",
      "city=Λεμεσός\n",
      "date_posted=31/08/2021\n",
      "expire_date=15/09/2021\n",
      "views=96\n",
      "type_of_employment=Πλήρης\n",
      "employment_sector=Υπεραγορές / Πολυκαταστήματα\n",
      "publisher=Ιδιωτική Εταιρεία (LTD)\n",
      "category=Υπεραγορές - Πολυκαταστήματα, Πωλητές - Καταστήματα\n"
     ]
    },
    {
     "name": "stderr",
     "output_type": "stream",
     "text": [
      "\r",
      " 17%|█▋        | 169/1000 [40:29<3:16:30, 14.19s/it]"
     ]
    },
    {
     "name": "stdout",
     "output_type": "stream",
     "text": [
      "Store Manager - Symeonides Coffee Cyprus LTD\n",
      "titleofjob=Store Manager\n",
      "refernce_number=148604\n",
      "city=Λεμεσός, Λευκωσία, Λάρνακα, Πάφος, Αμμόχωστος\n",
      "date_posted=31/08/2021\n",
      "expire_date=27/09/2021\n",
      "views=484\n",
      "type_of_employment=Πλήρης\n",
      "employment_sector=Εστιατόρια / Καφετέριες\n",
      "publisher=Ιδιωτική Εταιρεία (LTD)\n",
      "category=Διοίκηση επιχειρήσεων, Υπάλληλοι HORECA\n"
     ]
    },
    {
     "name": "stderr",
     "output_type": "stream",
     "text": [
      "\r",
      " 17%|█▋        | 170/1000 [40:43<3:16:22, 14.20s/it]"
     ]
    },
    {
     "name": "stdout",
     "output_type": "stream",
     "text": [
      "Τεχνικός Service Point Intern – Λεμεσός - Kotsovolos - Dixons South East Europe SA\n",
      "titleofjob=Τεχνικός Service Point Intern – Λεμεσός\n",
      "refernce_number=148641\n",
      "city=Λεμεσός\n",
      "date_posted=31/08/2021\n",
      "expire_date=15/09/2021\n",
      "views=95\n",
      "type_of_employment=Πλήρης\n",
      "employment_sector=Υπεραγορές / Πολυκαταστήματα\n",
      "publisher=Ιδιωτική Εταιρεία (LTD)\n",
      "category=Πληροφορική, Πρακτική Άσκηση, Τεχνικοί\n"
     ]
    },
    {
     "name": "stderr",
     "output_type": "stream",
     "text": [
      "\r",
      " 17%|█▋        | 171/1000 [40:57<3:12:04, 13.90s/it]"
     ]
    },
    {
     "name": "stdout",
     "output_type": "stream",
     "text": [
      "Chief Financial Officer (CFO) - MGR Human Resources Ltd\n",
      "titleofjob=Chief Financial Officer (CFO)\n",
      "refernce_number=148603\n",
      "city=Λεμεσός\n",
      "date_posted=31/08/2021\n",
      "expire_date=10/09/2021\n",
      "views=308\n",
      "type_of_employment=Πλήρης\n",
      "employment_sector=Σύμβουλοι Επιχειρήσεων\n",
      "publisher=Ιδιωτική Εταιρεία (LTD)\n",
      "category=Διοίκηση επιχειρήσεων, Λογιστές, Οικονομολόγοι, Χρηματοοικονομικά/Χρηματοπιστωτικά\n"
     ]
    },
    {
     "name": "stderr",
     "output_type": "stream",
     "text": [
      "\r",
      " 17%|█▋        | 172/1000 [41:10<3:09:41, 13.75s/it]"
     ]
    },
    {
     "name": "stdout",
     "output_type": "stream",
     "text": [
      "Τεχνικός Service Point Intern – Λευκωσία - Kotsovolos - Dixons South East Europe SA\n",
      "titleofjob=Τεχνικός Service Point Intern – Λευκωσία\n",
      "refernce_number=148638\n",
      "city=Λευκωσία\n",
      "date_posted=31/08/2021\n",
      "expire_date=15/09/2021\n",
      "views=47\n",
      "type_of_employment=Πλήρης\n",
      "employment_sector=Υπεραγορές / Πολυκαταστήματα\n",
      "publisher=Ιδιωτική Εταιρεία (LTD)\n",
      "category=Πληροφορική, Πρακτική Άσκηση\n"
     ]
    },
    {
     "name": "stderr",
     "output_type": "stream",
     "text": [
      "\r",
      " 17%|█▋        | 173/1000 [41:24<3:08:33, 13.68s/it]"
     ]
    },
    {
     "name": "stdout",
     "output_type": "stream",
     "text": [
      "Αρχιτεχνίτης Ψυκτικός – Λευκωσία - Kotsovolos - Dixons South East Europe SA\n",
      "titleofjob=Αρχιτεχνίτης Ψυκτικός – Λευκωσία\n",
      "refernce_number=148637\n",
      "city=Λευκωσία\n",
      "date_posted=31/08/2021\n",
      "expire_date=15/09/2021\n",
      "views=49\n",
      "type_of_employment=Πλήρης\n",
      "employment_sector=Υπεραγορές / Πολυκαταστήματα\n",
      "publisher=Ιδιωτική Εταιρεία (LTD)\n",
      "category=Εργάτες - Τεχνίτες, Τεχνικοί\n"
     ]
    },
    {
     "name": "stderr",
     "output_type": "stream",
     "text": [
      "\r",
      " 17%|█▋        | 174/1000 [41:38<3:09:36, 13.77s/it]"
     ]
    },
    {
     "name": "stdout",
     "output_type": "stream",
     "text": [
      "Καθαριστής / Καθαρίστρια - Symeonides Coffee Cyprus LTD\n",
      "titleofjob=Καθαριστής / Καθαρίστρια\n",
      "refernce_number=148600\n",
      "city=Λεμεσός, Λευκωσία, Λάρνακα, Πάφος, Αμμόχωστος\n",
      "date_posted=31/08/2021\n",
      "expire_date=27/09/2021\n",
      "views=663\n",
      "type_of_employment=Πλήρη ή Μερική\n",
      "employment_sector=Εστιατόρια / Καφετέριες\n",
      "publisher=Ιδιωτική Εταιρεία (LTD)\n",
      "category=Υπάλληλοι HORECA\n"
     ]
    },
    {
     "name": "stderr",
     "output_type": "stream",
     "text": [
      "\r",
      " 18%|█▊        | 175/1000 [41:51<3:08:54, 13.74s/it]"
     ]
    },
    {
     "name": "stdout",
     "output_type": "stream",
     "text": [
      "Βοηθός Ψυκτικού – Λευκωσία - Kotsovolos - Dixons South East Europe SA\n",
      "titleofjob=Βοηθός Ψυκτικού – Λευκωσία\n",
      "refernce_number=148635\n",
      "city=Λευκωσία\n",
      "date_posted=31/08/2021\n",
      "expire_date=15/09/2021\n",
      "views=56\n",
      "type_of_employment=Πλήρης\n",
      "employment_sector=Υπεραγορές / Πολυκαταστήματα\n",
      "publisher=Ιδιωτική Εταιρεία (LTD)\n",
      "category=Εργάτες - Τεχνίτες, Τεχνικοί\n"
     ]
    },
    {
     "name": "stderr",
     "output_type": "stream",
     "text": [
      "\r",
      " 18%|█▊        | 176/1000 [42:05<3:08:45, 13.74s/it]"
     ]
    },
    {
     "name": "stdout",
     "output_type": "stream",
     "text": [
      "Logistics Coordinator - Λευκωσία - Kotsovolos - Dixons South East Europe SA\n",
      "titleofjob=Logistics Coordinator - Λευκωσία\n",
      "refernce_number=148633\n",
      "city=Λευκωσία\n",
      "date_posted=31/08/2021\n",
      "expire_date=15/09/2021\n",
      "views=110\n",
      "type_of_employment=Πλήρης\n",
      "employment_sector=Υπεραγορές / Πολυκαταστήματα\n",
      "publisher=Ιδιωτική Εταιρεία (LTD)\n",
      "category=Διοίκηση επιχειρήσεων, Υπεραγορές - Πολυκαταστήματα, Μεταφορές / Logistics\n"
     ]
    },
    {
     "name": "stderr",
     "output_type": "stream",
     "text": [
      "\r",
      " 18%|█▊        | 177/1000 [42:20<3:12:25, 14.03s/it]"
     ]
    },
    {
     "name": "stdout",
     "output_type": "stream",
     "text": [
      "Αποθηκάριος – Λευκωσία - Kotsovolos - Dixons South East Europe SA\n",
      "titleofjob=Αποθηκάριος – Λευκωσία\n",
      "refernce_number=148631\n",
      "city=Λευκωσία\n",
      "date_posted=31/08/2021\n",
      "expire_date=15/09/2021\n",
      "views=174\n",
      "type_of_employment=Πλήρης\n",
      "employment_sector=Υπεραγορές / Πολυκαταστήματα\n",
      "publisher=Ιδιωτική Εταιρεία (LTD)\n",
      "category=Υπεραγορές - Πολυκαταστήματα, Αποθηκάριοι\n"
     ]
    },
    {
     "name": "stderr",
     "output_type": "stream",
     "text": [
      "\r",
      " 18%|█▊        | 178/1000 [42:33<3:08:21, 13.75s/it]"
     ]
    },
    {
     "name": "stdout",
     "output_type": "stream",
     "text": [
      "Βοηθός Ηλεκτρολόγος - S. CHRISTOFIDES ELECTRICAL\n",
      "titleofjob=Βοηθός Ηλεκτρολόγος\n",
      "refernce_number=148601\n",
      "city=Λευκωσία\n",
      "date_posted=31/08/2021\n",
      "expire_date=27/09/2021\n",
      "views=51\n",
      "type_of_employment=Πλήρης\n",
      "employment_sector=Ηλεκτρικές εγκαταστάσεις\n",
      "publisher=Ιδιωτική Εταιρεία (LTD)\n",
      "category=Ηλεκτρολόγοι\n"
     ]
    },
    {
     "name": "stderr",
     "output_type": "stream",
     "text": [
      "\r",
      " 18%|█▊        | 179/1000 [42:47<3:09:08, 13.82s/it]"
     ]
    },
    {
     "name": "stdout",
     "output_type": "stream",
     "text": [
      "Αποθηκάριος – Λεμεσός - Kotsovolos - Dixons South East Europe SA\n",
      "titleofjob=Αποθηκάριος – Λεμεσός\n",
      "refernce_number=148629\n",
      "city=Λεμεσός\n",
      "date_posted=31/08/2021\n",
      "expire_date=15/09/2021\n",
      "views=159\n",
      "type_of_employment=Πλήρης\n",
      "employment_sector=Υπεραγορές / Πολυκαταστήματα\n",
      "publisher=Ιδιωτική Εταιρεία (LTD)\n",
      "category=Υπεραγορές - Πολυκαταστήματα, Αποθηκάριοι\n"
     ]
    },
    {
     "name": "stderr",
     "output_type": "stream",
     "text": [
      "\r",
      " 18%|█▊        | 180/1000 [43:01<3:10:50, 13.96s/it]"
     ]
    },
    {
     "name": "stdout",
     "output_type": "stream",
     "text": [
      "Διευθυντικό Στέλεχος – Λευκωσία - Kotsovolos - Dixons South East Europe SA\n",
      "titleofjob=Διευθυντικό Στέλεχος – Λευκωσία\n",
      "refernce_number=148628\n",
      "city=Λευκωσία\n",
      "date_posted=31/08/2021\n",
      "expire_date=15/09/2021\n",
      "views=144\n",
      "type_of_employment=Πλήρης\n",
      "employment_sector=Υπεραγορές / Πολυκαταστήματα\n",
      "publisher=Ιδιωτική Εταιρεία (LTD)\n",
      "category=Διοίκηση επιχειρήσεων, Υπεραγορές - Πολυκαταστήματα\n"
     ]
    },
    {
     "name": "stderr",
     "output_type": "stream",
     "text": [
      "\r",
      " 18%|█▊        | 181/1000 [43:15<3:10:19, 13.94s/it]"
     ]
    },
    {
     "name": "stdout",
     "output_type": "stream",
     "text": [
      "Ηλεκτρολόγος - S. CHRISTOFIDES ELECTRICAL\n",
      "titleofjob=Ηλεκτρολόγος\n",
      "refernce_number=148599\n",
      "city=Λευκωσία\n",
      "date_posted=31/08/2021\n",
      "expire_date=27/09/2021\n",
      "views=48\n",
      "type_of_employment=Πλήρης\n",
      "employment_sector=Ηλεκτρικές εγκαταστάσεις\n",
      "publisher=Ιδιωτική Εταιρεία (LTD)\n",
      "category=Ηλεκτρολόγοι\n"
     ]
    },
    {
     "name": "stderr",
     "output_type": "stream",
     "text": [
      "\r",
      " 18%|█▊        | 182/1000 [43:30<3:16:21, 14.40s/it]"
     ]
    },
    {
     "name": "stdout",
     "output_type": "stream",
     "text": [
      "Διευθυντικό Στέλεχος – Λεμεσός - Kotsovolos - Dixons South East Europe SA\n",
      "titleofjob=Διευθυντικό Στέλεχος – Λεμεσός\n",
      "refernce_number=148626\n",
      "city=Λεμεσός\n",
      "date_posted=31/08/2021\n",
      "expire_date=15/09/2021\n",
      "views=160\n",
      "type_of_employment=Πλήρης\n",
      "employment_sector=Υπεραγορές / Πολυκαταστήματα\n",
      "publisher=Ιδιωτική Εταιρεία (LTD)\n",
      "category=Διοίκηση επιχειρήσεων, Υπεραγορές - Πολυκαταστήματα\n"
     ]
    },
    {
     "name": "stderr",
     "output_type": "stream",
     "text": [
      "\r",
      " 18%|█▊        | 183/1000 [43:45<3:15:30, 14.36s/it]"
     ]
    },
    {
     "name": "stdout",
     "output_type": "stream",
     "text": [
      "Junior IT Support Officer - SAT7\n",
      "titleofjob=Junior IT Support Officer\n",
      "refernce_number=148579\n",
      "city=Λευκωσία\n",
      "date_posted=31/08/2021\n",
      "expire_date=13/09/2021\n",
      "views=333\n",
      "type_of_employment=Πλήρης\n",
      "employment_sector=Μέσα Μαζικής Ενημέρωσης\n",
      "publisher=Μη κερδοσκοπικός οργανισμός\n",
      "category=Πληροφορική\n"
     ]
    },
    {
     "name": "stderr",
     "output_type": "stream",
     "text": [
      "\r",
      " 18%|█▊        | 184/1000 [44:00<3:18:59, 14.63s/it]"
     ]
    },
    {
     "name": "stdout",
     "output_type": "stream",
     "text": [
      "Shift Leader - Symeonides Coffee Cyprus LTD\n",
      "titleofjob=Shift Leader\n",
      "refernce_number=148598\n",
      "city=Λεμεσός, Λευκωσία, Λάρνακα, Πάφος, Αμμόχωστος\n",
      "date_posted=01/09/2021\n",
      "expire_date=26/09/2021\n",
      "views=474\n",
      "type_of_employment=Πλήρη ή Μερική\n",
      "employment_sector=Εστιατόρια / Καφετέριες\n",
      "publisher=Ιδιωτική Εταιρεία (LTD)\n",
      "category=Διοίκηση επιχειρήσεων, Υπάλληλοι HORECA, Baristas\n"
     ]
    },
    {
     "name": "stderr",
     "output_type": "stream",
     "text": [
      "\r",
      " 18%|█▊        | 185/1000 [44:13<3:12:35, 14.18s/it]"
     ]
    },
    {
     "name": "stdout",
     "output_type": "stream",
     "text": [
      "Barista - Symeonides Coffee Cyprus LTD\n",
      "titleofjob=Barista\n",
      "refernce_number=148596\n",
      "city=Λεμεσός, Λευκωσία, Λάρνακα, Πάφος, Αμμόχωστος\n",
      "date_posted=01/09/2021\n",
      "expire_date=26/09/2021\n",
      "views=437\n",
      "type_of_employment=Πλήρη ή Μερική\n",
      "employment_sector=Εστιατόρια / Καφετέριες\n",
      "publisher=Ιδιωτική Εταιρεία (LTD)\n",
      "category=Υπάλληλοι HORECA, Baristas\n"
     ]
    },
    {
     "name": "stderr",
     "output_type": "stream",
     "text": [
      "\r",
      " 19%|█▊        | 186/1000 [44:26<3:09:03, 13.94s/it]"
     ]
    },
    {
     "name": "stdout",
     "output_type": "stream",
     "text": [
      "Client Bookkeeper (5278) - CareerFinders Recruitment Services Ltd\n",
      "titleofjob=Client Bookkeeper (5278)\n",
      "refernce_number=148597\n",
      "city=Λευκωσία\n",
      "date_posted=01/09/2021\n",
      "expire_date=26/09/2021\n",
      "views=154\n",
      "type_of_employment=Πλήρης\n",
      "employment_sector=Λογιστικά / Ελεγκτικά γραφεία\n",
      "publisher=Ιδιωτική Εταιρεία (LTD)\n",
      "category=Λογιστές\n"
     ]
    },
    {
     "name": "stderr",
     "output_type": "stream",
     "text": [
      "\r",
      " 19%|█▊        | 187/1000 [44:40<3:09:23, 13.98s/it]"
     ]
    },
    {
     "name": "stdout",
     "output_type": "stream",
     "text": [
      "Νοσηλευτές / Νοσηλεύτριες Α' Επιπέδου - Mediterranean Hospital of Cyprus\n",
      "titleofjob=Νοσηλευτές / Νοσηλεύτριες Α' Επιπέδου\n",
      "refernce_number=148595\n",
      "city=Λεμεσός\n",
      "date_posted=01/09/2021\n",
      "expire_date=25/09/2021\n",
      "views=139\n",
      "type_of_employment=Πλήρης\n",
      "employment_sector=Νοσοκομεία / Κλινικές\n",
      "publisher=Ιδιωτική Εταιρεία (LTD)\n",
      "category=Νοσηλευτές\n"
     ]
    },
    {
     "name": "stderr",
     "output_type": "stream",
     "text": [
      "\r",
      " 19%|█▉        | 188/1000 [44:54<3:08:57, 13.96s/it]"
     ]
    },
    {
     "name": "stdout",
     "output_type": "stream",
     "text": [
      "Customer Support Representatives (French Speaking) - Tech4S Group Ltd\n",
      "titleofjob=Customer Support Representatives (French Speaking)\n",
      "refernce_number=148594\n",
      "city=Λεμεσός\n",
      "date_posted=01/09/2021\n",
      "expire_date=26/09/2021\n",
      "views=88\n",
      "type_of_employment=Πλήρης\n",
      "employment_sector=Σύμβουλοι Επιχειρήσεων\n",
      "publisher=Ιδιωτική Εταιρεία (LTD)\n",
      "category=Εξυπηρέτηση Πελατών, Ξένες Γλώσσες / Μεταφραστές, Τηλεφωνητές\n"
     ]
    },
    {
     "name": "stderr",
     "output_type": "stream",
     "text": [
      "\r",
      " 19%|█▉        | 189/1000 [45:08<3:08:14, 13.93s/it]"
     ]
    },
    {
     "name": "stdout",
     "output_type": "stream",
     "text": [
      "Υπεύθυνος/η Τμήματος Προσφορών - MULTIPRO LTD\n",
      "titleofjob=Υπεύθυνος/η Τμήματος Προσφορών\n",
      "refernce_number=148398\n",
      "city=Λευκωσία\n",
      "date_posted=01/09/2021\n",
      "expire_date=26/09/2021\n",
      "views=640\n",
      "type_of_employment=Πλήρης\n",
      "employment_sector=Εργοληπτικές εταιρείες\n",
      "publisher=Ιδιωτική Εταιρεία (LTD)\n",
      "category=Πολιτικοί Μηχανικοί, Επιμετρητές Ποσοτήτων\n"
     ]
    },
    {
     "name": "stderr",
     "output_type": "stream",
     "text": [
      "\r",
      " 19%|█▉        | 190/1000 [45:23<3:12:38, 14.27s/it]"
     ]
    },
    {
     "name": "stdout",
     "output_type": "stream",
     "text": [
      "Υπεύθυνος/η Μηχανικός Κατασκευής Έργου - Vert Et Blanc Constructions (Overseas) Ltd\n",
      "titleofjob=Υπεύθυνος/η Μηχανικός Κατασκευής Έργου\n",
      "refernce_number=148592\n",
      "city=Λεμεσός\n",
      "date_posted=01/09/2021\n",
      "expire_date=26/09/2021\n",
      "views=207\n",
      "type_of_employment=Πλήρης\n",
      "employment_sector=Εργοληπτικές εταιρείες\n",
      "publisher=Ιδιωτική Εταιρεία (LTD)\n",
      "category=Πολιτικοί Μηχανικοί\n"
     ]
    },
    {
     "name": "stderr",
     "output_type": "stream",
     "text": [
      "\r",
      " 19%|█▉        | 191/1000 [45:37<3:10:53, 14.16s/it]"
     ]
    },
    {
     "name": "stdout",
     "output_type": "stream",
     "text": [
      "Civil Engineer - OUSAI PROPERTIES LTD\n",
      "titleofjob=Civil Engineer\n",
      "refernce_number=148591\n",
      "city=Λεμεσός\n",
      "date_posted=01/09/2021\n",
      "expire_date=26/09/2021\n",
      "views=173\n",
      "type_of_employment=Πλήρης\n",
      "employment_sector=Δόμηση / Κατασκεύες\n",
      "publisher=Ιδιωτική Εταιρεία (LTD)\n",
      "category=Πολιτικοί Μηχανικοί\n"
     ]
    },
    {
     "name": "stderr",
     "output_type": "stream",
     "text": [
      "\r",
      " 19%|█▉        | 192/1000 [45:51<3:10:41, 14.16s/it]"
     ]
    },
    {
     "name": "stdout",
     "output_type": "stream",
     "text": [
      "Σύμβουλος Ομορφιάς - Cyprus Trading Corporation Plc\n",
      "titleofjob=Σύμβουλος Ομορφιάς\n",
      "refernce_number=148589\n",
      "city=Λευκωσία\n",
      "date_posted=01/09/2021\n",
      "expire_date=26/09/2021\n",
      "views=108\n",
      "type_of_employment=Πλήρης\n",
      "employment_sector=Περιποίηση-Ομορφιά-Φυσική κατάσταση\n",
      "publisher=Ιδιωτική Εταιρεία (LTD)\n",
      "category=Αισθητικοί / Επαγγελματικό Μακιγιάζ\n"
     ]
    },
    {
     "name": "stderr",
     "output_type": "stream",
     "text": [
      "\r",
      " 19%|█▉        | 193/1000 [46:06<3:10:14, 14.14s/it]"
     ]
    },
    {
     "name": "stdout",
     "output_type": "stream",
     "text": [
      "Cafeteria Assistant - UCLan Cyprus Ltd\n",
      "titleofjob=Cafeteria Assistant\n",
      "refernce_number=148590\n",
      "city=Λάρνακα\n",
      "date_posted=01/09/2021\n",
      "expire_date=10/09/2021\n",
      "views=178\n",
      "type_of_employment=Πλήρης\n",
      "employment_sector=Εκπαιδευτικά Κέντρα / Φροντιστήρια\n",
      "publisher=Πανεπιστήμιο / Εκπαιδευτικό Κέντρο\n",
      "category=Υπάλληλοι HORECA\n"
     ]
    },
    {
     "name": "stderr",
     "output_type": "stream",
     "text": [
      "\r",
      " 19%|█▉        | 194/1000 [46:19<3:08:41, 14.05s/it]"
     ]
    },
    {
     "name": "stdout",
     "output_type": "stream",
     "text": [
      "Λειτουργός Εξυπηρέτησης Πελατών - D.A.D TRADING CO. LIMITED\n",
      "titleofjob=Λειτουργός Εξυπηρέτησης Πελατών\n",
      "refernce_number=148583\n",
      "city=Λευκωσία\n",
      "date_posted=01/09/2021\n",
      "expire_date=26/09/2021\n",
      "views=178\n",
      "type_of_employment=Πλήρης\n",
      "employment_sector=Μη διαθέσιμο\n",
      "publisher=Ιδιωτική Εταιρεία (LTD)\n",
      "category=Υπάλληλοι HORECA, Ταμίες\n"
     ]
    },
    {
     "name": "stderr",
     "output_type": "stream",
     "text": [
      "\r",
      " 20%|█▉        | 195/1000 [46:34<3:09:16, 14.11s/it]"
     ]
    },
    {
     "name": "stdout",
     "output_type": "stream",
     "text": [
      "Ταμίας - Charis & Giorgos Charalambous Ltd\n",
      "titleofjob=Ταμίας\n",
      "refernce_number=146348\n",
      "city=Λευκωσία\n",
      "date_posted=01/09/2021\n",
      "expire_date=26/09/2021\n",
      "views=521\n",
      "type_of_employment=Πλήρης\n",
      "employment_sector=Υπεραγορές / Πολυκαταστήματα\n",
      "publisher=Ιδιωτική Εταιρεία (LTD)\n",
      "category=Υπεραγορές - Πολυκαταστήματα, Ταμίες\n"
     ]
    },
    {
     "name": "stderr",
     "output_type": "stream",
     "text": [
      "\r",
      " 20%|█▉        | 196/1000 [46:47<3:07:04, 13.96s/it]"
     ]
    },
    {
     "name": "stdout",
     "output_type": "stream",
     "text": [
      "Associate Lecturer in Marketing - UCLan Cyprus Ltd\n",
      "titleofjob=Associate Lecturer in Marketing\n",
      "refernce_number=148586\n",
      "city=Λάρνακα\n",
      "date_posted=01/09/2021\n",
      "expire_date=10/09/2021\n",
      "views=165\n",
      "type_of_employment=Μερική\n",
      "employment_sector=Εκπαιδευτικά Κέντρα / Φροντιστήρια\n",
      "publisher=Πανεπιστήμιο / Εκπαιδευτικό Κέντρο\n",
      "category=Καθηγητές / Ακαδημαϊκοί, Μάρκετινγκ / Δημόσιες Σχέσεις\n"
     ]
    },
    {
     "name": "stderr",
     "output_type": "stream",
     "text": [
      "\r",
      " 20%|█▉        | 197/1000 [47:02<3:10:13, 14.21s/it]"
     ]
    },
    {
     "name": "stdout",
     "output_type": "stream",
     "text": [
      "Assistant Compilance Officer (Ref: AC/08/2021) - CYWORLD WEALTH LIMITED\n",
      "titleofjob=Assistant Compilance Officer (Ref: AC/08/2021)\n",
      "refernce_number=148582\n",
      "city=Λευκωσία\n",
      "date_posted=01/09/2021\n",
      "expire_date=15/09/2021\n",
      "views=450\n",
      "type_of_employment=Πλήρης\n",
      "employment_sector=Σύμβουλοι Επιχειρήσεων\n",
      "publisher=Ιδιωτική Εταιρεία (LTD)\n",
      "category=Γραμματειακά, Διοίκηση επιχειρήσεων, Δικηγόροι, Οικονομολόγοι, Χρηματοοικονομικά/Χρηματοπιστωτικά, Ρωσική γλώσσα\n"
     ]
    },
    {
     "name": "stderr",
     "output_type": "stream",
     "text": [
      "\r",
      " 20%|█▉        | 198/1000 [47:16<3:08:38, 14.11s/it]"
     ]
    },
    {
     "name": "stdout",
     "output_type": "stream",
     "text": [
      "Junior IT Analyst - SAT7\n",
      "titleofjob=Junior IT Analyst\n",
      "refernce_number=148580\n",
      "city=Λευκωσία\n",
      "date_posted=01/09/2021\n",
      "expire_date=13/09/2021\n",
      "views=413\n",
      "type_of_employment=Πλήρης\n",
      "employment_sector=Μέσα Μαζικής Ενημέρωσης\n",
      "publisher=Μη κερδοσκοπικός οργανισμός\n",
      "category=Πληροφορική\n"
     ]
    },
    {
     "name": "stderr",
     "output_type": "stream",
     "text": [
      "\r",
      " 20%|█▉        | 199/1000 [47:29<3:04:25, 13.82s/it]"
     ]
    },
    {
     "name": "stdout",
     "output_type": "stream",
     "text": [
      "Receptionist - OUSAI PROPERTIES LTD\n",
      "titleofjob=Receptionist\n",
      "refernce_number=148581\n",
      "city=Λεμεσός\n",
      "date_posted=01/09/2021\n",
      "expire_date=26/09/2021\n",
      "views=273\n",
      "type_of_employment=Πλήρης\n",
      "employment_sector=Δόμηση / Κατασκεύες\n",
      "publisher=Ιδιωτική Εταιρεία (LTD)\n",
      "category=Γραμματειακά, Εξυπηρέτηση Πελατών, Ξένες Γλώσσες / Μεταφραστές\n"
     ]
    },
    {
     "name": "stderr",
     "output_type": "stream",
     "text": [
      "\r",
      " 20%|██        | 200/1000 [47:42<3:02:37, 13.70s/it]"
     ]
    },
    {
     "name": "stdout",
     "output_type": "stream",
     "text": [
      "Network Engineer - Spectech Talent Solutions Ltd\n",
      "titleofjob=Network Engineer\n",
      "refernce_number=148578\n",
      "city=Λεμεσός\n",
      "date_posted=01/09/2021\n",
      "expire_date=26/09/2021\n",
      "views=80\n",
      "type_of_employment=Πλήρης\n",
      "employment_sector=Σύμβουλοι Επιχειρήσεων\n",
      "publisher=Ιδιωτική Εταιρεία (LTD)\n",
      "category=Ηλεκτρολόγοι Μηχανικοί, Τεχνικοί\n"
     ]
    },
    {
     "name": "stderr",
     "output_type": "stream",
     "text": [
      "\r",
      " 20%|██        | 201/1000 [47:57<3:06:11, 13.98s/it]"
     ]
    },
    {
     "name": "stdout",
     "output_type": "stream",
     "text": [
      "Sales Development Representatives (SDR) - BridgerPay\n",
      "titleofjob=Sales Development Representatives (SDR)\n",
      "refernce_number=148577\n",
      "city=Λεμεσός\n",
      "date_posted=01/09/2021\n",
      "expire_date=26/09/2021\n",
      "views=485\n",
      "type_of_employment=Πλήρης\n",
      "employment_sector=FinTech\n",
      "publisher=Ιδιωτική Εταιρεία (LTD)\n",
      "category=Διοίκηση επιχειρήσεων, Forex, Υπεύθυνοι Πωλήσεων, Χρηματοοικονομικά/Χρηματοπιστωτικά\n"
     ]
    },
    {
     "name": "stderr",
     "output_type": "stream",
     "text": [
      "\r",
      " 20%|██        | 202/1000 [48:13<3:14:45, 14.64s/it]"
     ]
    },
    {
     "name": "stdout",
     "output_type": "stream",
     "text": [
      "Accountant - RoboGate Ltd\n",
      "titleofjob=Accountant\n",
      "refernce_number=148576\n",
      "city=Λεμεσός\n",
      "date_posted=01/09/2021\n",
      "expire_date=26/09/2021\n",
      "views=121\n",
      "type_of_employment=Πλήρης\n",
      "employment_sector=FinTech\n",
      "publisher=Ιδιωτική Εταιρεία (LTD)\n",
      "category=Λογιστές, Χρηματοοικονομικά/Χρηματοπιστωτικά, Ρωσική γλώσσα\n"
     ]
    },
    {
     "name": "stderr",
     "output_type": "stream",
     "text": [
      "\r",
      " 20%|██        | 203/1000 [48:27<3:11:02, 14.38s/it]"
     ]
    },
    {
     "name": "stdout",
     "output_type": "stream",
     "text": [
      "Λειτουργός Παραγωγής & Marketing - Οργάνωση Παραγωγών Σεδιγεπ Λύσης Λτδ\n",
      "titleofjob=Λειτουργός Παραγωγής & Marketing\n",
      "refernce_number=148574\n",
      "city=Λάρνακα\n",
      "date_posted=01/09/2021\n",
      "expire_date=26/09/2021\n",
      "views=701\n",
      "type_of_employment=Πλήρης\n",
      "employment_sector=Γεωργία / Γεωργικά Προϊόντα\n",
      "publisher=Ιδιωτική Εταιρεία (LTD)\n",
      "category=Γεωργοί / Γεωπόνοι , Διοίκηση επιχειρήσεων, Μάρκετινγκ / Δημόσιες Σχέσεις, Οικονομολόγοι, Χρηματοοικονομικά/Χρηματοπιστωτικά\n"
     ]
    },
    {
     "name": "stderr",
     "output_type": "stream",
     "text": [
      "\r",
      " 20%|██        | 204/1000 [48:41<3:10:26, 14.35s/it]"
     ]
    },
    {
     "name": "stdout",
     "output_type": "stream",
     "text": [
      "Κτηματομεσίτες/τριες - Ktimatagora\n",
      "titleofjob=Κτηματομεσίτες/τριες\n",
      "refernce_number=148575\n",
      "city=Λευκωσία\n",
      "date_posted=01/09/2021\n",
      "expire_date=26/09/2021\n",
      "views=160\n",
      "type_of_employment=Πλήρης\n",
      "employment_sector=Μη διαθέσιμο\n",
      "publisher=Ιδιωτική Εταιρεία (LTD)\n",
      "category=Τομέας Ακινήτων, Εξωτερικοί Πωλητές / Πλασιέ\n"
     ]
    },
    {
     "name": "stderr",
     "output_type": "stream",
     "text": [
      "\r",
      " 20%|██        | 205/1000 [48:56<3:10:22, 14.37s/it]"
     ]
    },
    {
     "name": "stdout",
     "output_type": "stream",
     "text": [
      "Λειτουργοί Εξυπηρέτησης Ασθενών - Mediterranean Hospital of Cyprus\n",
      "titleofjob=Λειτουργοί Εξυπηρέτησης Ασθενών\n",
      "refernce_number=148573\n",
      "city=Λεμεσός\n",
      "date_posted=01/09/2021\n",
      "expire_date=26/09/2021\n",
      "views=319\n",
      "type_of_employment=Πλήρης\n",
      "employment_sector=Νοσοκομεία / Κλινικές\n",
      "publisher=Ιδιωτική Εταιρεία (LTD)\n",
      "category=Γραμματειακά, Εξυπηρέτηση Πελατών, Τηλεφωνητές\n"
     ]
    },
    {
     "name": "stderr",
     "output_type": "stream",
     "text": [
      "\r",
      " 21%|██        | 206/1000 [49:09<3:04:38, 13.95s/it]"
     ]
    },
    {
     "name": "stdout",
     "output_type": "stream",
     "text": [
      "Καθαρίστριες / Καθαριστές - SPS PRIVATE SECURITY SERVICES LIMITED\n",
      "titleofjob=Καθαρίστριες / Καθαριστές\n",
      "refernce_number=148567\n",
      "city=Λευκωσία\n",
      "date_posted=01/09/2021\n",
      "expire_date=26/09/2021\n",
      "views=175\n",
      "type_of_employment=Πλήρη ή Μερική\n",
      "employment_sector=Μη διαθέσιμο\n",
      "publisher=Ιδιωτική Εταιρεία (LTD)\n",
      "category=Καθαριστές / Καθαρίστριες\n"
     ]
    },
    {
     "name": "stderr",
     "output_type": "stream",
     "text": [
      "\r",
      " 21%|██        | 207/1000 [49:23<3:04:57, 13.99s/it]"
     ]
    },
    {
     "name": "stdout",
     "output_type": "stream",
     "text": [
      "Υδραυλικός - Rightclima\n",
      "titleofjob=Υδραυλικός\n",
      "refernce_number=148572\n",
      "city=Λευκωσία\n",
      "date_posted=01/09/2021\n",
      "expire_date=26/09/2021\n",
      "views=71\n",
      "type_of_employment=Πλήρης\n",
      "employment_sector=Μηχανολογικές Εργασίες\n",
      "publisher=Ιδιωτική Εταιρεία (LTD)\n",
      "category=Υδραυλικοί\n"
     ]
    },
    {
     "name": "stderr",
     "output_type": "stream",
     "text": [
      "\r",
      " 21%|██        | 208/1000 [49:37<3:04:53, 14.01s/it]"
     ]
    },
    {
     "name": "stdout",
     "output_type": "stream",
     "text": [
      "Learning Support Assistant - The Junior & Senior School\n",
      "titleofjob=Learning Support Assistant\n",
      "refernce_number=148571\n",
      "city=Λευκωσία\n",
      "date_posted=01/09/2021\n",
      "expire_date=10/09/2021\n",
      "views=212\n",
      "type_of_employment=Πλήρης\n",
      "employment_sector=Εκπαιδευτικά Κέντρα / Φροντιστήρια\n",
      "publisher=Μη κερδοσκοπικός οργανισμός\n",
      "category=Δάσκαλοι\n"
     ]
    },
    {
     "name": "stderr",
     "output_type": "stream",
     "text": [
      "\r",
      " 21%|██        | 209/1000 [49:50<3:01:40, 13.78s/it]"
     ]
    },
    {
     "name": "stdout",
     "output_type": "stream",
     "text": [
      "Βοηθός Οδοντιατρείου - Maria Sokratous dental clinic\n",
      "titleofjob=Βοηθός Οδοντιατρείου\n",
      "refernce_number=148568\n",
      "city=Λάρνακα\n",
      "date_posted=01/09/2021\n",
      "expire_date=26/09/2021\n",
      "views=336\n",
      "type_of_employment=Μερική\n",
      "employment_sector=Μη διαθέσιμο\n",
      "publisher=Φυσικό Πρόσωπο\n",
      "category=Βοηθοί Οδοντιατρείου\n"
     ]
    },
    {
     "name": "stderr",
     "output_type": "stream",
     "text": [
      "\r",
      " 21%|██        | 210/1000 [50:04<3:03:22, 13.93s/it]"
     ]
    },
    {
     "name": "stdout",
     "output_type": "stream",
     "text": [
      "Accountant - DELTA QUEST HOLDINGS LTD\n",
      "titleofjob=Accountant\n",
      "refernce_number=148569\n",
      "city=Λεμεσός\n",
      "date_posted=01/09/2021\n",
      "expire_date=26/09/2021\n",
      "views=141\n",
      "type_of_employment=Πλήρης\n",
      "employment_sector=Δικηγορικά γραφεία\n",
      "publisher=Ιδιωτική Εταιρεία (LTD)\n",
      "category=Λογιστές, Χρηματοοικονομικά/Χρηματοπιστωτικά\n"
     ]
    },
    {
     "name": "stderr",
     "output_type": "stream",
     "text": [
      "\r",
      " 21%|██        | 211/1000 [50:18<3:03:21, 13.94s/it]"
     ]
    },
    {
     "name": "stdout",
     "output_type": "stream",
     "text": [
      "Back-Office Assistant - UGM SECURITIES LIMITED\n",
      "titleofjob=Back-Office Assistant\n",
      "refernce_number=136948\n",
      "city=Λευκωσία\n",
      "date_posted=01/09/2021\n",
      "expire_date=26/09/2021\n",
      "views=342\n",
      "type_of_employment=Πλήρης\n",
      "employment_sector=Τράπεζες / Χρηματοπιστωτικά Ιδρύματα\n",
      "publisher=Ιδιωτική Εταιρεία (LTD)\n",
      "category=Οικονομολόγοι, Χρηματοοικονομικά/Χρηματοπιστωτικά\n"
     ]
    },
    {
     "name": "stderr",
     "output_type": "stream",
     "text": [
      "\r",
      " 21%|██        | 212/1000 [50:32<3:02:02, 13.86s/it]"
     ]
    },
    {
     "name": "stdout",
     "output_type": "stream",
     "text": [
      "Treasury Controller - iTrade Global (CY) Ltd\n",
      "titleofjob=Treasury Controller\n",
      "refernce_number=148562\n",
      "city=Λεμεσός\n",
      "date_posted=01/09/2021\n",
      "expire_date=26/09/2021\n",
      "views=499\n",
      "type_of_employment=Πλήρης\n",
      "employment_sector=Forex\n",
      "publisher=Ιδιωτική Εταιρεία (LTD)\n",
      "category=Διοίκηση επιχειρήσεων, Λογιστές, Οικονομολόγοι, Forex, Χρηματοοικονομικά/Χρηματοπιστωτικά\n"
     ]
    },
    {
     "name": "stderr",
     "output_type": "stream",
     "text": [
      "\r",
      " 21%|██▏       | 213/1000 [50:47<3:05:04, 14.11s/it]"
     ]
    },
    {
     "name": "stdout",
     "output_type": "stream",
     "text": [
      "Financial Controller - iTrade Global (CY) Ltd\n",
      "titleofjob=Financial Controller\n",
      "refernce_number=148555\n",
      "city=Λεμεσός\n",
      "date_posted=01/09/2021\n",
      "expire_date=26/09/2021\n",
      "views=576\n",
      "type_of_employment=Πλήρης\n",
      "employment_sector=Forex\n",
      "publisher=Ιδιωτική Εταιρεία (LTD)\n",
      "category=Διοίκηση επιχειρήσεων, Λογιστές, Forex, Χρηματοοικονομικά/Χρηματοπιστωτικά\n"
     ]
    },
    {
     "name": "stderr",
     "output_type": "stream",
     "text": [
      "\r",
      " 21%|██▏       | 214/1000 [51:01<3:05:40, 14.17s/it]"
     ]
    },
    {
     "name": "stdout",
     "output_type": "stream",
     "text": [
      "Auditor - M.A.C. AUDIT SERVICES LTD\n",
      "titleofjob=Auditor\n",
      "refernce_number=148566\n",
      "city=Λεμεσός\n",
      "date_posted=01/09/2021\n",
      "expire_date=26/09/2021\n",
      "views=70\n",
      "type_of_employment=Πλήρης\n",
      "employment_sector=Λογιστικά / Ελεγκτικά γραφεία\n",
      "publisher=Ιδιωτική Εταιρεία (LTD)\n",
      "category=Ελεγκτές, Χρηματοοικονομικά/Χρηματοπιστωτικά\n"
     ]
    },
    {
     "name": "stderr",
     "output_type": "stream",
     "text": [
      "\r",
      " 22%|██▏       | 215/1000 [51:15<3:03:58, 14.06s/it]"
     ]
    },
    {
     "name": "stdout",
     "output_type": "stream",
     "text": [
      "Καθηγητής / Καθηγήτρια - ΦΡΟΝΤΙΣΤΗΡΙΑ ΘΕΑ ΚΟΣΜΑ\n",
      "titleofjob=Καθηγητής / Καθηγήτρια\n",
      "refernce_number=148556\n",
      "city=Λάρνακα\n",
      "date_posted=01/09/2021\n",
      "expire_date=26/09/2021\n",
      "views=165\n",
      "type_of_employment=Πλήρης\n",
      "employment_sector=Εκπαιδευτικά Κέντρα / Φροντιστήρια\n",
      "publisher=Ιδιωτική Εταιρεία (LTD)\n",
      "category=Μαθηματικοί / Στατιστικολόγοι, Φυσικοί, Χημικοί\n"
     ]
    },
    {
     "name": "stderr",
     "output_type": "stream",
     "text": [
      "\r",
      " 22%|██▏       | 216/1000 [51:28<3:01:13, 13.87s/it]"
     ]
    },
    {
     "name": "stdout",
     "output_type": "stream",
     "text": [
      "Οδηγός - Mitsides Public Company Ltd\n",
      "titleofjob=Οδηγός\n",
      "refernce_number=146371\n",
      "city=Λευκωσία\n",
      "date_posted=28/09/2021\n",
      "expire_date=λήγει αύριο\n",
      "views=574\n",
      "type_of_employment=Πλήρης\n",
      "employment_sector=Μη διαθέσιμο\n",
      "publisher=Ιδιωτική Εταιρεία (LTD)\n",
      "category=Οδηγοί\n"
     ]
    },
    {
     "name": "stderr",
     "output_type": "stream",
     "text": [
      "\r",
      " 22%|██▏       | 217/1000 [51:42<3:00:44, 13.85s/it]"
     ]
    },
    {
     "name": "stdout",
     "output_type": "stream",
     "text": [
      "Bookkeeper - M.A.C. AUDIT SERVICES LTD\n",
      "titleofjob=Bookkeeper\n",
      "refernce_number=148565\n",
      "city=Λεμεσός\n",
      "date_posted=01/09/2021\n",
      "expire_date=26/09/2021\n",
      "views=123\n",
      "type_of_employment=Πλήρης\n",
      "employment_sector=Λογιστικά / Ελεγκτικά γραφεία\n",
      "publisher=Ιδιωτική Εταιρεία (LTD)\n",
      "category=Λογιστές, Χρηματοοικονομικά/Χρηματοπιστωτικά\n"
     ]
    },
    {
     "name": "stderr",
     "output_type": "stream",
     "text": [
      "\r",
      " 22%|██▏       | 218/1000 [51:56<3:02:46, 14.02s/it]"
     ]
    },
    {
     "name": "stdout",
     "output_type": "stream",
     "text": [
      "Sales Associates - HAPPY SOCKS (Egkomi Mall, Nicosia) - STESTA Distribution Ltd\n",
      "titleofjob=Sales Associates - HAPPY SOCKS (Egkomi Mall, Nicosia)\n",
      "refernce_number=148559\n",
      "city=Λευκωσία\n",
      "date_posted=01/09/2021\n",
      "expire_date=26/09/2021\n",
      "views=425\n",
      "type_of_employment=Πλήρη ή Μερική\n",
      "employment_sector=Λιανικό Εμπόριο\n",
      "publisher=Ιδιωτική Εταιρεία (LTD)\n",
      "category=Πωλητές - Καταστήματα\n"
     ]
    },
    {
     "name": "stderr",
     "output_type": "stream",
     "text": [
      "\r",
      " 22%|██▏       | 219/1000 [52:10<3:01:38, 13.95s/it]"
     ]
    },
    {
     "name": "stdout",
     "output_type": "stream",
     "text": [
      "Οδηγός / Διανομέας (Διπλός Ρόλος) - Oenus Ltd\n",
      "titleofjob=Οδηγός / Διανομέας (Διπλός Ρόλος)\n",
      "refernce_number=148564\n",
      "city=Λεμεσός\n",
      "date_posted=01/09/2021\n",
      "expire_date=26/09/2021\n",
      "views=206\n",
      "type_of_employment=Πλήρης\n",
      "employment_sector=Χοντρικό Εμπόριο\n",
      "publisher=Ιδιωτική Εταιρεία (LTD)\n",
      "category=Διανομείς, Οδηγοί\n"
     ]
    },
    {
     "name": "stderr",
     "output_type": "stream",
     "text": [
      "\r",
      " 22%|██▏       | 220/1000 [52:25<3:02:51, 14.07s/it]"
     ]
    },
    {
     "name": "stdout",
     "output_type": "stream",
     "text": [
      "Sales Associates - GANT (MyMall Limassol) - STESTA Distribution Ltd\n",
      "titleofjob=Sales Associates - GANT (MyMall Limassol)\n",
      "refernce_number=148557\n",
      "city=Λεμεσός\n",
      "date_posted=01/09/2021\n",
      "expire_date=26/09/2021\n",
      "views=289\n",
      "type_of_employment=Πλήρη ή Μερική\n",
      "employment_sector=Μόδα / Ένδυση / Υπόδηση\n",
      "publisher=Ιδιωτική Εταιρεία (LTD)\n",
      "category=Πωλητές - Καταστήματα\n"
     ]
    },
    {
     "name": "stderr",
     "output_type": "stream",
     "text": [
      "\r",
      " 22%|██▏       | 221/1000 [52:39<3:04:52, 14.24s/it]"
     ]
    },
    {
     "name": "stdout",
     "output_type": "stream",
     "text": [
      "Junior Auditor - A & C CHRISTOFI LTD\n",
      "titleofjob=Junior Auditor\n",
      "refernce_number=148563\n",
      "city=Λεμεσός\n",
      "date_posted=01/09/2021\n",
      "expire_date=26/09/2021\n",
      "views=144\n",
      "type_of_employment=Πλήρης\n",
      "employment_sector=Λογιστικά / Ελεγκτικά γραφεία\n",
      "publisher=Ιδιωτική Εταιρεία (LTD)\n",
      "category=Διοίκηση επιχειρήσεων, Ελεγκτές, Λογιστές, Μαθηματικοί / Στατιστικολόγοι, Οικονομολόγοι, Χρηματοοικονομικά/Χρηματοπιστωτικά\n"
     ]
    },
    {
     "name": "stderr",
     "output_type": "stream",
     "text": [
      "\r",
      " 22%|██▏       | 222/1000 [52:54<3:06:23, 14.37s/it]"
     ]
    },
    {
     "name": "stdout",
     "output_type": "stream",
     "text": [
      "Junior Mechanical Engineers - Christakis Agathangelou\n",
      "titleofjob=Junior Mechanical Engineers\n",
      "refernce_number=148558\n",
      "city=Λευκωσία\n",
      "date_posted=01/09/2021\n",
      "expire_date=26/09/2021\n",
      "views=283\n",
      "type_of_employment=Πλήρης\n",
      "employment_sector=Βιομηχανίες\n",
      "publisher=Ιδιωτική Εταιρεία (LTD)\n",
      "category=Μηχανολόγοι Μηχανικοί\n"
     ]
    },
    {
     "name": "stderr",
     "output_type": "stream",
     "text": [
      "\r",
      " 22%|██▏       | 223/1000 [53:08<3:05:26, 14.32s/it]"
     ]
    },
    {
     "name": "stdout",
     "output_type": "stream",
     "text": [
      "Content Manager - Digital HQ\n",
      "titleofjob=Content Manager\n",
      "refernce_number=148561\n",
      "city=Λεμεσός\n",
      "date_posted=01/09/2021\n",
      "expire_date=26/09/2021\n",
      "views=138\n",
      "type_of_employment=Πλήρης\n",
      "employment_sector=Μάρκετινγκ / Διαφήμιση\n",
      "publisher=Ιδιωτική Εταιρεία (LTD)\n",
      "category=Μάρκετινγκ / Δημόσιες Σχέσεις, ΜΜΕ-Δημοσιογραφία\n"
     ]
    },
    {
     "name": "stderr",
     "output_type": "stream",
     "text": [
      "\r",
      " 22%|██▏       | 224/1000 [53:22<3:03:24, 14.18s/it]"
     ]
    },
    {
     "name": "stdout",
     "output_type": "stream",
     "text": [
      "Treasury Officer - iTrade Global (CY) Ltd\n",
      "titleofjob=Treasury Officer\n",
      "refernce_number=148560\n",
      "city=Λεμεσός\n",
      "date_posted=01/09/2021\n",
      "expire_date=26/09/2021\n",
      "views=339\n",
      "type_of_employment=Πλήρης\n",
      "employment_sector=Forex\n",
      "publisher=Ιδιωτική Εταιρεία (LTD)\n",
      "category=Διοίκηση επιχειρήσεων, Λογιστές, Οικονομολόγοι, Forex, Χρηματοοικονομικά/Χρηματοπιστωτικά\n"
     ]
    },
    {
     "name": "stderr",
     "output_type": "stream",
     "text": [
      "\r",
      " 22%|██▎       | 225/1000 [53:35<3:00:31, 13.98s/it]"
     ]
    },
    {
     "name": "stdout",
     "output_type": "stream",
     "text": [
      "Administration Assistant - Elma & Fred\n",
      "titleofjob=Administration Assistant\n",
      "refernce_number=147853\n",
      "city=Λευκωσία\n",
      "date_posted=01/09/2021\n",
      "expire_date=26/09/2021\n",
      "views=302\n",
      "type_of_employment=Πλήρης\n",
      "employment_sector=Μόδα / Ένδυση / Υπόδηση\n",
      "publisher=Ιδιωτική Εταιρεία (LTD)\n",
      "category=Γραμματειακά, Γραφίστες\n"
     ]
    },
    {
     "name": "stderr",
     "output_type": "stream",
     "text": [
      "\r",
      " 23%|██▎       | 226/1000 [53:50<3:02:11, 14.12s/it]"
     ]
    },
    {
     "name": "stdout",
     "output_type": "stream",
     "text": [
      "Μάγειρας / Μαγείρισσα - Valtou Rigani (L)\n",
      "titleofjob=Μάγειρας / Μαγείρισσα\n",
      "refernce_number=147589\n",
      "city=Λάρνακα\n",
      "date_posted=01/09/2021\n",
      "expire_date=26/09/2021\n",
      "views=137\n",
      "type_of_employment=Πλήρη ή Μερική\n",
      "employment_sector=Εστιατόρια / Καφετέριες\n",
      "publisher=Ιδιωτική Εταιρεία (LTD)\n",
      "category=Υπάλληλοι HORECA, Μάγειρες / Ζαχαροπλάστες, Απόφοιτοι Ξενοδοχειακής Σχολής\n"
     ]
    },
    {
     "name": "stderr",
     "output_type": "stream",
     "text": [
      "\r",
      " 23%|██▎       | 227/1000 [54:04<3:02:59, 14.20s/it]"
     ]
    },
    {
     "name": "stdout",
     "output_type": "stream",
     "text": [
      "Project Coordinator - EFX PRODUCTIONS LTD\n",
      "titleofjob=Project Coordinator\n",
      "refernce_number=148553\n",
      "city=Λευκωσία\n",
      "date_posted=01/09/2021\n",
      "expire_date=26/09/2021\n",
      "views=196\n",
      "type_of_employment=Πλήρης\n",
      "employment_sector=Μη διαθέσιμο\n",
      "publisher=Ιδιωτική Εταιρεία (LTD)\n",
      "category=Διοίκηση επιχειρήσεων\n"
     ]
    },
    {
     "name": "stderr",
     "output_type": "stream",
     "text": [
      "\r",
      " 23%|██▎       | 228/1000 [54:17<2:58:18, 13.86s/it]"
     ]
    },
    {
     "name": "stdout",
     "output_type": "stream",
     "text": [
      "Σύμβουλος Πωλήσεων (Ηλεκτρολογικού Υλικού) - DIMCO LTD\n",
      "titleofjob=Σύμβουλος Πωλήσεων (Ηλεκτρολογικού Υλικού)\n",
      "refernce_number=148552\n",
      "city=Λευκωσία\n",
      "date_posted=01/09/2021\n",
      "expire_date=26/09/2021\n",
      "views=132\n",
      "type_of_employment=Πλήρης\n",
      "employment_sector=Λιανικό Εμπόριο\n",
      "publisher=Ιδιωτική Εταιρεία (LTD)\n",
      "category=Εξυπηρέτηση Πελατών, Πωλητές - Καταστήματα, Ηλεκτρολόγοι\n"
     ]
    },
    {
     "name": "stderr",
     "output_type": "stream",
     "text": [
      "\r",
      " 23%|██▎       | 229/1000 [54:33<3:03:33, 14.28s/it]"
     ]
    },
    {
     "name": "stdout",
     "output_type": "stream",
     "text": [
      "Πωλητές / Πωλήτριες (Sales Assistants) - Chrysanthou Shoes\n",
      "titleofjob=Πωλητές / Πωλήτριες (Sales Assistants)\n",
      "refernce_number=148551\n",
      "city=Λεμεσός\n",
      "date_posted=01/09/2021\n",
      "expire_date=26/09/2021\n",
      "views=124\n",
      "type_of_employment=Πλήρη ή Μερική\n",
      "employment_sector=Λιανικό Εμπόριο\n",
      "publisher=Ιδιωτική Εταιρεία (LTD)\n",
      "category=Πωλητές - Καταστήματα\n"
     ]
    },
    {
     "name": "stderr",
     "output_type": "stream",
     "text": [
      "\r",
      " 23%|██▎       | 230/1000 [54:48<3:07:11, 14.59s/it]"
     ]
    },
    {
     "name": "stdout",
     "output_type": "stream",
     "text": [
      "Τεχνικός Ιατρικών Μηχανημάτων - C&V KRITICOS SUPPLIERS LTD\n",
      "titleofjob=Τεχνικός Ιατρικών Μηχανημάτων\n",
      "refernce_number=148549\n",
      "city=Λευκωσία\n",
      "date_posted=01/09/2021\n",
      "expire_date=26/09/2021\n",
      "views=462\n",
      "type_of_employment=Πλήρης\n",
      "employment_sector=Μη διαθέσιμο\n",
      "publisher=Ιδιωτική Εταιρεία (LTD)\n",
      "category=Τεχνικοί, Τεχνολόγος Ιατρικών Εργαστηρίων\n"
     ]
    },
    {
     "name": "stderr",
     "output_type": "stream",
     "text": [
      "\r",
      " 23%|██▎       | 231/1000 [55:03<3:07:04, 14.60s/it]"
     ]
    },
    {
     "name": "stdout",
     "output_type": "stream",
     "text": [
      "Πωλητές / Πωλήτριες - ANNA MARIA MAZARAKI S.A.\n",
      "titleofjob=Πωλητές / Πωλήτριες\n",
      "refernce_number=148550\n",
      "city=Λεμεσός\n",
      "date_posted=01/09/2021\n",
      "expire_date=26/09/2021\n",
      "views=123\n",
      "type_of_employment=Πλήρης\n",
      "employment_sector=Λιανικό Εμπόριο\n",
      "publisher=Ιδιωτική Εταιρεία (LTD)\n",
      "category=Πωλητές - Καταστήματα\n"
     ]
    },
    {
     "name": "stderr",
     "output_type": "stream",
     "text": [
      "\r",
      " 23%|██▎       | 232/1000 [55:17<3:07:47, 14.67s/it]"
     ]
    },
    {
     "name": "stdout",
     "output_type": "stream",
     "text": [
      "Talent Acquisition Specialist - IC Markets (CY) LTD\n",
      "titleofjob=Talent Acquisition Specialist\n",
      "refernce_number=148547\n",
      "city=Λεμεσός\n",
      "date_posted=01/09/2021\n",
      "expire_date=26/09/2021\n",
      "views=155\n",
      "type_of_employment=Πλήρης\n",
      "employment_sector=Forex\n",
      "publisher=Ιδιωτική Εταιρεία (LTD)\n",
      "category=Ανθρώπινο Δυναμικό , Διοίκηση επιχειρήσεων, Forex\n"
     ]
    },
    {
     "name": "stderr",
     "output_type": "stream",
     "text": [
      "\r",
      " 23%|██▎       | 233/1000 [55:31<3:03:06, 14.32s/it]"
     ]
    },
    {
     "name": "stdout",
     "output_type": "stream",
     "text": [
      "Business Analyst Senior (Contractor) - TSYS, A Global Payments company\n",
      "titleofjob=Business Analyst Senior (Contractor)\n",
      "refernce_number=148548\n",
      "city=Λευκωσία\n",
      "date_posted=01/09/2021\n",
      "expire_date=08/09/2021\n",
      "views=115\n",
      "type_of_employment=Πλήρης\n",
      "employment_sector=Πληροφορική\n",
      "publisher=Ιδιωτική Εταιρεία (LTD)\n",
      "category=Διοίκηση επιχειρήσεων, Πληροφορική\n"
     ]
    },
    {
     "name": "stderr",
     "output_type": "stream",
     "text": [
      "\r",
      " 23%|██▎       | 234/1000 [55:44<2:59:22, 14.05s/it]"
     ]
    },
    {
     "name": "stdout",
     "output_type": "stream",
     "text": [
      "Πωλητής / Πωλήτρια - C&V KRITICOS SUPPLIERS LTD\n",
      "titleofjob=Πωλητής / Πωλήτρια\n",
      "refernce_number=148544\n",
      "city=Λευκωσία\n",
      "date_posted=01/09/2021\n",
      "expire_date=26/09/2021\n",
      "views=499\n",
      "type_of_employment=Πλήρης\n",
      "employment_sector=Μη διαθέσιμο\n",
      "publisher=Ιδιωτική Εταιρεία (LTD)\n",
      "category=Εξυπηρέτηση Πελατών, Εξωτερικοί Πωλητές / Πλασιέ, Ιατρικοί Επισκέπτες\n"
     ]
    },
    {
     "name": "stderr",
     "output_type": "stream",
     "text": [
      "\r",
      " 24%|██▎       | 235/1000 [55:59<3:01:37, 14.25s/it]"
     ]
    },
    {
     "name": "stdout",
     "output_type": "stream",
     "text": [
      "Associate Client Advisor - TSYS, A Global Payments company\n",
      "titleofjob=Associate Client Advisor\n",
      "refernce_number=148533\n",
      "city=Λευκωσία\n",
      "date_posted=01/09/2021\n",
      "expire_date=08/09/2021\n",
      "views=115\n",
      "type_of_employment=Πλήρης\n",
      "employment_sector=Πληροφορική\n",
      "publisher=Ιδιωτική Εταιρεία (LTD)\n",
      "category=Διοίκηση επιχειρήσεων, Πληροφορική\n"
     ]
    },
    {
     "name": "stderr",
     "output_type": "stream",
     "text": [
      "\r",
      " 24%|██▎       | 236/1000 [56:14<3:02:46, 14.35s/it]"
     ]
    },
    {
     "name": "stdout",
     "output_type": "stream",
     "text": [
      "Μάγειρες / Μαγείρισσες - Beba Restaurant ltd\n",
      "titleofjob=Μάγειρες / Μαγείρισσες\n",
      "refernce_number=148545\n",
      "city=Λευκωσία\n",
      "date_posted=01/09/2021\n",
      "expire_date=26/09/2021\n",
      "views=382\n",
      "type_of_employment=Πλήρης\n",
      "employment_sector=Εστιατόρια / Καφετέριες\n",
      "publisher=Ιδιωτική Εταιρεία (LTD)\n",
      "category=Υπάλληλοι HORECA, Μάγειρες / Ζαχαροπλάστες, Απόφοιτοι Ξενοδοχειακής Σχολής\n"
     ]
    },
    {
     "name": "stderr",
     "output_type": "stream",
     "text": [
      "\r",
      " 24%|██▎       | 237/1000 [56:30<3:10:43, 15.00s/it]"
     ]
    },
    {
     "name": "stdout",
     "output_type": "stream",
     "text": [
      "Financial Reporting Officer - iTrade Global (CY) Ltd\n",
      "titleofjob=Financial Reporting Officer\n",
      "refernce_number=148543\n",
      "city=Λεμεσός\n",
      "date_posted=01/09/2021\n",
      "expire_date=26/09/2021\n",
      "views=508\n",
      "type_of_employment=Πλήρης\n",
      "employment_sector=Forex\n",
      "publisher=Ιδιωτική Εταιρεία (LTD)\n",
      "category=Διοίκηση επιχειρήσεων, Λογιστές, Οικονομολόγοι, Forex, Χρηματοοικονομικά/Χρηματοπιστωτικά\n"
     ]
    },
    {
     "name": "stderr",
     "output_type": "stream",
     "text": [
      "\r",
      " 24%|██▍       | 238/1000 [56:44<3:06:05, 14.65s/it]"
     ]
    },
    {
     "name": "stdout",
     "output_type": "stream",
     "text": [
      "Εργάτες / Εργάτριες Παραγωγής & Συσκευαστηρίου - Iakovos Photiades Foodstuff Suppliers Ltd\n",
      "titleofjob=Εργάτες / Εργάτριες Παραγωγής & Συσκευαστηρίου\n",
      "refernce_number=148542\n",
      "city=Λευκωσία\n",
      "date_posted=01/09/2021\n",
      "expire_date=26/09/2021\n",
      "views=255\n",
      "type_of_employment=Πλήρης\n",
      "employment_sector=Χοντρικό Εμπόριο\n",
      "publisher=Ιδιωτική Εταιρεία (LTD)\n",
      "category=Εργάτες - Τεχνίτες, Εργάτες Παραγωγής / Συσκευασίας, Αχθοφόροι\n"
     ]
    },
    {
     "name": "stderr",
     "output_type": "stream",
     "text": [
      "\r",
      " 24%|██▍       | 239/1000 [56:58<3:03:59, 14.51s/it]"
     ]
    },
    {
     "name": "stdout",
     "output_type": "stream",
     "text": [
      "Τεχνολόγος Ιατρικών Εργαστηρίων - Diogenous Biomedical Laboratory\n",
      "titleofjob=Τεχνολόγος Ιατρικών Εργαστηρίων\n",
      "refernce_number=148507\n",
      "city=Λευκωσία\n",
      "date_posted=01/09/2021\n",
      "expire_date=26/09/2021\n",
      "views=125\n",
      "type_of_employment=Πλήρη ή Μερική\n",
      "employment_sector=Μη διαθέσιμο\n",
      "publisher=Ιδιωτική Εταιρεία (LTD)\n",
      "category=Νοσηλευτές, Τεχνολόγος Ιατρικών Εργαστηρίων\n"
     ]
    },
    {
     "name": "stderr",
     "output_type": "stream",
     "text": [
      "\r",
      " 24%|██▍       | 240/1000 [57:12<3:02:55, 14.44s/it]"
     ]
    },
    {
     "name": "stdout",
     "output_type": "stream",
     "text": [
      "Μάγειρας / Μαγείρισσα A' - To Steki tou Thanasi\n",
      "titleofjob=Μάγειρας / Μαγείρισσα A'\n",
      "refernce_number=148461\n",
      "city=Πάφος\n",
      "date_posted=02/09/2021\n",
      "expire_date=25/09/2021\n",
      "views=126\n",
      "type_of_employment=Πλήρης\n",
      "employment_sector=Εστιατόρια / Καφετέριες\n",
      "publisher=Ιδιωτική Εταιρεία (LTD)\n",
      "category=Υπάλληλοι HORECA, Μάγειρες / Ζαχαροπλάστες, Απόφοιτοι Ξενοδοχειακής Σχολής\n"
     ]
    },
    {
     "name": "stderr",
     "output_type": "stream",
     "text": [
      "\r",
      " 24%|██▍       | 241/1000 [57:27<3:03:56, 14.54s/it]"
     ]
    },
    {
     "name": "stdout",
     "output_type": "stream",
     "text": [
      "QA Automation Engineer (5277) - CareerFinders Recruitment Services Ltd\n",
      "titleofjob=QA Automation Engineer (5277)\n",
      "refernce_number=148539\n",
      "city=Λευκωσία\n",
      "date_posted=01/09/2021\n",
      "expire_date=26/09/2021\n",
      "views=80\n",
      "type_of_employment=Πλήρης\n",
      "employment_sector=Πληροφορική\n",
      "publisher=Ιδιωτική Εταιρεία (LTD)\n",
      "category=Πληροφορική\n"
     ]
    },
    {
     "name": "stderr",
     "output_type": "stream",
     "text": [
      "\r",
      " 24%|██▍       | 242/1000 [57:41<3:00:02, 14.25s/it]"
     ]
    },
    {
     "name": "stdout",
     "output_type": "stream",
     "text": [
      "Σερβιτόροι / Σερβιτόρες - CHRYNIKI LTD\n",
      "titleofjob=Σερβιτόροι / Σερβιτόρες\n",
      "refernce_number=148538\n",
      "city=Λευκωσία\n",
      "date_posted=01/09/2021\n",
      "expire_date=26/09/2021\n",
      "views=81\n",
      "type_of_employment=Πλήρη ή Μερική\n",
      "employment_sector=Εστιατόρια / Καφετέριες\n",
      "publisher=Ιδιωτική Εταιρεία (LTD)\n",
      "category=Υπάλληλοι HORECA, Σερβιτόροι, Απόφοιτοι Ξενοδοχειακής Σχολής\n"
     ]
    },
    {
     "name": "stderr",
     "output_type": "stream",
     "text": [
      "\r",
      " 24%|██▍       | 243/1000 [57:55<2:58:27, 14.14s/it]"
     ]
    },
    {
     "name": "stdout",
     "output_type": "stream",
     "text": [
      "Φροντιστής / Φροντίστρια - Οργάνωση Παραπληγικών Κύπρου\n",
      "titleofjob=Φροντιστής / Φροντίστρια\n",
      "refernce_number=148540\n",
      "city=Λευκωσία\n",
      "date_posted=01/09/2021\n",
      "expire_date=19/09/2021\n",
      "views=88\n",
      "type_of_employment=Πλήρης\n",
      "employment_sector=Μη διαθέσιμο\n",
      "publisher=Μη κερδοσκοπικός οργανισμός\n",
      "category=Φροντιστές\n"
     ]
    },
    {
     "name": "stderr",
     "output_type": "stream",
     "text": [
      "\r",
      " 24%|██▍       | 244/1000 [58:08<2:55:28, 13.93s/it]"
     ]
    },
    {
     "name": "stdout",
     "output_type": "stream",
     "text": [
      "Back Office Officer - Forex TB Limited\n",
      "titleofjob=Back Office Officer\n",
      "refernce_number=148537\n",
      "city=Λευκωσία\n",
      "date_posted=01/09/2021\n",
      "expire_date=26/09/2021\n",
      "views=355\n",
      "type_of_employment=Πλήρης\n",
      "employment_sector=Forex\n",
      "publisher=Ιδιωτική Εταιρεία (LTD)\n",
      "category=Διοίκηση επιχειρήσεων, Εξυπηρέτηση Πελατών, Οικονομολόγοι, Forex, Χρηματοοικονομικά/Χρηματοπιστωτικά\n"
     ]
    },
    {
     "name": "stderr",
     "output_type": "stream",
     "text": [
      "\r",
      " 24%|██▍       | 245/1000 [58:23<2:58:47, 14.21s/it]"
     ]
    },
    {
     "name": "stdout",
     "output_type": "stream",
     "text": [
      "Νοσηλευτής / Νοσηλεύτρια - Οργάνωση Παραπληγικών Κύπρου\n",
      "titleofjob=Νοσηλευτής / Νοσηλεύτρια\n",
      "refernce_number=148536\n",
      "city=Λευκωσία\n",
      "date_posted=01/09/2021\n",
      "expire_date=19/09/2021\n",
      "views=79\n",
      "type_of_employment=Πλήρης\n",
      "employment_sector=Μη διαθέσιμο\n",
      "publisher=Μη κερδοσκοπικός οργανισμός\n",
      "category=Νοσηλευτές\n"
     ]
    },
    {
     "name": "stderr",
     "output_type": "stream",
     "text": [
      "\r",
      " 25%|██▍       | 246/1000 [58:37<2:58:55, 14.24s/it]"
     ]
    },
    {
     "name": "stdout",
     "output_type": "stream",
     "text": [
      "Content Manager (Outsource) - BridgerPay\n",
      "titleofjob=Content Manager (Outsource)\n",
      "refernce_number=148525\n",
      "city=Λεμεσός\n",
      "date_posted=01/09/2021\n",
      "expire_date=26/09/2021\n",
      "views=340\n",
      "type_of_employment=Πλήρη ή Μερική\n",
      "employment_sector=FinTech\n",
      "publisher=Ιδιωτική Εταιρεία (LTD)\n",
      "category=Μάρκετινγκ / Δημόσιες Σχέσεις, ΜΜΕ-Δημοσιογραφία\n"
     ]
    },
    {
     "name": "stderr",
     "output_type": "stream",
     "text": [
      "\r",
      " 25%|██▍       | 247/1000 [58:51<2:58:11, 14.20s/it]"
     ]
    },
    {
     "name": "stdout",
     "output_type": "stream",
     "text": [
      "System Administrator - P.G. Economides & Co Ltd\n",
      "titleofjob=System Administrator\n",
      "refernce_number=148535\n",
      "city=Λεμεσός\n",
      "date_posted=01/09/2021\n",
      "expire_date=26/09/2021\n",
      "views=165\n",
      "type_of_employment=Πλήρης\n",
      "employment_sector=Λογιστικά / Ελεγκτικά γραφεία\n",
      "publisher=Ιδιωτική Εταιρεία (LTD)\n",
      "category=Πληροφορική\n"
     ]
    },
    {
     "name": "stderr",
     "output_type": "stream",
     "text": [
      "\r",
      " 25%|██▍       | 248/1000 [59:05<2:57:12, 14.14s/it]"
     ]
    },
    {
     "name": "stdout",
     "output_type": "stream",
     "text": [
      "Back Office Officer - Geomatrix Holdings\n",
      "titleofjob=Back Office Officer\n",
      "refernce_number=148534\n",
      "city=Λεμεσός\n",
      "date_posted=01/09/2021\n",
      "expire_date=26/09/2021\n",
      "views=333\n",
      "type_of_employment=Πλήρης\n",
      "employment_sector=Forex\n",
      "publisher=Ιδιωτική Εταιρεία (LTD)\n",
      "category=Γραμματειακά, Διοίκηση επιχειρήσεων, Εξυπηρέτηση Πελατών, Χρηματοοικονομικά/Χρηματοπιστωτικά\n"
     ]
    },
    {
     "name": "stderr",
     "output_type": "stream",
     "text": [
      "\r",
      " 25%|██▍       | 249/1000 [59:19<2:55:03, 13.99s/it]"
     ]
    },
    {
     "name": "stdout",
     "output_type": "stream",
     "text": [
      "Αρχιτέκτονας - Potamitis & Nicolaou Architects LLC\n",
      "titleofjob=Αρχιτέκτονας\n",
      "refernce_number=148454\n",
      "city=Λεμεσός\n",
      "date_posted=01/09/2021\n",
      "expire_date=26/09/2021\n",
      "views=132\n",
      "type_of_employment=Πλήρης\n",
      "employment_sector=Αρχιτεκτονικά Γραφεία\n",
      "publisher=Ιδιωτική Εταιρεία (LTD)\n",
      "category=Αρχιτέκτονες, Πρακτική Άσκηση\n"
     ]
    },
    {
     "name": "stderr",
     "output_type": "stream",
     "text": [
      "\r",
      " 25%|██▌       | 250/1000 [59:32<2:50:54, 13.67s/it]"
     ]
    },
    {
     "name": "stdout",
     "output_type": "stream",
     "text": [
      "Corporate Communications & CSR Specialist (Λάρνακα) - LIDL Κύπρου\n",
      "titleofjob=Corporate Communications & CSR Specialist (Λάρνακα)\n",
      "refernce_number=148532\n",
      "city=Λάρνακα\n",
      "date_posted=01/09/2021\n",
      "expire_date=26/09/2021\n",
      "views=410\n",
      "type_of_employment=Πλήρης\n",
      "employment_sector=Υπεραγορές / Πολυκαταστήματα\n",
      "publisher=Ιδιωτική Εταιρεία (LTD)\n",
      "category=Μάρκετινγκ / Δημόσιες Σχέσεις, ΜΜΕ-Δημοσιογραφία, Υπεραγορές - Πολυκαταστήματα\n"
     ]
    },
    {
     "name": "stderr",
     "output_type": "stream",
     "text": [
      "\r",
      " 25%|██▌       | 251/1000 [59:46<2:51:43, 13.76s/it]"
     ]
    },
    {
     "name": "stdout",
     "output_type": "stream",
     "text": [
      "Senior Accountant - P.G. Economides & Co Ltd\n",
      "titleofjob=Senior Accountant\n",
      "refernce_number=148531\n",
      "city=Λεμεσός\n",
      "date_posted=01/09/2021\n",
      "expire_date=26/09/2021\n",
      "views=159\n",
      "type_of_employment=Πλήρης\n",
      "employment_sector=Λογιστικά / Ελεγκτικά γραφεία\n",
      "publisher=Ιδιωτική Εταιρεία (LTD)\n",
      "category=Ελεγκτές, Λογιστές, Οικονομολόγοι, Χρηματοοικονομικά/Χρηματοπιστωτικά\n"
     ]
    },
    {
     "name": "stderr",
     "output_type": "stream",
     "text": [
      "\r",
      " 25%|██▌       | 252/1000 [1:00:00<2:53:31, 13.92s/it]"
     ]
    },
    {
     "name": "stdout",
     "output_type": "stream",
     "text": [
      "Accountant - GMK Services Limited\n",
      "titleofjob=Accountant\n",
      "refernce_number=148155\n",
      "city=Λάρνακα\n",
      "date_posted=01/09/2021\n",
      "expire_date=26/09/2021\n",
      "views=207\n",
      "type_of_employment=Πλήρης\n",
      "employment_sector=Λογιστικά / Ελεγκτικά γραφεία\n",
      "publisher=Ιδιωτική Εταιρεία (LTD)\n",
      "category=Λογιστές, Οικονομολόγοι, Χρηματοοικονομικά/Χρηματοπιστωτικά\n"
     ]
    },
    {
     "name": "stderr",
     "output_type": "stream",
     "text": [
      "\r",
      " 25%|██▌       | 253/1000 [1:00:15<2:54:45, 14.04s/it]"
     ]
    },
    {
     "name": "stdout",
     "output_type": "stream",
     "text": [
      "Software Developer - PLAYTECH SERVICES (CYPRUS) LTD\n",
      "titleofjob=Software Developer\n",
      "refernce_number=148530\n",
      "city=Λευκωσία\n",
      "date_posted=01/09/2021\n",
      "expire_date=26/09/2021\n",
      "views=118\n",
      "type_of_employment=Πλήρης\n",
      "employment_sector=Πληροφορική\n",
      "publisher=Ιδιωτική Εταιρεία (LTD)\n",
      "category=Πληροφορική\n"
     ]
    },
    {
     "name": "stderr",
     "output_type": "stream",
     "text": [
      "\r",
      " 25%|██▌       | 254/1000 [1:00:29<2:55:32, 14.12s/it]"
     ]
    },
    {
     "name": "stdout",
     "output_type": "stream",
     "text": [
      "Πωλητές/ Πωλήτριες (Intimissimi, The Mall, Λευκωσία) - Mallouppas And Papacostas Fashion Ltd\n",
      "titleofjob=Πωλητές/ Πωλήτριες (Intimissimi, The Mall, Λευκωσία)\n",
      "refernce_number=148529\n",
      "city=Λευκωσία\n",
      "date_posted=01/09/2021\n",
      "expire_date=26/09/2021\n",
      "views=158\n",
      "type_of_employment=Μερική\n",
      "employment_sector=Λιανικό Εμπόριο\n",
      "publisher=Δημόσια Εταιρεία (PLC)\n",
      "category=Εξυπηρέτηση Πελατών, Πωλητές - Καταστήματα\n"
     ]
    },
    {
     "name": "stderr",
     "output_type": "stream",
     "text": [
      "\r",
      " 26%|██▌       | 255/1000 [1:00:42<2:53:36, 13.98s/it]"
     ]
    },
    {
     "name": "stdout",
     "output_type": "stream",
     "text": [
      "Φυσιοθεραπευτής/ρια - 360 Chartered PR Consultants\n",
      "titleofjob=Φυσιοθεραπευτής/ρια\n",
      "refernce_number=148528\n",
      "city=Λευκωσία\n",
      "date_posted=01/09/2021\n",
      "expire_date=26/09/2021\n",
      "views=108\n",
      "type_of_employment=Πλήρης\n",
      "employment_sector=Μη διαθέσιμο\n",
      "publisher=Ιδιωτική Εταιρεία (LTD)\n",
      "category=Φυσιοθεραπευτές\n"
     ]
    },
    {
     "name": "stderr",
     "output_type": "stream",
     "text": [
      "\r",
      " 26%|██▌       | 256/1000 [1:00:56<2:51:00, 13.79s/it]"
     ]
    },
    {
     "name": "stdout",
     "output_type": "stream",
     "text": [
      "Administration Officer - GMCG LTD\n",
      "titleofjob=Administration Officer\n",
      "refernce_number=148527\n",
      "city=Λεμεσός\n",
      "date_posted=01/09/2021\n",
      "expire_date=26/09/2021\n",
      "views=336\n",
      "type_of_employment=Πλήρης\n",
      "employment_sector=Ναυτιλιακές Εταιρείες\n",
      "publisher=Ιδιωτική Εταιρεία (LTD)\n",
      "category=Γραμματειακά, Ξένες Γλώσσες / Μεταφραστές, Ρωσική γλώσσα\n"
     ]
    },
    {
     "name": "stderr",
     "output_type": "stream",
     "text": [
      "\r",
      " 26%|██▌       | 257/1000 [1:01:10<2:51:18, 13.83s/it]"
     ]
    },
    {
     "name": "stdout",
     "output_type": "stream",
     "text": [
      "Collections Officer - Xerographic Solutions Ltd\n",
      "titleofjob=Collections Officer\n",
      "refernce_number=148526\n",
      "city=Λευκωσία\n",
      "date_posted=01/09/2021\n",
      "expire_date=26/09/2021\n",
      "views=204\n",
      "type_of_employment=Πλήρης\n",
      "employment_sector=Εισαγωγές / Εξαγωγές\n",
      "publisher=Ιδιωτική Εταιρεία (LTD)\n",
      "category=Διοίκηση επιχειρήσεων, Λογιστές, Χρηματοοικονομικά/Χρηματοπιστωτικά\n"
     ]
    },
    {
     "name": "stderr",
     "output_type": "stream",
     "text": [
      "\r",
      " 26%|██▌       | 258/1000 [1:01:25<2:57:36, 14.36s/it]"
     ]
    },
    {
     "name": "stdout",
     "output_type": "stream",
     "text": [
      "Λειτουργός Αποθήκης - M.Papapetrou Ltd\n",
      "titleofjob=Λειτουργός Αποθήκης\n",
      "refernce_number=148511\n",
      "city=Λευκωσία\n",
      "date_posted=01/09/2021\n",
      "expire_date=26/09/2021\n",
      "views=777\n",
      "type_of_employment=Πλήρης\n",
      "employment_sector=Χοντρικό Εμπόριο\n",
      "publisher=Ιδιωτική Εταιρεία (LTD)\n",
      "category=Αποθηκάριοι\n"
     ]
    },
    {
     "name": "stderr",
     "output_type": "stream",
     "text": [
      "\r",
      " 26%|██▌       | 259/1000 [1:01:40<2:58:08, 14.42s/it]"
     ]
    },
    {
     "name": "stdout",
     "output_type": "stream",
     "text": [
      "Νοσηλευτής / Νοσηλεύτρια - Οργάνωση Παραπληγικών Κύπρου\n",
      "titleofjob=Νοσηλευτής / Νοσηλεύτρια\n",
      "refernce_number=148500\n",
      "city=Λευκωσία\n",
      "date_posted=01/09/2021\n",
      "expire_date=19/09/2021\n",
      "views=59\n",
      "type_of_employment=Πλήρης\n",
      "employment_sector=Μη διαθέσιμο\n",
      "publisher=Μη κερδοσκοπικός οργανισμός\n",
      "category=Νοσηλευτές\n"
     ]
    },
    {
     "name": "stderr",
     "output_type": "stream",
     "text": [
      "\r",
      " 26%|██▌       | 260/1000 [1:01:54<2:57:37, 14.40s/it]"
     ]
    },
    {
     "name": "stdout",
     "output_type": "stream",
     "text": [
      "Νοσηλευτής / Νοσηλεύτρια - Οργάνωση Παραπληγικών Κύπρου\n",
      "titleofjob=Νοσηλευτής / Νοσηλεύτρια\n",
      "refernce_number=148522\n",
      "city=Πάφος\n",
      "date_posted=01/09/2021\n",
      "expire_date=19/09/2021\n",
      "views=52\n",
      "type_of_employment=Πλήρης\n",
      "employment_sector=Μη διαθέσιμο\n",
      "publisher=Μη κερδοσκοπικός οργανισμός\n",
      "category=Νοσηλευτές\n"
     ]
    },
    {
     "name": "stderr",
     "output_type": "stream",
     "text": [
      "\r",
      " 26%|██▌       | 261/1000 [1:02:08<2:54:50, 14.20s/it]"
     ]
    },
    {
     "name": "stdout",
     "output_type": "stream",
     "text": [
      "Βοηθοί Τμήματος Delicatessen - CANEO Enterprises Ltd\n",
      "titleofjob=Βοηθοί Τμήματος Delicatessen\n",
      "refernce_number=148524\n",
      "city=Λευκωσία\n",
      "date_posted=01/09/2021\n",
      "expire_date=26/09/2021\n",
      "views=152\n",
      "type_of_employment=Πλήρης\n",
      "employment_sector=Μη διαθέσιμο\n",
      "publisher=Ιδιωτική Εταιρεία (LTD)\n",
      "category=Υπεραγορές - Πολυκαταστήματα, Πωλητές - Καταστήματα\n"
     ]
    },
    {
     "name": "stderr",
     "output_type": "stream",
     "text": [
      "\r",
      " 26%|██▌       | 262/1000 [1:02:22<2:52:51, 14.05s/it]"
     ]
    },
    {
     "name": "stdout",
     "output_type": "stream",
     "text": [
      "Φροντιστής / Φροντίστρια - Οργάνωση Παραπληγικών Κύπρου\n",
      "titleofjob=Φροντιστής / Φροντίστρια\n",
      "refernce_number=148523\n",
      "city=Πάφος\n",
      "date_posted=01/09/2021\n",
      "expire_date=19/09/2021\n",
      "views=83\n",
      "type_of_employment=Πλήρης\n",
      "employment_sector=Μη διαθέσιμο\n",
      "publisher=Μη κερδοσκοπικός οργανισμός\n",
      "category=Φροντιστές\n"
     ]
    },
    {
     "name": "stderr",
     "output_type": "stream",
     "text": [
      "\r",
      " 26%|██▋       | 263/1000 [1:02:36<2:54:39, 14.22s/it]"
     ]
    },
    {
     "name": "stdout",
     "output_type": "stream",
     "text": [
      "Store Manager - Caffe Nero\n",
      "titleofjob=Store Manager\n",
      "refernce_number=148521\n",
      "city=Λεμεσός, Λευκωσία, Λάρνακα, Πάφος, Αμμόχωστος\n",
      "date_posted=01/09/2021\n",
      "expire_date=26/09/2021\n",
      "views=306\n",
      "type_of_employment=Πλήρη ή Μερική\n",
      "employment_sector=Εστιατόρια / Καφετέριες\n",
      "publisher=Ιδιωτική Εταιρεία (LTD)\n",
      "category=Διοίκηση επιχειρήσεων, Εξυπηρέτηση Πελατών\n"
     ]
    },
    {
     "name": "stderr",
     "output_type": "stream",
     "text": [
      "\r",
      " 26%|██▋       | 264/1000 [1:02:50<2:54:00, 14.18s/it]"
     ]
    },
    {
     "name": "stdout",
     "output_type": "stream",
     "text": [
      "Billing Manager - Digital HQ\n",
      "titleofjob=Billing Manager\n",
      "refernce_number=148518\n",
      "city=Λεμεσός\n",
      "date_posted=01/09/2021\n",
      "expire_date=26/09/2021\n",
      "views=160\n",
      "type_of_employment=Πλήρης\n",
      "employment_sector=Λογιστικά / Ελεγκτικά γραφεία\n",
      "publisher=Ιδιωτική Εταιρεία (LTD)\n",
      "category=Λογιστές, Οικονομολόγοι, Χρηματοοικονομικά/Χρηματοπιστωτικά\n"
     ]
    },
    {
     "name": "stderr",
     "output_type": "stream",
     "text": [
      "\r",
      " 26%|██▋       | 265/1000 [1:03:05<2:56:36, 14.42s/it]"
     ]
    },
    {
     "name": "stdout",
     "output_type": "stream",
     "text": [
      "Shift Leader - Caffe Nero\n",
      "titleofjob=Shift Leader\n",
      "refernce_number=148520\n",
      "city=Λεμεσός, Λευκωσία, Λάρνακα, Πάφος, Αμμόχωστος\n",
      "date_posted=01/09/2021\n",
      "expire_date=26/09/2021\n",
      "views=213\n",
      "type_of_employment=Πλήρη ή Μερική\n",
      "employment_sector=Εστιατόρια / Καφετέριες\n",
      "publisher=Ιδιωτική Εταιρεία (LTD)\n",
      "category=Εξυπηρέτηση Πελατών, Υπάλληλοι HORECA\n"
     ]
    },
    {
     "name": "stderr",
     "output_type": "stream",
     "text": [
      "\r",
      " 27%|██▋       | 266/1000 [1:03:20<2:55:16, 14.33s/it]"
     ]
    },
    {
     "name": "stdout",
     "output_type": "stream",
     "text": [
      "Waiters/Waitresses - Wagamama\n",
      "titleofjob=Waiters/Waitresses\n",
      "refernce_number=148517\n",
      "city=Λεμεσός, Λευκωσία, Λάρνακα, Πάφος, Αμμόχωστος\n",
      "date_posted=01/09/2021\n",
      "expire_date=26/09/2021\n",
      "views=187\n",
      "type_of_employment=Πλήρη ή Μερική\n",
      "employment_sector=Εστιατόρια / Καφετέριες\n",
      "publisher=Ιδιωτική Εταιρεία (LTD)\n",
      "category=Υπάλληλοι HORECA, Σερβιτόροι\n"
     ]
    },
    {
     "name": "stderr",
     "output_type": "stream",
     "text": [
      "\r",
      " 27%|██▋       | 267/1000 [1:03:34<2:56:35, 14.46s/it]"
     ]
    },
    {
     "name": "stdout",
     "output_type": "stream",
     "text": [
      "Barista - Caffe Nero\n",
      "titleofjob=Barista\n",
      "refernce_number=148519\n",
      "city=Λεμεσός, Λευκωσία, Λάρνακα, Πάφος, Αμμόχωστος\n",
      "date_posted=01/09/2021\n",
      "expire_date=26/09/2021\n",
      "views=224\n",
      "type_of_employment=Πλήρη ή Μερική\n",
      "employment_sector=Εστιατόρια / Καφετέριες\n",
      "publisher=Ιδιωτική Εταιρεία (LTD)\n",
      "category=Υπάλληλοι HORECA, Baristas\n"
     ]
    },
    {
     "name": "stderr",
     "output_type": "stream",
     "text": [
      "\r",
      " 27%|██▋       | 268/1000 [1:03:47<2:50:29, 13.98s/it]"
     ]
    },
    {
     "name": "stdout",
     "output_type": "stream",
     "text": [
      "Floor Manager - Wagamama\n",
      "titleofjob=Floor Manager\n",
      "refernce_number=148515\n",
      "city=Πάφος\n",
      "date_posted=01/09/2021\n",
      "expire_date=26/09/2021\n",
      "views=81\n",
      "type_of_employment=Πλήρη ή Μερική\n",
      "employment_sector=Εστιατόρια / Καφετέριες\n",
      "publisher=Ιδιωτική Εταιρεία (LTD)\n",
      "category=Εξυπηρέτηση Πελατών, Υπάλληλοι HORECA\n"
     ]
    },
    {
     "name": "stderr",
     "output_type": "stream",
     "text": [
      "\r",
      " 27%|██▋       | 269/1000 [1:04:02<2:51:57, 14.11s/it]"
     ]
    },
    {
     "name": "stdout",
     "output_type": "stream",
     "text": [
      "Accountant - D. Marinou & Co Ltd\n",
      "titleofjob=Accountant\n",
      "refernce_number=148516\n",
      "city=Λάρνακα\n",
      "date_posted=01/09/2021\n",
      "expire_date=03/09/2021\n",
      "views=527\n",
      "type_of_employment=Πλήρης\n",
      "employment_sector=Λογιστικά / Ελεγκτικά γραφεία\n",
      "publisher=Ιδιωτική Εταιρεία (LTD)\n",
      "category=Λογιστές, Οικονομολόγοι, Χρηματοοικονομικά/Χρηματοπιστωτικά\n"
     ]
    },
    {
     "name": "stderr",
     "output_type": "stream",
     "text": [
      "\r",
      " 27%|██▋       | 270/1000 [1:04:15<2:50:15, 13.99s/it]"
     ]
    },
    {
     "name": "stdout",
     "output_type": "stream",
     "text": [
      "Auditor/Ελεγκτής/τρια - Y. Iacovou & Co\n",
      "titleofjob=Auditor/Ελεγκτής/τρια\n",
      "refernce_number=148514\n",
      "city=Λεμεσός\n",
      "date_posted=01/09/2021\n",
      "expire_date=26/09/2021\n",
      "views=192\n",
      "type_of_employment=Πλήρης\n",
      "employment_sector=Λογιστικά / Ελεγκτικά γραφεία\n",
      "publisher=Ιδιωτική Εταιρεία (LTD)\n",
      "category=Ελεγκτές, Λογιστές, Χρηματοοικονομικά/Χρηματοπιστωτικά\n"
     ]
    },
    {
     "name": "stderr",
     "output_type": "stream",
     "text": [
      "\r",
      " 27%|██▋       | 271/1000 [1:04:29<2:49:57, 13.99s/it]"
     ]
    },
    {
     "name": "stdout",
     "output_type": "stream",
     "text": [
      "Cooks - Wagamama\n",
      "titleofjob=Cooks\n",
      "refernce_number=148513\n",
      "city=Λεμεσός, Λευκωσία, Λάρνακα, Πάφος, Αμμόχωστος\n",
      "date_posted=01/09/2021\n",
      "expire_date=26/09/2021\n",
      "views=133\n",
      "type_of_employment=Πλήρη ή Μερική\n",
      "employment_sector=Εστιατόρια / Καφετέριες\n",
      "publisher=Ιδιωτική Εταιρεία (LTD)\n",
      "category=Υπάλληλοι HORECA, Μάγειρες / Ζαχαροπλάστες\n"
     ]
    },
    {
     "name": "stderr",
     "output_type": "stream",
     "text": [
      "\r",
      " 27%|██▋       | 272/1000 [1:04:44<2:50:51, 14.08s/it]"
     ]
    },
    {
     "name": "stdout",
     "output_type": "stream",
     "text": [
      "Affiliate Manager - Digital HQ\n",
      "titleofjob=Affiliate Manager\n",
      "refernce_number=148510\n",
      "city=Λεμεσός\n",
      "date_posted=01/09/2021\n",
      "expire_date=26/09/2021\n",
      "views=119\n",
      "type_of_employment=Πλήρης\n",
      "employment_sector=Μάρκετινγκ / Διαφήμιση\n",
      "publisher=Ιδιωτική Εταιρεία (LTD)\n",
      "category=Διοίκηση επιχειρήσεων, Μάρκετινγκ / Δημόσιες Σχέσεις\n"
     ]
    },
    {
     "name": "stderr",
     "output_type": "stream",
     "text": [
      "\r",
      " 27%|██▋       | 273/1000 [1:04:58<2:52:03, 14.20s/it]"
     ]
    },
    {
     "name": "stdout",
     "output_type": "stream",
     "text": [
      "Governmental Advisory Director (5221) - CareerFinders Recruitment Services Ltd\n",
      "titleofjob=Governmental Advisory Director (5221)\n",
      "refernce_number=148512\n",
      "city=Λεμεσός\n",
      "date_posted=01/09/2021\n",
      "expire_date=26/09/2021\n",
      "views=172\n",
      "type_of_employment=Πλήρης\n",
      "employment_sector=Δικηγορικά γραφεία\n",
      "publisher=Ιδιωτική Εταιρεία (LTD)\n",
      "category=Δικηγόροι, Σύμβουλοι Επιχειρήσεων\n"
     ]
    },
    {
     "name": "stderr",
     "output_type": "stream",
     "text": [
      "\r",
      " 27%|██▋       | 274/1000 [1:05:12<2:51:19, 14.16s/it]"
     ]
    },
    {
     "name": "stdout",
     "output_type": "stream",
     "text": [
      "Junior Project Manager - CBS IT SYSTEMS CYPRUS LTD\n",
      "titleofjob=Junior Project Manager\n",
      "refernce_number=148506\n",
      "city=Λευκωσία\n",
      "date_posted=01/09/2021\n",
      "expire_date=26/09/2021\n",
      "views=213\n",
      "type_of_employment=Πλήρης\n",
      "employment_sector=Μη διαθέσιμο\n",
      "publisher=Ιδιωτική Εταιρεία (LTD)\n",
      "category=Διοίκηση επιχειρήσεων, Εξυπηρέτηση Πελατών, Πληροφορική\n"
     ]
    },
    {
     "name": "stderr",
     "output_type": "stream",
     "text": [
      "\r",
      " 28%|██▊       | 275/1000 [1:05:25<2:47:22, 13.85s/it]"
     ]
    },
    {
     "name": "stdout",
     "output_type": "stream",
     "text": [
      "Junior Systems & Networking Engineer - CBS IT SYSTEMS CYPRUS LTD\n",
      "titleofjob=Junior Systems & Networking Engineer\n",
      "refernce_number=148509\n",
      "city=Λευκωσία\n",
      "date_posted=01/09/2021\n",
      "expire_date=26/09/2021\n",
      "views=110\n",
      "type_of_employment=Πλήρης\n",
      "employment_sector=Μη διαθέσιμο\n",
      "publisher=Ιδιωτική Εταιρεία (LTD)\n",
      "category=Πληροφορική\n"
     ]
    },
    {
     "name": "stderr",
     "output_type": "stream",
     "text": [
      "\r",
      " 28%|██▊       | 276/1000 [1:05:40<2:49:30, 14.05s/it]"
     ]
    },
    {
     "name": "stdout",
     "output_type": "stream",
     "text": [
      "Χημικοί Μηχανικοί - G.P.MICHAELIDES & SONS (AGENCIES) LTD\n",
      "titleofjob=Χημικοί Μηχανικοί\n",
      "refernce_number=148464\n",
      "city=Λευκωσία\n",
      "date_posted=01/09/2021\n",
      "expire_date=17/09/2021\n",
      "views=181\n",
      "type_of_employment=Πλήρης\n",
      "employment_sector=Μη διαθέσιμο\n",
      "publisher=Ιδιωτική Εταιρεία (LTD)\n",
      "category=Χημικοί, Χημικοί Μηχανικοί\n"
     ]
    },
    {
     "name": "stderr",
     "output_type": "stream",
     "text": [
      "\r",
      " 28%|██▊       | 277/1000 [1:05:54<2:49:54, 14.10s/it]"
     ]
    },
    {
     "name": "stdout",
     "output_type": "stream",
     "text": [
      "Νοσηλευτής/τρια - DR PANAYIOTIS DEMOSTHENOUS IEPE\n",
      "titleofjob=Νοσηλευτής/τρια\n",
      "refernce_number=148480\n",
      "city=Λεμεσός\n",
      "date_posted=01/09/2021\n",
      "expire_date=26/09/2021\n",
      "views=217\n",
      "type_of_employment=Πλήρη ή Μερική\n",
      "employment_sector=Νοσοκομεία / Κλινικές\n",
      "publisher=Ιδιωτική Εταιρεία (LTD)\n",
      "category=Νοσηλευτές\n"
     ]
    },
    {
     "name": "stderr",
     "output_type": "stream",
     "text": [
      "\r",
      " 28%|██▊       | 278/1000 [1:06:07<2:46:46, 13.86s/it]"
     ]
    },
    {
     "name": "stdout",
     "output_type": "stream",
     "text": [
      "Sales Account Manager - CBS IT SYSTEMS CYPRUS LTD\n",
      "titleofjob=Sales Account Manager\n",
      "refernce_number=148508\n",
      "city=Λευκωσία\n",
      "date_posted=01/09/2021\n",
      "expire_date=26/09/2021\n",
      "views=96\n",
      "type_of_employment=Πλήρης\n",
      "employment_sector=Μη διαθέσιμο\n",
      "publisher=Ιδιωτική Εταιρεία (LTD)\n",
      "category=Πληροφορική, Υπεύθυνοι Πωλήσεων\n"
     ]
    },
    {
     "name": "stderr",
     "output_type": "stream",
     "text": [
      "\r",
      " 28%|██▊       | 279/1000 [1:06:21<2:47:00, 13.90s/it]"
     ]
    },
    {
     "name": "stdout",
     "output_type": "stream",
     "text": [
      "Κειμενογράφος - !eye creative communications\n",
      "titleofjob=Κειμενογράφος\n",
      "refernce_number=148456\n",
      "city=Λευκωσία\n",
      "date_posted=01/09/2021\n",
      "expire_date=26/09/2021\n",
      "views=1003\n",
      "type_of_employment=Πλήρης\n",
      "employment_sector=Μάρκετινγκ / Διαφήμιση\n",
      "publisher=Ιδιωτική Εταιρεία (LTD)\n",
      "category=Μάρκετινγκ / Δημόσιες Σχέσεις, ΜΜΕ-Δημοσιογραφία\n"
     ]
    },
    {
     "name": "stderr",
     "output_type": "stream",
     "text": [
      "\r",
      " 28%|██▊       | 280/1000 [1:06:36<2:49:11, 14.10s/it]"
     ]
    },
    {
     "name": "stdout",
     "output_type": "stream",
     "text": [
      "Πολιτικός Μηχανικός - Cymat Building Materials Ltd\n",
      "titleofjob=Πολιτικός Μηχανικός\n",
      "refernce_number=148457\n",
      "city=Λευκωσία\n",
      "date_posted=01/09/2021\n",
      "expire_date=26/09/2021\n",
      "views=154\n",
      "type_of_employment=Πλήρης\n",
      "employment_sector=Οικοδομικά υλικά\n",
      "publisher=Ιδιωτική Εταιρεία (LTD)\n",
      "category=Πολιτικοί Μηχανικοί, Δόμηση - Κατασκευές, Υπεύθυνοι Πωλήσεων\n"
     ]
    },
    {
     "name": "stderr",
     "output_type": "stream",
     "text": [
      "\r",
      " 28%|██▊       | 281/1000 [1:06:50<2:50:33, 14.23s/it]"
     ]
    },
    {
     "name": "stdout",
     "output_type": "stream",
     "text": [
      "Σύμβουλος Ανάπτυξης Πωλήσεων & Εξυπηρέτησης Πελατών - Technosound Ltd\n",
      "titleofjob=Σύμβουλος Ανάπτυξης Πωλήσεων & Εξυπηρέτησης Πελατών\n",
      "refernce_number=148479\n",
      "city=Λευκωσία\n",
      "date_posted=02/09/2021\n",
      "expire_date=25/09/2021\n",
      "views=174\n",
      "type_of_employment=Πλήρης\n",
      "employment_sector=Καταστήματα Ηλεκτρικών και Ηλεκτρονικών Ειδών\n",
      "publisher=Ιδιωτική Εταιρεία (LTD)\n",
      "category=Εξυπηρέτηση Πελατών, Μάρκετινγκ / Δημόσιες Σχέσεις, Πωλητές - Καταστήματα, Μουσικοί / Τραγουδιστές\n"
     ]
    },
    {
     "name": "stderr",
     "output_type": "stream",
     "text": [
      "\r",
      " 28%|██▊       | 282/1000 [1:07:04<2:48:18, 14.07s/it]"
     ]
    },
    {
     "name": "stdout",
     "output_type": "stream",
     "text": [
      "Bookkeeper - Acfin Audit Ltd\n",
      "titleofjob=Bookkeeper\n",
      "refernce_number=148477\n",
      "city=Λευκωσία\n",
      "date_posted=01/09/2021\n",
      "expire_date=26/09/2021\n",
      "views=163\n",
      "type_of_employment=Πλήρης\n",
      "employment_sector=Λογιστικά / Ελεγκτικά γραφεία\n",
      "publisher=Ιδιωτική Εταιρεία (LTD)\n",
      "category=Λογιστές, Χρηματοοικονομικά/Χρηματοπιστωτικά\n"
     ]
    },
    {
     "name": "stderr",
     "output_type": "stream",
     "text": [
      "\r",
      " 28%|██▊       | 283/1000 [1:07:18<2:48:50, 14.13s/it]"
     ]
    },
    {
     "name": "stdout",
     "output_type": "stream",
     "text": [
      "Λογιστής / Λογίστρια - P.C.M.C. AUDIT LTD\n",
      "titleofjob=Λογιστής / Λογίστρια\n",
      "refernce_number=148505\n",
      "city=Λεμεσός\n",
      "date_posted=01/09/2021\n",
      "expire_date=26/09/2021\n",
      "views=185\n",
      "type_of_employment=Πλήρης\n",
      "employment_sector=Λογιστικά / Ελεγκτικά γραφεία\n",
      "publisher=Ιδιωτική Εταιρεία (LTD)\n",
      "category=Λογιστές, Οικονομολόγοι, Χρηματοοικονομικά/Χρηματοπιστωτικά\n"
     ]
    },
    {
     "name": "stderr",
     "output_type": "stream",
     "text": [
      "\r",
      " 28%|██▊       | 284/1000 [1:07:32<2:48:12, 14.10s/it]"
     ]
    },
    {
     "name": "stdout",
     "output_type": "stream",
     "text": [
      "Graphic Designer - LEPTOS GROUP\n",
      "titleofjob=Graphic Designer\n",
      "refernce_number=148504\n",
      "city=Πάφος\n",
      "date_posted=01/09/2021\n",
      "expire_date=26/09/2021\n",
      "views=145\n",
      "type_of_employment=Πλήρης\n",
      "employment_sector=Μη διαθέσιμο\n",
      "publisher=Ιδιωτική Εταιρεία (LTD)\n",
      "category=Μάρκετινγκ / Δημόσιες Σχέσεις, Γραφίστες\n"
     ]
    },
    {
     "name": "stderr",
     "output_type": "stream",
     "text": [
      "\r",
      " 28%|██▊       | 285/1000 [1:07:46<2:47:51, 14.09s/it]"
     ]
    },
    {
     "name": "stdout",
     "output_type": "stream",
     "text": [
      "Υπάλληλος Αποθήκης - H.M HOUSEMARKET (CYPRUS) LTD\n",
      "titleofjob=Υπάλληλος Αποθήκης\n",
      "refernce_number=148476\n",
      "city=Λευκωσία\n",
      "date_posted=01/09/2021\n",
      "expire_date=26/09/2021\n",
      "views=390\n",
      "type_of_employment=Μερική\n",
      "employment_sector=Μη διαθέσιμο\n",
      "publisher=Ιδιωτική Εταιρεία (LTD)\n",
      "category=Υπεραγορές - Πολυκαταστήματα, Αποθηκάριοι\n"
     ]
    },
    {
     "name": "stderr",
     "output_type": "stream",
     "text": [
      "\r",
      " 29%|██▊       | 286/1000 [1:08:00<2:47:02, 14.04s/it]"
     ]
    },
    {
     "name": "stdout",
     "output_type": "stream",
     "text": [
      "Υπάλληλος Τμήματος Εστιατορίου - H.M HOUSEMARKET (CYPRUS) LTD\n",
      "titleofjob=Υπάλληλος Τμήματος Εστιατορίου\n",
      "refernce_number=148475\n",
      "city=Λευκωσία\n",
      "date_posted=01/09/2021\n",
      "expire_date=26/09/2021\n",
      "views=174\n",
      "type_of_employment=Μερική\n",
      "employment_sector=Εστιατόρια / Καφετέριες\n",
      "publisher=Ιδιωτική Εταιρεία (LTD)\n",
      "category=Υπάλληλοι HORECA, Μάγειρες / Ζαχαροπλάστες\n"
     ]
    },
    {
     "name": "stderr",
     "output_type": "stream",
     "text": [
      "\r",
      " 29%|██▊       | 287/1000 [1:08:14<2:44:57, 13.88s/it]"
     ]
    },
    {
     "name": "stdout",
     "output_type": "stream",
     "text": [
      "Digital Marketing Specialist - LEPTOS GROUP\n",
      "titleofjob=Digital Marketing Specialist\n",
      "refernce_number=148503\n",
      "city=Πάφος\n",
      "date_posted=01/09/2021\n",
      "expire_date=26/09/2021\n",
      "views=138\n",
      "type_of_employment=Πλήρης\n",
      "employment_sector=Μη διαθέσιμο\n",
      "publisher=Ιδιωτική Εταιρεία (LTD)\n",
      "category=Διοίκηση επιχειρήσεων, Μάρκετινγκ / Δημόσιες Σχέσεις, ΜΜΕ-Δημοσιογραφία\n"
     ]
    },
    {
     "name": "stderr",
     "output_type": "stream",
     "text": [
      "\r",
      " 29%|██▉       | 288/1000 [1:08:28<2:47:23, 14.11s/it]"
     ]
    },
    {
     "name": "stdout",
     "output_type": "stream",
     "text": [
      "Λειτουργός Πωλήσεων - CPL Co-Pharm Ltd\n",
      "titleofjob=Λειτουργός Πωλήσεων\n",
      "refernce_number=148497\n",
      "city=Λευκωσία, Λάρνακα, Αμμόχωστος\n",
      "date_posted=01/09/2021\n",
      "expire_date=26/09/2021\n",
      "views=338\n",
      "type_of_employment=Πλήρης\n",
      "employment_sector=Χοντρικό Εμπόριο\n",
      "publisher=Ιδιωτική Εταιρεία (LTD)\n",
      "category=Πωλητές - Καταστήματα, Εξωτερικοί Πωλητές / Πλασιέ, Υπεύθυνοι Πωλήσεων\n"
     ]
    },
    {
     "name": "stderr",
     "output_type": "stream",
     "text": [
      "\r",
      " 29%|██▉       | 289/1000 [1:08:42<2:46:54, 14.08s/it]"
     ]
    },
    {
     "name": "stdout",
     "output_type": "stream",
     "text": [
      "Office Administrator - YIANNIS CONSTANTINIDES LTD\n",
      "titleofjob=Office Administrator\n",
      "refernce_number=148474\n",
      "city=Πάφος\n",
      "date_posted=01/09/2021\n",
      "expire_date=25/09/2021\n",
      "views=263\n",
      "type_of_employment=Πλήρης\n",
      "employment_sector=Λογιστικά / Ελεγκτικά γραφεία\n",
      "publisher=Ιδιωτική Εταιρεία (LTD)\n",
      "category=Γραμματειακά, Διοίκηση επιχειρήσεων, Εξυπηρέτηση Πελατών\n"
     ]
    },
    {
     "name": "stderr",
     "output_type": "stream",
     "text": [
      "\r",
      " 29%|██▉       | 290/1000 [1:08:56<2:45:29, 13.98s/it]"
     ]
    },
    {
     "name": "stdout",
     "output_type": "stream",
     "text": [
      "Φροντιστής / Φροντίστρια - Οργάνωση Παραπληγικών Κύπρου\n",
      "titleofjob=Φροντιστής / Φροντίστρια\n",
      "refernce_number=148502\n",
      "city=Λευκωσία\n",
      "date_posted=01/09/2021\n",
      "expire_date=19/09/2021\n",
      "views=186\n",
      "type_of_employment=Πλήρης\n",
      "employment_sector=Μη διαθέσιμο\n",
      "publisher=Μη κερδοσκοπικός οργανισμός\n",
      "category=Φροντιστές\n"
     ]
    },
    {
     "name": "stderr",
     "output_type": "stream",
     "text": [
      "\r",
      " 29%|██▉       | 291/1000 [1:09:10<2:44:50, 13.95s/it]"
     ]
    },
    {
     "name": "stdout",
     "output_type": "stream",
     "text": [
      "Accounts Manager - Roomzly Interior Design Studio\n",
      "titleofjob=Accounts Manager\n",
      "refernce_number=148473\n",
      "city=Λεμεσός\n",
      "date_posted=01/09/2021\n",
      "expire_date=26/09/2021\n",
      "views=157\n",
      "type_of_employment=Πλήρης\n",
      "employment_sector=Λογιστικά / Ελεγκτικά γραφεία\n",
      "publisher=Ιδιωτική Εταιρεία (LTD)\n",
      "category=Διοίκηση επιχειρήσεων, Λογιστές, Χρηματοοικονομικά/Χρηματοπιστωτικά, Ρωσική γλώσσα\n"
     ]
    },
    {
     "name": "stderr",
     "output_type": "stream",
     "text": [
      "\r",
      " 29%|██▉       | 292/1000 [1:09:25<2:48:22, 14.27s/it]"
     ]
    },
    {
     "name": "stdout",
     "output_type": "stream",
     "text": [
      "Σερβιτόροι / Σερβιτόρες - Multigrain Bakery Cafe Ltd\n",
      "titleofjob=Σερβιτόροι / Σερβιτόρες\n",
      "refernce_number=148469\n",
      "city=Λευκωσία\n",
      "date_posted=01/09/2021\n",
      "expire_date=26/09/2021\n",
      "views=61\n",
      "type_of_employment=Πλήρης\n",
      "employment_sector=Αρτοποιεία - Ζαχαροπλαστεία\n",
      "publisher=Ιδιωτική Εταιρεία (LTD)\n",
      "category=Υπάλληλοι HORECA, Σερβιτόροι, Απόφοιτοι Ξενοδοχειακής Σχολής\n"
     ]
    },
    {
     "name": "stderr",
     "output_type": "stream",
     "text": [
      "\r",
      " 29%|██▉       | 293/1000 [1:09:40<2:51:48, 14.58s/it]"
     ]
    },
    {
     "name": "stdout",
     "output_type": "stream",
     "text": [
      "Πωλητές/τριες Καταστήματος - MCC BEST VALUE LTD\n",
      "titleofjob=Πωλητές/τριες Καταστήματος\n",
      "refernce_number=148501\n",
      "city=Λεμεσός\n",
      "date_posted=01/09/2021\n",
      "expire_date=26/09/2021\n",
      "views=143\n",
      "type_of_employment=Πλήρης\n",
      "employment_sector=Υπεραγορές / Πολυκαταστήματα\n",
      "publisher=Ιδιωτική Εταιρεία (LTD)\n",
      "category=Υπεραγορές - Πολυκαταστήματα, Πωλητές - Καταστήματα\n"
     ]
    },
    {
     "name": "stderr",
     "output_type": "stream",
     "text": [
      "\r",
      " 29%|██▉       | 294/1000 [1:09:55<2:50:23, 14.48s/it]"
     ]
    },
    {
     "name": "stdout",
     "output_type": "stream",
     "text": [
      "Βοηθός Οδοντιατρείου - Kalia Tsangari Dental Clinic\n",
      "titleofjob=Βοηθός Οδοντιατρείου\n",
      "refernce_number=148465\n",
      "city=Λάρνακα\n",
      "date_posted=01/09/2021\n",
      "expire_date=26/09/2021\n",
      "views=407\n",
      "type_of_employment=Μερική\n",
      "employment_sector=Νοσοκομεία / Κλινικές\n",
      "publisher=Φυσικό Πρόσωπο\n",
      "category=Βοηθοί Οδοντιατρείου\n"
     ]
    },
    {
     "name": "stderr",
     "output_type": "stream",
     "text": [
      "\r",
      " 30%|██▉       | 295/1000 [1:10:10<2:51:57, 14.63s/it]"
     ]
    },
    {
     "name": "stdout",
     "output_type": "stream",
     "text": [
      "Πωλητής/Πωλήτρια (Sales Assistant) - ΓΙΩΤΗΣ ΧΡΙΣΤΟΥ ΛΤΔ\n",
      "titleofjob=Πωλητής/Πωλήτρια (Sales Assistant)\n",
      "refernce_number=148471\n",
      "city=Λεμεσός\n",
      "date_posted=01/09/2021\n",
      "expire_date=26/09/2021\n",
      "views=493\n",
      "type_of_employment=Πλήρης\n",
      "employment_sector=Λιανικό Εμπόριο\n",
      "publisher=Ιδιωτική Εταιρεία (LTD)\n",
      "category=Πωλητές - Καταστήματα, Ρωσική γλώσσα\n"
     ]
    },
    {
     "name": "stderr",
     "output_type": "stream",
     "text": [
      "\r",
      " 30%|██▉       | 296/1000 [1:10:24<2:51:08, 14.59s/it]"
     ]
    },
    {
     "name": "stdout",
     "output_type": "stream",
     "text": [
      "Πωλήτριες/ Πωλητές - OVENIT LTD\n",
      "titleofjob=Πωλήτριες/ Πωλητές\n",
      "refernce_number=148463\n",
      "city=Λευκωσία\n",
      "date_posted=01/09/2021\n",
      "expire_date=25/09/2021\n",
      "views=126\n",
      "type_of_employment=Πλήρης\n",
      "employment_sector=Λιανικό Εμπόριο\n",
      "publisher=Ιδιωτική Εταιρεία (LTD)\n",
      "category=Εξυπηρέτηση Πελατών, Πωλητές - Καταστήματα\n"
     ]
    },
    {
     "name": "stderr",
     "output_type": "stream",
     "text": [
      "\r",
      " 30%|██▉       | 297/1000 [1:10:38<2:46:59, 14.25s/it]"
     ]
    },
    {
     "name": "stdout",
     "output_type": "stream",
     "text": [
      "Baristas - Multigrain Bakery Cafe Ltd\n",
      "titleofjob=Baristas\n",
      "refernce_number=148468\n",
      "city=Λευκωσία\n",
      "date_posted=01/09/2021\n",
      "expire_date=26/09/2021\n",
      "views=43\n",
      "type_of_employment=Πλήρης\n",
      "employment_sector=Αρτοποιεία - Ζαχαροπλαστεία\n",
      "publisher=Ιδιωτική Εταιρεία (LTD)\n",
      "category=Baristas\n"
     ]
    },
    {
     "name": "stderr",
     "output_type": "stream",
     "text": [
      "\r",
      " 30%|██▉       | 298/1000 [1:10:52<2:45:43, 14.16s/it]"
     ]
    },
    {
     "name": "stdout",
     "output_type": "stream",
     "text": [
      "Junior Associate - Kaimakliotis LLC\n",
      "titleofjob=Junior Associate\n",
      "refernce_number=148466\n",
      "city=Λάρνακα\n",
      "date_posted=02/09/2021\n",
      "expire_date=25/09/2021\n",
      "views=568\n",
      "type_of_employment=Πλήρης\n",
      "employment_sector=Δικηγορικά γραφεία\n",
      "publisher=Ιδιωτική Εταιρεία (LTD)\n",
      "category=Δικηγόροι\n"
     ]
    },
    {
     "name": "stderr",
     "output_type": "stream",
     "text": [
      "\r",
      " 30%|██▉       | 299/1000 [1:11:05<2:42:46, 13.93s/it]"
     ]
    },
    {
     "name": "stdout",
     "output_type": "stream",
     "text": [
      "Πωλητές / Πωλήτριες - Multigrain Bakery Cafe Ltd\n",
      "titleofjob=Πωλητές / Πωλήτριες\n",
      "refernce_number=148470\n",
      "city=Λευκωσία\n",
      "date_posted=01/09/2021\n",
      "expire_date=26/09/2021\n",
      "views=73\n",
      "type_of_employment=Πλήρης\n",
      "employment_sector=Αρτοποιεία - Ζαχαροπλαστεία\n",
      "publisher=Ιδιωτική Εταιρεία (LTD)\n",
      "category=Πωλητές - Καταστήματα\n"
     ]
    },
    {
     "name": "stderr",
     "output_type": "stream",
     "text": [
      "\r",
      " 30%|███       | 300/1000 [1:11:19<2:44:20, 14.09s/it]"
     ]
    },
    {
     "name": "stdout",
     "output_type": "stream",
     "text": [
      "Mobile Developer - HF Markets\n",
      "titleofjob=Mobile Developer\n",
      "refernce_number=148491\n",
      "city=Λάρνακα\n",
      "date_posted=01/09/2021\n",
      "expire_date=26/09/2021\n",
      "views=73\n",
      "type_of_employment=Πλήρης\n",
      "employment_sector=Forex\n",
      "publisher=Ιδιωτική Εταιρεία (LTD)\n",
      "category=Πληροφορική, Forex\n"
     ]
    },
    {
     "name": "stderr",
     "output_type": "stream",
     "text": [
      "\r",
      " 30%|███       | 301/1000 [1:11:34<2:44:52, 14.15s/it]"
     ]
    },
    {
     "name": "stdout",
     "output_type": "stream",
     "text": [
      "Senior C# .NET Developer - HF Markets\n",
      "titleofjob=Senior C# .NET Developer\n",
      "refernce_number=148490\n",
      "city=Λάρνακα\n",
      "date_posted=01/09/2021\n",
      "expire_date=26/09/2021\n",
      "views=58\n",
      "type_of_employment=Πλήρης\n",
      "employment_sector=Forex\n",
      "publisher=Ιδιωτική Εταιρεία (LTD)\n",
      "category=Πληροφορική, Forex\n"
     ]
    },
    {
     "name": "stderr",
     "output_type": "stream",
     "text": [
      "\r",
      " 30%|███       | 302/1000 [1:11:47<2:41:59, 13.92s/it]"
     ]
    },
    {
     "name": "stdout",
     "output_type": "stream",
     "text": [
      "Senior BI (Business Intelligence) Developer - HF Markets\n",
      "titleofjob=Senior BI (Business Intelligence) Developer\n",
      "refernce_number=148489\n",
      "city=Λάρνακα\n",
      "date_posted=01/09/2021\n",
      "expire_date=26/09/2021\n",
      "views=68\n",
      "type_of_employment=Πλήρης\n",
      "employment_sector=Forex\n",
      "publisher=Ιδιωτική Εταιρεία (LTD)\n",
      "category=Πληροφορική, Forex\n"
     ]
    },
    {
     "name": "stderr",
     "output_type": "stream",
     "text": [
      "\r",
      " 30%|███       | 303/1000 [1:12:02<2:43:31, 14.08s/it]"
     ]
    },
    {
     "name": "stdout",
     "output_type": "stream",
     "text": [
      "SEO Specialist - HF Markets\n",
      "titleofjob=SEO Specialist\n",
      "refernce_number=148487\n",
      "city=Λάρνακα\n",
      "date_posted=01/09/2021\n",
      "expire_date=26/09/2021\n",
      "views=76\n",
      "type_of_employment=Πλήρης\n",
      "employment_sector=Forex\n",
      "publisher=Ιδιωτική Εταιρεία (LTD)\n",
      "category=Μάρκετινγκ / Δημόσιες Σχέσεις, Forex\n"
     ]
    },
    {
     "name": "stderr",
     "output_type": "stream",
     "text": [
      "\r",
      " 30%|███       | 304/1000 [1:12:16<2:44:11, 14.15s/it]"
     ]
    },
    {
     "name": "stdout",
     "output_type": "stream",
     "text": [
      "Barista - ROASTED COFFEE SHOP\n",
      "titleofjob=Barista\n",
      "refernce_number=148472\n",
      "city=Λευκωσία\n",
      "date_posted=01/09/2021\n",
      "expire_date=26/09/2021\n",
      "views=146\n",
      "type_of_employment=Πλήρη ή Μερική\n",
      "employment_sector=Εστιατόρια / Καφετέριες\n",
      "publisher=Ιδιωτική Εταιρεία (LTD)\n",
      "category=Baristas\n"
     ]
    },
    {
     "name": "stderr",
     "output_type": "stream",
     "text": [
      "\r",
      " 30%|███       | 305/1000 [1:12:30<2:42:38, 14.04s/it]"
     ]
    },
    {
     "name": "stdout",
     "output_type": "stream",
     "text": [
      "Back-End Web Developer - HF Markets\n",
      "titleofjob=Back-End Web Developer\n",
      "refernce_number=148485\n",
      "city=Λάρνακα\n",
      "date_posted=01/09/2021\n",
      "expire_date=26/09/2021\n",
      "views=43\n",
      "type_of_employment=Πλήρης\n",
      "employment_sector=Forex\n",
      "publisher=Ιδιωτική Εταιρεία (LTD)\n",
      "category=Πληροφορική, Forex\n"
     ]
    },
    {
     "name": "stderr",
     "output_type": "stream",
     "text": [
      "\r",
      " 31%|███       | 306/1000 [1:12:44<2:43:22, 14.12s/it]"
     ]
    },
    {
     "name": "stdout",
     "output_type": "stream",
     "text": [
      "Baristas - P & TH Just Roasted Ltd\n",
      "titleofjob=Baristas\n",
      "refernce_number=148467\n",
      "city=Λάρνακα\n",
      "date_posted=01/09/2021\n",
      "expire_date=26/09/2021\n",
      "views=370\n",
      "type_of_employment=Πλήρη ή Μερική\n",
      "employment_sector=Εστιατόρια / Καφετέριες\n",
      "publisher=Ιδιωτική Εταιρεία (LTD)\n",
      "category=Υπάλληλοι HORECA, Baristas\n"
     ]
    },
    {
     "name": "stderr",
     "output_type": "stream",
     "text": [
      "\r",
      " 31%|███       | 307/1000 [1:12:58<2:41:53, 14.02s/it]"
     ]
    },
    {
     "name": "stdout",
     "output_type": "stream",
     "text": [
      "Σύμβουλοι Ακινήτων - G&P LAZAROU ESTATE AGENTS LTD\n",
      "titleofjob=Σύμβουλοι Ακινήτων\n",
      "refernce_number=148452\n",
      "city=Λεμεσός, Λευκωσία, Λάρνακα, Πάφος, Αμμόχωστος\n",
      "date_posted=02/09/2021\n",
      "expire_date=25/09/2021\n",
      "views=542\n",
      "type_of_employment=Πλήρης\n",
      "employment_sector=Κτηματομεσιτικά γραφεία\n",
      "publisher=Ιδιωτική Εταιρεία (LTD)\n",
      "category=Εξυπηρέτηση Πελατών, Τομέας Ακινήτων, Υπεύθυνοι Πωλήσεων\n"
     ]
    },
    {
     "name": "stderr",
     "output_type": "stream",
     "text": [
      "\r",
      " 31%|███       | 308/1000 [1:13:12<2:42:25, 14.08s/it]"
     ]
    },
    {
     "name": "stdout",
     "output_type": "stream",
     "text": [
      "Αιμολήπτης / Αιμολήπτρια - Medicquest Medical Diagnostic Laboratory\n",
      "titleofjob=Αιμολήπτης / Αιμολήπτρια\n",
      "refernce_number=148447\n",
      "city=Λευκωσία\n",
      "date_posted=02/09/2021\n",
      "expire_date=25/09/2021\n",
      "views=217\n",
      "type_of_employment=Πλήρη ή Μερική\n",
      "employment_sector=Μη διαθέσιμο\n",
      "publisher=Ιδιωτική Εταιρεία (LTD)\n",
      "category=Βιολόγοι, Νοσηλευτές, Χημικοί\n"
     ]
    },
    {
     "name": "stderr",
     "output_type": "stream",
     "text": [
      "\r",
      " 31%|███       | 309/1000 [1:13:26<2:41:03, 13.98s/it]"
     ]
    },
    {
     "name": "stdout",
     "output_type": "stream",
     "text": [
      "IT Systems Support Officer (Graduate) - JobsCyprus\n",
      "titleofjob=IT Systems Support Officer (Graduate)\n",
      "refernce_number=148422\n",
      "city=Λεμεσός\n",
      "date_posted=02/09/2021\n",
      "expire_date=25/09/2021\n",
      "views=127\n",
      "type_of_employment=Πλήρης\n",
      "employment_sector=Μη διαθέσιμο\n",
      "publisher=Ιδιωτική Εταιρεία (LTD)\n",
      "category=Πληροφορική\n"
     ]
    },
    {
     "name": "stderr",
     "output_type": "stream",
     "text": [
      "\r",
      " 31%|███       | 310/1000 [1:13:40<2:43:10, 14.19s/it]"
     ]
    },
    {
     "name": "stdout",
     "output_type": "stream",
     "text": [
      "Makerspace Engineer / DIY STEM Projects Developer (Dual Role) - Engino-Net Limited\n",
      "titleofjob=Makerspace Engineer / DIY STEM Projects Developer (Dual Role)\n",
      "refernce_number=148462\n",
      "city=Λεμεσός\n",
      "date_posted=02/09/2021\n",
      "expire_date=25/09/2021\n",
      "views=169\n",
      "type_of_employment=Πλήρης\n",
      "employment_sector=Μη διαθέσιμο\n",
      "publisher=Ιδιωτική Εταιρεία (LTD)\n",
      "category=Μηχανολόγοι Μηχανικοί\n"
     ]
    },
    {
     "name": "stderr",
     "output_type": "stream",
     "text": [
      "\r",
      " 31%|███       | 311/1000 [1:13:54<2:42:06, 14.12s/it]"
     ]
    },
    {
     "name": "stdout",
     "output_type": "stream",
     "text": [
      "Payroll Officer - KC Firiakis Services Ltd\n",
      "titleofjob=Payroll Officer\n",
      "refernce_number=148460\n",
      "city=Λεμεσός\n",
      "date_posted=02/09/2021\n",
      "expire_date=25/09/2021\n",
      "views=259\n",
      "type_of_employment=Πλήρης\n",
      "employment_sector=Σύμβουλοι Επιχειρήσεων\n",
      "publisher=Ιδιωτική Εταιρεία (LTD)\n",
      "category=Λογιστές, Μαθηματικοί / Στατιστικολόγοι, Οικονομολόγοι, Χρηματοοικονομικά/Χρηματοπιστωτικά\n"
     ]
    },
    {
     "name": "stderr",
     "output_type": "stream",
     "text": [
      "\r",
      " 31%|███       | 312/1000 [1:14:09<2:43:57, 14.30s/it]"
     ]
    },
    {
     "name": "stdout",
     "output_type": "stream",
     "text": [
      "Accounts Payable - KC Firiakis Services Ltd\n",
      "titleofjob=Accounts Payable\n",
      "refernce_number=148459\n",
      "city=Λεμεσός\n",
      "date_posted=02/09/2021\n",
      "expire_date=25/09/2021\n",
      "views=228\n",
      "type_of_employment=Πλήρης\n",
      "employment_sector=Σύμβουλοι Επιχειρήσεων\n",
      "publisher=Ιδιωτική Εταιρεία (LTD)\n",
      "category=Διοίκηση επιχειρήσεων, Λογιστές, Χρηματοοικονομικά/Χρηματοπιστωτικά\n"
     ]
    },
    {
     "name": "stderr",
     "output_type": "stream",
     "text": [
      "\r",
      " 31%|███▏      | 313/1000 [1:14:23<2:42:11, 14.16s/it]"
     ]
    },
    {
     "name": "stdout",
     "output_type": "stream",
     "text": [
      "Accounting Officer - KC Firiakis Services Ltd\n",
      "titleofjob=Accounting Officer\n",
      "refernce_number=148458\n",
      "city=Λεμεσός\n",
      "date_posted=02/09/2021\n",
      "expire_date=25/09/2021\n",
      "views=273\n",
      "type_of_employment=Πλήρης\n",
      "employment_sector=Σύμβουλοι Επιχειρήσεων\n",
      "publisher=Ιδιωτική Εταιρεία (LTD)\n",
      "category=Διοίκηση επιχειρήσεων, Ελεγκτές, Λογιστές, Οικονομολόγοι, Χρηματοοικονομικά/Χρηματοπιστωτικά\n"
     ]
    },
    {
     "name": "stderr",
     "output_type": "stream",
     "text": [
      "\r",
      " 31%|███▏      | 314/1000 [1:14:37<2:41:39, 14.14s/it]"
     ]
    },
    {
     "name": "stdout",
     "output_type": "stream",
     "text": [
      "Telephone Operators - English Speaking (EG0921) - FCG First Choice Group Ltd\n",
      "titleofjob=Telephone Operators - English Speaking (EG0921)\n",
      "refernce_number=148455\n",
      "city=Λάρνακα\n",
      "date_posted=02/09/2021\n",
      "expire_date=25/09/2021\n",
      "views=244\n",
      "type_of_employment=Πλήρη ή Μερική\n",
      "employment_sector=Μη διαθέσιμο\n",
      "publisher=Ιδιωτική Εταιρεία (LTD)\n",
      "category=Εξυπηρέτηση Πελατών, Τηλεφωνητές\n"
     ]
    },
    {
     "name": "stderr",
     "output_type": "stream",
     "text": [
      "\r",
      " 32%|███▏      | 315/1000 [1:14:51<2:39:25, 13.96s/it]"
     ]
    },
    {
     "name": "stdout",
     "output_type": "stream",
     "text": [
      "IT Help Desk Officer (5276) - CareerFinders Recruitment Services Ltd\n",
      "titleofjob=IT Help Desk Officer (5276)\n",
      "refernce_number=148453\n",
      "city=Λευκωσία\n",
      "date_posted=02/09/2021\n",
      "expire_date=25/09/2021\n",
      "views=157\n",
      "type_of_employment=Πλήρης\n",
      "employment_sector=Τράπεζες / Χρηματοπιστωτικά Ιδρύματα\n",
      "publisher=Ιδιωτική Εταιρεία (LTD)\n",
      "category=Πληροφορική, Forex\n"
     ]
    },
    {
     "name": "stderr",
     "output_type": "stream",
     "text": [
      "\r",
      " 32%|███▏      | 316/1000 [1:15:06<2:44:40, 14.44s/it]"
     ]
    },
    {
     "name": "stdout",
     "output_type": "stream",
     "text": [
      "Tax Assistants - Business Tax Services - Limassol/Nicosia - Deloitte\n",
      "titleofjob=Tax Assistants - Business Tax Services - Limassol/Nicosia\n",
      "refernce_number=148451\n",
      "city=Λεμεσός, Λευκωσία\n",
      "date_posted=02/09/2021\n",
      "expire_date=08/09/2021\n",
      "views=256\n",
      "type_of_employment=Πλήρης\n",
      "employment_sector=Λογιστικά / Ελεγκτικά γραφεία\n",
      "publisher=Ιδιωτική Εταιρεία (LTD)\n",
      "category=Ελεγκτές, Λογιστές, Χρηματοοικονομικά/Χρηματοπιστωτικά\n"
     ]
    },
    {
     "name": "stderr",
     "output_type": "stream",
     "text": [
      "\r",
      " 32%|███▏      | 317/1000 [1:15:21<2:45:09, 14.51s/it]"
     ]
    },
    {
     "name": "stdout",
     "output_type": "stream",
     "text": [
      "Bookkeeper - Georgiou & Prasanna Ltd\n",
      "titleofjob=Bookkeeper\n",
      "refernce_number=148450\n",
      "city=Λάρνακα\n",
      "date_posted=02/09/2021\n",
      "expire_date=25/09/2021\n",
      "views=265\n",
      "type_of_employment=Πλήρης\n",
      "employment_sector=Λογιστικά / Ελεγκτικά γραφεία\n",
      "publisher=Ιδιωτική Εταιρεία (LTD)\n",
      "category=Λογιστές, Χρηματοοικονομικά/Χρηματοπιστωτικά\n"
     ]
    },
    {
     "name": "stderr",
     "output_type": "stream",
     "text": [
      "\r",
      " 32%|███▏      | 318/1000 [1:15:34<2:41:46, 14.23s/it]"
     ]
    },
    {
     "name": "stdout",
     "output_type": "stream",
     "text": [
      "Security Administrator - Aram Meem Services Ltd.\n",
      "titleofjob=Security Administrator\n",
      "refernce_number=148449\n",
      "city=Λεμεσός\n",
      "date_posted=02/09/2021\n",
      "expire_date=25/09/2021\n",
      "views=276\n",
      "type_of_employment=Πλήρης\n",
      "employment_sector=Τηλεπικοινωνία / Internet\n",
      "publisher=Ιδιωτική Εταιρεία (LTD)\n",
      "category=Πληροφορική\n"
     ]
    },
    {
     "name": "stderr",
     "output_type": "stream",
     "text": [
      "\r",
      " 32%|███▏      | 319/1000 [1:15:48<2:40:03, 14.10s/it]"
     ]
    },
    {
     "name": "stdout",
     "output_type": "stream",
     "text": [
      "Tax Seniors - Business Tax Services - Limassol/Nicosia - Deloitte\n",
      "titleofjob=Tax Seniors - Business Tax Services - Limassol/Nicosia\n",
      "refernce_number=148448\n",
      "city=Λεμεσός, Λευκωσία\n",
      "date_posted=02/09/2021\n",
      "expire_date=08/09/2021\n",
      "views=186\n",
      "type_of_employment=Πλήρης\n",
      "employment_sector=Λογιστικά / Ελεγκτικά γραφεία\n",
      "publisher=Ιδιωτική Εταιρεία (LTD)\n",
      "category=Ελεγκτές, Λογιστές, Χρηματοοικονομικά/Χρηματοπιστωτικά\n"
     ]
    },
    {
     "name": "stderr",
     "output_type": "stream",
     "text": [
      "\r",
      " 32%|███▏      | 320/1000 [1:16:03<2:41:06, 14.22s/it]"
     ]
    },
    {
     "name": "stdout",
     "output_type": "stream",
     "text": [
      "Picker - Corina Snacks Ltd\n",
      "titleofjob=Picker\n",
      "refernce_number=148441\n",
      "city=Λεμεσός\n",
      "date_posted=02/09/2021\n",
      "expire_date=25/09/2021\n",
      "views=292\n",
      "type_of_employment=Πλήρη ή Μερική\n",
      "employment_sector=Μη διαθέσιμο\n",
      "publisher=Ιδιωτική Εταιρεία (LTD)\n",
      "category=Αποθηκάριοι\n"
     ]
    },
    {
     "name": "stderr",
     "output_type": "stream",
     "text": [
      "\r",
      " 32%|███▏      | 321/1000 [1:16:16<2:36:28, 13.83s/it]"
     ]
    },
    {
     "name": "stdout",
     "output_type": "stream",
     "text": [
      "Global Legal Officer - Capital Com SV Investments Ltd\n",
      "titleofjob=Global Legal Officer\n",
      "refernce_number=148446\n",
      "city=Λεμεσός\n",
      "date_posted=02/09/2021\n",
      "expire_date=25/09/2021\n",
      "views=182\n",
      "type_of_employment=Πλήρης\n",
      "employment_sector=Forex\n",
      "publisher=Ιδιωτική Εταιρεία (LTD)\n",
      "category=Δικηγόροι, Forex\n"
     ]
    },
    {
     "name": "stderr",
     "output_type": "stream",
     "text": [
      "\r",
      " 32%|███▏      | 322/1000 [1:16:30<2:39:58, 14.16s/it]"
     ]
    },
    {
     "name": "stdout",
     "output_type": "stream",
     "text": [
      "Πωλητής/Πωλήτρια Καταστήματος - Paradisiotis Ltd\n",
      "titleofjob=Πωλητής/Πωλήτρια Καταστήματος\n",
      "refernce_number=148445\n",
      "city=Λευκωσία\n",
      "date_posted=02/09/2021\n",
      "expire_date=25/09/2021\n",
      "views=268\n",
      "type_of_employment=Πλήρης\n",
      "employment_sector=Μη διαθέσιμο\n",
      "publisher=Ιδιωτική Εταιρεία (LTD)\n",
      "category=Εξυπηρέτηση Πελατών, Πωλητές - Καταστήματα\n"
     ]
    },
    {
     "name": "stderr",
     "output_type": "stream",
     "text": [
      "\r",
      " 32%|███▏      | 323/1000 [1:16:45<2:39:44, 14.16s/it]"
     ]
    },
    {
     "name": "stdout",
     "output_type": "stream",
     "text": [
      "Χειριστής/Χειρίστρια Reach Truck - Corina Snacks Ltd\n",
      "titleofjob=Χειριστής/Χειρίστρια Reach Truck\n",
      "refernce_number=148444\n",
      "city=Λεμεσός\n",
      "date_posted=02/09/2021\n",
      "expire_date=25/09/2021\n",
      "views=233\n",
      "type_of_employment=Πλήρης\n",
      "employment_sector=Μη διαθέσιμο\n",
      "publisher=Ιδιωτική Εταιρεία (LTD)\n",
      "category=Αποθηκάριοι, Οδηγοί\n"
     ]
    },
    {
     "name": "stderr",
     "output_type": "stream",
     "text": [
      "\r",
      " 32%|███▏      | 324/1000 [1:16:57<2:35:03, 13.76s/it]"
     ]
    },
    {
     "name": "stdout",
     "output_type": "stream",
     "text": [
      "Risk Analyst (5275) - CareerFinders Recruitment Services Ltd\n",
      "titleofjob=Risk Analyst (5275)\n",
      "refernce_number=148443\n",
      "city=Λευκωσία\n",
      "date_posted=02/09/2021\n",
      "expire_date=25/09/2021\n",
      "views=214\n",
      "type_of_employment=Πλήρης\n",
      "employment_sector=Πληροφορική\n",
      "publisher=Ιδιωτική Εταιρεία (LTD)\n",
      "category=Μαθηματικοί / Στατιστικολόγοι, Πληροφορική, Forex\n"
     ]
    },
    {
     "name": "stderr",
     "output_type": "stream",
     "text": [
      "\r",
      " 32%|███▎      | 325/1000 [1:17:12<2:36:11, 13.88s/it]"
     ]
    },
    {
     "name": "stdout",
     "output_type": "stream",
     "text": [
      "IT Support Engineer - Simplex\n",
      "titleofjob=IT Support Engineer\n",
      "refernce_number=148440\n",
      "city=Λεμεσός, Λάρνακα\n",
      "date_posted=02/09/2021\n",
      "expire_date=25/09/2021\n",
      "views=181\n",
      "type_of_employment=Πλήρης\n",
      "employment_sector=Πληροφορική\n",
      "publisher=Ιδιωτική Εταιρεία (LTD)\n",
      "category=Πληροφορική\n"
     ]
    },
    {
     "name": "stderr",
     "output_type": "stream",
     "text": [
      "\r",
      " 33%|███▎      | 326/1000 [1:17:25<2:34:48, 13.78s/it]"
     ]
    },
    {
     "name": "stdout",
     "output_type": "stream",
     "text": [
      "System Administrator (Russian Speaker) - Amazing Apps\n",
      "titleofjob=System Administrator (Russian Speaker)\n",
      "refernce_number=148438\n",
      "city=Λεμεσός\n",
      "date_posted=02/09/2021\n",
      "expire_date=25/09/2021\n",
      "views=80\n",
      "type_of_employment=Πλήρης\n",
      "employment_sector=Web Design / Developing\n",
      "publisher=Ιδιωτική Εταιρεία (LTD)\n",
      "category=Εξυπηρέτηση Πελατών, Πληροφορική, Ρωσική γλώσσα\n"
     ]
    },
    {
     "name": "stderr",
     "output_type": "stream",
     "text": [
      "\r",
      " 33%|███▎      | 327/1000 [1:17:39<2:34:02, 13.73s/it]"
     ]
    },
    {
     "name": "stdout",
     "output_type": "stream",
     "text": [
      "Payroll & Payments Officer - PRIME PROPERTY GROUP\n",
      "titleofjob=Payroll & Payments Officer\n",
      "refernce_number=148436\n",
      "city=Λεμεσός\n",
      "date_posted=02/09/2021\n",
      "expire_date=25/09/2021\n",
      "views=243\n",
      "type_of_employment=Πλήρης\n",
      "employment_sector=Δόμηση / Κατασκεύες\n",
      "publisher=Ιδιωτική Εταιρεία (LTD)\n",
      "category=Λογιστές, Οικονομολόγοι, Χρηματοοικονομικά/Χρηματοπιστωτικά, Ρωσική γλώσσα\n"
     ]
    },
    {
     "name": "stderr",
     "output_type": "stream",
     "text": [
      "\r",
      " 33%|███▎      | 328/1000 [1:17:53<2:34:43, 13.81s/it]"
     ]
    },
    {
     "name": "stdout",
     "output_type": "stream",
     "text": [
      "Ψυκτικός Κλιματιστικών - Mavromatis Employment Bureau\n",
      "titleofjob=Ψυκτικός Κλιματιστικών\n",
      "refernce_number=148439\n",
      "city=Αμμόχωστος\n",
      "date_posted=02/09/2021\n",
      "expire_date=25/09/2021\n",
      "views=100\n",
      "type_of_employment=Πλήρης\n",
      "employment_sector=Μη διαθέσιμο\n",
      "publisher=Ιδιωτική Εταιρεία (LTD)\n",
      "category=Τεχνικοί\n"
     ]
    },
    {
     "name": "stderr",
     "output_type": "stream",
     "text": [
      "\r",
      " 33%|███▎      | 329/1000 [1:18:07<2:36:47, 14.02s/it]"
     ]
    },
    {
     "name": "stdout",
     "output_type": "stream",
     "text": [
      "Τεχνικός Ηλεκτρικών Οικιακών Συσκευών - Mavromatis Employment Bureau\n",
      "titleofjob=Τεχνικός Ηλεκτρικών Οικιακών Συσκευών\n",
      "refernce_number=148437\n",
      "city=Αμμόχωστος\n",
      "date_posted=02/09/2021\n",
      "expire_date=25/09/2021\n",
      "views=127\n",
      "type_of_employment=Πλήρης\n",
      "employment_sector=Μη διαθέσιμο\n",
      "publisher=Ιδιωτική Εταιρεία (LTD)\n",
      "category=Ηλεκτρολόγοι, Τεχνικοί\n"
     ]
    },
    {
     "name": "stderr",
     "output_type": "stream",
     "text": [
      "\r",
      " 33%|███▎      | 330/1000 [1:18:22<2:40:22, 14.36s/it]"
     ]
    },
    {
     "name": "stdout",
     "output_type": "stream",
     "text": [
      "IT Support Engineer - PRIMETEL PLC\n",
      "titleofjob=IT Support Engineer\n",
      "refernce_number=148435\n",
      "city=Λεμεσός\n",
      "date_posted=02/09/2021\n",
      "expire_date=25/09/2021\n",
      "views=101\n",
      "type_of_employment=Πλήρης\n",
      "employment_sector=Τηλεπικοινωνία / Internet\n",
      "publisher=Δημόσια Εταιρεία (PLC)\n",
      "category=Πληροφορική\n"
     ]
    },
    {
     "name": "stderr",
     "output_type": "stream",
     "text": [
      "\r",
      " 33%|███▎      | 331/1000 [1:18:38<2:45:22, 14.83s/it]"
     ]
    },
    {
     "name": "stdout",
     "output_type": "stream",
     "text": [
      "Μηχανικός Αυτοκινήτων - M.CHRISTOU MECH. ENGINEER\n",
      "titleofjob=Μηχανικός Αυτοκινήτων\n",
      "refernce_number=148434\n",
      "city=Λάρνακα\n",
      "date_posted=02/09/2021\n",
      "expire_date=25/09/2021\n",
      "views=142\n",
      "type_of_employment=Πλήρης\n",
      "employment_sector=Μηχανολογικές Εργασίες\n",
      "publisher=Ιδιωτική Εταιρεία (LTD)\n",
      "category=Μηχανικοί Αυτοκινήτων\n"
     ]
    },
    {
     "name": "stderr",
     "output_type": "stream",
     "text": [
      "\r",
      " 33%|███▎      | 332/1000 [1:18:53<2:43:39, 14.70s/it]"
     ]
    },
    {
     "name": "stdout",
     "output_type": "stream",
     "text": [
      "Doctors' Personal Assistant - ISIS Clinic\n",
      "titleofjob=Doctors' Personal Assistant\n",
      "refernce_number=148394\n",
      "city=Λευκωσία\n",
      "date_posted=02/09/2021\n",
      "expire_date=25/09/2021\n",
      "views=575\n",
      "type_of_employment=Πλήρης\n",
      "employment_sector=Νοσοκομεία / Κλινικές\n",
      "publisher=Ιδιωτική Εταιρεία (LTD)\n",
      "category=Γραμματειακά\n"
     ]
    },
    {
     "name": "stderr",
     "output_type": "stream",
     "text": [
      "\r",
      " 33%|███▎      | 333/1000 [1:19:07<2:43:15, 14.69s/it]"
     ]
    },
    {
     "name": "stdout",
     "output_type": "stream",
     "text": [
      "Service Desk Administrator (5274) - CareerFinders Recruitment Services Ltd\n",
      "titleofjob=Service Desk Administrator (5274)\n",
      "refernce_number=148433\n",
      "city=Λευκωσία\n",
      "date_posted=02/09/2021\n",
      "expire_date=25/09/2021\n",
      "views=155\n",
      "type_of_employment=Πλήρης\n",
      "employment_sector=Πληροφορική\n",
      "publisher=Ιδιωτική Εταιρεία (LTD)\n",
      "category=Πληροφορική\n"
     ]
    },
    {
     "name": "stderr",
     "output_type": "stream",
     "text": [
      "\r",
      " 33%|███▎      | 334/1000 [1:19:22<2:43:31, 14.73s/it]"
     ]
    },
    {
     "name": "stdout",
     "output_type": "stream",
     "text": [
      "Customer Support Officer (Shifts basis) - TopFX Ltd\n",
      "titleofjob=Customer Support Officer (Shifts basis)\n",
      "refernce_number=148432\n",
      "city=Λεμεσός\n",
      "date_posted=02/09/2021\n",
      "expire_date=25/09/2021\n",
      "views=237\n",
      "type_of_employment=Πλήρης\n",
      "employment_sector=Forex\n",
      "publisher=Ιδιωτική Εταιρεία (LTD)\n",
      "category=Γραμματειακά, Εξυπηρέτηση Πελατών, Forex, Χρηματοοικονομικά/Χρηματοπιστωτικά\n"
     ]
    },
    {
     "name": "stderr",
     "output_type": "stream",
     "text": [
      "\r",
      " 34%|███▎      | 335/1000 [1:19:36<2:38:55, 14.34s/it]"
     ]
    },
    {
     "name": "stdout",
     "output_type": "stream",
     "text": [
      "Pest Control Technician - Pest Protection Services (Cyprus) Holdings Ltd.\n",
      "titleofjob=Pest Control Technician\n",
      "refernce_number=148431\n",
      "city=Λάρνακα\n",
      "date_posted=02/09/2021\n",
      "expire_date=25/09/2021\n",
      "views=181\n",
      "type_of_employment=Πλήρης\n",
      "employment_sector=Περιβάλλον\n",
      "publisher=Ιδιωτική Εταιρεία (LTD)\n",
      "category=Εργάτες - Τεχνίτες, Τεχνικοί\n"
     ]
    },
    {
     "name": "stderr",
     "output_type": "stream",
     "text": [
      "\r",
      " 34%|███▎      | 336/1000 [1:19:49<2:35:52, 14.08s/it]"
     ]
    },
    {
     "name": "stdout",
     "output_type": "stream",
     "text": [
      "HR Administrator - HDT Sales and Marketing Ltd\n",
      "titleofjob=HR Administrator\n",
      "refernce_number=148429\n",
      "city=Λευκωσία\n",
      "date_posted=02/09/2021\n",
      "expire_date=25/09/2021\n",
      "views=376\n",
      "type_of_employment=Πλήρης\n",
      "employment_sector=Start Up\n",
      "publisher=Ιδιωτική Εταιρεία (LTD)\n",
      "category=Ανθρώπινο Δυναμικό , Διοίκηση επιχειρήσεων, Σύμβουλοι Επιχειρήσεων\n"
     ]
    },
    {
     "name": "stderr",
     "output_type": "stream",
     "text": [
      "\r",
      " 34%|███▎      | 337/1000 [1:20:03<2:33:11, 13.86s/it]"
     ]
    },
    {
     "name": "stdout",
     "output_type": "stream",
     "text": [
      "Back End Developer (Node.Js) - FXPRIMUS\n",
      "titleofjob=Back End Developer (Node.Js)\n",
      "refernce_number=148430\n",
      "city=Λεμεσός\n",
      "date_posted=02/09/2021\n",
      "expire_date=25/09/2021\n",
      "views=71\n",
      "type_of_employment=Πλήρης\n",
      "employment_sector=Forex\n",
      "publisher=Ιδιωτική Εταιρεία (LTD)\n",
      "category=Πληροφορική, Forex\n"
     ]
    },
    {
     "name": "stderr",
     "output_type": "stream",
     "text": [
      "\r",
      " 34%|███▍      | 338/1000 [1:20:16<2:32:52, 13.86s/it]"
     ]
    },
    {
     "name": "stdout",
     "output_type": "stream",
     "text": [
      "Marketing Executive - NINE BRIDGE MEDIA LTD\n",
      "titleofjob=Marketing Executive\n",
      "refernce_number=148428\n",
      "city=Λεμεσός\n",
      "date_posted=02/09/2021\n",
      "expire_date=25/09/2021\n",
      "views=181\n",
      "type_of_employment=Πλήρης\n",
      "employment_sector=Μάρκετινγκ / Διαφήμιση\n",
      "publisher=Ιδιωτική Εταιρεία (LTD)\n",
      "category=Διοίκηση επιχειρήσεων, Μάρκετινγκ / Δημόσιες Σχέσεις\n"
     ]
    },
    {
     "name": "stderr",
     "output_type": "stream",
     "text": [
      "\r",
      " 34%|███▍      | 339/1000 [1:20:30<2:31:06, 13.72s/it]"
     ]
    },
    {
     "name": "stdout",
     "output_type": "stream",
     "text": [
      "Payments Product Manager - FXPRIMUS\n",
      "titleofjob=Payments Product Manager\n",
      "refernce_number=148427\n",
      "city=Λεμεσός\n",
      "date_posted=02/09/2021\n",
      "expire_date=25/09/2021\n",
      "views=119\n",
      "type_of_employment=Πλήρης\n",
      "employment_sector=Forex\n",
      "publisher=Ιδιωτική Εταιρεία (LTD)\n",
      "category=Πληροφορική, Forex, Χρηματοοικονομικά/Χρηματοπιστωτικά\n"
     ]
    },
    {
     "name": "stderr",
     "output_type": "stream",
     "text": [
      "\r",
      " 34%|███▍      | 340/1000 [1:20:43<2:30:16, 13.66s/it]"
     ]
    },
    {
     "name": "stdout",
     "output_type": "stream",
     "text": [
      "Κηπουροί / Κηποτέχνες - LDMC Services\n",
      "titleofjob=Κηπουροί / Κηποτέχνες\n",
      "refernce_number=148426\n",
      "city=Λεμεσός\n",
      "date_posted=02/09/2021\n",
      "expire_date=25/09/2021\n",
      "views=125\n",
      "type_of_employment=Πλήρης\n",
      "employment_sector=Μη διαθέσιμο\n",
      "publisher=Ιδιωτική Εταιρεία (LTD)\n",
      "category=Κηπουροί / Κηποτέχνες\n"
     ]
    },
    {
     "name": "stderr",
     "output_type": "stream",
     "text": [
      "\r",
      " 34%|███▍      | 341/1000 [1:20:58<2:33:55, 14.01s/it]"
     ]
    },
    {
     "name": "stdout",
     "output_type": "stream",
     "text": [
      "Sommelier - PUNIN WINE\n",
      "titleofjob=Sommelier\n",
      "refernce_number=148425\n",
      "city=Λεμεσός\n",
      "date_posted=02/09/2021\n",
      "expire_date=25/09/2021\n",
      "views=132\n",
      "type_of_employment=Πλήρης\n",
      "employment_sector=Υπεραγορές / Πολυκαταστήματα\n",
      "publisher=Ιδιωτική Εταιρεία (LTD)\n",
      "category=Υπάλληλοι HORECA, Υπεύθυνοι Πωλήσεων, Ρωσική γλώσσα\n"
     ]
    },
    {
     "name": "stderr",
     "output_type": "stream",
     "text": [
      "\r",
      " 34%|███▍      | 342/1000 [1:21:12<2:32:41, 13.92s/it]"
     ]
    },
    {
     "name": "stdout",
     "output_type": "stream",
     "text": [
      "Μεταφορέας - Tsircon\n",
      "titleofjob=Μεταφορέας\n",
      "refernce_number=148424\n",
      "city=Λεμεσός\n",
      "date_posted=02/09/2021\n",
      "expire_date=25/09/2021\n",
      "views=940\n",
      "type_of_employment=Πλήρης\n",
      "employment_sector=Μη διαθέσιμο\n",
      "publisher=Ιδιωτική Εταιρεία (LTD)\n",
      "category=Μεταφορές / Logistics, Οδηγοί\n"
     ]
    },
    {
     "name": "stderr",
     "output_type": "stream",
     "text": [
      "\r",
      " 34%|███▍      | 343/1000 [1:21:26<2:31:30, 13.84s/it]"
     ]
    },
    {
     "name": "stdout",
     "output_type": "stream",
     "text": [
      "Αιμολήπτης/τρια (AD10250821GR) - MKR Mansystems Business Consultants Ltd\n",
      "titleofjob=Αιμολήπτης/τρια (AD10250821GR)\n",
      "refernce_number=148423\n",
      "city=Λευκωσία\n",
      "date_posted=02/09/2021\n",
      "expire_date=25/09/2021\n",
      "views=158\n",
      "type_of_employment=Πλήρης\n",
      "employment_sector=Μη διαθέσιμο\n",
      "publisher=Ιδιωτική Εταιρεία (LTD)\n",
      "category=Νοσηλευτές, Τεχνολόγος Ιατρικών Εργαστηρίων\n"
     ]
    },
    {
     "name": "stderr",
     "output_type": "stream",
     "text": [
      "\r",
      " 34%|███▍      | 344/1000 [1:21:39<2:28:36, 13.59s/it]"
     ]
    },
    {
     "name": "stdout",
     "output_type": "stream",
     "text": [
      "Διοικητικός Λειτουργός (AD11250821G) - MKR Mansystems Business Consultants Ltd\n",
      "titleofjob=Διοικητικός Λειτουργός (AD11250821G)\n",
      "refernce_number=148421\n",
      "city=Λευκωσία\n",
      "date_posted=02/09/2021\n",
      "expire_date=25/09/2021\n",
      "views=407\n",
      "type_of_employment=Πλήρης\n",
      "employment_sector=Μη διαθέσιμο\n",
      "publisher=Ιδιωτική Εταιρεία (LTD)\n",
      "category=Γραμματειακά, Διοίκηση επιχειρήσεων\n"
     ]
    },
    {
     "name": "stderr",
     "output_type": "stream",
     "text": [
      "\r",
      " 34%|███▍      | 345/1000 [1:21:53<2:31:13, 13.85s/it]"
     ]
    },
    {
     "name": "stdout",
     "output_type": "stream",
     "text": [
      "Λειτουργός Γραφείου - Veludas international ltd\n",
      "titleofjob=Λειτουργός Γραφείου\n",
      "refernce_number=148406\n",
      "city=Λευκωσία\n",
      "date_posted=02/09/2021\n",
      "expire_date=25/09/2021\n",
      "views=1342\n",
      "type_of_employment=Πλήρης\n",
      "employment_sector=Λιανικό Εμπόριο\n",
      "publisher=Ιδιωτική Εταιρεία (LTD)\n",
      "category=Διοίκηση επιχειρήσεων, Μάρκετινγκ / Δημόσιες Σχέσεις\n"
     ]
    },
    {
     "name": "stderr",
     "output_type": "stream",
     "text": [
      "\r",
      " 35%|███▍      | 346/1000 [1:22:07<2:32:33, 14.00s/it]"
     ]
    },
    {
     "name": "stdout",
     "output_type": "stream",
     "text": [
      "Accounting Officer - Logicom Solutions Ltd - Logicom Public Ltd\n",
      "titleofjob=Accounting Officer - Logicom Solutions Ltd\n",
      "refernce_number=148420\n",
      "city=Λευκωσία\n",
      "date_posted=02/09/2021\n",
      "expire_date=25/09/2021\n",
      "views=265\n",
      "type_of_employment=Πλήρης\n",
      "employment_sector=Πληροφορική\n",
      "publisher=Δημόσια Εταιρεία (PLC)\n",
      "category=Λογιστές, Χρηματοοικονομικά/Χρηματοπιστωτικά\n"
     ]
    },
    {
     "name": "stderr",
     "output_type": "stream",
     "text": [
      "\r",
      " 35%|███▍      | 347/1000 [1:22:22<2:35:03, 14.25s/it]"
     ]
    },
    {
     "name": "stdout",
     "output_type": "stream",
     "text": [
      "Ασκούμενος/η Δικηγόρος - NICOS NEOPHYTOU LAW PARTNERS\n",
      "titleofjob=Ασκούμενος/η Δικηγόρος\n",
      "refernce_number=148419\n",
      "city=Λεμεσός\n",
      "date_posted=02/09/2021\n",
      "expire_date=25/09/2021\n",
      "views=156\n",
      "type_of_employment=Πλήρης\n",
      "employment_sector=Δικηγορικά γραφεία\n",
      "publisher=Φυσικό Πρόσωπο\n",
      "category=Δικηγόροι\n"
     ]
    },
    {
     "name": "stderr",
     "output_type": "stream",
     "text": [
      "\r",
      " 35%|███▍      | 348/1000 [1:22:36<2:35:02, 14.27s/it]"
     ]
    },
    {
     "name": "stdout",
     "output_type": "stream",
     "text": [
      "Software Engineering Associate (C,C++) - Amdocs Ltd\n",
      "titleofjob=Software Engineering Associate (C,C++)\n",
      "refernce_number=148418\n",
      "city=Λεμεσός\n",
      "date_posted=02/09/2021\n",
      "expire_date=25/09/2021\n",
      "views=99\n",
      "type_of_employment=Πλήρης\n",
      "employment_sector=Τηλεπικοινωνία / Internet\n",
      "publisher=Ιδιωτική Εταιρεία (LTD)\n",
      "category=Πληροφορική\n"
     ]
    },
    {
     "name": "stderr",
     "output_type": "stream",
     "text": [
      "\r",
      " 35%|███▍      | 349/1000 [1:22:51<2:34:41, 14.26s/it]"
     ]
    },
    {
     "name": "stdout",
     "output_type": "stream",
     "text": [
      "Τεχνικός Επιδιορθώσεων Ηλεκτρονικών & Εγκαταστάσεων - Technosound Ltd\n",
      "titleofjob=Τεχνικός Επιδιορθώσεων Ηλεκτρονικών & Εγκαταστάσεων\n",
      "refernce_number=148416\n",
      "city=Λευκωσία\n",
      "date_posted=02/09/2021\n",
      "expire_date=25/09/2021\n",
      "views=106\n",
      "type_of_employment=Πλήρης\n",
      "employment_sector=Καταστήματα Ηλεκτρικών και Ηλεκτρονικών Ειδών\n",
      "publisher=Ιδιωτική Εταιρεία (LTD)\n",
      "category=Πληροφορική, Τεχνικοί\n"
     ]
    },
    {
     "name": "stderr",
     "output_type": "stream",
     "text": [
      "\r",
      " 35%|███▌      | 350/1000 [1:23:05<2:34:00, 14.22s/it]"
     ]
    },
    {
     "name": "stdout",
     "output_type": "stream",
     "text": [
      "Πωλητής/Πωλήτρια - S&A STYLIANOU FLORIST SUPPLIERS LTD\n",
      "titleofjob=Πωλητής/Πωλήτρια\n",
      "refernce_number=148411\n",
      "city=Λεμεσός, Λευκωσία, Λάρνακα, Πάφος, Αμμόχωστος\n",
      "date_posted=02/09/2021\n",
      "expire_date=25/09/2021\n",
      "views=784\n",
      "type_of_employment=Πλήρης\n",
      "employment_sector=Χοντρικό Εμπόριο\n",
      "publisher=Ιδιωτική Εταιρεία (LTD)\n",
      "category=Εξωτερικοί Πωλητές / Πλασιέ, Ανθοκόμοι / Ανθοπώλες\n"
     ]
    },
    {
     "name": "stderr",
     "output_type": "stream",
     "text": [
      "\r",
      " 35%|███▌      | 351/1000 [1:23:19<2:33:53, 14.23s/it]"
     ]
    },
    {
     "name": "stdout",
     "output_type": "stream",
     "text": [
      "Office Administrator - Odyssey Cybersecurity\n",
      "titleofjob=Office Administrator\n",
      "refernce_number=148415\n",
      "city=Λευκωσία\n",
      "date_posted=02/09/2021\n",
      "expire_date=25/09/2021\n",
      "views=465\n",
      "type_of_employment=Πλήρης\n",
      "employment_sector=Πληροφορική\n",
      "publisher=Ιδιωτική Εταιρεία (LTD)\n",
      "category=Γραμματειακά, Διοίκηση επιχειρήσεων, Εξυπηρέτηση Πελατών, Πληροφορική\n"
     ]
    },
    {
     "name": "stderr",
     "output_type": "stream",
     "text": [
      "\r",
      " 35%|███▌      | 352/1000 [1:23:33<2:34:17, 14.29s/it]"
     ]
    },
    {
     "name": "stdout",
     "output_type": "stream",
     "text": [
      "Νοσηλευτές / Νοσηλεύτριες - ΠΡΟΤΥΠΟΣ ΜΑΙΕΥΤΙΚΗ ΓΥΝΑΙΚΟΛΟΓΙΚΗ ΚΛΙΝΙΚΗ ΛΗΔΡΑ\n",
      "titleofjob=Νοσηλευτές / Νοσηλεύτριες\n",
      "refernce_number=148417\n",
      "city=Λευκωσία\n",
      "date_posted=02/09/2021\n",
      "expire_date=25/09/2021\n",
      "views=105\n",
      "type_of_employment=Πλήρης\n",
      "employment_sector=Νοσοκομεία / Κλινικές\n",
      "publisher=Ιδιωτική Εταιρεία (LTD)\n",
      "category=Νοσηλευτές\n"
     ]
    },
    {
     "name": "stderr",
     "output_type": "stream",
     "text": [
      "\r",
      " 35%|███▌      | 353/1000 [1:23:47<2:30:28, 13.96s/it]"
     ]
    },
    {
     "name": "stdout",
     "output_type": "stream",
     "text": [
      "Office Administrator - S. Dionysiou & Partners LLC\n",
      "titleofjob=Office Administrator\n",
      "refernce_number=148413\n",
      "city=Λευκωσία\n",
      "date_posted=02/09/2021\n",
      "expire_date=25/09/2021\n",
      "views=246\n",
      "type_of_employment=Πλήρης\n",
      "employment_sector=Δικηγορικά γραφεία\n",
      "publisher=Ιδιωτική Εταιρεία (LTD)\n",
      "category=Γραμματειακά, Ρωσική γλώσσα\n"
     ]
    },
    {
     "name": "stderr",
     "output_type": "stream",
     "text": [
      "\r",
      " 35%|███▌      | 354/1000 [1:24:00<2:28:56, 13.83s/it]"
     ]
    },
    {
     "name": "stdout",
     "output_type": "stream",
     "text": [
      "Lawyer - DEDALOS CORPORATE SERVICES LTD.\n",
      "titleofjob=Lawyer\n",
      "refernce_number=148319\n",
      "city=Λευκωσία\n",
      "date_posted=02/09/2021\n",
      "expire_date=25/09/2021\n",
      "views=202\n",
      "type_of_employment=Πλήρης\n",
      "employment_sector=Δικηγορικά γραφεία\n",
      "publisher=Ιδιωτική Εταιρεία (LTD)\n",
      "category=Δικηγόροι, Σύμβουλοι Επιχειρήσεων\n"
     ]
    },
    {
     "name": "stderr",
     "output_type": "stream",
     "text": [
      "\r",
      " 36%|███▌      | 355/1000 [1:24:15<2:30:07, 13.97s/it]"
     ]
    },
    {
     "name": "stdout",
     "output_type": "stream",
     "text": [
      "Senior Software Engineer (.Net & ASP.Net) - TSYS, A Global Payments company\n",
      "titleofjob=Senior Software Engineer (.Net & ASP.Net)\n",
      "refernce_number=148412\n",
      "city=Λευκωσία\n",
      "date_posted=02/09/2021\n",
      "expire_date=13/09/2021\n",
      "views=67\n",
      "type_of_employment=Πλήρης\n",
      "employment_sector=Πληροφορική\n",
      "publisher=Ιδιωτική Εταιρεία (LTD)\n",
      "category=Πληροφορική\n"
     ]
    },
    {
     "name": "stderr",
     "output_type": "stream",
     "text": [
      "\r",
      " 36%|███▌      | 356/1000 [1:24:28<2:27:25, 13.73s/it]"
     ]
    },
    {
     "name": "stdout",
     "output_type": "stream",
     "text": [
      "Νηπιαγωγός - Λαμπερά Αστεράκια\n",
      "titleofjob=Νηπιαγωγός\n",
      "refernce_number=147978\n",
      "city=Λευκωσία\n",
      "date_posted=02/09/2021\n",
      "expire_date=25/09/2021\n",
      "views=874\n",
      "type_of_employment=Πλήρης\n",
      "employment_sector=Μη διαθέσιμο\n",
      "publisher=Ιδιωτική Εταιρεία (LTD)\n",
      "category=Δάσκαλοι, Νηπιαγωγοί / Βρεφονηπιοκόμοι\n"
     ]
    },
    {
     "name": "stderr",
     "output_type": "stream",
     "text": [
      "\r",
      " 36%|███▌      | 357/1000 [1:24:42<2:28:18, 13.84s/it]"
     ]
    },
    {
     "name": "stdout",
     "output_type": "stream",
     "text": [
      "Customer Experience Agent - Douleutaras\n",
      "titleofjob=Customer Experience Agent\n",
      "refernce_number=148408\n",
      "city=Λευκωσία\n",
      "date_posted=02/09/2021\n",
      "expire_date=25/09/2021\n",
      "views=219\n",
      "type_of_employment=Πλήρης\n",
      "employment_sector=Start Up\n",
      "publisher=Start Up\n",
      "category=Διοίκηση επιχειρήσεων, Εξυπηρέτηση Πελατών\n"
     ]
    },
    {
     "name": "stderr",
     "output_type": "stream",
     "text": [
      "\r",
      " 36%|███▌      | 358/1000 [1:24:56<2:28:01, 13.83s/it]"
     ]
    },
    {
     "name": "stdout",
     "output_type": "stream",
     "text": [
      "Business Development Officer - IBSCY LTD\n",
      "titleofjob=Business Development Officer\n",
      "refernce_number=148410\n",
      "city=Λεμεσός\n",
      "date_posted=02/09/2021\n",
      "expire_date=25/09/2021\n",
      "views=242\n",
      "type_of_employment=Πλήρης\n",
      "employment_sector=Πληροφορική\n",
      "publisher=Ιδιωτική Εταιρεία (LTD)\n",
      "category=Διοίκηση επιχειρήσεων, Μάρκετινγκ / Δημόσιες Σχέσεις, Χρηματοοικονομικά/Χρηματοπιστωτικά\n"
     ]
    },
    {
     "name": "stderr",
     "output_type": "stream",
     "text": [
      "\r",
      " 36%|███▌      | 359/1000 [1:25:10<2:28:18, 13.88s/it]"
     ]
    },
    {
     "name": "stdout",
     "output_type": "stream",
     "text": [
      "Qualified Accountants - Business Process Solutions Department, Nicosia / Limassol - Deloitte\n",
      "titleofjob=Qualified Accountants - Business Process Solutions Department, Nicosia / Limassol\n",
      "refernce_number=148409\n",
      "city=Λεμεσός, Λευκωσία\n",
      "date_posted=02/09/2021\n",
      "expire_date=21/09/2021\n",
      "views=204\n",
      "type_of_employment=Πλήρης\n",
      "employment_sector=Λογιστικά / Ελεγκτικά γραφεία\n",
      "publisher=Ιδιωτική Εταιρεία (LTD)\n",
      "category=Ελεγκτές, Λογιστές, Χρηματοοικονομικά/Χρηματοπιστωτικά\n"
     ]
    },
    {
     "name": "stderr",
     "output_type": "stream",
     "text": [
      "\r",
      " 36%|███▌      | 360/1000 [1:25:24<2:28:55, 13.96s/it]"
     ]
    },
    {
     "name": "stdout",
     "output_type": "stream",
     "text": [
      "Χειριστής/τρια Μηχανημάτων - ΛΕΥΤΕΡΗΣ ΕΛΕΥΘΕΡΙΟΥ ΚΑΙ ΥΙΟΣ ΛΙΜΙΤΕΔ\n",
      "titleofjob=Χειριστής/τρια Μηχανημάτων\n",
      "refernce_number=148226\n",
      "city=Λάρνακα\n",
      "date_posted=02/09/2021\n",
      "expire_date=25/09/2021\n",
      "views=808\n",
      "type_of_employment=Πλήρης\n",
      "employment_sector=Βιομηχανίες\n",
      "publisher=Ιδιωτική Εταιρεία (LTD)\n",
      "category=Δόμηση - Κατασκευές, Εργάτες - Τεχνίτες\n"
     ]
    },
    {
     "name": "stderr",
     "output_type": "stream",
     "text": [
      "\r",
      " 36%|███▌      | 361/1000 [1:25:38<2:28:35, 13.95s/it]"
     ]
    },
    {
     "name": "stdout",
     "output_type": "stream",
     "text": [
      "Lawyer - Armenotech Limited\n",
      "titleofjob=Lawyer\n",
      "refernce_number=148407\n",
      "city=Λεμεσός\n",
      "date_posted=02/09/2021\n",
      "expire_date=25/09/2021\n",
      "views=191\n",
      "type_of_employment=Πλήρης\n",
      "employment_sector=Τράπεζες / Χρηματοπιστωτικά Ιδρύματα\n",
      "publisher=Ιδιωτική Εταιρεία (LTD)\n",
      "category=Δικηγόροι\n"
     ]
    },
    {
     "name": "stderr",
     "output_type": "stream",
     "text": [
      "\r",
      " 36%|███▌      | 362/1000 [1:25:52<2:30:09, 14.12s/it]"
     ]
    },
    {
     "name": "stdout",
     "output_type": "stream",
     "text": [
      "Βοηθός Λογιστηρίου - Cyprus Trading Corporation Plc\n",
      "titleofjob=Βοηθός Λογιστηρίου\n",
      "refernce_number=148404\n",
      "city=Λευκωσία\n",
      "date_posted=02/09/2021\n",
      "expire_date=25/09/2021\n",
      "views=359\n",
      "type_of_employment=Πλήρης\n",
      "employment_sector=Αυτοκινητοβιομηχανίες\n",
      "publisher=Ιδιωτική Εταιρεία (LTD)\n",
      "category=Λογιστές, Χρηματοοικονομικά/Χρηματοπιστωτικά\n"
     ]
    },
    {
     "name": "stderr",
     "output_type": "stream",
     "text": [
      "\r",
      " 36%|███▋      | 363/1000 [1:26:06<2:30:21, 14.16s/it]"
     ]
    },
    {
     "name": "stdout",
     "output_type": "stream",
     "text": [
      "Junior Crewing Officer - Work Channel Recruitment Agency\n",
      "titleofjob=Junior Crewing Officer\n",
      "refernce_number=147493\n",
      "city=Λεμεσός\n",
      "date_posted=02/09/2021\n",
      "expire_date=25/09/2021\n",
      "views=290\n",
      "type_of_employment=Πλήρης\n",
      "employment_sector=Τουρισμός - Ξενοδοχεία\n",
      "publisher=Ιδιωτική Εταιρεία (LTD)\n",
      "category=Ναυτιλιακά, Τουριστικές Σπουδές, Μεταφορές / Logistics\n"
     ]
    },
    {
     "name": "stderr",
     "output_type": "stream",
     "text": [
      "\r",
      " 36%|███▋      | 364/1000 [1:26:20<2:28:51, 14.04s/it]"
     ]
    },
    {
     "name": "stdout",
     "output_type": "stream",
     "text": [
      "Mηχανικός Πωλήσεων - Arenco Ltd\n",
      "titleofjob=Mηχανικός Πωλήσεων\n",
      "refernce_number=148405\n",
      "city=Λεμεσός\n",
      "date_posted=02/09/2021\n",
      "expire_date=25/09/2021\n",
      "views=233\n",
      "type_of_employment=Πλήρης\n",
      "employment_sector=Μηχανολογικές Εργασίες\n",
      "publisher=Ιδιωτική Εταιρεία (LTD)\n",
      "category=Υδραυλικοί, Υπεύθυνοι Πωλήσεων, Μηχανολόγοι Μηχανικοί\n"
     ]
    },
    {
     "name": "stderr",
     "output_type": "stream",
     "text": [
      "\r",
      " 36%|███▋      | 365/1000 [1:26:34<2:29:07, 14.09s/it]"
     ]
    },
    {
     "name": "stdout",
     "output_type": "stream",
     "text": [
      "Sales Assistant - A.G. Demetriou & Sons Ltd\n",
      "titleofjob=Sales Assistant\n",
      "refernce_number=148403\n",
      "city=Λεμεσός, Λευκωσία, Λάρνακα\n",
      "date_posted=02/09/2021\n",
      "expire_date=25/09/2021\n",
      "views=344\n",
      "type_of_employment=Πλήρη ή Μερική\n",
      "employment_sector=Λιανικό Εμπόριο\n",
      "publisher=Ιδιωτική Εταιρεία (LTD)\n",
      "category=Εξυπηρέτηση Πελατών, Πωλητές - Καταστήματα, Υπεύθυνοι Πωλήσεων\n"
     ]
    },
    {
     "name": "stderr",
     "output_type": "stream",
     "text": [
      "\r",
      " 37%|███▋      | 366/1000 [1:26:49<2:31:03, 14.30s/it]"
     ]
    },
    {
     "name": "stdout",
     "output_type": "stream",
     "text": [
      "IT Technical Consultant - RISKMATRIX LTD\n",
      "titleofjob=IT Technical Consultant\n",
      "refernce_number=148402\n",
      "city=Λάρνακα\n",
      "date_posted=02/09/2021\n",
      "expire_date=25/09/2021\n",
      "views=135\n",
      "type_of_employment=Πλήρης\n",
      "employment_sector=Πληροφορική\n",
      "publisher=Ιδιωτική Εταιρεία (LTD)\n",
      "category=Πληροφορική\n"
     ]
    },
    {
     "name": "stderr",
     "output_type": "stream",
     "text": [
      "\r",
      " 37%|███▋      | 367/1000 [1:27:06<2:37:51, 14.96s/it]"
     ]
    },
    {
     "name": "stdout",
     "output_type": "stream",
     "text": [
      "Office Assistant - A. Finiris Co Ltd\n",
      "titleofjob=Office Assistant\n",
      "refernce_number=148387\n",
      "city=Λευκωσία\n",
      "date_posted=02/09/2021\n",
      "expire_date=25/09/2021\n",
      "views=374\n",
      "type_of_employment=Πλήρης\n",
      "employment_sector=Τυπογραφεία\n",
      "publisher=Ιδιωτική Εταιρεία (LTD)\n",
      "category=Γραμματειακά, Εξυπηρέτηση Πελατών\n"
     ]
    },
    {
     "name": "stderr",
     "output_type": "stream",
     "text": [
      "\r",
      " 37%|███▋      | 368/1000 [1:27:20<2:34:37, 14.68s/it]"
     ]
    },
    {
     "name": "stdout",
     "output_type": "stream",
     "text": [
      "Βοηθός Εργοταξιάρχη (Πολιτικός Μηχανικός) - MULTIPRO LTD\n",
      "titleofjob=Βοηθός Εργοταξιάρχη (Πολιτικός Μηχανικός)\n",
      "refernce_number=148399\n",
      "city=Λεμεσός, Λευκωσία, Λάρνακα, Πάφος\n",
      "date_posted=02/09/2021\n",
      "expire_date=25/09/2021\n",
      "views=718\n",
      "type_of_employment=Πλήρης\n",
      "employment_sector=Εργοληπτικές εταιρείες\n",
      "publisher=Ιδιωτική Εταιρεία (LTD)\n",
      "category=Πολιτικοί Μηχανικοί\n"
     ]
    },
    {
     "name": "stderr",
     "output_type": "stream",
     "text": [
      "\r",
      " 37%|███▋      | 369/1000 [1:27:35<2:35:58, 14.83s/it]"
     ]
    },
    {
     "name": "stdout",
     "output_type": "stream",
     "text": [
      "Εργοδηγός - MULTIPRO LTD\n",
      "titleofjob=Εργοδηγός\n",
      "refernce_number=148396\n",
      "city=Λεμεσός, Λευκωσία, Πάφος\n",
      "date_posted=02/09/2021\n",
      "expire_date=25/09/2021\n",
      "views=658\n",
      "type_of_employment=Πλήρης\n",
      "employment_sector=Εργοληπτικές εταιρείες\n",
      "publisher=Ιδιωτική Εταιρεία (LTD)\n",
      "category=Πολιτικοί Μηχανικοί, Δόμηση - Κατασκευές\n"
     ]
    },
    {
     "name": "stderr",
     "output_type": "stream",
     "text": [
      "\r",
      " 37%|███▋      | 370/1000 [1:27:49<2:33:02, 14.58s/it]"
     ]
    },
    {
     "name": "stdout",
     "output_type": "stream",
     "text": [
      "Group Head of AML and Compliance (Russian-Speaking) (5273) - CareerFinders Recruitment Services Ltd\n",
      "titleofjob=Group Head of AML and Compliance (Russian-Speaking) (5273)\n",
      "refernce_number=148393\n",
      "city=Λεμεσός\n",
      "date_posted=02/09/2021\n",
      "expire_date=25/09/2021\n",
      "views=169\n",
      "type_of_employment=Πλήρης\n",
      "employment_sector=Τράπεζες / Χρηματοπιστωτικά Ιδρύματα\n",
      "publisher=Ιδιωτική Εταιρεία (LTD)\n",
      "category=Διοίκηση επιχειρήσεων, Δικηγόροι, Ξένες Γλώσσες / Μεταφραστές, Χρηματοοικονομικά/Χρηματοπιστωτικά, Ρωσική γλώσσα\n"
     ]
    },
    {
     "name": "stderr",
     "output_type": "stream",
     "text": [
      "\r",
      " 37%|███▋      | 371/1000 [1:28:03<2:32:27, 14.54s/it]"
     ]
    },
    {
     "name": "stdout",
     "output_type": "stream",
     "text": [
      "Junior Web Developer - Digital Tree\n",
      "titleofjob=Junior Web Developer\n",
      "refernce_number=148401\n",
      "city=Λευκωσία\n",
      "date_posted=02/09/2021\n",
      "expire_date=05/09/2021\n",
      "views=326\n",
      "type_of_employment=Πλήρης\n",
      "employment_sector=Μη διαθέσιμο\n",
      "publisher=Ιδιωτική Εταιρεία (LTD)\n",
      "category=Πληροφορική\n"
     ]
    },
    {
     "name": "stderr",
     "output_type": "stream",
     "text": [
      "\r",
      " 37%|███▋      | 372/1000 [1:28:18<2:33:40, 14.68s/it]"
     ]
    },
    {
     "name": "stdout",
     "output_type": "stream",
     "text": [
      "Βοηθός Aποθηκάριος - Yiannakis Kokkinos LTD\n",
      "titleofjob=Βοηθός Aποθηκάριος\n",
      "refernce_number=148379\n",
      "city=Λεμεσός, Λάρνακα, Πάφος\n",
      "date_posted=02/09/2021\n",
      "expire_date=25/09/2021\n",
      "views=821\n",
      "type_of_employment=Πλήρης\n",
      "employment_sector=Χοντρικό Εμπόριο\n",
      "publisher=Ιδιωτική Εταιρεία (LTD)\n",
      "category=Αποθηκάριοι, Εργάτες - Τεχνίτες\n"
     ]
    },
    {
     "name": "stderr",
     "output_type": "stream",
     "text": [
      "\r",
      " 37%|███▋      | 373/1000 [1:28:33<2:32:51, 14.63s/it]"
     ]
    },
    {
     "name": "stdout",
     "output_type": "stream",
     "text": [
      "Systems/Support Engineer - Hydro-Comp Enterprises Ltd\n",
      "titleofjob=Systems/Support Engineer\n",
      "refernce_number=148380\n",
      "city=Λευκωσία\n",
      "date_posted=02/09/2021\n",
      "expire_date=25/09/2021\n",
      "views=237\n",
      "type_of_employment=Πλήρης\n",
      "employment_sector=Πληροφορική\n",
      "publisher=Ιδιωτική Εταιρεία (LTD)\n",
      "category=Πληροφορική, Ηλεκτρολόγοι Μηχανικοί\n"
     ]
    },
    {
     "name": "stderr",
     "output_type": "stream",
     "text": [
      "\r",
      " 37%|███▋      | 374/1000 [1:28:47<2:31:32, 14.52s/it]"
     ]
    },
    {
     "name": "stdout",
     "output_type": "stream",
     "text": [
      "Web Developer - Digital Tree\n",
      "titleofjob=Web Developer\n",
      "refernce_number=148400\n",
      "city=Λευκωσία\n",
      "date_posted=02/09/2021\n",
      "expire_date=05/09/2021\n",
      "views=240\n",
      "type_of_employment=Πλήρης\n",
      "employment_sector=Μη διαθέσιμο\n",
      "publisher=Ιδιωτική Εταιρεία (LTD)\n",
      "category=Πληροφορική\n"
     ]
    },
    {
     "name": "stderr",
     "output_type": "stream",
     "text": [
      "\r",
      " 38%|███▊      | 375/1000 [1:29:01<2:30:01, 14.40s/it]"
     ]
    },
    {
     "name": "stdout",
     "output_type": "stream",
     "text": [
      "Reconciliation Accountant - FXCM\n",
      "titleofjob=Reconciliation Accountant\n",
      "refernce_number=148382\n",
      "city=Λευκωσία\n",
      "date_posted=02/09/2021\n",
      "expire_date=25/09/2021\n",
      "views=254\n",
      "type_of_employment=Πλήρης\n",
      "employment_sector=Forex\n",
      "publisher=Ιδιωτική Εταιρεία (LTD)\n",
      "category=Λογιστές, Forex, Χρηματοοικονομικά/Χρηματοπιστωτικά\n"
     ]
    },
    {
     "name": "stderr",
     "output_type": "stream",
     "text": [
      "\r",
      " 38%|███▊      | 376/1000 [1:29:15<2:27:42, 14.20s/it]"
     ]
    },
    {
     "name": "stdout",
     "output_type": "stream",
     "text": [
      "WordPress Web Developer - Digital Tree\n",
      "titleofjob=WordPress Web Developer\n",
      "refernce_number=148395\n",
      "city=Λευκωσία\n",
      "date_posted=02/09/2021\n",
      "expire_date=05/09/2021\n",
      "views=338\n",
      "type_of_employment=Πλήρης\n",
      "employment_sector=Μη διαθέσιμο\n",
      "publisher=Ιδιωτική Εταιρεία (LTD)\n",
      "category=Πληροφορική\n"
     ]
    },
    {
     "name": "stderr",
     "output_type": "stream",
     "text": [
      "\r",
      " 38%|███▊      | 377/1000 [1:29:30<2:28:56, 14.34s/it]"
     ]
    },
    {
     "name": "stdout",
     "output_type": "stream",
     "text": [
      "Front End Web Developer - FXCM\n",
      "titleofjob=Front End Web Developer\n",
      "refernce_number=148392\n",
      "city=Λευκωσία\n",
      "date_posted=02/09/2021\n",
      "expire_date=25/09/2021\n",
      "views=84\n",
      "type_of_employment=Πλήρης\n",
      "employment_sector=Forex\n",
      "publisher=Ιδιωτική Εταιρεία (LTD)\n",
      "category=Μάρκετινγκ / Δημόσιες Σχέσεις, Πληροφορική, Forex\n"
     ]
    },
    {
     "name": "stderr",
     "output_type": "stream",
     "text": [
      "\r",
      " 38%|███▊      | 378/1000 [1:29:43<2:24:41, 13.96s/it]"
     ]
    },
    {
     "name": "stdout",
     "output_type": "stream",
     "text": [
      "Εργάτης/τρια (Τμήμα Παραγωγής) - Lounic Ltd\n",
      "titleofjob=Εργάτης/τρια (Τμήμα Παραγωγής)\n",
      "refernce_number=148385\n",
      "city=Λεμεσός\n",
      "date_posted=02/09/2021\n",
      "expire_date=25/09/2021\n",
      "views=509\n",
      "type_of_employment=Πλήρης\n",
      "employment_sector=Λιανικό Εμπόριο\n",
      "publisher=Ιδιωτική Εταιρεία (LTD)\n",
      "category=Εργάτες - Τεχνίτες, Εργάτες Παραγωγής / Συσκευασίας\n"
     ]
    },
    {
     "name": "stderr",
     "output_type": "stream",
     "text": [
      "\r",
      " 38%|███▊      | 379/1000 [1:29:58<2:27:25, 14.24s/it]"
     ]
    },
    {
     "name": "stdout",
     "output_type": "stream",
     "text": [
      "Νοσηλευτές / Νοσηλεύτριες - ΠΑΣΥΚΑΦ\n",
      "titleofjob=Νοσηλευτές / Νοσηλεύτριες\n",
      "refernce_number=148391\n",
      "city=Λευκωσία, Πάφος\n",
      "date_posted=02/09/2021\n",
      "expire_date=10/09/2021\n",
      "views=248\n",
      "type_of_employment=Πλήρης\n",
      "employment_sector=Μη διαθέσιμο\n",
      "publisher=Μη κερδοσκοπικός οργανισμός\n",
      "category=Νοσηλευτές\n"
     ]
    },
    {
     "name": "stderr",
     "output_type": "stream",
     "text": [
      "\r",
      " 38%|███▊      | 380/1000 [1:30:12<2:27:29, 14.27s/it]"
     ]
    },
    {
     "name": "stdout",
     "output_type": "stream",
     "text": [
      "Digital Marketing Executive - Digital Tree\n",
      "titleofjob=Digital Marketing Executive\n",
      "refernce_number=148397\n",
      "city=Λευκωσία\n",
      "date_posted=02/09/2021\n",
      "expire_date=05/09/2021\n",
      "views=449\n",
      "type_of_employment=Πλήρης\n",
      "employment_sector=Μη διαθέσιμο\n",
      "publisher=Ιδιωτική Εταιρεία (LTD)\n",
      "category=Μάρκετινγκ / Δημόσιες Σχέσεις, ΜΜΕ-Δημοσιογραφία\n"
     ]
    },
    {
     "name": "stderr",
     "output_type": "stream",
     "text": [
      "\r",
      " 38%|███▊      | 381/1000 [1:30:27<2:28:24, 14.38s/it]"
     ]
    },
    {
     "name": "stdout",
     "output_type": "stream",
     "text": [
      "Διακοσμητές/τριες / Σύμβουλοι Πωλήσεων (Διπλός Ρόλος) - Casa di Gusto\n",
      "titleofjob=Διακοσμητές/τριες / Σύμβουλοι Πωλήσεων (Διπλός Ρόλος)\n",
      "refernce_number=148172\n",
      "city=Λευκωσία\n",
      "date_posted=02/09/2021\n",
      "expire_date=25/09/2021\n",
      "views=246\n",
      "type_of_employment=Πλήρης\n",
      "employment_sector=Λιανικό Εμπόριο\n",
      "publisher=Ιδιωτική Εταιρεία (LTD)\n",
      "category=Εξυπηρέτηση Πελατών, Πωλητές - Καταστήματα, Διακοσμητές Χώρων, Ρωσική γλώσσα\n"
     ]
    },
    {
     "name": "stderr",
     "output_type": "stream",
     "text": [
      "\r",
      " 38%|███▊      | 382/1000 [1:30:41<2:28:24, 14.41s/it]"
     ]
    },
    {
     "name": "stdout",
     "output_type": "stream",
     "text": [
      "IT Support Officer - IronFX\n",
      "titleofjob=IT Support Officer\n",
      "refernce_number=148390\n",
      "city=Λεμεσός\n",
      "date_posted=02/09/2021\n",
      "expire_date=25/09/2021\n",
      "views=142\n",
      "type_of_employment=Πλήρης\n",
      "employment_sector=Forex\n",
      "publisher=Ιδιωτική Εταιρεία (LTD)\n",
      "category=Πληροφορική, Forex\n"
     ]
    },
    {
     "name": "stderr",
     "output_type": "stream",
     "text": [
      "\r",
      " 38%|███▊      | 383/1000 [1:30:56<2:28:28, 14.44s/it]"
     ]
    },
    {
     "name": "stdout",
     "output_type": "stream",
     "text": [
      "Οικοδόμος - UZZIEL CONSTRUCTION LIMITED\n",
      "titleofjob=Οικοδόμος\n",
      "refernce_number=148389\n",
      "city=Λευκωσία\n",
      "date_posted=02/09/2021\n",
      "expire_date=25/09/2021\n",
      "views=150\n",
      "type_of_employment=Πλήρης\n",
      "employment_sector=Δόμηση / Κατασκεύες\n",
      "publisher=Ιδιωτική Εταιρεία (LTD)\n",
      "category=Δόμηση - Κατασκευές, Εργάτες - Τεχνίτες\n"
     ]
    },
    {
     "name": "stderr",
     "output_type": "stream",
     "text": [
      "\r",
      " 38%|███▊      | 384/1000 [1:31:10<2:28:09, 14.43s/it]"
     ]
    },
    {
     "name": "stdout",
     "output_type": "stream",
     "text": [
      "Client Money Accountant - FXCM\n",
      "titleofjob=Client Money Accountant\n",
      "refernce_number=148384\n",
      "city=Λευκωσία\n",
      "date_posted=02/09/2021\n",
      "expire_date=25/09/2021\n",
      "views=184\n",
      "type_of_employment=Πλήρης\n",
      "employment_sector=Forex\n",
      "publisher=Ιδιωτική Εταιρεία (LTD)\n",
      "category=Λογιστές, Forex, Χρηματοοικονομικά/Χρηματοπιστωτικά\n"
     ]
    },
    {
     "name": "stderr",
     "output_type": "stream",
     "text": [
      "\r",
      " 38%|███▊      | 385/1000 [1:31:25<2:29:14, 14.56s/it]"
     ]
    },
    {
     "name": "stdout",
     "output_type": "stream",
     "text": [
      "Διανομείς - Lounic Ltd\n",
      "titleofjob=Διανομείς\n",
      "refernce_number=148383\n",
      "city=Λεμεσός\n",
      "date_posted=02/09/2021\n",
      "expire_date=25/09/2021\n",
      "views=371\n",
      "type_of_employment=Πλήρης\n",
      "employment_sector=Λιανικό Εμπόριο\n",
      "publisher=Ιδιωτική Εταιρεία (LTD)\n",
      "category=Διανομείς, Οδηγοί\n"
     ]
    },
    {
     "name": "stderr",
     "output_type": "stream",
     "text": [
      "\r",
      " 39%|███▊      | 386/1000 [1:31:39<2:28:25, 14.50s/it]"
     ]
    },
    {
     "name": "stdout",
     "output_type": "stream",
     "text": [
      "Μηχανικός Εργοταξίου - UZZIEL CONSTRUCTION LIMITED\n",
      "titleofjob=Μηχανικός Εργοταξίου\n",
      "refernce_number=148386\n",
      "city=Λευκωσία\n",
      "date_posted=02/09/2021\n",
      "expire_date=25/09/2021\n",
      "views=667\n",
      "type_of_employment=Πλήρης\n",
      "employment_sector=Πολιτικοί Μηχανικοί\n",
      "publisher=Ιδιωτική Εταιρεία (LTD)\n",
      "category=Αρχιτέκτονες, Πολιτικοί Μηχανικοί, Δόμηση - Κατασκευές\n"
     ]
    },
    {
     "name": "stderr",
     "output_type": "stream",
     "text": [
      "\r",
      " 39%|███▊      | 387/1000 [1:31:53<2:27:04, 14.40s/it]"
     ]
    },
    {
     "name": "stdout",
     "output_type": "stream",
     "text": [
      "Δασκάλα/ος (Teacher) - Φυσικό Πρόσωπο Ianthi Pilavaki\n",
      "titleofjob=Δασκάλα/ος (Teacher)\n",
      "refernce_number=148381\n",
      "city=Λευκωσία\n",
      "date_posted=02/09/2021\n",
      "expire_date=25/09/2021\n",
      "views=729\n",
      "type_of_employment=Μερική\n",
      "employment_sector=Εκπαιδευτικά Κέντρα / Φροντιστήρια\n",
      "publisher=Φυσικό Πρόσωπο\n",
      "category=Δάσκαλοι, Νηπιαγωγοί / Βρεφονηπιοκόμοι, Γκουβερνάντες\n"
     ]
    },
    {
     "name": "stderr",
     "output_type": "stream",
     "text": [
      "\r",
      " 39%|███▉      | 388/1000 [1:32:08<2:28:49, 14.59s/it]"
     ]
    },
    {
     "name": "stdout",
     "output_type": "stream",
     "text": [
      "Ιατρικός Επισκέπτης/τρια - CPL Co-Pharm Ltd\n",
      "titleofjob=Ιατρικός Επισκέπτης/τρια\n",
      "refernce_number=148378\n",
      "city=Λευκωσία, Λάρνακα\n",
      "date_posted=02/09/2021\n",
      "expire_date=25/09/2021\n",
      "views=252\n",
      "type_of_employment=Πλήρης\n",
      "employment_sector=Χοντρικό Εμπόριο\n",
      "publisher=Ιδιωτική Εταιρεία (LTD)\n",
      "category=Ιατρικοί Επισκέπτες\n"
     ]
    },
    {
     "name": "stderr",
     "output_type": "stream",
     "text": [
      "\r",
      " 39%|███▉      | 389/1000 [1:32:24<2:30:31, 14.78s/it]"
     ]
    },
    {
     "name": "stdout",
     "output_type": "stream",
     "text": [
      "Compliance Officer (4944) - CareerFinders Recruitment Services Ltd\n",
      "titleofjob=Compliance Officer (4944)\n",
      "refernce_number=148376\n",
      "city=Λεμεσός\n",
      "date_posted=02/09/2021\n",
      "expire_date=25/09/2021\n",
      "views=146\n",
      "type_of_employment=Πλήρης\n",
      "employment_sector=Μη διαθέσιμο\n",
      "publisher=Ιδιωτική Εταιρεία (LTD)\n",
      "category=Δικηγόροι\n"
     ]
    },
    {
     "name": "stderr",
     "output_type": "stream",
     "text": [
      "\r",
      " 39%|███▉      | 390/1000 [1:32:38<2:29:25, 14.70s/it]"
     ]
    },
    {
     "name": "stdout",
     "output_type": "stream",
     "text": [
      "Accountant - Bird Aviation Ltd\n",
      "titleofjob=Accountant\n",
      "refernce_number=148375\n",
      "city=Λάρνακα\n",
      "date_posted=02/09/2021\n",
      "expire_date=10/09/2021\n",
      "views=252\n",
      "type_of_employment=Πλήρης\n",
      "employment_sector=Αεροδρόμια\n",
      "publisher=Ιδιωτική Εταιρεία (LTD)\n",
      "category=Λογιστές, Χρηματοοικονομικά/Χρηματοπιστωτικά\n"
     ]
    },
    {
     "name": "stderr",
     "output_type": "stream",
     "text": [
      "\r",
      " 39%|███▉      | 391/1000 [1:32:53<2:29:43, 14.75s/it]"
     ]
    },
    {
     "name": "stdout",
     "output_type": "stream",
     "text": [
      "Control Room Operator / Λειτουργός Κέντρου Ελέγχου - CPT Cyprus Public Transport Services and Operations Ltd\n",
      "titleofjob=Control Room Operator / Λειτουργός Κέντρου Ελέγχου\n",
      "refernce_number=148297\n",
      "city=Λευκωσία\n",
      "date_posted=02/09/2021\n",
      "expire_date=25/09/2021\n",
      "views=316\n",
      "type_of_employment=Πλήρης\n",
      "employment_sector=Μεταφορές\n",
      "publisher=Ιδιωτική Εταιρεία (LTD)\n",
      "category=Εξυπηρέτηση Πελατών, Τηλεφωνητές\n"
     ]
    },
    {
     "name": "stderr",
     "output_type": "stream",
     "text": [
      "\r",
      " 39%|███▉      | 392/1000 [1:33:06<2:24:55, 14.30s/it]"
     ]
    },
    {
     "name": "stdout",
     "output_type": "stream",
     "text": [
      "Relationship Officer (4856) - CareerFinders Recruitment Services Ltd\n",
      "titleofjob=Relationship Officer (4856)\n",
      "refernce_number=148377\n",
      "city=Λεμεσός\n",
      "date_posted=02/09/2021\n",
      "expire_date=25/09/2021\n",
      "views=216\n",
      "type_of_employment=Πλήρης\n",
      "employment_sector=Forex\n",
      "publisher=Ιδιωτική Εταιρεία (LTD)\n",
      "category=Διοίκηση επιχειρήσεων, Οικονομολόγοι, Forex, Υπεύθυνοι Πωλήσεων, Χρηματοοικονομικά/Χρηματοπιστωτικά\n"
     ]
    },
    {
     "name": "stderr",
     "output_type": "stream",
     "text": [
      "\r",
      " 39%|███▉      | 393/1000 [1:33:20<2:24:01, 14.24s/it]"
     ]
    },
    {
     "name": "stdout",
     "output_type": "stream",
     "text": [
      "Οδηγός / Διανομέας (Διπλός Ρόλος) - ΠΕΛΕΤΙΚΟ ΛΤΔ\n",
      "titleofjob=Οδηγός / Διανομέας (Διπλός Ρόλος)\n",
      "refernce_number=148372\n",
      "city=Λεμεσός, Λευκωσία, Λάρνακα, Πάφος, Αμμόχωστος\n",
      "date_posted=02/09/2021\n",
      "expire_date=10/09/2021\n",
      "views=608\n",
      "type_of_employment=Πλήρης\n",
      "employment_sector=Μη διαθέσιμο\n",
      "publisher=Ιδιωτική Εταιρεία (LTD)\n",
      "category=Διανομείς, Μεταφορές / Logistics, Οδηγοί\n"
     ]
    },
    {
     "name": "stderr",
     "output_type": "stream",
     "text": [
      "\r",
      " 39%|███▉      | 394/1000 [1:33:34<2:22:32, 14.11s/it]"
     ]
    },
    {
     "name": "stdout",
     "output_type": "stream",
     "text": [
      "HR Administrator - DIMCO LTD\n",
      "titleofjob=HR Administrator\n",
      "refernce_number=148371\n",
      "city=Λευκωσία\n",
      "date_posted=02/09/2021\n",
      "expire_date=25/09/2021\n",
      "views=382\n",
      "type_of_employment=Πλήρης\n",
      "employment_sector=Λιανικό Εμπόριο\n",
      "publisher=Ιδιωτική Εταιρεία (LTD)\n",
      "category=Ανθρώπινο Δυναμικό , Διοίκηση επιχειρήσεων\n"
     ]
    },
    {
     "name": "stderr",
     "output_type": "stream",
     "text": [
      "\r",
      " 40%|███▉      | 395/1000 [1:33:50<2:27:20, 14.61s/it]"
     ]
    },
    {
     "name": "stdout",
     "output_type": "stream",
     "text": [
      "Βοηθός Αποθήκης / Picker (Διπλός ρόλος) - ΠΕΛΕΤΙΚΟ ΛΤΔ\n",
      "titleofjob=Βοηθός Αποθήκης / Picker (Διπλός ρόλος)\n",
      "refernce_number=148369\n",
      "city=Λευκωσία\n",
      "date_posted=02/09/2021\n",
      "expire_date=10/09/2021\n",
      "views=310\n",
      "type_of_employment=Πλήρης\n",
      "employment_sector=Μη διαθέσιμο\n",
      "publisher=Ιδιωτική Εταιρεία (LTD)\n",
      "category=Αποθηκάριοι, Εργάτες - Τεχνίτες\n"
     ]
    },
    {
     "name": "stderr",
     "output_type": "stream",
     "text": [
      "\r",
      " 40%|███▉      | 396/1000 [1:34:05<2:26:51, 14.59s/it]"
     ]
    },
    {
     "name": "stdout",
     "output_type": "stream",
     "text": [
      "Λειτουργός Πωλήσεων & Εξυπηρέτησης Πελατών - BRAINKID TOYS LTD\n",
      "titleofjob=Λειτουργός Πωλήσεων & Εξυπηρέτησης Πελατών\n",
      "refernce_number=148317\n",
      "city=Λεμεσός\n",
      "date_posted=02/09/2021\n",
      "expire_date=25/09/2021\n",
      "views=641\n",
      "type_of_employment=Πλήρης\n",
      "employment_sector=Λιανικό Εμπόριο\n",
      "publisher=Ιδιωτική Εταιρεία (LTD)\n",
      "category=Εξυπηρέτηση Πελατών, Πωλητές - Καταστήματα\n"
     ]
    },
    {
     "name": "stderr",
     "output_type": "stream",
     "text": [
      "\r",
      " 40%|███▉      | 397/1000 [1:34:19<2:25:24, 14.47s/it]"
     ]
    },
    {
     "name": "stdout",
     "output_type": "stream",
     "text": [
      "Junior Dealer - Windsor Brokers Ltd\n",
      "titleofjob=Junior Dealer\n",
      "refernce_number=148305\n",
      "city=Λεμεσός\n",
      "date_posted=03/09/2021\n",
      "expire_date=24/09/2021\n",
      "views=159\n",
      "type_of_employment=Πλήρης\n",
      "employment_sector=Forex\n",
      "publisher=Ιδιωτική Εταιρεία (LTD)\n",
      "category=Μαθηματικοί / Στατιστικολόγοι, Forex, Χρηματοοικονομικά/Χρηματοπιστωτικά\n"
     ]
    },
    {
     "name": "stderr",
     "output_type": "stream",
     "text": [
      "\r",
      " 40%|███▉      | 398/1000 [1:34:33<2:23:31, 14.30s/it]"
     ]
    },
    {
     "name": "stdout",
     "output_type": "stream",
     "text": [
      "Compliance Officer (ASIC) - Quadcode\n",
      "titleofjob=Compliance Officer (ASIC)\n",
      "refernce_number=148303\n",
      "city=Λεμεσός\n",
      "date_posted=02/09/2021\n",
      "expire_date=25/09/2021\n",
      "views=386\n",
      "type_of_employment=Πλήρης\n",
      "employment_sector=Forex\n",
      "publisher=Ιδιωτική Εταιρεία (LTD)\n",
      "category=Δικηγόροι, Forex, Χρηματοοικονομικά/Χρηματοπιστωτικά\n"
     ]
    },
    {
     "name": "stderr",
     "output_type": "stream",
     "text": [
      "\r",
      " 40%|███▉      | 399/1000 [1:34:47<2:22:24, 14.22s/it]"
     ]
    },
    {
     "name": "stdout",
     "output_type": "stream",
     "text": [
      "Massage Therapist - Babor Beauty Spa by Marina Malactou Colocassidou\n",
      "titleofjob=Massage Therapist\n",
      "refernce_number=148315\n",
      "city=Λεμεσός\n",
      "date_posted=02/09/2021\n",
      "expire_date=25/09/2021\n",
      "views=119\n",
      "type_of_employment=Πλήρη ή Μερική\n",
      "employment_sector=Περιποίηση-Ομορφιά-Φυσική κατάσταση\n",
      "publisher=Φυσικό Πρόσωπο\n",
      "category=Αισθητικοί / Επαγγελματικό Μακιγιάζ, Φυσιοθεραπευτές, Ρωσική γλώσσα\n"
     ]
    },
    {
     "name": "stderr",
     "output_type": "stream",
     "text": [
      "\r",
      " 40%|████      | 400/1000 [1:35:01<2:21:41, 14.17s/it]"
     ]
    },
    {
     "name": "stdout",
     "output_type": "stream",
     "text": [
      "Junior Accountant - Optimus Actus Services Limited\n",
      "titleofjob=Junior Accountant\n",
      "refernce_number=148374\n",
      "city=Λευκωσία\n",
      "date_posted=02/09/2021\n",
      "expire_date=25/09/2021\n",
      "views=197\n",
      "type_of_employment=Πλήρης\n",
      "employment_sector=Λογιστικά / Ελεγκτικά γραφεία\n",
      "publisher=Ιδιωτική Εταιρεία (LTD)\n",
      "category=Λογιστές, Οικονομολόγοι, Χρηματοοικονομικά/Χρηματοπιστωτικά\n"
     ]
    },
    {
     "name": "stderr",
     "output_type": "stream",
     "text": [
      "\r",
      " 40%|████      | 401/1000 [1:35:14<2:20:04, 14.03s/it]"
     ]
    },
    {
     "name": "stdout",
     "output_type": "stream",
     "text": [
      "Beauty Therapists - Babor Beauty Spa by Marina Malactou Colocassidou\n",
      "titleofjob=Beauty Therapists\n",
      "refernce_number=148314\n",
      "city=Λεμεσός\n",
      "date_posted=02/09/2021\n",
      "expire_date=25/09/2021\n",
      "views=329\n",
      "type_of_employment=Πλήρης\n",
      "employment_sector=Περιποίηση-Ομορφιά-Φυσική κατάσταση\n",
      "publisher=Φυσικό Πρόσωπο\n",
      "category=Αισθητικοί / Επαγγελματικό Μακιγιάζ, Φυσιοθεραπευτές, Ρωσική γλώσσα\n"
     ]
    },
    {
     "name": "stderr",
     "output_type": "stream",
     "text": [
      "\r",
      " 40%|████      | 402/1000 [1:35:28<2:19:21, 13.98s/it]"
     ]
    },
    {
     "name": "stdout",
     "output_type": "stream",
     "text": [
      "Semi-Senior Accountant - Optimus Actus Services Limited\n",
      "titleofjob=Semi-Senior Accountant\n",
      "refernce_number=148373\n",
      "city=Λευκωσία\n",
      "date_posted=02/09/2021\n",
      "expire_date=25/09/2021\n",
      "views=248\n",
      "type_of_employment=Πλήρης\n",
      "employment_sector=Λογιστικά / Ελεγκτικά γραφεία\n",
      "publisher=Ιδιωτική Εταιρεία (LTD)\n",
      "category=Λογιστές, Οικονομολόγοι, Χρηματοοικονομικά/Χρηματοπιστωτικά\n"
     ]
    },
    {
     "name": "stderr",
     "output_type": "stream",
     "text": [
      "\r",
      " 40%|████      | 403/1000 [1:35:43<2:20:35, 14.13s/it]"
     ]
    },
    {
     "name": "stdout",
     "output_type": "stream",
     "text": [
      "Μηχανικός Οχημάτων / Vehicle Mechanic - CPT Cyprus Public Transport Services and Operations Ltd\n",
      "titleofjob=Μηχανικός Οχημάτων / Vehicle Mechanic\n",
      "refernce_number=148301\n",
      "city=Λευκωσία, Λάρνακα\n",
      "date_posted=02/09/2021\n",
      "expire_date=25/09/2021\n",
      "views=144\n",
      "type_of_employment=Πλήρης\n",
      "employment_sector=Μεταφορές\n",
      "publisher=Ιδιωτική Εταιρεία (LTD)\n",
      "category=Μηχανικοί Αυτοκινήτων\n"
     ]
    },
    {
     "name": "stderr",
     "output_type": "stream",
     "text": [
      "\r",
      " 40%|████      | 404/1000 [1:35:56<2:18:32, 13.95s/it]"
     ]
    },
    {
     "name": "stdout",
     "output_type": "stream",
     "text": [
      "Kαθαρίστρια/Kαθαριστής - Makou\n",
      "titleofjob=Kαθαρίστρια/Kαθαριστής\n",
      "refernce_number=148370\n",
      "city=Λάρνακα\n",
      "date_posted=02/09/2021\n",
      "expire_date=25/09/2021\n",
      "views=171\n",
      "type_of_employment=Πλήρη ή Μερική\n",
      "employment_sector=Εστιατόρια / Καφετέριες\n",
      "publisher=Ιδιωτική Εταιρεία (LTD)\n",
      "category=Καθαριστές / Καθαρίστριες\n"
     ]
    },
    {
     "name": "stderr",
     "output_type": "stream",
     "text": [
      "\r",
      " 40%|████      | 405/1000 [1:36:10<2:16:43, 13.79s/it]"
     ]
    },
    {
     "name": "stdout",
     "output_type": "stream",
     "text": [
      "Junior Account Manager - TheSoul Publishing\n",
      "titleofjob=Junior Account Manager\n",
      "refernce_number=148312\n",
      "city=Λεμεσός\n",
      "date_posted=02/09/2021\n",
      "expire_date=25/09/2021\n",
      "views=163\n",
      "type_of_employment=Πλήρης\n",
      "employment_sector=Μέσα Μαζικής Ενημέρωσης\n",
      "publisher=Ιδιωτική Εταιρεία (LTD)\n",
      "category=Διοίκηση επιχειρήσεων, Μάρκετινγκ / Δημόσιες Σχέσεις, ΜΜΕ-Δημοσιογραφία, Υπεύθυνοι Πωλήσεων\n"
     ]
    },
    {
     "name": "stderr",
     "output_type": "stream",
     "text": [
      "\r",
      " 41%|████      | 406/1000 [1:36:24<2:16:36, 13.80s/it]"
     ]
    },
    {
     "name": "stdout",
     "output_type": "stream",
     "text": [
      "Υπάλληλος Πρατηρίου/ Petrol Station Attendant - Lefkaritis Group of Companies\n",
      "titleofjob=Υπάλληλος Πρατηρίου/ Petrol Station Attendant\n",
      "refernce_number=148365\n",
      "city=Λάρνακα\n",
      "date_posted=02/09/2021\n",
      "expire_date=25/09/2021\n",
      "views=243\n",
      "type_of_employment=Πλήρης\n",
      "employment_sector=Λιανικό Εμπόριο\n",
      "publisher=Δημόσια Εταιρεία (PLC)\n",
      "category=Εξυπηρέτηση Πελατών\n"
     ]
    },
    {
     "name": "stderr",
     "output_type": "stream",
     "text": [
      "\r",
      " 41%|████      | 407/1000 [1:36:38<2:19:35, 14.12s/it]"
     ]
    },
    {
     "name": "stdout",
     "output_type": "stream",
     "text": [
      "Content Writer - Windsor Solutions Ltd\n",
      "titleofjob=Content Writer\n",
      "refernce_number=148300\n",
      "city=Λεμεσός\n",
      "date_posted=02/09/2021\n",
      "expire_date=25/09/2021\n",
      "views=195\n",
      "type_of_employment=Πλήρης\n",
      "employment_sector=Forex\n",
      "publisher=Ιδιωτική Εταιρεία (LTD)\n",
      "category=Μάρκετινγκ / Δημόσιες Σχέσεις, ΜΜΕ-Δημοσιογραφία, Forex\n"
     ]
    },
    {
     "name": "stderr",
     "output_type": "stream",
     "text": [
      "\r",
      " 41%|████      | 408/1000 [1:36:52<2:17:09, 13.90s/it]"
     ]
    },
    {
     "name": "stdout",
     "output_type": "stream",
     "text": [
      "Legal Secretary - Athos Demetriou Associates LLC\n",
      "titleofjob=Legal Secretary\n",
      "refernce_number=148311\n",
      "city=Λευκωσία\n",
      "date_posted=02/09/2021\n",
      "expire_date=25/09/2021\n",
      "views=333\n",
      "type_of_employment=Μερική\n",
      "employment_sector=Δικηγορικά γραφεία\n",
      "publisher=Ιδιωτική Εταιρεία (LTD)\n",
      "category=Γραμματειακά\n"
     ]
    },
    {
     "name": "stderr",
     "output_type": "stream",
     "text": [
      "\r",
      " 41%|████      | 409/1000 [1:37:06<2:17:41, 13.98s/it]"
     ]
    },
    {
     "name": "stdout",
     "output_type": "stream",
     "text": [
      "Έμπειρος/η Ηλεκτρολόγος Λεωφορείων / Experienced Bus Electrician - CPT Cyprus Public Transport Services and Operations Ltd\n",
      "titleofjob=Έμπειρος/η Ηλεκτρολόγος Λεωφορείων / Experienced Bus Electrician\n",
      "refernce_number=148298\n",
      "city=Λευκωσία, Λάρνακα\n",
      "date_posted=02/09/2021\n",
      "expire_date=25/09/2021\n",
      "views=69\n",
      "type_of_employment=Πλήρης\n",
      "employment_sector=Μεταφορές\n",
      "publisher=Ιδιωτική Εταιρεία (LTD)\n",
      "category=Μηχανικοί Αυτοκινήτων, Ηλεκτρολόγοι Αυτοκινήτων\n"
     ]
    },
    {
     "name": "stderr",
     "output_type": "stream",
     "text": [
      "\r",
      " 41%|████      | 410/1000 [1:37:20<2:16:16, 13.86s/it]"
     ]
    },
    {
     "name": "stdout",
     "output_type": "stream",
     "text": [
      "English Language Teacher - Lumiere Institute\n",
      "titleofjob=English Language Teacher\n",
      "refernce_number=148308\n",
      "city=Λευκωσία\n",
      "date_posted=02/09/2021\n",
      "expire_date=25/09/2021\n",
      "views=247\n",
      "type_of_employment=Μερική\n",
      "employment_sector=Εκπαιδευτικά Κέντρα / Φροντιστήρια\n",
      "publisher=Ιδιωτική Εταιρεία (LTD)\n",
      "category=Δάσκαλοι, Ξένες Γλώσσες / Μεταφραστές\n"
     ]
    },
    {
     "name": "stderr",
     "output_type": "stream",
     "text": [
      "\r",
      " 41%|████      | 411/1000 [1:37:34<2:16:49, 13.94s/it]"
     ]
    },
    {
     "name": "stdout",
     "output_type": "stream",
     "text": [
      "Τεχνικός Συντήρησης (Κτιρίων & Μηχανημάτων) - Apidea Ltd\n",
      "titleofjob=Τεχνικός Συντήρησης (Κτιρίων & Μηχανημάτων)\n",
      "refernce_number=148368\n",
      "city=Λεμεσός\n",
      "date_posted=02/09/2021\n",
      "expire_date=25/09/2021\n",
      "views=469\n",
      "type_of_employment=Πλήρης\n",
      "employment_sector=Μη διαθέσιμο\n",
      "publisher=Ιδιωτική Εταιρεία (LTD)\n",
      "category=Ηλεκτρολόγοι Μηχανικοί, Τεχνικοί\n"
     ]
    },
    {
     "name": "stderr",
     "output_type": "stream",
     "text": [
      "\r",
      " 41%|████      | 412/1000 [1:37:50<2:22:54, 14.58s/it]"
     ]
    },
    {
     "name": "stdout",
     "output_type": "stream",
     "text": [
      "Junior System Administrator - GT Group\n",
      "titleofjob=Junior System Administrator\n",
      "refernce_number=148313\n",
      "city=Λεμεσός, Πάφος\n",
      "date_posted=02/09/2021\n",
      "expire_date=25/09/2021\n",
      "views=301\n",
      "type_of_employment=Πλήρης\n",
      "employment_sector=Forex\n",
      "publisher=Ιδιωτική Εταιρεία (LTD)\n",
      "category=Πληροφορική, Forex\n"
     ]
    },
    {
     "name": "stderr",
     "output_type": "stream",
     "text": [
      "\r",
      " 41%|████▏     | 413/1000 [1:38:06<2:26:13, 14.95s/it]"
     ]
    },
    {
     "name": "stdout",
     "output_type": "stream",
     "text": [
      "Ταμπελογράφος - Apidea Ltd\n",
      "titleofjob=Ταμπελογράφος\n",
      "refernce_number=148366\n",
      "city=Λεμεσός\n",
      "date_posted=02/09/2021\n",
      "expire_date=25/09/2021\n",
      "views=380\n",
      "type_of_employment=Πλήρης\n",
      "employment_sector=Μη διαθέσιμο\n",
      "publisher=Ιδιωτική Εταιρεία (LTD)\n",
      "category=Εργάτες - Τεχνίτες\n"
     ]
    },
    {
     "name": "stderr",
     "output_type": "stream",
     "text": [
      "\r",
      " 41%|████▏     | 414/1000 [1:38:20<2:25:11, 14.87s/it]"
     ]
    },
    {
     "name": "stdout",
     "output_type": "stream",
     "text": [
      "Digital Marketing Specialist - Windsor Solutions Ltd\n",
      "titleofjob=Digital Marketing Specialist\n",
      "refernce_number=148294\n",
      "city=Λεμεσός\n",
      "date_posted=02/09/2021\n",
      "expire_date=25/09/2021\n",
      "views=130\n",
      "type_of_employment=Πλήρης\n",
      "employment_sector=Forex\n",
      "publisher=Ιδιωτική Εταιρεία (LTD)\n",
      "category=Διοίκηση επιχειρήσεων, Μάρκετινγκ / Δημόσιες Σχέσεις, Forex\n"
     ]
    },
    {
     "name": "stderr",
     "output_type": "stream",
     "text": [
      "\r",
      " 42%|████▏     | 415/1000 [1:38:34<2:21:58, 14.56s/it]"
     ]
    },
    {
     "name": "stdout",
     "output_type": "stream",
     "text": [
      "Χειριστής/τρια CNC Router - Apidea Ltd\n",
      "titleofjob=Χειριστής/τρια CNC Router\n",
      "refernce_number=148362\n",
      "city=Λεμεσός\n",
      "date_posted=02/09/2021\n",
      "expire_date=25/09/2021\n",
      "views=598\n",
      "type_of_employment=Πλήρης\n",
      "employment_sector=Μη διαθέσιμο\n",
      "publisher=Ιδιωτική Εταιρεία (LTD)\n",
      "category=Πληροφορική, Εργάτες - Τεχνίτες, Γραφίστες\n"
     ]
    },
    {
     "name": "stderr",
     "output_type": "stream",
     "text": [
      "\r",
      " 42%|████▏     | 416/1000 [1:38:48<2:21:03, 14.49s/it]"
     ]
    },
    {
     "name": "stdout",
     "output_type": "stream",
     "text": [
      "Χειριστής/τρια Ψηφιακών Εκτυπωτικών Μηχανών (Μεγάλων Διαστάσεων) - Apidea Ltd\n",
      "titleofjob=Χειριστής/τρια Ψηφιακών Εκτυπωτικών Μηχανών (Μεγάλων Διαστάσεων)\n",
      "refernce_number=148356\n",
      "city=Λεμεσός\n",
      "date_posted=02/09/2021\n",
      "expire_date=25/09/2021\n",
      "views=460\n",
      "type_of_employment=Πλήρης\n",
      "employment_sector=Μη διαθέσιμο\n",
      "publisher=Ιδιωτική Εταιρεία (LTD)\n",
      "category=Πληροφορική, Εργάτες - Τεχνίτες\n"
     ]
    },
    {
     "name": "stderr",
     "output_type": "stream",
     "text": [
      "\r",
      " 42%|████▏     | 417/1000 [1:39:04<2:22:58, 14.71s/it]"
     ]
    },
    {
     "name": "stdout",
     "output_type": "stream",
     "text": [
      "Δάσκαλος/α Δημοτικής Εκπαίδευσης - Φροντιστήριο Χαρίκλειας Ευριπίδου\n",
      "titleofjob=Δάσκαλος/α Δημοτικής Εκπαίδευσης\n",
      "refernce_number=148293\n",
      "city=Λεμεσός\n",
      "date_posted=02/09/2021\n",
      "expire_date=25/09/2021\n",
      "views=203\n",
      "type_of_employment=Πλήρης\n",
      "employment_sector=Εκπαιδευτικά Κέντρα / Φροντιστήρια\n",
      "publisher=Ιδιωτική Εταιρεία (LTD)\n",
      "category=Καθηγητές / Ακαδημαϊκοί, Δάσκαλοι\n"
     ]
    },
    {
     "name": "stderr",
     "output_type": "stream",
     "text": [
      "\r",
      " 42%|████▏     | 418/1000 [1:39:19<2:24:42, 14.92s/it]"
     ]
    },
    {
     "name": "stdout",
     "output_type": "stream",
     "text": [
      "Οδηγός (Επαγγελματική Άδεια) - Alion Vegetables & Fruit Co Ltd\n",
      "titleofjob=Οδηγός (Επαγγελματική Άδεια)\n",
      "refernce_number=148291\n",
      "city=Λευκωσία\n",
      "date_posted=02/09/2021\n",
      "expire_date=25/09/2021\n",
      "views=172\n",
      "type_of_employment=Πλήρης\n",
      "employment_sector=Λιανικό Εμπόριο\n",
      "publisher=Ιδιωτική Εταιρεία (LTD)\n",
      "category=Διανομείς, Μεταφορές / Logistics, Οδηγοί\n"
     ]
    },
    {
     "name": "stderr",
     "output_type": "stream",
     "text": [
      "\r",
      " 42%|████▏     | 419/1000 [1:39:33<2:22:05, 14.67s/it]"
     ]
    },
    {
     "name": "stdout",
     "output_type": "stream",
     "text": [
      "Purchasing Officer - IronFX\n",
      "titleofjob=Purchasing Officer\n",
      "refernce_number=148307\n",
      "city=Λεμεσός\n",
      "date_posted=02/09/2021\n",
      "expire_date=25/09/2021\n",
      "views=238\n",
      "type_of_employment=Πλήρης\n",
      "employment_sector=Forex\n",
      "publisher=Ιδιωτική Εταιρεία (LTD)\n",
      "category=Διοίκηση επιχειρήσεων, Forex, Χρηματοοικονομικά/Χρηματοπιστωτικά\n"
     ]
    },
    {
     "name": "stderr",
     "output_type": "stream",
     "text": [
      "\r",
      " 42%|████▏     | 420/1000 [1:39:47<2:20:23, 14.52s/it]"
     ]
    },
    {
     "name": "stdout",
     "output_type": "stream",
     "text": [
      "Sales Representatives (Πωλήτριες/Πωλητές) - Obon Sai Cosmetics Ltd\n",
      "titleofjob=Sales Representatives (Πωλήτριες/Πωλητές)\n",
      "refernce_number=148290\n",
      "city=Λευκωσία\n",
      "date_posted=02/09/2021\n",
      "expire_date=25/09/2021\n",
      "views=552\n",
      "type_of_employment=Πλήρης\n",
      "employment_sector=Λιανικό Εμπόριο\n",
      "publisher=Ιδιωτική Εταιρεία (LTD)\n",
      "category=Πωλητές - Καταστήματα\n"
     ]
    },
    {
     "name": "stderr",
     "output_type": "stream",
     "text": [
      "\r",
      " 42%|████▏     | 421/1000 [1:40:01<2:17:08, 14.21s/it]"
     ]
    },
    {
     "name": "stdout",
     "output_type": "stream",
     "text": [
      "Store Manager - DUST & CREAM\n",
      "titleofjob=Store Manager\n",
      "refernce_number=148309\n",
      "city=Λεμεσός, Λευκωσία, Λάρνακα\n",
      "date_posted=02/09/2021\n",
      "expire_date=25/09/2021\n",
      "views=291\n",
      "type_of_employment=Πλήρης\n",
      "employment_sector=Περιποίηση-Ομορφιά-Φυσική κατάσταση\n",
      "publisher=Ιδιωτική Εταιρεία (LTD)\n",
      "category=Διοίκηση επιχειρήσεων, Αισθητικοί / Επαγγελματικό Μακιγιάζ, Πωλητές - Καταστήματα\n"
     ]
    },
    {
     "name": "stderr",
     "output_type": "stream",
     "text": [
      "\r",
      " 42%|████▏     | 422/1000 [1:40:15<2:15:43, 14.09s/it]"
     ]
    },
    {
     "name": "stdout",
     "output_type": "stream",
     "text": [
      "Βοηθός Παραγωγής - IA.SA. ELECTROTHERM LTD\n",
      "titleofjob=Βοηθός Παραγωγής\n",
      "refernce_number=148158\n",
      "city=Λάρνακα\n",
      "date_posted=02/09/2021\n",
      "expire_date=25/09/2021\n",
      "views=403\n",
      "type_of_employment=Πλήρης\n",
      "employment_sector=Βιομηχανίες\n",
      "publisher=Ιδιωτική Εταιρεία (LTD)\n",
      "category=Εργάτες Παραγωγής / Συσκευασίας\n"
     ]
    },
    {
     "name": "stderr",
     "output_type": "stream",
     "text": [
      "\r",
      " 42%|████▏     | 423/1000 [1:40:28<2:14:29, 13.99s/it]"
     ]
    },
    {
     "name": "stdout",
     "output_type": "stream",
     "text": [
      "Beauty Advisor - DUST & CREAM\n",
      "titleofjob=Beauty Advisor\n",
      "refernce_number=148310\n",
      "city=Λεμεσός, Λευκωσία, Λάρνακα\n",
      "date_posted=02/09/2021\n",
      "expire_date=25/09/2021\n",
      "views=307\n",
      "type_of_employment=Πλήρη ή Μερική\n",
      "employment_sector=Περιποίηση-Ομορφιά-Φυσική κατάσταση\n",
      "publisher=Ιδιωτική Εταιρεία (LTD)\n",
      "category=Υπεραγορές - Πολυκαταστήματα, Αισθητικοί / Επαγγελματικό Μακιγιάζ, Πωλητές - Καταστήματα\n"
     ]
    },
    {
     "name": "stderr",
     "output_type": "stream",
     "text": [
      "\r",
      " 42%|████▏     | 424/1000 [1:40:42<2:14:07, 13.97s/it]"
     ]
    },
    {
     "name": "stdout",
     "output_type": "stream",
     "text": [
      "Bookkeeper - Belifor Ltd\n",
      "titleofjob=Bookkeeper\n",
      "refernce_number=148304\n",
      "city=Λευκωσία\n",
      "date_posted=02/09/2021\n",
      "expire_date=25/09/2021\n",
      "views=218\n",
      "type_of_employment=Πλήρης\n",
      "employment_sector=Χοντρικό Εμπόριο\n",
      "publisher=Ιδιωτική Εταιρεία (LTD)\n",
      "category=Λογιστές\n"
     ]
    },
    {
     "name": "stderr",
     "output_type": "stream",
     "text": [
      "\r",
      " 42%|████▎     | 425/1000 [1:40:56<2:13:31, 13.93s/it]"
     ]
    },
    {
     "name": "stdout",
     "output_type": "stream",
     "text": [
      "Communication Monitoring Officers (German, Italian, Portuguese, Spanish, Dutch, Swedish Speaking) - Spectech Talent Solutions Ltd\n",
      "titleofjob=Communication Monitoring Officers (German, Italian, Portuguese, Spanish, Dutch, Swedish Speaking)\n",
      "refernce_number=148343\n",
      "city=Λεμεσός\n",
      "date_posted=02/09/2021\n",
      "expire_date=25/09/2021\n",
      "views=103\n",
      "type_of_employment=Πλήρης\n",
      "employment_sector=Forex\n",
      "publisher=Ιδιωτική Εταιρεία (LTD)\n",
      "category=Ξένες Γλώσσες / Μεταφραστές, Forex\n"
     ]
    },
    {
     "name": "stderr",
     "output_type": "stream",
     "text": [
      "\r",
      " 43%|████▎     | 426/1000 [1:41:10<2:12:23, 13.84s/it]"
     ]
    },
    {
     "name": "stdout",
     "output_type": "stream",
     "text": [
      "Immigration Officer - Monlinks Services Ltd.\n",
      "titleofjob=Immigration Officer\n",
      "refernce_number=148299\n",
      "city=Λεμεσός\n",
      "date_posted=02/09/2021\n",
      "expire_date=25/09/2021\n",
      "views=269\n",
      "type_of_employment=Πλήρης\n",
      "employment_sector=Forex\n",
      "publisher=Ιδιωτική Εταιρεία (LTD)\n",
      "category=Ανθρώπινο Δυναμικό , Διοίκηση επιχειρήσεων, Forex\n"
     ]
    },
    {
     "name": "stderr",
     "output_type": "stream",
     "text": [
      "\r",
      " 43%|████▎     | 427/1000 [1:41:23<2:10:18, 13.64s/it]"
     ]
    },
    {
     "name": "stdout",
     "output_type": "stream",
     "text": [
      "Compliance Assistant - Spectech Talent Solutions Ltd\n",
      "titleofjob=Compliance Assistant\n",
      "refernce_number=148340\n",
      "city=Λεμεσός\n",
      "date_posted=02/09/2021\n",
      "expire_date=25/09/2021\n",
      "views=163\n",
      "type_of_employment=Πλήρης\n",
      "employment_sector=Forex\n",
      "publisher=Ιδιωτική Εταιρεία (LTD)\n",
      "category=Δικηγόροι, Σύμβουλοι Επιχειρήσεων, Forex\n"
     ]
    },
    {
     "name": "stderr",
     "output_type": "stream",
     "text": [
      "\r",
      " 43%|████▎     | 428/1000 [1:41:38<2:13:42, 14.02s/it]"
     ]
    },
    {
     "name": "stdout",
     "output_type": "stream",
     "text": [
      "Accountant - Spectech Talent Solutions Ltd\n",
      "titleofjob=Accountant\n",
      "refernce_number=148339\n",
      "city=Λεμεσός\n",
      "date_posted=02/09/2021\n",
      "expire_date=25/09/2021\n",
      "views=118\n",
      "type_of_employment=Πλήρης\n",
      "employment_sector=Forex\n",
      "publisher=Ιδιωτική Εταιρεία (LTD)\n",
      "category=Λογιστές, Forex, Χρηματοοικονομικά/Χρηματοπιστωτικά\n"
     ]
    },
    {
     "name": "stderr",
     "output_type": "stream",
     "text": [
      "\r",
      " 43%|████▎     | 429/1000 [1:41:52<2:14:54, 14.18s/it]"
     ]
    },
    {
     "name": "stdout",
     "output_type": "stream",
     "text": [
      "Monitoring Officer - Spectech Talent Solutions Ltd\n",
      "titleofjob=Monitoring Officer\n",
      "refernce_number=148338\n",
      "city=Λεμεσός\n",
      "date_posted=02/09/2021\n",
      "expire_date=25/09/2021\n",
      "views=106\n",
      "type_of_employment=Πλήρης\n",
      "employment_sector=Σύμβουλοι Επιχειρήσεων\n",
      "publisher=Ιδιωτική Εταιρεία (LTD)\n",
      "category=Διοίκηση επιχειρήσεων, Μαθηματικοί / Στατιστικολόγοι, Οικονομολόγοι, Forex\n"
     ]
    },
    {
     "name": "stderr",
     "output_type": "stream",
     "text": [
      "\r",
      " 43%|████▎     | 430/1000 [1:42:07<2:16:45, 14.40s/it]"
     ]
    },
    {
     "name": "stdout",
     "output_type": "stream",
     "text": [
      "Senior Corporate Lawyer - Armenotech Limited\n",
      "titleofjob=Senior Corporate Lawyer\n",
      "refernce_number=148292\n",
      "city=Λεμεσός\n",
      "date_posted=02/09/2021\n",
      "expire_date=25/09/2021\n",
      "views=110\n",
      "type_of_employment=Πλήρης\n",
      "employment_sector=Τράπεζες / Χρηματοπιστωτικά Ιδρύματα\n",
      "publisher=Ιδιωτική Εταιρεία (LTD)\n",
      "category=Forex, Χρηματοοικονομικά/Χρηματοπιστωτικά, Ευρώπη / Διεθνείς Οργανισμοί\n"
     ]
    },
    {
     "name": "stderr",
     "output_type": "stream",
     "text": [
      "\r",
      " 43%|████▎     | 431/1000 [1:42:22<2:17:26, 14.49s/it]"
     ]
    },
    {
     "name": "stdout",
     "output_type": "stream",
     "text": [
      "Payment Monitoring Officer - Spectech Talent Solutions Ltd\n",
      "titleofjob=Payment Monitoring Officer\n",
      "refernce_number=148336\n",
      "city=Λεμεσός\n",
      "date_posted=02/09/2021\n",
      "expire_date=25/09/2021\n",
      "views=82\n",
      "type_of_employment=Πλήρης\n",
      "employment_sector=Σύμβουλοι Επιχειρήσεων\n",
      "publisher=Ιδιωτική Εταιρεία (LTD)\n",
      "category=Διοίκηση επιχειρήσεων, Σύμβουλοι Επιχειρήσεων\n"
     ]
    },
    {
     "name": "stderr",
     "output_type": "stream",
     "text": [
      "\r",
      " 43%|████▎     | 432/1000 [1:42:37<2:18:40, 14.65s/it]"
     ]
    },
    {
     "name": "stdout",
     "output_type": "stream",
     "text": [
      "Payment Analyst - Spectech Talent Solutions Ltd\n",
      "titleofjob=Payment Analyst\n",
      "refernce_number=148334\n",
      "city=Λεμεσός\n",
      "date_posted=02/09/2021\n",
      "expire_date=25/09/2021\n",
      "views=96\n",
      "type_of_employment=Πλήρης\n",
      "employment_sector=Σύμβουλοι Επιχειρήσεων\n",
      "publisher=Ιδιωτική Εταιρεία (LTD)\n",
      "category=Διοίκηση επιχειρήσεων, Πληροφορική, Forex\n"
     ]
    },
    {
     "name": "stderr",
     "output_type": "stream",
     "text": [
      "\r",
      " 43%|████▎     | 433/1000 [1:42:52<2:18:28, 14.65s/it]"
     ]
    },
    {
     "name": "stdout",
     "output_type": "stream",
     "text": [
      "Complaints Administrator - Spectech Talent Solutions Ltd\n",
      "titleofjob=Complaints Administrator\n",
      "refernce_number=148333\n",
      "city=Λεμεσός\n",
      "date_posted=02/09/2021\n",
      "expire_date=25/09/2021\n",
      "views=96\n",
      "type_of_employment=Πλήρης\n",
      "employment_sector=Forex\n",
      "publisher=Ιδιωτική Εταιρεία (LTD)\n",
      "category=Διοίκηση επιχειρήσεων, Σύμβουλοι Επιχειρήσεων, Forex\n"
     ]
    },
    {
     "name": "stderr",
     "output_type": "stream",
     "text": [
      "\r",
      " 43%|████▎     | 434/1000 [1:43:05<2:15:42, 14.39s/it]"
     ]
    },
    {
     "name": "stdout",
     "output_type": "stream",
     "text": [
      "Complaints Officer - Spectech Talent Solutions Ltd\n",
      "titleofjob=Complaints Officer\n",
      "refernce_number=148332\n",
      "city=Λεμεσός\n",
      "date_posted=02/09/2021\n",
      "expire_date=25/09/2021\n",
      "views=101\n",
      "type_of_employment=Πλήρης\n",
      "employment_sector=Forex\n",
      "publisher=Ιδιωτική Εταιρεία (LTD)\n",
      "category=Δικηγόροι, Σύμβουλοι Επιχειρήσεων, Forex\n"
     ]
    },
    {
     "name": "stderr",
     "output_type": "stream",
     "text": [
      "\r",
      " 44%|████▎     | 435/1000 [1:43:20<2:14:59, 14.33s/it]"
     ]
    },
    {
     "name": "stdout",
     "output_type": "stream",
     "text": [
      "Head of Compliance - Spectech Talent Solutions Ltd\n",
      "titleofjob=Head of Compliance\n",
      "refernce_number=148331\n",
      "city=Λεμεσός\n",
      "date_posted=02/09/2021\n",
      "expire_date=25/09/2021\n",
      "views=69\n",
      "type_of_employment=Πλήρης\n",
      "employment_sector=Forex\n",
      "publisher=Ιδιωτική Εταιρεία (LTD)\n",
      "category=Δικηγόροι, Forex\n"
     ]
    },
    {
     "name": "stderr",
     "output_type": "stream",
     "text": [
      "\r",
      " 44%|████▎     | 436/1000 [1:43:34<2:13:40, 14.22s/it]"
     ]
    },
    {
     "name": "stdout",
     "output_type": "stream",
     "text": [
      "Barista - SK COFFEE GERMASOGEIA LTD\n",
      "titleofjob=Barista\n",
      "refernce_number=148306\n",
      "city=Λεμεσός\n",
      "date_posted=03/09/2021\n",
      "expire_date=24/09/2021\n",
      "views=353\n",
      "type_of_employment=Πλήρης\n",
      "employment_sector=Εστιατόρια / Καφετέριες\n",
      "publisher=Ιδιωτική Εταιρεία (LTD)\n",
      "category=Υπάλληλοι HORECA, Baristas\n"
     ]
    },
    {
     "name": "stderr",
     "output_type": "stream",
     "text": [
      "\r",
      " 44%|████▎     | 437/1000 [1:43:47<2:11:58, 14.06s/it]"
     ]
    },
    {
     "name": "stdout",
     "output_type": "stream",
     "text": [
      "Social Media Specialist - Spectech Talent Solutions Ltd\n",
      "titleofjob=Social Media Specialist\n",
      "refernce_number=148330\n",
      "city=Λεμεσός\n",
      "date_posted=02/09/2021\n",
      "expire_date=25/09/2021\n",
      "views=134\n",
      "type_of_employment=Πλήρης\n",
      "employment_sector=Μάρκετινγκ / Διαφήμιση\n",
      "publisher=Ιδιωτική Εταιρεία (LTD)\n",
      "category=Μάρκετινγκ / Δημόσιες Σχέσεις, ΜΜΕ-Δημοσιογραφία\n"
     ]
    },
    {
     "name": "stderr",
     "output_type": "stream",
     "text": [
      "\r",
      " 44%|████▍     | 438/1000 [1:44:00<2:08:44, 13.74s/it]"
     ]
    },
    {
     "name": "stdout",
     "output_type": "stream",
     "text": [
      "Legal Advisor - Spectech Talent Solutions Ltd\n",
      "titleofjob=Legal Advisor\n",
      "refernce_number=148329\n",
      "city=Λεμεσός\n",
      "date_posted=02/09/2021\n",
      "expire_date=25/09/2021\n",
      "views=142\n",
      "type_of_employment=Πλήρης\n",
      "employment_sector=Σύμβουλοι Επιχειρήσεων\n",
      "publisher=Ιδιωτική Εταιρεία (LTD)\n",
      "category=Δικηγόροι, Σύμβουλοι Επιχειρήσεων\n"
     ]
    },
    {
     "name": "stderr",
     "output_type": "stream",
     "text": [
      "\r",
      " 44%|████▍     | 439/1000 [1:44:15<2:10:49, 13.99s/it]"
     ]
    },
    {
     "name": "stdout",
     "output_type": "stream",
     "text": [
      "AML & KYC Compliance Assistant (Night Shift) - Spectech Talent Solutions Ltd\n",
      "titleofjob=AML & KYC Compliance Assistant (Night Shift)\n",
      "refernce_number=148328\n",
      "city=Λεμεσός\n",
      "date_posted=02/09/2021\n",
      "expire_date=25/09/2021\n",
      "views=93\n",
      "type_of_employment=Πλήρης\n",
      "employment_sector=Forex\n",
      "publisher=Ιδιωτική Εταιρεία (LTD)\n",
      "category=Διοίκηση επιχειρήσεων, Σύμβουλοι Επιχειρήσεων\n"
     ]
    },
    {
     "name": "stderr",
     "output_type": "stream",
     "text": [
      "\r",
      " 44%|████▍     | 440/1000 [1:44:29<2:12:18, 14.18s/it]"
     ]
    },
    {
     "name": "stdout",
     "output_type": "stream",
     "text": [
      "Senior Accountant - Spectech Talent Solutions Ltd\n",
      "titleofjob=Senior Accountant\n",
      "refernce_number=148327\n",
      "city=Λεμεσός\n",
      "date_posted=02/09/2021\n",
      "expire_date=25/09/2021\n",
      "views=138\n",
      "type_of_employment=Πλήρης\n",
      "employment_sector=Forex\n",
      "publisher=Ιδιωτική Εταιρεία (LTD)\n",
      "category=Λογιστές, Οικονομολόγοι, Χρηματοοικονομικά/Χρηματοπιστωτικά\n"
     ]
    },
    {
     "name": "stderr",
     "output_type": "stream",
     "text": [
      "\r",
      " 44%|████▍     | 441/1000 [1:44:43<2:10:12, 13.97s/it]"
     ]
    },
    {
     "name": "stdout",
     "output_type": "stream",
     "text": [
      "Client Verification Assistant (Dutch, German, Spanish, Italian, Swedish, Portuguese) - Spectech Talent Solutions Ltd\n",
      "titleofjob=Client Verification Assistant (Dutch, German, Spanish, Italian, Swedish, Portuguese)\n",
      "refernce_number=148326\n",
      "city=Λεμεσός\n",
      "date_posted=02/09/2021\n",
      "expire_date=25/09/2021\n",
      "views=93\n",
      "type_of_employment=Πλήρης\n",
      "employment_sector=Forex\n",
      "publisher=Ιδιωτική Εταιρεία (LTD)\n",
      "category=Εξυπηρέτηση Πελατών, Ξένες Γλώσσες / Μεταφραστές, Forex\n"
     ]
    },
    {
     "name": "stderr",
     "output_type": "stream",
     "text": [
      "\r",
      " 44%|████▍     | 442/1000 [1:44:57<2:08:52, 13.86s/it]"
     ]
    },
    {
     "name": "stdout",
     "output_type": "stream",
     "text": [
      "Motion Graphics Designer - Spectech Talent Solutions Ltd\n",
      "titleofjob=Motion Graphics Designer\n",
      "refernce_number=148325\n",
      "city=Λεμεσός\n",
      "date_posted=02/09/2021\n",
      "expire_date=25/09/2021\n",
      "views=104\n",
      "type_of_employment=Πλήρης\n",
      "employment_sector=Σύμβουλοι Επιχειρήσεων\n",
      "publisher=Ιδιωτική Εταιρεία (LTD)\n",
      "category=Forex, Γραφίστες\n"
     ]
    },
    {
     "name": "stderr",
     "output_type": "stream",
     "text": [
      "\r",
      " 44%|████▍     | 443/1000 [1:45:11<2:09:53, 13.99s/it]"
     ]
    },
    {
     "name": "stdout",
     "output_type": "stream",
     "text": [
      "UI/UX Designer - Spectech Talent Solutions Ltd\n",
      "titleofjob=UI/UX Designer\n",
      "refernce_number=148324\n",
      "city=Λεμεσός\n",
      "date_posted=02/09/2021\n",
      "expire_date=25/09/2021\n",
      "views=92\n",
      "type_of_employment=Πλήρης\n",
      "employment_sector=Σύμβουλοι Επιχειρήσεων\n",
      "publisher=Ιδιωτική Εταιρεία (LTD)\n",
      "category=Μάρκετινγκ / Δημόσιες Σχέσεις, Forex, Γραφίστες\n"
     ]
    },
    {
     "name": "stderr",
     "output_type": "stream",
     "text": [
      "\r",
      " 44%|████▍     | 444/1000 [1:45:25<2:09:23, 13.96s/it]"
     ]
    },
    {
     "name": "stdout",
     "output_type": "stream",
     "text": [
      "Web Designer - Spectech Talent Solutions Ltd\n",
      "titleofjob=Web Designer\n",
      "refernce_number=148323\n",
      "city=Λεμεσός\n",
      "date_posted=02/09/2021\n",
      "expire_date=25/09/2021\n",
      "views=113\n",
      "type_of_employment=Πλήρης\n",
      "employment_sector=Σύμβουλοι Επιχειρήσεων\n",
      "publisher=Ιδιωτική Εταιρεία (LTD)\n",
      "category=Μάρκετινγκ / Δημόσιες Σχέσεις, Πληροφορική, Γραφίστες\n"
     ]
    },
    {
     "name": "stderr",
     "output_type": "stream",
     "text": [
      "\r",
      " 44%|████▍     | 445/1000 [1:45:40<2:11:34, 14.22s/it]"
     ]
    },
    {
     "name": "stdout",
     "output_type": "stream",
     "text": [
      "Junior BI Analyst (Evening - Night Shift) - Spectech Talent Solutions Ltd\n",
      "titleofjob=Junior BI Analyst (Evening - Night Shift)\n",
      "refernce_number=148322\n",
      "city=Λεμεσός\n",
      "date_posted=02/09/2021\n",
      "expire_date=25/09/2021\n",
      "views=312\n",
      "type_of_employment=Πλήρης\n",
      "employment_sector=Σύμβουλοι Επιχειρήσεων\n",
      "publisher=Ιδιωτική Εταιρεία (LTD)\n",
      "category=Διοίκηση επιχειρήσεων, Σύμβουλοι Επιχειρήσεων\n"
     ]
    },
    {
     "name": "stderr",
     "output_type": "stream",
     "text": [
      "\r",
      " 45%|████▍     | 446/1000 [1:45:54<2:11:58, 14.29s/it]"
     ]
    },
    {
     "name": "stdout",
     "output_type": "stream",
     "text": [
      "Junior BI Analyst (Italian/Spanish/German Speaker) - Spectech Talent Solutions Ltd\n",
      "titleofjob=Junior BI Analyst (Italian/Spanish/German Speaker)\n",
      "refernce_number=148321\n",
      "city=Λεμεσός\n",
      "date_posted=02/09/2021\n",
      "expire_date=25/09/2021\n",
      "views=95\n",
      "type_of_employment=Πλήρης\n",
      "employment_sector=Σύμβουλοι Επιχειρήσεων\n",
      "publisher=Ιδιωτική Εταιρεία (LTD)\n",
      "category=Διοίκηση επιχειρήσεων, Ξένες Γλώσσες / Μεταφραστές, Σύμβουλοι Επιχειρήσεων\n"
     ]
    },
    {
     "name": "stderr",
     "output_type": "stream",
     "text": [
      "\r",
      " 45%|████▍     | 447/1000 [1:46:07<2:08:14, 13.91s/it]"
     ]
    },
    {
     "name": "stdout",
     "output_type": "stream",
     "text": [
      "Market and Campaigns Analyst (Dutch, German, Italian, Spanish) - Spectech Talent Solutions Ltd\n",
      "titleofjob=Market and Campaigns Analyst (Dutch, German, Italian, Spanish)\n",
      "refernce_number=148320\n",
      "city=Λεμεσός\n",
      "date_posted=02/09/2021\n",
      "expire_date=25/09/2021\n",
      "views=71\n",
      "type_of_employment=Πλήρης\n",
      "employment_sector=Μάρκετινγκ / Διαφήμιση\n",
      "publisher=Ιδιωτική Εταιρεία (LTD)\n",
      "category=Μάρκετινγκ / Δημόσιες Σχέσεις, Ξένες Γλώσσες / Μεταφραστές, Forex\n"
     ]
    },
    {
     "name": "stderr",
     "output_type": "stream",
     "text": [
      "\r",
      " 45%|████▍     | 448/1000 [1:46:21<2:07:11, 13.83s/it]"
     ]
    },
    {
     "name": "stdout",
     "output_type": "stream",
     "text": [
      "International Sales Executive - MEDCOM TRADING LTD\n",
      "titleofjob=International Sales Executive\n",
      "refernce_number=148296\n",
      "city=Λεμεσός\n",
      "date_posted=03/09/2021\n",
      "expire_date=24/09/2021\n",
      "views=286\n",
      "type_of_employment=Πλήρης\n",
      "employment_sector=Μη διαθέσιμο\n",
      "publisher=Ιδιωτική Εταιρεία (LTD)\n",
      "category=Διοίκηση επιχειρήσεων, Μάρκετινγκ / Δημόσιες Σχέσεις, Υπεύθυνοι Πωλήσεων\n"
     ]
    },
    {
     "name": "stderr",
     "output_type": "stream",
     "text": [
      "\r",
      " 45%|████▍     | 449/1000 [1:46:34<2:06:28, 13.77s/it]"
     ]
    },
    {
     "name": "stdout",
     "output_type": "stream",
     "text": [
      "Accountant - MEDCOM TRADING LTD\n",
      "titleofjob=Accountant\n",
      "refernce_number=148295\n",
      "city=Λεμεσός\n",
      "date_posted=03/09/2021\n",
      "expire_date=24/09/2021\n",
      "views=211\n",
      "type_of_employment=Πλήρης\n",
      "employment_sector=Μη διαθέσιμο\n",
      "publisher=Ιδιωτική Εταιρεία (LTD)\n",
      "category=Λογιστές, Οικονομολόγοι, Χρηματοοικονομικά/Χρηματοπιστωτικά\n"
     ]
    },
    {
     "name": "stderr",
     "output_type": "stream",
     "text": [
      "\r",
      " 45%|████▌     | 450/1000 [1:46:47<2:03:56, 13.52s/it]"
     ]
    },
    {
     "name": "stdout",
     "output_type": "stream",
     "text": [
      "Υπεύθυνος/η Παραγγελιών - Alion Vegetables & Fruit Co Ltd\n",
      "titleofjob=Υπεύθυνος/η Παραγγελιών\n",
      "refernce_number=148287\n",
      "city=Λευκωσία\n",
      "date_posted=03/09/2021\n",
      "expire_date=24/09/2021\n",
      "views=589\n",
      "type_of_employment=Πλήρης\n",
      "employment_sector=Λιανικό Εμπόριο\n",
      "publisher=Ιδιωτική Εταιρεία (LTD)\n",
      "category=Διοίκηση επιχειρήσεων, Τεχνολόγος Τροφίμων, Εργάτες Παραγωγής / Συσκευασίας\n"
     ]
    },
    {
     "name": "stderr",
     "output_type": "stream",
     "text": [
      "\r",
      " 45%|████▌     | 451/1000 [1:47:01<2:05:02, 13.67s/it]"
     ]
    },
    {
     "name": "stdout",
     "output_type": "stream",
     "text": [
      "Νοσηλευτής / Νοσηλεύτρια Επαρχίας - Οργάνωση Παραπληγικών Κύπρου\n",
      "titleofjob=Νοσηλευτής / Νοσηλεύτρια Επαρχίας\n",
      "refernce_number=148288\n",
      "city=Λεμεσός, Πάφος\n",
      "date_posted=03/09/2021\n",
      "expire_date=07/09/2021\n",
      "views=138\n",
      "type_of_employment=Πλήρης\n",
      "employment_sector=Μη διαθέσιμο\n",
      "publisher=Μη κερδοσκοπικός οργανισμός\n",
      "category=Νοσηλευτές\n"
     ]
    },
    {
     "name": "stderr",
     "output_type": "stream",
     "text": [
      "\r",
      " 45%|████▌     | 452/1000 [1:47:16<2:06:35, 13.86s/it]"
     ]
    },
    {
     "name": "stdout",
     "output_type": "stream",
     "text": [
      "Διοικητικός/Διοικητική Λειτουργός - Κυπριακό Συμβούλιο Αναζωογόνησης\n",
      "titleofjob=Διοικητικός/Διοικητική Λειτουργός\n",
      "refernce_number=148286\n",
      "city=Λευκωσία\n",
      "date_posted=03/09/2021\n",
      "expire_date=24/09/2021\n",
      "views=1023\n",
      "type_of_employment=Πλήρης\n",
      "employment_sector=Μη διαθέσιμο\n",
      "publisher=Μη κερδοσκοπικός οργανισμός\n",
      "category=Γραμματειακά, Διοίκηση επιχειρήσεων, Μάρκετινγκ / Δημόσιες Σχέσεις\n"
     ]
    },
    {
     "name": "stderr",
     "output_type": "stream",
     "text": [
      "\r",
      " 45%|████▌     | 453/1000 [1:47:30<2:07:28, 13.98s/it]"
     ]
    },
    {
     "name": "stdout",
     "output_type": "stream",
     "text": [
      "Shift Leader - KFC\n",
      "titleofjob=Shift Leader\n",
      "refernce_number=148285\n",
      "city=Λεμεσός, Λευκωσία, Λάρνακα, Πάφος, Αμμόχωστος\n",
      "date_posted=03/09/2021\n",
      "expire_date=24/09/2021\n",
      "views=266\n",
      "type_of_employment=Πλήρη ή Μερική\n",
      "employment_sector=Εστιατόρια / Καφετέριες\n",
      "publisher=Ιδιωτική Εταιρεία (LTD)\n",
      "category=Εξυπηρέτηση Πελατών, Υπάλληλοι HORECA, Υπεύθυνοι Πωλήσεων\n"
     ]
    },
    {
     "name": "stderr",
     "output_type": "stream",
     "text": [
      "\r",
      " 45%|████▌     | 454/1000 [1:47:44<2:08:07, 14.08s/it]"
     ]
    },
    {
     "name": "stdout",
     "output_type": "stream",
     "text": [
      "Σερβιτόρος/α - A.K.PURPLE SERVICES APARTMENTS AND HOTELS LTD\n",
      "titleofjob=Σερβιτόρος/α\n",
      "refernce_number=148284\n",
      "city=Λευκωσία\n",
      "date_posted=03/09/2021\n",
      "expire_date=24/09/2021\n",
      "views=139\n",
      "type_of_employment=Πλήρης\n",
      "employment_sector=Εστιατόρια / Καφετέριες\n",
      "publisher=Ιδιωτική Εταιρεία (LTD)\n",
      "category=Υπάλληλοι HORECA, Σερβιτόροι, Απόφοιτοι Ξενοδοχειακής Σχολής\n"
     ]
    },
    {
     "name": "stderr",
     "output_type": "stream",
     "text": [
      "\r",
      " 46%|████▌     | 455/1000 [1:47:58<2:08:32, 14.15s/it]"
     ]
    },
    {
     "name": "stdout",
     "output_type": "stream",
     "text": [
      "ATM Machines Engineer (5272) - CareerFinders Recruitment Services Ltd\n",
      "titleofjob=ATM Machines Engineer (5272)\n",
      "refernce_number=148283\n",
      "city=Λεμεσός\n",
      "date_posted=03/09/2021\n",
      "expire_date=24/09/2021\n",
      "views=240\n",
      "type_of_employment=Πλήρης\n",
      "employment_sector=Τράπεζες / Χρηματοπιστωτικά Ιδρύματα\n",
      "publisher=Ιδιωτική Εταιρεία (LTD)\n",
      "category=Πληροφορική, Μηχανολόγοι Μηχανικοί\n"
     ]
    },
    {
     "name": "stderr",
     "output_type": "stream",
     "text": [
      "\r",
      " 46%|████▌     | 456/1000 [1:48:13<2:10:29, 14.39s/it]"
     ]
    },
    {
     "name": "stdout",
     "output_type": "stream",
     "text": [
      "IT Support Technician - PCE Hi-Tech Solutions Ltd\n",
      "titleofjob=IT Support Technician\n",
      "refernce_number=148282\n",
      "city=Λευκωσία\n",
      "date_posted=03/09/2021\n",
      "expire_date=24/09/2021\n",
      "views=239\n",
      "type_of_employment=Πλήρης\n",
      "employment_sector=Πληροφορική\n",
      "publisher=Ιδιωτική Εταιρεία (LTD)\n",
      "category=Πληροφορική, Ηλεκτρολόγοι Μηχανικοί\n"
     ]
    },
    {
     "name": "stderr",
     "output_type": "stream",
     "text": [
      "\r",
      " 46%|████▌     | 457/1000 [1:48:28<2:10:08, 14.38s/it]"
     ]
    },
    {
     "name": "stdout",
     "output_type": "stream",
     "text": [
      "Technical Support Assistant (SAP-0921-TS) - N.Y. Centrix Solutions Ltd\n",
      "titleofjob=Technical Support Assistant (SAP-0921-TS)\n",
      "refernce_number=148237\n",
      "city=Λευκωσία\n",
      "date_posted=03/09/2021\n",
      "expire_date=24/09/2021\n",
      "views=168\n",
      "type_of_employment=Πλήρης\n",
      "employment_sector=Πληροφορική\n",
      "publisher=Ιδιωτική Εταιρεία (LTD)\n",
      "category=Εξυπηρέτηση Πελατών, Πληροφορική\n"
     ]
    },
    {
     "name": "stderr",
     "output_type": "stream",
     "text": [
      "\r",
      " 46%|████▌     | 458/1000 [1:48:42<2:09:37, 14.35s/it]"
     ]
    },
    {
     "name": "stdout",
     "output_type": "stream",
     "text": [
      "Store Managers - ZT ONE IMAGE CO LTD\n",
      "titleofjob=Store Managers\n",
      "refernce_number=148280\n",
      "city=Λεμεσός, Λευκωσία, Λάρνακα\n",
      "date_posted=03/09/2021\n",
      "expire_date=24/09/2021\n",
      "views=265\n",
      "type_of_employment=Πλήρης\n",
      "employment_sector=Μόδα / Ένδυση / Υπόδηση\n",
      "publisher=Ιδιωτική Εταιρεία (LTD)\n",
      "category=Ανθρώπινο Δυναμικό , Διοίκηση επιχειρήσεων, Υπεύθυνοι Πωλήσεων\n"
     ]
    },
    {
     "name": "stderr",
     "output_type": "stream",
     "text": [
      "\r",
      " 46%|████▌     | 459/1000 [1:48:57<2:10:47, 14.51s/it]"
     ]
    },
    {
     "name": "stdout",
     "output_type": "stream",
     "text": [
      "Cashier / Ταμίας - Pizza Hut\n",
      "titleofjob=Cashier / Ταμίας\n",
      "refernce_number=148273\n",
      "city=Λεμεσός, Λευκωσία, Λάρνακα, Πάφος, Αμμόχωστος\n",
      "date_posted=03/09/2021\n",
      "expire_date=24/09/2021\n",
      "views=393\n",
      "type_of_employment=Πλήρη ή Μερική\n",
      "employment_sector=Εστιατόρια / Καφετέριες\n",
      "publisher=Ιδιωτική Εταιρεία (LTD)\n",
      "category=Υπάλληλοι HORECA, Ταμίες\n"
     ]
    },
    {
     "name": "stderr",
     "output_type": "stream",
     "text": [
      "\r",
      " 46%|████▌     | 460/1000 [1:49:11<2:09:12, 14.36s/it]"
     ]
    },
    {
     "name": "stdout",
     "output_type": "stream",
     "text": [
      "Sales Assistants - ZT ONE IMAGE CO LTD\n",
      "titleofjob=Sales Assistants\n",
      "refernce_number=148279\n",
      "city=Λεμεσός, Λευκωσία, Λάρνακα\n",
      "date_posted=03/09/2021\n",
      "expire_date=24/09/2021\n",
      "views=286\n",
      "type_of_employment=Πλήρη ή Μερική\n",
      "employment_sector=Μόδα / Ένδυση / Υπόδηση\n",
      "publisher=Ιδιωτική Εταιρεία (LTD)\n",
      "category=Εξυπηρέτηση Πελατών, Πωλητές - Καταστήματα\n"
     ]
    },
    {
     "name": "stderr",
     "output_type": "stream",
     "text": [
      "\r",
      " 46%|████▌     | 461/1000 [1:49:25<2:08:56, 14.35s/it]"
     ]
    },
    {
     "name": "stdout",
     "output_type": "stream",
     "text": [
      "IT Product Manager - Deriv Operations (Cyprus) Ltd\n",
      "titleofjob=IT Product Manager\n",
      "refernce_number=148277\n",
      "city=Λεμεσός\n",
      "date_posted=03/09/2021\n",
      "expire_date=24/09/2021\n",
      "views=123\n",
      "type_of_employment=Πλήρης\n",
      "employment_sector=Forex\n",
      "publisher=Ιδιωτική Εταιρεία (LTD)\n",
      "category=Πληροφορική, Forex\n"
     ]
    },
    {
     "name": "stderr",
     "output_type": "stream",
     "text": [
      "\r",
      " 46%|████▌     | 462/1000 [1:49:40<2:08:46, 14.36s/it]"
     ]
    },
    {
     "name": "stdout",
     "output_type": "stream",
     "text": [
      "Accountant - iSX Financial EU Ltd\n",
      "titleofjob=Accountant\n",
      "refernce_number=148278\n",
      "city=Λευκωσία\n",
      "date_posted=03/09/2021\n",
      "expire_date=24/09/2021\n",
      "views=196\n",
      "type_of_employment=Πλήρης\n",
      "employment_sector=Τράπεζες / Χρηματοπιστωτικά Ιδρύματα\n",
      "publisher=Ιδιωτική Εταιρεία (LTD)\n",
      "category=Λογιστές, Χρηματοοικονομικά/Χρηματοπιστωτικά\n"
     ]
    },
    {
     "name": "stderr",
     "output_type": "stream",
     "text": [
      "\r",
      " 46%|████▋     | 463/1000 [1:49:53<2:06:53, 14.18s/it]"
     ]
    },
    {
     "name": "stdout",
     "output_type": "stream",
     "text": [
      "Junior QA Engineer - iSX Financial EU Ltd\n",
      "titleofjob=Junior QA Engineer\n",
      "refernce_number=148275\n",
      "city=Λευκωσία\n",
      "date_posted=03/09/2021\n",
      "expire_date=24/09/2021\n",
      "views=137\n",
      "type_of_employment=Πλήρης\n",
      "employment_sector=Τράπεζες / Χρηματοπιστωτικά Ιδρύματα\n",
      "publisher=Ιδιωτική Εταιρεία (LTD)\n",
      "category=Πληροφορική, Ηλεκτρολόγοι Μηχανικοί\n"
     ]
    },
    {
     "name": "stderr",
     "output_type": "stream",
     "text": [
      "\r",
      " 46%|████▋     | 464/1000 [1:50:07<2:05:38, 14.06s/it]"
     ]
    },
    {
     "name": "stdout",
     "output_type": "stream",
     "text": [
      "Legal Administrator - BKFX PTY LTD\n",
      "titleofjob=Legal Administrator\n",
      "refernce_number=147507\n",
      "city=Λεμεσός\n",
      "date_posted=03/09/2021\n",
      "expire_date=24/09/2021\n",
      "views=118\n",
      "type_of_employment=Πλήρης\n",
      "employment_sector=Forex\n",
      "publisher=Ιδιωτική Εταιρεία (LTD)\n",
      "category=Forex\n"
     ]
    },
    {
     "name": "stderr",
     "output_type": "stream",
     "text": [
      "\r",
      " 46%|████▋     | 465/1000 [1:50:21<2:04:59, 14.02s/it]"
     ]
    },
    {
     "name": "stdout",
     "output_type": "stream",
     "text": [
      "Delivery Driver/Διανομέας - Pizza Hut\n",
      "titleofjob=Delivery Driver/Διανομέας\n",
      "refernce_number=148272\n",
      "city=Λεμεσός, Λευκωσία, Λάρνακα, Πάφος, Αμμόχωστος\n",
      "date_posted=03/09/2021\n",
      "expire_date=24/09/2021\n",
      "views=276\n",
      "type_of_employment=Πλήρη ή Μερική\n",
      "employment_sector=Εστιατόρια / Καφετέριες\n",
      "publisher=Ιδιωτική Εταιρεία (LTD)\n",
      "category=Διανομείς, Οδηγοί\n"
     ]
    },
    {
     "name": "stderr",
     "output_type": "stream",
     "text": [
      "\r",
      " 47%|████▋     | 466/1000 [1:50:35<2:03:26, 13.87s/it]"
     ]
    },
    {
     "name": "stdout",
     "output_type": "stream",
     "text": [
      "Junior Data Analyst (Remote) - Margera\n",
      "titleofjob=Junior Data Analyst (Remote)\n",
      "refernce_number=148276\n",
      "city=Λάρνακα\n",
      "date_posted=03/09/2021\n",
      "expire_date=24/09/2021\n",
      "views=372\n",
      "type_of_employment=Πλήρης\n",
      "employment_sector=Μη διαθέσιμο\n",
      "publisher=Ιδιωτική Εταιρεία (LTD)\n",
      "category=Μαθηματικοί / Στατιστικολόγοι, Πληροφορική, Δουλειά από το σπίτι\n"
     ]
    },
    {
     "name": "stderr",
     "output_type": "stream",
     "text": [
      "\r",
      " 47%|████▋     | 467/1000 [1:50:49<2:03:16, 13.88s/it]"
     ]
    },
    {
     "name": "stdout",
     "output_type": "stream",
     "text": [
      "Delivery Driver - KFC\n",
      "titleofjob=Delivery Driver\n",
      "refernce_number=148271\n",
      "city=Λεμεσός, Λευκωσία, Λάρνακα, Πάφος, Αμμόχωστος\n",
      "date_posted=03/09/2021\n",
      "expire_date=24/09/2021\n",
      "views=159\n",
      "type_of_employment=Πλήρη ή Μερική\n",
      "employment_sector=Εστιατόρια / Καφετέριες\n",
      "publisher=Ιδιωτική Εταιρεία (LTD)\n",
      "category=Διανομείς, Οδηγοί\n"
     ]
    },
    {
     "name": "stderr",
     "output_type": "stream",
     "text": [
      "\r",
      " 47%|████▋     | 468/1000 [1:51:03<2:05:36, 14.17s/it]"
     ]
    },
    {
     "name": "stdout",
     "output_type": "stream",
     "text": [
      "Junior Data Engineer (Remote) - Margera\n",
      "titleofjob=Junior Data Engineer (Remote)\n",
      "refernce_number=148274\n",
      "city=Λάρνακα\n",
      "date_posted=03/09/2021\n",
      "expire_date=24/09/2021\n",
      "views=215\n",
      "type_of_employment=Πλήρης\n",
      "employment_sector=Μη διαθέσιμο\n",
      "publisher=Ιδιωτική Εταιρεία (LTD)\n",
      "category=Μαθηματικοί / Στατιστικολόγοι, Πληροφορική, Δουλειά από το σπίτι\n"
     ]
    },
    {
     "name": "stderr",
     "output_type": "stream",
     "text": [
      "\r",
      " 47%|████▋     | 469/1000 [1:51:17<2:03:11, 13.92s/it]"
     ]
    },
    {
     "name": "stdout",
     "output_type": "stream",
     "text": [
      "Chef - Christodoulos G. Vassiliades and Co LLC\n",
      "titleofjob=Chef\n",
      "refernce_number=148270\n",
      "city=Λευκωσία\n",
      "date_posted=03/09/2021\n",
      "expire_date=24/09/2021\n",
      "views=192\n",
      "type_of_employment=Πλήρης\n",
      "employment_sector=Εστιατόρια / Καφετέριες\n",
      "publisher=Ιδιωτική Εταιρεία (LTD)\n",
      "category=Υπάλληλοι HORECA, Μάγειρες / Ζαχαροπλάστες\n"
     ]
    },
    {
     "name": "stderr",
     "output_type": "stream",
     "text": [
      "\r",
      " 47%|████▋     | 470/1000 [1:51:31<2:02:50, 13.91s/it]"
     ]
    },
    {
     "name": "stdout",
     "output_type": "stream",
     "text": [
      "DevOps Engineer (Windows) - Deriv Operations (Cyprus) Ltd\n",
      "titleofjob=DevOps Engineer (Windows)\n",
      "refernce_number=148268\n",
      "city=Λεμεσός\n",
      "date_posted=03/09/2021\n",
      "expire_date=24/09/2021\n",
      "views=102\n",
      "type_of_employment=Πλήρης\n",
      "employment_sector=Forex\n",
      "publisher=Ιδιωτική Εταιρεία (LTD)\n",
      "category=Πληροφορική, Forex\n"
     ]
    },
    {
     "name": "stderr",
     "output_type": "stream",
     "text": [
      "\r",
      " 47%|████▋     | 471/1000 [1:51:44<2:02:00, 13.84s/it]"
     ]
    },
    {
     "name": "stdout",
     "output_type": "stream",
     "text": [
      "Cashier - KFC\n",
      "titleofjob=Cashier\n",
      "refernce_number=148269\n",
      "city=Λεμεσός, Λευκωσία, Λάρνακα, Πάφος, Αμμόχωστος\n",
      "date_posted=03/09/2021\n",
      "expire_date=24/09/2021\n",
      "views=170\n",
      "type_of_employment=Πλήρη ή Μερική\n",
      "employment_sector=Εστιατόρια / Καφετέριες\n",
      "publisher=Ιδιωτική Εταιρεία (LTD)\n",
      "category=Υπάλληλοι HORECA, Ταμίες\n"
     ]
    },
    {
     "name": "stderr",
     "output_type": "stream",
     "text": [
      "\r",
      " 47%|████▋     | 472/1000 [1:52:00<2:05:54, 14.31s/it]"
     ]
    },
    {
     "name": "stdout",
     "output_type": "stream",
     "text": [
      "Accountant - K.Parellis Accountants\n",
      "titleofjob=Accountant\n",
      "refernce_number=148267\n",
      "city=Λευκωσία\n",
      "date_posted=03/09/2021\n",
      "expire_date=24/09/2021\n",
      "views=413\n",
      "type_of_employment=Πλήρης\n",
      "employment_sector=Λογιστικά / Ελεγκτικά γραφεία\n",
      "publisher=Φυσικό Πρόσωπο\n",
      "category=Λογιστές, Χρηματοοικονομικά/Χρηματοπιστωτικά\n"
     ]
    },
    {
     "name": "stderr",
     "output_type": "stream",
     "text": [
      "\r",
      " 47%|████▋     | 473/1000 [1:52:14<2:05:03, 14.24s/it]"
     ]
    },
    {
     "name": "stdout",
     "output_type": "stream",
     "text": [
      "Office Administrator - POUROS DEVELOPMENTS\n",
      "titleofjob=Office Administrator\n",
      "refernce_number=148266\n",
      "city=Λεμεσός\n",
      "date_posted=03/09/2021\n",
      "expire_date=24/09/2021\n",
      "views=331\n",
      "type_of_employment=Πλήρης\n",
      "employment_sector=Μη διαθέσιμο\n",
      "publisher=Ιδιωτική Εταιρεία (LTD)\n",
      "category=Γραμματειακά\n"
     ]
    },
    {
     "name": "stderr",
     "output_type": "stream",
     "text": [
      "\r",
      " 47%|████▋     | 474/1000 [1:52:28<2:05:37, 14.33s/it]"
     ]
    },
    {
     "name": "stdout",
     "output_type": "stream",
     "text": [
      "Τεχνικοί Yδραυλικών και Ψυκτικών Εγκαταστάσεων - M&M Frangos Eng.&Contr. Ltd\n",
      "titleofjob=Τεχνικοί Yδραυλικών και Ψυκτικών Εγκαταστάσεων\n",
      "refernce_number=148265\n",
      "city=Λεμεσός\n",
      "date_posted=03/09/2021\n",
      "expire_date=24/09/2021\n",
      "views=516\n",
      "type_of_employment=Πλήρης\n",
      "employment_sector=Μηχανολογικές Εργασίες\n",
      "publisher=Ιδιωτική Εταιρεία (LTD)\n",
      "category=Υδραυλικοί, Τεχνικοί\n"
     ]
    },
    {
     "name": "stderr",
     "output_type": "stream",
     "text": [
      "\r",
      " 48%|████▊     | 475/1000 [1:52:42<2:03:18, 14.09s/it]"
     ]
    },
    {
     "name": "stdout",
     "output_type": "stream",
     "text": [
      "Barista - Brew Story\n",
      "titleofjob=Barista\n",
      "refernce_number=148264\n",
      "city=Λευκωσία\n",
      "date_posted=03/09/2021\n",
      "expire_date=24/09/2021\n",
      "views=159\n",
      "type_of_employment=Πλήρης\n",
      "employment_sector=Εστιατόρια / Καφετέριες\n",
      "publisher=Ιδιωτική Εταιρεία (LTD)\n",
      "category=Εξυπηρέτηση Πελατών, Υπάλληλοι HORECA, Baristas\n"
     ]
    },
    {
     "name": "stderr",
     "output_type": "stream",
     "text": [
      "\r",
      " 48%|████▊     | 476/1000 [1:52:55<2:01:34, 13.92s/it]"
     ]
    },
    {
     "name": "stdout",
     "output_type": "stream",
     "text": [
      "Πωλητές/ Πωλήτριες - ICELINE CYPRUS LTD\n",
      "titleofjob=Πωλητές/ Πωλήτριες\n",
      "refernce_number=148263\n",
      "city=Λευκωσία\n",
      "date_posted=03/09/2021\n",
      "expire_date=24/09/2021\n",
      "views=303\n",
      "type_of_employment=Πλήρης\n",
      "employment_sector=Λιανικό Εμπόριο\n",
      "publisher=Ιδιωτική Εταιρεία (LTD)\n",
      "category=Υπεραγορές - Πολυκαταστήματα, Ταμίες, Πωλητές - Καταστήματα\n"
     ]
    },
    {
     "name": "stderr",
     "output_type": "stream",
     "text": [
      "\r",
      " 48%|████▊     | 477/1000 [1:53:10<2:02:09, 14.01s/it]"
     ]
    },
    {
     "name": "stdout",
     "output_type": "stream",
     "text": [
      "Προσωπικό Εστιατορίου / Crew Members (Neo Plaza, Kokkinotrimithia) - McDonald’s™ Cyprus\n",
      "titleofjob=Προσωπικό Εστιατορίου / Crew Members (Neo Plaza, Kokkinotrimithia)\n",
      "refernce_number=148262\n",
      "city=Λευκωσία\n",
      "date_posted=03/09/2021\n",
      "expire_date=24/09/2021\n",
      "views=209\n",
      "type_of_employment=Πλήρη ή Μερική\n",
      "employment_sector=Εστιατόρια / Καφετέριες\n",
      "publisher=Ιδιωτική Εταιρεία (LTD)\n",
      "category=Εξυπηρέτηση Πελατών, Υπάλληλοι HORECA, Βοηθοί Κουζίνας / Λάντζα, Ταμίες\n"
     ]
    },
    {
     "name": "stderr",
     "output_type": "stream",
     "text": [
      "\r",
      " 48%|████▊     | 478/1000 [1:53:24<2:03:38, 14.21s/it]"
     ]
    },
    {
     "name": "stdout",
     "output_type": "stream",
     "text": [
      "Σύμβουλος Πωλήσεων - H&M HENNES & MAURITZ AE\n",
      "titleofjob=Σύμβουλος Πωλήσεων\n",
      "refernce_number=148080\n",
      "city=Λεμεσός\n",
      "date_posted=04/09/2021\n",
      "expire_date=23/09/2021\n",
      "views=275\n",
      "type_of_employment=Μερική\n",
      "employment_sector=Μη διαθέσιμο\n",
      "publisher=Ιδιωτική Εταιρεία (LTD)\n",
      "category=Πωλητές - Καταστήματα\n"
     ]
    },
    {
     "name": "stderr",
     "output_type": "stream",
     "text": [
      "\r",
      " 48%|████▊     | 479/1000 [1:53:38<2:03:22, 14.21s/it]"
     ]
    },
    {
     "name": "stdout",
     "output_type": "stream",
     "text": [
      "3D Designer - Qiiwi Games AB\n",
      "titleofjob=3D Designer\n",
      "refernce_number=148261\n",
      "city=Λευκωσία\n",
      "date_posted=03/09/2021\n",
      "expire_date=24/09/2021\n",
      "views=126\n",
      "type_of_employment=Πλήρης\n",
      "employment_sector=Web Design / Developing\n",
      "publisher=Ιδιωτική Εταιρεία (LTD)\n",
      "category=Πληροφορική, Γραφίστες\n"
     ]
    },
    {
     "name": "stderr",
     "output_type": "stream",
     "text": [
      "\r",
      " 48%|████▊     | 480/1000 [1:53:53<2:04:42, 14.39s/it]"
     ]
    },
    {
     "name": "stdout",
     "output_type": "stream",
     "text": [
      "Business Development Consultant (5271) - CareerFinders Recruitment Services Ltd\n",
      "titleofjob=Business Development Consultant (5271)\n",
      "refernce_number=148260\n",
      "city=Λευκωσία\n",
      "date_posted=03/09/2021\n",
      "expire_date=24/09/2021\n",
      "views=298\n",
      "type_of_employment=Πλήρης\n",
      "employment_sector=Σύμβουλοι Επιχειρήσεων\n",
      "publisher=Ιδιωτική Εταιρεία (LTD)\n",
      "category=Διοίκηση επιχειρήσεων, Υπεύθυνοι Πωλήσεων, Χρηματοοικονομικά/Χρηματοπιστωτικά\n"
     ]
    },
    {
     "name": "stderr",
     "output_type": "stream",
     "text": [
      "\r",
      " 48%|████▊     | 481/1000 [1:54:08<2:04:43, 14.42s/it]"
     ]
    },
    {
     "name": "stdout",
     "output_type": "stream",
     "text": [
      "Υπεύθυνος/η Προετοιμασίας Παραγγελιών (Απογευματινή Βάρδια) - CPL Co-Pharm Ltd\n",
      "titleofjob=Υπεύθυνος/η Προετοιμασίας Παραγγελιών (Απογευματινή Βάρδια)\n",
      "refernce_number=148259\n",
      "city=Πάφος\n",
      "date_posted=03/09/2021\n",
      "expire_date=24/09/2021\n",
      "views=514\n",
      "type_of_employment=Πλήρης\n",
      "employment_sector=Χοντρικό Εμπόριο\n",
      "publisher=Ιδιωτική Εταιρεία (LTD)\n",
      "category=Διοίκηση επιχειρήσεων, Αποθηκάριοι, Μεταφορές / Logistics, Εργάτες Παραγωγής / Συσκευασίας\n"
     ]
    },
    {
     "name": "stderr",
     "output_type": "stream",
     "text": [
      "\r",
      " 48%|████▊     | 482/1000 [1:54:22<2:04:47, 14.45s/it]"
     ]
    },
    {
     "name": "stdout",
     "output_type": "stream",
     "text": [
      "Finance Associate - FlexCar Limited\n",
      "titleofjob=Finance Associate\n",
      "refernce_number=148258\n",
      "city=Λευκωσία\n",
      "date_posted=03/09/2021\n",
      "expire_date=24/09/2021\n",
      "views=360\n",
      "type_of_employment=Πλήρης\n",
      "employment_sector=Start Up\n",
      "publisher=Ιδιωτική Εταιρεία (LTD)\n",
      "category=Διοίκηση επιχειρήσεων, Λογιστές, Οικονομολόγοι, Χρηματοοικονομικά/Χρηματοπιστωτικά\n"
     ]
    },
    {
     "name": "stderr",
     "output_type": "stream",
     "text": [
      "\r",
      " 48%|████▊     | 483/1000 [1:54:36<2:02:44, 14.25s/it]"
     ]
    },
    {
     "name": "stdout",
     "output_type": "stream",
     "text": [
      "Διανομέας - CPL Co-Pharm Ltd\n",
      "titleofjob=Διανομέας\n",
      "refernce_number=148256\n",
      "city=Λεμεσός, Πάφος\n",
      "date_posted=03/09/2021\n",
      "expire_date=24/09/2021\n",
      "views=577\n",
      "type_of_employment=Πλήρης\n",
      "employment_sector=Χοντρικό Εμπόριο\n",
      "publisher=Ιδιωτική Εταιρεία (LTD)\n",
      "category=Αποθηκάριοι, Διανομείς, Εξωτερικοί Πωλητές / Πλασιέ\n"
     ]
    },
    {
     "name": "stderr",
     "output_type": "stream",
     "text": [
      "\r",
      " 48%|████▊     | 484/1000 [1:54:51<2:05:27, 14.59s/it]"
     ]
    },
    {
     "name": "stdout",
     "output_type": "stream",
     "text": [
      "Software Engineer - TSYS, A Global Payments company\n",
      "titleofjob=Software Engineer\n",
      "refernce_number=148257\n",
      "city=Λευκωσία\n",
      "date_posted=03/09/2021\n",
      "expire_date=20/09/2021\n",
      "views=115\n",
      "type_of_employment=Πλήρης\n",
      "employment_sector=Πληροφορική\n",
      "publisher=Ιδιωτική Εταιρεία (LTD)\n",
      "category=Πληροφορική\n"
     ]
    },
    {
     "name": "stderr",
     "output_type": "stream",
     "text": [
      "\r",
      " 48%|████▊     | 485/1000 [1:55:06<2:05:23, 14.61s/it]"
     ]
    },
    {
     "name": "stdout",
     "output_type": "stream",
     "text": [
      "Λειτουργός Διοργάνωσης Συνεδρίων & Εκδηλώσεων - Top Kinisis Travel Limited\n",
      "titleofjob=Λειτουργός Διοργάνωσης Συνεδρίων & Εκδηλώσεων\n",
      "refernce_number=148231\n",
      "city=Λευκωσία\n",
      "date_posted=03/09/2021\n",
      "expire_date=24/09/2021\n",
      "views=475\n",
      "type_of_employment=Πλήρης\n",
      "employment_sector=Μη διαθέσιμο\n",
      "publisher=Δημόσια Εταιρεία (PLC)\n",
      "category=Διοίκηση επιχειρήσεων, Μάρκετινγκ / Δημόσιες Σχέσεις, Τουριστικές Σπουδές\n"
     ]
    },
    {
     "name": "stderr",
     "output_type": "stream",
     "text": [
      "\r",
      " 49%|████▊     | 486/1000 [1:55:20<2:04:11, 14.50s/it]"
     ]
    },
    {
     "name": "stdout",
     "output_type": "stream",
     "text": [
      "Wireless Researcher (5270) - CareerFinders Recruitment Services Ltd\n",
      "titleofjob=Wireless Researcher (5270)\n",
      "refernce_number=148255\n",
      "city=Λεμεσός\n",
      "date_posted=03/09/2021\n",
      "expire_date=24/09/2021\n",
      "views=140\n",
      "type_of_employment=Πλήρης\n",
      "employment_sector=Τηλεπικοινωνία / Internet\n",
      "publisher=Ιδιωτική Εταιρεία (LTD)\n",
      "category=Πληροφορική\n"
     ]
    },
    {
     "name": "stderr",
     "output_type": "stream",
     "text": [
      "\r",
      " 49%|████▊     | 487/1000 [1:55:34<2:01:25, 14.20s/it]"
     ]
    },
    {
     "name": "stdout",
     "output_type": "stream",
     "text": [
      "Production System Support Engineer - Aram Meem Services Ltd.\n",
      "titleofjob=Production System Support Engineer\n",
      "refernce_number=148254\n",
      "city=Λεμεσός\n",
      "date_posted=03/09/2021\n",
      "expire_date=24/09/2021\n",
      "views=140\n",
      "type_of_employment=Πλήρης\n",
      "employment_sector=Τηλεπικοινωνία / Internet\n",
      "publisher=Ιδιωτική Εταιρεία (LTD)\n",
      "category=Πληροφορική, Τεχνικοί\n"
     ]
    },
    {
     "name": "stderr",
     "output_type": "stream",
     "text": [
      "\r",
      " 49%|████▉     | 488/1000 [1:55:48<2:01:03, 14.19s/it]"
     ]
    },
    {
     "name": "stdout",
     "output_type": "stream",
     "text": [
      "Systems Administrator (Web Hosting) - HOSTING B2B LTD\n",
      "titleofjob=Systems Administrator (Web Hosting)\n",
      "refernce_number=148250\n",
      "city=Λευκωσία, Λάρνακα\n",
      "date_posted=03/09/2021\n",
      "expire_date=24/09/2021\n",
      "views=230\n",
      "type_of_employment=Πλήρης\n",
      "employment_sector=Τηλεπικοινωνία / Internet\n",
      "publisher=Ιδιωτική Εταιρεία (LTD)\n",
      "category=Πληροφορική, Τεχνικοί\n"
     ]
    },
    {
     "name": "stderr",
     "output_type": "stream",
     "text": [
      "\r",
      " 49%|████▉     | 489/1000 [1:56:02<2:01:18, 14.24s/it]"
     ]
    },
    {
     "name": "stdout",
     "output_type": "stream",
     "text": [
      "Barista - GLORIA JEANS COFFEES\n",
      "titleofjob=Barista\n",
      "refernce_number=148251\n",
      "city=Λεμεσός\n",
      "date_posted=03/09/2021\n",
      "expire_date=24/09/2021\n",
      "views=91\n",
      "type_of_employment=Πλήρη ή Μερική\n",
      "employment_sector=Εστιατόρια / Καφετέριες\n",
      "publisher=Ιδιωτική Εταιρεία (LTD)\n",
      "category=Υπάλληλοι HORECA, Baristas\n"
     ]
    },
    {
     "name": "stderr",
     "output_type": "stream",
     "text": [
      "\r",
      " 49%|████▉     | 490/1000 [1:56:16<1:59:10, 14.02s/it]"
     ]
    },
    {
     "name": "stdout",
     "output_type": "stream",
     "text": [
      "Accountant - Columbia Restaurants Company ltd\n",
      "titleofjob=Accountant\n",
      "refernce_number=148249\n",
      "city=Λεμεσός\n",
      "date_posted=03/09/2021\n",
      "expire_date=24/09/2021\n",
      "views=246\n",
      "type_of_employment=Πλήρης\n",
      "employment_sector=Εστιατόρια / Καφετέριες\n",
      "publisher=Ιδιωτική Εταιρεία (LTD)\n",
      "category=Λογιστές, Υπάλληλοι HORECA, Χρηματοοικονομικά/Χρηματοπιστωτικά\n"
     ]
    },
    {
     "name": "stderr",
     "output_type": "stream",
     "text": [
      "\r",
      " 49%|████▉     | 491/1000 [1:56:30<1:58:58, 14.03s/it]"
     ]
    },
    {
     "name": "stdout",
     "output_type": "stream",
     "text": [
      "Risk Analyst - iSX Financial EU Ltd\n",
      "titleofjob=Risk Analyst\n",
      "refernce_number=148246\n",
      "city=Λευκωσία\n",
      "date_posted=03/09/2021\n",
      "expire_date=24/09/2021\n",
      "views=392\n",
      "type_of_employment=Πλήρης\n",
      "employment_sector=Τράπεζες / Χρηματοπιστωτικά Ιδρύματα\n",
      "publisher=Ιδιωτική Εταιρεία (LTD)\n",
      "category=Διοίκηση επιχειρήσεων, Μαθηματικοί / Στατιστικολόγοι, Χρηματοοικονομικά/Χρηματοπιστωτικά, Αναλογιστές\n"
     ]
    },
    {
     "name": "stderr",
     "output_type": "stream",
     "text": [
      "\r",
      " 49%|████▉     | 492/1000 [1:56:45<2:00:49, 14.27s/it]"
     ]
    },
    {
     "name": "stdout",
     "output_type": "stream",
     "text": [
      "Ταμίες Καταστήματος (Λευκωσία) - ITC PUBLICWORLD LTD\n",
      "titleofjob=Ταμίες Καταστήματος (Λευκωσία)\n",
      "refernce_number=148243\n",
      "city=Λευκωσία\n",
      "date_posted=03/09/2021\n",
      "expire_date=24/09/2021\n",
      "views=150\n",
      "type_of_employment=Πλήρη ή Μερική\n",
      "employment_sector=Λιανικό Εμπόριο\n",
      "publisher=Ιδιωτική Εταιρεία (LTD)\n",
      "category=Ταμίες\n"
     ]
    },
    {
     "name": "stderr",
     "output_type": "stream",
     "text": [
      "\r",
      " 49%|████▉     | 493/1000 [1:57:00<2:02:16, 14.47s/it]"
     ]
    },
    {
     "name": "stdout",
     "output_type": "stream",
     "text": [
      "Εργάτες/τριες Παραγωγής - A.M.E. FRESH SNACK CYPRUS LTD\n",
      "titleofjob=Εργάτες/τριες Παραγωγής\n",
      "refernce_number=148248\n",
      "city=Λεμεσός\n",
      "date_posted=03/09/2021\n",
      "expire_date=24/09/2021\n",
      "views=321\n",
      "type_of_employment=Πλήρης\n",
      "employment_sector=Μη διαθέσιμο\n",
      "publisher=Ιδιωτική Εταιρεία (LTD)\n",
      "category=Εργάτες Παραγωγής / Συσκευασίας\n"
     ]
    },
    {
     "name": "stderr",
     "output_type": "stream",
     "text": [
      "\r",
      " 49%|████▉     | 494/1000 [1:57:16<2:05:52, 14.93s/it]"
     ]
    },
    {
     "name": "stdout",
     "output_type": "stream",
     "text": [
      "Head of Human Resources - Nicosia (On behalf of Deloitte client) - Deloitte\n",
      "titleofjob=Head of Human Resources - Nicosia (On behalf of Deloitte client)\n",
      "refernce_number=148245\n",
      "city=Λευκωσία\n",
      "date_posted=03/09/2021\n",
      "expire_date=01/09/2021\n",
      "views=338\n",
      "type_of_employment=Πλήρης\n",
      "employment_sector=Μη διαθέσιμο\n",
      "publisher=Ιδιωτική Εταιρεία (LTD)\n",
      "category=Ανθρώπινο Δυναμικό , Διοίκηση επιχειρήσεων\n"
     ]
    },
    {
     "name": "stderr",
     "output_type": "stream",
     "text": [
      "\r",
      " 50%|████▉     | 495/1000 [1:57:29<2:01:35, 14.45s/it]"
     ]
    },
    {
     "name": "stdout",
     "output_type": "stream",
     "text": [
      "Εξωτερικός Πωλητής/τρια (Ex-van) - A.M.E. FRESH SNACK CYPRUS LTD\n",
      "titleofjob=Εξωτερικός Πωλητής/τρια (Ex-van)\n",
      "refernce_number=148247\n",
      "city=Λεμεσός\n",
      "date_posted=03/09/2021\n",
      "expire_date=24/09/2021\n",
      "views=190\n",
      "type_of_employment=Πλήρης\n",
      "employment_sector=Μη διαθέσιμο\n",
      "publisher=Ιδιωτική Εταιρεία (LTD)\n",
      "category=Εξωτερικοί Πωλητές / Πλασιέ\n"
     ]
    },
    {
     "name": "stderr",
     "output_type": "stream",
     "text": [
      "\r",
      " 50%|████▉     | 496/1000 [1:57:42<1:58:55, 14.16s/it]"
     ]
    },
    {
     "name": "stdout",
     "output_type": "stream",
     "text": [
      "IT Applications Administrator - Themis Portfolio Management Ltd\n",
      "titleofjob=IT Applications Administrator\n",
      "refernce_number=148241\n",
      "city=Λευκωσία\n",
      "date_posted=03/09/2021\n",
      "expire_date=24/09/2021\n",
      "views=191\n",
      "type_of_employment=Πλήρης\n",
      "employment_sector=Τράπεζες / Χρηματοπιστωτικά Ιδρύματα\n",
      "publisher=Ιδιωτική Εταιρεία (LTD)\n",
      "category=Πληροφορική\n"
     ]
    },
    {
     "name": "stderr",
     "output_type": "stream",
     "text": [
      "\r",
      " 50%|████▉     | 497/1000 [1:57:57<1:58:58, 14.19s/it]"
     ]
    },
    {
     "name": "stdout",
     "output_type": "stream",
     "text": [
      "Πωλητής / Πωλήτρια Οικιακών Συσκευών - Alpan Electroline Limited\n",
      "titleofjob=Πωλητής / Πωλήτρια Οικιακών Συσκευών\n",
      "refernce_number=148244\n",
      "city=Λάρνακα\n",
      "date_posted=03/09/2021\n",
      "expire_date=05/09/2021\n",
      "views=143\n",
      "type_of_employment=Μερική\n",
      "employment_sector=Μη διαθέσιμο\n",
      "publisher=Ιδιωτική Εταιρεία (LTD)\n",
      "category=Πωλητές - Καταστήματα\n"
     ]
    },
    {
     "name": "stderr",
     "output_type": "stream",
     "text": [
      "\r",
      " 50%|████▉     | 498/1000 [1:58:11<1:59:32, 14.29s/it]"
     ]
    },
    {
     "name": "stdout",
     "output_type": "stream",
     "text": [
      "Πωλητής / Πωλήτρια - Alpan Electroline Limited\n",
      "titleofjob=Πωλητής / Πωλήτρια\n",
      "refernce_number=148242\n",
      "city=Λεμεσός\n",
      "date_posted=03/09/2021\n",
      "expire_date=05/09/2021\n",
      "views=182\n",
      "type_of_employment=Πλήρης\n",
      "employment_sector=Μη διαθέσιμο\n",
      "publisher=Ιδιωτική Εταιρεία (LTD)\n",
      "category=Πωλητές - Καταστήματα\n"
     ]
    },
    {
     "name": "stderr",
     "output_type": "stream",
     "text": [
      "\r",
      " 50%|████▉     | 499/1000 [1:58:26<2:00:34, 14.44s/it]"
     ]
    },
    {
     "name": "stdout",
     "output_type": "stream",
     "text": [
      "Sales Assistant - Y.Patriotis Ltd\n",
      "titleofjob=Sales Assistant\n",
      "refernce_number=148240\n",
      "city=Λεμεσός\n",
      "date_posted=03/09/2021\n",
      "expire_date=24/09/2021\n",
      "views=160\n",
      "type_of_employment=Πλήρης\n",
      "employment_sector=Λιανικό Εμπόριο\n",
      "publisher=Ιδιωτική Εταιρεία (LTD)\n",
      "category=Εξυπηρέτηση Πελατών, Μάρκετινγκ / Δημόσιες Σχέσεις, Πωλητές - Καταστήματα, Διακοσμητές Χώρων\n"
     ]
    },
    {
     "name": "stderr",
     "output_type": "stream",
     "text": [
      "\r",
      " 50%|█████     | 500/1000 [1:58:40<1:59:31, 14.34s/it]"
     ]
    },
    {
     "name": "stdout",
     "output_type": "stream",
     "text": [
      "IT Support Officer - Themis Portfolio Management Ltd\n",
      "titleofjob=IT Support Officer\n",
      "refernce_number=148239\n",
      "city=Λευκωσία\n",
      "date_posted=03/09/2021\n",
      "expire_date=14/09/2021\n",
      "views=202\n",
      "type_of_employment=Πλήρης\n",
      "employment_sector=Τράπεζες / Χρηματοπιστωτικά Ιδρύματα\n",
      "publisher=Ιδιωτική Εταιρεία (LTD)\n",
      "category=Πληροφορική\n"
     ]
    },
    {
     "name": "stderr",
     "output_type": "stream",
     "text": [
      "\r",
      " 50%|█████     | 501/1000 [1:58:55<1:59:22, 14.35s/it]"
     ]
    },
    {
     "name": "stdout",
     "output_type": "stream",
     "text": [
      "Customer Service Agent - Times Global Express Ltd\n",
      "titleofjob=Customer Service Agent\n",
      "refernce_number=148238\n",
      "city=Λευκωσία\n",
      "date_posted=03/09/2021\n",
      "expire_date=24/09/2021\n",
      "views=717\n",
      "type_of_employment=Πλήρης\n",
      "employment_sector=Μεταφορές\n",
      "publisher=Φυσικό Πρόσωπο\n",
      "category=Εξυπηρέτηση Πελατών, Ναυτιλιακά, Μεταφορές / Logistics, Τηλεφωνητές\n"
     ]
    },
    {
     "name": "stderr",
     "output_type": "stream",
     "text": [
      "\r",
      " 50%|█████     | 502/1000 [1:59:09<2:00:26, 14.51s/it]"
     ]
    },
    {
     "name": "stdout",
     "output_type": "stream",
     "text": [
      "Picker (Λευκωσία) - C.A. PAPAELLINAS LTD\n",
      "titleofjob=Picker (Λευκωσία)\n",
      "refernce_number=148236\n",
      "city=Λευκωσία\n",
      "date_posted=03/09/2021\n",
      "expire_date=24/09/2021\n",
      "views=867\n",
      "type_of_employment=Πλήρης\n",
      "employment_sector=Λιανικό Εμπόριο\n",
      "publisher=Ιδιωτική Εταιρεία (LTD)\n",
      "category=Αποθηκάριοι, Εργάτες - Τεχνίτες\n"
     ]
    },
    {
     "name": "stderr",
     "output_type": "stream",
     "text": [
      "\r",
      " 50%|█████     | 503/1000 [1:59:25<2:02:20, 14.77s/it]"
     ]
    },
    {
     "name": "stdout",
     "output_type": "stream",
     "text": [
      "Ασφαλιστικός Σύμβουλος - EUROLIFE\n",
      "titleofjob=Ασφαλιστικός Σύμβουλος\n",
      "refernce_number=148234\n",
      "city=Λάρνακα, Αμμόχωστος\n",
      "date_posted=03/09/2021\n",
      "expire_date=24/09/2021\n",
      "views=401\n",
      "type_of_employment=Πλήρης\n",
      "employment_sector=Ασφαλιστικές εταιρείες\n",
      "publisher=Ιδιωτική Εταιρεία (LTD)\n",
      "category=Ασφαλιστές, Χρηματοοικονομικά/Χρηματοπιστωτικά\n"
     ]
    },
    {
     "name": "stderr",
     "output_type": "stream",
     "text": [
      "\r",
      " 50%|█████     | 504/1000 [1:59:39<2:01:16, 14.67s/it]"
     ]
    },
    {
     "name": "stdout",
     "output_type": "stream",
     "text": [
      "Graphic Designer - Neapolis University Pafos\n",
      "titleofjob=Graphic Designer\n",
      "refernce_number=148233\n",
      "city=Πάφος\n",
      "date_posted=03/09/2021\n",
      "expire_date=24/09/2021\n",
      "views=387\n",
      "type_of_employment=Πλήρης\n",
      "employment_sector=Εκπαιδευτικά Κέντρα / Φροντιστήρια\n",
      "publisher=Πανεπιστήμιο / Εκπαιδευτικό Κέντρο\n",
      "category=Γραφίστες\n"
     ]
    },
    {
     "name": "stderr",
     "output_type": "stream",
     "text": [
      "\r",
      " 50%|█████     | 505/1000 [1:59:54<2:01:58, 14.78s/it]"
     ]
    },
    {
     "name": "stdout",
     "output_type": "stream",
     "text": [
      "Store Manager (Limassol & Nicosia) - Domino s Pizza\n",
      "titleofjob=Store Manager (Limassol & Nicosia)\n",
      "refernce_number=148229\n",
      "city=Λεμεσός, Λευκωσία\n",
      "date_posted=03/09/2021\n",
      "expire_date=31/08/2021\n",
      "views=185\n",
      "type_of_employment=Πλήρης\n",
      "employment_sector=Εστιατόρια / Καφετέριες\n",
      "publisher=Ιδιωτική Εταιρεία (LTD)\n",
      "category=Διοίκηση επιχειρήσεων, Εξυπηρέτηση Πελατών, Υπάλληλοι HORECA\n"
     ]
    },
    {
     "name": "stderr",
     "output_type": "stream",
     "text": [
      "\r",
      " 51%|█████     | 506/1000 [2:00:08<2:00:02, 14.58s/it]"
     ]
    },
    {
     "name": "stdout",
     "output_type": "stream",
     "text": [
      "Καθηγητής/τρια Μαθηματικών - Tutors Panaretos Educational Center\n",
      "titleofjob=Καθηγητής/τρια Μαθηματικών\n",
      "refernce_number=148219\n",
      "city=Λεμεσός\n",
      "date_posted=03/09/2021\n",
      "expire_date=24/09/2021\n",
      "views=147\n",
      "type_of_employment=Μερική\n",
      "employment_sector=Εκπαιδευτικά Κέντρα / Φροντιστήρια\n",
      "publisher=Ιδιωτική Εταιρεία (LTD)\n",
      "category=Καθηγητές / Ακαδημαϊκοί, Μαθηματικοί / Στατιστικολόγοι\n"
     ]
    },
    {
     "name": "stderr",
     "output_type": "stream",
     "text": [
      "\r",
      " 51%|█████     | 507/1000 [2:00:22<1:58:31, 14.43s/it]"
     ]
    },
    {
     "name": "stdout",
     "output_type": "stream",
     "text": [
      "Barista (Nicosia) - VOICI LA MODE GROUP\n",
      "titleofjob=Barista (Nicosia)\n",
      "refernce_number=148228\n",
      "city=Λευκωσία\n",
      "date_posted=03/09/2021\n",
      "expire_date=24/09/2021\n",
      "views=101\n",
      "type_of_employment=Πλήρη ή Μερική\n",
      "employment_sector=Εστιατόρια / Καφετέριες\n",
      "publisher=Ιδιωτική Εταιρεία (LTD)\n",
      "category=Υπάλληλοι HORECA, Σερβιτόροι, Baristas\n"
     ]
    },
    {
     "name": "stderr",
     "output_type": "stream",
     "text": [
      "\r",
      " 51%|█████     | 508/1000 [2:00:36<1:57:10, 14.29s/it]"
     ]
    },
    {
     "name": "stdout",
     "output_type": "stream",
     "text": [
      "Front Desk Administrator - ECASTICA SERVICED OFFICES LTD\n",
      "titleofjob=Front Desk Administrator\n",
      "refernce_number=148220\n",
      "city=Λεμεσός\n",
      "date_posted=03/09/2021\n",
      "expire_date=24/09/2021\n",
      "views=430\n",
      "type_of_employment=Πλήρης\n",
      "employment_sector=Μη διαθέσιμο\n",
      "publisher=Ιδιωτική Εταιρεία (LTD)\n",
      "category=Γραμματειακά, Διοίκηση επιχειρήσεων, Λογιστές, Χρηματοοικονομικά/Χρηματοπιστωτικά\n"
     ]
    },
    {
     "name": "stderr",
     "output_type": "stream",
     "text": [
      "\r",
      " 51%|█████     | 509/1000 [2:00:50<1:56:02, 14.18s/it]"
     ]
    },
    {
     "name": "stdout",
     "output_type": "stream",
     "text": [
      "Μάγειρες / Μαγείρισσες (Λευκωσία) - VOICI LA MODE GROUP\n",
      "titleofjob=Μάγειρες / Μαγείρισσες (Λευκωσία)\n",
      "refernce_number=148227\n",
      "city=Λευκωσία\n",
      "date_posted=03/09/2021\n",
      "expire_date=24/09/2021\n",
      "views=85\n",
      "type_of_employment=Πλήρης\n",
      "employment_sector=Εστιατόρια / Καφετέριες\n",
      "publisher=Ιδιωτική Εταιρεία (LTD)\n",
      "category=Υπάλληλοι HORECA, Μάγειρες / Ζαχαροπλάστες, Απόφοιτοι Ξενοδοχειακής Σχολής\n"
     ]
    },
    {
     "name": "stderr",
     "output_type": "stream",
     "text": [
      "\r",
      " 51%|█████     | 510/1000 [2:01:06<1:58:52, 14.56s/it]"
     ]
    },
    {
     "name": "stdout",
     "output_type": "stream",
     "text": [
      "Auditor - 2Plus Audit Ltd\n",
      "titleofjob=Auditor\n",
      "refernce_number=148225\n",
      "city=Λεμεσός\n",
      "date_posted=03/09/2021\n",
      "expire_date=24/09/2021\n",
      "views=184\n",
      "type_of_employment=Πλήρης\n",
      "employment_sector=Λογιστικά / Ελεγκτικά γραφεία\n",
      "publisher=Ιδιωτική Εταιρεία (LTD)\n",
      "category=Ελεγκτές, Χρηματοοικονομικά/Χρηματοπιστωτικά\n"
     ]
    },
    {
     "name": "stderr",
     "output_type": "stream",
     "text": [
      "\r",
      " 51%|█████     | 511/1000 [2:01:21<1:59:34, 14.67s/it]"
     ]
    },
    {
     "name": "stdout",
     "output_type": "stream",
     "text": [
      "Secretary - 2Plus Audit Ltd\n",
      "titleofjob=Secretary\n",
      "refernce_number=148224\n",
      "city=Λεμεσός\n",
      "date_posted=03/09/2021\n",
      "expire_date=24/09/2021\n",
      "views=385\n",
      "type_of_employment=Πλήρης\n",
      "employment_sector=Λογιστικά / Ελεγκτικά γραφεία\n",
      "publisher=Ιδιωτική Εταιρεία (LTD)\n",
      "category=Γραμματειακά\n"
     ]
    },
    {
     "name": "stderr",
     "output_type": "stream",
     "text": [
      "\r",
      " 51%|█████     | 512/1000 [2:01:35<1:58:00, 14.51s/it]"
     ]
    },
    {
     "name": "stdout",
     "output_type": "stream",
     "text": [
      "IT Support Officer (4908) - CareerFinders Recruitment Services Ltd\n",
      "titleofjob=IT Support Officer (4908)\n",
      "refernce_number=148223\n",
      "city=Λάρνακα\n",
      "date_posted=03/09/2021\n",
      "expire_date=24/09/2021\n",
      "views=134\n",
      "type_of_employment=Πλήρης\n",
      "employment_sector=Τράπεζες / Χρηματοπιστωτικά Ιδρύματα\n",
      "publisher=Ιδιωτική Εταιρεία (LTD)\n",
      "category=Πληροφορική\n"
     ]
    },
    {
     "name": "stderr",
     "output_type": "stream",
     "text": [
      "\r",
      " 51%|█████▏    | 513/1000 [2:01:49<1:56:24, 14.34s/it]"
     ]
    },
    {
     "name": "stdout",
     "output_type": "stream",
     "text": [
      "Σερβιτόροι / Σερβιτόρες - VOICI LA MODE GROUP\n",
      "titleofjob=Σερβιτόροι / Σερβιτόρες\n",
      "refernce_number=148222\n",
      "city=Λευκωσία\n",
      "date_posted=03/09/2021\n",
      "expire_date=24/09/2021\n",
      "views=109\n",
      "type_of_employment=Πλήρη ή Μερική\n",
      "employment_sector=Εστιατόρια / Καφετέριες\n",
      "publisher=Ιδιωτική Εταιρεία (LTD)\n",
      "category=Υπάλληλοι HORECA, Σερβιτόροι, Απόφοιτοι Ξενοδοχειακής Σχολής\n"
     ]
    },
    {
     "name": "stderr",
     "output_type": "stream",
     "text": [
      "\r",
      " 51%|█████▏    | 514/1000 [2:02:04<1:57:37, 14.52s/it]"
     ]
    },
    {
     "name": "stdout",
     "output_type": "stream",
     "text": [
      "Sales Assistants – MISSGUIDED - VOICI LA MODE GROUP\n",
      "titleofjob=Sales Assistants – MISSGUIDED\n",
      "refernce_number=148221\n",
      "city=Λευκωσία\n",
      "date_posted=03/09/2021\n",
      "expire_date=24/09/2021\n",
      "views=181\n",
      "type_of_employment=Μερική\n",
      "employment_sector=Λιανικό Εμπόριο\n",
      "publisher=Ιδιωτική Εταιρεία (LTD)\n",
      "category=Εξυπηρέτηση Πελατών, Υπεραγορές - Πολυκαταστήματα, Πωλητές - Καταστήματα\n"
     ]
    },
    {
     "name": "stderr",
     "output_type": "stream",
     "text": [
      "\r",
      " 52%|█████▏    | 515/1000 [2:02:21<2:02:59, 15.22s/it]"
     ]
    },
    {
     "name": "stdout",
     "output_type": "stream",
     "text": [
      "Boutique Manager - Vassos Eliades Ltd\n",
      "titleofjob=Boutique Manager\n",
      "refernce_number=148218\n",
      "city=Λευκωσία\n",
      "date_posted=03/09/2021\n",
      "expire_date=24/09/2021\n",
      "views=236\n",
      "type_of_employment=Πλήρης\n",
      "employment_sector=Λιανικό Εμπόριο\n",
      "publisher=Ιδιωτική Εταιρεία (LTD)\n",
      "category=Διοίκηση επιχειρήσεων, Εξυπηρέτηση Πελατών, Μάρκετινγκ / Δημόσιες Σχέσεις, Πωλητές - Καταστήματα, Απόφοιτοι Ξενοδοχειακής Σχολής\n"
     ]
    },
    {
     "name": "stderr",
     "output_type": "stream",
     "text": [
      "\r",
      " 52%|█████▏    | 516/1000 [2:02:35<2:00:13, 14.90s/it]"
     ]
    },
    {
     "name": "stdout",
     "output_type": "stream",
     "text": [
      "Βοηθός Οπτικού - TWENTY TWENTY OPTICAL\n",
      "titleofjob=Βοηθός Οπτικού\n",
      "refernce_number=148217\n",
      "city=Λευκωσία\n",
      "date_posted=03/09/2021\n",
      "expire_date=24/09/2021\n",
      "views=289\n",
      "type_of_employment=Πλήρης\n",
      "employment_sector=Λιανικό Εμπόριο\n",
      "publisher=Ιδιωτική Εταιρεία (LTD)\n",
      "category=Εξυπηρέτηση Πελατών, Πωλητές - Καταστήματα, Οπτικοί / Οπτικομέτρες\n"
     ]
    },
    {
     "name": "stderr",
     "output_type": "stream",
     "text": [
      "\r",
      " 52%|█████▏    | 517/1000 [2:02:49<1:57:14, 14.57s/it]"
     ]
    },
    {
     "name": "stdout",
     "output_type": "stream",
     "text": [
      "Διανομέας - Meat & More Select Ltd\n",
      "titleofjob=Διανομέας\n",
      "refernce_number=147707\n",
      "city=Λάρνακα\n",
      "date_posted=03/09/2021\n",
      "expire_date=24/09/2021\n",
      "views=653\n",
      "type_of_employment=Πλήρης\n",
      "employment_sector=Χοντρικό Εμπόριο\n",
      "publisher=Ιδιωτική Εταιρεία (LTD)\n",
      "category=Διανομείς\n"
     ]
    },
    {
     "name": "stderr",
     "output_type": "stream",
     "text": [
      "\r",
      " 52%|█████▏    | 518/1000 [2:03:02<1:54:29, 14.25s/it]"
     ]
    },
    {
     "name": "stdout",
     "output_type": "stream",
     "text": [
      "Διευθυντής/τρια Εστιατορίου - Burger King\n",
      "titleofjob=Διευθυντής/τρια Εστιατορίου\n",
      "refernce_number=148147\n",
      "city=Λεμεσός, Λευκωσία, Λάρνακα, Πάφος\n",
      "date_posted=03/09/2021\n",
      "expire_date=24/09/2021\n",
      "views=284\n",
      "type_of_employment=Πλήρης\n",
      "employment_sector=Εστιατόρια / Καφετέριες\n",
      "publisher=Ιδιωτική Εταιρεία (LTD)\n",
      "category=Διοίκηση επιχειρήσεων, Υπάλληλοι HORECA\n"
     ]
    },
    {
     "name": "stderr",
     "output_type": "stream",
     "text": [
      "\r",
      " 52%|█████▏    | 519/1000 [2:03:16<1:53:04, 14.10s/it]"
     ]
    },
    {
     "name": "stdout",
     "output_type": "stream",
     "text": [
      "Call Operator - PHC Franchised Restaurants Public Ltd\n",
      "titleofjob=Call Operator\n",
      "refernce_number=148216\n",
      "city=Λευκωσία\n",
      "date_posted=03/09/2021\n",
      "expire_date=24/09/2021\n",
      "views=200\n",
      "type_of_employment=Πλήρη ή Μερική\n",
      "employment_sector=Εστιατόρια / Καφετέριες\n",
      "publisher=Ιδιωτική Εταιρεία (LTD)\n",
      "category=Εξυπηρέτηση Πελατών, Τηλεφωνητές\n"
     ]
    },
    {
     "name": "stderr",
     "output_type": "stream",
     "text": [
      "\r",
      " 52%|█████▏    | 520/1000 [2:03:30<1:52:44, 14.09s/it]"
     ]
    },
    {
     "name": "stdout",
     "output_type": "stream",
     "text": [
      "Ηλεκτρολόγος Εγκαταστάτης/τρια - A.G. GREENERGY TECHNOLOGIES (CYPRUS) LTD\n",
      "titleofjob=Ηλεκτρολόγος Εγκαταστάτης/τρια\n",
      "refernce_number=148213\n",
      "city=Λευκωσία\n",
      "date_posted=03/09/2021\n",
      "expire_date=24/09/2021\n",
      "views=555\n",
      "type_of_employment=Πλήρης\n",
      "employment_sector=Ηλεκτρικές εγκαταστάσεις\n",
      "publisher=Ιδιωτική Εταιρεία (LTD)\n",
      "category=Ηλεκτρολόγοι\n"
     ]
    },
    {
     "name": "stderr",
     "output_type": "stream",
     "text": [
      "\r",
      " 52%|█████▏    | 521/1000 [2:03:45<1:54:17, 14.32s/it]"
     ]
    },
    {
     "name": "stdout",
     "output_type": "stream",
     "text": [
      "Restaurant General Manager - Pizza Hut\n",
      "titleofjob=Restaurant General Manager\n",
      "refernce_number=148215\n",
      "city=Λεμεσός, Λευκωσία, Λάρνακα, Πάφος, Αμμόχωστος\n",
      "date_posted=03/09/2021\n",
      "expire_date=24/09/2021\n",
      "views=284\n",
      "type_of_employment=Πλήρη ή Μερική\n",
      "employment_sector=Εστιατόρια / Καφετέριες\n",
      "publisher=Ιδιωτική Εταιρεία (LTD)\n",
      "category=Διοίκηση επιχειρήσεων, Εξυπηρέτηση Πελατών, Υπάλληλοι HORECA\n"
     ]
    },
    {
     "name": "stderr",
     "output_type": "stream",
     "text": [
      "\r",
      " 52%|█████▏    | 522/1000 [2:03:59<1:53:14, 14.21s/it]"
     ]
    },
    {
     "name": "stdout",
     "output_type": "stream",
     "text": [
      "Beauticians (Αισθητικοί) - MEDI JEUNESSE CYPRUS LTD\n",
      "titleofjob=Beauticians (Αισθητικοί)\n",
      "refernce_number=148214\n",
      "city=Λεμεσός, Λευκωσία\n",
      "date_posted=03/09/2021\n",
      "expire_date=24/09/2021\n",
      "views=145\n",
      "type_of_employment=Πλήρη ή Μερική\n",
      "employment_sector=Περιποίηση-Ομορφιά-Φυσική κατάσταση\n",
      "publisher=Ιδιωτική Εταιρεία (LTD)\n",
      "category=Αισθητικοί / Επαγγελματικό Μακιγιάζ\n"
     ]
    },
    {
     "name": "stderr",
     "output_type": "stream",
     "text": [
      "\r",
      " 52%|█████▏    | 523/1000 [2:04:13<1:53:11, 14.24s/it]"
     ]
    },
    {
     "name": "stdout",
     "output_type": "stream",
     "text": [
      "Office Manager - AAATrade Ltd\n",
      "titleofjob=Office Manager\n",
      "refernce_number=148212\n",
      "city=Λεμεσός\n",
      "date_posted=03/09/2021\n",
      "expire_date=24/09/2021\n",
      "views=341\n",
      "type_of_employment=Πλήρης\n",
      "employment_sector=Forex\n",
      "publisher=Ιδιωτική Εταιρεία (LTD)\n",
      "category=Γραμματειακά, Διοίκηση επιχειρήσεων, Forex\n"
     ]
    },
    {
     "name": "stderr",
     "output_type": "stream",
     "text": [
      "\r",
      " 52%|█████▏    | 524/1000 [2:04:27<1:51:22, 14.04s/it]"
     ]
    },
    {
     "name": "stdout",
     "output_type": "stream",
     "text": [
      "Πωλητές/ Πωλήτριες - HDT Sales and Marketing Ltd\n",
      "titleofjob=Πωλητές/ Πωλήτριες\n",
      "refernce_number=148210\n",
      "city=Λευκωσία\n",
      "date_posted=03/09/2021\n",
      "expire_date=13/09/2021\n",
      "views=173\n",
      "type_of_employment=Πλήρη ή Μερική\n",
      "employment_sector=Μάρκετινγκ / Διαφήμιση\n",
      "publisher=Ιδιωτική Εταιρεία (LTD)\n",
      "category=Μάρκετινγκ / Δημόσιες Σχέσεις, Πωλητές - Καταστήματα, Υπεύθυνοι Πωλήσεων\n"
     ]
    },
    {
     "name": "stderr",
     "output_type": "stream",
     "text": [
      "\r",
      " 52%|█████▎    | 525/1000 [2:04:40<1:50:46, 13.99s/it]"
     ]
    },
    {
     "name": "stdout",
     "output_type": "stream",
     "text": [
      "Secretary(Russian Speaking) - Blue Point Yachting\n",
      "titleofjob=Secretary(Russian Speaking)\n",
      "refernce_number=148211\n",
      "city=Λεμεσός\n",
      "date_posted=03/09/2021\n",
      "expire_date=24/09/2021\n",
      "views=224\n",
      "type_of_employment=Πλήρης\n",
      "employment_sector=Σκάφη\n",
      "publisher=Ιδιωτική Εταιρεία (LTD)\n",
      "category=Γραμματειακά, Εξυπηρέτηση Πελατών, Ρωσική γλώσσα\n"
     ]
    },
    {
     "name": "stderr",
     "output_type": "stream",
     "text": [
      "\r",
      " 53%|█████▎    | 526/1000 [2:04:55<1:51:57, 14.17s/it]"
     ]
    },
    {
     "name": "stdout",
     "output_type": "stream",
     "text": [
      "HR Manager - AAATrade Ltd\n",
      "titleofjob=HR Manager\n",
      "refernce_number=148209\n",
      "city=Λεμεσός\n",
      "date_posted=03/09/2021\n",
      "expire_date=24/09/2021\n",
      "views=271\n",
      "type_of_employment=Πλήρης\n",
      "employment_sector=Forex\n",
      "publisher=Ιδιωτική Εταιρεία (LTD)\n",
      "category=Ανθρώπινο Δυναμικό , Διοίκηση επιχειρήσεων, Forex, Χρηματοοικονομικά/Χρηματοπιστωτικά\n"
     ]
    },
    {
     "name": "stderr",
     "output_type": "stream",
     "text": [
      "\r",
      " 53%|█████▎    | 527/1000 [2:05:08<1:49:18, 13.87s/it]"
     ]
    },
    {
     "name": "stdout",
     "output_type": "stream",
     "text": [
      "Barista - Luluki Co. Ltd\n",
      "titleofjob=Barista\n",
      "refernce_number=148208\n",
      "city=Λευκωσία\n",
      "date_posted=03/09/2021\n",
      "expire_date=24/09/2021\n",
      "views=170\n",
      "type_of_employment=Πλήρη ή Μερική\n",
      "employment_sector=Εστιατόρια / Καφετέριες\n",
      "publisher=Ιδιωτική Εταιρεία (LTD)\n",
      "category=Εξυπηρέτηση Πελατών, Υπάλληλοι HORECA, Μάγειρες / Ζαχαροπλάστες, Baristas\n"
     ]
    },
    {
     "name": "stderr",
     "output_type": "stream",
     "text": [
      "\r",
      " 53%|█████▎    | 528/1000 [2:05:23<1:50:18, 14.02s/it]"
     ]
    },
    {
     "name": "stdout",
     "output_type": "stream",
     "text": [
      "Course Administrator - THE CYPRUS INTERNATIONAL INSTITUTE OF MANAGEMENT (CIIM)\n",
      "titleofjob=Course Administrator\n",
      "refernce_number=148207\n",
      "city=Λευκωσία\n",
      "date_posted=03/09/2021\n",
      "expire_date=13/09/2021\n",
      "views=745\n",
      "type_of_employment=Πλήρης\n",
      "employment_sector=Εκπαιδευτικά Κέντρα / Φροντιστήρια\n",
      "publisher=Πανεπιστήμιο / Εκπαιδευτικό Κέντρο\n",
      "category=Γραμματειακά, Εξυπηρέτηση Πελατών\n"
     ]
    },
    {
     "name": "stderr",
     "output_type": "stream",
     "text": [
      "\r",
      " 53%|█████▎    | 529/1000 [2:05:37<1:50:59, 14.14s/it]"
     ]
    },
    {
     "name": "stdout",
     "output_type": "stream",
     "text": [
      "Καθηγήτρια/της Φυσικής - Mathitiko Ergastiri\n",
      "titleofjob=Καθηγήτρια/της Φυσικής\n",
      "refernce_number=148205\n",
      "city=Λευκωσία\n",
      "date_posted=03/09/2021\n",
      "expire_date=24/09/2021\n",
      "views=371\n",
      "type_of_employment=Πλήρη ή Μερική\n",
      "employment_sector=Εκπαιδευτικά Κέντρα / Φροντιστήρια\n",
      "publisher=Πανεπιστήμιο / Εκπαιδευτικό Κέντρο\n",
      "category=Καθηγητές / Ακαδημαϊκοί, Φυσικοί\n"
     ]
    },
    {
     "name": "stderr",
     "output_type": "stream",
     "text": [
      "\r",
      " 53%|█████▎    | 530/1000 [2:05:51<1:51:20, 14.21s/it]"
     ]
    },
    {
     "name": "stdout",
     "output_type": "stream",
     "text": [
      "Junior Reconciliation Officer - Capital Com SV Investments Ltd\n",
      "titleofjob=Junior Reconciliation Officer\n",
      "refernce_number=148201\n",
      "city=Λεμεσός\n",
      "date_posted=03/09/2021\n",
      "expire_date=24/09/2021\n",
      "views=227\n",
      "type_of_employment=Πλήρης\n",
      "employment_sector=Forex\n",
      "publisher=Ιδιωτική Εταιρεία (LTD)\n",
      "category=Λογιστές, Forex\n"
     ]
    },
    {
     "name": "stderr",
     "output_type": "stream",
     "text": [
      "\r",
      " 53%|█████▎    | 531/1000 [2:06:06<1:51:59, 14.33s/it]"
     ]
    },
    {
     "name": "stdout",
     "output_type": "stream",
     "text": [
      "Software Systems Analyst, Nicosia – SSA/06/21 - Human Asset Ltd\n",
      "titleofjob=Software Systems Analyst, Nicosia – SSA/06/21\n",
      "refernce_number=148204\n",
      "city=Λευκωσία\n",
      "date_posted=03/09/2021\n",
      "expire_date=14/09/2021\n",
      "views=107\n",
      "type_of_employment=Πλήρης\n",
      "employment_sector=Ασφαλιστικές εταιρείες\n",
      "publisher=Ιδιωτική Εταιρεία (LTD)\n",
      "category=Πληροφορική\n"
     ]
    },
    {
     "name": "stderr",
     "output_type": "stream",
     "text": [
      "\r",
      " 53%|█████▎    | 532/1000 [2:06:19<1:49:44, 14.07s/it]"
     ]
    },
    {
     "name": "stdout",
     "output_type": "stream",
     "text": [
      "HR / Crewing Officer - River Catering Ltd\n",
      "titleofjob=HR / Crewing Officer\n",
      "refernce_number=148203\n",
      "city=Λεμεσός\n",
      "date_posted=03/09/2021\n",
      "expire_date=24/09/2021\n",
      "views=329\n",
      "type_of_employment=Πλήρης\n",
      "employment_sector=Βιομηχανίες\n",
      "publisher=Ιδιωτική Εταιρεία (LTD)\n",
      "category=Ανθρώπινο Δυναμικό , Διοίκηση επιχειρήσεων, Ναυτιλιακά\n"
     ]
    },
    {
     "name": "stderr",
     "output_type": "stream",
     "text": [
      "\r",
      " 53%|█████▎    | 533/1000 [2:06:35<1:52:28, 14.45s/it]"
     ]
    },
    {
     "name": "stdout",
     "output_type": "stream",
     "text": [
      "Λειτουργός Τηλεφωνικού Κέντρου (After-sales Customer Service) - ITC PUBLICWORLD LTD\n",
      "titleofjob=Λειτουργός Τηλεφωνικού Κέντρου (After-sales Customer Service)\n",
      "refernce_number=148206\n",
      "city=Λευκωσία\n",
      "date_posted=03/09/2021\n",
      "expire_date=24/09/2021\n",
      "views=234\n",
      "type_of_employment=Πλήρης\n",
      "employment_sector=Λιανικό Εμπόριο\n",
      "publisher=Ιδιωτική Εταιρεία (LTD)\n",
      "category=Εξυπηρέτηση Πελατών, Τηλεφωνητές\n"
     ]
    },
    {
     "name": "stderr",
     "output_type": "stream",
     "text": [
      "\r",
      " 53%|█████▎    | 534/1000 [2:06:50<1:54:33, 14.75s/it]"
     ]
    },
    {
     "name": "stdout",
     "output_type": "stream",
     "text": [
      "IT Server Engineer - Acenetworks\n",
      "titleofjob=IT Server Engineer\n",
      "refernce_number=148202\n",
      "city=Λεμεσός\n",
      "date_posted=03/09/2021\n",
      "expire_date=24/09/2021\n",
      "views=144\n",
      "type_of_employment=Πλήρης\n",
      "employment_sector=Πληροφορική\n",
      "publisher=Ιδιωτική Εταιρεία (LTD)\n",
      "category=Πληροφορική\n"
     ]
    },
    {
     "name": "stderr",
     "output_type": "stream",
     "text": [
      "\r",
      " 54%|█████▎    | 535/1000 [2:07:03<1:50:18, 14.23s/it]"
     ]
    },
    {
     "name": "stdout",
     "output_type": "stream",
     "text": [
      "Barista - More Blue Trading LTD\n",
      "titleofjob=Barista\n",
      "refernce_number=148200\n",
      "city=Λευκωσία\n",
      "date_posted=03/09/2021\n",
      "expire_date=24/09/2021\n",
      "views=99\n",
      "type_of_employment=Μερική\n",
      "employment_sector=Εστιατόρια / Καφετέριες\n",
      "publisher=Ιδιωτική Εταιρεία (LTD)\n",
      "category=Υπάλληλοι HORECA, Baristas\n"
     ]
    },
    {
     "name": "stderr",
     "output_type": "stream",
     "text": [
      "\r",
      " 54%|█████▎    | 536/1000 [2:07:17<1:48:52, 14.08s/it]"
     ]
    },
    {
     "name": "stdout",
     "output_type": "stream",
     "text": [
      "Presales Consultant, Nicosia - PS/08/21 - Human Asset Ltd\n",
      "titleofjob=Presales Consultant, Nicosia - PS/08/21\n",
      "refernce_number=148187\n",
      "city=Λευκωσία\n",
      "date_posted=03/09/2021\n",
      "expire_date=07/09/2021\n",
      "views=106\n",
      "type_of_employment=Πλήρης\n",
      "employment_sector=Πληροφορική\n",
      "publisher=Ιδιωτική Εταιρεία (LTD)\n",
      "category=Πληροφορική\n"
     ]
    },
    {
     "name": "stderr",
     "output_type": "stream",
     "text": [
      "\r",
      " 54%|█████▎    | 537/1000 [2:07:31<1:47:43, 13.96s/it]"
     ]
    },
    {
     "name": "stdout",
     "output_type": "stream",
     "text": [
      "Δασκάλα/ος - Ιδιωτικό Φροντιστήριο Υπέρβαση\n",
      "titleofjob=Δασκάλα/ος\n",
      "refernce_number=148199\n",
      "city=Λεμεσός\n",
      "date_posted=03/09/2021\n",
      "expire_date=24/09/2021\n",
      "views=272\n",
      "type_of_employment=Πλήρης\n",
      "employment_sector=Εκπαιδευτικά Κέντρα / Φροντιστήρια\n",
      "publisher=Κρατικός οργανισμός\n",
      "category=Δάσκαλοι\n"
     ]
    },
    {
     "name": "stderr",
     "output_type": "stream",
     "text": [
      "\r",
      " 54%|█████▍    | 538/1000 [2:07:45<1:48:18, 14.07s/it]"
     ]
    },
    {
     "name": "stdout",
     "output_type": "stream",
     "text": [
      "Συσκευαστής/ρια Παραγγελιών (Απογευματινή Βάρδια) - CPL Co-Pharm Ltd\n",
      "titleofjob=Συσκευαστής/ρια Παραγγελιών (Απογευματινή Βάρδια)\n",
      "refernce_number=148190\n",
      "city=Πάφος\n",
      "date_posted=03/09/2021\n",
      "expire_date=24/09/2021\n",
      "views=402\n",
      "type_of_employment=Πλήρης\n",
      "employment_sector=Χοντρικό Εμπόριο\n",
      "publisher=Ιδιωτική Εταιρεία (LTD)\n",
      "category=Αποθηκάριοι, Εργάτες Παραγωγής / Συσκευασίας\n"
     ]
    },
    {
     "name": "stderr",
     "output_type": "stream",
     "text": [
      "\r",
      " 54%|█████▍    | 539/1000 [2:07:59<1:48:28, 14.12s/it]"
     ]
    },
    {
     "name": "stdout",
     "output_type": "stream",
     "text": [
      "Ανειδίκευτοι/ες Eργάτες/τριες - A. C. Technometal Ltd\n",
      "titleofjob=Ανειδίκευτοι/ες Eργάτες/τριες\n",
      "refernce_number=148189\n",
      "city=Λευκωσία\n",
      "date_posted=03/09/2021\n",
      "expire_date=24/09/2021\n",
      "views=887\n",
      "type_of_employment=Πλήρης\n",
      "employment_sector=Εργοληπτικές εταιρείες\n",
      "publisher=Ιδιωτική Εταιρεία (LTD)\n",
      "category=Εργάτες - Τεχνίτες\n"
     ]
    },
    {
     "name": "stderr",
     "output_type": "stream",
     "text": [
      "\r",
      " 54%|█████▍    | 540/1000 [2:08:14<1:49:54, 14.34s/it]"
     ]
    },
    {
     "name": "stdout",
     "output_type": "stream",
     "text": [
      "System Administrator / Modern Workplace Specialist (Dual Role) - Chrisons Co. Ltd\n",
      "titleofjob=System Administrator / Modern Workplace Specialist (Dual Role)\n",
      "refernce_number=148134\n",
      "city=Λεμεσός\n",
      "date_posted=03/09/2021\n",
      "expire_date=24/09/2021\n",
      "views=162\n",
      "type_of_employment=Πλήρης\n",
      "employment_sector=Πληροφορική\n",
      "publisher=Ιδιωτική Εταιρεία (LTD)\n",
      "category=Πληροφορική\n"
     ]
    },
    {
     "name": "stderr",
     "output_type": "stream",
     "text": [
      "\r",
      " 54%|█████▍    | 541/1000 [2:08:29<1:49:57, 14.37s/it]"
     ]
    },
    {
     "name": "stdout",
     "output_type": "stream",
     "text": [
      "Υπεύθυνος/η Βάρδιας (Shift Supervisor) - More Blue Trading LTD\n",
      "titleofjob=Υπεύθυνος/η Βάρδιας (Shift Supervisor)\n",
      "refernce_number=148198\n",
      "city=Λευκωσία\n",
      "date_posted=03/09/2021\n",
      "expire_date=24/09/2021\n",
      "views=202\n",
      "type_of_employment=Πλήρη ή Μερική\n",
      "employment_sector=Εστιατόρια / Καφετέριες\n",
      "publisher=Ιδιωτική Εταιρεία (LTD)\n",
      "category=Εξυπηρέτηση Πελατών, Υπάλληλοι HORECA, Baristas\n"
     ]
    },
    {
     "name": "stderr",
     "output_type": "stream",
     "text": [
      "\r",
      " 54%|█████▍    | 542/1000 [2:08:43<1:50:57, 14.54s/it]"
     ]
    },
    {
     "name": "stdout",
     "output_type": "stream",
     "text": [
      "Networking Engineer, Cyprus – NEC/08/21 - Human Asset Ltd\n",
      "titleofjob=Networking Engineer, Cyprus – NEC/08/21\n",
      "refernce_number=148184\n",
      "city=Λεμεσός, Λευκωσία\n",
      "date_posted=03/09/2021\n",
      "expire_date=07/09/2021\n",
      "views=191\n",
      "type_of_employment=Πλήρης\n",
      "employment_sector=Πληροφορική\n",
      "publisher=Ιδιωτική Εταιρεία (LTD)\n",
      "category=Πληροφορική, Ηλεκτρολόγοι Μηχανικοί\n"
     ]
    },
    {
     "name": "stderr",
     "output_type": "stream",
     "text": [
      "\r",
      " 54%|█████▍    | 543/1000 [2:08:57<1:49:34, 14.39s/it]"
     ]
    },
    {
     "name": "stdout",
     "output_type": "stream",
     "text": [
      "Junior Legal Assistant - VOLKA Entertainment Ltd\n",
      "titleofjob=Junior Legal Assistant\n",
      "refernce_number=148196\n",
      "city=Λεμεσός\n",
      "date_posted=03/09/2021\n",
      "expire_date=24/09/2021\n",
      "views=252\n",
      "type_of_employment=Πλήρης\n",
      "employment_sector=Μη διαθέσιμο\n",
      "publisher=Ιδιωτική Εταιρεία (LTD)\n",
      "category=Δικηγόροι\n"
     ]
    },
    {
     "name": "stderr",
     "output_type": "stream",
     "text": [
      "\r",
      " 54%|█████▍    | 544/1000 [2:09:12<1:48:53, 14.33s/it]"
     ]
    },
    {
     "name": "stdout",
     "output_type": "stream",
     "text": [
      "Υπεύθυνος/η Διασφάλισης Ποιότητας - Orphanos Group\n",
      "titleofjob=Υπεύθυνος/η Διασφάλισης Ποιότητας\n",
      "refernce_number=148182\n",
      "city=Λεμεσός\n",
      "date_posted=03/09/2021\n",
      "expire_date=24/09/2021\n",
      "views=427\n",
      "type_of_employment=Πλήρη ή Μερική\n",
      "employment_sector=Νοσοκομεία / Κλινικές\n",
      "publisher=Ιδιωτική Εταιρεία (LTD)\n",
      "category=Λειτουργοί Υγείας και Ασφάλειας\n"
     ]
    },
    {
     "name": "stderr",
     "output_type": "stream",
     "text": [
      "\r",
      " 55%|█████▍    | 545/1000 [2:09:25<1:47:00, 14.11s/it]"
     ]
    },
    {
     "name": "stdout",
     "output_type": "stream",
     "text": [
      "Office Administrator, Larnaca – OA/08/21 - Human Asset Ltd\n",
      "titleofjob=Office Administrator, Larnaca – OA/08/21\n",
      "refernce_number=148180\n",
      "city=Λάρνακα\n",
      "date_posted=03/09/2021\n",
      "expire_date=07/09/2021\n",
      "views=511\n",
      "type_of_employment=Πλήρης\n",
      "employment_sector=Δόμηση / Κατασκεύες\n",
      "publisher=Ιδιωτική Εταιρεία (LTD)\n",
      "category=Γραμματειακά, Διοίκηση επιχειρήσεων, Εξυπηρέτηση Πελατών\n"
     ]
    },
    {
     "name": "stderr",
     "output_type": "stream",
     "text": [
      "\r",
      " 55%|█████▍    | 546/1000 [2:09:40<1:48:12, 14.30s/it]"
     ]
    },
    {
     "name": "stdout",
     "output_type": "stream",
     "text": [
      "Experienced Ships Payroll Officer - Sea Chefs Cruises Ltd\n",
      "titleofjob=Experienced Ships Payroll Officer\n",
      "refernce_number=148194\n",
      "city=Λεμεσός\n",
      "date_posted=03/09/2021\n",
      "expire_date=17/09/2021\n",
      "views=246\n",
      "type_of_employment=Πλήρης\n",
      "employment_sector=Ναυτιλιακές Εταιρείες\n",
      "publisher=Ιδιωτική Εταιρεία (LTD)\n",
      "category=Διοίκηση επιχειρήσεων, Λογιστές, Ναυτιλιακά, Χρηματοοικονομικά/Χρηματοπιστωτικά\n"
     ]
    },
    {
     "name": "stderr",
     "output_type": "stream",
     "text": [
      "\r",
      " 55%|█████▍    | 547/1000 [2:09:55<1:49:25, 14.49s/it]"
     ]
    },
    {
     "name": "stdout",
     "output_type": "stream",
     "text": [
      "Βοηθός Λογιστηρίου - Orphanos Group\n",
      "titleofjob=Βοηθός Λογιστηρίου\n",
      "refernce_number=148178\n",
      "city=Λεμεσός\n",
      "date_posted=03/09/2021\n",
      "expire_date=24/09/2021\n",
      "views=402\n",
      "type_of_employment=Πλήρης\n",
      "employment_sector=Νοσοκομεία / Κλινικές\n",
      "publisher=Ιδιωτική Εταιρεία (LTD)\n",
      "category=Λογιστές, Χρηματοοικονομικά/Χρηματοπιστωτικά\n"
     ]
    },
    {
     "name": "stderr",
     "output_type": "stream",
     "text": [
      "\r",
      " 55%|█████▍    | 548/1000 [2:10:09<1:47:51, 14.32s/it]"
     ]
    },
    {
     "name": "stdout",
     "output_type": "stream",
     "text": [
      "Ταμίας - Skopeftiki Organosi Lemesou\n",
      "titleofjob=Ταμίας\n",
      "refernce_number=147930\n",
      "city=Λεμεσός\n",
      "date_posted=03/09/2021\n",
      "expire_date=24/09/2021\n",
      "views=344\n",
      "type_of_employment=Πλήρη ή Μερική\n",
      "employment_sector=Μη διαθέσιμο\n",
      "publisher=Μη κερδοσκοπικός οργανισμός\n",
      "category=Εξυπηρέτηση Πελατών, Ταμίες\n"
     ]
    },
    {
     "name": "stderr",
     "output_type": "stream",
     "text": [
      "\r",
      " 55%|█████▍    | 549/1000 [2:10:22<1:44:56, 13.96s/it]"
     ]
    },
    {
     "name": "stdout",
     "output_type": "stream",
     "text": [
      "Δικηγόρος / Lawyer - Michael Panayides Law Firm\n",
      "titleofjob=Δικηγόρος / Lawyer\n",
      "refernce_number=148163\n",
      "city=Λεμεσός\n",
      "date_posted=03/09/2021\n",
      "expire_date=24/09/2021\n",
      "views=261\n",
      "type_of_employment=Πλήρη ή Μερική\n",
      "employment_sector=Δικηγορικά γραφεία\n",
      "publisher=Φυσικό Πρόσωπο\n",
      "category=Δικηγόροι\n"
     ]
    },
    {
     "name": "stderr",
     "output_type": "stream",
     "text": [
      "\r",
      " 55%|█████▌    | 550/1000 [2:10:36<1:44:43, 13.96s/it]"
     ]
    },
    {
     "name": "stdout",
     "output_type": "stream",
     "text": [
      "Μηχανολόγος Μηχανικός - SM Aluminium Creations Ltd\n",
      "titleofjob=Μηχανολόγος Μηχανικός\n",
      "refernce_number=148162\n",
      "city=Λευκωσία\n",
      "date_posted=03/09/2021\n",
      "expire_date=24/09/2021\n",
      "views=675\n",
      "type_of_employment=Πλήρης\n",
      "employment_sector=Δόμηση / Κατασκεύες\n",
      "publisher=Ιδιωτική Εταιρεία (LTD)\n",
      "category=Μηχανολόγοι Μηχανικοί\n"
     ]
    },
    {
     "name": "stderr",
     "output_type": "stream",
     "text": [
      "\r",
      " 55%|█████▌    | 551/1000 [2:10:51<1:46:39, 14.25s/it]"
     ]
    },
    {
     "name": "stdout",
     "output_type": "stream",
     "text": [
      "Deputy Head – Financial Services Registration - MGR Human Resources Ltd\n",
      "titleofjob=Deputy Head – Financial Services Registration\n",
      "refernce_number=148151\n",
      "city=Λευκωσία\n",
      "date_posted=03/09/2021\n",
      "expire_date=08/09/2021\n",
      "views=271\n",
      "type_of_employment=Πλήρης\n",
      "employment_sector=Σύμβουλοι Επιχειρήσεων\n",
      "publisher=Ιδιωτική Εταιρεία (LTD)\n",
      "category=Διοίκηση επιχειρήσεων, Λογιστές, Μαθηματικοί / Στατιστικολόγοι, Δικηγόροι, Οικονομολόγοι, Χρηματοοικονομικά/Χρηματοπιστωτικά\n"
     ]
    },
    {
     "name": "stderr",
     "output_type": "stream",
     "text": [
      "\r",
      " 55%|█████▌    | 552/1000 [2:11:05<1:45:10, 14.09s/it]"
     ]
    },
    {
     "name": "stdout",
     "output_type": "stream",
     "text": [
      "Δάσκαλος / Δασκάλα - Solo Mind Λεμεσός, Τσιρείου\n",
      "titleofjob=Δάσκαλος / Δασκάλα\n",
      "refernce_number=148161\n",
      "city=Λεμεσός\n",
      "date_posted=03/09/2021\n",
      "expire_date=24/09/2021\n",
      "views=242\n",
      "type_of_employment=Πλήρη ή Μερική\n",
      "employment_sector=Εκπαιδευτικά Κέντρα / Φροντιστήρια\n",
      "publisher=Ιδιωτική Εταιρεία (LTD)\n",
      "category=Δάσκαλοι\n"
     ]
    },
    {
     "name": "stderr",
     "output_type": "stream",
     "text": [
      "\r",
      " 55%|█████▌    | 553/1000 [2:11:19<1:46:11, 14.25s/it]"
     ]
    },
    {
     "name": "stdout",
     "output_type": "stream",
     "text": [
      "Office Administrator - WCS Worldwide Corporate Services Ltd\n",
      "titleofjob=Office Administrator\n",
      "refernce_number=148150\n",
      "city=Λεμεσός\n",
      "date_posted=03/09/2021\n",
      "expire_date=24/09/2021\n",
      "views=366\n",
      "type_of_employment=Πλήρης\n",
      "employment_sector=Λογιστικά / Ελεγκτικά γραφεία\n",
      "publisher=Ιδιωτική Εταιρεία (LTD)\n",
      "category=Γραμματειακά, Διοίκηση επιχειρήσεων, Ρωσική γλώσσα\n"
     ]
    },
    {
     "name": "stderr",
     "output_type": "stream",
     "text": [
      "\r",
      " 55%|█████▌    | 554/1000 [2:11:34<1:46:54, 14.38s/it]"
     ]
    },
    {
     "name": "stdout",
     "output_type": "stream",
     "text": [
      "Καθηγητές/τριες Αγγλικής Φιλολογίας - Ιδιωτικό Φροντιστήριο Σύγχρονη Μάθηση\n",
      "titleofjob=Καθηγητές/τριες Αγγλικής Φιλολογίας\n",
      "refernce_number=148160\n",
      "city=Λευκωσία\n",
      "date_posted=03/09/2021\n",
      "expire_date=24/09/2021\n",
      "views=145\n",
      "type_of_employment=Πλήρη ή Μερική\n",
      "employment_sector=Εκπαιδευτικά Κέντρα / Φροντιστήρια\n",
      "publisher=Ιδιωτική Εταιρεία (LTD)\n",
      "category=Καθηγητές / Ακαδημαϊκοί, Ξένες Γλώσσες / Μεταφραστές\n"
     ]
    },
    {
     "name": "stderr",
     "output_type": "stream",
     "text": [
      "\r",
      " 56%|█████▌    | 555/1000 [2:11:48<1:45:12, 14.18s/it]"
     ]
    },
    {
     "name": "stdout",
     "output_type": "stream",
     "text": [
      "Καθηγητές/τριες Μαθηματικών - Ιδιωτικό Φροντιστήριο Σύγχρονη Μάθηση\n",
      "titleofjob=Καθηγητές/τριες Μαθηματικών\n",
      "refernce_number=148159\n",
      "city=Λευκωσία\n",
      "date_posted=03/09/2021\n",
      "expire_date=24/09/2021\n",
      "views=94\n",
      "type_of_employment=Πλήρη ή Μερική\n",
      "employment_sector=Εκπαιδευτικά Κέντρα / Φροντιστήρια\n",
      "publisher=Ιδιωτική Εταιρεία (LTD)\n",
      "category=Καθηγητές / Ακαδημαϊκοί, Μαθηματικοί / Στατιστικολόγοι\n"
     ]
    },
    {
     "name": "stderr",
     "output_type": "stream",
     "text": [
      "\r",
      " 56%|█████▌    | 556/1000 [2:12:03<1:47:26, 14.52s/it]"
     ]
    },
    {
     "name": "stdout",
     "output_type": "stream",
     "text": [
      "Accountant - ICAP People Solutions\n",
      "titleofjob=Accountant\n",
      "refernce_number=148149\n",
      "city=Λεμεσός\n",
      "date_posted=03/09/2021\n",
      "expire_date=24/09/2021\n",
      "views=161\n",
      "type_of_employment=Πλήρης\n",
      "employment_sector=Λογιστικά / Ελεγκτικά γραφεία\n",
      "publisher=Ιδιωτική Εταιρεία (LTD)\n",
      "category=Λογιστές, Χρηματοοικονομικά/Χρηματοπιστωτικά\n"
     ]
    },
    {
     "name": "stderr",
     "output_type": "stream",
     "text": [
      "\r",
      " 56%|█████▌    | 557/1000 [2:12:16<1:44:34, 14.16s/it]"
     ]
    },
    {
     "name": "stdout",
     "output_type": "stream",
     "text": [
      "Υπάλληλος Παγωταρίας - PSDA LIMITED\n",
      "titleofjob=Υπάλληλος Παγωταρίας\n",
      "refernce_number=148148\n",
      "city=Λευκωσία\n",
      "date_posted=03/09/2021\n",
      "expire_date=24/09/2021\n",
      "views=779\n",
      "type_of_employment=Πλήρης\n",
      "employment_sector=Εστιατόρια / Καφετέριες\n",
      "publisher=Ιδιωτική Εταιρεία (LTD)\n",
      "category=Εξυπηρέτηση Πελατών, Υπάλληλοι HORECA, Baristas\n"
     ]
    },
    {
     "name": "stderr",
     "output_type": "stream",
     "text": [
      "\r",
      " 56%|█████▌    | 558/1000 [2:12:30<1:43:32, 14.05s/it]"
     ]
    },
    {
     "name": "stdout",
     "output_type": "stream",
     "text": [
      "Πωλητές/Πωλήτριες - 360 Chartered PR Consultants\n",
      "titleofjob=Πωλητές/Πωλήτριες\n",
      "refernce_number=148157\n",
      "city=Λεμεσός\n",
      "date_posted=03/09/2021\n",
      "expire_date=24/09/2021\n",
      "views=185\n",
      "type_of_employment=Πλήρης\n",
      "employment_sector=Αρτοποιεία - Ζαχαροπλαστεία\n",
      "publisher=Ιδιωτική Εταιρεία (LTD)\n",
      "category=Εξυπηρέτηση Πελατών, Ταμίες, Πωλητές - Καταστήματα\n"
     ]
    },
    {
     "name": "stderr",
     "output_type": "stream",
     "text": [
      "\r",
      " 56%|█████▌    | 559/1000 [2:12:45<1:44:08, 14.17s/it]"
     ]
    },
    {
     "name": "stdout",
     "output_type": "stream",
     "text": [
      "Baristas - Coffeehouse Tastehabitat\n",
      "titleofjob=Baristas\n",
      "refernce_number=148156\n",
      "city=Λεμεσός\n",
      "date_posted=03/09/2021\n",
      "expire_date=24/09/2021\n",
      "views=94\n",
      "type_of_employment=Πλήρη ή Μερική\n",
      "employment_sector=Εστιατόρια / Καφετέριες\n",
      "publisher=Ιδιωτική Εταιρεία (LTD)\n",
      "category=Υπάλληλοι HORECA, Baristas\n"
     ]
    },
    {
     "name": "stderr",
     "output_type": "stream",
     "text": [
      "\r",
      " 56%|█████▌    | 560/1000 [2:12:59<1:44:44, 14.28s/it]"
     ]
    },
    {
     "name": "stdout",
     "output_type": "stream",
     "text": [
      "Director of Business Development & HR - The Cyprus Institute of Marketing (CIM)\n",
      "titleofjob=Director of Business Development & HR\n",
      "refernce_number=148195\n",
      "city=Λευκωσία\n",
      "date_posted=03/09/2021\n",
      "expire_date=24/09/2021\n",
      "views=400\n",
      "type_of_employment=Πλήρης\n",
      "employment_sector=Εκπαιδευτικά Κέντρα / Φροντιστήρια\n",
      "publisher=Πανεπιστήμιο / Εκπαιδευτικό Κέντρο\n",
      "category=Ανθρώπινο Δυναμικό , Διοίκηση επιχειρήσεων, Μάρκετινγκ / Δημόσιες Σχέσεις\n"
     ]
    },
    {
     "name": "stderr",
     "output_type": "stream",
     "text": [
      "\r",
      " 56%|█████▌    | 561/1000 [2:13:14<1:45:49, 14.46s/it]"
     ]
    },
    {
     "name": "stdout",
     "output_type": "stream",
     "text": [
      "Marketing & Sales Manager - eBOS Technologies Ltd\n",
      "titleofjob=Marketing & Sales Manager\n",
      "refernce_number=148146\n",
      "city=Λευκωσία\n",
      "date_posted=03/09/2021\n",
      "expire_date=24/09/2021\n",
      "views=173\n",
      "type_of_employment=Πλήρης\n",
      "employment_sector=Πληροφορική\n",
      "publisher=Ιδιωτική Εταιρεία (LTD)\n",
      "category=Μάρκετινγκ / Δημόσιες Σχέσεις, Υπεύθυνοι Πωλήσεων\n"
     ]
    },
    {
     "name": "stderr",
     "output_type": "stream",
     "text": [
      "\r",
      " 56%|█████▌    | 562/1000 [2:13:29<1:45:56, 14.51s/it]"
     ]
    },
    {
     "name": "stdout",
     "output_type": "stream",
     "text": [
      "Barista - Compulsiro Holdings Ltd\n",
      "titleofjob=Barista\n",
      "refernce_number=148154\n",
      "city=Λευκωσία\n",
      "date_posted=03/09/2021\n",
      "expire_date=24/09/2021\n",
      "views=65\n",
      "type_of_employment=Πλήρης\n",
      "employment_sector=Εστιατόρια / Καφετέριες\n",
      "publisher=Ιδιωτική Εταιρεία (LTD)\n",
      "category=Υπάλληλοι HORECA, Baristas\n"
     ]
    },
    {
     "name": "stderr",
     "output_type": "stream",
     "text": [
      "\r",
      " 56%|█████▋    | 563/1000 [2:13:45<1:50:17, 15.14s/it]"
     ]
    },
    {
     "name": "stdout",
     "output_type": "stream",
     "text": [
      "VCMO Officer (German Speaking) - Monlinks Services Ltd.\n",
      "titleofjob=VCMO Officer (German Speaking)\n",
      "refernce_number=148145\n",
      "city=Λεμεσός\n",
      "date_posted=03/09/2021\n",
      "expire_date=24/09/2021\n",
      "views=143\n",
      "type_of_employment=Πλήρης\n",
      "employment_sector=Forex\n",
      "publisher=Ιδιωτική Εταιρεία (LTD)\n",
      "category=Διοίκηση επιχειρήσεων, Δικηγόροι, Ξένες Γλώσσες / Μεταφραστές, Οικονομολόγοι, Forex, Χρηματοοικονομικά/Χρηματοπιστωτικά\n"
     ]
    },
    {
     "name": "stderr",
     "output_type": "stream",
     "text": [
      "\r",
      " 56%|█████▋    | 564/1000 [2:13:58<1:44:28, 14.38s/it]"
     ]
    },
    {
     "name": "stdout",
     "output_type": "stream",
     "text": [
      "Βοηθός Αποθήκης - Domochemica\n",
      "titleofjob=Βοηθός Αποθήκης\n",
      "refernce_number=148153\n",
      "city=Λεμεσός\n",
      "date_posted=03/09/2021\n",
      "expire_date=24/09/2021\n",
      "views=364\n",
      "type_of_employment=Πλήρης\n",
      "employment_sector=Οικοδομικά υλικά\n",
      "publisher=Ιδιωτική Εταιρεία (LTD)\n",
      "category=Αποθηκάριοι, Εργάτες - Τεχνίτες\n"
     ]
    },
    {
     "name": "stderr",
     "output_type": "stream",
     "text": [
      "\r",
      " 56%|█████▋    | 565/1000 [2:14:12<1:44:49, 14.46s/it]"
     ]
    },
    {
     "name": "stdout",
     "output_type": "stream",
     "text": [
      "Sales Administrator - Financial Technology - MGR Human Resources Ltd\n",
      "titleofjob=Sales Administrator - Financial Technology\n",
      "refernce_number=148152\n",
      "city=Λεμεσός\n",
      "date_posted=03/09/2021\n",
      "expire_date=08/09/2021\n",
      "views=112\n",
      "type_of_employment=Πλήρης\n",
      "employment_sector=Σύμβουλοι Επιχειρήσεων\n",
      "publisher=Ιδιωτική Εταιρεία (LTD)\n",
      "category=Διοίκηση επιχειρήσεων, Υπεύθυνοι Πωλήσεων, Χρηματοοικονομικά/Χρηματοπιστωτικά\n"
     ]
    },
    {
     "name": "stderr",
     "output_type": "stream",
     "text": [
      "\r",
      " 57%|█████▋    | 566/1000 [2:14:26<1:42:20, 14.15s/it]"
     ]
    },
    {
     "name": "stdout",
     "output_type": "stream",
     "text": [
      "Πωλήτριες/Πωλητές - Mikael Trading Co Ltd\n",
      "titleofjob=Πωλήτριες/Πωλητές\n",
      "refernce_number=148143\n",
      "city=Λευκωσία, Πάφος\n",
      "date_posted=03/09/2021\n",
      "expire_date=24/09/2021\n",
      "views=320\n",
      "type_of_employment=Πλήρη ή Μερική\n",
      "employment_sector=Λιανικό Εμπόριο\n",
      "publisher=Ιδιωτική Εταιρεία (LTD)\n",
      "category=Πωλητές - Καταστήματα\n"
     ]
    },
    {
     "name": "stderr",
     "output_type": "stream",
     "text": [
      "\r",
      " 57%|█████▋    | 567/1000 [2:14:40<1:42:45, 14.24s/it]"
     ]
    },
    {
     "name": "stdout",
     "output_type": "stream",
     "text": [
      "Campaign Manager - Monlinks Services Ltd.\n",
      "titleofjob=Campaign Manager\n",
      "refernce_number=148142\n",
      "city=Λεμεσός\n",
      "date_posted=03/09/2021\n",
      "expire_date=24/09/2021\n",
      "views=153\n",
      "type_of_employment=Πλήρης\n",
      "employment_sector=Forex\n",
      "publisher=Ιδιωτική Εταιρεία (LTD)\n",
      "category=Μάρκετινγκ / Δημόσιες Σχέσεις, Forex\n"
     ]
    },
    {
     "name": "stderr",
     "output_type": "stream",
     "text": [
      "\r",
      " 57%|█████▋    | 568/1000 [2:14:54<1:40:20, 13.94s/it]"
     ]
    },
    {
     "name": "stdout",
     "output_type": "stream",
     "text": [
      "Buyer - VOICI LA MODE GROUP\n",
      "titleofjob=Buyer\n",
      "refernce_number=148133\n",
      "city=Λευκωσία\n",
      "date_posted=03/09/2021\n",
      "expire_date=24/09/2021\n",
      "views=526\n",
      "type_of_employment=Πλήρης\n",
      "employment_sector=Λιανικό Εμπόριο\n",
      "publisher=Ιδιωτική Εταιρεία (LTD)\n",
      "category=Διοίκηση επιχειρήσεων\n"
     ]
    },
    {
     "name": "stderr",
     "output_type": "stream",
     "text": [
      "\r",
      " 57%|█████▋    | 569/1000 [2:15:09<1:42:35, 14.28s/it]"
     ]
    },
    {
     "name": "stdout",
     "output_type": "stream",
     "text": [
      "Real Estate Consultant - Windsor Solutions Ltd\n",
      "titleofjob=Real Estate Consultant\n",
      "refernce_number=148141\n",
      "city=Λεμεσός\n",
      "date_posted=03/09/2021\n",
      "expire_date=23/09/2021\n",
      "views=240\n",
      "type_of_employment=Πλήρης\n",
      "employment_sector=Κτηματομεσιτικά γραφεία\n",
      "publisher=Ιδιωτική Εταιρεία (LTD)\n",
      "category=Διοίκηση επιχειρήσεων, Εξυπηρέτηση Πελατών, Τομέας Ακινήτων, Χρηματοοικονομικά/Χρηματοπιστωτικά\n"
     ]
    },
    {
     "name": "stderr",
     "output_type": "stream",
     "text": [
      "\r",
      " 57%|█████▋    | 570/1000 [2:15:23<1:42:09, 14.25s/it]"
     ]
    },
    {
     "name": "stdout",
     "output_type": "stream",
     "text": [
      "Office Manager - MAJESTY REAL ESTATE\n",
      "titleofjob=Office Manager\n",
      "refernce_number=148140\n",
      "city=Λεμεσός\n",
      "date_posted=03/09/2021\n",
      "expire_date=24/09/2021\n",
      "views=261\n",
      "type_of_employment=Πλήρης\n",
      "employment_sector=Κτηματομεσιτικά γραφεία\n",
      "publisher=Ιδιωτική Εταιρεία (LTD)\n",
      "category=Γραμματειακά, Διοίκηση επιχειρήσεων, Εξυπηρέτηση Πελατών, Τομέας Ακινήτων, Ρωσική γλώσσα\n"
     ]
    },
    {
     "name": "stderr",
     "output_type": "stream",
     "text": [
      "\r",
      " 57%|█████▋    | 571/1000 [2:15:37<1:41:23, 14.18s/it]"
     ]
    },
    {
     "name": "stdout",
     "output_type": "stream",
     "text": [
      "Turkish Teacher (Visiting) - The English School\n",
      "titleofjob=Turkish Teacher (Visiting)\n",
      "refernce_number=148094\n",
      "city=Λευκωσία\n",
      "date_posted=03/09/2021\n",
      "expire_date=01/09/2021\n",
      "views=196\n",
      "type_of_employment=Μερική\n",
      "employment_sector=Εκπαιδευτικά Κέντρα / Φροντιστήρια\n",
      "publisher=Πανεπιστήμιο / Εκπαιδευτικό Κέντρο\n",
      "category=Δάσκαλοι, Ξένες Γλώσσες / Μεταφραστές\n"
     ]
    },
    {
     "name": "stderr",
     "output_type": "stream",
     "text": [
      "\r",
      " 57%|█████▋    | 572/1000 [2:15:51<1:42:07, 14.32s/it]"
     ]
    },
    {
     "name": "stdout",
     "output_type": "stream",
     "text": [
      "Νταντά / Nanny (On Behalf of our Client) - MELIOR CAPITAL LTD\n",
      "titleofjob=Νταντά / Nanny (On Behalf of our Client)\n",
      "refernce_number=148144\n",
      "city=Λευκωσία\n",
      "date_posted=04/09/2021\n",
      "expire_date=23/09/2021\n",
      "views=1197\n",
      "type_of_employment=Πλήρη ή Μερική\n",
      "employment_sector=Μη διαθέσιμο\n",
      "publisher=Φυσικό Πρόσωπο\n",
      "category=Καθηγητές / Ακαδημαϊκοί, Δάσκαλοι, Νηπιαγωγοί / Βρεφονηπιοκόμοι, Γκουβερνάντες\n"
     ]
    },
    {
     "name": "stderr",
     "output_type": "stream",
     "text": [
      "\r",
      " 57%|█████▋    | 573/1000 [2:16:06<1:41:48, 14.31s/it]"
     ]
    },
    {
     "name": "stdout",
     "output_type": "stream",
     "text": [
      "Cashier - HANGRY GHOST\n",
      "titleofjob=Cashier\n",
      "refernce_number=148164\n",
      "city=Λευκωσία\n",
      "date_posted=03/09/2021\n",
      "expire_date=24/09/2021\n",
      "views=130\n",
      "type_of_employment=Πλήρης\n",
      "employment_sector=Μη διαθέσιμο\n",
      "publisher=Ιδιωτική Εταιρεία (LTD)\n",
      "category=Υπάλληλοι HORECA, Ταμίες\n"
     ]
    },
    {
     "name": "stderr",
     "output_type": "stream",
     "text": [
      "\r",
      " 57%|█████▋    | 574/1000 [2:16:19<1:39:34, 14.03s/it]"
     ]
    },
    {
     "name": "stdout",
     "output_type": "stream",
     "text": [
      "Accounting Officer - SAFE BULKERS MANAGEMENT LTD\n",
      "titleofjob=Accounting Officer\n",
      "refernce_number=148136\n",
      "city=Λεμεσός\n",
      "date_posted=04/09/2021\n",
      "expire_date=23/09/2021\n",
      "views=326\n",
      "type_of_employment=Πλήρης\n",
      "employment_sector=Ναυτιλιακές Εταιρείες\n",
      "publisher=Ιδιωτική Εταιρεία (LTD)\n",
      "category=Διοίκηση επιχειρήσεων, Λογιστές, Ναυτιλιακά\n"
     ]
    },
    {
     "name": "stderr",
     "output_type": "stream",
     "text": [
      "\r",
      " 57%|█████▊    | 575/1000 [2:16:32<1:37:46, 13.80s/it]"
     ]
    },
    {
     "name": "stdout",
     "output_type": "stream",
     "text": [
      "Property Sales Assistant - INTER-M PROPERTIES\n",
      "titleofjob=Property Sales Assistant\n",
      "refernce_number=148138\n",
      "city=Λεμεσός\n",
      "date_posted=04/09/2021\n",
      "expire_date=23/09/2021\n",
      "views=257\n",
      "type_of_employment=Πλήρης\n",
      "employment_sector=Κτηματομεσιτικά γραφεία\n",
      "publisher=Ιδιωτική Εταιρεία (LTD)\n",
      "category=Εξυπηρέτηση Πελατών, Τομέας Ακινήτων, Υπεύθυνοι Πωλήσεων\n"
     ]
    },
    {
     "name": "stderr",
     "output_type": "stream",
     "text": [
      "\r",
      " 58%|█████▊    | 576/1000 [2:16:47<1:38:39, 13.96s/it]"
     ]
    },
    {
     "name": "stdout",
     "output_type": "stream",
     "text": [
      "Βοηθός Φαρμακοποιού - COSTAS PAPAELLINAS ORGANIZATION LTD\n",
      "titleofjob=Βοηθός Φαρμακοποιού\n",
      "refernce_number=148139\n",
      "city=Λευκωσία\n",
      "date_posted=04/09/2021\n",
      "expire_date=23/09/2021\n",
      "views=674\n",
      "type_of_employment=Πλήρης\n",
      "employment_sector=Μη διαθέσιμο\n",
      "publisher=Ιδιωτική Εταιρεία (LTD)\n",
      "category=Φαρμακοποιοί\n"
     ]
    },
    {
     "name": "stderr",
     "output_type": "stream",
     "text": [
      "\r",
      " 58%|█████▊    | 577/1000 [2:17:00<1:36:42, 13.72s/it]"
     ]
    },
    {
     "name": "stdout",
     "output_type": "stream",
     "text": [
      "Φαρμακοποιός - COSTAS PAPAELLINAS ORGANIZATION LTD\n",
      "titleofjob=Φαρμακοποιός\n",
      "refernce_number=148137\n",
      "city=Λεμεσός\n",
      "date_posted=04/09/2021\n",
      "expire_date=23/09/2021\n",
      "views=179\n",
      "type_of_employment=Πλήρης\n",
      "employment_sector=Μη διαθέσιμο\n",
      "publisher=Ιδιωτική Εταιρεία (LTD)\n",
      "category=Φαρμακοποιοί\n"
     ]
    },
    {
     "name": "stderr",
     "output_type": "stream",
     "text": [
      "\r",
      " 58%|█████▊    | 578/1000 [2:17:14<1:36:27, 13.71s/it]"
     ]
    },
    {
     "name": "stdout",
     "output_type": "stream",
     "text": [
      "Front Desk Sales Executive - PRESTIGE GROUP\n",
      "titleofjob=Front Desk Sales Executive\n",
      "refernce_number=148135\n",
      "city=Λεμεσός\n",
      "date_posted=04/09/2021\n",
      "expire_date=23/09/2021\n",
      "views=198\n",
      "type_of_employment=Πλήρης\n",
      "employment_sector=Μη διαθέσιμο\n",
      "publisher=Ιδιωτική Εταιρεία (LTD)\n",
      "category=Εξυπηρέτηση Πελατών, Μάρκετινγκ / Δημόσιες Σχέσεις, Υπεύθυνοι Πωλήσεων\n"
     ]
    },
    {
     "name": "stderr",
     "output_type": "stream",
     "text": [
      "\r",
      " 58%|█████▊    | 579/1000 [2:17:28<1:37:05, 13.84s/it]"
     ]
    },
    {
     "name": "stdout",
     "output_type": "stream",
     "text": [
      "Store Manager - LEMGREG LTD\n",
      "titleofjob=Store Manager\n",
      "refernce_number=148132\n",
      "city=Λεμεσός, Λευκωσία, Λάρνακα, Πάφος\n",
      "date_posted=04/09/2021\n",
      "expire_date=13/09/2021\n",
      "views=530\n",
      "type_of_employment=Πλήρης\n",
      "employment_sector=Λιανικό Εμπόριο\n",
      "publisher=Ιδιωτική Εταιρεία (LTD)\n",
      "category=Διοίκηση επιχειρήσεων, Εξυπηρέτηση Πελατών, Υπεύθυνοι Πωλήσεων\n"
     ]
    },
    {
     "name": "stderr",
     "output_type": "stream",
     "text": [
      "\r",
      " 58%|█████▊    | 580/1000 [2:17:42<1:36:48, 13.83s/it]"
     ]
    },
    {
     "name": "stdout",
     "output_type": "stream",
     "text": [
      "Πωλήτριες/Πωλητές - LEMGREG LTD\n",
      "titleofjob=Πωλήτριες/Πωλητές\n",
      "refernce_number=148129\n",
      "city=Λεμεσός, Λευκωσία, Λάρνακα, Πάφος\n",
      "date_posted=04/09/2021\n",
      "expire_date=23/09/2021\n",
      "views=545\n",
      "type_of_employment=Πλήρη ή Μερική\n",
      "employment_sector=Λιανικό Εμπόριο\n",
      "publisher=Ιδιωτική Εταιρεία (LTD)\n",
      "category=Πωλητές - Καταστήματα\n"
     ]
    },
    {
     "name": "stderr",
     "output_type": "stream",
     "text": [
      "\r",
      " 58%|█████▊    | 581/1000 [2:17:56<1:38:11, 14.06s/it]"
     ]
    },
    {
     "name": "stdout",
     "output_type": "stream",
     "text": [
      "Ηλεκτρολόγοι - Louvias\n",
      "titleofjob=Ηλεκτρολόγοι\n",
      "refernce_number=148131\n",
      "city=Λάρνακα\n",
      "date_posted=04/09/2021\n",
      "expire_date=23/09/2021\n",
      "views=238\n",
      "type_of_employment=Πλήρης\n",
      "employment_sector=Μη διαθέσιμο\n",
      "publisher=Ιδιωτική Εταιρεία (LTD)\n",
      "category=Ηλεκτρολόγοι\n"
     ]
    },
    {
     "name": "stderr",
     "output_type": "stream",
     "text": [
      "\r",
      " 58%|█████▊    | 582/1000 [2:18:11<1:38:39, 14.16s/it]"
     ]
    },
    {
     "name": "stdout",
     "output_type": "stream",
     "text": [
      "Ηλεκτρολόγοι Μηχανικοί - Louvias\n",
      "titleofjob=Ηλεκτρολόγοι Μηχανικοί\n",
      "refernce_number=148130\n",
      "city=Λάρνακα\n",
      "date_posted=04/09/2021\n",
      "expire_date=23/09/2021\n",
      "views=498\n",
      "type_of_employment=Πλήρης\n",
      "employment_sector=Μη διαθέσιμο\n",
      "publisher=Ιδιωτική Εταιρεία (LTD)\n",
      "category=Ηλεκτρολόγοι, Ηλεκτρολόγοι Μηχανικοί\n"
     ]
    },
    {
     "name": "stderr",
     "output_type": "stream",
     "text": [
      "\r",
      " 58%|█████▊    | 583/1000 [2:18:24<1:36:40, 13.91s/it]"
     ]
    },
    {
     "name": "stdout",
     "output_type": "stream",
     "text": [
      "Μάγειρας / Μαγείρισσα - Private Kindergarten Play4kidz LTD\n",
      "titleofjob=Μάγειρας / Μαγείρισσα\n",
      "refernce_number=148127\n",
      "city=Λευκωσία\n",
      "date_posted=04/09/2021\n",
      "expire_date=23/09/2021\n",
      "views=171\n",
      "type_of_employment=Πλήρης\n",
      "employment_sector=Εστιατόρια / Καφετέριες\n",
      "publisher=Ιδιωτική Εταιρεία (LTD)\n",
      "category=Υπάλληλοι HORECA, Μάγειρες / Ζαχαροπλάστες, Απόφοιτοι Ξενοδοχειακής Σχολής\n"
     ]
    },
    {
     "name": "stderr",
     "output_type": "stream",
     "text": [
      "\r",
      " 58%|█████▊    | 584/1000 [2:18:38<1:37:12, 14.02s/it]"
     ]
    },
    {
     "name": "stdout",
     "output_type": "stream",
     "text": [
      "Αποθηκάριος - Louvias\n",
      "titleofjob=Αποθηκάριος\n",
      "refernce_number=148128\n",
      "city=Λάρνακα\n",
      "date_posted=04/09/2021\n",
      "expire_date=23/09/2021\n",
      "views=472\n",
      "type_of_employment=Πλήρης\n",
      "employment_sector=Μη διαθέσιμο\n",
      "publisher=Ιδιωτική Εταιρεία (LTD)\n",
      "category=Αποθηκάριοι\n"
     ]
    },
    {
     "name": "stderr",
     "output_type": "stream",
     "text": [
      "\r",
      " 58%|█████▊    | 585/1000 [2:18:54<1:41:36, 14.69s/it]"
     ]
    },
    {
     "name": "stdout",
     "output_type": "stream",
     "text": [
      "Φαρμακοποιός - Margarita Antoniou Pharmacy Ltd\n",
      "titleofjob=Φαρμακοποιός\n",
      "refernce_number=147996\n",
      "city=Λευκωσία\n",
      "date_posted=04/09/2021\n",
      "expire_date=23/09/2021\n",
      "views=191\n",
      "type_of_employment=Πλήρης\n",
      "employment_sector=Περιποίηση-Ομορφιά-Φυσική κατάσταση\n",
      "publisher=Ιδιωτική Εταιρεία (LTD)\n",
      "category=Φαρμακοποιοί\n"
     ]
    },
    {
     "name": "stderr",
     "output_type": "stream",
     "text": [
      "\r",
      " 59%|█████▊    | 586/1000 [2:19:08<1:39:43, 14.45s/it]"
     ]
    },
    {
     "name": "stdout",
     "output_type": "stream",
     "text": [
      "Sales Team Leader (5269) - CareerFinders Recruitment Services Ltd\n",
      "titleofjob=Sales Team Leader (5269)\n",
      "refernce_number=148126\n",
      "city=Λεμεσός\n",
      "date_posted=04/09/2021\n",
      "expire_date=23/09/2021\n",
      "views=277\n",
      "type_of_employment=Πλήρης\n",
      "employment_sector=Μη διαθέσιμο\n",
      "publisher=Ιδιωτική Εταιρεία (LTD)\n",
      "category=Διοίκηση επιχειρήσεων, Μάρκετινγκ / Δημόσιες Σχέσεις, Υπεύθυνοι Πωλήσεων, Χρηματοοικονομικά/Χρηματοπιστωτικά\n"
     ]
    },
    {
     "name": "stderr",
     "output_type": "stream",
     "text": [
      "\r",
      " 59%|█████▊    | 587/1000 [2:19:21<1:36:18, 13.99s/it]"
     ]
    },
    {
     "name": "stdout",
     "output_type": "stream",
     "text": [
      "Διανομέας/Βοηθός Αποθήκης (Διπλός Ρόλος) - D&A CHARALAMBOUS FOODSTUFF SUPPLIERS LTD\n",
      "titleofjob=Διανομέας/Βοηθός Αποθήκης (Διπλός Ρόλος)\n",
      "refernce_number=148121\n",
      "city=Πάφος\n",
      "date_posted=04/09/2021\n",
      "expire_date=23/09/2021\n",
      "views=1331\n",
      "type_of_employment=Πλήρης\n",
      "employment_sector=Χοντρικό Εμπόριο\n",
      "publisher=Ιδιωτική Εταιρεία (LTD)\n",
      "category=Αποθηκάριοι, Διανομείς, Οδηγοί\n"
     ]
    },
    {
     "name": "stderr",
     "output_type": "stream",
     "text": [
      "\r",
      " 59%|█████▉    | 588/1000 [2:19:35<1:35:53, 13.96s/it]"
     ]
    },
    {
     "name": "stdout",
     "output_type": "stream",
     "text": [
      "Υπεύθυνος/η Διαχείρισης Τμήματος Κατ’ οίκον Διανομής (Delivery) - Demetriades Group\n",
      "titleofjob=Υπεύθυνος/η Διαχείρισης Τμήματος Κατ’ οίκον Διανομής (Delivery)\n",
      "refernce_number=148125\n",
      "city=Λεμεσός\n",
      "date_posted=04/09/2021\n",
      "expire_date=23/09/2021\n",
      "views=217\n",
      "type_of_employment=Πλήρης\n",
      "employment_sector=Μη διαθέσιμο\n",
      "publisher=Ιδιωτική Εταιρεία (LTD)\n",
      "category=Διανομείς\n"
     ]
    },
    {
     "name": "stderr",
     "output_type": "stream",
     "text": [
      "\r",
      " 59%|█████▉    | 589/1000 [2:19:49<1:35:12, 13.90s/it]"
     ]
    },
    {
     "name": "stdout",
     "output_type": "stream",
     "text": [
      "Barista - LOUKOU DONUTS LTD\n",
      "titleofjob=Barista\n",
      "refernce_number=148007\n",
      "city=Λευκωσία\n",
      "date_posted=04/09/2021\n",
      "expire_date=23/09/2021\n",
      "views=162\n",
      "type_of_employment=Πλήρης\n",
      "employment_sector=Αρτοποιεία - Ζαχαροπλαστεία\n",
      "publisher=Ιδιωτική Εταιρεία (LTD)\n",
      "category=Υπάλληλοι HORECA, Baristas\n"
     ]
    },
    {
     "name": "stderr",
     "output_type": "stream",
     "text": [
      "\r",
      " 59%|█████▉    | 590/1000 [2:20:02<1:34:20, 13.81s/it]"
     ]
    },
    {
     "name": "stdout",
     "output_type": "stream",
     "text": [
      "Εξωτερικός Πωλητής/τρια - D & Th Toumba Ltd\n",
      "titleofjob=Εξωτερικός Πωλητής/τρια\n",
      "refernce_number=148085\n",
      "city=Λεμεσός, Λευκωσία\n",
      "date_posted=04/09/2021\n",
      "expire_date=23/09/2021\n",
      "views=321\n",
      "type_of_employment=Πλήρης\n",
      "employment_sector=Χοντρικό Εμπόριο\n",
      "publisher=Ιδιωτική Εταιρεία (LTD)\n",
      "category=Εξωτερικοί Πωλητές / Πλασιέ\n"
     ]
    },
    {
     "name": "stderr",
     "output_type": "stream",
     "text": [
      "\r",
      " 59%|█████▉    | 591/1000 [2:20:16<1:34:04, 13.80s/it]"
     ]
    },
    {
     "name": "stdout",
     "output_type": "stream",
     "text": [
      "Research & Development (R&D) Project Manager - eBOS Technologies Ltd\n",
      "titleofjob=Research & Development (R&D) Project Manager\n",
      "refernce_number=148124\n",
      "city=Λευκωσία\n",
      "date_posted=04/09/2021\n",
      "expire_date=23/09/2021\n",
      "views=394\n",
      "type_of_employment=Πλήρης\n",
      "employment_sector=Πληροφορική\n",
      "publisher=Ιδιωτική Εταιρεία (LTD)\n",
      "category=Καθηγητές / Ακαδημαϊκοί, Πληροφορική, Ακαδημαϊκοί Ερευνητές\n"
     ]
    },
    {
     "name": "stderr",
     "output_type": "stream",
     "text": [
      "\r",
      " 59%|█████▉    | 592/1000 [2:20:31<1:36:12, 14.15s/it]"
     ]
    },
    {
     "name": "stdout",
     "output_type": "stream",
     "text": [
      "Accounting Assistant - Tixee\n",
      "titleofjob=Accounting Assistant\n",
      "refernce_number=148123\n",
      "city=Λεμεσός\n",
      "date_posted=04/09/2021\n",
      "expire_date=23/09/2021\n",
      "views=382\n",
      "type_of_employment=Πλήρης\n",
      "employment_sector=Forex\n",
      "publisher=Ιδιωτική Εταιρεία (LTD)\n",
      "category=Διοίκηση επιχειρήσεων, Λογιστές, Forex, Χρηματοοικονομικά/Χρηματοπιστωτικά\n"
     ]
    },
    {
     "name": "stderr",
     "output_type": "stream",
     "text": [
      "\r",
      " 59%|█████▉    | 593/1000 [2:20:45<1:35:53, 14.14s/it]"
     ]
    },
    {
     "name": "stdout",
     "output_type": "stream",
     "text": [
      "Group Marketing & CRM Manager - VOICI LA MODE GROUP\n",
      "titleofjob=Group Marketing & CRM Manager\n",
      "refernce_number=148122\n",
      "city=Λευκωσία\n",
      "date_posted=04/09/2021\n",
      "expire_date=23/09/2021\n",
      "views=674\n",
      "type_of_employment=Πλήρης\n",
      "employment_sector=Μάρκετινγκ / Διαφήμιση\n",
      "publisher=Ιδιωτική Εταιρεία (LTD)\n",
      "category=Διοίκηση επιχειρήσεων, Μάρκετινγκ / Δημόσιες Σχέσεις\n"
     ]
    },
    {
     "name": "stderr",
     "output_type": "stream",
     "text": [
      "\r",
      " 59%|█████▉    | 594/1000 [2:20:58<1:33:31, 13.82s/it]"
     ]
    },
    {
     "name": "stdout",
     "output_type": "stream",
     "text": [
      "Βοηθός Λογιστηρίου - ΒΛ/07/2021, Λευκωσία - KPMG\n",
      "titleofjob=Βοηθός Λογιστηρίου - ΒΛ/07/2021, Λευκωσία\n",
      "refernce_number=148119\n",
      "city=Λευκωσία\n",
      "date_posted=04/09/2021\n",
      "expire_date=31/08/2021\n",
      "views=487\n",
      "type_of_employment=Πλήρης\n",
      "employment_sector=Ιχθυοτροφεία\n",
      "publisher=Ιδιωτική Εταιρεία (LTD)\n",
      "category=Λογιστές, Χρηματοοικονομικά/Χρηματοπιστωτικά\n"
     ]
    },
    {
     "name": "stderr",
     "output_type": "stream",
     "text": [
      "\r",
      " 60%|█████▉    | 595/1000 [2:21:13<1:35:29, 14.15s/it]"
     ]
    },
    {
     "name": "stdout",
     "output_type": "stream",
     "text": [
      "Trainee Lawyer - A. Georgiou Law Office\n",
      "titleofjob=Trainee Lawyer\n",
      "refernce_number=148120\n",
      "city=Λεμεσός\n",
      "date_posted=04/09/2021\n",
      "expire_date=23/09/2021\n",
      "views=321\n",
      "type_of_employment=Πλήρης\n",
      "employment_sector=Δικηγορικά γραφεία\n",
      "publisher=Ιδιωτική Εταιρεία (LTD)\n",
      "category=Δικηγόροι\n"
     ]
    },
    {
     "name": "stderr",
     "output_type": "stream",
     "text": [
      "\r",
      " 60%|█████▉    | 596/1000 [2:21:28<1:35:48, 14.23s/it]"
     ]
    },
    {
     "name": "stdout",
     "output_type": "stream",
     "text": [
      "Καθαρίστρια/Καθαριστής (Λευκωσία) - MiVida Ltd\n",
      "titleofjob=Καθαρίστρια/Καθαριστής (Λευκωσία)\n",
      "refernce_number=148078\n",
      "city=Λευκωσία\n",
      "date_posted=04/09/2021\n",
      "expire_date=23/09/2021\n",
      "views=693\n",
      "type_of_employment=Πλήρης\n",
      "employment_sector=Μη διαθέσιμο\n",
      "publisher=Ιδιωτική Εταιρεία (LTD)\n",
      "category=Καθαριστές / Καθαρίστριες\n"
     ]
    },
    {
     "name": "stderr",
     "output_type": "stream",
     "text": [
      "\r",
      " 60%|█████▉    | 597/1000 [2:21:40<1:32:41, 13.80s/it]"
     ]
    },
    {
     "name": "stdout",
     "output_type": "stream",
     "text": [
      "Accountant (Russian Speaking) - Pari-Tech (Cy) Limited\n",
      "titleofjob=Accountant (Russian Speaking)\n",
      "refernce_number=148117\n",
      "city=Λεμεσός\n",
      "date_posted=04/09/2021\n",
      "expire_date=23/09/2021\n",
      "views=312\n",
      "type_of_employment=Πλήρης\n",
      "employment_sector=Εταιρείες Στοιχημάτων\n",
      "publisher=Ιδιωτική Εταιρεία (LTD)\n",
      "category=Διοίκηση επιχειρήσεων, Λογιστές, Χρηματοοικονομικά/Χρηματοπιστωτικά, Ρωσική γλώσσα\n"
     ]
    },
    {
     "name": "stderr",
     "output_type": "stream",
     "text": [
      "\r",
      " 60%|█████▉    | 598/1000 [2:21:55<1:33:32, 13.96s/it]"
     ]
    },
    {
     "name": "stdout",
     "output_type": "stream",
     "text": [
      "Barista - Cyprus Airports (F&B) Ltd\n",
      "titleofjob=Barista\n",
      "refernce_number=148118\n",
      "city=Λάρνακα, Πάφος\n",
      "date_posted=04/09/2021\n",
      "expire_date=23/09/2021\n",
      "views=258\n",
      "type_of_employment=Πλήρης\n",
      "employment_sector=Μη διαθέσιμο\n",
      "publisher=Ιδιωτική Εταιρεία (LTD)\n",
      "category=Υπάλληλοι HORECA, Εποχιακές Θέσεις εργασίας, Baristas\n"
     ]
    },
    {
     "name": "stderr",
     "output_type": "stream",
     "text": [
      "\r",
      " 60%|█████▉    | 599/1000 [2:22:10<1:35:09, 14.24s/it]"
     ]
    },
    {
     "name": "stdout",
     "output_type": "stream",
     "text": [
      "Οδηγός (Επαγγελματική Άδεια) - Denickom Enterprises Ltd\n",
      "titleofjob=Οδηγός (Επαγγελματική Άδεια)\n",
      "refernce_number=148062\n",
      "city=Λεμεσός\n",
      "date_posted=04/09/2021\n",
      "expire_date=23/09/2021\n",
      "views=216\n",
      "type_of_employment=Πλήρης\n",
      "employment_sector=Εισαγωγές / Εξαγωγές\n",
      "publisher=Ιδιωτική Εταιρεία (LTD)\n",
      "category=Διανομείς, Μεταφορές / Logistics, Οδηγοί\n"
     ]
    },
    {
     "name": "stderr",
     "output_type": "stream",
     "text": [
      "\r",
      " 60%|██████    | 600/1000 [2:22:23<1:33:53, 14.08s/it]"
     ]
    },
    {
     "name": "stdout",
     "output_type": "stream",
     "text": [
      "Waiters / Waitresses - Hobo Mediterraneo Cafe & Restaurant\n",
      "titleofjob=Waiters / Waitresses\n",
      "refernce_number=148115\n",
      "city=Λεμεσός\n",
      "date_posted=04/09/2021\n",
      "expire_date=23/09/2021\n",
      "views=125\n",
      "type_of_employment=Πλήρη ή Μερική\n",
      "employment_sector=Εστιατόρια / Καφετέριες\n",
      "publisher=Ιδιωτική Εταιρεία (LTD)\n",
      "category=Υπάλληλοι HORECA, Σερβιτόροι, Απόφοιτοι Ξενοδοχειακής Σχολής\n"
     ]
    },
    {
     "name": "stderr",
     "output_type": "stream",
     "text": [
      "\r",
      " 60%|██████    | 601/1000 [2:22:37<1:33:30, 14.06s/it]"
     ]
    },
    {
     "name": "stdout",
     "output_type": "stream",
     "text": [
      "Accountant (Russian Speaking) - ServPRO Accountants & Business Consultants Ltd\n",
      "titleofjob=Accountant (Russian Speaking)\n",
      "refernce_number=148114\n",
      "city=Λεμεσός\n",
      "date_posted=04/09/2021\n",
      "expire_date=23/09/2021\n",
      "views=171\n",
      "type_of_employment=Πλήρης\n",
      "employment_sector=Λογιστικά / Ελεγκτικά γραφεία\n",
      "publisher=Ιδιωτική Εταιρεία (LTD)\n",
      "category=Λογιστές, Οικονομολόγοι, Χρηματοοικονομικά/Χρηματοπιστωτικά\n"
     ]
    },
    {
     "name": "stderr",
     "output_type": "stream",
     "text": [
      "\r",
      " 60%|██████    | 602/1000 [2:22:51<1:32:58, 14.02s/it]"
     ]
    },
    {
     "name": "stdout",
     "output_type": "stream",
     "text": [
      "Σερβιτόροι / Σερβιτόρες - Verde\n",
      "titleofjob=Σερβιτόροι / Σερβιτόρες\n",
      "refernce_number=148116\n",
      "city=Λευκωσία\n",
      "date_posted=04/09/2021\n",
      "expire_date=23/09/2021\n",
      "views=138\n",
      "type_of_employment=Πλήρη ή Μερική\n",
      "employment_sector=Εστιατόρια / Καφετέριες\n",
      "publisher=Ιδιωτική Εταιρεία (LTD)\n",
      "category=Υπάλληλοι HORECA, Σερβιτόροι\n"
     ]
    },
    {
     "name": "stderr",
     "output_type": "stream",
     "text": [
      "\r",
      " 60%|██████    | 603/1000 [2:23:05<1:31:16, 13.79s/it]"
     ]
    },
    {
     "name": "stdout",
     "output_type": "stream",
     "text": [
      "Store Manager - DIMAGEO LTD\n",
      "titleofjob=Store Manager\n",
      "refernce_number=148112\n",
      "city=Λευκωσία\n",
      "date_posted=04/09/2021\n",
      "expire_date=23/09/2021\n",
      "views=184\n",
      "type_of_employment=Πλήρης\n",
      "employment_sector=Λιανικό Εμπόριο\n",
      "publisher=Ιδιωτική Εταιρεία (LTD)\n",
      "category=Διοίκηση επιχειρήσεων, Πωλητές - Καταστήματα, Υπεύθυνοι Πωλήσεων\n"
     ]
    },
    {
     "name": "stderr",
     "output_type": "stream",
     "text": [
      "\r",
      " 60%|██████    | 604/1000 [2:23:18<1:30:40, 13.74s/it]"
     ]
    },
    {
     "name": "stdout",
     "output_type": "stream",
     "text": [
      "Board of Management Secretary– BOMS/08/2021, Nicosia - KPMG\n",
      "titleofjob=Board of Management Secretary– BOMS/08/2021, Nicosia\n",
      "refernce_number=148109\n",
      "city=Λευκωσία\n",
      "date_posted=04/09/2021\n",
      "expire_date=01/09/2021\n",
      "views=415\n",
      "type_of_employment=Πλήρης\n",
      "employment_sector=Μη διαθέσιμο\n",
      "publisher=Πανεπιστήμιο / Εκπαιδευτικό Κέντρο\n",
      "category=Γραμματειακά\n"
     ]
    },
    {
     "name": "stderr",
     "output_type": "stream",
     "text": [
      "\r",
      " 60%|██████    | 605/1000 [2:23:32<1:31:25, 13.89s/it]"
     ]
    },
    {
     "name": "stdout",
     "output_type": "stream",
     "text": [
      "Cooks - Remezzo\n",
      "titleofjob=Cooks\n",
      "refernce_number=148111\n",
      "city=Λεμεσός\n",
      "date_posted=04/09/2021\n",
      "expire_date=23/09/2021\n",
      "views=111\n",
      "type_of_employment=Πλήρη ή Μερική\n",
      "employment_sector=Εστιατόρια / Καφετέριες\n",
      "publisher=Ιδιωτική Εταιρεία (LTD)\n",
      "category=Υπάλληλοι HORECA, Μάγειρες / Ζαχαροπλάστες, Απόφοιτοι Ξενοδοχειακής Σχολής\n"
     ]
    },
    {
     "name": "stderr",
     "output_type": "stream",
     "text": [
      "\r",
      " 61%|██████    | 606/1000 [2:23:47<1:32:56, 14.15s/it]"
     ]
    },
    {
     "name": "stdout",
     "output_type": "stream",
     "text": [
      "Junior Accountant - ServPRO Accountants & Business Consultants Ltd\n",
      "titleofjob=Junior Accountant\n",
      "refernce_number=148110\n",
      "city=Λεμεσός\n",
      "date_posted=04/09/2021\n",
      "expire_date=23/09/2021\n",
      "views=233\n",
      "type_of_employment=Πλήρης\n",
      "employment_sector=Λογιστικά / Ελεγκτικά γραφεία\n",
      "publisher=Ιδιωτική Εταιρεία (LTD)\n",
      "category=Λογιστές, Χρηματοοικονομικά/Χρηματοπιστωτικά\n"
     ]
    },
    {
     "name": "stderr",
     "output_type": "stream",
     "text": [
      "\r",
      " 61%|██████    | 607/1000 [2:24:00<1:30:05, 13.76s/it]"
     ]
    },
    {
     "name": "stdout",
     "output_type": "stream",
     "text": [
      "Λειτουργός Εξυπηρέτησης Πελατών - Pralina\n",
      "titleofjob=Λειτουργός Εξυπηρέτησης Πελατών\n",
      "refernce_number=148113\n",
      "city=Λεμεσός, Λευκωσία\n",
      "date_posted=04/09/2021\n",
      "expire_date=23/09/2021\n",
      "views=379\n",
      "type_of_employment=Πλήρης\n",
      "employment_sector=Μη διαθέσιμο\n",
      "publisher=Ιδιωτική Εταιρεία (LTD)\n",
      "category=Υπάλληλοι HORECA, Πωλητές - Καταστήματα\n"
     ]
    },
    {
     "name": "stderr",
     "output_type": "stream",
     "text": [
      "\r",
      " 61%|██████    | 608/1000 [2:24:14<1:30:16, 13.82s/it]"
     ]
    },
    {
     "name": "stdout",
     "output_type": "stream",
     "text": [
      "Bartenders - Remezzo\n",
      "titleofjob=Bartenders\n",
      "refernce_number=148108\n",
      "city=Λεμεσός\n",
      "date_posted=04/09/2021\n",
      "expire_date=23/09/2021\n",
      "views=90\n",
      "type_of_employment=Πλήρη ή Μερική\n",
      "employment_sector=Εστιατόρια / Καφετέριες\n",
      "publisher=Ιδιωτική Εταιρεία (LTD)\n",
      "category=Υπάλληλοι HORECA, Baristas, Απόφοιτοι Ξενοδοχειακής Σχολής\n"
     ]
    },
    {
     "name": "stderr",
     "output_type": "stream",
     "text": [
      "\r",
      " 61%|██████    | 609/1000 [2:24:28<1:29:48, 13.78s/it]"
     ]
    },
    {
     "name": "stdout",
     "output_type": "stream",
     "text": [
      "Cooks - Kipriakon\n",
      "titleofjob=Cooks\n",
      "refernce_number=148103\n",
      "city=Λεμεσός\n",
      "date_posted=04/09/2021\n",
      "expire_date=23/09/2021\n",
      "views=87\n",
      "type_of_employment=Πλήρη ή Μερική\n",
      "employment_sector=Εστιατόρια / Καφετέριες\n",
      "publisher=Ιδιωτική Εταιρεία (LTD)\n",
      "category=Υπάλληλοι HORECA, Μάγειρες / Ζαχαροπλάστες\n"
     ]
    },
    {
     "name": "stderr",
     "output_type": "stream",
     "text": [
      "\r",
      " 61%|██████    | 610/1000 [2:24:42<1:30:55, 13.99s/it]"
     ]
    },
    {
     "name": "stdout",
     "output_type": "stream",
     "text": [
      "Waiters / Waitresses - Remezzo\n",
      "titleofjob=Waiters / Waitresses\n",
      "refernce_number=148106\n",
      "city=Λεμεσός\n",
      "date_posted=04/09/2021\n",
      "expire_date=23/09/2021\n",
      "views=95\n",
      "type_of_employment=Πλήρη ή Μερική\n",
      "employment_sector=Εστιατόρια / Καφετέριες\n",
      "publisher=Ιδιωτική Εταιρεία (LTD)\n",
      "category=Υπάλληλοι HORECA, Σερβιτόροι, Απόφοιτοι Ξενοδοχειακής Σχολής\n"
     ]
    },
    {
     "name": "stderr",
     "output_type": "stream",
     "text": [
      "\r",
      " 61%|██████    | 611/1000 [2:24:56<1:29:30, 13.81s/it]"
     ]
    },
    {
     "name": "stdout",
     "output_type": "stream",
     "text": [
      "Σερβιτόρος / Σερβιτόρα - Pralina\n",
      "titleofjob=Σερβιτόρος / Σερβιτόρα\n",
      "refernce_number=148107\n",
      "city=Λεμεσός, Λευκωσία\n",
      "date_posted=04/09/2021\n",
      "expire_date=23/09/2021\n",
      "views=148\n",
      "type_of_employment=Πλήρης\n",
      "employment_sector=Μη διαθέσιμο\n",
      "publisher=Ιδιωτική Εταιρεία (LTD)\n",
      "category=Υπάλληλοι HORECA, Σερβιτόροι\n"
     ]
    },
    {
     "name": "stderr",
     "output_type": "stream",
     "text": [
      "\r",
      " 61%|██████    | 612/1000 [2:25:09<1:29:02, 13.77s/it]"
     ]
    },
    {
     "name": "stdout",
     "output_type": "stream",
     "text": [
      "National Sales Director - NSD/07/2021, Nicosia - KPMG\n",
      "titleofjob=National Sales Director - NSD/07/2021, Nicosia\n",
      "refernce_number=148101\n",
      "city=Λευκωσία\n",
      "date_posted=04/09/2021\n",
      "expire_date=λήγει σημερα\n",
      "views=345\n",
      "type_of_employment=Πλήρης\n",
      "employment_sector=Μη διαθέσιμο\n",
      "publisher=Ιδιωτική Εταιρεία (LTD)\n",
      "category=Διοίκηση επιχειρήσεων, Υπεύθυνοι Πωλήσεων, Χρηματοοικονομικά/Χρηματοπιστωτικά\n"
     ]
    },
    {
     "name": "stderr",
     "output_type": "stream",
     "text": [
      "\r",
      " 61%|██████▏   | 613/1000 [2:25:23<1:28:28, 13.72s/it]"
     ]
    },
    {
     "name": "stdout",
     "output_type": "stream",
     "text": [
      "Shift Leaders - Kipriakon\n",
      "titleofjob=Shift Leaders\n",
      "refernce_number=148105\n",
      "city=Λεμεσός\n",
      "date_posted=04/09/2021\n",
      "expire_date=23/09/2021\n",
      "views=97\n",
      "type_of_employment=Πλήρη ή Μερική\n",
      "employment_sector=Εστιατόρια / Καφετέριες\n",
      "publisher=Ιδιωτική Εταιρεία (LTD)\n",
      "category=Εξυπηρέτηση Πελατών, Υπάλληλοι HORECA\n"
     ]
    },
    {
     "name": "stderr",
     "output_type": "stream",
     "text": [
      "\r",
      " 61%|██████▏   | 614/1000 [2:25:38<1:30:15, 14.03s/it]"
     ]
    },
    {
     "name": "stdout",
     "output_type": "stream",
     "text": [
      "Barista - ΟΜΙΛΟΣ ΕΤΑΙΡΕΙΩΝ ΖΟΡΠΑΣ\n",
      "titleofjob=Barista\n",
      "refernce_number=148104\n",
      "city=Αμμόχωστος\n",
      "date_posted=04/09/2021\n",
      "expire_date=23/09/2021\n",
      "views=177\n",
      "type_of_employment=Πλήρης\n",
      "employment_sector=Μη διαθέσιμο\n",
      "publisher=Ιδιωτική Εταιρεία (LTD)\n",
      "category=Υπάλληλοι HORECA, Εποχιακές Θέσεις εργασίας, Baristas\n"
     ]
    },
    {
     "name": "stderr",
     "output_type": "stream",
     "text": [
      "\r",
      " 62%|██████▏   | 615/1000 [2:25:52<1:30:16, 14.07s/it]"
     ]
    },
    {
     "name": "stdout",
     "output_type": "stream",
     "text": [
      "Σερβιτόροι/Σερβιτόρες - Kipriakon\n",
      "titleofjob=Σερβιτόροι/Σερβιτόρες\n",
      "refernce_number=148100\n",
      "city=Λεμεσός\n",
      "date_posted=04/09/2021\n",
      "expire_date=23/09/2021\n",
      "views=89\n",
      "type_of_employment=Πλήρη ή Μερική\n",
      "employment_sector=Εστιατόρια / Καφετέριες\n",
      "publisher=Ιδιωτική Εταιρεία (LTD)\n",
      "category=Υπάλληλοι HORECA, Σερβιτόροι\n"
     ]
    },
    {
     "name": "stderr",
     "output_type": "stream",
     "text": [
      "\r",
      " 62%|██████▏   | 616/1000 [2:26:07<1:31:21, 14.27s/it]"
     ]
    },
    {
     "name": "stdout",
     "output_type": "stream",
     "text": [
      "Λειτουργός Εξυπηρέτησης Πελατών - ΟΜΙΛΟΣ ΕΤΑΙΡΕΙΩΝ ΖΟΡΠΑΣ\n",
      "titleofjob=Λειτουργός Εξυπηρέτησης Πελατών\n",
      "refernce_number=148102\n",
      "city=Αμμόχωστος\n",
      "date_posted=04/09/2021\n",
      "expire_date=23/09/2021\n",
      "views=205\n",
      "type_of_employment=Πλήρης\n",
      "employment_sector=Μη διαθέσιμο\n",
      "publisher=Ιδιωτική Εταιρεία (LTD)\n",
      "category=Υπάλληλοι HORECA, Εποχιακές Θέσεις εργασίας, Πωλητές - Καταστήματα\n"
     ]
    },
    {
     "name": "stderr",
     "output_type": "stream",
     "text": [
      "\r",
      " 62%|██████▏   | 617/1000 [2:26:20<1:30:28, 14.17s/it]"
     ]
    },
    {
     "name": "stdout",
     "output_type": "stream",
     "text": [
      "Σύμβουλος Πωλήσεων/Sales Advisor (Ref: 391) - Λεμεσός/Limassol - PWC\n",
      "titleofjob=Σύμβουλος Πωλήσεων/Sales Advisor (Ref: 391) - Λεμεσός/Limassol\n",
      "refernce_number=148097\n",
      "city=Λεμεσός, Λευκωσία\n",
      "date_posted=04/09/2021\n",
      "expire_date=23/09/2021\n",
      "views=194\n",
      "type_of_employment=Πλήρη ή Μερική\n",
      "employment_sector=Μη διαθέσιμο\n",
      "publisher=Ιδιωτική Εταιρεία (LTD)\n",
      "category=Εξυπηρέτηση Πελατών, Υπεραγορές - Πολυκαταστήματα, Πωλητές - Καταστήματα, Ρωσική γλώσσα\n"
     ]
    },
    {
     "name": "stderr",
     "output_type": "stream",
     "text": [
      "\r",
      " 62%|██████▏   | 618/1000 [2:26:36<1:31:55, 14.44s/it]"
     ]
    },
    {
     "name": "stdout",
     "output_type": "stream",
     "text": [
      "Λειτουργός Εξυπηρέτησης Πελατών - ΟΜΙΛΟΣ ΕΤΑΙΡΕΙΩΝ ΖΟΡΠΑΣ\n",
      "titleofjob=Λειτουργός Εξυπηρέτησης Πελατών\n",
      "refernce_number=148099\n",
      "city=Λεμεσός, Λευκωσία, Λάρνακα, Πάφος\n",
      "date_posted=04/09/2021\n",
      "expire_date=23/09/2021\n",
      "views=556\n",
      "type_of_employment=Πλήρης\n",
      "employment_sector=Μη διαθέσιμο\n",
      "publisher=Ιδιωτική Εταιρεία (LTD)\n",
      "category=Πωλητές - Καταστήματα\n"
     ]
    },
    {
     "name": "stderr",
     "output_type": "stream",
     "text": [
      "\r",
      " 62%|██████▏   | 619/1000 [2:26:50<1:31:01, 14.33s/it]"
     ]
    },
    {
     "name": "stdout",
     "output_type": "stream",
     "text": [
      "Ταμίας/Cashier (Ref: 393) - Λεμεσός/Limassol - PWC\n",
      "titleofjob=Ταμίας/Cashier (Ref: 393) - Λεμεσός/Limassol\n",
      "refernce_number=148096\n",
      "city=Λεμεσός, Λευκωσία\n",
      "date_posted=04/09/2021\n",
      "expire_date=23/09/2021\n",
      "views=219\n",
      "type_of_employment=Πλήρη ή Μερική\n",
      "employment_sector=Μη διαθέσιμο\n",
      "publisher=Ιδιωτική Εταιρεία (LTD)\n",
      "category=Οικονομολόγοι, Ταμίες, Ρωσική γλώσσα\n"
     ]
    },
    {
     "name": "stderr",
     "output_type": "stream",
     "text": [
      "\r",
      " 62%|██████▏   | 620/1000 [2:27:04<1:31:46, 14.49s/it]"
     ]
    },
    {
     "name": "stdout",
     "output_type": "stream",
     "text": [
      "Production Workers - ΟΜΙΛΟΣ ΕΤΑΙΡΕΙΩΝ ΖΟΡΠΑΣ\n",
      "titleofjob=Production Workers\n",
      "refernce_number=148098\n",
      "city=Λευκωσία, Λάρνακα\n",
      "date_posted=04/09/2021\n",
      "expire_date=23/09/2021\n",
      "views=374\n",
      "type_of_employment=Πλήρης\n",
      "employment_sector=Μη διαθέσιμο\n",
      "publisher=Ιδιωτική Εταιρεία (LTD)\n",
      "category=Εργάτες Παραγωγής / Συσκευασίας\n"
     ]
    },
    {
     "name": "stderr",
     "output_type": "stream",
     "text": [
      "\r",
      " 62%|██████▏   | 621/1000 [2:27:18<1:30:09, 14.27s/it]"
     ]
    },
    {
     "name": "stdout",
     "output_type": "stream",
     "text": [
      "Οδηγός Φορτηγού - ΟΜΙΛΟΣ ΕΤΑΙΡΕΙΩΝ ΖΟΡΠΑΣ\n",
      "titleofjob=Οδηγός Φορτηγού\n",
      "refernce_number=148095\n",
      "city=Λάρνακα\n",
      "date_posted=04/09/2021\n",
      "expire_date=23/09/2021\n",
      "views=240\n",
      "type_of_employment=Πλήρης\n",
      "employment_sector=Μη διαθέσιμο\n",
      "publisher=Ιδιωτική Εταιρεία (LTD)\n",
      "category=Οδηγοί\n"
     ]
    },
    {
     "name": "stderr",
     "output_type": "stream",
     "text": [
      "\r",
      " 62%|██████▏   | 622/1000 [2:27:33<1:30:59, 14.44s/it]"
     ]
    },
    {
     "name": "stdout",
     "output_type": "stream",
     "text": [
      "Barista - ΟΜΙΛΟΣ ΕΤΑΙΡΕΙΩΝ ΖΟΡΠΑΣ\n",
      "titleofjob=Barista\n",
      "refernce_number=148093\n",
      "city=Λεμεσός, Λευκωσία, Πάφος\n",
      "date_posted=04/09/2021\n",
      "expire_date=23/09/2021\n",
      "views=235\n",
      "type_of_employment=Πλήρης\n",
      "employment_sector=Εστιατόρια / Καφετέριες\n",
      "publisher=Ιδιωτική Εταιρεία (LTD)\n",
      "category=Υπάλληλοι HORECA, Baristas\n"
     ]
    },
    {
     "name": "stderr",
     "output_type": "stream",
     "text": [
      "\r",
      " 62%|██████▏   | 623/1000 [2:27:47<1:29:33, 14.25s/it]"
     ]
    },
    {
     "name": "stdout",
     "output_type": "stream",
     "text": [
      "Εργοδηγός Εργοταξίου - GERASIMOS CONSTRUCTIONS LTD\n",
      "titleofjob=Εργοδηγός Εργοταξίου\n",
      "refernce_number=148092\n",
      "city=Λευκωσία\n",
      "date_posted=04/09/2021\n",
      "expire_date=23/09/2021\n",
      "views=191\n",
      "type_of_employment=Πλήρης\n",
      "employment_sector=Εργοληπτικές εταιρείες\n",
      "publisher=Ιδιωτική Εταιρεία (LTD)\n",
      "category=Δόμηση - Κατασκευές, Εργάτες - Τεχνίτες\n"
     ]
    },
    {
     "name": "stderr",
     "output_type": "stream",
     "text": [
      "\r",
      " 62%|██████▏   | 624/1000 [2:28:02<1:30:31, 14.44s/it]"
     ]
    },
    {
     "name": "stdout",
     "output_type": "stream",
     "text": [
      "Πωλητής/Πωλήτρια (Λυθροδόντας) - K.Kolokasis Telecom Ltd\n",
      "titleofjob=Πωλητής/Πωλήτρια (Λυθροδόντας)\n",
      "refernce_number=148091\n",
      "city=Λευκωσία\n",
      "date_posted=04/09/2021\n",
      "expire_date=23/09/2021\n",
      "views=189\n",
      "type_of_employment=Πλήρη ή Μερική\n",
      "employment_sector=Λιανικό Εμπόριο\n",
      "publisher=Ιδιωτική Εταιρεία (LTD)\n",
      "category=Εξυπηρέτηση Πελατών, Πωλητές - Καταστήματα\n"
     ]
    },
    {
     "name": "stderr",
     "output_type": "stream",
     "text": [
      "\r",
      " 62%|██████▎   | 625/1000 [2:28:16<1:29:19, 14.29s/it]"
     ]
    },
    {
     "name": "stdout",
     "output_type": "stream",
     "text": [
      "Secretary - ENW ENTERPRISE NETWORK LTD\n",
      "titleofjob=Secretary\n",
      "refernce_number=148090\n",
      "city=Λεμεσός\n",
      "date_posted=04/09/2021\n",
      "expire_date=23/09/2021\n",
      "views=924\n",
      "type_of_employment=Πλήρης\n",
      "employment_sector=Σύμβουλοι Επιχειρήσεων\n",
      "publisher=Ιδιωτική Εταιρεία (LTD)\n",
      "category=Γραμματειακά\n"
     ]
    },
    {
     "name": "stderr",
     "output_type": "stream",
     "text": [
      "\r",
      " 63%|██████▎   | 626/1000 [2:28:31<1:30:21, 14.49s/it]"
     ]
    },
    {
     "name": "stdout",
     "output_type": "stream",
     "text": [
      "HR Officer - G.S.Hadjiyiannis Logistics Ltd\n",
      "titleofjob=HR Officer\n",
      "refernce_number=148089\n",
      "city=Λεμεσός\n",
      "date_posted=04/09/2021\n",
      "expire_date=05/09/2021\n",
      "views=810\n",
      "type_of_employment=Πλήρης\n",
      "employment_sector=Χοντρικό Εμπόριο\n",
      "publisher=Ιδιωτική Εταιρεία (LTD)\n",
      "category=Ανθρώπινο Δυναμικό , Διοίκηση επιχειρήσεων\n"
     ]
    },
    {
     "name": "stderr",
     "output_type": "stream",
     "text": [
      "\r",
      " 63%|██████▎   | 627/1000 [2:28:45<1:30:30, 14.56s/it]"
     ]
    },
    {
     "name": "stdout",
     "output_type": "stream",
     "text": [
      "Ασκούμενος/η Δικηγόρος - Α. & Α. Κ. ΑΙΜΙΛΙΑΝΙΔΗΣ, Κ. ΚΑΤΣΑΡΟΣ & ΣΥΝΕΡΓΑΤΕΣ ΔΕΠΕ\n",
      "titleofjob=Ασκούμενος/η Δικηγόρος\n",
      "refernce_number=148088\n",
      "city=Λευκωσία\n",
      "date_posted=04/09/2021\n",
      "expire_date=23/09/2021\n",
      "views=182\n",
      "type_of_employment=Πλήρης\n",
      "employment_sector=Δικηγορικά γραφεία\n",
      "publisher=Ιδιωτική Εταιρεία (LTD)\n",
      "category=Δικηγόροι\n"
     ]
    },
    {
     "name": "stderr",
     "output_type": "stream",
     "text": [
      "\r",
      " 63%|██████▎   | 628/1000 [2:29:00<1:30:00, 14.52s/it]"
     ]
    },
    {
     "name": "stdout",
     "output_type": "stream",
     "text": [
      "Senior Data Engineer (Machine Learning) - Impact Tech Ltd\n",
      "titleofjob=Senior Data Engineer (Machine Learning)\n",
      "refernce_number=148087\n",
      "city=Λεμεσός\n",
      "date_posted=04/09/2021\n",
      "expire_date=23/09/2021\n",
      "views=140\n",
      "type_of_employment=Πλήρης\n",
      "employment_sector=Πληροφορική\n",
      "publisher=Ιδιωτική Εταιρεία (LTD)\n",
      "category=Μαθηματικοί / Στατιστικολόγοι, Πληροφορική\n"
     ]
    },
    {
     "name": "stderr",
     "output_type": "stream",
     "text": [
      "\r",
      " 63%|██████▎   | 629/1000 [2:29:14<1:29:24, 14.46s/it]"
     ]
    },
    {
     "name": "stdout",
     "output_type": "stream",
     "text": [
      "Φρουροί Ασφαλείας - alfa security\n",
      "titleofjob=Φρουροί Ασφαλείας\n",
      "refernce_number=148086\n",
      "city=Λεμεσός, Λευκωσία, Λάρνακα, Πάφος\n",
      "date_posted=04/09/2021\n",
      "expire_date=23/09/2021\n",
      "views=1126\n",
      "type_of_employment=Πλήρης\n",
      "employment_sector=Υπηρεσίες Ασφαλείας\n",
      "publisher=Ιδιωτική Εταιρεία (LTD)\n",
      "category=Φρουροί Ασφαλείας\n"
     ]
    },
    {
     "name": "stderr",
     "output_type": "stream",
     "text": [
      "\r",
      " 63%|██████▎   | 630/1000 [2:29:29<1:30:35, 14.69s/it]"
     ]
    },
    {
     "name": "stdout",
     "output_type": "stream",
     "text": [
      "Χημικός - A.J VOUROS GROUP\n",
      "titleofjob=Χημικός\n",
      "refernce_number=148084\n",
      "city=Λευκωσία\n",
      "date_posted=04/09/2021\n",
      "expire_date=06/09/2021\n",
      "views=318\n",
      "type_of_employment=Πλήρης\n",
      "employment_sector=Μη διαθέσιμο\n",
      "publisher=Ιδιωτική Εταιρεία (LTD)\n",
      "category=Χημικοί\n"
     ]
    },
    {
     "name": "stderr",
     "output_type": "stream",
     "text": [
      "\r",
      " 63%|██████▎   | 631/1000 [2:29:44<1:29:43, 14.59s/it]"
     ]
    },
    {
     "name": "stdout",
     "output_type": "stream",
     "text": [
      "Chef Assistant - SINGULARIS INVESTMENTS LTD\n",
      "titleofjob=Chef Assistant\n",
      "refernce_number=148083\n",
      "city=Λάρνακα\n",
      "date_posted=04/09/2021\n",
      "expire_date=10/09/2021\n",
      "views=133\n",
      "type_of_employment=Μερική\n",
      "employment_sector=Τουρισμός - Ξενοδοχεία\n",
      "publisher=Ιδιωτική Εταιρεία (LTD)\n",
      "category=Υπάλληλοι HORECA, Μάγειρες / Ζαχαροπλάστες, Απόφοιτοι Ξενοδοχειακής Σχολής\n"
     ]
    },
    {
     "name": "stderr",
     "output_type": "stream",
     "text": [
      "\r",
      " 63%|██████▎   | 632/1000 [2:29:58<1:29:46, 14.64s/it]"
     ]
    },
    {
     "name": "stdout",
     "output_type": "stream",
     "text": [
      "CARA Online Boutique General Assistant / Stock Controller (Dual Role) - CARA BOUTIQUE\n",
      "titleofjob=CARA Online Boutique General Assistant / Stock Controller (Dual Role)\n",
      "refernce_number=147304\n",
      "city=Λεμεσός\n",
      "date_posted=04/09/2021\n",
      "expire_date=23/09/2021\n",
      "views=457\n",
      "type_of_employment=Πλήρης\n",
      "employment_sector=Μόδα / Ένδυση / Υπόδηση\n",
      "publisher=Ιδιωτική Εταιρεία (LTD)\n",
      "category=Διοίκηση επιχειρήσεων, Πωλητές - Καταστήματα\n"
     ]
    },
    {
     "name": "stderr",
     "output_type": "stream",
     "text": [
      "\r",
      " 63%|██████▎   | 633/1000 [2:30:13<1:29:19, 14.60s/it]"
     ]
    },
    {
     "name": "stdout",
     "output_type": "stream",
     "text": [
      "Αρχιτέκτονες - VAKIS ASSOCIATES\n",
      "titleofjob=Αρχιτέκτονες\n",
      "refernce_number=148082\n",
      "city=Λεμεσός\n",
      "date_posted=04/09/2021\n",
      "expire_date=23/09/2021\n",
      "views=182\n",
      "type_of_employment=Πλήρης\n",
      "employment_sector=Αρχιτεκτονικά Γραφεία\n",
      "publisher=Ιδιωτική Εταιρεία (LTD)\n",
      "category=Αρχιτέκτονες\n"
     ]
    },
    {
     "name": "stderr",
     "output_type": "stream",
     "text": [
      "\r",
      " 63%|██████▎   | 634/1000 [2:30:28<1:29:05, 14.61s/it]"
     ]
    },
    {
     "name": "stdout",
     "output_type": "stream",
     "text": [
      "Πωλητής/τρια (Pre Order) - Tryfon Tseriotis\n",
      "titleofjob=Πωλητής/τρια (Pre Order)\n",
      "refernce_number=148079\n",
      "city=Πάφος\n",
      "date_posted=04/09/2021\n",
      "expire_date=23/09/2021\n",
      "views=288\n",
      "type_of_employment=Πλήρης\n",
      "employment_sector=Λιανικό Εμπόριο\n",
      "publisher=Ιδιωτική Εταιρεία (LTD)\n",
      "category=Διοίκηση επιχειρήσεων, Υπεραγορές - Πολυκαταστήματα, Εξωτερικοί Πωλητές / Πλασιέ\n"
     ]
    },
    {
     "name": "stderr",
     "output_type": "stream",
     "text": [
      "\r",
      " 64%|██████▎   | 635/1000 [2:30:41<1:26:43, 14.26s/it]"
     ]
    },
    {
     "name": "stdout",
     "output_type": "stream",
     "text": [
      "Office Administrator - Belka Games CY LTD\n",
      "titleofjob=Office Administrator\n",
      "refernce_number=145106\n",
      "city=Λεμεσός\n",
      "date_posted=04/09/2021\n",
      "expire_date=23/09/2021\n",
      "views=371\n",
      "type_of_employment=Πλήρης\n",
      "employment_sector=Πληροφορική\n",
      "publisher=Ιδιωτική Εταιρεία (LTD)\n",
      "category=Γραμματειακά, Ξένες Γλώσσες / Μεταφραστές, Ρωσική γλώσσα\n"
     ]
    },
    {
     "name": "stderr",
     "output_type": "stream",
     "text": [
      "\r",
      " 64%|██████▎   | 636/1000 [2:30:57<1:29:29, 14.75s/it]"
     ]
    },
    {
     "name": "stdout",
     "output_type": "stream",
     "text": [
      "Εκπαιδευτές/τριες Επαγγελματικής Κατάρτισης - G.S. Europractices Ltd\n",
      "titleofjob=Εκπαιδευτές/τριες Επαγγελματικής Κατάρτισης\n",
      "refernce_number=148074\n",
      "city=Λεμεσός, Λευκωσία, Λάρνακα, Πάφος, Αμμόχωστος\n",
      "date_posted=04/09/2021\n",
      "expire_date=23/09/2021\n",
      "views=1148\n",
      "type_of_employment=Μερική\n",
      "employment_sector=Εκπαιδευτικά Κέντρα / Φροντιστήρια\n",
      "publisher=Μη κερδοσκοπικός οργανισμός\n",
      "category=Διοίκηση επιχειρήσεων, Μάρκετινγκ / Δημόσιες Σχέσεις, Οικονομολόγοι\n"
     ]
    },
    {
     "name": "stderr",
     "output_type": "stream",
     "text": [
      "\r",
      " 64%|██████▎   | 637/1000 [2:31:12<1:29:10, 14.74s/it]"
     ]
    },
    {
     "name": "stdout",
     "output_type": "stream",
     "text": [
      "Διανομέας - S. STYLIANOU MEDISUPPLIES LTD\n",
      "titleofjob=Διανομέας\n",
      "refernce_number=148077\n",
      "city=Λεμεσός\n",
      "date_posted=04/09/2021\n",
      "expire_date=23/09/2021\n",
      "views=310\n",
      "type_of_employment=Πλήρης\n",
      "employment_sector=Μη διαθέσιμο\n",
      "publisher=Ιδιωτική Εταιρεία (LTD)\n",
      "category=Αποθηκάριοι, Διανομείς, Οδηγοί\n"
     ]
    },
    {
     "name": "stderr",
     "output_type": "stream",
     "text": [
      "\r",
      " 64%|██████▍   | 638/1000 [2:31:29<1:33:16, 15.46s/it]"
     ]
    },
    {
     "name": "stdout",
     "output_type": "stream",
     "text": [
      "Customer Support Representative - Domino s Pizza\n",
      "titleofjob=Customer Support Representative\n",
      "refernce_number=148076\n",
      "city=Λευκωσία\n",
      "date_posted=04/09/2021\n",
      "expire_date=23/09/2021\n",
      "views=133\n",
      "type_of_employment=Πλήρη ή Μερική\n",
      "employment_sector=Εστιατόρια / Καφετέριες\n",
      "publisher=Ιδιωτική Εταιρεία (LTD)\n",
      "category=Εξυπηρέτηση Πελατών, Υπάλληλοι HORECA, Τηλεφωνητές\n"
     ]
    },
    {
     "name": "stderr",
     "output_type": "stream",
     "text": [
      "\r",
      " 64%|██████▍   | 639/1000 [2:31:44<1:32:27, 15.37s/it]"
     ]
    },
    {
     "name": "stdout",
     "output_type": "stream",
     "text": [
      "Brand Ambassador Agent - Kpax Marketing Online Ltd\n",
      "titleofjob=Brand Ambassador Agent\n",
      "refernce_number=148073\n",
      "city=Λεμεσός\n",
      "date_posted=04/09/2021\n",
      "expire_date=23/09/2021\n",
      "views=187\n",
      "type_of_employment=Πλήρης\n",
      "employment_sector=Εταιρείες Στοιχημάτων\n",
      "publisher=Ιδιωτική Εταιρεία (LTD)\n",
      "category=Εξυπηρέτηση Πελατών, Ξένες Γλώσσες / Μεταφραστές, Καζίνο\n"
     ]
    },
    {
     "name": "stderr",
     "output_type": "stream",
     "text": [
      "\r",
      " 64%|██████▍   | 640/1000 [2:31:59<1:31:46, 15.30s/it]"
     ]
    },
    {
     "name": "stdout",
     "output_type": "stream",
     "text": [
      "Sales Administrator - Tryfon Tseriotis\n",
      "titleofjob=Sales Administrator\n",
      "refernce_number=148075\n",
      "city=Λευκωσία\n",
      "date_posted=04/09/2021\n",
      "expire_date=10/09/2021\n",
      "views=381\n",
      "type_of_employment=Πλήρης\n",
      "employment_sector=Λιανικό Εμπόριο\n",
      "publisher=Ιδιωτική Εταιρεία (LTD)\n",
      "category=Γραμματειακά, Διοίκηση επιχειρήσεων, Χρηματοοικονομικά/Χρηματοπιστωτικά\n"
     ]
    },
    {
     "name": "stderr",
     "output_type": "stream",
     "text": [
      "\r",
      " 64%|██████▍   | 641/1000 [2:32:14<1:30:36, 15.14s/it]"
     ]
    },
    {
     "name": "stdout",
     "output_type": "stream",
     "text": [
      "Financial Advisor - FINCAP Advisers Ltd\n",
      "titleofjob=Financial Advisor\n",
      "refernce_number=148071\n",
      "city=Λευκωσία\n",
      "date_posted=04/09/2021\n",
      "expire_date=23/09/2021\n",
      "views=251\n",
      "type_of_employment=Πλήρης\n",
      "employment_sector=Λογιστικά / Ελεγκτικά γραφεία\n",
      "publisher=Ιδιωτική Εταιρεία (LTD)\n",
      "category=Λογιστές, Οικονομολόγοι, Χρηματοοικονομικά/Χρηματοπιστωτικά\n"
     ]
    },
    {
     "name": "stderr",
     "output_type": "stream",
     "text": [
      "\r",
      " 64%|██████▍   | 642/1000 [2:32:28<1:28:18, 14.80s/it]"
     ]
    },
    {
     "name": "stdout",
     "output_type": "stream",
     "text": [
      "Πολιτικός Μηχανικός Εργοταξίου - PROPERTY BOX CONSTRUCTIONS LTD\n",
      "titleofjob=Πολιτικός Μηχανικός Εργοταξίου\n",
      "refernce_number=148070\n",
      "city=Λευκωσία\n",
      "date_posted=04/09/2021\n",
      "expire_date=23/09/2021\n",
      "views=186\n",
      "type_of_employment=Πλήρης\n",
      "employment_sector=Εργοληπτικές εταιρείες\n",
      "publisher=Ιδιωτική Εταιρεία (LTD)\n",
      "category=Πολιτικοί Μηχανικοί\n"
     ]
    },
    {
     "name": "stderr",
     "output_type": "stream",
     "text": [
      "\r",
      " 64%|██████▍   | 643/1000 [2:32:42<1:26:16, 14.50s/it]"
     ]
    },
    {
     "name": "stdout",
     "output_type": "stream",
     "text": [
      "Τεχνικός Επισκευών (Πάφος) - ITC PUBLICWORLD LTD\n",
      "titleofjob=Τεχνικός Επισκευών (Πάφος)\n",
      "refernce_number=148068\n",
      "city=Πάφος\n",
      "date_posted=04/09/2021\n",
      "expire_date=23/09/2021\n",
      "views=174\n",
      "type_of_employment=Πλήρη ή Μερική\n",
      "employment_sector=Λιανικό Εμπόριο\n",
      "publisher=Ιδιωτική Εταιρεία (LTD)\n",
      "category=Πληροφορική, Τεχνικοί\n"
     ]
    },
    {
     "name": "stderr",
     "output_type": "stream",
     "text": [
      "\r",
      " 64%|██████▍   | 644/1000 [2:32:56<1:25:13, 14.36s/it]"
     ]
    },
    {
     "name": "stdout",
     "output_type": "stream",
     "text": [
      "Experienced Bookkeeper - RELIANS CORPORATE SERVICES\n",
      "titleofjob=Experienced Bookkeeper\n",
      "refernce_number=148066\n",
      "city=Λευκωσία\n",
      "date_posted=04/09/2021\n",
      "expire_date=23/09/2021\n",
      "views=227\n",
      "type_of_employment=Πλήρης\n",
      "employment_sector=Λογιστικά / Ελεγκτικά γραφεία\n",
      "publisher=Ιδιωτική Εταιρεία (LTD)\n",
      "category=Ελεγκτές, Λογιστές, Χρηματοοικονομικά/Χρηματοπιστωτικά\n"
     ]
    },
    {
     "name": "stderr",
     "output_type": "stream",
     "text": [
      "\r",
      " 64%|██████▍   | 645/1000 [2:33:11<1:25:54, 14.52s/it]"
     ]
    },
    {
     "name": "stdout",
     "output_type": "stream",
     "text": [
      "Πωλητές/ Πωλήτριες (Calzedonia Ανεξαρτησίας, Λεμεσός) - Mallouppas And Papacostas Fashion Ltd\n",
      "titleofjob=Πωλητές/ Πωλήτριες (Calzedonia Ανεξαρτησίας, Λεμεσός)\n",
      "refernce_number=148067\n",
      "city=Λεμεσός\n",
      "date_posted=04/09/2021\n",
      "expire_date=23/09/2021\n",
      "views=132\n",
      "type_of_employment=Μερική\n",
      "employment_sector=Λιανικό Εμπόριο\n",
      "publisher=Δημόσια Εταιρεία (PLC)\n",
      "category=Πωλητές - Καταστήματα\n"
     ]
    },
    {
     "name": "stderr",
     "output_type": "stream",
     "text": [
      "\r",
      " 65%|██████▍   | 646/1000 [2:33:28<1:30:34, 15.35s/it]"
     ]
    },
    {
     "name": "stdout",
     "output_type": "stream",
     "text": [
      "Τεχνικός - Τάκης Ζαβράντωνας & Υιοί ΛΤΔ\n",
      "titleofjob=Τεχνικός\n",
      "refernce_number=148065\n",
      "city=Λάρνακα\n",
      "date_posted=04/09/2021\n",
      "expire_date=23/09/2021\n",
      "views=225\n",
      "type_of_employment=Πλήρης\n",
      "employment_sector=Μη διαθέσιμο\n",
      "publisher=Ιδιωτική Εταιρεία (LTD)\n",
      "category=Εργάτες - Τεχνίτες, Υδραυλικοί, Τεχνικοί\n"
     ]
    },
    {
     "name": "stderr",
     "output_type": "stream",
     "text": [
      "\r",
      " 65%|██████▍   | 647/1000 [2:33:42<1:28:06, 14.98s/it]"
     ]
    },
    {
     "name": "stdout",
     "output_type": "stream",
     "text": [
      "Λογιστής / Λογίστρια - Αλφρέδος Α. Διανομείς Λτδ\n",
      "titleofjob=Λογιστής / Λογίστρια\n",
      "refernce_number=147663\n",
      "city=Πάφος\n",
      "date_posted=04/09/2021\n",
      "expire_date=23/09/2021\n",
      "views=253\n",
      "type_of_employment=Πλήρης\n",
      "employment_sector=Λιανικό Εμπόριο\n",
      "publisher=Ιδιωτική Εταιρεία (LTD)\n",
      "category=Λογιστές, Οικονομολόγοι, Χρηματοοικονομικά/Χρηματοπιστωτικά\n"
     ]
    },
    {
     "name": "stderr",
     "output_type": "stream",
     "text": [
      "\r",
      " 65%|██████▍   | 648/1000 [2:33:56<1:25:48, 14.63s/it]"
     ]
    },
    {
     "name": "stdout",
     "output_type": "stream",
     "text": [
      "Διευθυντής/ντρια Καταστήματος - ITC PUBLICWORLD LTD\n",
      "titleofjob=Διευθυντής/ντρια Καταστήματος\n",
      "refernce_number=148063\n",
      "city=Λεμεσός, Λευκωσία, Λάρνακα, Πάφος, Αμμόχωστος\n",
      "date_posted=04/09/2021\n",
      "expire_date=23/09/2021\n",
      "views=494\n",
      "type_of_employment=Πλήρης\n",
      "employment_sector=Λιανικό Εμπόριο\n",
      "publisher=Ιδιωτική Εταιρεία (LTD)\n",
      "category=Διοίκηση επιχειρήσεων, Εξυπηρέτηση Πελατών, Υπεύθυνοι Πωλήσεων\n"
     ]
    },
    {
     "name": "stderr",
     "output_type": "stream",
     "text": [
      "\r",
      " 65%|██████▍   | 649/1000 [2:34:10<1:24:27, 14.44s/it]"
     ]
    },
    {
     "name": "stdout",
     "output_type": "stream",
     "text": [
      "Προϊστάμενος/η Τμήματος Τεχνολογίας - ITC PUBLICWORLD LTD\n",
      "titleofjob=Προϊστάμενος/η Τμήματος Τεχνολογίας\n",
      "refernce_number=148061\n",
      "city=Λεμεσός, Λευκωσία, Λάρνακα, Πάφος, Αμμόχωστος\n",
      "date_posted=04/09/2021\n",
      "expire_date=23/09/2021\n",
      "views=279\n",
      "type_of_employment=Πλήρης\n",
      "employment_sector=Λιανικό Εμπόριο\n",
      "publisher=Ιδιωτική Εταιρεία (LTD)\n",
      "category=Εξυπηρέτηση Πελατών, Σύμβουλοι Επιχειρήσεων, Υπεύθυνοι Πωλήσεων\n"
     ]
    },
    {
     "name": "stderr",
     "output_type": "stream",
     "text": [
      "\r",
      " 65%|██████▌   | 650/1000 [2:34:24<1:24:10, 14.43s/it]"
     ]
    },
    {
     "name": "stdout",
     "output_type": "stream",
     "text": [
      "Διανομείς - GEOMAST ANTIFIRE CO LTD\n",
      "titleofjob=Διανομείς\n",
      "refernce_number=148028\n",
      "city=Λευκωσία\n",
      "date_posted=04/09/2021\n",
      "expire_date=23/09/2021\n",
      "views=472\n",
      "type_of_employment=Πλήρης\n",
      "employment_sector=Μη διαθέσιμο\n",
      "publisher=Ιδιωτική Εταιρεία (LTD)\n",
      "category=Εξυπηρέτηση Πελατών, Διανομείς, Οδηγοί\n"
     ]
    },
    {
     "name": "stderr",
     "output_type": "stream",
     "text": [
      "\r",
      " 65%|██████▌   | 651/1000 [2:34:38<1:23:24, 14.34s/it]"
     ]
    },
    {
     "name": "stdout",
     "output_type": "stream",
     "text": [
      "Corporate Lawyer - Tsirides Law\n",
      "titleofjob=Corporate Lawyer\n",
      "refernce_number=148064\n",
      "city=Λεμεσός\n",
      "date_posted=04/09/2021\n",
      "expire_date=23/09/2021\n",
      "views=210\n",
      "type_of_employment=Πλήρης\n",
      "employment_sector=Δικηγορικά γραφεία\n",
      "publisher=Ιδιωτική Εταιρεία (LTD)\n",
      "category=Δικηγόροι\n"
     ]
    },
    {
     "name": "stderr",
     "output_type": "stream",
     "text": [
      "\r",
      " 65%|██████▌   | 652/1000 [2:34:52<1:22:38, 14.25s/it]"
     ]
    },
    {
     "name": "stdout",
     "output_type": "stream",
     "text": [
      "Assistant Store Manager (Stradivarius, Mango, Tezenis) - Όμιλος Μαλλούππας & Παπακώστας\n",
      "titleofjob=Assistant Store Manager (Stradivarius, Mango, Tezenis)\n",
      "refernce_number=148041\n",
      "city=Λεμεσός, Λευκωσία, Λάρνακα, Πάφος\n",
      "date_posted=04/09/2021\n",
      "expire_date=23/09/2021\n",
      "views=389\n",
      "type_of_employment=Πλήρης\n",
      "employment_sector=Λιανικό Εμπόριο\n",
      "publisher=Ιδιωτική Εταιρεία (LTD)\n",
      "category=Διοίκηση επιχειρήσεων, Εξυπηρέτηση Πελατών, Πωλητές - Καταστήματα, Υπεύθυνοι Πωλήσεων\n"
     ]
    },
    {
     "name": "stderr",
     "output_type": "stream",
     "text": [
      "\r",
      " 65%|██████▌   | 653/1000 [2:35:08<1:25:16, 14.75s/it]"
     ]
    },
    {
     "name": "stdout",
     "output_type": "stream",
     "text": [
      "Ηλεκτρολόγος Μηχανικός - iCONSULT Consulting + Design Engineers\n",
      "titleofjob=Ηλεκτρολόγος Μηχανικός\n",
      "refernce_number=148060\n",
      "city=Λεμεσός\n",
      "date_posted=04/09/2021\n",
      "expire_date=23/09/2021\n",
      "views=639\n",
      "type_of_employment=Πλήρης\n",
      "employment_sector=Μη διαθέσιμο\n",
      "publisher=Ιδιωτική Εταιρεία (LTD)\n",
      "category=Ηλεκτρολόγοι Μηχανικοί\n"
     ]
    },
    {
     "name": "stderr",
     "output_type": "stream",
     "text": [
      "\r",
      " 65%|██████▌   | 654/1000 [2:35:23<1:25:28, 14.82s/it]"
     ]
    },
    {
     "name": "stdout",
     "output_type": "stream",
     "text": [
      "Experienced Auditor - DEMETRIOU & ASSOCIATES BUSINESS ADVISERS LTD\n",
      "titleofjob=Experienced Auditor\n",
      "refernce_number=148059\n",
      "city=Λευκωσία\n",
      "date_posted=04/09/2021\n",
      "expire_date=23/09/2021\n",
      "views=152\n",
      "type_of_employment=Πλήρης\n",
      "employment_sector=Λογιστικά / Ελεγκτικά γραφεία\n",
      "publisher=Ιδιωτική Εταιρεία (LTD)\n",
      "category=Ελεγκτές, Λογιστές\n"
     ]
    },
    {
     "name": "stderr",
     "output_type": "stream",
     "text": [
      "\r",
      " 66%|██████▌   | 655/1000 [2:35:38<1:25:24, 14.85s/it]"
     ]
    },
    {
     "name": "stdout",
     "output_type": "stream",
     "text": [
      "Audit Juniors - DEMETRIOU & ASSOCIATES BUSINESS ADVISERS LTD\n",
      "titleofjob=Audit Juniors\n",
      "refernce_number=148058\n",
      "city=Λευκωσία\n",
      "date_posted=04/09/2021\n",
      "expire_date=23/09/2021\n",
      "views=136\n",
      "type_of_employment=Πλήρης\n",
      "employment_sector=Λογιστικά / Ελεγκτικά γραφεία\n",
      "publisher=Ιδιωτική Εταιρεία (LTD)\n",
      "category=Ελεγκτές, Λογιστές\n"
     ]
    },
    {
     "name": "stderr",
     "output_type": "stream",
     "text": [
      "\r",
      " 66%|██████▌   | 656/1000 [2:35:51<1:22:04, 14.32s/it]"
     ]
    },
    {
     "name": "stdout",
     "output_type": "stream",
     "text": [
      "Οδηγός Ψαραγοράς (Παραλίμνι) - BLUE ISLAND PLC\n",
      "titleofjob=Οδηγός Ψαραγοράς (Παραλίμνι)\n",
      "refernce_number=147371\n",
      "city=Αμμόχωστος\n",
      "date_posted=04/09/2021\n",
      "expire_date=23/09/2021\n",
      "views=208\n",
      "type_of_employment=Πλήρης\n",
      "employment_sector=Μη διαθέσιμο\n",
      "publisher=Δημόσια Εταιρεία (PLC)\n",
      "category=Υπεραγορές - Πολυκαταστήματα, Οδηγοί\n"
     ]
    },
    {
     "name": "stderr",
     "output_type": "stream",
     "text": [
      "\r",
      " 66%|██████▌   | 657/1000 [2:36:06<1:22:05, 14.36s/it]"
     ]
    },
    {
     "name": "stdout",
     "output_type": "stream",
     "text": [
      "Senior Corporate Administrator (5091) - CareerFinders Recruitment Services Ltd\n",
      "titleofjob=Senior Corporate Administrator (5091)\n",
      "refernce_number=148057\n",
      "city=Λάρνακα\n",
      "date_posted=04/09/2021\n",
      "expire_date=23/09/2021\n",
      "views=224\n",
      "type_of_employment=Πλήρης\n",
      "employment_sector=Σύμβουλοι Επιχειρήσεων\n",
      "publisher=Ιδιωτική Εταιρεία (LTD)\n",
      "category=Γραμματειακά, Διοίκηση επιχειρήσεων, Δικηγόροι\n"
     ]
    },
    {
     "name": "stderr",
     "output_type": "stream",
     "text": [
      "\r",
      " 66%|██████▌   | 658/1000 [2:36:20<1:22:02, 14.39s/it]"
     ]
    },
    {
     "name": "stdout",
     "output_type": "stream",
     "text": [
      "Imaging Coordinator (5212) - CareerFinders Recruitment Services Ltd\n",
      "titleofjob=Imaging Coordinator (5212)\n",
      "refernce_number=148056\n",
      "city=Λευκωσία\n",
      "date_posted=04/09/2021\n",
      "expire_date=23/09/2021\n",
      "views=184\n",
      "type_of_employment=Πλήρης\n",
      "employment_sector=Μη διαθέσιμο\n",
      "publisher=Ιδιωτική Εταιρεία (LTD)\n",
      "category=Γραμματειακά, Πληροφορική\n"
     ]
    },
    {
     "name": "stderr",
     "output_type": "stream",
     "text": [
      "\r",
      " 66%|██████▌   | 659/1000 [2:36:35<1:21:40, 14.37s/it]"
     ]
    },
    {
     "name": "stdout",
     "output_type": "stream",
     "text": [
      "VAT Consultant (5211) - CareerFinders Recruitment Services Ltd\n",
      "titleofjob=VAT Consultant (5211)\n",
      "refernce_number=148055\n",
      "city=Λευκωσία\n",
      "date_posted=04/09/2021\n",
      "expire_date=23/09/2021\n",
      "views=116\n",
      "type_of_employment=Πλήρης\n",
      "employment_sector=Λογιστικά / Ελεγκτικά γραφεία\n",
      "publisher=Ιδιωτική Εταιρεία (LTD)\n",
      "category=Λογιστές, Χρηματοοικονομικά/Χρηματοπιστωτικά\n"
     ]
    },
    {
     "name": "stderr",
     "output_type": "stream",
     "text": [
      "\r",
      " 66%|██████▌   | 660/1000 [2:36:50<1:22:37, 14.58s/it]"
     ]
    },
    {
     "name": "stdout",
     "output_type": "stream",
     "text": [
      "Εκπρόσωπος Τηλεφωνικού Κέντρου (Call Center Agent) - ITC PUBLICWORLD LTD\n",
      "titleofjob=Εκπρόσωπος Τηλεφωνικού Κέντρου (Call Center Agent)\n",
      "refernce_number=148054\n",
      "city=Λευκωσία\n",
      "date_posted=04/09/2021\n",
      "expire_date=23/09/2021\n",
      "views=291\n",
      "type_of_employment=Πλήρης\n",
      "employment_sector=Λιανικό Εμπόριο\n",
      "publisher=Ιδιωτική Εταιρεία (LTD)\n",
      "category=Εξυπηρέτηση Πελατών, Τηλεφωνητές\n"
     ]
    },
    {
     "name": "stderr",
     "output_type": "stream",
     "text": [
      "\r",
      " 66%|██████▌   | 661/1000 [2:37:04<1:22:45, 14.65s/it]"
     ]
    },
    {
     "name": "stdout",
     "output_type": "stream",
     "text": [
      "Financial Consultant - XCH Business Solution Ltd\n",
      "titleofjob=Financial Consultant\n",
      "refernce_number=148053\n",
      "city=Λεμεσός\n",
      "date_posted=04/09/2021\n",
      "expire_date=23/09/2021\n",
      "views=467\n",
      "type_of_employment=Πλήρης\n",
      "employment_sector=Λογιστικά / Ελεγκτικά γραφεία\n",
      "publisher=Ιδιωτική Εταιρεία (LTD)\n",
      "category=Ελεγκτές, Δικηγόροι, Οικονομολόγοι, Χρηματοοικονομικά/Χρηματοπιστωτικά\n"
     ]
    },
    {
     "name": "stderr",
     "output_type": "stream",
     "text": [
      "\r",
      " 66%|██████▌   | 662/1000 [2:37:19<1:22:37, 14.67s/it]"
     ]
    },
    {
     "name": "stdout",
     "output_type": "stream",
     "text": [
      "Τεχνικός Ηλεκτρικών Εργαλείων - Greson Tools LTD\n",
      "titleofjob=Τεχνικός Ηλεκτρικών Εργαλείων\n",
      "refernce_number=148047\n",
      "city=Λευκωσία\n",
      "date_posted=04/09/2021\n",
      "expire_date=23/09/2021\n",
      "views=137\n",
      "type_of_employment=Πλήρης\n",
      "employment_sector=Μη διαθέσιμο\n",
      "publisher=Ιδιωτική Εταιρεία (LTD)\n",
      "category=Εργάτες - Τεχνίτες, Ηλεκτρολόγοι\n"
     ]
    },
    {
     "name": "stderr",
     "output_type": "stream",
     "text": [
      "\r",
      " 66%|██████▋   | 663/1000 [2:37:33<1:20:54, 14.41s/it]"
     ]
    },
    {
     "name": "stdout",
     "output_type": "stream",
     "text": [
      "Database Administrator (5219) - CareerFinders Recruitment Services Ltd\n",
      "titleofjob=Database Administrator (5219)\n",
      "refernce_number=148052\n",
      "city=Λεμεσός\n",
      "date_posted=04/09/2021\n",
      "expire_date=23/09/2021\n",
      "views=172\n",
      "type_of_employment=Πλήρης\n",
      "employment_sector=Τράπεζες / Χρηματοπιστωτικά Ιδρύματα\n",
      "publisher=Ιδιωτική Εταιρεία (LTD)\n",
      "category=Πληροφορική, Ρωσική γλώσσα\n"
     ]
    },
    {
     "name": "stderr",
     "output_type": "stream",
     "text": [
      "\r",
      " 66%|██████▋   | 664/1000 [2:37:47<1:19:59, 14.28s/it]"
     ]
    },
    {
     "name": "stdout",
     "output_type": "stream",
     "text": [
      "Junior Database Administrator (5218) - CareerFinders Recruitment Services Ltd\n",
      "titleofjob=Junior Database Administrator (5218)\n",
      "refernce_number=148051\n",
      "city=Λεμεσός\n",
      "date_posted=04/09/2021\n",
      "expire_date=23/09/2021\n",
      "views=155\n",
      "type_of_employment=Πλήρης\n",
      "employment_sector=Τράπεζες / Χρηματοπιστωτικά Ιδρύματα\n",
      "publisher=Ιδιωτική Εταιρεία (LTD)\n",
      "category=Πληροφορική\n"
     ]
    },
    {
     "name": "stderr",
     "output_type": "stream",
     "text": [
      "\r",
      " 66%|██████▋   | 665/1000 [2:38:01<1:19:55, 14.32s/it]"
     ]
    },
    {
     "name": "stdout",
     "output_type": "stream",
     "text": [
      "Accounting Executive (5162) - CareerFinders Recruitment Services Ltd\n",
      "titleofjob=Accounting Executive (5162)\n",
      "refernce_number=148048\n",
      "city=Λευκωσία\n",
      "date_posted=04/09/2021\n",
      "expire_date=23/09/2021\n",
      "views=172\n",
      "type_of_employment=Πλήρης\n",
      "employment_sector=Τράπεζες / Χρηματοπιστωτικά Ιδρύματα\n",
      "publisher=Ιδιωτική Εταιρεία (LTD)\n",
      "category=Διοίκηση επιχειρήσεων, Λογιστές, Χρηματοοικονομικά/Χρηματοπιστωτικά\n"
     ]
    },
    {
     "name": "stderr",
     "output_type": "stream",
     "text": [
      "\r",
      " 67%|██████▋   | 666/1000 [2:38:16<1:19:47, 14.33s/it]"
     ]
    },
    {
     "name": "stdout",
     "output_type": "stream",
     "text": [
      "Corporate Lawyer - MGR Human Resources Ltd\n",
      "titleofjob=Corporate Lawyer\n",
      "refernce_number=148050\n",
      "city=Λευκωσία\n",
      "date_posted=04/09/2021\n",
      "expire_date=08/09/2021\n",
      "views=165\n",
      "type_of_employment=Πλήρης\n",
      "employment_sector=Δικηγορικά γραφεία\n",
      "publisher=Ιδιωτική Εταιρεία (LTD)\n",
      "category=Δικηγόροι\n"
     ]
    },
    {
     "name": "stderr",
     "output_type": "stream",
     "text": [
      "\r",
      " 67%|██████▋   | 667/1000 [2:38:30<1:19:03, 14.25s/it]"
     ]
    },
    {
     "name": "stdout",
     "output_type": "stream",
     "text": [
      "Banking Administrator - MGR Human Resources Ltd\n",
      "titleofjob=Banking Administrator\n",
      "refernce_number=148046\n",
      "city=Λευκωσία\n",
      "date_posted=04/09/2021\n",
      "expire_date=08/09/2021\n",
      "views=236\n",
      "type_of_employment=Πλήρης\n",
      "employment_sector=Δικηγορικά γραφεία\n",
      "publisher=Ιδιωτική Εταιρεία (LTD)\n",
      "category=Λογιστές, Οικονομολόγοι, Χρηματοοικονομικά/Χρηματοπιστωτικά\n"
     ]
    },
    {
     "name": "stderr",
     "output_type": "stream",
     "text": [
      "\r",
      " 67%|██████▋   | 668/1000 [2:38:44<1:19:25, 14.35s/it]"
     ]
    },
    {
     "name": "stdout",
     "output_type": "stream",
     "text": [
      "Visual Merchandiser (Stradivarius, Mango, Tezenis, Kipling) - Όμιλος Μαλλούππας & Παπακώστας\n",
      "titleofjob=Visual Merchandiser (Stradivarius, Mango, Tezenis, Kipling)\n",
      "refernce_number=148045\n",
      "city=Λεμεσός, Λευκωσία, Λάρνακα, Πάφος\n",
      "date_posted=04/09/2021\n",
      "expire_date=23/09/2021\n",
      "views=287\n",
      "type_of_employment=Πλήρης\n",
      "employment_sector=Λιανικό Εμπόριο\n",
      "publisher=Ιδιωτική Εταιρεία (LTD)\n",
      "category=Εξυπηρέτηση Πελατών, Πωλητές - Καταστήματα, Υπεύθυνοι Πωλήσεων\n"
     ]
    },
    {
     "name": "stderr",
     "output_type": "stream",
     "text": [
      "\r",
      " 67%|██████▋   | 669/1000 [2:39:01<1:23:19, 15.10s/it]"
     ]
    },
    {
     "name": "stdout",
     "output_type": "stream",
     "text": [
      "Systems & Network Administrator (5215) - CareerFinders Recruitment Services Ltd\n",
      "titleofjob=Systems & Network Administrator (5215)\n",
      "refernce_number=148042\n",
      "city=Λεμεσός\n",
      "date_posted=04/09/2021\n",
      "expire_date=23/09/2021\n",
      "views=150\n",
      "type_of_employment=Πλήρης\n",
      "employment_sector=Τράπεζες / Χρηματοπιστωτικά Ιδρύματα\n",
      "publisher=Ιδιωτική Εταιρεία (LTD)\n",
      "category=Πληροφορική\n"
     ]
    },
    {
     "name": "stderr",
     "output_type": "stream",
     "text": [
      "\r",
      " 67%|██████▋   | 670/1000 [2:39:15<1:21:26, 14.81s/it]"
     ]
    },
    {
     "name": "stdout",
     "output_type": "stream",
     "text": [
      "Βοηθός Λογιστηρίου - Landas Colour\n",
      "titleofjob=Βοηθός Λογιστηρίου\n",
      "refernce_number=148049\n",
      "city=Λευκωσία\n",
      "date_posted=04/09/2021\n",
      "expire_date=02/09/2021\n",
      "views=411\n",
      "type_of_employment=Πλήρης\n",
      "employment_sector=Μη διαθέσιμο\n",
      "publisher=Ιδιωτική Εταιρεία (LTD)\n",
      "category=Λογιστές, Οικονομολόγοι, Χρηματοοικονομικά/Χρηματοπιστωτικά\n"
     ]
    },
    {
     "name": "stderr",
     "output_type": "stream",
     "text": [
      "\r",
      " 67%|██████▋   | 671/1000 [2:39:30<1:20:55, 14.76s/it]"
     ]
    },
    {
     "name": "stdout",
     "output_type": "stream",
     "text": [
      ".NET/Data Warehouse Application Developer (5217) - CareerFinders Recruitment Services Ltd\n",
      "titleofjob=.NET/Data Warehouse Application Developer (5217)\n",
      "refernce_number=148044\n",
      "city=Λεμεσός\n",
      "date_posted=04/09/2021\n",
      "expire_date=23/09/2021\n",
      "views=95\n",
      "type_of_employment=Πλήρης\n",
      "employment_sector=Τράπεζες / Χρηματοπιστωτικά Ιδρύματα\n",
      "publisher=Ιδιωτική Εταιρεία (LTD)\n",
      "category=Πληροφορική, Ρωσική γλώσσα\n"
     ]
    },
    {
     "name": "stderr",
     "output_type": "stream",
     "text": [
      "\r",
      " 67%|██████▋   | 672/1000 [2:39:43<1:18:40, 14.39s/it]"
     ]
    },
    {
     "name": "stdout",
     "output_type": "stream",
     "text": [
      "Regulatory Analyst – Financial Technology - MGR Human Resources Ltd\n",
      "titleofjob=Regulatory Analyst – Financial Technology\n",
      "refernce_number=148043\n",
      "city=Λεμεσός, Λευκωσία\n",
      "date_posted=04/09/2021\n",
      "expire_date=08/09/2021\n",
      "views=185\n",
      "type_of_employment=Πλήρης\n",
      "employment_sector=Σύμβουλοι Επιχειρήσεων\n",
      "publisher=Ιδιωτική Εταιρεία (LTD)\n",
      "category=Διοίκηση επιχειρήσεων, Οικονομολόγοι, Χρηματοοικονομικά/Χρηματοπιστωτικά\n"
     ]
    },
    {
     "name": "stderr",
     "output_type": "stream",
     "text": [
      "\r",
      " 67%|██████▋   | 673/1000 [2:39:57<1:17:11, 14.16s/it]"
     ]
    },
    {
     "name": "stdout",
     "output_type": "stream",
     "text": [
      "Tαμίας - KIK TRADING LTD\n",
      "titleofjob=Tαμίας\n",
      "refernce_number=148040\n",
      "city=Λεμεσός\n",
      "date_posted=04/09/2021\n",
      "expire_date=23/09/2021\n",
      "views=392\n",
      "type_of_employment=Πλήρης\n",
      "employment_sector=Λιανικό Εμπόριο\n",
      "publisher=Ιδιωτική Εταιρεία (LTD)\n",
      "category=Εξυπηρέτηση Πελατών, Ταμίες\n"
     ]
    },
    {
     "name": "stderr",
     "output_type": "stream",
     "text": [
      "\r",
      " 67%|██████▋   | 674/1000 [2:40:11<1:16:43, 14.12s/it]"
     ]
    },
    {
     "name": "stdout",
     "output_type": "stream",
     "text": [
      "Maids - Thanos Hotels\n",
      "titleofjob=Maids\n",
      "refernce_number=147823\n",
      "city=Πάφος\n",
      "date_posted=04/09/2021\n",
      "expire_date=23/09/2021\n",
      "views=137\n",
      "type_of_employment=Πλήρης\n",
      "employment_sector=Τουρισμός - Ξενοδοχεία\n",
      "publisher=Ιδιωτική Εταιρεία (LTD)\n",
      "category=Υπάλληλοι HORECA, Καθαριστές / Καθαρίστριες, Απόφοιτοι Ξενοδοχειακής Σχολής\n"
     ]
    },
    {
     "name": "stderr",
     "output_type": "stream",
     "text": [
      "\r",
      " 68%|██████▊   | 675/1000 [2:40:25<1:15:16, 13.90s/it]"
     ]
    },
    {
     "name": "stdout",
     "output_type": "stream",
     "text": [
      "Sales Assistants (Stradivarius, Mango, Tezenis, Kipling) - Όμιλος Μαλλούππας & Παπακώστας\n",
      "titleofjob=Sales Assistants (Stradivarius, Mango, Tezenis, Kipling)\n",
      "refernce_number=148039\n",
      "city=Λεμεσός, Λευκωσία, Λάρνακα, Πάφος\n",
      "date_posted=04/09/2021\n",
      "expire_date=23/09/2021\n",
      "views=324\n",
      "type_of_employment=Πλήρη ή Μερική\n",
      "employment_sector=Λιανικό Εμπόριο\n",
      "publisher=Ιδιωτική Εταιρεία (LTD)\n",
      "category=Εξυπηρέτηση Πελατών, Πωλητές - Καταστήματα\n"
     ]
    },
    {
     "name": "stderr",
     "output_type": "stream",
     "text": [
      "\r",
      " 68%|██████▊   | 676/1000 [2:40:39<1:16:21, 14.14s/it]"
     ]
    },
    {
     "name": "stdout",
     "output_type": "stream",
     "text": [
      "Beautician - Prestige barber & spa\n",
      "titleofjob=Beautician\n",
      "refernce_number=147343\n",
      "city=Λεμεσός\n",
      "date_posted=04/09/2021\n",
      "expire_date=23/09/2021\n",
      "views=145\n",
      "type_of_employment=Μερική\n",
      "employment_sector=Περιποίηση-Ομορφιά-Φυσική κατάσταση\n",
      "publisher=Φυσικό Πρόσωπο\n",
      "category=Αισθητικοί / Επαγγελματικό Μακιγιάζ\n"
     ]
    },
    {
     "name": "stderr",
     "output_type": "stream",
     "text": [
      "\r",
      " 68%|██████▊   | 677/1000 [2:40:53<1:15:49, 14.09s/it]"
     ]
    },
    {
     "name": "stdout",
     "output_type": "stream",
     "text": [
      "Οδηγός Ρυμουλκού - Rescueline Auto Services\n",
      "titleofjob=Οδηγός Ρυμουλκού\n",
      "refernce_number=148038\n",
      "city=Λεμεσός\n",
      "date_posted=04/09/2021\n",
      "expire_date=23/09/2021\n",
      "views=194\n",
      "type_of_employment=Πλήρης\n",
      "employment_sector=Αυτοκινητοβιομηχανίες\n",
      "publisher=Ιδιωτική Εταιρεία (LTD)\n",
      "category=Οδηγοί\n"
     ]
    },
    {
     "name": "stderr",
     "output_type": "stream",
     "text": [
      "\r",
      " 68%|██████▊   | 678/1000 [2:41:07<1:14:58, 13.97s/it]"
     ]
    },
    {
     "name": "stdout",
     "output_type": "stream",
     "text": [
      "Junior Accountant, Nicosia – ACC/08/21 - Human Asset Ltd\n",
      "titleofjob=Junior Accountant, Nicosia – ACC/08/21\n",
      "refernce_number=148037\n",
      "city=Λευκωσία\n",
      "date_posted=04/09/2021\n",
      "expire_date=07/09/2021\n",
      "views=151\n",
      "type_of_employment=Πλήρης\n",
      "employment_sector=Σύμβουλοι Επιχειρήσεων\n",
      "publisher=Ιδιωτική Εταιρεία (LTD)\n",
      "category=Λογιστές, Χρηματοοικονομικά/Χρηματοπιστωτικά\n"
     ]
    },
    {
     "name": "stderr",
     "output_type": "stream",
     "text": [
      "\r",
      " 68%|██████▊   | 679/1000 [2:41:22<1:16:47, 14.35s/it]"
     ]
    },
    {
     "name": "stdout",
     "output_type": "stream",
     "text": [
      "HR Generalist, Larnaca – HRG/08/21 - Human Asset Ltd\n",
      "titleofjob=HR Generalist, Larnaca – HRG/08/21\n",
      "refernce_number=148035\n",
      "city=Λάρνακα\n",
      "date_posted=04/09/2021\n",
      "expire_date=07/09/2021\n",
      "views=413\n",
      "type_of_employment=Πλήρης\n",
      "employment_sector=Αεροδρόμια\n",
      "publisher=Ιδιωτική Εταιρεία (LTD)\n",
      "category=Ανθρώπινο Δυναμικό , Διοίκηση επιχειρήσεων\n"
     ]
    },
    {
     "name": "stderr",
     "output_type": "stream",
     "text": [
      "\r",
      " 68%|██████▊   | 680/1000 [2:41:36<1:16:12, 14.29s/it]"
     ]
    },
    {
     "name": "stdout",
     "output_type": "stream",
     "text": [
      "Floor Supervisor - Hawaii Hotels ltd\n",
      "titleofjob=Floor Supervisor\n",
      "refernce_number=148036\n",
      "city=Λεμεσός\n",
      "date_posted=04/09/2021\n",
      "expire_date=23/09/2021\n",
      "views=222\n",
      "type_of_employment=Πλήρης\n",
      "employment_sector=Τουρισμός - Ξενοδοχεία\n",
      "publisher=Ιδιωτική Εταιρεία (LTD)\n",
      "category=Υπάλληλοι HORECA, Απόφοιτοι Ξενοδοχειακής Σχολής\n"
     ]
    },
    {
     "name": "stderr",
     "output_type": "stream",
     "text": [
      "\r",
      " 68%|██████▊   | 681/1000 [2:41:50<1:15:37, 14.22s/it]"
     ]
    },
    {
     "name": "stdout",
     "output_type": "stream",
     "text": [
      "Πωλητής/Πωλήτρια - Vassos Eliades Ltd\n",
      "titleofjob=Πωλητής/Πωλήτρια\n",
      "refernce_number=148034\n",
      "city=Λευκωσία\n",
      "date_posted=04/09/2021\n",
      "expire_date=23/09/2021\n",
      "views=187\n",
      "type_of_employment=Πλήρης\n",
      "employment_sector=Μη διαθέσιμο\n",
      "publisher=Ιδιωτική Εταιρεία (LTD)\n",
      "category=Εξυπηρέτηση Πελατών, Πωλητές - Καταστήματα\n"
     ]
    },
    {
     "name": "stderr",
     "output_type": "stream",
     "text": [
      "\r",
      " 68%|██████▊   | 682/1000 [2:42:05<1:15:24, 14.23s/it]"
     ]
    },
    {
     "name": "stdout",
     "output_type": "stream",
     "text": [
      "Accountant - Phaedrus Asset Management Ltd\n",
      "titleofjob=Accountant\n",
      "refernce_number=148033\n",
      "city=Λευκωσία\n",
      "date_posted=04/09/2021\n",
      "expire_date=23/09/2021\n",
      "views=206\n",
      "type_of_employment=Πλήρης\n",
      "employment_sector=Μη διαθέσιμο\n",
      "publisher=Ιδιωτική Εταιρεία (LTD)\n",
      "category=Διοίκηση επιχειρήσεων, Λογιστές, Οικονομολόγοι, Χρηματοοικονομικά/Χρηματοπιστωτικά\n"
     ]
    },
    {
     "name": "stderr",
     "output_type": "stream",
     "text": [
      "\r",
      " 68%|██████▊   | 683/1000 [2:42:18<1:14:31, 14.10s/it]"
     ]
    },
    {
     "name": "stdout",
     "output_type": "stream",
     "text": [
      "Junior Dealer - Libertex\n",
      "titleofjob=Junior Dealer\n",
      "refernce_number=148032\n",
      "city=Λεμεσός\n",
      "date_posted=04/09/2021\n",
      "expire_date=23/09/2021\n",
      "views=232\n",
      "type_of_employment=Πλήρης\n",
      "employment_sector=Forex\n",
      "publisher=Ιδιωτική Εταιρεία (LTD)\n",
      "category=Μαθηματικοί / Στατιστικολόγοι, Οικονομολόγοι, Forex, Χρηματοοικονομικά/Χρηματοπιστωτικά\n"
     ]
    },
    {
     "name": "stderr",
     "output_type": "stream",
     "text": [
      "\r",
      " 68%|██████▊   | 684/1000 [2:42:32<1:14:11, 14.09s/it]"
     ]
    },
    {
     "name": "stdout",
     "output_type": "stream",
     "text": [
      "Πωλητής/Πωλήτρια - Vassos Eliades Ltd\n",
      "titleofjob=Πωλητής/Πωλήτρια\n",
      "refernce_number=148031\n",
      "city=Λευκωσία\n",
      "date_posted=04/09/2021\n",
      "expire_date=23/09/2021\n",
      "views=184\n",
      "type_of_employment=Πλήρης\n",
      "employment_sector=Λιανικό Εμπόριο\n",
      "publisher=Ιδιωτική Εταιρεία (LTD)\n",
      "category=Πωλητές - Καταστήματα\n"
     ]
    },
    {
     "name": "stderr",
     "output_type": "stream",
     "text": [
      "\r",
      " 68%|██████▊   | 685/1000 [2:42:46<1:13:39, 14.03s/it]"
     ]
    },
    {
     "name": "stdout",
     "output_type": "stream",
     "text": [
      "Μάγειρας / Μαγείρισσα - LOUKOU DONUTS LTD\n",
      "titleofjob=Μάγειρας / Μαγείρισσα\n",
      "refernce_number=148014\n",
      "city=Λευκωσία\n",
      "date_posted=04/09/2021\n",
      "expire_date=23/09/2021\n",
      "views=117\n",
      "type_of_employment=Πλήρη ή Μερική\n",
      "employment_sector=Αρτοποιεία - Ζαχαροπλαστεία\n",
      "publisher=Ιδιωτική Εταιρεία (LTD)\n",
      "category=Υπάλληλοι HORECA, Μάγειρες / Ζαχαροπλάστες, Απόφοιτοι Ξενοδοχειακής Σχολής\n"
     ]
    },
    {
     "name": "stderr",
     "output_type": "stream",
     "text": [
      "\r",
      " 69%|██████▊   | 686/1000 [2:43:01<1:14:19, 14.20s/it]"
     ]
    },
    {
     "name": "stdout",
     "output_type": "stream",
     "text": [
      "Οδηγός Βυτιοφόρου (Tanker Truck Driver) - Τάκης Ζαβράντωνας & Υιοί ΛΤΔ\n",
      "titleofjob=Οδηγός Βυτιοφόρου (Tanker Truck Driver)\n",
      "refernce_number=147856\n",
      "city=Λάρνακα\n",
      "date_posted=04/09/2021\n",
      "expire_date=23/09/2021\n",
      "views=247\n",
      "type_of_employment=Πλήρης\n",
      "employment_sector=Μη διαθέσιμο\n",
      "publisher=Ιδιωτική Εταιρεία (LTD)\n",
      "category=Μεταφορές / Logistics, Οδηγοί\n"
     ]
    },
    {
     "name": "stderr",
     "output_type": "stream",
     "text": [
      "\r",
      " 69%|██████▊   | 687/1000 [2:43:15<1:13:57, 14.18s/it]"
     ]
    },
    {
     "name": "stdout",
     "output_type": "stream",
     "text": [
      "Treasurer - Global HR Solutions (GHRS) Limited\n",
      "titleofjob=Treasurer\n",
      "refernce_number=148029\n",
      "city=Λεμεσός\n",
      "date_posted=04/09/2021\n",
      "expire_date=23/09/2021\n",
      "views=219\n",
      "type_of_employment=Πλήρης\n",
      "employment_sector=Τράπεζες / Χρηματοπιστωτικά Ιδρύματα\n",
      "publisher=Ιδιωτική Εταιρεία (LTD)\n",
      "category=Διοίκηση επιχειρήσεων, Λογιστές, Μαθηματικοί / Στατιστικολόγοι, Οικονομολόγοι, Χρηματοοικονομικά/Χρηματοπιστωτικά\n"
     ]
    },
    {
     "name": "stderr",
     "output_type": "stream",
     "text": [
      "\r",
      " 69%|██████▉   | 688/1000 [2:43:29<1:13:48, 14.20s/it]"
     ]
    },
    {
     "name": "stdout",
     "output_type": "stream",
     "text": [
      "Ζαχαροπλάστης/τρια - LOUKOU DONUTS LTD\n",
      "titleofjob=Ζαχαροπλάστης/τρια\n",
      "refernce_number=148012\n",
      "city=Λευκωσία\n",
      "date_posted=04/09/2021\n",
      "expire_date=23/09/2021\n",
      "views=97\n",
      "type_of_employment=Πλήρη ή Μερική\n",
      "employment_sector=Αρτοποιεία - Ζαχαροπλαστεία\n",
      "publisher=Ιδιωτική Εταιρεία (LTD)\n",
      "category=Υπάλληλοι HORECA, Μάγειρες / Ζαχαροπλάστες, Απόφοιτοι Ξενοδοχειακής Σχολής\n"
     ]
    },
    {
     "name": "stderr",
     "output_type": "stream",
     "text": [
      "\r",
      " 69%|██████▉   | 689/1000 [2:43:44<1:14:13, 14.32s/it]"
     ]
    },
    {
     "name": "stdout",
     "output_type": "stream",
     "text": [
      "Αρτοποιός - LOUKOU DONUTS LTD\n",
      "titleofjob=Αρτοποιός\n",
      "refernce_number=148010\n",
      "city=Λευκωσία\n",
      "date_posted=04/09/2021\n",
      "expire_date=23/09/2021\n",
      "views=88\n",
      "type_of_employment=Πλήρη ή Μερική\n",
      "employment_sector=Αρτοποιεία - Ζαχαροπλαστεία\n",
      "publisher=Ιδιωτική Εταιρεία (LTD)\n",
      "category=Υπάλληλοι HORECA, Μάγειρες / Ζαχαροπλάστες, Απόφοιτοι Ξενοδοχειακής Σχολής\n"
     ]
    },
    {
     "name": "stderr",
     "output_type": "stream",
     "text": [
      "\r",
      " 69%|██████▉   | 690/1000 [2:43:58<1:13:42, 14.27s/it]"
     ]
    },
    {
     "name": "stdout",
     "output_type": "stream",
     "text": [
      "Πωλητές/τριες - Flying Tiger Cyprus\n",
      "titleofjob=Πωλητές/τριες\n",
      "refernce_number=148030\n",
      "city=Λεμεσός\n",
      "date_posted=04/09/2021\n",
      "expire_date=23/09/2021\n",
      "views=155\n",
      "type_of_employment=Πλήρη ή Μερική\n",
      "employment_sector=Μη διαθέσιμο\n",
      "publisher=Ιδιωτική Εταιρεία (LTD)\n",
      "category=Πωλητές - Καταστήματα\n"
     ]
    },
    {
     "name": "stderr",
     "output_type": "stream",
     "text": [
      "\r",
      " 69%|██████▉   | 691/1000 [2:44:13<1:14:12, 14.41s/it]"
     ]
    },
    {
     "name": "stdout",
     "output_type": "stream",
     "text": [
      "Group Credit Controller - Logicom Public Ltd – Cyprus - Logicom Public Ltd\n",
      "titleofjob=Group Credit Controller - Logicom Public Ltd – Cyprus\n",
      "refernce_number=148025\n",
      "city=Λευκωσία\n",
      "date_posted=04/09/2021\n",
      "expire_date=23/09/2021\n",
      "views=343\n",
      "type_of_employment=Πλήρης\n",
      "employment_sector=Πληροφορική\n",
      "publisher=Δημόσια Εταιρεία (PLC)\n",
      "category=Διοίκηση επιχειρήσεων, Ελεγκτές, Χρηματοοικονομικά/Χρηματοπιστωτικά\n"
     ]
    },
    {
     "name": "stderr",
     "output_type": "stream",
     "text": [
      "\r",
      " 69%|██████▉   | 692/1000 [2:44:27<1:13:58, 14.41s/it]"
     ]
    },
    {
     "name": "stdout",
     "output_type": "stream",
     "text": [
      "Υπεύθυνος/η Καταστήματος - LOUKOU DONUTS LTD\n",
      "titleofjob=Υπεύθυνος/η Καταστήματος\n",
      "refernce_number=148022\n",
      "city=Λευκωσία\n",
      "date_posted=04/09/2021\n",
      "expire_date=23/09/2021\n",
      "views=159\n",
      "type_of_employment=Πλήρης\n",
      "employment_sector=Αρτοποιεία - Ζαχαροπλαστεία\n",
      "publisher=Ιδιωτική Εταιρεία (LTD)\n",
      "category=Πωλητές - Καταστήματα, Υπεύθυνοι Πωλήσεων\n"
     ]
    },
    {
     "name": "stderr",
     "output_type": "stream",
     "text": [
      "\r",
      " 69%|██████▉   | 693/1000 [2:44:42<1:14:34, 14.57s/it]"
     ]
    },
    {
     "name": "stdout",
     "output_type": "stream",
     "text": [
      "Συνεργάτες/τριες για Αλυσίδα Κέντρων Μελέτης SoloMind - Big Triangle\n",
      "titleofjob=Συνεργάτες/τριες για Αλυσίδα Κέντρων Μελέτης SoloMind\n",
      "refernce_number=147973\n",
      "city=Λεμεσός, Λευκωσία, Λάρνακα, Πάφος, Αμμόχωστος\n",
      "date_posted=04/09/2021\n",
      "expire_date=23/09/2021\n",
      "views=467\n",
      "type_of_employment=Πλήρη ή Μερική\n",
      "employment_sector=Εκπαιδευτικά Κέντρα / Φροντιστήρια\n",
      "publisher=Ιδιωτική Εταιρεία (LTD)\n",
      "category=Καθηγητές / Ακαδημαϊκοί, Διοίκηση επιχειρήσεων, Συνεργάτες / Αυτοαπασχολούμενοι\n"
     ]
    },
    {
     "name": "stderr",
     "output_type": "stream",
     "text": [
      "\r",
      " 69%|██████▉   | 694/1000 [2:44:57<1:15:08, 14.73s/it]"
     ]
    },
    {
     "name": "stdout",
     "output_type": "stream",
     "text": [
      "Legal Assistant - IBIT Ltd\n",
      "titleofjob=Legal Assistant\n",
      "refernce_number=147963\n",
      "city=Λεμεσός\n",
      "date_posted=04/09/2021\n",
      "expire_date=23/09/2021\n",
      "views=195\n",
      "type_of_employment=Πλήρης\n",
      "employment_sector=Πληροφορική\n",
      "publisher=Ιδιωτική Εταιρεία (LTD)\n",
      "category=Δικηγόροι, Ρωσική γλώσσα\n"
     ]
    },
    {
     "name": "stderr",
     "output_type": "stream",
     "text": [
      "\r",
      " 70%|██████▉   | 695/1000 [2:45:11<1:13:33, 14.47s/it]"
     ]
    },
    {
     "name": "stdout",
     "output_type": "stream",
     "text": [
      "Λειτουργός Λογιστηρίου - Κρυφό Σχολείο\n",
      "titleofjob=Λειτουργός Λογιστηρίου\n",
      "refernce_number=147990\n",
      "city=Λεμεσός\n",
      "date_posted=04/09/2021\n",
      "expire_date=03/09/2021\n",
      "views=309\n",
      "type_of_employment=Μερική\n",
      "employment_sector=Εκπαιδευτικά Κέντρα / Φροντιστήρια\n",
      "publisher=Μη κερδοσκοπικός οργανισμός\n",
      "category=Λογιστές, Χρηματοοικονομικά/Χρηματοπιστωτικά\n"
     ]
    },
    {
     "name": "stderr",
     "output_type": "stream",
     "text": [
      "\r",
      " 70%|██████▉   | 696/1000 [2:45:26<1:13:21, 14.48s/it]"
     ]
    },
    {
     "name": "stdout",
     "output_type": "stream",
     "text": [
      "Σερβιτόροι/Σερβιτόρες - Cosmopolis multi venue\n",
      "titleofjob=Σερβιτόροι/Σερβιτόρες\n",
      "refernce_number=148026\n",
      "city=Λεμεσός, Λευκωσία, Λάρνακα\n",
      "date_posted=04/09/2021\n",
      "expire_date=23/09/2021\n",
      "views=162\n",
      "type_of_employment=Πλήρη ή Μερική\n",
      "employment_sector=Τουρισμός - Ξενοδοχεία\n",
      "publisher=Ιδιωτική Εταιρεία (LTD)\n",
      "category=Υπάλληλοι HORECA, Σερβιτόροι, Baristas\n"
     ]
    },
    {
     "name": "stderr",
     "output_type": "stream",
     "text": [
      "\r",
      " 70%|██████▉   | 697/1000 [2:45:40<1:12:58, 14.45s/it]"
     ]
    },
    {
     "name": "stdout",
     "output_type": "stream",
     "text": [
      "Waiters / Waitresses - Aldente (Mall) Larnaca\n",
      "titleofjob=Waiters / Waitresses\n",
      "refernce_number=147991\n",
      "city=Λάρνακα\n",
      "date_posted=04/09/2021\n",
      "expire_date=23/09/2021\n",
      "views=107\n",
      "type_of_employment=Πλήρης\n",
      "employment_sector=Εστιατόρια / Καφετέριες\n",
      "publisher=Ιδιωτική Εταιρεία (LTD)\n",
      "category=Υπάλληλοι HORECA, Σερβιτόροι, Απόφοιτοι Ξενοδοχειακής Σχολής\n"
     ]
    },
    {
     "name": "stderr",
     "output_type": "stream",
     "text": [
      "\r",
      " 70%|██████▉   | 698/1000 [2:45:55<1:13:49, 14.67s/it]"
     ]
    },
    {
     "name": "stdout",
     "output_type": "stream",
     "text": [
      "Assistant Restaurant Manager - Aldente (Mall) Larnaca\n",
      "titleofjob=Assistant Restaurant Manager\n",
      "refernce_number=147988\n",
      "city=Λάρνακα\n",
      "date_posted=04/09/2021\n",
      "expire_date=23/09/2021\n",
      "views=139\n",
      "type_of_employment=Πλήρης\n",
      "employment_sector=Εστιατόρια / Καφετέριες\n",
      "publisher=Ιδιωτική Εταιρεία (LTD)\n",
      "category=Διοίκηση επιχειρήσεων, Υπάλληλοι HORECA\n"
     ]
    },
    {
     "name": "stderr",
     "output_type": "stream",
     "text": [
      "\r",
      " 70%|██████▉   | 699/1000 [2:46:10<1:13:20, 14.62s/it]"
     ]
    },
    {
     "name": "stdout",
     "output_type": "stream",
     "text": [
      "Waiters/Waitresses - Coffee Corner\n",
      "titleofjob=Waiters/Waitresses\n",
      "refernce_number=147983\n",
      "city=Λάρνακα\n",
      "date_posted=04/09/2021\n",
      "expire_date=23/09/2021\n",
      "views=107\n",
      "type_of_employment=Πλήρης\n",
      "employment_sector=Εστιατόρια / Καφετέριες\n",
      "publisher=Ιδιωτική Εταιρεία (LTD)\n",
      "category=Εξυπηρέτηση Πελατών, Υπάλληλοι HORECA, Σερβιτόροι\n"
     ]
    },
    {
     "name": "stderr",
     "output_type": "stream",
     "text": [
      "\r",
      " 70%|███████   | 700/1000 [2:46:24<1:12:01, 14.41s/it]"
     ]
    },
    {
     "name": "stdout",
     "output_type": "stream",
     "text": [
      "Restaurant Manager - Aldente (Mall) Larnaca\n",
      "titleofjob=Restaurant Manager\n",
      "refernce_number=147987\n",
      "city=Λάρνακα\n",
      "date_posted=04/09/2021\n",
      "expire_date=23/09/2021\n",
      "views=120\n",
      "type_of_employment=Πλήρης\n",
      "employment_sector=Εστιατόρια / Καφετέριες\n",
      "publisher=Ιδιωτική Εταιρεία (LTD)\n",
      "category=Διοίκηση επιχειρήσεων, Υπάλληλοι HORECA\n"
     ]
    },
    {
     "name": "stderr",
     "output_type": "stream",
     "text": [
      "\r",
      " 70%|███████   | 701/1000 [2:46:37<1:10:57, 14.24s/it]"
     ]
    },
    {
     "name": "stdout",
     "output_type": "stream",
     "text": [
      "Waiters / Waitresses - Το Αρχοντικόν\n",
      "titleofjob=Waiters / Waitresses\n",
      "refernce_number=147986\n",
      "city=Λάρνακα\n",
      "date_posted=04/09/2021\n",
      "expire_date=23/09/2021\n",
      "views=93\n",
      "type_of_employment=Πλήρης\n",
      "employment_sector=Εστιατόρια / Καφετέριες\n",
      "publisher=Ιδιωτική Εταιρεία (LTD)\n",
      "category=Υπάλληλοι HORECA, Σερβιτόροι, Απόφοιτοι Ξενοδοχειακής Σχολής\n"
     ]
    },
    {
     "name": "stderr",
     "output_type": "stream",
     "text": [
      "\r",
      " 70%|███████   | 702/1000 [2:46:52<1:11:00, 14.30s/it]"
     ]
    },
    {
     "name": "stdout",
     "output_type": "stream",
     "text": [
      "Barista - Coffee Corner\n",
      "titleofjob=Barista\n",
      "refernce_number=147982\n",
      "city=Λάρνακα\n",
      "date_posted=04/09/2021\n",
      "expire_date=23/09/2021\n",
      "views=92\n",
      "type_of_employment=Πλήρης\n",
      "employment_sector=Εστιατόρια / Καφετέριες\n",
      "publisher=Ιδιωτική Εταιρεία (LTD)\n",
      "category=Υπάλληλοι HORECA, Σερβιτόροι, Baristas\n"
     ]
    },
    {
     "name": "stderr",
     "output_type": "stream",
     "text": [
      "\r",
      " 70%|███████   | 703/1000 [2:47:05<1:09:25, 14.03s/it]"
     ]
    },
    {
     "name": "stdout",
     "output_type": "stream",
     "text": [
      "Cooks - Το Αρχοντικόν\n",
      "titleofjob=Cooks\n",
      "refernce_number=147985\n",
      "city=Λάρνακα\n",
      "date_posted=04/09/2021\n",
      "expire_date=23/09/2021\n",
      "views=72\n",
      "type_of_employment=Πλήρης\n",
      "employment_sector=Εστιατόρια / Καφετέριες\n",
      "publisher=Ιδιωτική Εταιρεία (LTD)\n",
      "category=Υπάλληλοι HORECA, Μάγειρες / Ζαχαροπλάστες, Απόφοιτοι Ξενοδοχειακής Σχολής\n"
     ]
    },
    {
     "name": "stderr",
     "output_type": "stream",
     "text": [
      "\r",
      " 70%|███████   | 704/1000 [2:47:20<1:10:31, 14.29s/it]"
     ]
    },
    {
     "name": "stdout",
     "output_type": "stream",
     "text": [
      "Baristas - Arundina Cafe Ltd\n",
      "titleofjob=Baristas\n",
      "refernce_number=147999\n",
      "city=Λευκωσία\n",
      "date_posted=04/09/2021\n",
      "expire_date=23/09/2021\n",
      "views=365\n",
      "type_of_employment=Πλήρης\n",
      "employment_sector=Εστιατόρια / Καφετέριες\n",
      "publisher=Ιδιωτική Εταιρεία (LTD)\n",
      "category=Υπάλληλοι HORECA, Baristas\n"
     ]
    },
    {
     "name": "stderr",
     "output_type": "stream",
     "text": [
      "\r",
      " 70%|███████   | 705/1000 [2:47:34<1:09:31, 14.14s/it]"
     ]
    },
    {
     "name": "stdout",
     "output_type": "stream",
     "text": [
      "\n"
     ]
    },
    {
     "name": "stderr",
     "output_type": "stream",
     "text": [
      "\r",
      " 71%|███████   | 706/1000 [2:47:41<59:27, 12.14s/it]  "
     ]
    },
    {
     "name": "stdout",
     "output_type": "stream",
     "text": [
      "Senior Auditor - ActServ Limited\n",
      "titleofjob=Senior Auditor\n",
      "refernce_number=147980\n",
      "city=Λευκωσία\n",
      "date_posted=04/09/2021\n",
      "expire_date=23/09/2021\n",
      "views=83\n",
      "type_of_employment=Πλήρης\n",
      "employment_sector=Λογιστικά / Ελεγκτικά γραφεία\n",
      "publisher=Ιδιωτική Εταιρεία (LTD)\n",
      "category=Ελεγκτές, Λογιστές\n"
     ]
    },
    {
     "name": "stderr",
     "output_type": "stream",
     "text": [
      "\r",
      " 71%|███████   | 707/1000 [2:47:56<1:03:16, 12.96s/it]"
     ]
    },
    {
     "name": "stdout",
     "output_type": "stream",
     "text": [
      "Barista - Aldente (Mall) Larnaca\n",
      "titleofjob=Barista\n",
      "refernce_number=147989\n",
      "city=Λάρνακα\n",
      "date_posted=04/09/2021\n",
      "expire_date=23/09/2021\n",
      "views=68\n",
      "type_of_employment=Πλήρης\n",
      "employment_sector=Εστιατόρια / Καφετέριες\n",
      "publisher=Ιδιωτική Εταιρεία (LTD)\n",
      "category=Υπάλληλοι HORECA, Baristas\n"
     ]
    },
    {
     "name": "stderr",
     "output_type": "stream",
     "text": [
      "\r",
      " 71%|███████   | 708/1000 [2:48:12<1:06:50, 13.73s/it]"
     ]
    },
    {
     "name": "stdout",
     "output_type": "stream",
     "text": [
      "Καθαριστής/τρια (Κάψαλο, Λεμεσός) - THE BEST MCC\n",
      "titleofjob=Καθαριστής/τρια (Κάψαλο, Λεμεσός)\n",
      "refernce_number=147969\n",
      "city=Λεμεσός\n",
      "date_posted=04/09/2021\n",
      "expire_date=23/09/2021\n",
      "views=197\n",
      "type_of_employment=Πλήρης\n",
      "employment_sector=Μη διαθέσιμο\n",
      "publisher=Ιδιωτική Εταιρεία (LTD)\n",
      "category=Καθαριστές / Καθαρίστριες\n"
     ]
    },
    {
     "name": "stderr",
     "output_type": "stream",
     "text": [
      "\r",
      " 71%|███████   | 709/1000 [2:48:30<1:12:51, 15.02s/it]"
     ]
    },
    {
     "name": "stdout",
     "output_type": "stream",
     "text": [
      "Senior Accountant - ActServ Limited\n",
      "titleofjob=Senior Accountant\n",
      "refernce_number=147979\n",
      "city=Λευκωσία\n",
      "date_posted=04/09/2021\n",
      "expire_date=23/09/2021\n",
      "views=331\n",
      "type_of_employment=Πλήρης\n",
      "employment_sector=Λογιστικά / Ελεγκτικά γραφεία\n",
      "publisher=Ιδιωτική Εταιρεία (LTD)\n",
      "category=Λογιστές\n"
     ]
    },
    {
     "name": "stderr",
     "output_type": "stream",
     "text": [
      "\r",
      " 71%|███████   | 710/1000 [2:48:44<1:11:14, 14.74s/it]"
     ]
    },
    {
     "name": "stdout",
     "output_type": "stream",
     "text": [
      "Cooks - Aldente (Mall) Larnaca\n",
      "titleofjob=Cooks\n",
      "refernce_number=147992\n",
      "city=Λάρνακα\n",
      "date_posted=04/09/2021\n",
      "expire_date=23/09/2021\n",
      "views=96\n",
      "type_of_employment=Πλήρης\n",
      "employment_sector=Εστιατόρια / Καφετέριες\n",
      "publisher=Ιδιωτική Εταιρεία (LTD)\n",
      "category=Υπάλληλοι HORECA, Μάγειρες / Ζαχαροπλάστες\n"
     ]
    },
    {
     "name": "stderr",
     "output_type": "stream",
     "text": [
      "\r",
      " 71%|███████   | 711/1000 [2:48:58<1:09:38, 14.46s/it]"
     ]
    },
    {
     "name": "stdout",
     "output_type": "stream",
     "text": [
      "Σερβιτόρες / Σερβιτόροι - N.K FOOD AND MORE LTD\n",
      "titleofjob=Σερβιτόρες / Σερβιτόροι\n",
      "refernce_number=147981\n",
      "city=Λευκωσία\n",
      "date_posted=04/09/2021\n",
      "expire_date=23/09/2021\n",
      "views=444\n",
      "type_of_employment=Πλήρη ή Μερική\n",
      "employment_sector=Εστιατόρια / Καφετέριες\n",
      "publisher=Ιδιωτική Εταιρεία (LTD)\n",
      "category=Υπάλληλοι HORECA, Σερβιτόροι, Απόφοιτοι Ξενοδοχειακής Σχολής\n"
     ]
    },
    {
     "name": "stderr",
     "output_type": "stream",
     "text": [
      "\r",
      " 71%|███████   | 712/1000 [2:49:12<1:09:04, 14.39s/it]"
     ]
    },
    {
     "name": "stdout",
     "output_type": "stream",
     "text": [
      "Σερβιτόροι / Σερβιτόρες - PROAVLIO\n",
      "titleofjob=Σερβιτόροι / Σερβιτόρες\n",
      "refernce_number=147993\n",
      "city=Λεμεσός\n",
      "date_posted=04/09/2021\n",
      "expire_date=23/09/2021\n",
      "views=88\n",
      "type_of_employment=Πλήρη ή Μερική\n",
      "employment_sector=Χώροι αναψυχής\n",
      "publisher=Ιδιωτική Εταιρεία (LTD)\n",
      "category=Υπάλληλοι HORECA, Σερβιτόροι\n"
     ]
    },
    {
     "name": "stderr",
     "output_type": "stream",
     "text": [
      "\r",
      " 71%|███████▏  | 713/1000 [2:49:26<1:08:07, 14.24s/it]"
     ]
    },
    {
     "name": "stdout",
     "output_type": "stream",
     "text": [
      "Καθαριστής/τρια (Πολεμίδια, Λεμεσός) - THE BEST MCC\n",
      "titleofjob=Καθαριστής/τρια (Πολεμίδια, Λεμεσός)\n",
      "refernce_number=147968\n",
      "city=Λεμεσός\n",
      "date_posted=04/09/2021\n",
      "expire_date=23/09/2021\n",
      "views=144\n",
      "type_of_employment=Πλήρης\n",
      "employment_sector=Μη διαθέσιμο\n",
      "publisher=Ιδιωτική Εταιρεία (LTD)\n",
      "category=Καθαριστές / Καθαρίστριες\n"
     ]
    },
    {
     "name": "stderr",
     "output_type": "stream",
     "text": [
      "\r",
      " 71%|███████▏  | 714/1000 [2:49:41<1:09:12, 14.52s/it]"
     ]
    },
    {
     "name": "stdout",
     "output_type": "stream",
     "text": [
      "Waiters/Waitresses - TLM OPERATIONS LTD\n",
      "titleofjob=Waiters/Waitresses\n",
      "refernce_number=147967\n",
      "city=Λεμεσός\n",
      "date_posted=04/09/2021\n",
      "expire_date=23/09/2021\n",
      "views=87\n",
      "type_of_employment=Πλήρης\n",
      "employment_sector=Μη διαθέσιμο\n",
      "publisher=Ιδιωτική Εταιρεία (LTD)\n",
      "category=Υπάλληλοι HORECA, Σερβιτόροι\n"
     ]
    },
    {
     "name": "stderr",
     "output_type": "stream",
     "text": [
      "\r",
      " 72%|███████▏  | 715/1000 [2:49:56<1:09:59, 14.74s/it]"
     ]
    },
    {
     "name": "stdout",
     "output_type": "stream",
     "text": [
      "Αισθητικός (Βeautician) - MEDSkinCY\n",
      "titleofjob=Αισθητικός (Βeautician)\n",
      "refernce_number=147976\n",
      "city=Λευκωσία\n",
      "date_posted=04/09/2021\n",
      "expire_date=23/09/2021\n",
      "views=441\n",
      "type_of_employment=Πλήρη ή Μερική\n",
      "employment_sector=Περιποίηση-Ομορφιά-Φυσική κατάσταση\n",
      "publisher=Φυσικό Πρόσωπο\n",
      "category=Αισθητικοί / Επαγγελματικό Μακιγιάζ\n"
     ]
    },
    {
     "name": "stderr",
     "output_type": "stream",
     "text": [
      "\r",
      " 72%|███████▏  | 716/1000 [2:50:11<1:09:03, 14.59s/it]"
     ]
    },
    {
     "name": "stdout",
     "output_type": "stream",
     "text": [
      "Λειτουργός Εξυπηρέτησης Καταστήματος - Home & Wood Home Improvement Store\n",
      "titleofjob=Λειτουργός Εξυπηρέτησης Καταστήματος\n",
      "refernce_number=147977\n",
      "city=Αμμόχωστος\n",
      "date_posted=04/09/2021\n",
      "expire_date=23/09/2021\n",
      "views=337\n",
      "type_of_employment=Πλήρης\n",
      "employment_sector=Λιανικό Εμπόριο\n",
      "publisher=Ιδιωτική Εταιρεία (LTD)\n",
      "category=Υπεραγορές - Πολυκαταστήματα, Πωλητές - Καταστήματα\n"
     ]
    },
    {
     "name": "stderr",
     "output_type": "stream",
     "text": [
      "\r",
      " 72%|███████▏  | 717/1000 [2:50:24<1:07:05, 14.22s/it]"
     ]
    },
    {
     "name": "stdout",
     "output_type": "stream",
     "text": [
      "Experienced Waiters/Waitresses - Maqam Al Sultan\n",
      "titleofjob=Experienced Waiters/Waitresses\n",
      "refernce_number=147975\n",
      "city=Λάρνακα\n",
      "date_posted=04/09/2021\n",
      "expire_date=23/09/2021\n",
      "views=343\n",
      "type_of_employment=Πλήρη ή Μερική\n",
      "employment_sector=Εστιατόρια / Καφετέριες\n",
      "publisher=Ιδιωτική Εταιρεία (LTD)\n",
      "category=Υπάλληλοι HORECA, Σερβιτόροι, Απόφοιτοι Ξενοδοχειακής Σχολής\n"
     ]
    },
    {
     "name": "stderr",
     "output_type": "stream",
     "text": [
      "\r",
      " 72%|███████▏  | 718/1000 [2:50:38<1:07:20, 14.33s/it]"
     ]
    },
    {
     "name": "stdout",
     "output_type": "stream",
     "text": [
      "Ανθοδιακοσμητής/τρια - COSMEA GARDENS LTD\n",
      "titleofjob=Ανθοδιακοσμητής/τρια\n",
      "refernce_number=147995\n",
      "city=Λάρνακα\n",
      "date_posted=04/09/2021\n",
      "expire_date=23/09/2021\n",
      "views=214\n",
      "type_of_employment=Πλήρης\n",
      "employment_sector=Διακόσμηση Εσωτερικών και Εξωτερικών Χώρων\n",
      "publisher=Ιδιωτική Εταιρεία (LTD)\n",
      "category=Διακοσμητές Χώρων, Ανθοκόμοι / Ανθοπώλες\n"
     ]
    },
    {
     "name": "stderr",
     "output_type": "stream",
     "text": [
      "\r",
      " 72%|███████▏  | 719/1000 [2:50:53<1:07:51, 14.49s/it]"
     ]
    },
    {
     "name": "stdout",
     "output_type": "stream",
     "text": [
      "Professional Drivers / Επαγγελματίες Οδηγοί (Taxi & Minibus) - Lekkeran Car Hire LTD\n",
      "titleofjob=Professional Drivers / Επαγγελματίες Οδηγοί (Taxi & Minibus)\n",
      "refernce_number=147966\n",
      "city=Λεμεσός, Λευκωσία, Λάρνακα, Πάφος, Αμμόχωστος\n",
      "date_posted=04/09/2021\n",
      "expire_date=23/09/2021\n",
      "views=427\n",
      "type_of_employment=Πλήρη ή Μερική\n",
      "employment_sector=Αεροδρόμια\n",
      "publisher=Ιδιωτική Εταιρεία (LTD)\n",
      "category=Οδηγοί\n"
     ]
    },
    {
     "name": "stderr",
     "output_type": "stream",
     "text": [
      "\r",
      " 72%|███████▏  | 720/1000 [2:51:07<1:06:34, 14.26s/it]"
     ]
    },
    {
     "name": "stdout",
     "output_type": "stream",
     "text": [
      "Πωλητής / Πωλήτρια - LOUKOU DONUTS LTD\n",
      "titleofjob=Πωλητής / Πωλήτρια\n",
      "refernce_number=148017\n",
      "city=Λευκωσία\n",
      "date_posted=04/09/2021\n",
      "expire_date=23/09/2021\n",
      "views=106\n",
      "type_of_employment=Πλήρη ή Μερική\n",
      "employment_sector=Αρτοποιεία - Ζαχαροπλαστεία\n",
      "publisher=Ιδιωτική Εταιρεία (LTD)\n",
      "category=Πωλητές - Καταστήματα\n"
     ]
    },
    {
     "name": "stderr",
     "output_type": "stream",
     "text": [
      "\r",
      " 72%|███████▏  | 721/1000 [2:51:20<1:04:40, 13.91s/it]"
     ]
    },
    {
     "name": "stdout",
     "output_type": "stream",
     "text": [
      "Sales Executive - Adonis Business Academy\n",
      "titleofjob=Sales Executive\n",
      "refernce_number=147997\n",
      "city=Λευκωσία\n",
      "date_posted=04/09/2021\n",
      "expire_date=23/09/2021\n",
      "views=135\n",
      "type_of_employment=Πλήρης\n",
      "employment_sector=Εκπαιδευτικά Κέντρα / Φροντιστήρια\n",
      "publisher=Ιδιωτική Εταιρεία (LTD)\n",
      "category=Διοίκηση επιχειρήσεων, Μάρκετινγκ / Δημόσιες Σχέσεις, Υπεύθυνοι Πωλήσεων\n"
     ]
    },
    {
     "name": "stderr",
     "output_type": "stream",
     "text": [
      "\r",
      " 72%|███████▏  | 722/1000 [2:51:34<1:04:53, 14.01s/it]"
     ]
    },
    {
     "name": "stdout",
     "output_type": "stream",
     "text": [
      "Assistant Restaurant Manager - Το Αρχοντικόν\n",
      "titleofjob=Assistant Restaurant Manager\n",
      "refernce_number=147984\n",
      "city=Λάρνακα\n",
      "date_posted=04/09/2021\n",
      "expire_date=23/09/2021\n",
      "views=161\n",
      "type_of_employment=Πλήρης\n",
      "employment_sector=Εστιατόρια / Καφετέριες\n",
      "publisher=Ιδιωτική Εταιρεία (LTD)\n",
      "category=Διοίκηση επιχειρήσεων, Υπάλληλοι HORECA\n"
     ]
    },
    {
     "name": "stderr",
     "output_type": "stream",
     "text": [
      "\r",
      " 72%|███████▏  | 723/1000 [2:51:49<1:05:04, 14.10s/it]"
     ]
    },
    {
     "name": "stdout",
     "output_type": "stream",
     "text": [
      "Καθηγητής/τρια Μαθηματικών - ΙΔΙΩΤΙΚΟ ΦΡΟΝΤΙΣΤΗΡΙΟ \"ΛΕΞΙΟ\"\n",
      "titleofjob=Καθηγητής/τρια Μαθηματικών\n",
      "refernce_number=147998\n",
      "city=Λευκωσία\n",
      "date_posted=04/09/2021\n",
      "expire_date=23/09/2021\n",
      "views=277\n",
      "type_of_employment=Πλήρης\n",
      "employment_sector=Εκπαιδευτικά Κέντρα / Φροντιστήρια\n",
      "publisher=Ιδιωτική Εταιρεία (LTD)\n",
      "category=Καθηγητές / Ακαδημαϊκοί, Μαθηματικοί / Στατιστικολόγοι\n"
     ]
    },
    {
     "name": "stderr",
     "output_type": "stream",
     "text": [
      "\r",
      " 72%|███████▏  | 724/1000 [2:52:03<1:05:30, 14.24s/it]"
     ]
    },
    {
     "name": "stdout",
     "output_type": "stream",
     "text": [
      "Front Office Receptionist - PIPIS HOTELS LTD\n",
      "titleofjob=Front Office Receptionist\n",
      "refernce_number=147974\n",
      "city=Λεμεσός\n",
      "date_posted=07/09/2021\n",
      "expire_date=20/09/2021\n",
      "views=758\n",
      "type_of_employment=Πλήρης\n",
      "employment_sector=Τουρισμός - Ξενοδοχεία\n",
      "publisher=Ιδιωτική Εταιρεία (LTD)\n",
      "category=Γραμματειακά, Εξυπηρέτηση Πελατών, Τουριστικές Σπουδές, Υπάλληλοι HORECA, Απόφοιτοι Ξενοδοχειακής Σχολής\n"
     ]
    },
    {
     "name": "stderr",
     "output_type": "stream",
     "text": [
      "\r",
      " 72%|███████▎  | 725/1000 [2:52:17<1:04:20, 14.04s/it]"
     ]
    },
    {
     "name": "stdout",
     "output_type": "stream",
     "text": [
      "English Language Teacher - Private Institute Learning Tree\n",
      "titleofjob=English Language Teacher\n",
      "refernce_number=147964\n",
      "city=Λευκωσία\n",
      "date_posted=04/09/2021\n",
      "expire_date=31/08/2021\n",
      "views=801\n",
      "type_of_employment=Πλήρης\n",
      "employment_sector=Εκπαιδευτικά Κέντρα / Φροντιστήρια\n",
      "publisher=Ιδιωτική Εταιρεία (LTD)\n",
      "category=Δάσκαλοι\n"
     ]
    },
    {
     "name": "stderr",
     "output_type": "stream",
     "text": [
      "\r",
      " 73%|███████▎  | 726/1000 [2:52:30<1:03:19, 13.87s/it]"
     ]
    },
    {
     "name": "stdout",
     "output_type": "stream",
     "text": [
      "Ταμίας Περιπτέρου - visalenco ltd\n",
      "titleofjob=Ταμίας Περιπτέρου\n",
      "refernce_number=148021\n",
      "city=Λευκωσία\n",
      "date_posted=04/09/2021\n",
      "expire_date=23/09/2021\n",
      "views=272\n",
      "type_of_employment=Πλήρη ή Μερική\n",
      "employment_sector=Μη διαθέσιμο\n",
      "publisher=Ιδιωτική Εταιρεία (LTD)\n",
      "category=Ταμίες\n"
     ]
    },
    {
     "name": "stderr",
     "output_type": "stream",
     "text": [
      "\r",
      " 73%|███████▎  | 727/1000 [2:52:45<1:03:41, 14.00s/it]"
     ]
    },
    {
     "name": "stdout",
     "output_type": "stream",
     "text": [
      "Καμαριέρες / Room Maids - Constantinou Bros Group of Companies\n",
      "titleofjob=Καμαριέρες / Room Maids\n",
      "refernce_number=148013\n",
      "city=Πάφος\n",
      "date_posted=04/09/2021\n",
      "expire_date=23/09/2021\n",
      "views=160\n",
      "type_of_employment=Πλήρης\n",
      "employment_sector=Τουρισμός - Ξενοδοχεία\n",
      "publisher=Ιδιωτική Εταιρεία (LTD)\n",
      "category=Υπάλληλοι HORECA, Καθαριστές / Καθαρίστριες\n"
     ]
    },
    {
     "name": "stderr",
     "output_type": "stream",
     "text": [
      "\r",
      " 73%|███████▎  | 728/1000 [2:52:59<1:04:25, 14.21s/it]"
     ]
    },
    {
     "name": "stdout",
     "output_type": "stream",
     "text": [
      "Βοηθός Παραγωγής Κρεπών - CREPA CREPA\n",
      "titleofjob=Βοηθός Παραγωγής Κρεπών\n",
      "refernce_number=148004\n",
      "city=Λευκωσία\n",
      "date_posted=04/09/2021\n",
      "expire_date=23/09/2021\n",
      "views=235\n",
      "type_of_employment=Πλήρης\n",
      "employment_sector=Εστιατόρια / Καφετέριες\n",
      "publisher=Ιδιωτική Εταιρεία (LTD)\n",
      "category=Υπάλληλοι HORECA, Βοηθοί Κουζίνας / Λάντζα\n"
     ]
    },
    {
     "name": "stderr",
     "output_type": "stream",
     "text": [
      "\r",
      " 73%|███████▎  | 729/1000 [2:53:13<1:03:08, 13.98s/it]"
     ]
    },
    {
     "name": "stdout",
     "output_type": "stream",
     "text": [
      "Barista - Ocean Basket Franchise Ltd\n",
      "titleofjob=Barista\n",
      "refernce_number=147517\n",
      "city=Λεμεσός, Λάρνακα, Πάφος, Αμμόχωστος\n",
      "date_posted=04/09/2021\n",
      "expire_date=23/09/2021\n",
      "views=161\n",
      "type_of_employment=Πλήρης\n",
      "employment_sector=Εστιατόρια / Καφετέριες\n",
      "publisher=Ιδιωτική Εταιρεία (LTD)\n",
      "category=Υπάλληλοι HORECA, Baristas\n"
     ]
    },
    {
     "name": "stderr",
     "output_type": "stream",
     "text": [
      "\r",
      " 73%|███████▎  | 730/1000 [2:53:28<1:04:20, 14.30s/it]"
     ]
    },
    {
     "name": "stdout",
     "output_type": "stream",
     "text": [
      "Audit Supervisor - Nexia Poyiadjis\n",
      "titleofjob=Audit Supervisor\n",
      "refernce_number=147510\n",
      "city=Λευκωσία\n",
      "date_posted=04/09/2021\n",
      "expire_date=23/09/2021\n",
      "views=119\n",
      "type_of_employment=Πλήρης\n",
      "employment_sector=Λογιστικά / Ελεγκτικά γραφεία\n",
      "publisher=Ιδιωτική Εταιρεία (LTD)\n",
      "category=Ελεγκτές\n"
     ]
    },
    {
     "name": "stderr",
     "output_type": "stream",
     "text": [
      "\r",
      " 73%|███████▎  | 731/1000 [2:53:42<1:03:54, 14.25s/it]"
     ]
    },
    {
     "name": "stdout",
     "output_type": "stream",
     "text": [
      "Administrative Assistant - Private Institute Learning Tree\n",
      "titleofjob=Administrative Assistant\n",
      "refernce_number=147965\n",
      "city=Λευκωσία\n",
      "date_posted=04/09/2021\n",
      "expire_date=23/09/2021\n",
      "views=337\n",
      "type_of_employment=Πλήρης\n",
      "employment_sector=Εκπαιδευτικά Κέντρα / Φροντιστήρια\n",
      "publisher=Ιδιωτική Εταιρεία (LTD)\n",
      "category=Γραμματειακά, Διοίκηση επιχειρήσεων\n"
     ]
    },
    {
     "name": "stderr",
     "output_type": "stream",
     "text": [
      "\r",
      " 73%|███████▎  | 732/1000 [2:53:56<1:03:49, 14.29s/it]"
     ]
    },
    {
     "name": "stdout",
     "output_type": "stream",
     "text": [
      "Πωλητές / Πωλήτριες - CORSO ITALIA GROUP\n",
      "titleofjob=Πωλητές / Πωλήτριες\n",
      "refernce_number=147627\n",
      "city=Λευκωσία\n",
      "date_posted=04/09/2021\n",
      "expire_date=23/09/2021\n",
      "views=223\n",
      "type_of_employment=Πλήρη ή Μερική\n",
      "employment_sector=Λιανικό Εμπόριο\n",
      "publisher=Ιδιωτική Εταιρεία (LTD)\n",
      "category=Πωλητές - Καταστήματα\n"
     ]
    },
    {
     "name": "stderr",
     "output_type": "stream",
     "text": [
      "\r",
      " 73%|███████▎  | 733/1000 [2:54:11<1:04:22, 14.46s/it]"
     ]
    },
    {
     "name": "stdout",
     "output_type": "stream",
     "text": [
      "Cook - NAVARGAL INVESTMENTS LTD\n",
      "titleofjob=Cook\n",
      "refernce_number=147933\n",
      "city=Λάρνακα\n",
      "date_posted=04/09/2021\n",
      "expire_date=23/09/2021\n",
      "views=101\n",
      "type_of_employment=Πλήρη ή Μερική\n",
      "employment_sector=Εστιατόρια / Καφετέριες\n",
      "publisher=Ιδιωτική Εταιρεία (LTD)\n",
      "category=Υπάλληλοι HORECA, Μάγειρες / Ζαχαροπλάστες\n"
     ]
    },
    {
     "name": "stderr",
     "output_type": "stream",
     "text": [
      "\r",
      " 73%|███████▎  | 734/1000 [2:54:26<1:04:16, 14.50s/it]"
     ]
    },
    {
     "name": "stdout",
     "output_type": "stream",
     "text": [
      "Machine Learning Researcher - Artificial Intelligence Lab - University of Nicosia\n",
      "titleofjob=Machine Learning Researcher\n",
      "refernce_number=147950\n",
      "city=Λεμεσός, Λευκωσία, Λάρνακα, Πάφος, Αμμόχωστος\n",
      "date_posted=04/09/2021\n",
      "expire_date=23/09/2021\n",
      "views=531\n",
      "type_of_employment=Πλήρη ή Μερική\n",
      "employment_sector=Πληροφορική\n",
      "publisher=Πανεπιστήμιο / Εκπαιδευτικό Κέντρο\n",
      "category=Μαθηματικοί / Στατιστικολόγοι, Πληροφορική\n"
     ]
    },
    {
     "name": "stderr",
     "output_type": "stream",
     "text": [
      "\r",
      " 74%|███████▎  | 735/1000 [2:54:41<1:04:42, 14.65s/it]"
     ]
    },
    {
     "name": "stdout",
     "output_type": "stream",
     "text": [
      "Πωλητές / Πωλήτριες - Vassos Christoforou LTD\n",
      "titleofjob=Πωλητές / Πωλήτριες\n",
      "refernce_number=147994\n",
      "city=Λεμεσός, Λευκωσία, Λάρνακα, Αμμόχωστος\n",
      "date_posted=04/09/2021\n",
      "expire_date=23/09/2021\n",
      "views=483\n",
      "type_of_employment=Πλήρη ή Μερική\n",
      "employment_sector=Λιανικό Εμπόριο\n",
      "publisher=Ιδιωτική Εταιρεία (LTD)\n",
      "category=Πωλητές - Καταστήματα\n"
     ]
    },
    {
     "name": "stderr",
     "output_type": "stream",
     "text": [
      "\r",
      " 74%|███████▎  | 736/1000 [2:54:54<1:02:52, 14.29s/it]"
     ]
    },
    {
     "name": "stdout",
     "output_type": "stream",
     "text": [
      "Πωλητής/Πωλήτρια Καταστήματος - DIMAGEO LTD\n",
      "titleofjob=Πωλητής/Πωλήτρια Καταστήματος\n",
      "refernce_number=147960\n",
      "city=Λευκωσία\n",
      "date_posted=07/09/2021\n",
      "expire_date=20/09/2021\n",
      "views=366\n",
      "type_of_employment=Πλήρης\n",
      "employment_sector=Λιανικό Εμπόριο\n",
      "publisher=Ιδιωτική Εταιρεία (LTD)\n",
      "category=Πωλητές - Καταστήματα\n"
     ]
    },
    {
     "name": "stderr",
     "output_type": "stream",
     "text": [
      "\r",
      " 74%|███████▎  | 737/1000 [2:55:08<1:02:15, 14.20s/it]"
     ]
    },
    {
     "name": "stdout",
     "output_type": "stream",
     "text": [
      "Φρουροί Ασφαλείας - Eagle Watch Security Services Ltd\n",
      "titleofjob=Φρουροί Ασφαλείας\n",
      "refernce_number=147959\n",
      "city=Λεμεσός, Λευκωσία, Λάρνακα, Πάφος, Αμμόχωστος\n",
      "date_posted=07/09/2021\n",
      "expire_date=20/09/2021\n",
      "views=762\n",
      "type_of_employment=Πλήρη ή Μερική\n",
      "employment_sector=Υπηρεσίες Ασφαλείας\n",
      "publisher=Ιδιωτική Εταιρεία (LTD)\n",
      "category=Φρουροί Ασφαλείας\n"
     ]
    },
    {
     "name": "stderr",
     "output_type": "stream",
     "text": [
      "\r",
      " 74%|███████▍  | 738/1000 [2:55:23<1:02:15, 14.26s/it]"
     ]
    },
    {
     "name": "stdout",
     "output_type": "stream",
     "text": [
      "Φαρμακοποιός - C.D. YIANGOU PHARMACY LTD\n",
      "titleofjob=Φαρμακοποιός\n",
      "refernce_number=147961\n",
      "city=Λευκωσία\n",
      "date_posted=07/09/2021\n",
      "expire_date=20/09/2021\n",
      "views=823\n",
      "type_of_employment=Πλήρης\n",
      "employment_sector=Λιανικό Εμπόριο\n",
      "publisher=Ιδιωτική Εταιρεία (LTD)\n",
      "category=Φαρμακοποιοί, Ρωσική γλώσσα\n"
     ]
    },
    {
     "name": "stderr",
     "output_type": "stream",
     "text": [
      "\r",
      " 74%|███████▍  | 739/1000 [2:55:37<1:02:07, 14.28s/it]"
     ]
    },
    {
     "name": "stdout",
     "output_type": "stream",
     "text": [
      "Kitchen Assistant - Burger King\n",
      "titleofjob=Kitchen Assistant\n",
      "refernce_number=147955\n",
      "city=Λεμεσός, Λευκωσία, Λάρνακα, Πάφος, Αμμόχωστος\n",
      "date_posted=07/09/2021\n",
      "expire_date=20/09/2021\n",
      "views=390\n",
      "type_of_employment=Πλήρη ή Μερική\n",
      "employment_sector=Εστιατόρια / Καφετέριες\n",
      "publisher=Ιδιωτική Εταιρεία (LTD)\n",
      "category=Υπάλληλοι HORECA, Βοηθοί Κουζίνας / Λάντζα\n"
     ]
    },
    {
     "name": "stderr",
     "output_type": "stream",
     "text": [
      "\r",
      " 74%|███████▍  | 740/1000 [2:55:51<1:01:53, 14.28s/it]"
     ]
    },
    {
     "name": "stdout",
     "output_type": "stream",
     "text": [
      "Cashier - Burger King\n",
      "titleofjob=Cashier\n",
      "refernce_number=147954\n",
      "city=Λεμεσός, Λευκωσία, Λάρνακα, Πάφος\n",
      "date_posted=07/09/2021\n",
      "expire_date=20/09/2021\n",
      "views=343\n",
      "type_of_employment=Πλήρη ή Μερική\n",
      "employment_sector=Εστιατόρια / Καφετέριες\n",
      "publisher=Ιδιωτική Εταιρεία (LTD)\n",
      "category=Υπάλληλοι HORECA, Ταμίες\n"
     ]
    },
    {
     "name": "stderr",
     "output_type": "stream",
     "text": [
      "\r",
      " 74%|███████▍  | 741/1000 [2:56:06<1:02:03, 14.38s/it]"
     ]
    },
    {
     "name": "stdout",
     "output_type": "stream",
     "text": [
      "MELCO Resorts & Entertainment - Senior Supervisor, VIP Services - Limassol - Melco Resorts & Entertainment\n",
      "titleofjob=MELCO Resorts & Entertainment - Senior Supervisor, VIP Services - Limassol\n",
      "refernce_number=147947\n",
      "city=Λεμεσός\n",
      "date_posted=07/09/2021\n",
      "expire_date=20/09/2021\n",
      "views=857\n",
      "type_of_employment=Πλήρης\n",
      "employment_sector=Καζίνο\n",
      "publisher=Δημόσια Εταιρεία (PLC)\n",
      "category=Διοίκηση επιχειρήσεων, Μάρκετινγκ / Δημόσιες Σχέσεις, Σύμβουλοι Επιχειρήσεων, Χρηματοοικονομικά/Χρηματοπιστωτικά, Καζίνο, Απόφοιτοι Ξενοδοχειακής Σχολής\n"
     ]
    },
    {
     "name": "stderr",
     "output_type": "stream",
     "text": [
      "\r",
      " 74%|███████▍  | 742/1000 [2:56:21<1:02:44, 14.59s/it]"
     ]
    },
    {
     "name": "stdout",
     "output_type": "stream",
     "text": [
      "MELCO Resorts & Entertainment - Project Engineer, Infrastructure Integration - Limassol - Melco Resorts & Entertainment\n",
      "titleofjob=MELCO Resorts & Entertainment - Project Engineer, Infrastructure Integration - Limassol\n",
      "refernce_number=147944\n",
      "city=Λεμεσός\n",
      "date_posted=07/09/2021\n",
      "expire_date=20/09/2021\n",
      "views=283\n",
      "type_of_employment=Πλήρης\n",
      "employment_sector=Καζίνο\n",
      "publisher=Δημόσια Εταιρεία (PLC)\n",
      "category=Πληροφορική, Καζίνο\n"
     ]
    },
    {
     "name": "stderr",
     "output_type": "stream",
     "text": [
      "\r",
      " 74%|███████▍  | 743/1000 [2:56:34<1:00:43, 14.18s/it]"
     ]
    },
    {
     "name": "stdout",
     "output_type": "stream",
     "text": [
      "Λειτουργός Ανάπτυξης Προϊόντων - CNP CYPRIALIFE - Λευκωσία, Κύπρος - RED HR Solutions\n",
      "titleofjob=Λειτουργός Ανάπτυξης Προϊόντων - CNP CYPRIALIFE - Λευκωσία, Κύπρος\n",
      "refernce_number=147942\n",
      "city=Λευκωσία\n",
      "date_posted=07/09/2021\n",
      "expire_date=10/09/2021\n",
      "views=857\n",
      "type_of_employment=Πλήρης\n",
      "employment_sector=Ασφαλιστικές εταιρείες\n",
      "publisher=Ιδιωτική Εταιρεία (LTD)\n",
      "category=Ασφαλιστές, Μαθηματικοί / Στατιστικολόγοι, Χρηματοοικονομικά/Χρηματοπιστωτικά\n"
     ]
    },
    {
     "name": "stderr",
     "output_type": "stream",
     "text": [
      "\r",
      " 74%|███████▍  | 744/1000 [2:56:49<1:01:29, 14.41s/it]"
     ]
    },
    {
     "name": "stdout",
     "output_type": "stream",
     "text": [
      "Maintenance Worker - Sveltos Estates Ltd (The Ciao Stelio Deluxe Hotel)\n",
      "titleofjob=Maintenance Worker\n",
      "refernce_number=147931\n",
      "city=Λάρνακα\n",
      "date_posted=07/09/2021\n",
      "expire_date=20/09/2021\n",
      "views=339\n",
      "type_of_employment=Πλήρης\n",
      "employment_sector=Τουρισμός - Ξενοδοχεία\n",
      "publisher=Ιδιωτική Εταιρεία (LTD)\n",
      "category=Υπάλληλοι HORECA, Εργάτες - Τεχνίτες, Τεχνικοί\n"
     ]
    },
    {
     "name": "stderr",
     "output_type": "stream",
     "text": [
      "\r",
      " 74%|███████▍  | 745/1000 [2:57:04<1:01:37, 14.50s/it]"
     ]
    },
    {
     "name": "stdout",
     "output_type": "stream",
     "text": [
      "Internal Audit Officer - Banking Institution - Nicosia, Cyprus - RED HR Solutions\n",
      "titleofjob=Internal Audit Officer - Banking Institution - Nicosia, Cyprus\n",
      "refernce_number=147949\n",
      "city=Λευκωσία\n",
      "date_posted=07/09/2021\n",
      "expire_date=20/09/2021\n",
      "views=756\n",
      "type_of_employment=Πλήρης\n",
      "employment_sector=Τράπεζες / Χρηματοπιστωτικά Ιδρύματα\n",
      "publisher=Ιδιωτική Εταιρεία (LTD)\n",
      "category=Λογιστές, Μαθηματικοί / Στατιστικολόγοι, Χρηματοοικονομικά/Χρηματοπιστωτικά\n"
     ]
    },
    {
     "name": "stderr",
     "output_type": "stream",
     "text": [
      "\r",
      " 75%|███████▍  | 746/1000 [2:57:18<1:00:41, 14.34s/it]"
     ]
    },
    {
     "name": "stdout",
     "output_type": "stream",
     "text": [
      "Store Manager - Sophia Trading Ltd\n",
      "titleofjob=Store Manager\n",
      "refernce_number=147957\n",
      "city=Λεμεσός\n",
      "date_posted=07/09/2021\n",
      "expire_date=20/09/2021\n",
      "views=214\n",
      "type_of_employment=Πλήρης\n",
      "employment_sector=Λιανικό Εμπόριο\n",
      "publisher=Ιδιωτική Εταιρεία (LTD)\n",
      "category=Πωλητές - Καταστήματα\n"
     ]
    },
    {
     "name": "stderr",
     "output_type": "stream",
     "text": [
      "\r",
      " 75%|███████▍  | 747/1000 [2:57:32<1:00:53, 14.44s/it]"
     ]
    },
    {
     "name": "stdout",
     "output_type": "stream",
     "text": [
      "MELCO Resorts & Entertainment - Technician - Limassol - Melco Resorts & Entertainment\n",
      "titleofjob=MELCO Resorts & Entertainment - Technician - Limassol\n",
      "refernce_number=147945\n",
      "city=Λεμεσός\n",
      "date_posted=07/09/2021\n",
      "expire_date=20/09/2021\n",
      "views=266\n",
      "type_of_employment=Πλήρης\n",
      "employment_sector=Καζίνο\n",
      "publisher=Δημόσια Εταιρεία (PLC)\n",
      "category=Τεχνικοί, Καζίνο\n"
     ]
    },
    {
     "name": "stderr",
     "output_type": "stream",
     "text": [
      "\r",
      " 75%|███████▍  | 748/1000 [2:57:47<1:01:05, 14.54s/it]"
     ]
    },
    {
     "name": "stdout",
     "output_type": "stream",
     "text": [
      "Barista - COFFEEBREAK BOUGATSA & KAFES ATHALASSAS\n",
      "titleofjob=Barista\n",
      "refernce_number=147958\n",
      "city=Λευκωσία\n",
      "date_posted=07/09/2021\n",
      "expire_date=20/09/2021\n",
      "views=250\n",
      "type_of_employment=Πλήρη ή Μερική\n",
      "employment_sector=Εστιατόρια / Καφετέριες\n",
      "publisher=Ιδιωτική Εταιρεία (LTD)\n",
      "category=Υπάλληλοι HORECA, Baristas\n"
     ]
    },
    {
     "name": "stderr",
     "output_type": "stream",
     "text": [
      "\r",
      " 75%|███████▍  | 749/1000 [2:58:02<1:00:35, 14.49s/it]"
     ]
    },
    {
     "name": "stdout",
     "output_type": "stream",
     "text": [
      "Officer Internal Control - CNP CYPRUS INSURANCE HOLDINGS - Nicosia, Cyprus - RED HR Solutions\n",
      "titleofjob=Officer Internal Control - CNP CYPRUS INSURANCE HOLDINGS - Nicosia, Cyprus\n",
      "refernce_number=147939\n",
      "city=Λευκωσία\n",
      "date_posted=07/09/2021\n",
      "expire_date=10/09/2021\n",
      "views=893\n",
      "type_of_employment=Πλήρης\n",
      "employment_sector=Ασφαλιστικές εταιρείες\n",
      "publisher=Ιδιωτική Εταιρεία (LTD)\n",
      "category=Ασφαλιστές, Ελεγκτές, Λογιστές, Χρηματοοικονομικά/Χρηματοπιστωτικά\n"
     ]
    },
    {
     "name": "stderr",
     "output_type": "stream",
     "text": [
      "\r",
      " 75%|███████▌  | 750/1000 [2:58:16<59:43, 14.33s/it]  "
     ]
    },
    {
     "name": "stdout",
     "output_type": "stream",
     "text": [
      "Ηλεκτρολόγος Εγκαταστάσεων - ELECTRON TRUST LTD\n",
      "titleofjob=Ηλεκτρολόγος Εγκαταστάσεων\n",
      "refernce_number=147838\n",
      "city=Λευκωσία, Λάρνακα\n",
      "date_posted=07/09/2021\n",
      "expire_date=20/09/2021\n",
      "views=845\n",
      "type_of_employment=Πλήρης\n",
      "employment_sector=Ηλεκτρικές εγκαταστάσεις\n",
      "publisher=Ιδιωτική Εταιρεία (LTD)\n",
      "category=Ηλεκτρολόγοι\n"
     ]
    },
    {
     "name": "stderr",
     "output_type": "stream",
     "text": [
      "\r",
      " 75%|███████▌  | 751/1000 [2:58:30<1:00:14, 14.52s/it]"
     ]
    },
    {
     "name": "stdout",
     "output_type": "stream",
     "text": [
      "Junior Secretary - Doctor A.S.\n",
      "titleofjob=Junior Secretary\n",
      "refernce_number=147956\n",
      "city=Λεμεσός\n",
      "date_posted=07/09/2021\n",
      "expire_date=20/09/2021\n",
      "views=749\n",
      "type_of_employment=Πλήρη ή Μερική\n",
      "employment_sector=Νοσοκομεία / Κλινικές\n",
      "publisher=Ιδιωτική Εταιρεία (LTD)\n",
      "category=Γραμματειακά, Εξυπηρέτηση Πελατών\n"
     ]
    },
    {
     "name": "stderr",
     "output_type": "stream",
     "text": [
      "\r",
      " 75%|███████▌  | 752/1000 [2:58:45<1:00:02, 14.53s/it]"
     ]
    },
    {
     "name": "stdout",
     "output_type": "stream",
     "text": [
      "Waiters/Waitresses - Stoa Urban Kitchen\n",
      "titleofjob=Waiters/Waitresses\n",
      "refernce_number=147926\n",
      "city=Λεμεσός\n",
      "date_posted=07/09/2021\n",
      "expire_date=20/09/2021\n",
      "views=376\n",
      "type_of_employment=Πλήρη ή Μερική\n",
      "employment_sector=Εστιατόρια / Καφετέριες\n",
      "publisher=Ιδιωτική Εταιρεία (LTD)\n",
      "category=Υπάλληλοι HORECA, Σερβιτόροι\n"
     ]
    },
    {
     "name": "stderr",
     "output_type": "stream",
     "text": [
      "\r",
      " 75%|███████▌  | 753/1000 [2:59:00<59:53, 14.55s/it]  "
     ]
    },
    {
     "name": "stdout",
     "output_type": "stream",
     "text": [
      "Forklift Driver/Οδηγός Φόρκλιφτ - RETAL CYPRUS LTD\n",
      "titleofjob=Forklift Driver/Οδηγός Φόρκλιφτ\n",
      "refernce_number=147923\n",
      "city=Λεμεσός\n",
      "date_posted=07/09/2021\n",
      "expire_date=20/09/2021\n",
      "views=309\n",
      "type_of_employment=Πλήρης\n",
      "employment_sector=Μηχανολογικές Εργασίες\n",
      "publisher=Ιδιωτική Εταιρεία (LTD)\n",
      "category=Οδηγοί\n"
     ]
    },
    {
     "name": "stderr",
     "output_type": "stream",
     "text": [
      "\r",
      " 75%|███████▌  | 754/1000 [2:59:15<1:00:34, 14.77s/it]"
     ]
    },
    {
     "name": "stdout",
     "output_type": "stream",
     "text": [
      "Human Resources Officer - VIAGOLD Ltd\n",
      "titleofjob=Human Resources Officer\n",
      "refernce_number=147922\n",
      "city=Λάρνακα\n",
      "date_posted=07/09/2021\n",
      "expire_date=20/09/2021\n",
      "views=766\n",
      "type_of_employment=Πλήρης\n",
      "employment_sector=Μάρκετινγκ / Διαφήμιση\n",
      "publisher=Ιδιωτική Εταιρεία (LTD)\n",
      "category=Ανθρώπινο Δυναμικό\n"
     ]
    },
    {
     "name": "stderr",
     "output_type": "stream",
     "text": [
      "\r",
      " 76%|███████▌  | 755/1000 [2:59:29<59:32, 14.58s/it]  "
     ]
    },
    {
     "name": "stdout",
     "output_type": "stream",
     "text": [
      "Waiters / Waitresses - Sveltos Estates ltd (Sveltos Hotel)\n",
      "titleofjob=Waiters / Waitresses\n",
      "refernce_number=147941\n",
      "city=Λάρνακα\n",
      "date_posted=07/09/2021\n",
      "expire_date=20/09/2021\n",
      "views=195\n",
      "type_of_employment=Πλήρης\n",
      "employment_sector=Τουρισμός - Ξενοδοχεία\n",
      "publisher=Ιδιωτική Εταιρεία (LTD)\n",
      "category=Εξυπηρέτηση Πελατών, Υπάλληλοι HORECA, Σερβιτόροι\n"
     ]
    },
    {
     "name": "stderr",
     "output_type": "stream",
     "text": [
      "\r",
      " 76%|███████▌  | 756/1000 [2:59:43<58:24, 14.36s/it]"
     ]
    },
    {
     "name": "stdout",
     "output_type": "stream",
     "text": [
      "Γραμματειακός Λειτουργός - Κυβερνητικές Θέσεις εργασίας\n",
      "titleofjob=Γραμματειακός Λειτουργός\n",
      "refernce_number=147953\n",
      "city=Λεμεσός, Λευκωσία, Λάρνακα, Πάφος, Αμμόχωστος\n",
      "date_posted=07/09/2021\n",
      "expire_date=20/09/2021\n",
      "views=1498\n",
      "type_of_employment=Πλήρης\n",
      "employment_sector=Κρατικοί Οργανισμοί\n",
      "publisher=Κρατικός οργανισμός\n",
      "category=Κυβερνητικές Θέσεις Εργασίας\n"
     ]
    },
    {
     "name": "stderr",
     "output_type": "stream",
     "text": [
      "\r",
      " 76%|███████▌  | 757/1000 [2:59:59<59:57, 14.80s/it]"
     ]
    },
    {
     "name": "stdout",
     "output_type": "stream",
     "text": [
      "Υπεύθυνος/η Καταστήματος - ROOM1219 ltd\n",
      "titleofjob=Υπεύθυνος/η Καταστήματος\n",
      "refernce_number=147940\n",
      "city=Λεμεσός\n",
      "date_posted=07/09/2021\n",
      "expire_date=20/09/2021\n",
      "views=257\n",
      "type_of_employment=Πλήρης\n",
      "employment_sector=Λιανικό Εμπόριο\n",
      "publisher=Ιδιωτική Εταιρεία (LTD)\n",
      "category=Ταμίες, Πωλητές - Καταστήματα, Υπεύθυνοι Πωλήσεων\n"
     ]
    },
    {
     "name": "stderr",
     "output_type": "stream",
     "text": [
      "\r",
      " 76%|███████▌  | 758/1000 [3:00:13<58:44, 14.56s/it]"
     ]
    },
    {
     "name": "stdout",
     "output_type": "stream",
     "text": [
      "Λειτουργός Δημοτικής Υπηρεσίας - Κυβερνητικές Θέσεις εργασίας\n",
      "titleofjob=Λειτουργός Δημοτικής Υπηρεσίας\n",
      "refernce_number=147952\n",
      "city=Λεμεσός, Λευκωσία, Λάρνακα, Πάφος, Αμμόχωστος\n",
      "date_posted=07/09/2021\n",
      "expire_date=20/09/2021\n",
      "views=1927\n",
      "type_of_employment=Πλήρης\n",
      "employment_sector=Κρατικοί Οργανισμοί\n",
      "publisher=Κρατικός οργανισμός\n",
      "category=Καθηγητές / Ακαδημαϊκοί, Διοίκηση επιχειρήσεων, Δάσκαλοι, Κοινωνικές / Πολιτικές Επιστήμες, Κυβερνητικές Θέσεις Εργασίας, Δικηγόροι, Οικονομολόγοι, Ψυχολόγοι, Ευρώπη / Διεθνείς Οργανισμοί\n"
     ]
    },
    {
     "name": "stderr",
     "output_type": "stream",
     "text": [
      "\r",
      " 76%|███████▌  | 759/1000 [3:00:26<57:00, 14.19s/it]"
     ]
    },
    {
     "name": "stdout",
     "output_type": "stream",
     "text": [
      "Λειτουργοί Ευρωπαϊκών Προγραμμάτων - Κυβερνητικές Θέσεις εργασίας\n",
      "titleofjob=Λειτουργοί Ευρωπαϊκών Προγραμμάτων\n",
      "refernce_number=147951\n",
      "city=Λεμεσός, Λευκωσία, Λάρνακα, Πάφος, Αμμόχωστος\n",
      "date_posted=07/09/2021\n",
      "expire_date=17/09/2021\n",
      "views=3116\n",
      "type_of_employment=Πλήρης\n",
      "employment_sector=Κρατικοί Οργανισμοί\n",
      "publisher=Κρατικός οργανισμός\n",
      "category=Διοίκηση επιχειρήσεων, Κοινωνικές / Πολιτικές Επιστήμες, Κυβερνητικές Θέσεις Εργασίας, Λογιστές, Δικηγόροι, Πληροφορική, Χρηματοοικονομικά/Χρηματοπιστωτικά, Ευρώπη / Διεθνείς Οργανισμοί\n"
     ]
    },
    {
     "name": "stderr",
     "output_type": "stream",
     "text": [
      "\r",
      " 76%|███████▌  | 760/1000 [3:00:41<57:29, 14.37s/it]"
     ]
    },
    {
     "name": "stdout",
     "output_type": "stream",
     "text": [
      "Πωλητής/Πωλήτρια (Sales Assistant) - D & Th Toumba Ltd\n",
      "titleofjob=Πωλητής/Πωλήτρια (Sales Assistant)\n",
      "refernce_number=147920\n",
      "city=Λεμεσός, Λευκωσία\n",
      "date_posted=07/09/2021\n",
      "expire_date=20/09/2021\n",
      "views=331\n",
      "type_of_employment=Πλήρης\n",
      "employment_sector=Υπεραγορές / Πολυκαταστήματα\n",
      "publisher=Ιδιωτική Εταιρεία (LTD)\n",
      "category=Υπεραγορές - Πολυκαταστήματα, Πωλητές - Καταστήματα\n"
     ]
    },
    {
     "name": "stderr",
     "output_type": "stream",
     "text": [
      "\r",
      " 76%|███████▌  | 761/1000 [3:00:55<56:56, 14.29s/it]"
     ]
    },
    {
     "name": "stdout",
     "output_type": "stream",
     "text": [
      "Go Developers (Cyprus/Greece/Remote) - XM\n",
      "titleofjob=Go Developers (Cyprus/Greece/Remote)\n",
      "refernce_number=147915\n",
      "city=Λεμεσός, Λευκωσία\n",
      "date_posted=07/09/2021\n",
      "expire_date=20/09/2021\n",
      "views=564\n",
      "type_of_employment=Πλήρης\n",
      "employment_sector=Forex\n",
      "publisher=Ιδιωτική Εταιρεία (LTD)\n",
      "category=Πληροφορική\n"
     ]
    },
    {
     "name": "stderr",
     "output_type": "stream",
     "text": [
      "\r",
      " 76%|███████▌  | 762/1000 [3:01:09<56:18, 14.20s/it]"
     ]
    },
    {
     "name": "stdout",
     "output_type": "stream",
     "text": [
      "Barista - E.M.P Restaurants Ltd\n",
      "titleofjob=Barista\n",
      "refernce_number=147927\n",
      "city=Πάφος\n",
      "date_posted=07/09/2021\n",
      "expire_date=20/09/2021\n",
      "views=341\n",
      "type_of_employment=Πλήρης\n",
      "employment_sector=Εστιατόρια / Καφετέριες\n",
      "publisher=Ιδιωτική Εταιρεία (LTD)\n",
      "category=Υπάλληλοι HORECA, Baristas\n"
     ]
    },
    {
     "name": "stderr",
     "output_type": "stream",
     "text": [
      "\r",
      " 76%|███████▋  | 763/1000 [3:01:22<54:55, 13.90s/it]"
     ]
    },
    {
     "name": "stdout",
     "output_type": "stream",
     "text": [
      "Video & Motion Graphics Designer - XM\n",
      "titleofjob=Video & Motion Graphics Designer\n",
      "refernce_number=147943\n",
      "city=Λεμεσός\n",
      "date_posted=07/09/2021\n",
      "expire_date=20/09/2021\n",
      "views=388\n",
      "type_of_employment=Πλήρης\n",
      "employment_sector=Forex\n",
      "publisher=Ιδιωτική Εταιρεία (LTD)\n",
      "category=Μάρκετινγκ / Δημόσιες Σχέσεις, Γραφίστες\n"
     ]
    },
    {
     "name": "stderr",
     "output_type": "stream",
     "text": [
      "\r",
      " 76%|███████▋  | 764/1000 [3:01:37<55:10, 14.03s/it]"
     ]
    },
    {
     "name": "stdout",
     "output_type": "stream",
     "text": [
      "Project Manager - Uniteam Recruitment Services\n",
      "titleofjob=Project Manager\n",
      "refernce_number=147919\n",
      "city=Λεμεσός\n",
      "date_posted=07/09/2021\n",
      "expire_date=20/09/2021\n",
      "views=200\n",
      "type_of_employment=Πλήρης\n",
      "employment_sector=Πληροφορική\n",
      "publisher=Ιδιωτική Εταιρεία (LTD)\n",
      "category=Πληροφορική\n"
     ]
    },
    {
     "name": "stderr",
     "output_type": "stream",
     "text": [
      "\r",
      " 76%|███████▋  | 765/1000 [3:01:50<53:45, 13.72s/it]"
     ]
    },
    {
     "name": "stdout",
     "output_type": "stream",
     "text": [
      "Λειτουργός Εξυπηρέτησης Πελατών - iRepair Cyprus Ltd\n",
      "titleofjob=Λειτουργός Εξυπηρέτησης Πελατών\n",
      "refernce_number=147934\n",
      "city=Λευκωσία\n",
      "date_posted=07/09/2021\n",
      "expire_date=20/09/2021\n",
      "views=712\n",
      "type_of_employment=Πλήρης\n",
      "employment_sector=Καταστήματα Ηλεκτρικών και Ηλεκτρονικών Ειδών\n",
      "publisher=Ιδιωτική Εταιρεία (LTD)\n",
      "category=Πωλητές - Καταστήματα\n"
     ]
    },
    {
     "name": "stderr",
     "output_type": "stream",
     "text": [
      "\r",
      " 77%|███████▋  | 766/1000 [3:02:05<55:06, 14.13s/it]"
     ]
    },
    {
     "name": "stdout",
     "output_type": "stream",
     "text": [
      "Procurement Officer - Uniteam Recruitment Services\n",
      "titleofjob=Procurement Officer\n",
      "refernce_number=147918\n",
      "city=Λεμεσός\n",
      "date_posted=07/09/2021\n",
      "expire_date=20/09/2021\n",
      "views=404\n",
      "type_of_employment=Πλήρης\n",
      "employment_sector=Ναυτιλιακές Εταιρείες\n",
      "publisher=Ιδιωτική Εταιρεία (LTD)\n",
      "category=Ναυτιλιακά\n"
     ]
    },
    {
     "name": "stderr",
     "output_type": "stream",
     "text": [
      "\r",
      " 77%|███████▋  | 767/1000 [3:02:19<55:36, 14.32s/it]"
     ]
    },
    {
     "name": "stdout",
     "output_type": "stream",
     "text": [
      "Γραμματέας (Δικηγορικού Γραφείου) - Mouaimis & Mouaimis LLC\n",
      "titleofjob=Γραμματέας (Δικηγορικού Γραφείου)\n",
      "refernce_number=147916\n",
      "city=Λεμεσός\n",
      "date_posted=07/09/2021\n",
      "expire_date=20/09/2021\n",
      "views=621\n",
      "type_of_employment=Πλήρης\n",
      "employment_sector=Δικηγορικά γραφεία\n",
      "publisher=Ιδιωτική Εταιρεία (LTD)\n",
      "category=Γραμματειακά\n"
     ]
    },
    {
     "name": "stderr",
     "output_type": "stream",
     "text": [
      "\r",
      " 77%|███████▋  | 768/1000 [3:02:33<54:49, 14.18s/it]"
     ]
    },
    {
     "name": "stdout",
     "output_type": "stream",
     "text": [
      "Admissions Officer - The Cyprus Institute of Marketing (CIM)\n",
      "titleofjob=Admissions Officer\n",
      "refernce_number=147948\n",
      "city=Λεμεσός\n",
      "date_posted=07/09/2021\n",
      "expire_date=20/09/2021\n",
      "views=527\n",
      "type_of_employment=Πλήρης\n",
      "employment_sector=Μη διαθέσιμο\n",
      "publisher=Πανεπιστήμιο / Εκπαιδευτικό Κέντρο\n",
      "category=Ανθρώπινο Δυναμικό , Διοίκηση επιχειρήσεων, Μάρκετινγκ / Δημόσιες Σχέσεις\n"
     ]
    },
    {
     "name": "stderr",
     "output_type": "stream",
     "text": [
      "\r",
      " 77%|███████▋  | 769/1000 [3:02:48<55:35, 14.44s/it]"
     ]
    },
    {
     "name": "stdout",
     "output_type": "stream",
     "text": [
      "Conversion Agent - FXVC Online Trading\n",
      "titleofjob=Conversion Agent\n",
      "refernce_number=147917\n",
      "city=Λεμεσός\n",
      "date_posted=07/09/2021\n",
      "expire_date=20/09/2021\n",
      "views=259\n",
      "type_of_employment=Πλήρης\n",
      "employment_sector=Forex\n",
      "publisher=Ιδιωτική Εταιρεία (LTD)\n",
      "category=Forex\n"
     ]
    },
    {
     "name": "stderr",
     "output_type": "stream",
     "text": [
      "\r",
      " 77%|███████▋  | 770/1000 [3:03:02<54:21, 14.18s/it]"
     ]
    },
    {
     "name": "stdout",
     "output_type": "stream",
     "text": [
      "Βοηθός Γραμματειακού Λειτουργού - Κυβερνητικές Θέσεις εργασίας\n",
      "titleofjob=Βοηθός Γραμματειακού Λειτουργού\n",
      "refernce_number=147946\n",
      "city=Λεμεσός, Λευκωσία, Λάρνακα, Πάφος, Αμμόχωστος\n",
      "date_posted=07/09/2021\n",
      "expire_date=10/09/2021\n",
      "views=2960\n",
      "type_of_employment=Πλήρης\n",
      "employment_sector=Κρατικοί Οργανισμοί\n",
      "publisher=Κρατικός οργανισμός\n",
      "category=Γραμματειακά, Κυβερνητικές Θέσεις Εργασίας, Λογιστές\n"
     ]
    },
    {
     "name": "stderr",
     "output_type": "stream",
     "text": [
      "\r",
      " 77%|███████▋  | 771/1000 [3:03:17<54:56, 14.39s/it]"
     ]
    },
    {
     "name": "stdout",
     "output_type": "stream",
     "text": [
      "Back Office Officer - ZFN EUROPE LTD\n",
      "titleofjob=Back Office Officer\n",
      "refernce_number=147936\n",
      "city=Λεμεσός\n",
      "date_posted=07/09/2021\n",
      "expire_date=20/09/2021\n",
      "views=453\n",
      "type_of_employment=Πλήρης\n",
      "employment_sector=Forex\n",
      "publisher=Ιδιωτική Εταιρεία (LTD)\n",
      "category=Εξυπηρέτηση Πελατών, Λογιστές, Οικονομολόγοι, Χρηματοοικονομικά/Χρηματοπιστωτικά\n"
     ]
    },
    {
     "name": "stderr",
     "output_type": "stream",
     "text": [
      "\r",
      " 77%|███████▋  | 772/1000 [3:03:32<55:09, 14.51s/it]"
     ]
    },
    {
     "name": "stdout",
     "output_type": "stream",
     "text": [
      "Senior Dealer - ZFN EUROPE LTD\n",
      "titleofjob=Senior Dealer\n",
      "refernce_number=147938\n",
      "city=Λεμεσός\n",
      "date_posted=07/09/2021\n",
      "expire_date=20/09/2021\n",
      "views=242\n",
      "type_of_employment=Πλήρης\n",
      "employment_sector=Forex\n",
      "publisher=Ιδιωτική Εταιρεία (LTD)\n",
      "category=Μαθηματικοί / Στατιστικολόγοι, Οικονομολόγοι, Χρηματοοικονομικά/Χρηματοπιστωτικά\n"
     ]
    },
    {
     "name": "stderr",
     "output_type": "stream",
     "text": [
      "\r",
      " 77%|███████▋  | 773/1000 [3:03:46<54:19, 14.36s/it]"
     ]
    },
    {
     "name": "stdout",
     "output_type": "stream",
     "text": [
      "Junior Dealer - ZFN EUROPE LTD\n",
      "titleofjob=Junior Dealer\n",
      "refernce_number=147937\n",
      "city=Λεμεσός\n",
      "date_posted=07/09/2021\n",
      "expire_date=20/09/2021\n",
      "views=483\n",
      "type_of_employment=Πλήρης\n",
      "employment_sector=Forex\n",
      "publisher=Ιδιωτική Εταιρεία (LTD)\n",
      "category=Μαθηματικοί / Στατιστικολόγοι, Οικονομολόγοι, Χρηματοοικονομικά/Χρηματοπιστωτικά\n"
     ]
    },
    {
     "name": "stderr",
     "output_type": "stream",
     "text": [
      "\r",
      " 77%|███████▋  | 774/1000 [3:04:00<53:43, 14.26s/it]"
     ]
    },
    {
     "name": "stdout",
     "output_type": "stream",
     "text": [
      "Back Office & Reconciliation Officer - ZFN EUROPE LTD\n",
      "titleofjob=Back Office & Reconciliation Officer\n",
      "refernce_number=147935\n",
      "city=Λεμεσός\n",
      "date_posted=07/09/2021\n",
      "expire_date=20/09/2021\n",
      "views=297\n",
      "type_of_employment=Πλήρης\n",
      "employment_sector=Forex\n",
      "publisher=Ιδιωτική Εταιρεία (LTD)\n",
      "category=Εξυπηρέτηση Πελατών, Μαθηματικοί / Στατιστικολόγοι, Οικονομολόγοι, Χρηματοοικονομικά/Χρηματοπιστωτικά\n"
     ]
    },
    {
     "name": "stderr",
     "output_type": "stream",
     "text": [
      "\r",
      " 78%|███████▊  | 775/1000 [3:04:14<54:13, 14.46s/it]"
     ]
    },
    {
     "name": "stdout",
     "output_type": "stream",
     "text": [
      "Εφόρος Εταιρειών και Επίσημος Παραλήπτης - Κυβερνητικές Θέσεις εργασίας\n",
      "titleofjob=Εφόρος Εταιρειών και Επίσημος Παραλήπτης\n",
      "refernce_number=147932\n",
      "city=Λεμεσός, Λευκωσία, Λάρνακα, Πάφος, Αμμόχωστος\n",
      "date_posted=07/09/2021\n",
      "expire_date=10/09/2021\n",
      "views=1894\n",
      "type_of_employment=Πλήρης\n",
      "employment_sector=Κρατικοί Οργανισμοί\n",
      "publisher=Κρατικός οργανισμός\n",
      "category=Διοίκηση επιχειρήσεων, Κοινωνικές / Πολιτικές Επιστήμες, Κυβερνητικές Θέσεις Εργασίας, Λογιστές, Μάρκετινγκ / Δημόσιες Σχέσεις, Δικηγόροι, Οικονομολόγοι, Χρηματοοικονομικά/Χρηματοπιστωτικά\n"
     ]
    },
    {
     "name": "stderr",
     "output_type": "stream",
     "text": [
      "\r",
      " 78%|███████▊  | 776/1000 [3:04:29<53:51, 14.43s/it]"
     ]
    },
    {
     "name": "stdout",
     "output_type": "stream",
     "text": [
      "Ελεγκτής - Κυβερνητικές Θέσεις εργασίας\n",
      "titleofjob=Ελεγκτής\n",
      "refernce_number=147928\n",
      "city=Λεμεσός, Λευκωσία, Λάρνακα, Πάφος, Αμμόχωστος\n",
      "date_posted=07/09/2021\n",
      "expire_date=10/09/2021\n",
      "views=1128\n",
      "type_of_employment=Πλήρης\n",
      "employment_sector=Κρατικοί Οργανισμοί\n",
      "publisher=Κρατικός οργανισμός\n",
      "category=Ελεγκτές, Λογιστές, Χρηματοοικονομικά/Χρηματοπιστωτικά\n"
     ]
    },
    {
     "name": "stderr",
     "output_type": "stream",
     "text": [
      "\r",
      " 78%|███████▊  | 777/1000 [3:04:43<53:30, 14.40s/it]"
     ]
    },
    {
     "name": "stdout",
     "output_type": "stream",
     "text": [
      "Δικαστικός Επιδότης - Κυβερνητικές Θέσεις εργασίας\n",
      "titleofjob=Δικαστικός Επιδότης\n",
      "refernce_number=147925\n",
      "city=Λεμεσός, Λευκωσία, Λάρνακα, Πάφος, Αμμόχωστος\n",
      "date_posted=07/09/2021\n",
      "expire_date=10/09/2021\n",
      "views=1618\n",
      "type_of_employment=Πλήρης\n",
      "employment_sector=Κρατικοί Οργανισμοί\n",
      "publisher=Κρατικός οργανισμός\n",
      "category=Γραμματειακά, Κυβερνητικές Θέσεις Εργασίας, Δικηγόροι\n"
     ]
    },
    {
     "name": "stderr",
     "output_type": "stream",
     "text": [
      "\r",
      " 78%|███████▊  | 778/1000 [3:04:58<53:40, 14.51s/it]"
     ]
    },
    {
     "name": "stdout",
     "output_type": "stream",
     "text": [
      "Στενογράφος - Κυβερνητικές Θέσεις εργασίας\n",
      "titleofjob=Στενογράφος\n",
      "refernce_number=147924\n",
      "city=Λεμεσός, Λευκωσία, Λάρνακα, Πάφος, Αμμόχωστος\n",
      "date_posted=07/09/2021\n",
      "expire_date=10/09/2021\n",
      "views=603\n",
      "type_of_employment=Πλήρης\n",
      "employment_sector=Κρατικοί Οργανισμοί\n",
      "publisher=Κρατικός οργανισμός\n",
      "category=Γραμματειακά, Κυβερνητικές Θέσεις Εργασίας\n"
     ]
    },
    {
     "name": "stderr",
     "output_type": "stream",
     "text": [
      "\r",
      " 78%|███████▊  | 779/1000 [3:05:12<52:51, 14.35s/it]"
     ]
    },
    {
     "name": "stdout",
     "output_type": "stream",
     "text": [
      "English Lecturer - Casa College\n",
      "titleofjob=English Lecturer\n",
      "refernce_number=147735\n",
      "city=Λευκωσία\n",
      "date_posted=07/09/2021\n",
      "expire_date=20/09/2021\n",
      "views=381\n",
      "type_of_employment=Πλήρης\n",
      "employment_sector=Εκπαιδευτικά Κέντρα / Φροντιστήρια\n",
      "publisher=Ιδιωτική Εταιρεία (LTD)\n",
      "category=Καθηγητές / Ακαδημαϊκοί, Ξένες Γλώσσες / Μεταφραστές, Ακαδημαϊκοί Ερευνητές\n"
     ]
    },
    {
     "name": "stderr",
     "output_type": "stream",
     "text": [
      "\r",
      " 78%|███████▊  | 780/1000 [3:05:26<52:28, 14.31s/it]"
     ]
    },
    {
     "name": "stdout",
     "output_type": "stream",
     "text": [
      "Copywriter - D-WAY LTD\n",
      "titleofjob=Copywriter\n",
      "refernce_number=147906\n",
      "city=Λεμεσός\n",
      "date_posted=07/09/2021\n",
      "expire_date=20/09/2021\n",
      "views=253\n",
      "type_of_employment=Πλήρης\n",
      "employment_sector=Μάρκετινγκ / Διαφήμιση\n",
      "publisher=Ιδιωτική Εταιρεία (LTD)\n",
      "category=Μάρκετινγκ / Δημόσιες Σχέσεις, ΜΜΕ-Δημοσιογραφία, Forex\n"
     ]
    },
    {
     "name": "stderr",
     "output_type": "stream",
     "text": [
      "\r",
      " 78%|███████▊  | 781/1000 [3:05:40<52:12, 14.30s/it]"
     ]
    },
    {
     "name": "stdout",
     "output_type": "stream",
     "text": [
      "Πρωτοκολλητής - Κυβερνητικές Θέσεις εργασίας\n",
      "titleofjob=Πρωτοκολλητής\n",
      "refernce_number=147921\n",
      "city=Λεμεσός, Λευκωσία, Λάρνακα, Πάφος, Αμμόχωστος\n",
      "date_posted=07/09/2021\n",
      "expire_date=10/09/2021\n",
      "views=1202\n",
      "type_of_employment=Πλήρης\n",
      "employment_sector=Κρατικοί Οργανισμοί\n",
      "publisher=Κρατικός οργανισμός\n",
      "category=Κυβερνητικές Θέσεις Εργασίας, Δικηγόροι\n"
     ]
    },
    {
     "name": "stderr",
     "output_type": "stream",
     "text": [
      "\r",
      " 78%|███████▊  | 782/1000 [3:05:54<51:18, 14.12s/it]"
     ]
    },
    {
     "name": "stdout",
     "output_type": "stream",
     "text": [
      "Λειτουργοί Πωλήσεων - ROOM1219 ltd\n",
      "titleofjob=Λειτουργοί Πωλήσεων\n",
      "refernce_number=147914\n",
      "city=Λεμεσός, Λευκωσία\n",
      "date_posted=07/09/2021\n",
      "expire_date=20/09/2021\n",
      "views=259\n",
      "type_of_employment=Πλήρη ή Μερική\n",
      "employment_sector=Λιανικό Εμπόριο\n",
      "publisher=Ιδιωτική Εταιρεία (LTD)\n",
      "category=Πωλητές - Καταστήματα\n"
     ]
    },
    {
     "name": "stderr",
     "output_type": "stream",
     "text": [
      "\r",
      " 78%|███████▊  | 783/1000 [3:06:08<50:48, 14.05s/it]"
     ]
    },
    {
     "name": "stdout",
     "output_type": "stream",
     "text": [
      "Beach Attendant - Thanos Hotels\n",
      "titleofjob=Beach Attendant\n",
      "refernce_number=147913\n",
      "city=Πάφος\n",
      "date_posted=07/09/2021\n",
      "expire_date=20/09/2021\n",
      "views=217\n",
      "type_of_employment=Πλήρης\n",
      "employment_sector=Τουρισμός - Ξενοδοχεία\n",
      "publisher=Ιδιωτική Εταιρεία (LTD)\n",
      "category=Υπάλληλοι HORECA, Απόφοιτοι Ξενοδοχειακής Σχολής\n"
     ]
    },
    {
     "name": "stderr",
     "output_type": "stream",
     "text": [
      "\r",
      " 78%|███████▊  | 784/1000 [3:06:22<50:58, 14.16s/it]"
     ]
    },
    {
     "name": "stdout",
     "output_type": "stream",
     "text": [
      "Corporate Officer - GLOBALSERVE\n",
      "titleofjob=Corporate Officer\n",
      "refernce_number=147912\n",
      "city=Λεμεσός\n",
      "date_posted=07/09/2021\n",
      "expire_date=20/09/2021\n",
      "views=422\n",
      "type_of_employment=Πλήρης\n",
      "employment_sector=Λογιστικά / Ελεγκτικά γραφεία\n",
      "publisher=Ιδιωτική Εταιρεία (LTD)\n",
      "category=Γραμματειακά, Διοίκηση επιχειρήσεων, Λογιστές, Δικηγόροι, Σύμβουλοι Επιχειρήσεων\n"
     ]
    },
    {
     "name": "stderr",
     "output_type": "stream",
     "text": [
      "\r",
      " 78%|███████▊  | 785/1000 [3:06:36<49:41, 13.87s/it]"
     ]
    },
    {
     "name": "stdout",
     "output_type": "stream",
     "text": [
      "Junior HR Administrator - IQ Option Europe Ltd\n",
      "titleofjob=Junior HR Administrator\n",
      "refernce_number=147910\n",
      "city=Λεμεσός\n",
      "date_posted=07/09/2021\n",
      "expire_date=20/09/2021\n",
      "views=1223\n",
      "type_of_employment=Πλήρης\n",
      "employment_sector=Forex\n",
      "publisher=Ιδιωτική Εταιρεία (LTD)\n",
      "category=Ανθρώπινο Δυναμικό , Forex\n"
     ]
    },
    {
     "name": "stderr",
     "output_type": "stream",
     "text": [
      "\r",
      " 79%|███████▊  | 786/1000 [3:06:49<49:15, 13.81s/it]"
     ]
    },
    {
     "name": "stdout",
     "output_type": "stream",
     "text": [
      "IP Solution Specialist (Enterprise Business Group) - Huawei Technologies (Cyprus) Co Ltd\n",
      "titleofjob=IP Solution Specialist (Enterprise Business Group)\n",
      "refernce_number=147909\n",
      "city=Λεμεσός, Λευκωσία, Λάρνακα, Πάφος, Αμμόχωστος\n",
      "date_posted=07/09/2021\n",
      "expire_date=20/09/2021\n",
      "views=343\n",
      "type_of_employment=Πλήρης\n",
      "employment_sector=Τηλεπικοινωνία / Internet\n",
      "publisher=Ιδιωτική Εταιρεία (LTD)\n",
      "category=Πληροφορική\n"
     ]
    },
    {
     "name": "stderr",
     "output_type": "stream",
     "text": [
      "\r",
      " 79%|███████▊  | 787/1000 [3:07:05<50:50, 14.32s/it]"
     ]
    },
    {
     "name": "stdout",
     "output_type": "stream",
     "text": [
      "Back Office Assistant (French Speaking) - Alvexo\n",
      "titleofjob=Back Office Assistant (French Speaking)\n",
      "refernce_number=147908\n",
      "city=Λεμεσός\n",
      "date_posted=07/09/2021\n",
      "expire_date=20/09/2021\n",
      "views=261\n",
      "type_of_employment=Πλήρης\n",
      "employment_sector=Forex\n",
      "publisher=Ιδιωτική Εταιρεία (LTD)\n",
      "category=Εξυπηρέτηση Πελατών, Ξένες Γλώσσες / Μεταφραστές, Forex\n"
     ]
    },
    {
     "name": "stderr",
     "output_type": "stream",
     "text": [
      "\r",
      " 79%|███████▉  | 788/1000 [3:07:19<50:02, 14.16s/it]"
     ]
    },
    {
     "name": "stdout",
     "output_type": "stream",
     "text": [
      "Φαρμακοποιός - Lapieto Ltd\n",
      "titleofjob=Φαρμακοποιός\n",
      "refernce_number=147907\n",
      "city=Λευκωσία\n",
      "date_posted=07/09/2021\n",
      "expire_date=20/09/2021\n",
      "views=203\n",
      "type_of_employment=Πλήρης\n",
      "employment_sector=Μη διαθέσιμο\n",
      "publisher=Ιδιωτική Εταιρεία (LTD)\n",
      "category=Φαρμακοποιοί\n"
     ]
    },
    {
     "name": "stderr",
     "output_type": "stream",
     "text": [
      "\r",
      " 79%|███████▉  | 789/1000 [3:07:32<49:24, 14.05s/it]"
     ]
    },
    {
     "name": "stdout",
     "output_type": "stream",
     "text": [
      "Βοηθός Υπεύθυνου/ης Αγορών - Lapieto Ltd\n",
      "titleofjob=Βοηθός Υπεύθυνου/ης Αγορών\n",
      "refernce_number=147905\n",
      "city=Λευκωσία\n",
      "date_posted=07/09/2021\n",
      "expire_date=20/09/2021\n",
      "views=573\n",
      "type_of_employment=Πλήρης\n",
      "employment_sector=Χοντρικό Εμπόριο\n",
      "publisher=Ιδιωτική Εταιρεία (LTD)\n",
      "category=Διοίκηση επιχειρήσεων, Χρηματοοικονομικά/Χρηματοπιστωτικά\n"
     ]
    },
    {
     "name": "stderr",
     "output_type": "stream",
     "text": [
      "\r",
      " 79%|███████▉  | 790/1000 [3:07:47<49:27, 14.13s/it]"
     ]
    },
    {
     "name": "stdout",
     "output_type": "stream",
     "text": [
      "Digital Marketing Manager - D-WAY LTD\n",
      "titleofjob=Digital Marketing Manager\n",
      "refernce_number=147904\n",
      "city=Λεμεσός\n",
      "date_posted=07/09/2021\n",
      "expire_date=20/09/2021\n",
      "views=210\n",
      "type_of_employment=Πλήρης\n",
      "employment_sector=Μάρκετινγκ / Διαφήμιση\n",
      "publisher=Ιδιωτική Εταιρεία (LTD)\n",
      "category=Μάρκετινγκ / Δημόσιες Σχέσεις, Ξένες Γλώσσες / Μεταφραστές, Forex\n"
     ]
    },
    {
     "name": "stderr",
     "output_type": "stream",
     "text": [
      "\r",
      " 79%|███████▉  | 791/1000 [3:08:02<50:11, 14.41s/it]"
     ]
    },
    {
     "name": "stdout",
     "output_type": "stream",
     "text": [
      "Εργάτες/Εργάτριες Αποθήκης (Λάρνακα) - Airtrans Group Ltd\n",
      "titleofjob=Εργάτες/Εργάτριες Αποθήκης (Λάρνακα)\n",
      "refernce_number=147903\n",
      "city=Λάρνακα\n",
      "date_posted=07/09/2021\n",
      "expire_date=20/09/2021\n",
      "views=784\n",
      "type_of_employment=Πλήρη ή Μερική\n",
      "employment_sector=Μεταφορές\n",
      "publisher=Ιδιωτική Εταιρεία (LTD)\n",
      "category=Αποθηκάριοι, Μεταφορές / Logistics\n"
     ]
    },
    {
     "name": "stderr",
     "output_type": "stream",
     "text": [
      "\r",
      " 79%|███████▉  | 792/1000 [3:08:17<50:32, 14.58s/it]"
     ]
    },
    {
     "name": "stdout",
     "output_type": "stream",
     "text": [
      "Data Governance & Quality Officer (Cyprus/Greece/Remote) - XM\n",
      "titleofjob=Data Governance & Quality Officer (Cyprus/Greece/Remote)\n",
      "refernce_number=147902\n",
      "city=Λεμεσός, Λευκωσία, Λάρνακα, Πάφος, Αμμόχωστος\n",
      "date_posted=07/09/2021\n",
      "expire_date=20/09/2021\n",
      "views=824\n",
      "type_of_employment=Πλήρης\n",
      "employment_sector=Forex\n",
      "publisher=Ιδιωτική Εταιρεία (LTD)\n",
      "category=Πληροφορική, Forex\n"
     ]
    },
    {
     "name": "stderr",
     "output_type": "stream",
     "text": [
      "\r",
      " 79%|███████▉  | 793/1000 [3:08:32<50:39, 14.68s/it]"
     ]
    },
    {
     "name": "stdout",
     "output_type": "stream",
     "text": [
      "Junior Middle Office Officer – Limassol - XM\n",
      "titleofjob=Junior Middle Office Officer – Limassol\n",
      "refernce_number=147901\n",
      "city=Λεμεσός\n",
      "date_posted=07/09/2021\n",
      "expire_date=20/09/2021\n",
      "views=590\n",
      "type_of_employment=Πλήρης\n",
      "employment_sector=Forex\n",
      "publisher=Ιδιωτική Εταιρεία (LTD)\n",
      "category=Διοίκηση επιχειρήσεων, Μαθηματικοί / Στατιστικολόγοι, Forex, Χρηματοοικονομικά/Χρηματοπιστωτικά\n"
     ]
    },
    {
     "name": "stderr",
     "output_type": "stream",
     "text": [
      "\r",
      " 79%|███████▉  | 794/1000 [3:08:46<50:16, 14.64s/it]"
     ]
    },
    {
     "name": "stdout",
     "output_type": "stream",
     "text": [
      "Junior Dealer – Limassol - XM\n",
      "titleofjob=Junior Dealer – Limassol\n",
      "refernce_number=147900\n",
      "city=Λεμεσός\n",
      "date_posted=07/09/2021\n",
      "expire_date=20/09/2021\n",
      "views=599\n",
      "type_of_employment=Πλήρης\n",
      "employment_sector=Forex\n",
      "publisher=Ιδιωτική Εταιρεία (LTD)\n",
      "category=Διοίκηση επιχειρήσεων, Μαθηματικοί / Στατιστικολόγοι, Forex, Μηχανολόγοι Μηχανικοί, Χρηματοοικονομικά/Χρηματοπιστωτικά\n"
     ]
    },
    {
     "name": "stderr",
     "output_type": "stream",
     "text": [
      "\r",
      " 80%|███████▉  | 795/1000 [3:09:01<49:46, 14.57s/it]"
     ]
    },
    {
     "name": "stdout",
     "output_type": "stream",
     "text": [
      "React Developers (CRM) - Cyprus/Greece (Remote) - XM\n",
      "titleofjob=React Developers (CRM) - Cyprus/Greece (Remote)\n",
      "refernce_number=147899\n",
      "city=Λεμεσός, Λευκωσία, Λάρνακα, Πάφος, Αμμόχωστος\n",
      "date_posted=07/09/2021\n",
      "expire_date=20/09/2021\n",
      "views=650\n",
      "type_of_employment=Πλήρης\n",
      "employment_sector=Forex\n",
      "publisher=Ιδιωτική Εταιρεία (LTD)\n",
      "category=Πληροφορική, Forex\n"
     ]
    },
    {
     "name": "stderr",
     "output_type": "stream",
     "text": [
      "\r",
      " 80%|███████▉  | 796/1000 [3:09:14<48:07, 14.15s/it]"
     ]
    },
    {
     "name": "stdout",
     "output_type": "stream",
     "text": [
      "Talent Acquisition Executive (Greece) - XM\n",
      "titleofjob=Talent Acquisition Executive (Greece)\n",
      "refernce_number=147898\n",
      "city=Λεμεσός, Λευκωσία\n",
      "date_posted=07/09/2021\n",
      "expire_date=20/09/2021\n",
      "views=519\n",
      "type_of_employment=Πλήρης\n",
      "employment_sector=Forex\n",
      "publisher=Ιδιωτική Εταιρεία (LTD)\n",
      "category=Ανθρώπινο Δυναμικό , Διοίκηση επιχειρήσεων, Forex\n"
     ]
    },
    {
     "name": "stderr",
     "output_type": "stream",
     "text": [
      "\r",
      " 80%|███████▉  | 797/1000 [3:09:28<48:10, 14.24s/it]"
     ]
    },
    {
     "name": "stdout",
     "output_type": "stream",
     "text": [
      "Network and Security Engineer (Cyprus) - XM\n",
      "titleofjob=Network and Security Engineer (Cyprus)\n",
      "refernce_number=147897\n",
      "city=Λεμεσός, Λευκωσία\n",
      "date_posted=07/09/2021\n",
      "expire_date=20/09/2021\n",
      "views=517\n",
      "type_of_employment=Πλήρης\n",
      "employment_sector=Forex\n",
      "publisher=Ιδιωτική Εταιρεία (LTD)\n",
      "category=Πληροφορική, Forex\n"
     ]
    },
    {
     "name": "stderr",
     "output_type": "stream",
     "text": [
      "\r",
      " 80%|███████▉  | 798/1000 [3:09:44<49:02, 14.57s/it]"
     ]
    },
    {
     "name": "stdout",
     "output_type": "stream",
     "text": [
      "Cook A - Parklane, a Luxury Collection Resort & Spa\n",
      "titleofjob=Cook A\n",
      "refernce_number=147895\n",
      "city=Λεμεσός\n",
      "date_posted=07/09/2021\n",
      "expire_date=20/09/2021\n",
      "views=466\n",
      "type_of_employment=Πλήρης\n",
      "employment_sector=Τουρισμός - Ξενοδοχεία\n",
      "publisher=Ιδιωτική Εταιρεία (LTD)\n",
      "category=Υπάλληλοι HORECA, Μάγειρες / Ζαχαροπλάστες, Απόφοιτοι Ξενοδοχειακής Σχολής\n"
     ]
    },
    {
     "name": "stderr",
     "output_type": "stream",
     "text": [
      "\r",
      " 80%|███████▉  | 799/1000 [3:09:58<48:46, 14.56s/it]"
     ]
    },
    {
     "name": "stdout",
     "output_type": "stream",
     "text": [
      "\n"
     ]
    },
    {
     "name": "stderr",
     "output_type": "stream",
     "text": [
      "\r",
      " 80%|████████  | 800/1000 [3:10:05<40:47, 12.24s/it]"
     ]
    },
    {
     "name": "stdout",
     "output_type": "stream",
     "text": [
      "Trading Analyst - Deriv Operations (Cyprus) Ltd\n",
      "titleofjob=Trading Analyst\n",
      "refernce_number=147894\n",
      "city=Λεμεσός\n",
      "date_posted=07/09/2021\n",
      "expire_date=20/09/2021\n",
      "views=246\n",
      "type_of_employment=Πλήρης\n",
      "employment_sector=Forex\n",
      "publisher=Ιδιωτική Εταιρεία (LTD)\n",
      "category=Forex\n"
     ]
    },
    {
     "name": "stderr",
     "output_type": "stream",
     "text": [
      "\r",
      " 80%|████████  | 801/1000 [3:10:18<41:43, 12.58s/it]"
     ]
    },
    {
     "name": "stdout",
     "output_type": "stream",
     "text": [
      "Senior Unity3D Developer - Qiiwi Games AB\n",
      "titleofjob=Senior Unity3D Developer\n",
      "refernce_number=147892\n",
      "city=Λευκωσία\n",
      "date_posted=07/09/2021\n",
      "expire_date=20/09/2021\n",
      "views=220\n",
      "type_of_employment=Πλήρης\n",
      "employment_sector=Web Design / Developing\n",
      "publisher=Ιδιωτική Εταιρεία (LTD)\n",
      "category=Πληροφορική\n"
     ]
    },
    {
     "name": "stderr",
     "output_type": "stream",
     "text": [
      "\r",
      " 80%|████████  | 802/1000 [3:10:32<42:53, 13.00s/it]"
     ]
    },
    {
     "name": "stdout",
     "output_type": "stream",
     "text": [
      "Sales Assistants - Sophia Trading Ltd\n",
      "titleofjob=Sales Assistants\n",
      "refernce_number=147896\n",
      "city=Λεμεσός\n",
      "date_posted=07/09/2021\n",
      "expire_date=20/09/2021\n",
      "views=571\n",
      "type_of_employment=Πλήρη ή Μερική\n",
      "employment_sector=Λιανικό Εμπόριο\n",
      "publisher=Ιδιωτική Εταιρεία (LTD)\n",
      "category=Πωλητές - Καταστήματα\n"
     ]
    },
    {
     "name": "stderr",
     "output_type": "stream",
     "text": [
      "\r",
      " 80%|████████  | 803/1000 [3:10:47<43:57, 13.39s/it]"
     ]
    },
    {
     "name": "stdout",
     "output_type": "stream",
     "text": [
      "Immigration Lawyer - ARETI CHARIDEMOU ASSOCIATES LLC\n",
      "titleofjob=Immigration Lawyer\n",
      "refernce_number=147891\n",
      "city=Λεμεσός\n",
      "date_posted=07/09/2021\n",
      "expire_date=20/09/2021\n",
      "views=168\n",
      "type_of_employment=Πλήρης\n",
      "employment_sector=Δικηγορικά γραφεία\n",
      "publisher=Ιδιωτική Εταιρεία (LTD)\n",
      "category=Δικηγόροι\n"
     ]
    },
    {
     "name": "stderr",
     "output_type": "stream",
     "text": [
      "\r",
      " 80%|████████  | 804/1000 [3:11:01<45:02, 13.79s/it]"
     ]
    },
    {
     "name": "stdout",
     "output_type": "stream",
     "text": [
      "Δάσκαλος/Δασκάλα - ΓΥΜΝΑΣΙΟ - ΛΥΚΕΙΟ ΟΛΥΜΠΙΟΝ\n",
      "titleofjob=Δάσκαλος/Δασκάλα\n",
      "refernce_number=147876\n",
      "city=Λευκωσία\n",
      "date_posted=07/09/2021\n",
      "expire_date=20/09/2021\n",
      "views=497\n",
      "type_of_employment=Πλήρης\n",
      "employment_sector=Εκπαιδευτικά Κέντρα / Φροντιστήρια\n",
      "publisher=Πανεπιστήμιο / Εκπαιδευτικό Κέντρο\n",
      "category=Δάσκαλοι\n"
     ]
    },
    {
     "name": "stderr",
     "output_type": "stream",
     "text": [
      "\r",
      " 80%|████████  | 805/1000 [3:11:18<48:00, 14.77s/it]"
     ]
    },
    {
     "name": "stdout",
     "output_type": "stream",
     "text": [
      "Καθηγητής/τρια Οικονομικών - ΓΥΜΝΑΣΙΟ - ΛΥΚΕΙΟ ΟΛΥΜΠΙΟΝ\n",
      "titleofjob=Καθηγητής/τρια Οικονομικών\n",
      "refernce_number=147875\n",
      "city=Λευκωσία\n",
      "date_posted=07/09/2021\n",
      "expire_date=20/09/2021\n",
      "views=396\n",
      "type_of_employment=Πλήρης\n",
      "employment_sector=Εκπαιδευτικά Κέντρα / Φροντιστήρια\n",
      "publisher=Πανεπιστήμιο / Εκπαιδευτικό Κέντρο\n",
      "category=Καθηγητές / Ακαδημαϊκοί, Οικονομολόγοι, Χρηματοοικονομικά/Χρηματοπιστωτικά\n"
     ]
    },
    {
     "name": "stderr",
     "output_type": "stream",
     "text": [
      "\r",
      " 81%|████████  | 806/1000 [3:11:32<46:19, 14.33s/it]"
     ]
    },
    {
     "name": "stdout",
     "output_type": "stream",
     "text": [
      "Clothing Store Supervisor - Elma & Fred\n",
      "titleofjob=Clothing Store Supervisor\n",
      "refernce_number=147854\n",
      "city=Λευκωσία\n",
      "date_posted=07/09/2021\n",
      "expire_date=20/09/2021\n",
      "views=200\n",
      "type_of_employment=Πλήρης\n",
      "employment_sector=Μόδα / Ένδυση / Υπόδηση\n",
      "publisher=Ιδιωτική Εταιρεία (LTD)\n",
      "category=Πωλητές - Καταστήματα, Υπεύθυνοι Πωλήσεων, Ενδυματολόγοι / Στυλίστες\n"
     ]
    },
    {
     "name": "stderr",
     "output_type": "stream",
     "text": [
      "\r",
      " 81%|████████  | 807/1000 [3:11:46<46:20, 14.41s/it]"
     ]
    },
    {
     "name": "stdout",
     "output_type": "stream",
     "text": [
      "Platform Solutions Specialist - Dosear Limited\n",
      "titleofjob=Platform Solutions Specialist\n",
      "refernce_number=147874\n",
      "city=Λάρνακα\n",
      "date_posted=07/09/2021\n",
      "expire_date=20/09/2021\n",
      "views=580\n",
      "type_of_employment=Πλήρης\n",
      "employment_sector=Μη διαθέσιμο\n",
      "publisher=Ιδιωτική Εταιρεία (LTD)\n",
      "category=Μαθηματικοί / Στατιστικολόγοι, Πληροφορική, Ηλεκτρολόγοι Μηχανικοί\n"
     ]
    },
    {
     "name": "stderr",
     "output_type": "stream",
     "text": [
      "\r",
      " 81%|████████  | 808/1000 [3:12:02<47:06, 14.72s/it]"
     ]
    },
    {
     "name": "stdout",
     "output_type": "stream",
     "text": [
      "Senior Accountant (Maternity Cover) - Exinity\n",
      "titleofjob=Senior Accountant (Maternity Cover)\n",
      "refernce_number=147877\n",
      "city=Λεμεσός\n",
      "date_posted=07/09/2021\n",
      "expire_date=20/09/2021\n",
      "views=285\n",
      "type_of_employment=Πλήρης\n",
      "employment_sector=Forex\n",
      "publisher=Ιδιωτική Εταιρεία (LTD)\n",
      "category=Λογιστές, Οικονομολόγοι, Forex, Χρηματοοικονομικά/Χρηματοπιστωτικά\n"
     ]
    },
    {
     "name": "stderr",
     "output_type": "stream",
     "text": [
      "\r",
      " 81%|████████  | 809/1000 [3:12:16<46:44, 14.68s/it]"
     ]
    },
    {
     "name": "stdout",
     "output_type": "stream",
     "text": [
      "Συνοδός Φοιτητή (Με Τετραπληγία) - Φυσικό Πρόσωπο Γ.Π.\n",
      "titleofjob=Συνοδός Φοιτητή (Με Τετραπληγία)\n",
      "refernce_number=147777\n",
      "city=Λεμεσός\n",
      "date_posted=07/09/2021\n",
      "expire_date=20/09/2021\n",
      "views=436\n",
      "type_of_employment=Μερική\n",
      "employment_sector=Μη διαθέσιμο\n",
      "publisher=Φυσικό Πρόσωπο\n",
      "category=Νοσηλευτές, Σχολικοί Συνοδοί, Φυσιοθεραπευτές\n"
     ]
    },
    {
     "name": "stderr",
     "output_type": "stream",
     "text": [
      "\r",
      " 81%|████████  | 810/1000 [3:12:31<46:23, 14.65s/it]"
     ]
    },
    {
     "name": "stdout",
     "output_type": "stream",
     "text": [
      "Co-Working Officer - CYENS\n",
      "titleofjob=Co-Working Officer\n",
      "refernce_number=147825\n",
      "city=Λευκωσία\n",
      "date_posted=07/09/2021\n",
      "expire_date=05/09/2021\n",
      "views=447\n",
      "type_of_employment=Πλήρης\n",
      "employment_sector=Start Up\n",
      "publisher=Μη κερδοσκοπικός οργανισμός\n",
      "category=Γραμματειακά, Διοίκηση επιχειρήσεων, Μάρκετινγκ / Δημόσιες Σχέσεις\n"
     ]
    },
    {
     "name": "stderr",
     "output_type": "stream",
     "text": [
      "\r",
      " 81%|████████  | 811/1000 [3:12:46<46:45, 14.85s/it]"
     ]
    },
    {
     "name": "stdout",
     "output_type": "stream",
     "text": [
      "Trainee Consultants - MGR Human Resources Ltd\n",
      "titleofjob=Trainee Consultants\n",
      "refernce_number=147857\n",
      "city=Λεμεσός, Λευκωσία\n",
      "date_posted=07/09/2021\n",
      "expire_date=03/09/2021\n",
      "views=339\n",
      "type_of_employment=Πλήρης\n",
      "employment_sector=Σύμβουλοι Επιχειρήσεων\n",
      "publisher=Ιδιωτική Εταιρεία (LTD)\n",
      "category=Διοίκηση επιχειρήσεων, Οικονομολόγοι, Χρηματοοικονομικά/Χρηματοπιστωτικά\n"
     ]
    },
    {
     "name": "stderr",
     "output_type": "stream",
     "text": [
      "\r",
      " 81%|████████  | 812/1000 [3:13:00<45:11, 14.42s/it]"
     ]
    },
    {
     "name": "stdout",
     "output_type": "stream",
     "text": [
      "Sales Specialist – Σύμβουλος Πωλήσεων - Leroy Merlin\n",
      "titleofjob=Sales Specialist – Σύμβουλος Πωλήσεων\n",
      "refernce_number=147884\n",
      "city=Λευκωσία\n",
      "date_posted=07/09/2021\n",
      "expire_date=20/09/2021\n",
      "views=488\n",
      "type_of_employment=Πλήρης\n",
      "employment_sector=Μη διαθέσιμο\n",
      "publisher=Ιδιωτική Εταιρεία (LTD)\n",
      "category=Πωλητές - Καταστήματα\n"
     ]
    },
    {
     "name": "stderr",
     "output_type": "stream",
     "text": [
      "\r",
      " 81%|████████▏ | 813/1000 [3:13:16<47:05, 15.11s/it]"
     ]
    },
    {
     "name": "stdout",
     "output_type": "stream",
     "text": [
      "Customer Experience Specialist – Υπάλληλος Εξυπηρέτησης Πελατών/Tαμείο (Μερικής Απασχόλησης) - Leroy Merlin\n",
      "titleofjob=Customer Experience Specialist – Υπάλληλος Εξυπηρέτησης Πελατών/Tαμείο (Μερικής Απασχόλησης)\n",
      "refernce_number=147880\n",
      "city=Λευκωσία\n",
      "date_posted=07/09/2021\n",
      "expire_date=20/09/2021\n",
      "views=645\n",
      "type_of_employment=Πλήρης\n",
      "employment_sector=Μη διαθέσιμο\n",
      "publisher=Ιδιωτική Εταιρεία (LTD)\n",
      "category=Ταμίες, Πωλητές - Καταστήματα\n"
     ]
    },
    {
     "name": "stderr",
     "output_type": "stream",
     "text": [
      "\r",
      " 81%|████████▏ | 814/1000 [3:13:31<46:52, 15.12s/it]"
     ]
    },
    {
     "name": "stdout",
     "output_type": "stream",
     "text": [
      "Φιλόλογος - diktio.cy\n",
      "titleofjob=Φιλόλογος\n",
      "refernce_number=147344\n",
      "city=Λεμεσός, Λευκωσία, Λάρνακα, Πάφος, Αμμόχωστος\n",
      "date_posted=07/09/2021\n",
      "expire_date=20/09/2021\n",
      "views=369\n",
      "type_of_employment=Μερική\n",
      "employment_sector=Εκπαιδευτικά Κέντρα / Φροντιστήρια\n",
      "publisher=Πανεπιστήμιο / Εκπαιδευτικό Κέντρο\n",
      "category=Καθηγητές / Ακαδημαϊκοί\n"
     ]
    },
    {
     "name": "stderr",
     "output_type": "stream",
     "text": [
      "\r",
      " 82%|████████▏ | 815/1000 [3:13:46<45:38, 14.80s/it]"
     ]
    },
    {
     "name": "stdout",
     "output_type": "stream",
     "text": [
      "Waiters / Waitresses - Parklane, a Luxury Collection Resort & Spa\n",
      "titleofjob=Waiters / Waitresses\n",
      "refernce_number=147887\n",
      "city=Λεμεσός\n",
      "date_posted=07/09/2021\n",
      "expire_date=20/09/2021\n",
      "views=474\n",
      "type_of_employment=Πλήρης\n",
      "employment_sector=Τουρισμός - Ξενοδοχεία\n",
      "publisher=Ιδιωτική Εταιρεία (LTD)\n",
      "category=Υπάλληλοι HORECA, Σερβιτόροι, Απόφοιτοι Ξενοδοχειακής Σχολής\n"
     ]
    },
    {
     "name": "stderr",
     "output_type": "stream",
     "text": [
      "\r",
      " 82%|████████▏ | 816/1000 [3:14:00<45:26, 14.82s/it]"
     ]
    },
    {
     "name": "stdout",
     "output_type": "stream",
     "text": [
      "Οδηγός Φορτηγού - P. PIERIDES & SONS LTD\n",
      "titleofjob=Οδηγός Φορτηγού\n",
      "refernce_number=147878\n",
      "city=Λευκωσία\n",
      "date_posted=07/09/2021\n",
      "expire_date=20/09/2021\n",
      "views=830\n",
      "type_of_employment=Πλήρης\n",
      "employment_sector=Βιομηχανίες\n",
      "publisher=Ιδιωτική Εταιρεία (LTD)\n",
      "category=Οδηγοί\n"
     ]
    },
    {
     "name": "stderr",
     "output_type": "stream",
     "text": [
      "\r",
      " 82%|████████▏ | 817/1000 [3:14:15<44:59, 14.75s/it]"
     ]
    },
    {
     "name": "stdout",
     "output_type": "stream",
     "text": [
      "Store Logistic Specialist - Leroy Merlin\n",
      "titleofjob=Store Logistic Specialist\n",
      "refernce_number=147882\n",
      "city=Λευκωσία\n",
      "date_posted=07/09/2021\n",
      "expire_date=20/09/2021\n",
      "views=640\n",
      "type_of_employment=Πλήρης\n",
      "employment_sector=Μη διαθέσιμο\n",
      "publisher=Ιδιωτική Εταιρεία (LTD)\n",
      "category=Μεταφορές / Logistics\n"
     ]
    },
    {
     "name": "stderr",
     "output_type": "stream",
     "text": [
      "\r",
      " 82%|████████▏ | 818/1000 [3:14:29<44:26, 14.65s/it]"
     ]
    },
    {
     "name": "stdout",
     "output_type": "stream",
     "text": [
      "Εκτιμητής Ακινήτων - Terrain Emirah Property Advisory\n",
      "titleofjob=Εκτιμητής Ακινήτων\n",
      "refernce_number=147873\n",
      "city=Λάρνακα\n",
      "date_posted=07/09/2021\n",
      "expire_date=20/09/2021\n",
      "views=577\n",
      "type_of_employment=Πλήρης\n",
      "employment_sector=Μη διαθέσιμο\n",
      "publisher=Ιδιωτική Εταιρεία (LTD)\n",
      "category=Τομέας Ακινήτων, Δόμηση - Κατασκευές, Επιμετρητές Ποσοτήτων\n"
     ]
    },
    {
     "name": "stderr",
     "output_type": "stream",
     "text": [
      "\r",
      " 82%|████████▏ | 819/1000 [3:14:45<45:29, 15.08s/it]"
     ]
    },
    {
     "name": "stdout",
     "output_type": "stream",
     "text": [
      "Πωλήτρια / Πωλητής - M.K.MITSINGAS LTD\n",
      "titleofjob=Πωλήτρια / Πωλητής\n",
      "refernce_number=147879\n",
      "city=Λεμεσός\n",
      "date_posted=07/09/2021\n",
      "expire_date=20/09/2021\n",
      "views=236\n",
      "type_of_employment=Πλήρη ή Μερική\n",
      "employment_sector=Λιανικό Εμπόριο\n",
      "publisher=Ιδιωτική Εταιρεία (LTD)\n",
      "category=Πωλητές - Καταστήματα\n"
     ]
    },
    {
     "name": "stderr",
     "output_type": "stream",
     "text": [
      "\r",
      " 82%|████████▏ | 820/1000 [3:15:00<44:38, 14.88s/it]"
     ]
    },
    {
     "name": "stdout",
     "output_type": "stream",
     "text": [
      "Customer Service Representative - Happy Valley Veterinary clinic Pet Hotel\n",
      "titleofjob=Customer Service Representative\n",
      "refernce_number=147670\n",
      "city=Λεμεσός\n",
      "date_posted=07/09/2021\n",
      "expire_date=20/09/2021\n",
      "views=280\n",
      "type_of_employment=Πλήρης\n",
      "employment_sector=Νοσοκομεία / Κλινικές\n",
      "publisher=Ιδιωτική Εταιρεία (LTD)\n",
      "category=Γραμματειακά, Εξυπηρέτηση Πελατών\n"
     ]
    },
    {
     "name": "stderr",
     "output_type": "stream",
     "text": [
      "\r",
      " 82%|████████▏ | 821/1000 [3:15:15<44:10, 14.81s/it]"
     ]
    },
    {
     "name": "stdout",
     "output_type": "stream",
     "text": [
      "Sales Advisor (VAC-V19404S) - StaffMatters Recruitment Specialists\n",
      "titleofjob=Sales Advisor (VAC-V19404S)\n",
      "refernce_number=147840\n",
      "city=Λευκωσία\n",
      "date_posted=08/09/2021\n",
      "expire_date=19/09/2021\n",
      "views=214\n",
      "type_of_employment=Μερική\n",
      "employment_sector=Λιανικό Εμπόριο\n",
      "publisher=Γραφείο Εξεύρεσης Εργασίας\n",
      "category=Πωλητές - Καταστήματα\n"
     ]
    },
    {
     "name": "stderr",
     "output_type": "stream",
     "text": [
      "\r",
      " 82%|████████▏ | 822/1000 [3:15:29<43:28, 14.66s/it]"
     ]
    },
    {
     "name": "stdout",
     "output_type": "stream",
     "text": [
      "Λειτουργός Αγορών & Logistics - Anaglyfo Consulting Ltd\n",
      "titleofjob=Λειτουργός Αγορών & Logistics\n",
      "refernce_number=147827\n",
      "city=Λεμεσός\n",
      "date_posted=08/09/2021\n",
      "expire_date=19/09/2021\n",
      "views=500\n",
      "type_of_employment=Πλήρης\n",
      "employment_sector=Τουρισμός - Ξενοδοχεία\n",
      "publisher=Ιδιωτική Εταιρεία (LTD)\n",
      "category=Αποθηκάριοι, Μεταφορές / Logistics, Απόφοιτοι Ξενοδοχειακής Σχολής\n"
     ]
    },
    {
     "name": "stderr",
     "output_type": "stream",
     "text": [
      "\r",
      " 82%|████████▏ | 823/1000 [3:15:43<43:03, 14.60s/it]"
     ]
    },
    {
     "name": "stdout",
     "output_type": "stream",
     "text": [
      "Technical Writer - Matriarch Training & Consultancy Care Services Cyprus Limited\n",
      "titleofjob=Technical Writer\n",
      "refernce_number=147806\n",
      "city=Πάφος\n",
      "date_posted=08/09/2021\n",
      "expire_date=19/09/2021\n",
      "views=295\n",
      "type_of_employment=Μερική\n",
      "employment_sector=Σύμβουλοι Επιχειρήσεων\n",
      "publisher=Ιδιωτική Εταιρεία (LTD)\n",
      "category=Καθηγητές / Ακαδημαϊκοί, Διοίκηση επιχειρήσεων, Ακαδημαϊκοί Ερευνητές\n"
     ]
    },
    {
     "name": "stderr",
     "output_type": "stream",
     "text": [
      "\r",
      " 82%|████████▏ | 824/1000 [3:15:58<43:08, 14.70s/it]"
     ]
    },
    {
     "name": "stdout",
     "output_type": "stream",
     "text": [
      "Car Rental Agent - Lekkeran Car Hire LTD\n",
      "titleofjob=Car Rental Agent\n",
      "refernce_number=145130\n",
      "city=Λάρνακα\n",
      "date_posted=08/09/2021\n",
      "expire_date=19/09/2021\n",
      "views=406\n",
      "type_of_employment=Πλήρης\n",
      "employment_sector=Αεροδρόμια\n",
      "publisher=Ιδιωτική Εταιρεία (LTD)\n",
      "category=Εξυπηρέτηση Πελατών, Ξένες Γλώσσες / Μεταφραστές, Ρωσική γλώσσα\n"
     ]
    },
    {
     "name": "stderr",
     "output_type": "stream",
     "text": [
      "\r",
      " 82%|████████▎ | 825/1000 [3:16:13<42:30, 14.58s/it]"
     ]
    },
    {
     "name": "stdout",
     "output_type": "stream",
     "text": [
      "Client Onboarding KYC Specialist - iSX Financial EU Ltd\n",
      "titleofjob=Client Onboarding KYC Specialist\n",
      "refernce_number=147846\n",
      "city=Λευκωσία\n",
      "date_posted=08/09/2021\n",
      "expire_date=19/09/2021\n",
      "views=490\n",
      "type_of_employment=Πλήρης\n",
      "employment_sector=Τράπεζες / Χρηματοπιστωτικά Ιδρύματα\n",
      "publisher=Ιδιωτική Εταιρεία (LTD)\n",
      "category=Διοίκηση επιχειρήσεων, Δικηγόροι, Χρηματοοικονομικά/Χρηματοπιστωτικά\n"
     ]
    },
    {
     "name": "stderr",
     "output_type": "stream",
     "text": [
      "\r",
      " 83%|████████▎ | 826/1000 [3:16:28<43:11, 14.89s/it]"
     ]
    },
    {
     "name": "stdout",
     "output_type": "stream",
     "text": [
      "Mάγειρες / Μαγείρισσες (Cooks) - Louis Hotels\n",
      "titleofjob=Mάγειρες / Μαγείρισσες (Cooks)\n",
      "refernce_number=147851\n",
      "city=Λεμεσός, Πάφος, Αμμόχωστος\n",
      "date_posted=08/09/2021\n",
      "expire_date=19/09/2021\n",
      "views=207\n",
      "type_of_employment=Πλήρης\n",
      "employment_sector=Τουρισμός - Ξενοδοχεία\n",
      "publisher=Ιδιωτική Εταιρεία (LTD)\n",
      "category=Βοηθοί Κουζίνας / Λάντζα, Μάγειρες / Ζαχαροπλάστες, Απόφοιτοι Ξενοδοχειακής Σχολής\n"
     ]
    },
    {
     "name": "stderr",
     "output_type": "stream",
     "text": [
      "\r",
      " 83%|████████▎ | 827/1000 [3:16:41<40:59, 14.22s/it]"
     ]
    },
    {
     "name": "stdout",
     "output_type": "stream",
     "text": [
      "English-Speaking Technical Customer Support Specialist - BridgerPay\n",
      "titleofjob=English-Speaking Technical Customer Support Specialist\n",
      "refernce_number=147828\n",
      "city=Λεμεσός\n",
      "date_posted=08/09/2021\n",
      "expire_date=19/09/2021\n",
      "views=636\n",
      "type_of_employment=Πλήρης\n",
      "employment_sector=Start Up\n",
      "publisher=Ιδιωτική Εταιρεία (LTD)\n",
      "category=Εξυπηρέτηση Πελατών, Ξένες Γλώσσες / Μεταφραστές, Πληροφορική\n"
     ]
    },
    {
     "name": "stderr",
     "output_type": "stream",
     "text": [
      "\r",
      " 83%|████████▎ | 828/1000 [3:16:55<40:31, 14.14s/it]"
     ]
    },
    {
     "name": "stdout",
     "output_type": "stream",
     "text": [
      "Marketing Assistant - impress Tech Ltd.\n",
      "titleofjob=Marketing Assistant\n",
      "refernce_number=147871\n",
      "city=Λευκωσία\n",
      "date_posted=08/09/2021\n",
      "expire_date=19/09/2021\n",
      "views=362\n",
      "type_of_employment=Πλήρης\n",
      "employment_sector=Μη διαθέσιμο\n",
      "publisher=Ιδιωτική Εταιρεία (LTD)\n",
      "category=Μάρκετινγκ / Δημόσιες Σχέσεις\n"
     ]
    },
    {
     "name": "stderr",
     "output_type": "stream",
     "text": [
      "\r",
      " 83%|████████▎ | 829/1000 [3:17:09<40:06, 14.07s/it]"
     ]
    },
    {
     "name": "stdout",
     "output_type": "stream",
     "text": [
      "Ταμίες - Best Value Discount Stores\n",
      "titleofjob=Ταμίες\n",
      "refernce_number=147848\n",
      "city=Αμμόχωστος\n",
      "date_posted=08/09/2021\n",
      "expire_date=19/09/2021\n",
      "views=705\n",
      "type_of_employment=Πλήρης\n",
      "employment_sector=Υπεραγορές / Πολυκαταστήματα\n",
      "publisher=Ιδιωτική Εταιρεία (LTD)\n",
      "category=Υπεραγορές - Πολυκαταστήματα, Ταμίες\n"
     ]
    },
    {
     "name": "stderr",
     "output_type": "stream",
     "text": [
      "\r",
      " 83%|████████▎ | 830/1000 [3:17:23<39:53, 14.08s/it]"
     ]
    },
    {
     "name": "stdout",
     "output_type": "stream",
     "text": [
      "Actor / Actress (5 Minute Crafts) - TheSoul Publishing\n",
      "titleofjob=Actor / Actress (5 Minute Crafts)\n",
      "refernce_number=147845\n",
      "city=Λεμεσός\n",
      "date_posted=08/09/2021\n",
      "expire_date=19/09/2021\n",
      "views=272\n",
      "type_of_employment=Πλήρης\n",
      "employment_sector=Μέσα Μαζικής Ενημέρωσης\n",
      "publisher=Ιδιωτική Εταιρεία (LTD)\n",
      "category=Εικαστικές Τέχνες, Εργάτες - Τεχνίτες, Ηθοποιοί / Θεατρολόγοι\n"
     ]
    },
    {
     "name": "stderr",
     "output_type": "stream",
     "text": [
      "\r",
      " 83%|████████▎ | 831/1000 [3:17:37<39:26, 14.00s/it]"
     ]
    },
    {
     "name": "stdout",
     "output_type": "stream",
     "text": [
      "Πωλητές / Πωλήτριες - Sigma Bakeries Ltd\n",
      "titleofjob=Πωλητές / Πωλήτριες\n",
      "refernce_number=147872\n",
      "city=Λεμεσός\n",
      "date_posted=08/09/2021\n",
      "expire_date=19/09/2021\n",
      "views=181\n",
      "type_of_employment=Πλήρης\n",
      "employment_sector=Μη διαθέσιμο\n",
      "publisher=Ιδιωτική Εταιρεία (LTD)\n",
      "category=Πωλητές - Καταστήματα\n"
     ]
    },
    {
     "name": "stderr",
     "output_type": "stream",
     "text": [
      "\r",
      " 83%|████████▎ | 832/1000 [3:17:52<39:59, 14.28s/it]"
     ]
    },
    {
     "name": "stdout",
     "output_type": "stream",
     "text": [
      "Assistant (Video Studio) - TheSoul Publishing\n",
      "titleofjob=Assistant (Video Studio)\n",
      "refernce_number=147843\n",
      "city=Λεμεσός\n",
      "date_posted=08/09/2021\n",
      "expire_date=19/09/2021\n",
      "views=238\n",
      "type_of_employment=Πλήρης\n",
      "employment_sector=Μέσα Μαζικής Ενημέρωσης\n",
      "publisher=Ιδιωτική Εταιρεία (LTD)\n",
      "category=Εικαστικές Τέχνες, Ανθοκόμοι / Ανθοπώλες, Ραπτική\n"
     ]
    },
    {
     "name": "stderr",
     "output_type": "stream",
     "text": [
      "\r",
      " 83%|████████▎ | 833/1000 [3:18:05<39:07, 14.06s/it]"
     ]
    },
    {
     "name": "stdout",
     "output_type": "stream",
     "text": [
      "Retail Relationship Officer - Banking Institution - Limassol, Cyprus - RED HR Solutions\n",
      "titleofjob=Retail Relationship Officer - Banking Institution - Limassol, Cyprus\n",
      "refernce_number=147852\n",
      "city=Λεμεσός\n",
      "date_posted=08/09/2021\n",
      "expire_date=09/09/2021\n",
      "views=411\n",
      "type_of_employment=Πλήρης\n",
      "employment_sector=Τράπεζες / Χρηματοπιστωτικά Ιδρύματα\n",
      "publisher=Ιδιωτική Εταιρεία (LTD)\n",
      "category=Διοίκηση επιχειρήσεων, Λογιστές, Οικονομολόγοι, Χρηματοοικονομικά/Χρηματοπιστωτικά\n"
     ]
    },
    {
     "name": "stderr",
     "output_type": "stream",
     "text": [
      "\r",
      " 83%|████████▎ | 834/1000 [3:18:19<38:53, 14.06s/it]"
     ]
    },
    {
     "name": "stdout",
     "output_type": "stream",
     "text": [
      "Operations Assistant - marcus evans\n",
      "titleofjob=Operations Assistant\n",
      "refernce_number=147842\n",
      "city=Λευκωσία\n",
      "date_posted=08/09/2021\n",
      "expire_date=19/09/2021\n",
      "views=445\n",
      "type_of_employment=Πλήρης\n",
      "employment_sector=Μάρκετινγκ / Διαφήμιση\n",
      "publisher=Ιδιωτική Εταιρεία (LTD)\n",
      "category=Διοίκηση επιχειρήσεων, Μάρκετινγκ / Δημόσιες Σχέσεις\n"
     ]
    },
    {
     "name": "stderr",
     "output_type": "stream",
     "text": [
      "\r",
      " 84%|████████▎ | 835/1000 [3:18:33<38:40, 14.06s/it]"
     ]
    },
    {
     "name": "stdout",
     "output_type": "stream",
     "text": [
      "Accountant - iTrade Global (CY) Ltd\n",
      "titleofjob=Accountant\n",
      "refernce_number=147841\n",
      "city=Λεμεσός\n",
      "date_posted=08/09/2021\n",
      "expire_date=19/09/2021\n",
      "views=261\n",
      "type_of_employment=Πλήρης\n",
      "employment_sector=Forex\n",
      "publisher=Ιδιωτική Εταιρεία (LTD)\n",
      "category=Λογιστές, Forex, Χρηματοοικονομικά/Χρηματοπιστωτικά\n"
     ]
    },
    {
     "name": "stderr",
     "output_type": "stream",
     "text": [
      "\r",
      " 84%|████████▎ | 836/1000 [3:18:48<38:56, 14.25s/it]"
     ]
    },
    {
     "name": "stdout",
     "output_type": "stream",
     "text": [
      "HR Officer - HR Internal Department, Nicosia - KPMG LIMITED\n",
      "titleofjob=HR Officer - HR Internal Department, Nicosia\n",
      "refernce_number=147839\n",
      "city=Λευκωσία\n",
      "date_posted=08/09/2021\n",
      "expire_date=19/09/2021\n",
      "views=495\n",
      "type_of_employment=Πλήρης\n",
      "employment_sector=Λογιστικά / Ελεγκτικά γραφεία\n",
      "publisher=Ιδιωτική Εταιρεία (LTD)\n",
      "category=Ανθρώπινο Δυναμικό , Διοίκηση επιχειρήσεων\n"
     ]
    },
    {
     "name": "stderr",
     "output_type": "stream",
     "text": [
      "\r",
      " 84%|████████▎ | 837/1000 [3:19:02<38:47, 14.28s/it]"
     ]
    },
    {
     "name": "stdout",
     "output_type": "stream",
     "text": [
      "Kitchen Assistant (Βοηθός Κουζίνας) - PeopleFirst Ltd\n",
      "titleofjob=Kitchen Assistant (Βοηθός Κουζίνας)\n",
      "refernce_number=147832\n",
      "city=Λευκωσία\n",
      "date_posted=08/09/2021\n",
      "expire_date=12/09/2021\n",
      "views=320\n",
      "type_of_employment=Μερική\n",
      "employment_sector=Εστιατόρια / Καφετέριες\n",
      "publisher=Ιδιωτική Εταιρεία (LTD)\n",
      "category=Υπάλληλοι HORECA, Βοηθοί Κουζίνας / Λάντζα\n"
     ]
    },
    {
     "name": "stderr",
     "output_type": "stream",
     "text": [
      "\r",
      " 84%|████████▍ | 838/1000 [3:19:16<38:26, 14.24s/it]"
     ]
    },
    {
     "name": "stdout",
     "output_type": "stream",
     "text": [
      "Entourageist / Designer (Dual Role) - TheSoul Publishing\n",
      "titleofjob=Entourageist / Designer (Dual Role)\n",
      "refernce_number=147844\n",
      "city=Λεμεσός\n",
      "date_posted=08/09/2021\n",
      "expire_date=19/09/2021\n",
      "views=180\n",
      "type_of_employment=Πλήρης\n",
      "employment_sector=Μέσα Μαζικής Ενημέρωσης\n",
      "publisher=Ιδιωτική Εταιρεία (LTD)\n",
      "category=Πληροφορική, Εικαστικές Τέχνες, Γραφίστες\n"
     ]
    },
    {
     "name": "stderr",
     "output_type": "stream",
     "text": [
      "\r",
      " 84%|████████▍ | 839/1000 [3:19:31<38:20, 14.29s/it]"
     ]
    },
    {
     "name": "stdout",
     "output_type": "stream",
     "text": [
      "Barista - AGP COFFEE BLENDS LTD\n",
      "titleofjob=Barista\n",
      "refernce_number=147858\n",
      "city=Λευκωσία\n",
      "date_posted=08/09/2021\n",
      "expire_date=19/09/2021\n",
      "views=263\n",
      "type_of_employment=Πλήρη ή Μερική\n",
      "employment_sector=Εστιατόρια / Καφετέριες\n",
      "publisher=Ιδιωτική Εταιρεία (LTD)\n",
      "category=Υπάλληλοι HORECA, Baristas\n"
     ]
    },
    {
     "name": "stderr",
     "output_type": "stream",
     "text": [
      "\r",
      " 84%|████████▍ | 840/1000 [3:19:45<37:59, 14.25s/it]"
     ]
    },
    {
     "name": "stdout",
     "output_type": "stream",
     "text": [
      "Business Relationship Officer - Banking Institution - Nicosia, Cyprus - RED HR Solutions\n",
      "titleofjob=Business Relationship Officer - Banking Institution - Nicosia, Cyprus\n",
      "refernce_number=147850\n",
      "city=Λευκωσία\n",
      "date_posted=08/09/2021\n",
      "expire_date=09/09/2021\n",
      "views=582\n",
      "type_of_employment=Πλήρης\n",
      "employment_sector=Τράπεζες / Χρηματοπιστωτικά Ιδρύματα\n",
      "publisher=Ιδιωτική Εταιρεία (LTD)\n",
      "category=Διοίκηση επιχειρήσεων, Λογιστές, Οικονομολόγοι, Χρηματοοικονομικά/Χρηματοπιστωτικά\n"
     ]
    },
    {
     "name": "stderr",
     "output_type": "stream",
     "text": [
      "\r",
      " 84%|████████▍ | 841/1000 [3:19:59<37:40, 14.22s/it]"
     ]
    },
    {
     "name": "stdout",
     "output_type": "stream",
     "text": [
      "Client Relationship Agent - iSX Financial EU Ltd\n",
      "titleofjob=Client Relationship Agent\n",
      "refernce_number=147849\n",
      "city=Λευκωσία\n",
      "date_posted=08/09/2021\n",
      "expire_date=19/09/2021\n",
      "views=228\n",
      "type_of_employment=Πλήρης\n",
      "employment_sector=Τράπεζες / Χρηματοπιστωτικά Ιδρύματα\n",
      "publisher=Ιδιωτική Εταιρεία (LTD)\n",
      "category=Εξυπηρέτηση Πελατών, Οικονομολόγοι\n"
     ]
    },
    {
     "name": "stderr",
     "output_type": "stream",
     "text": [
      "\r",
      " 84%|████████▍ | 842/1000 [3:20:13<37:19, 14.17s/it]"
     ]
    },
    {
     "name": "stdout",
     "output_type": "stream",
     "text": [
      "Communication Monitoring Officers (German, Italian, Portuguese, Spanish, Dutch, Swedish Speaking) - Spectech Talent Solutions Ltd\n",
      "titleofjob=Communication Monitoring Officers (German, Italian, Portuguese, Spanish, Dutch, Swedish Speaking)\n",
      "refernce_number=147870\n",
      "city=Λεμεσός\n",
      "date_posted=08/09/2021\n",
      "expire_date=19/09/2021\n",
      "views=134\n",
      "type_of_employment=Πλήρης\n",
      "employment_sector=Forex\n",
      "publisher=Ιδιωτική Εταιρεία (LTD)\n",
      "category=Ξένες Γλώσσες / Μεταφραστές, Forex\n"
     ]
    },
    {
     "name": "stderr",
     "output_type": "stream",
     "text": [
      "\r",
      " 84%|████████▍ | 843/1000 [3:20:28<37:27, 14.31s/it]"
     ]
    },
    {
     "name": "stdout",
     "output_type": "stream",
     "text": [
      "Marketing & Client Relations Officer (MCRCY082119LA/02). - M & G Kitchen Studio Ltd\n",
      "titleofjob=Marketing & Client Relations Officer (MCRCY082119LA/02).\n",
      "refernce_number=147829\n",
      "city=Λάρνακα\n",
      "date_posted=08/09/2021\n",
      "expire_date=19/09/2021\n",
      "views=415\n",
      "type_of_employment=Πλήρης\n",
      "employment_sector=Λιανικό Εμπόριο\n",
      "publisher=Ιδιωτική Εταιρεία (LTD)\n",
      "category=Γραμματειακά, Διοίκηση επιχειρήσεων, Εξυπηρέτηση Πελατών, Μάρκετινγκ / Δημόσιες Σχέσεις\n"
     ]
    },
    {
     "name": "stderr",
     "output_type": "stream",
     "text": [
      "\r",
      " 84%|████████▍ | 844/1000 [3:20:42<36:56, 14.21s/it]"
     ]
    },
    {
     "name": "stdout",
     "output_type": "stream",
     "text": [
      "Compliance Assistant - Spectech Talent Solutions Ltd\n",
      "titleofjob=Compliance Assistant\n",
      "refernce_number=147869\n",
      "city=Λεμεσός\n",
      "date_posted=08/09/2021\n",
      "expire_date=19/09/2021\n",
      "views=246\n",
      "type_of_employment=Πλήρης\n",
      "employment_sector=Forex\n",
      "publisher=Ιδιωτική Εταιρεία (LTD)\n",
      "category=Δικηγόροι, Σύμβουλοι Επιχειρήσεων, Forex\n"
     ]
    },
    {
     "name": "stderr",
     "output_type": "stream",
     "text": [
      "\r",
      " 84%|████████▍ | 845/1000 [3:20:56<37:00, 14.32s/it]"
     ]
    },
    {
     "name": "stdout",
     "output_type": "stream",
     "text": [
      "AML & KYC Compliance Assistant - Spectech Talent Solutions Ltd\n",
      "titleofjob=AML & KYC Compliance Assistant\n",
      "refernce_number=147868\n",
      "city=Λεμεσός\n",
      "date_posted=08/09/2021\n",
      "expire_date=19/09/2021\n",
      "views=221\n",
      "type_of_employment=Πλήρης\n",
      "employment_sector=Forex\n",
      "publisher=Ιδιωτική Εταιρεία (LTD)\n",
      "category=Διοίκηση επιχειρήσεων, Forex\n"
     ]
    },
    {
     "name": "stderr",
     "output_type": "stream",
     "text": [
      "\r",
      " 85%|████████▍ | 846/1000 [3:21:10<36:06, 14.07s/it]"
     ]
    },
    {
     "name": "stdout",
     "output_type": "stream",
     "text": [
      "Accountant - Spectech Talent Solutions Ltd\n",
      "titleofjob=Accountant\n",
      "refernce_number=147867\n",
      "city=Λεμεσός\n",
      "date_posted=08/09/2021\n",
      "expire_date=19/09/2021\n",
      "views=295\n",
      "type_of_employment=Πλήρης\n",
      "employment_sector=Forex\n",
      "publisher=Ιδιωτική Εταιρεία (LTD)\n",
      "category=Λογιστές, Οικονομολόγοι, Forex, Χρηματοοικονομικά/Χρηματοπιστωτικά\n"
     ]
    },
    {
     "name": "stderr",
     "output_type": "stream",
     "text": [
      "\r",
      " 85%|████████▍ | 847/1000 [3:21:24<35:40, 13.99s/it]"
     ]
    },
    {
     "name": "stdout",
     "output_type": "stream",
     "text": [
      "Monitoring Officer - Spectech Talent Solutions Ltd\n",
      "titleofjob=Monitoring Officer\n",
      "refernce_number=147866\n",
      "city=Λεμεσός\n",
      "date_posted=08/09/2021\n",
      "expire_date=19/09/2021\n",
      "views=194\n",
      "type_of_employment=Πλήρης\n",
      "employment_sector=Σύμβουλοι Επιχειρήσεων\n",
      "publisher=Ιδιωτική Εταιρεία (LTD)\n",
      "category=Διοίκηση επιχειρήσεων, Μαθηματικοί / Στατιστικολόγοι, Οικονομολόγοι, Forex\n"
     ]
    },
    {
     "name": "stderr",
     "output_type": "stream",
     "text": [
      "\r",
      " 85%|████████▍ | 848/1000 [3:21:39<36:30, 14.41s/it]"
     ]
    },
    {
     "name": "stdout",
     "output_type": "stream",
     "text": [
      "Εργάτης/τρια Αποθήκης - DIAPO LTD\n",
      "titleofjob=Εργάτης/τρια Αποθήκης\n",
      "refernce_number=147830\n",
      "city=Πάφος\n",
      "date_posted=08/09/2021\n",
      "expire_date=19/09/2021\n",
      "views=551\n",
      "type_of_employment=Πλήρης\n",
      "employment_sector=Μεταφορές\n",
      "publisher=Ιδιωτική Εταιρεία (LTD)\n",
      "category=Αποθηκάριοι\n"
     ]
    },
    {
     "name": "stderr",
     "output_type": "stream",
     "text": [
      "\r",
      " 85%|████████▍ | 849/1000 [3:21:53<36:01, 14.32s/it]"
     ]
    },
    {
     "name": "stdout",
     "output_type": "stream",
     "text": [
      "Payment Monitoring Officer - Spectech Talent Solutions Ltd\n",
      "titleofjob=Payment Monitoring Officer\n",
      "refernce_number=147865\n",
      "city=Λεμεσός\n",
      "date_posted=08/09/2021\n",
      "expire_date=19/09/2021\n",
      "views=128\n",
      "type_of_employment=Πλήρης\n",
      "employment_sector=Σύμβουλοι Επιχειρήσεων\n",
      "publisher=Ιδιωτική Εταιρεία (LTD)\n",
      "category=Διοίκηση επιχειρήσεων, Σύμβουλοι Επιχειρήσεων\n"
     ]
    },
    {
     "name": "stderr",
     "output_type": "stream",
     "text": [
      "\r",
      " 85%|████████▌ | 850/1000 [3:22:08<36:09, 14.47s/it]"
     ]
    },
    {
     "name": "stdout",
     "output_type": "stream",
     "text": [
      "Payment Analyst - Spectech Talent Solutions Ltd\n",
      "titleofjob=Payment Analyst\n",
      "refernce_number=147864\n",
      "city=Λεμεσός\n",
      "date_posted=08/09/2021\n",
      "expire_date=19/09/2021\n",
      "views=156\n",
      "type_of_employment=Πλήρης\n",
      "employment_sector=Σύμβουλοι Επιχειρήσεων\n",
      "publisher=Ιδιωτική Εταιρεία (LTD)\n",
      "category=Διοίκηση επιχειρήσεων, Πληροφορική, Forex\n"
     ]
    },
    {
     "name": "stderr",
     "output_type": "stream",
     "text": [
      "\r",
      " 85%|████████▌ | 851/1000 [3:22:25<37:56, 15.28s/it]"
     ]
    },
    {
     "name": "stdout",
     "output_type": "stream",
     "text": [
      "Complaints Administrator - Spectech Talent Solutions Ltd\n",
      "titleofjob=Complaints Administrator\n",
      "refernce_number=147863\n",
      "city=Λεμεσός\n",
      "date_posted=08/09/2021\n",
      "expire_date=19/09/2021\n",
      "views=208\n",
      "type_of_employment=Πλήρης\n",
      "employment_sector=Forex\n",
      "publisher=Ιδιωτική Εταιρεία (LTD)\n",
      "category=Διοίκηση επιχειρήσεων, Εξυπηρέτηση Πελατών, Σύμβουλοι Επιχειρήσεων, Forex\n"
     ]
    },
    {
     "name": "stderr",
     "output_type": "stream",
     "text": [
      "\r",
      " 85%|████████▌ | 852/1000 [3:22:39<36:43, 14.89s/it]"
     ]
    },
    {
     "name": "stdout",
     "output_type": "stream",
     "text": [
      "Complaints Officer - Spectech Talent Solutions Ltd\n",
      "titleofjob=Complaints Officer\n",
      "refernce_number=147862\n",
      "city=Λεμεσός\n",
      "date_posted=08/09/2021\n",
      "expire_date=19/09/2021\n",
      "views=175\n",
      "type_of_employment=Πλήρης\n",
      "employment_sector=Forex\n",
      "publisher=Ιδιωτική Εταιρεία (LTD)\n",
      "category=Δικηγόροι, Σύμβουλοι Επιχειρήσεων, Forex\n"
     ]
    },
    {
     "name": "stderr",
     "output_type": "stream",
     "text": [
      "\r",
      " 85%|████████▌ | 853/1000 [3:22:53<35:54, 14.66s/it]"
     ]
    },
    {
     "name": "stdout",
     "output_type": "stream",
     "text": [
      "Head of Compliance - Spectech Talent Solutions Ltd\n",
      "titleofjob=Head of Compliance\n",
      "refernce_number=147861\n",
      "city=Λεμεσός\n",
      "date_posted=08/09/2021\n",
      "expire_date=19/09/2021\n",
      "views=199\n",
      "type_of_employment=Πλήρης\n",
      "employment_sector=Forex\n",
      "publisher=Ιδιωτική Εταιρεία (LTD)\n",
      "category=Δικηγόροι, Οικονομολόγοι, Forex, Χρηματοοικονομικά/Χρηματοπιστωτικά\n"
     ]
    },
    {
     "name": "stderr",
     "output_type": "stream",
     "text": [
      "\r",
      " 85%|████████▌ | 854/1000 [3:23:11<37:57, 15.60s/it]"
     ]
    },
    {
     "name": "stdout",
     "output_type": "stream",
     "text": [
      "Social Media Specialist - Spectech Talent Solutions Ltd\n",
      "titleofjob=Social Media Specialist\n",
      "refernce_number=147860\n",
      "city=Λεμεσός\n",
      "date_posted=08/09/2021\n",
      "expire_date=19/09/2021\n",
      "views=193\n",
      "type_of_employment=Πλήρης\n",
      "employment_sector=Μάρκετινγκ / Διαφήμιση\n",
      "publisher=Ιδιωτική Εταιρεία (LTD)\n",
      "category=Μάρκετινγκ / Δημόσιες Σχέσεις, ΜΜΕ-Δημοσιογραφία\n"
     ]
    },
    {
     "name": "stderr",
     "output_type": "stream",
     "text": [
      "\r",
      " 86%|████████▌ | 855/1000 [3:23:26<37:16, 15.42s/it]"
     ]
    },
    {
     "name": "stdout",
     "output_type": "stream",
     "text": [
      "Legal Advisor - Spectech Talent Solutions Ltd\n",
      "titleofjob=Legal Advisor\n",
      "refernce_number=147859\n",
      "city=Λεμεσός\n",
      "date_posted=08/09/2021\n",
      "expire_date=19/09/2021\n",
      "views=141\n",
      "type_of_employment=Πλήρης\n",
      "employment_sector=Σύμβουλοι Επιχειρήσεων\n",
      "publisher=Ιδιωτική Εταιρεία (LTD)\n",
      "category=Δικηγόροι, Σύμβουλοι Επιχειρήσεων\n"
     ]
    },
    {
     "name": "stderr",
     "output_type": "stream",
     "text": [
      "\r",
      " 86%|████████▌ | 856/1000 [3:23:41<36:46, 15.32s/it]"
     ]
    },
    {
     "name": "stdout",
     "output_type": "stream",
     "text": [
      "Customer Service Representative - wilton cyprus patisserie ltd\n",
      "titleofjob=Customer Service Representative\n",
      "refernce_number=145120\n",
      "city=Λεμεσός\n",
      "date_posted=08/09/2021\n",
      "expire_date=19/09/2021\n",
      "views=219\n",
      "type_of_employment=Πλήρη ή Μερική\n",
      "employment_sector=Χώροι αναψυχής\n",
      "publisher=Ιδιωτική Εταιρεία (LTD)\n",
      "category=Εξυπηρέτηση Πελατών, Υπάλληλοι HORECA, Baristas, Απόφοιτοι Ξενοδοχειακής Σχολής\n"
     ]
    },
    {
     "name": "stderr",
     "output_type": "stream",
     "text": [
      "\r",
      " 86%|████████▌ | 857/1000 [3:23:55<35:27, 14.88s/it]"
     ]
    },
    {
     "name": "stdout",
     "output_type": "stream",
     "text": [
      "Business Development Associate – EY Cyprus, Limassol Office - Ernst and Young Cyprus Ltd\n",
      "titleofjob=Business Development Associate – EY Cyprus, Limassol Office\n",
      "refernce_number=147772\n",
      "city=Λεμεσός\n",
      "date_posted=08/09/2021\n",
      "expire_date=19/09/2021\n",
      "views=319\n",
      "type_of_employment=Πλήρης\n",
      "employment_sector=Λογιστικά / Ελεγκτικά γραφεία\n",
      "publisher=Ιδιωτική Εταιρεία (LTD)\n",
      "category=Διοίκηση επιχειρήσεων, Λογιστές, Χρηματοοικονομικά/Χρηματοπιστωτικά\n"
     ]
    },
    {
     "name": "stderr",
     "output_type": "stream",
     "text": [
      "\r",
      " 86%|████████▌ | 858/1000 [3:24:09<34:40, 14.65s/it]"
     ]
    },
    {
     "name": "stdout",
     "output_type": "stream",
     "text": [
      "Experienced Commercial Law Lawyer, Prountzos & Prountzos LLC | EY Law - Ernst and Young Cyprus Ltd\n",
      "titleofjob=Experienced Commercial Law Lawyer, Prountzos & Prountzos LLC | EY Law\n",
      "refernce_number=147771\n",
      "city=Λευκωσία\n",
      "date_posted=08/09/2021\n",
      "expire_date=19/09/2021\n",
      "views=625\n",
      "type_of_employment=Πλήρης\n",
      "employment_sector=Λογιστικά / Ελεγκτικά γραφεία\n",
      "publisher=Ιδιωτική Εταιρεία (LTD)\n",
      "category=Δικηγόροι\n"
     ]
    },
    {
     "name": "stderr",
     "output_type": "stream",
     "text": [
      "\r",
      " 86%|████████▌ | 859/1000 [3:24:23<34:03, 14.49s/it]"
     ]
    },
    {
     "name": "stdout",
     "output_type": "stream",
     "text": [
      "Head of Corporate & Digital Unit Prountzos & Prountzos LLC | EY Law - Ernst and Young Cyprus Ltd\n",
      "titleofjob=Head of Corporate & Digital Unit Prountzos & Prountzos LLC | EY Law\n",
      "refernce_number=147770\n",
      "city=Λευκωσία\n",
      "date_posted=08/09/2021\n",
      "expire_date=19/09/2021\n",
      "views=625\n",
      "type_of_employment=Πλήρης\n",
      "employment_sector=Λογιστικά / Ελεγκτικά γραφεία\n",
      "publisher=Ιδιωτική Εταιρεία (LTD)\n",
      "category=Δικηγόροι\n"
     ]
    },
    {
     "name": "stderr",
     "output_type": "stream",
     "text": [
      "\r",
      " 86%|████████▌ | 860/1000 [3:24:37<33:39, 14.42s/it]"
     ]
    },
    {
     "name": "stdout",
     "output_type": "stream",
     "text": [
      "Marketing Intern - The Mighty Kitchen\n",
      "titleofjob=Marketing Intern\n",
      "refernce_number=147437\n",
      "city=Λάρνακα\n",
      "date_posted=08/09/2021\n",
      "expire_date=19/09/2021\n",
      "views=256\n",
      "type_of_employment=Πλήρης\n",
      "employment_sector=Μη διαθέσιμο\n",
      "publisher=Start Up\n",
      "category=Μάρκετινγκ / Δημόσιες Σχέσεις, Πρακτική Άσκηση\n"
     ]
    },
    {
     "name": "stderr",
     "output_type": "stream",
     "text": [
      "\r",
      " 86%|████████▌ | 861/1000 [3:24:52<33:15, 14.36s/it]"
     ]
    },
    {
     "name": "stdout",
     "output_type": "stream",
     "text": [
      "Customer Support Representative - SKASH LTD\n",
      "titleofjob=Customer Support Representative\n",
      "refernce_number=147831\n",
      "city=Λευκωσία\n",
      "date_posted=08/09/2021\n",
      "expire_date=19/09/2021\n",
      "views=787\n",
      "type_of_employment=Πλήρης\n",
      "employment_sector=Τράπεζες / Χρηματοπιστωτικά Ιδρύματα\n",
      "publisher=Ιδιωτική Εταιρεία (LTD)\n",
      "category=Γραμματειακά, Χρηματοοικονομικά/Χρηματοπιστωτικά, Τηλεφωνητές\n"
     ]
    },
    {
     "name": "stderr",
     "output_type": "stream",
     "text": [
      "\r",
      " 86%|████████▌ | 862/1000 [3:25:06<33:13, 14.45s/it]"
     ]
    },
    {
     "name": "stdout",
     "output_type": "stream",
     "text": [
      "Στοιβαδόροι - Best Value Discount Stores\n",
      "titleofjob=Στοιβαδόροι\n",
      "refernce_number=147847\n",
      "city=Αμμόχωστος\n",
      "date_posted=08/09/2021\n",
      "expire_date=19/09/2021\n",
      "views=592\n",
      "type_of_employment=Πλήρης\n",
      "employment_sector=Υπεραγορές / Πολυκαταστήματα\n",
      "publisher=Ιδιωτική Εταιρεία (LTD)\n",
      "category=Υπεραγορές - Πολυκαταστήματα, Αποθηκάριοι\n"
     ]
    },
    {
     "name": "stderr",
     "output_type": "stream",
     "text": [
      "\r",
      " 86%|████████▋ | 863/1000 [3:25:21<33:15, 14.57s/it]"
     ]
    },
    {
     "name": "stdout",
     "output_type": "stream",
     "text": [
      "Waiters / Waitresses (Limassol) - Louis Hotels\n",
      "titleofjob=Waiters / Waitresses (Limassol)\n",
      "refernce_number=147835\n",
      "city=Λεμεσός\n",
      "date_posted=08/09/2021\n",
      "expire_date=19/09/2021\n",
      "views=169\n",
      "type_of_employment=Πλήρης\n",
      "employment_sector=Τουρισμός - Ξενοδοχεία\n",
      "publisher=Ιδιωτική Εταιρεία (LTD)\n",
      "category=Τουριστικές Σπουδές, Εποχιακές Θέσεις εργασίας, Σερβιτόροι\n"
     ]
    },
    {
     "name": "stderr",
     "output_type": "stream",
     "text": [
      "\r",
      " 86%|████████▋ | 864/1000 [3:25:36<33:03, 14.59s/it]"
     ]
    },
    {
     "name": "stdout",
     "output_type": "stream",
     "text": [
      "Silversmith - Maria Chara Jewelry\n",
      "titleofjob=Silversmith\n",
      "refernce_number=147775\n",
      "city=Λευκωσία\n",
      "date_posted=08/09/2021\n",
      "expire_date=19/09/2021\n",
      "views=238\n",
      "type_of_employment=Πλήρης\n",
      "employment_sector=Μη διαθέσιμο\n",
      "publisher=Ιδιωτική Εταιρεία (LTD)\n",
      "category=Εικαστικές Τέχνες, Εργάτες - Τεχνίτες\n"
     ]
    },
    {
     "name": "stderr",
     "output_type": "stream",
     "text": [
      "\r",
      " 86%|████████▋ | 865/1000 [3:25:50<32:23, 14.40s/it]"
     ]
    },
    {
     "name": "stdout",
     "output_type": "stream",
     "text": [
      "Σερβιτόρος/Σερβιτόρα (Waiter/Waitress) - SEMELI HOTEL\n",
      "titleofjob=Σερβιτόρος/Σερβιτόρα (Waiter/Waitress)\n",
      "refernce_number=147836\n",
      "city=Λευκωσία\n",
      "date_posted=08/09/2021\n",
      "expire_date=19/09/2021\n",
      "views=193\n",
      "type_of_employment=Πλήρη ή Μερική\n",
      "employment_sector=Τουρισμός - Ξενοδοχεία\n",
      "publisher=Ιδιωτική Εταιρεία (LTD)\n",
      "category=Υπάλληλοι HORECA, Σερβιτόροι, Απόφοιτοι Ξενοδοχειακής Σχολής\n"
     ]
    },
    {
     "name": "stderr",
     "output_type": "stream",
     "text": [
      "\r",
      " 87%|████████▋ | 866/1000 [3:26:04<32:23, 14.50s/it]"
     ]
    },
    {
     "name": "stdout",
     "output_type": "stream",
     "text": [
      "Ταμίας - S.L HealthFeeling Ltd\n",
      "titleofjob=Ταμίας\n",
      "refernce_number=147672\n",
      "city=Πάφος\n",
      "date_posted=08/09/2021\n",
      "expire_date=19/09/2021\n",
      "views=280\n",
      "type_of_employment=Μερική\n",
      "employment_sector=Εστιατόρια / Καφετέριες\n",
      "publisher=Ιδιωτική Εταιρεία (LTD)\n",
      "category=Υπάλληλοι HORECA, Ταμίες\n"
     ]
    },
    {
     "name": "stderr",
     "output_type": "stream",
     "text": [
      "\r",
      " 87%|████████▋ | 867/1000 [3:26:19<32:08, 14.50s/it]"
     ]
    },
    {
     "name": "stdout",
     "output_type": "stream",
     "text": [
      "IT Manager - marcus evans\n",
      "titleofjob=IT Manager\n",
      "refernce_number=147511\n",
      "city=Λευκωσία\n",
      "date_posted=08/09/2021\n",
      "expire_date=19/09/2021\n",
      "views=306\n",
      "type_of_employment=Πλήρης\n",
      "employment_sector=Μάρκετινγκ / Διαφήμιση\n",
      "publisher=Ιδιωτική Εταιρεία (LTD)\n",
      "category=Πληροφορική\n"
     ]
    },
    {
     "name": "stderr",
     "output_type": "stream",
     "text": [
      "\r",
      " 87%|████████▋ | 868/1000 [3:26:33<31:31, 14.33s/it]"
     ]
    },
    {
     "name": "stdout",
     "output_type": "stream",
     "text": [
      "Barista - Three Fam\n",
      "titleofjob=Barista\n",
      "refernce_number=147784\n",
      "city=Λάρνακα\n",
      "date_posted=08/09/2021\n",
      "expire_date=19/09/2021\n",
      "views=176\n",
      "type_of_employment=Πλήρη ή Μερική\n",
      "employment_sector=Εστιατόρια / Καφετέριες\n",
      "publisher=Ιδιωτική Εταιρεία (LTD)\n",
      "category=Baristas\n"
     ]
    },
    {
     "name": "stderr",
     "output_type": "stream",
     "text": [
      "\r",
      " 87%|████████▋ | 869/1000 [3:26:49<32:13, 14.76s/it]"
     ]
    },
    {
     "name": "stdout",
     "output_type": "stream",
     "text": [
      "Λειτουργός Εξυπηρέτησης Πελατών - Παξιμάδια Έλενα Λτδ\n",
      "titleofjob=Λειτουργός Εξυπηρέτησης Πελατών\n",
      "refernce_number=147785\n",
      "city=Λευκωσία\n",
      "date_posted=08/09/2021\n",
      "expire_date=19/09/2021\n",
      "views=318\n",
      "type_of_employment=Πλήρης\n",
      "employment_sector=Αρτοποιεία - Ζαχαροπλαστεία\n",
      "publisher=Ιδιωτική Εταιρεία (LTD)\n",
      "category=Υπάλληλοι HORECA, Ταμίες, Πωλητές - Καταστήματα\n"
     ]
    },
    {
     "name": "stderr",
     "output_type": "stream",
     "text": [
      "\r",
      " 87%|████████▋ | 870/1000 [3:27:02<31:18, 14.45s/it]"
     ]
    },
    {
     "name": "stdout",
     "output_type": "stream",
     "text": [
      "Property Consultant - TwentyTwenty\n",
      "titleofjob=Property Consultant\n",
      "refernce_number=147769\n",
      "city=Λεμεσός\n",
      "date_posted=08/09/2021\n",
      "expire_date=19/09/2021\n",
      "views=271\n",
      "type_of_employment=Πλήρη ή Μερική\n",
      "employment_sector=Κτηματομεσιτικά γραφεία\n",
      "publisher=Ιδιωτική Εταιρεία (LTD)\n",
      "category=Διοίκηση επιχειρήσεων, Τομέας Ακινήτων, Υπεύθυνοι Πωλήσεων, Χρηματοοικονομικά/Χρηματοπιστωτικά\n"
     ]
    },
    {
     "name": "stderr",
     "output_type": "stream",
     "text": [
      "\r",
      " 87%|████████▋ | 871/1000 [3:27:18<31:59, 14.88s/it]"
     ]
    },
    {
     "name": "stdout",
     "output_type": "stream",
     "text": [
      "Video Designer (Muffin Socks) - TheSoul Publishing\n",
      "titleofjob=Video Designer (Muffin Socks)\n",
      "refernce_number=147768\n",
      "city=Λεμεσός\n",
      "date_posted=08/09/2021\n",
      "expire_date=19/09/2021\n",
      "views=192\n",
      "type_of_employment=Πλήρης\n",
      "employment_sector=Μέσα Μαζικής Ενημέρωσης\n",
      "publisher=Ιδιωτική Εταιρεία (LTD)\n",
      "category=Εικονολήπτες / Film / Video Editors\n"
     ]
    },
    {
     "name": "stderr",
     "output_type": "stream",
     "text": [
      "\r",
      " 87%|████████▋ | 872/1000 [3:27:33<31:26, 14.74s/it]"
     ]
    },
    {
     "name": "stdout",
     "output_type": "stream",
     "text": [
      "Πωλητές/Πωλήτριες - SABBIA LIMITED\n",
      "titleofjob=Πωλητές/Πωλήτριες\n",
      "refernce_number=147754\n",
      "city=Λευκωσία\n",
      "date_posted=08/09/2021\n",
      "expire_date=19/09/2021\n",
      "views=206\n",
      "type_of_employment=Πλήρη ή Μερική\n",
      "employment_sector=Λιανικό Εμπόριο\n",
      "publisher=Ιδιωτική Εταιρεία (LTD)\n",
      "category=Πωλητές - Καταστήματα\n"
     ]
    },
    {
     "name": "stderr",
     "output_type": "stream",
     "text": [
      "\r",
      " 87%|████████▋ | 873/1000 [3:27:49<32:06, 15.17s/it]"
     ]
    },
    {
     "name": "stdout",
     "output_type": "stream",
     "text": [
      "Cashier (Metropolis Mall) - Taco Bell\n",
      "titleofjob=Cashier (Metropolis Mall)\n",
      "refernce_number=147767\n",
      "city=Λάρνακα\n",
      "date_posted=08/09/2021\n",
      "expire_date=19/09/2021\n",
      "views=222\n",
      "type_of_employment=Πλήρη ή Μερική\n",
      "employment_sector=Εστιατόρια / Καφετέριες\n",
      "publisher=Ιδιωτική Εταιρεία (LTD)\n",
      "category=Υπάλληλοι HORECA, Ταμίες\n"
     ]
    },
    {
     "name": "stderr",
     "output_type": "stream",
     "text": [
      "\r",
      " 87%|████████▋ | 874/1000 [3:28:03<31:16, 14.89s/it]"
     ]
    },
    {
     "name": "stdout",
     "output_type": "stream",
     "text": [
      "Kitchen Assistant (Metropolis Mall) - Taco Bell\n",
      "titleofjob=Kitchen Assistant (Metropolis Mall)\n",
      "refernce_number=147766\n",
      "city=Λάρνακα\n",
      "date_posted=08/09/2021\n",
      "expire_date=19/09/2021\n",
      "views=160\n",
      "type_of_employment=Πλήρη ή Μερική\n",
      "employment_sector=Εστιατόρια / Καφετέριες\n",
      "publisher=Ιδιωτική Εταιρεία (LTD)\n",
      "category=Βοηθοί Κουζίνας / Λάντζα, Μάγειρες / Ζαχαροπλάστες\n"
     ]
    },
    {
     "name": "stderr",
     "output_type": "stream",
     "text": [
      "\r",
      " 88%|████████▊ | 875/1000 [3:28:17<30:17, 14.54s/it]"
     ]
    },
    {
     "name": "stdout",
     "output_type": "stream",
     "text": [
      "Πωλητές / Πωλήτριες - SABBIA LIMITED\n",
      "titleofjob=Πωλητές / Πωλήτριες\n",
      "refernce_number=147752\n",
      "city=Λάρνακα\n",
      "date_posted=08/09/2021\n",
      "expire_date=19/09/2021\n",
      "views=332\n",
      "type_of_employment=Πλήρη ή Μερική\n",
      "employment_sector=Λιανικό Εμπόριο\n",
      "publisher=Ιδιωτική Εταιρεία (LTD)\n",
      "category=Πωλητές - Καταστήματα\n"
     ]
    },
    {
     "name": "stderr",
     "output_type": "stream",
     "text": [
      "\r",
      " 88%|████████▊ | 876/1000 [3:28:32<30:08, 14.59s/it]"
     ]
    },
    {
     "name": "stdout",
     "output_type": "stream",
     "text": [
      "Corporate Administrator - Enterisland Ltd\n",
      "titleofjob=Corporate Administrator\n",
      "refernce_number=147765\n",
      "city=Λεμεσός\n",
      "date_posted=08/09/2021\n",
      "expire_date=19/09/2021\n",
      "views=370\n",
      "type_of_employment=Πλήρης\n",
      "employment_sector=Μη διαθέσιμο\n",
      "publisher=Ιδιωτική Εταιρεία (LTD)\n",
      "category=Γραμματειακά, Δικηγόροι, Ρωσική γλώσσα\n"
     ]
    },
    {
     "name": "stderr",
     "output_type": "stream",
     "text": [
      "\r",
      " 88%|████████▊ | 877/1000 [3:28:46<29:46, 14.52s/it]"
     ]
    },
    {
     "name": "stdout",
     "output_type": "stream",
     "text": [
      "Head of Compliance & Regulatory (Online Gaming) (5266) - CareerFinders Recruitment Services Ltd\n",
      "titleofjob=Head of Compliance & Regulatory (Online Gaming) (5266)\n",
      "refernce_number=147834\n",
      "city=Λεμεσός\n",
      "date_posted=08/09/2021\n",
      "expire_date=19/09/2021\n",
      "views=200\n",
      "type_of_employment=Πλήρης\n",
      "employment_sector=Εταιρείες Στοιχημάτων\n",
      "publisher=Ιδιωτική Εταιρεία (LTD)\n",
      "category=Διοίκηση επιχειρήσεων, Δικηγόροι, Χρηματοοικονομικά/Χρηματοπιστωτικά\n"
     ]
    },
    {
     "name": "stderr",
     "output_type": "stream",
     "text": [
      "\r",
      " 88%|████████▊ | 878/1000 [3:29:01<29:50, 14.68s/it]"
     ]
    },
    {
     "name": "stdout",
     "output_type": "stream",
     "text": [
      "Personal Assistant to the Management - Equa Media ltd\n",
      "titleofjob=Personal Assistant to the Management\n",
      "refernce_number=147762\n",
      "city=Λάρνακα\n",
      "date_posted=08/09/2021\n",
      "expire_date=19/09/2021\n",
      "views=494\n",
      "type_of_employment=Πλήρης\n",
      "employment_sector=Μάρκετινγκ / Διαφήμιση\n",
      "publisher=Ιδιωτική Εταιρεία (LTD)\n",
      "category=Ανθρώπινο Δυναμικό , Γραμματειακά, Μάρκετινγκ / Δημόσιες Σχέσεις\n"
     ]
    },
    {
     "name": "stderr",
     "output_type": "stream",
     "text": [
      "\r",
      " 88%|████████▊ | 879/1000 [3:29:16<29:36, 14.68s/it]"
     ]
    },
    {
     "name": "stdout",
     "output_type": "stream",
     "text": [
      "Barista - CLOCK CAFE\n",
      "titleofjob=Barista\n",
      "refernce_number=147837\n",
      "city=Λεμεσός\n",
      "date_posted=08/09/2021\n",
      "expire_date=19/09/2021\n",
      "views=483\n",
      "type_of_employment=Πλήρη ή Μερική\n",
      "employment_sector=Εστιατόρια / Καφετέριες\n",
      "publisher=Ιδιωτική Εταιρεία (LTD)\n",
      "category=Υπάλληλοι HORECA, Baristas\n"
     ]
    },
    {
     "name": "stderr",
     "output_type": "stream",
     "text": [
      "\r",
      " 88%|████████▊ | 880/1000 [3:29:31<29:31, 14.77s/it]"
     ]
    },
    {
     "name": "stdout",
     "output_type": "stream",
     "text": [
      "Senior Lawyer - Brainrocket\n",
      "titleofjob=Senior Lawyer\n",
      "refernce_number=147833\n",
      "city=Λεμεσός\n",
      "date_posted=08/09/2021\n",
      "expire_date=19/09/2021\n",
      "views=257\n",
      "type_of_employment=Πλήρης\n",
      "employment_sector=Τηλεπικοινωνία / Internet\n",
      "publisher=Ιδιωτική Εταιρεία (LTD)\n",
      "category=Δικηγόροι\n"
     ]
    },
    {
     "name": "stderr",
     "output_type": "stream",
     "text": [
      "\r",
      " 88%|████████▊ | 881/1000 [3:29:45<28:58, 14.61s/it]"
     ]
    },
    {
     "name": "stdout",
     "output_type": "stream",
     "text": [
      "Πωλητές / Πωλήτριες - SABBIA LIMITED\n",
      "titleofjob=Πωλητές / Πωλήτριες\n",
      "refernce_number=147751\n",
      "city=Λεμεσός\n",
      "date_posted=08/09/2021\n",
      "expire_date=19/09/2021\n",
      "views=145\n",
      "type_of_employment=Πλήρης\n",
      "employment_sector=Λιανικό Εμπόριο\n",
      "publisher=Ιδιωτική Εταιρεία (LTD)\n",
      "category=Πωλητές - Καταστήματα\n"
     ]
    },
    {
     "name": "stderr",
     "output_type": "stream",
     "text": [
      "\r",
      " 88%|████████▊ | 882/1000 [3:29:59<28:42, 14.60s/it]"
     ]
    },
    {
     "name": "stdout",
     "output_type": "stream",
     "text": [
      "IT Network & Systems Administrator - PREVENTION AT SEA LTD\n",
      "titleofjob=IT Network & Systems Administrator\n",
      "refernce_number=147757\n",
      "city=Λάρνακα\n",
      "date_posted=08/09/2021\n",
      "expire_date=19/09/2021\n",
      "views=267\n",
      "type_of_employment=Πλήρης\n",
      "employment_sector=Πληροφορική\n",
      "publisher=Ιδιωτική Εταιρεία (LTD)\n",
      "category=Πληροφορική\n"
     ]
    },
    {
     "name": "stderr",
     "output_type": "stream",
     "text": [
      "\r",
      " 88%|████████▊ | 883/1000 [3:30:14<28:30, 14.62s/it]"
     ]
    },
    {
     "name": "stdout",
     "output_type": "stream",
     "text": [
      "Project Manager - Gruppo Casa\n",
      "titleofjob=Project Manager\n",
      "refernce_number=147756\n",
      "city=Λεμεσός\n",
      "date_posted=08/09/2021\n",
      "expire_date=19/09/2021\n",
      "views=304\n",
      "type_of_employment=Πλήρης\n",
      "employment_sector=Διακόσμηση Εσωτερικών και Εξωτερικών Χώρων\n",
      "publisher=Ιδιωτική Εταιρεία (LTD)\n",
      "category=Αρχιτέκτονες, Διοίκηση επιχειρήσεων, Δόμηση - Κατασκευές\n"
     ]
    },
    {
     "name": "stderr",
     "output_type": "stream",
     "text": [
      "\r",
      " 88%|████████▊ | 884/1000 [3:30:29<28:32, 14.76s/it]"
     ]
    },
    {
     "name": "stdout",
     "output_type": "stream",
     "text": [
      "Room Cleaners - Sveltos Estates ltd (Sveltos Hotel)\n",
      "titleofjob=Room Cleaners\n",
      "refernce_number=147643\n",
      "city=Λάρνακα\n",
      "date_posted=08/09/2021\n",
      "expire_date=19/09/2021\n",
      "views=253\n",
      "type_of_employment=Πλήρης\n",
      "employment_sector=Τουρισμός - Ξενοδοχεία\n",
      "publisher=Ιδιωτική Εταιρεία (LTD)\n",
      "category=Υπάλληλοι HORECA, Καθαριστές / Καθαρίστριες\n"
     ]
    },
    {
     "name": "stderr",
     "output_type": "stream",
     "text": [
      "\r",
      " 88%|████████▊ | 885/1000 [3:30:43<27:56, 14.57s/it]"
     ]
    },
    {
     "name": "stdout",
     "output_type": "stream",
     "text": [
      "Accountant - Amazing Apps\n",
      "titleofjob=Accountant\n",
      "refernce_number=147753\n",
      "city=Λεμεσός\n",
      "date_posted=08/09/2021\n",
      "expire_date=19/09/2021\n",
      "views=356\n",
      "type_of_employment=Πλήρης\n",
      "employment_sector=Μη διαθέσιμο\n",
      "publisher=Ιδιωτική Εταιρεία (LTD)\n",
      "category=Διοίκηση επιχειρήσεων, Λογιστές, Οικονομολόγοι, Χρηματοοικονομικά/Χρηματοπιστωτικά\n"
     ]
    },
    {
     "name": "stderr",
     "output_type": "stream",
     "text": [
      "\r",
      " 89%|████████▊ | 886/1000 [3:30:57<27:22, 14.41s/it]"
     ]
    },
    {
     "name": "stdout",
     "output_type": "stream",
     "text": [
      "Accountant (Russian Speaker) - Amazing Apps\n",
      "titleofjob=Accountant (Russian Speaker)\n",
      "refernce_number=147749\n",
      "city=Λεμεσός\n",
      "date_posted=08/09/2021\n",
      "expire_date=19/09/2021\n",
      "views=217\n",
      "type_of_employment=Πλήρης\n",
      "employment_sector=Μη διαθέσιμο\n",
      "publisher=Ιδιωτική Εταιρεία (LTD)\n",
      "category=Διοίκηση επιχειρήσεων, Λογιστές, Οικονομολόγοι, Χρηματοοικονομικά/Χρηματοπιστωτικά, Ρωσική γλώσσα\n"
     ]
    },
    {
     "name": "stderr",
     "output_type": "stream",
     "text": [
      "\r",
      " 89%|████████▊ | 887/1000 [3:31:12<27:18, 14.50s/it]"
     ]
    },
    {
     "name": "stdout",
     "output_type": "stream",
     "text": [
      "MarCom Specialist - APLA E-COMMERCE LIMITED\n",
      "titleofjob=MarCom Specialist\n",
      "refernce_number=147748\n",
      "city=Λάρνακα\n",
      "date_posted=08/09/2021\n",
      "expire_date=19/09/2021\n",
      "views=167\n",
      "type_of_employment=Πλήρης\n",
      "employment_sector=Τηλεπικοινωνία / Internet\n",
      "publisher=Ιδιωτική Εταιρεία (LTD)\n",
      "category=Μάρκετινγκ / Δημόσιες Σχέσεις, ΜΜΕ-Δημοσιογραφία, Εμπορικοί Αντιπροσώποι\n"
     ]
    },
    {
     "name": "stderr",
     "output_type": "stream",
     "text": [
      "\r",
      " 89%|████████▉ | 888/1000 [3:31:26<26:51, 14.39s/it]"
     ]
    },
    {
     "name": "stdout",
     "output_type": "stream",
     "text": [
      "Sales Assistants (Nicosia Mall) - FREEGREE LTD\n",
      "titleofjob=Sales Assistants (Nicosia Mall)\n",
      "refernce_number=147747\n",
      "city=Λευκωσία\n",
      "date_posted=08/09/2021\n",
      "expire_date=19/09/2021\n",
      "views=387\n",
      "type_of_employment=Πλήρη ή Μερική\n",
      "employment_sector=Λιανικό Εμπόριο\n",
      "publisher=Ιδιωτική Εταιρεία (LTD)\n",
      "category=Πωλητές - Καταστήματα\n"
     ]
    },
    {
     "name": "stderr",
     "output_type": "stream",
     "text": [
      "\r",
      " 89%|████████▉ | 889/1000 [3:31:41<26:38, 14.40s/it]"
     ]
    },
    {
     "name": "stdout",
     "output_type": "stream",
     "text": [
      "Operations Coordinator - Amazing Apps\n",
      "titleofjob=Operations Coordinator\n",
      "refernce_number=147746\n",
      "city=Λεμεσός\n",
      "date_posted=08/09/2021\n",
      "expire_date=19/09/2021\n",
      "views=267\n",
      "type_of_employment=Πλήρης\n",
      "employment_sector=Μη διαθέσιμο\n",
      "publisher=Ιδιωτική Εταιρεία (LTD)\n",
      "category=Τομέας Ακινήτων, Ρωσική γλώσσα\n"
     ]
    },
    {
     "name": "stderr",
     "output_type": "stream",
     "text": [
      "\r",
      " 89%|████████▉ | 890/1000 [3:31:54<26:06, 14.24s/it]"
     ]
    },
    {
     "name": "stdout",
     "output_type": "stream",
     "text": [
      "Helpdesk Technician - APLA E-COMMERCE LIMITED\n",
      "titleofjob=Helpdesk Technician\n",
      "refernce_number=147744\n",
      "city=Λάρνακα\n",
      "date_posted=08/09/2021\n",
      "expire_date=19/09/2021\n",
      "views=294\n",
      "type_of_employment=Πλήρης\n",
      "employment_sector=Τηλεπικοινωνία / Internet\n",
      "publisher=Ιδιωτική Εταιρεία (LTD)\n",
      "category=Εξυπηρέτηση Πελατών, Πληροφορική, Τεχνικοί\n"
     ]
    },
    {
     "name": "stderr",
     "output_type": "stream",
     "text": [
      "\r",
      " 89%|████████▉ | 891/1000 [3:32:08<25:20, 13.95s/it]"
     ]
    },
    {
     "name": "stdout",
     "output_type": "stream",
     "text": [
      "Καθαριστές / Καθαρίστριες - Hellenic Tzilalis (Cyprus) Ltd\n",
      "titleofjob=Καθαριστές / Καθαρίστριες\n",
      "refernce_number=147736\n",
      "city=Λάρνακα\n",
      "date_posted=08/09/2021\n",
      "expire_date=18/09/2021\n",
      "views=260\n",
      "type_of_employment=Πλήρης\n",
      "employment_sector=Μη διαθέσιμο\n",
      "publisher=Ιδιωτική Εταιρεία (LTD)\n",
      "category=Καθαριστές / Καθαρίστριες\n"
     ]
    },
    {
     "name": "stderr",
     "output_type": "stream",
     "text": [
      "\r",
      " 89%|████████▉ | 892/1000 [3:32:21<25:00, 13.89s/it]"
     ]
    },
    {
     "name": "stdout",
     "output_type": "stream",
     "text": [
      "Οδηγός Διανομής - Golden Brands Trading Cyprus Ltd\n",
      "titleofjob=Οδηγός Διανομής\n",
      "refernce_number=147399\n",
      "city=Λευκωσία\n",
      "date_posted=08/09/2021\n",
      "expire_date=19/09/2021\n",
      "views=555\n",
      "type_of_employment=Πλήρης\n",
      "employment_sector=Χοντρικό Εμπόριο\n",
      "publisher=Ιδιωτική Εταιρεία (LTD)\n",
      "category=Οδηγοί\n"
     ]
    },
    {
     "name": "stderr",
     "output_type": "stream",
     "text": [
      "\r",
      " 89%|████████▉ | 893/1000 [3:32:36<25:13, 14.15s/it]"
     ]
    },
    {
     "name": "stdout",
     "output_type": "stream",
     "text": [
      "Customer Service Operator - G.S. CASHLINE LTD\n",
      "titleofjob=Customer Service Operator\n",
      "refernce_number=147562\n",
      "city=Λεμεσός\n",
      "date_posted=08/09/2021\n",
      "expire_date=19/09/2021\n",
      "views=219\n",
      "type_of_employment=Πλήρης\n",
      "employment_sector=Τράπεζες / Χρηματοπιστωτικά Ιδρύματα\n",
      "publisher=Ιδιωτική Εταιρεία (LTD)\n",
      "category=Εξυπηρέτηση Πελατών\n"
     ]
    },
    {
     "name": "stderr",
     "output_type": "stream",
     "text": [
      "\r",
      " 89%|████████▉ | 894/1000 [3:32:51<25:25, 14.39s/it]"
     ]
    },
    {
     "name": "stdout",
     "output_type": "stream",
     "text": [
      "Assistant Store Manager – ETAM (Λευκωσία) - VOICI LA MODE GROUP\n",
      "titleofjob=Assistant Store Manager – ETAM (Λευκωσία)\n",
      "refernce_number=147732\n",
      "city=Λευκωσία\n",
      "date_posted=08/09/2021\n",
      "expire_date=19/09/2021\n",
      "views=165\n",
      "type_of_employment=Πλήρη ή Μερική\n",
      "employment_sector=Λιανικό Εμπόριο\n",
      "publisher=Ιδιωτική Εταιρεία (LTD)\n",
      "category=Διοίκηση επιχειρήσεων, Εξυπηρέτηση Πελατών, Πωλητές - Καταστήματα\n"
     ]
    },
    {
     "name": "stderr",
     "output_type": "stream",
     "text": [
      "\r",
      " 90%|████████▉ | 895/1000 [3:33:07<25:54, 14.80s/it]"
     ]
    },
    {
     "name": "stdout",
     "output_type": "stream",
     "text": [
      "Store Manager – ETAM (Nicosia) - VOICI LA MODE GROUP\n",
      "titleofjob=Store Manager – ETAM (Nicosia)\n",
      "refernce_number=147729\n",
      "city=Λευκωσία\n",
      "date_posted=08/09/2021\n",
      "expire_date=19/09/2021\n",
      "views=151\n",
      "type_of_employment=Πλήρης\n",
      "employment_sector=Λιανικό Εμπόριο\n",
      "publisher=Ιδιωτική Εταιρεία (LTD)\n",
      "category=Διοίκηση επιχειρήσεων, Εξυπηρέτηση Πελατών, Πωλητές - Καταστήματα\n"
     ]
    },
    {
     "name": "stderr",
     "output_type": "stream",
     "text": [
      "\r",
      " 90%|████████▉ | 896/1000 [3:33:22<25:35, 14.76s/it]"
     ]
    },
    {
     "name": "stdout",
     "output_type": "stream",
     "text": [
      "Καθαρίστρια / Καθαριστής - Tsirides Law\n",
      "titleofjob=Καθαρίστρια / Καθαριστής\n",
      "refernce_number=147726\n",
      "city=Λεμεσός\n",
      "date_posted=08/09/2021\n",
      "expire_date=19/09/2021\n",
      "views=302\n",
      "type_of_employment=Πλήρης\n",
      "employment_sector=Μη διαθέσιμο\n",
      "publisher=Φυσικό Πρόσωπο\n",
      "category=Καθαριστές / Καθαρίστριες\n"
     ]
    },
    {
     "name": "stderr",
     "output_type": "stream",
     "text": [
      "\r",
      " 90%|████████▉ | 897/1000 [3:33:36<25:11, 14.67s/it]"
     ]
    },
    {
     "name": "stdout",
     "output_type": "stream",
     "text": [
      "Τεχνίτες/τριες Ελαστικών - Lagrome Trading LTD\n",
      "titleofjob=Τεχνίτες/τριες Ελαστικών\n",
      "refernce_number=147723\n",
      "city=Λεμεσός, Λάρνακα\n",
      "date_posted=08/09/2021\n",
      "expire_date=19/09/2021\n",
      "views=282\n",
      "type_of_employment=Πλήρης\n",
      "employment_sector=Αυτοκινητοβιομηχανίες\n",
      "publisher=Ιδιωτική Εταιρεία (LTD)\n",
      "category=Μηχανικοί Αυτοκινήτων, Εργάτες - Τεχνίτες, Τεχνικοί\n"
     ]
    },
    {
     "name": "stderr",
     "output_type": "stream",
     "text": [
      "\r",
      " 90%|████████▉ | 898/1000 [3:33:51<24:52, 14.63s/it]"
     ]
    },
    {
     "name": "stdout",
     "output_type": "stream",
     "text": [
      "Head Waiters / Waitresses - Thanos Hotels\n",
      "titleofjob=Head Waiters / Waitresses\n",
      "refernce_number=147720\n",
      "city=Πάφος\n",
      "date_posted=08/09/2021\n",
      "expire_date=19/09/2021\n",
      "views=152\n",
      "type_of_employment=Πλήρης\n",
      "employment_sector=Τουρισμός - Ξενοδοχεία\n",
      "publisher=Ιδιωτική Εταιρεία (LTD)\n",
      "category=Υπάλληλοι HORECA, Σερβιτόροι, Απόφοιτοι Ξενοδοχειακής Σχολής\n"
     ]
    },
    {
     "name": "stderr",
     "output_type": "stream",
     "text": [
      "\r",
      " 90%|████████▉ | 899/1000 [3:34:05<24:36, 14.62s/it]"
     ]
    },
    {
     "name": "stdout",
     "output_type": "stream",
     "text": [
      "Bartenders - Thanos Hotels\n",
      "titleofjob=Bartenders\n",
      "refernce_number=147719\n",
      "city=Πάφος\n",
      "date_posted=08/09/2021\n",
      "expire_date=19/09/2021\n",
      "views=143\n",
      "type_of_employment=Πλήρης\n",
      "employment_sector=Τουρισμός - Ξενοδοχεία\n",
      "publisher=Ιδιωτική Εταιρεία (LTD)\n",
      "category=Υπάλληλοι HORECA, Baristas, Απόφοιτοι Ξενοδοχειακής Σχολής\n"
     ]
    },
    {
     "name": "stderr",
     "output_type": "stream",
     "text": [
      "\r",
      " 90%|█████████ | 900/1000 [3:34:20<24:27, 14.68s/it]"
     ]
    },
    {
     "name": "stdout",
     "output_type": "stream",
     "text": [
      "Καθηγητής/τρια Νέων Ελληνικών - Ιδιωτικά φροντιστήρια ΑΙΧΜΗ Λτδ\n",
      "titleofjob=Καθηγητής/τρια Νέων Ελληνικών\n",
      "refernce_number=147778\n",
      "city=Λευκωσία\n",
      "date_posted=08/09/2021\n",
      "expire_date=19/09/2021\n",
      "views=314\n",
      "type_of_employment=Μερική\n",
      "employment_sector=Μη διαθέσιμο\n",
      "publisher=Ιδιωτική Εταιρεία (LTD)\n",
      "category=Καθηγητές / Ακαδημαϊκοί\n"
     ]
    },
    {
     "name": "stderr",
     "output_type": "stream",
     "text": [
      "\r",
      " 90%|█████████ | 901/1000 [3:34:35<24:13, 14.68s/it]"
     ]
    },
    {
     "name": "stdout",
     "output_type": "stream",
     "text": [
      "Waiters/Waitresses - Thanos Hotels\n",
      "titleofjob=Waiters/Waitresses\n",
      "refernce_number=147718\n",
      "city=Πάφος\n",
      "date_posted=08/09/2021\n",
      "expire_date=19/09/2021\n",
      "views=148\n",
      "type_of_employment=Πλήρης\n",
      "employment_sector=Τουρισμός - Ξενοδοχεία\n",
      "publisher=Ιδιωτική Εταιρεία (LTD)\n",
      "category=Υπάλληλοι HORECA, Σερβιτόροι, Απόφοιτοι Ξενοδοχειακής Σχολής\n"
     ]
    },
    {
     "name": "stderr",
     "output_type": "stream",
     "text": [
      "\r",
      " 90%|█████████ | 902/1000 [3:34:50<24:12, 14.82s/it]"
     ]
    },
    {
     "name": "stdout",
     "output_type": "stream",
     "text": [
      "Cooks - Thanos Hotels\n",
      "titleofjob=Cooks\n",
      "refernce_number=147716\n",
      "city=Πάφος\n",
      "date_posted=08/09/2021\n",
      "expire_date=19/09/2021\n",
      "views=135\n",
      "type_of_employment=Πλήρης\n",
      "employment_sector=Τουρισμός - Ξενοδοχεία\n",
      "publisher=Ιδιωτική Εταιρεία (LTD)\n",
      "category=Υπάλληλοι HORECA, Μάγειρες / Ζαχαροπλάστες, Απόφοιτοι Ξενοδοχειακής Σχολής\n"
     ]
    },
    {
     "name": "stderr",
     "output_type": "stream",
     "text": [
      "\r",
      " 90%|█████████ | 903/1000 [3:35:04<23:36, 14.60s/it]"
     ]
    },
    {
     "name": "stdout",
     "output_type": "stream",
     "text": [
      "Chef De Partie - Thanos Hotels\n",
      "titleofjob=Chef De Partie\n",
      "refernce_number=147715\n",
      "city=Πάφος\n",
      "date_posted=08/09/2021\n",
      "expire_date=19/09/2021\n",
      "views=139\n",
      "type_of_employment=Πλήρης\n",
      "employment_sector=Τουρισμός - Ξενοδοχεία\n",
      "publisher=Ιδιωτική Εταιρεία (LTD)\n",
      "category=Υπάλληλοι HORECA, Μάγειρες / Ζαχαροπλάστες, Απόφοιτοι Ξενοδοχειακής Σχολής\n"
     ]
    },
    {
     "name": "stderr",
     "output_type": "stream",
     "text": [
      "\r",
      " 90%|█████████ | 904/1000 [3:35:19<23:28, 14.67s/it]"
     ]
    },
    {
     "name": "stdout",
     "output_type": "stream",
     "text": [
      "Primary Education Teacher - Go Education Private Institute\n",
      "titleofjob=Primary Education Teacher\n",
      "refernce_number=147710\n",
      "city=Λευκωσία\n",
      "date_posted=08/09/2021\n",
      "expire_date=19/09/2021\n",
      "views=279\n",
      "type_of_employment=Πλήρη ή Μερική\n",
      "employment_sector=Εκπαιδευτικά Κέντρα / Φροντιστήρια\n",
      "publisher=Ιδιωτική Εταιρεία (LTD)\n",
      "category=Δάσκαλοι\n"
     ]
    },
    {
     "name": "stderr",
     "output_type": "stream",
     "text": [
      "\r",
      " 90%|█████████ | 905/1000 [3:35:33<23:12, 14.66s/it]"
     ]
    },
    {
     "name": "stdout",
     "output_type": "stream",
     "text": [
      "Πωλητής / Πωλήτρια - Bellagio Home & Garden\n",
      "titleofjob=Πωλητής / Πωλήτρια\n",
      "refernce_number=147326\n",
      "city=Λεμεσός\n",
      "date_posted=08/09/2021\n",
      "expire_date=19/09/2021\n",
      "views=201\n",
      "type_of_employment=Πλήρη ή Μερική\n",
      "employment_sector=Λιανικό Εμπόριο\n",
      "publisher=Ιδιωτική Εταιρεία (LTD)\n",
      "category=Πωλητές - Καταστήματα, Διακοσμητές Χώρων\n"
     ]
    },
    {
     "name": "stderr",
     "output_type": "stream",
     "text": [
      "\r",
      " 91%|█████████ | 906/1000 [3:35:52<24:35, 15.69s/it]"
     ]
    },
    {
     "name": "stdout",
     "output_type": "stream",
     "text": [
      "Mini Bus Driver - Go Education Private Institute\n",
      "titleofjob=Mini Bus Driver\n",
      "refernce_number=147708\n",
      "city=Λευκωσία\n",
      "date_posted=08/09/2021\n",
      "expire_date=19/09/2021\n",
      "views=328\n",
      "type_of_employment=Πλήρη ή Μερική\n",
      "employment_sector=Εκπαιδευτικά Κέντρα / Φροντιστήρια\n",
      "publisher=Ιδιωτική Εταιρεία (LTD)\n",
      "category=Οδηγοί\n"
     ]
    },
    {
     "name": "stderr",
     "output_type": "stream",
     "text": [
      "\r",
      " 91%|█████████ | 907/1000 [3:36:06<23:45, 15.33s/it]"
     ]
    },
    {
     "name": "stdout",
     "output_type": "stream",
     "text": [
      "Pet Carer - Happy Valley Veterinary clinic Pet Hotel\n",
      "titleofjob=Pet Carer\n",
      "refernce_number=147671\n",
      "city=Λεμεσός\n",
      "date_posted=08/09/2021\n",
      "expire_date=19/09/2021\n",
      "views=299\n",
      "type_of_employment=Πλήρης\n",
      "employment_sector=Νοσοκομεία / Κλινικές\n",
      "publisher=Ιδιωτική Εταιρεία (LTD)\n",
      "category=Φροντιστές Ζώων\n"
     ]
    },
    {
     "name": "stderr",
     "output_type": "stream",
     "text": [
      "\r",
      " 91%|█████████ | 908/1000 [3:36:21<23:18, 15.20s/it]"
     ]
    },
    {
     "name": "stdout",
     "output_type": "stream",
     "text": [
      "Καθηγητής/τρια Πληροφορικής - SAVVIDES INSTITUTE\n",
      "titleofjob=Καθηγητής/τρια Πληροφορικής\n",
      "refernce_number=147706\n",
      "city=Λευκωσία\n",
      "date_posted=08/09/2021\n",
      "expire_date=19/09/2021\n",
      "views=308\n",
      "type_of_employment=Μερική\n",
      "employment_sector=Εκπαιδευτικά Κέντρα / Φροντιστήρια\n",
      "publisher=Πανεπιστήμιο / Εκπαιδευτικό Κέντρο\n",
      "category=Καθηγητές / Ακαδημαϊκοί, Πληροφορική\n"
     ]
    },
    {
     "name": "stderr",
     "output_type": "stream",
     "text": [
      "\r",
      " 91%|█████████ | 909/1000 [3:36:35<22:32, 14.86s/it]"
     ]
    },
    {
     "name": "stdout",
     "output_type": "stream",
     "text": [
      "Room Cleaners - Sveltos Estates Ltd (The Ciao Stelio Deluxe Hotel)\n",
      "titleofjob=Room Cleaners\n",
      "refernce_number=147647\n",
      "city=Λάρνακα\n",
      "date_posted=08/09/2021\n",
      "expire_date=19/09/2021\n",
      "views=184\n",
      "type_of_employment=Πλήρης\n",
      "employment_sector=Τουρισμός - Ξενοδοχεία\n",
      "publisher=Ιδιωτική Εταιρεία (LTD)\n",
      "category=Υπάλληλοι HORECA, Καθαριστές / Καθαρίστριες\n"
     ]
    },
    {
     "name": "stderr",
     "output_type": "stream",
     "text": [
      "\r",
      " 91%|█████████ | 910/1000 [3:36:49<22:08, 14.76s/it]"
     ]
    },
    {
     "name": "stdout",
     "output_type": "stream",
     "text": [
      "Ασφαλιστικός Σύμβουλος - M.P. MICHAELIDES INSURANCE AGENT & CONSULTANTS\n",
      "titleofjob=Ασφαλιστικός Σύμβουλος\n",
      "refernce_number=147704\n",
      "city=Λευκωσία\n",
      "date_posted=08/09/2021\n",
      "expire_date=19/09/2021\n",
      "views=255\n",
      "type_of_employment=Πλήρης\n",
      "employment_sector=Ασφαλιστικές εταιρείες\n",
      "publisher=Ιδιωτική Εταιρεία (LTD)\n",
      "category=Ασφαλιστές, Εξυπηρέτηση Πελατών\n"
     ]
    },
    {
     "name": "stderr",
     "output_type": "stream",
     "text": [
      "\r",
      " 91%|█████████ | 911/1000 [3:37:06<22:33, 15.21s/it]"
     ]
    },
    {
     "name": "stdout",
     "output_type": "stream",
     "text": [
      "Claims Agent / Pharmacist (Dual Role) - INFOCREDIT SPV\n",
      "titleofjob=Claims Agent / Pharmacist (Dual Role)\n",
      "refernce_number=147334\n",
      "city=Λευκωσία\n",
      "date_posted=08/09/2021\n",
      "expire_date=19/09/2021\n",
      "views=272\n",
      "type_of_employment=Πλήρης\n",
      "employment_sector=Τηλεπικοινωνία / Internet\n",
      "publisher=Ιδιωτική Εταιρεία (LTD)\n",
      "category=Εξυπηρέτηση Πελατών, Φαρμακοποιοί\n"
     ]
    },
    {
     "name": "stderr",
     "output_type": "stream",
     "text": [
      "\r",
      " 91%|█████████ | 912/1000 [3:37:20<21:54, 14.94s/it]"
     ]
    },
    {
     "name": "stdout",
     "output_type": "stream",
     "text": [
      "Payment Analyst - iTrade Global (CY) Ltd\n",
      "titleofjob=Payment Analyst\n",
      "refernce_number=147773\n",
      "city=Λεμεσός\n",
      "date_posted=08/09/2021\n",
      "expire_date=19/09/2021\n",
      "views=294\n",
      "type_of_employment=Πλήρης\n",
      "employment_sector=Forex\n",
      "publisher=Ιδιωτική Εταιρεία (LTD)\n",
      "category=Διοίκηση επιχειρήσεων, Λογιστές, Οικονομολόγοι, Forex, Χρηματοοικονομικά/Χρηματοπιστωτικά\n"
     ]
    },
    {
     "name": "stderr",
     "output_type": "stream",
     "text": [
      "\r",
      " 91%|█████████▏| 913/1000 [3:37:34<21:24, 14.76s/it]"
     ]
    },
    {
     "name": "stdout",
     "output_type": "stream",
     "text": [
      "PSP Administrator - iTrade Global (CY) Ltd\n",
      "titleofjob=PSP Administrator\n",
      "refernce_number=147774\n",
      "city=Λεμεσός\n",
      "date_posted=08/09/2021\n",
      "expire_date=19/09/2021\n",
      "views=207\n",
      "type_of_employment=Πλήρης\n",
      "employment_sector=Forex\n",
      "publisher=Ιδιωτική Εταιρεία (LTD)\n",
      "category=Λογιστές, Οικονομολόγοι, Forex, Χρηματοοικονομικά/Χρηματοπιστωτικά\n"
     ]
    },
    {
     "name": "stderr",
     "output_type": "stream",
     "text": [
      "\r",
      " 91%|█████████▏| 914/1000 [3:37:50<21:25, 14.95s/it]"
     ]
    },
    {
     "name": "stdout",
     "output_type": "stream",
     "text": [
      "Treasury Officer - iSX Financial EU Ltd\n",
      "titleofjob=Treasury Officer\n",
      "refernce_number=147810\n",
      "city=Λευκωσία\n",
      "date_posted=08/09/2021\n",
      "expire_date=19/09/2021\n",
      "views=349\n",
      "type_of_employment=Πλήρης\n",
      "employment_sector=Τράπεζες / Χρηματοπιστωτικά Ιδρύματα\n",
      "publisher=Ιδιωτική Εταιρεία (LTD)\n",
      "category=Λογιστές, Μαθηματικοί / Στατιστικολόγοι, Οικονομολόγοι, Χρηματοοικονομικά/Χρηματοπιστωτικά\n"
     ]
    },
    {
     "name": "stderr",
     "output_type": "stream",
     "text": [
      "\r",
      " 92%|█████████▏| 915/1000 [3:38:04<20:54, 14.76s/it]"
     ]
    },
    {
     "name": "stdout",
     "output_type": "stream",
     "text": [
      "Compliance Officer - Royal Pine & Associates\n",
      "titleofjob=Compliance Officer\n",
      "refernce_number=147826\n",
      "city=Λεμεσός\n",
      "date_posted=08/09/2021\n",
      "expire_date=19/09/2021\n",
      "views=456\n",
      "type_of_employment=Πλήρης\n",
      "employment_sector=Σύμβουλοι Επιχειρήσεων\n",
      "publisher=Ιδιωτική Εταιρεία (LTD)\n",
      "category=Δικηγόροι\n"
     ]
    },
    {
     "name": "stderr",
     "output_type": "stream",
     "text": [
      "\r",
      " 92%|█████████▏| 916/1000 [3:38:19<20:31, 14.67s/it]"
     ]
    },
    {
     "name": "stdout",
     "output_type": "stream",
     "text": [
      "Καθηγητής/τρια Φυσικής - Ιδιωτικά φροντιστήρια ΑΙΧΜΗ Λτδ\n",
      "titleofjob=Καθηγητής/τρια Φυσικής\n",
      "refernce_number=147779\n",
      "city=Λευκωσία\n",
      "date_posted=08/09/2021\n",
      "expire_date=19/09/2021\n",
      "views=154\n",
      "type_of_employment=Μερική\n",
      "employment_sector=Μη διαθέσιμο\n",
      "publisher=Ιδιωτική Εταιρεία (LTD)\n",
      "category=Καθηγητές / Ακαδημαϊκοί, Φυσικοί\n"
     ]
    },
    {
     "name": "stderr",
     "output_type": "stream",
     "text": [
      "\r",
      " 92%|█████████▏| 917/1000 [3:38:33<20:16, 14.65s/it]"
     ]
    },
    {
     "name": "stdout",
     "output_type": "stream",
     "text": [
      "Sales Assistants (Πωλητές / Πωλήτριες) - Manpower Cyprus\n",
      "titleofjob=Sales Assistants (Πωλητές / Πωλήτριες)\n",
      "refernce_number=147783\n",
      "city=Λεμεσός, Λευκωσία, Λάρνακα\n",
      "date_posted=08/09/2021\n",
      "expire_date=19/09/2021\n",
      "views=362\n",
      "type_of_employment=Πλήρης\n",
      "employment_sector=Μόδα / Ένδυση / Υπόδηση\n",
      "publisher=Ιδιωτική Εταιρεία (LTD)\n",
      "category=Υπεραγορές - Πολυκαταστήματα, Πωλητές - Καταστήματα\n"
     ]
    },
    {
     "name": "stderr",
     "output_type": "stream",
     "text": [
      "\r",
      " 92%|█████████▏| 918/1000 [3:38:48<19:55, 14.58s/it]"
     ]
    },
    {
     "name": "stdout",
     "output_type": "stream",
     "text": [
      "Consumer Programs Lead - Manpower Cyprus\n",
      "titleofjob=Consumer Programs Lead\n",
      "refernce_number=147782\n",
      "city=Λεμεσός, Λευκωσία, Λάρνακα, Πάφος, Αμμόχωστος\n",
      "date_posted=08/09/2021\n",
      "expire_date=19/09/2021\n",
      "views=377\n",
      "type_of_employment=Πλήρης\n",
      "employment_sector=Καπνοβιομηχανίες\n",
      "publisher=Ιδιωτική Εταιρεία (LTD)\n",
      "category=Διοίκηση επιχειρήσεων, Μάρκετινγκ / Δημόσιες Σχέσεις, Forex\n"
     ]
    },
    {
     "name": "stderr",
     "output_type": "stream",
     "text": [
      "\r",
      " 92%|█████████▏| 919/1000 [3:39:02<19:48, 14.67s/it]"
     ]
    },
    {
     "name": "stdout",
     "output_type": "stream",
     "text": [
      "Bookkeeper (GAP-0721-BK) - G.A.P. Vassilopoulos Group\n",
      "titleofjob=Bookkeeper (GAP-0721-BK)\n",
      "refernce_number=147780\n",
      "city=Λευκωσία\n",
      "date_posted=08/09/2021\n",
      "expire_date=19/09/2021\n",
      "views=329\n",
      "type_of_employment=Πλήρης\n",
      "employment_sector=Τράπεζες / Χρηματοπιστωτικά Ιδρύματα\n",
      "publisher=Ιδιωτική Εταιρεία (LTD)\n",
      "category=Λογιστές, Οικονομολόγοι, Χρηματοοικονομικά/Χρηματοπιστωτικά\n"
     ]
    },
    {
     "name": "stderr",
     "output_type": "stream",
     "text": [
      "\r",
      " 92%|█████████▏| 920/1000 [3:39:16<19:09, 14.37s/it]"
     ]
    },
    {
     "name": "stdout",
     "output_type": "stream",
     "text": [
      "CEO (Digital Marketing Agency) - BB Media\n",
      "titleofjob=CEO (Digital Marketing Agency)\n",
      "refernce_number=147742\n",
      "city=Λεμεσός\n",
      "date_posted=08/09/2021\n",
      "expire_date=19/09/2021\n",
      "views=503\n",
      "type_of_employment=Πλήρης\n",
      "employment_sector=Μάρκετινγκ / Διαφήμιση\n",
      "publisher=Ιδιωτική Εταιρεία (LTD)\n",
      "category=Διοίκηση επιχειρήσεων, Μάρκετινγκ / Δημόσιες Σχέσεις, Χρηματοοικονομικά/Χρηματοπιστωτικά\n"
     ]
    },
    {
     "name": "stderr",
     "output_type": "stream",
     "text": [
      "\r",
      " 92%|█████████▏| 921/1000 [3:39:30<18:52, 14.34s/it]"
     ]
    },
    {
     "name": "stdout",
     "output_type": "stream",
     "text": [
      "Director of Golf (5265) - CareerFinders Recruitment Services Ltd\n",
      "titleofjob=Director of Golf (5265)\n",
      "refernce_number=147709\n",
      "city=Πάφος\n",
      "date_posted=08/09/2021\n",
      "expire_date=19/09/2021\n",
      "views=181\n",
      "type_of_employment=Πλήρης\n",
      "employment_sector=Μη διαθέσιμο\n",
      "publisher=Ιδιωτική Εταιρεία (LTD)\n",
      "category=Διοίκηση επιχειρήσεων, Υπεύθυνοι Πωλήσεων\n"
     ]
    },
    {
     "name": "stderr",
     "output_type": "stream",
     "text": [
      "\r",
      " 92%|█████████▏| 922/1000 [3:39:45<18:40, 14.36s/it]"
     ]
    },
    {
     "name": "stdout",
     "output_type": "stream",
     "text": [
      "Senior Legal Advisor (5200) - CareerFinders Recruitment Services Ltd\n",
      "titleofjob=Senior Legal Advisor (5200)\n",
      "refernce_number=147811\n",
      "city=Λεμεσός\n",
      "date_posted=08/09/2021\n",
      "expire_date=19/09/2021\n",
      "views=169\n",
      "type_of_employment=Πλήρης\n",
      "employment_sector=Σύμβουλοι Επιχειρήσεων\n",
      "publisher=Ιδιωτική Εταιρεία (LTD)\n",
      "category=Δικηγόροι\n"
     ]
    },
    {
     "name": "stderr",
     "output_type": "stream",
     "text": [
      "\r",
      " 92%|█████████▏| 923/1000 [3:39:59<18:25, 14.36s/it]"
     ]
    },
    {
     "name": "stdout",
     "output_type": "stream",
     "text": [
      "Corporate Officer (5201) - CareerFinders Recruitment Services Ltd\n",
      "titleofjob=Corporate Officer (5201)\n",
      "refernce_number=147813\n",
      "city=Λευκωσία\n",
      "date_posted=08/09/2021\n",
      "expire_date=19/09/2021\n",
      "views=233\n",
      "type_of_employment=Πλήρης\n",
      "employment_sector=Σύμβουλοι Επιχειρήσεων\n",
      "publisher=Ιδιωτική Εταιρεία (LTD)\n",
      "category=Γραμματειακά, Διοίκηση επιχειρήσεων\n"
     ]
    },
    {
     "name": "stderr",
     "output_type": "stream",
     "text": [
      "\r",
      " 92%|█████████▏| 924/1000 [3:40:13<17:52, 14.11s/it]"
     ]
    },
    {
     "name": "stdout",
     "output_type": "stream",
     "text": [
      "Τοπογράφος Μηχανικός - Topomaster Ltd\n",
      "titleofjob=Τοπογράφος Μηχανικός\n",
      "refernce_number=147824\n",
      "city=Λεμεσός, Λευκωσία\n",
      "date_posted=08/09/2021\n",
      "expire_date=19/09/2021\n",
      "views=534\n",
      "type_of_employment=Πλήρης\n",
      "employment_sector=Αρχιτεκτονικά Γραφεία\n",
      "publisher=Ιδιωτική Εταιρεία (LTD)\n",
      "category=Πολιτικοί Μηχανικοί, Τοπογράφοι\n"
     ]
    },
    {
     "name": "stderr",
     "output_type": "stream",
     "text": [
      "\r",
      " 92%|█████████▎| 925/1000 [3:40:27<17:41, 14.15s/it]"
     ]
    },
    {
     "name": "stdout",
     "output_type": "stream",
     "text": [
      "Εργάτες/τριες Συσκευαστηρίου - KIMAGRO FISHFARMING LTD\n",
      "titleofjob=Εργάτες/τριες Συσκευαστηρίου\n",
      "refernce_number=147807\n",
      "city=Λεμεσός\n",
      "date_posted=08/09/2021\n",
      "expire_date=19/09/2021\n",
      "views=1291\n",
      "type_of_employment=Πλήρης\n",
      "employment_sector=Ιχθυοτροφεία\n",
      "publisher=Ιδιωτική Εταιρεία (LTD)\n",
      "category=Εργάτες Παραγωγής / Συσκευασίας\n"
     ]
    },
    {
     "name": "stderr",
     "output_type": "stream",
     "text": [
      "\r",
      " 93%|█████████▎| 926/1000 [3:40:42<17:53, 14.50s/it]"
     ]
    },
    {
     "name": "stdout",
     "output_type": "stream",
     "text": [
      "Accounts Assistant (VAC-V20752T) - StaffMatters Recruitment Specialists\n",
      "titleofjob=Accounts Assistant (VAC-V20752T)\n",
      "refernce_number=147401\n",
      "city=Λευκωσία\n",
      "date_posted=08/09/2021\n",
      "expire_date=19/09/2021\n",
      "views=263\n",
      "type_of_employment=Πλήρης\n",
      "employment_sector=Λογιστικά / Ελεγκτικά γραφεία\n",
      "publisher=Γραφείο Εξεύρεσης Εργασίας\n",
      "category=Λογιστές, Οικονομολόγοι, Χρηματοοικονομικά/Χρηματοπιστωτικά\n"
     ]
    },
    {
     "name": "stderr",
     "output_type": "stream",
     "text": [
      "\r",
      " 93%|█████████▎| 927/1000 [3:40:56<17:14, 14.17s/it]"
     ]
    },
    {
     "name": "stdout",
     "output_type": "stream",
     "text": [
      "Corporate Graphic Designer - Albourne Partners (Cyprus) Ltd\n",
      "titleofjob=Corporate Graphic Designer\n",
      "refernce_number=147822\n",
      "city=Λευκωσία\n",
      "date_posted=08/09/2021\n",
      "expire_date=19/09/2021\n",
      "views=286\n",
      "type_of_employment=Πλήρης\n",
      "employment_sector=Μη διαθέσιμο\n",
      "publisher=Ιδιωτική Εταιρεία (LTD)\n",
      "category=Γραφίστες\n"
     ]
    },
    {
     "name": "stderr",
     "output_type": "stream",
     "text": [
      "\r",
      " 93%|█████████▎| 928/1000 [3:41:10<17:03, 14.21s/it]"
     ]
    },
    {
     "name": "stdout",
     "output_type": "stream",
     "text": [
      "Operational Due Diligence Analyst - Albourne Partners (Cyprus) Ltd\n",
      "titleofjob=Operational Due Diligence Analyst\n",
      "refernce_number=147821\n",
      "city=Λευκωσία\n",
      "date_posted=08/09/2021\n",
      "expire_date=19/09/2021\n",
      "views=262\n",
      "type_of_employment=Πλήρης\n",
      "employment_sector=Μη διαθέσιμο\n",
      "publisher=Ιδιωτική Εταιρεία (LTD)\n",
      "category=Διοίκηση επιχειρήσεων, Λογιστές, Μαθηματικοί / Στατιστικολόγοι\n"
     ]
    },
    {
     "name": "stderr",
     "output_type": "stream",
     "text": [
      "\r",
      " 93%|█████████▎| 929/1000 [3:41:25<17:15, 14.58s/it]"
     ]
    },
    {
     "name": "stdout",
     "output_type": "stream",
     "text": [
      "Quantitative Data Analyst - Albourne Partners (Cyprus) Ltd\n",
      "titleofjob=Quantitative Data Analyst\n",
      "refernce_number=147820\n",
      "city=Λευκωσία\n",
      "date_posted=08/09/2021\n",
      "expire_date=19/09/2021\n",
      "views=357\n",
      "type_of_employment=Πλήρης\n",
      "employment_sector=Μη διαθέσιμο\n",
      "publisher=Ιδιωτική Εταιρεία (LTD)\n",
      "category=Λογιστές, Μαθηματικοί / Στατιστικολόγοι, Χρηματοοικονομικά/Χρηματοπιστωτικά\n"
     ]
    },
    {
     "name": "stderr",
     "output_type": "stream",
     "text": [
      "\r",
      " 93%|█████████▎| 930/1000 [3:41:42<17:35, 15.08s/it]"
     ]
    },
    {
     "name": "stdout",
     "output_type": "stream",
     "text": [
      "Consumer Experience Manager - Manpower Cyprus\n",
      "titleofjob=Consumer Experience Manager\n",
      "refernce_number=147781\n",
      "city=Λεμεσός, Λευκωσία, Λάρνακα, Πάφος, Αμμόχωστος\n",
      "date_posted=08/09/2021\n",
      "expire_date=19/09/2021\n",
      "views=840\n",
      "type_of_employment=Πλήρης\n",
      "employment_sector=Καπνοβιομηχανίες\n",
      "publisher=Ιδιωτική Εταιρεία (LTD)\n",
      "category=Διοίκηση επιχειρήσεων, Κοινωνικές / Πολιτικές Επιστήμες, Μάρκετινγκ / Δημόσιες Σχέσεις\n"
     ]
    },
    {
     "name": "stderr",
     "output_type": "stream",
     "text": [
      "\r",
      " 93%|█████████▎| 931/1000 [3:41:56<17:00, 14.80s/it]"
     ]
    },
    {
     "name": "stdout",
     "output_type": "stream",
     "text": [
      "Private Markets Quantitative Due Diligence Analyst - Albourne Partners (Cyprus) Ltd\n",
      "titleofjob=Private Markets Quantitative Due Diligence Analyst\n",
      "refernce_number=147819\n",
      "city=Λευκωσία\n",
      "date_posted=08/09/2021\n",
      "expire_date=19/09/2021\n",
      "views=180\n",
      "type_of_employment=Πλήρης\n",
      "employment_sector=Μη διαθέσιμο\n",
      "publisher=Ιδιωτική Εταιρεία (LTD)\n",
      "category=Διοίκηση επιχειρήσεων, Μαθηματικοί / Στατιστικολόγοι, Οικονομολόγοι, Χρηματοοικονομικά/Χρηματοπιστωτικά\n"
     ]
    },
    {
     "name": "stderr",
     "output_type": "stream",
     "text": [
      "\r",
      " 93%|█████████▎| 932/1000 [3:42:10<16:27, 14.52s/it]"
     ]
    },
    {
     "name": "stdout",
     "output_type": "stream",
     "text": [
      "Hedge Fund Quantitative Due Diligence Risk Analyst - Albourne Partners (Cyprus) Ltd\n",
      "titleofjob=Hedge Fund Quantitative Due Diligence Risk Analyst\n",
      "refernce_number=147818\n",
      "city=Λευκωσία\n",
      "date_posted=08/09/2021\n",
      "expire_date=19/09/2021\n",
      "views=191\n",
      "type_of_employment=Πλήρης\n",
      "employment_sector=Μη διαθέσιμο\n",
      "publisher=Ιδιωτική Εταιρεία (LTD)\n",
      "category=Διοίκηση επιχειρήσεων, Λογιστές, Μαθηματικοί / Στατιστικολόγοι, Οικονομολόγοι, Χρηματοοικονομικά/Χρηματοπιστωτικά\n"
     ]
    },
    {
     "name": "stderr",
     "output_type": "stream",
     "text": [
      "\r",
      " 93%|█████████▎| 933/1000 [3:42:23<15:48, 14.16s/it]"
     ]
    },
    {
     "name": "stdout",
     "output_type": "stream",
     "text": [
      "Fund Administration Analyst - Albourne Partners (Cyprus) Ltd\n",
      "titleofjob=Fund Administration Analyst\n",
      "refernce_number=147817\n",
      "city=Λευκωσία\n",
      "date_posted=08/09/2021\n",
      "expire_date=19/09/2021\n",
      "views=272\n",
      "type_of_employment=Πλήρης\n",
      "employment_sector=Μη διαθέσιμο\n",
      "publisher=Ιδιωτική Εταιρεία (LTD)\n",
      "category=Διοίκηση επιχειρήσεων, Λογιστές, Μαθηματικοί / Στατιστικολόγοι, Δικηγόροι, Χρηματοοικονομικά/Χρηματοπιστωτικά\n"
     ]
    },
    {
     "name": "stderr",
     "output_type": "stream",
     "text": [
      "\r",
      " 93%|█████████▎| 934/1000 [3:42:37<15:24, 14.01s/it]"
     ]
    },
    {
     "name": "stdout",
     "output_type": "stream",
     "text": [
      "Front-End Developer - HYCM (EUROPE) LTD\n",
      "titleofjob=Front-End Developer\n",
      "refernce_number=147816\n",
      "city=Λεμεσός\n",
      "date_posted=08/09/2021\n",
      "expire_date=19/09/2021\n",
      "views=187\n",
      "type_of_employment=Πλήρης\n",
      "employment_sector=Forex\n",
      "publisher=Ιδιωτική Εταιρεία (LTD)\n",
      "category=Πληροφορική, Forex\n"
     ]
    },
    {
     "name": "stderr",
     "output_type": "stream",
     "text": [
      "\r",
      " 94%|█████████▎| 935/1000 [3:42:51<15:15, 14.09s/it]"
     ]
    },
    {
     "name": "stdout",
     "output_type": "stream",
     "text": [
      "Back-End Developer - HYCM (EUROPE) LTD\n",
      "titleofjob=Back-End Developer\n",
      "refernce_number=147815\n",
      "city=Λεμεσός\n",
      "date_posted=08/09/2021\n",
      "expire_date=19/09/2021\n",
      "views=151\n",
      "type_of_employment=Πλήρης\n",
      "employment_sector=Forex\n",
      "publisher=Ιδιωτική Εταιρεία (LTD)\n",
      "category=Πληροφορική, Forex\n"
     ]
    },
    {
     "name": "stderr",
     "output_type": "stream",
     "text": [
      "\r",
      " 94%|█████████▎| 936/1000 [3:43:04<14:51, 13.92s/it]"
     ]
    },
    {
     "name": "stdout",
     "output_type": "stream",
     "text": [
      "Senior Analyst / Programmer (Dual Role) - HYCM (EUROPE) LTD\n",
      "titleofjob=Senior Analyst / Programmer (Dual Role)\n",
      "refernce_number=147814\n",
      "city=Λεμεσός\n",
      "date_posted=08/09/2021\n",
      "expire_date=19/09/2021\n",
      "views=125\n",
      "type_of_employment=Πλήρης\n",
      "employment_sector=Μη διαθέσιμο\n",
      "publisher=Ιδιωτική Εταιρεία (LTD)\n",
      "category=Πληροφορική\n"
     ]
    },
    {
     "name": "stderr",
     "output_type": "stream",
     "text": [
      "\r",
      " 94%|█████████▎| 937/1000 [3:43:17<14:19, 13.64s/it]"
     ]
    },
    {
     "name": "stdout",
     "output_type": "stream",
     "text": [
      "Flutter Developer - HYCM (EUROPE) LTD\n",
      "titleofjob=Flutter Developer\n",
      "refernce_number=147812\n",
      "city=Λεμεσός\n",
      "date_posted=08/09/2021\n",
      "expire_date=19/09/2021\n",
      "views=153\n",
      "type_of_employment=Πλήρης\n",
      "employment_sector=Forex\n",
      "publisher=Ιδιωτική Εταιρεία (LTD)\n",
      "category=Πληροφορική, Forex\n"
     ]
    },
    {
     "name": "stderr",
     "output_type": "stream",
     "text": [
      "\r",
      " 94%|█████████▍| 938/1000 [3:43:32<14:13, 13.77s/it]"
     ]
    },
    {
     "name": "stdout",
     "output_type": "stream",
     "text": [
      "Compliance Administrator - Tech4S Group Ltd\n",
      "titleofjob=Compliance Administrator\n",
      "refernce_number=147701\n",
      "city=Λεμεσός\n",
      "date_posted=08/09/2021\n",
      "expire_date=19/09/2021\n",
      "views=199\n",
      "type_of_employment=Πλήρης\n",
      "employment_sector=Σύμβουλοι Επιχειρήσεων\n",
      "publisher=Ιδιωτική Εταιρεία (LTD)\n",
      "category=Διοίκηση επιχειρήσεων, Δικηγόροι\n"
     ]
    },
    {
     "name": "stderr",
     "output_type": "stream",
     "text": [
      "\r",
      " 94%|█████████▍| 939/1000 [3:43:45<13:58, 13.74s/it]"
     ]
    },
    {
     "name": "stdout",
     "output_type": "stream",
     "text": [
      "Βοηθός Φορτηγού - Golden Brands Trading Cyprus Ltd\n",
      "titleofjob=Βοηθός Φορτηγού\n",
      "refernce_number=147453\n",
      "city=Λευκωσία\n",
      "date_posted=08/09/2021\n",
      "expire_date=19/09/2021\n",
      "views=321\n",
      "type_of_employment=Πλήρης\n",
      "employment_sector=Χοντρικό Εμπόριο\n",
      "publisher=Ιδιωτική Εταιρεία (LTD)\n",
      "category=Οδηγοί\n"
     ]
    },
    {
     "name": "stderr",
     "output_type": "stream",
     "text": [
      "\r",
      " 94%|█████████▍| 940/1000 [3:44:01<14:13, 14.23s/it]"
     ]
    },
    {
     "name": "stdout",
     "output_type": "stream",
     "text": [
      "IT Help Desk Engineer - Pari-Tech (Cy) Limited\n",
      "titleofjob=IT Help Desk Engineer\n",
      "refernce_number=147776\n",
      "city=Λεμεσός\n",
      "date_posted=08/09/2021\n",
      "expire_date=19/09/2021\n",
      "views=598\n",
      "type_of_employment=Πλήρης\n",
      "employment_sector=Εταιρείες Στοιχημάτων\n",
      "publisher=Ιδιωτική Εταιρεία (LTD)\n",
      "category=Πληροφορική, Τεχνικοί, Ρωσική γλώσσα\n"
     ]
    },
    {
     "name": "stderr",
     "output_type": "stream",
     "text": [
      "\r",
      " 94%|█████████▍| 941/1000 [3:44:15<13:59, 14.24s/it]"
     ]
    },
    {
     "name": "stdout",
     "output_type": "stream",
     "text": [
      "Office Administrator - Tech4S Group Ltd\n",
      "titleofjob=Office Administrator\n",
      "refernce_number=147703\n",
      "city=Λεμεσός\n",
      "date_posted=08/09/2021\n",
      "expire_date=19/09/2021\n",
      "views=421\n",
      "type_of_employment=Πλήρης\n",
      "employment_sector=Σύμβουλοι Επιχειρήσεων\n",
      "publisher=Ιδιωτική Εταιρεία (LTD)\n",
      "category=Γραμματειακά, Διοίκηση επιχειρήσεων\n"
     ]
    },
    {
     "name": "stderr",
     "output_type": "stream",
     "text": [
      "\r",
      " 94%|█████████▍| 942/1000 [3:44:29<13:49, 14.31s/it]"
     ]
    },
    {
     "name": "stdout",
     "output_type": "stream",
     "text": [
      "Accountant - Tech4S Group Ltd\n",
      "titleofjob=Accountant\n",
      "refernce_number=147702\n",
      "city=Λεμεσός\n",
      "date_posted=08/09/2021\n",
      "expire_date=19/09/2021\n",
      "views=348\n",
      "type_of_employment=Πλήρης\n",
      "employment_sector=Σύμβουλοι Επιχειρήσεων\n",
      "publisher=Ιδιωτική Εταιρεία (LTD)\n",
      "category=Διοίκηση επιχειρήσεων, Λογιστές, Χρηματοοικονομικά/Χρηματοπιστωτικά\n"
     ]
    },
    {
     "name": "stderr",
     "output_type": "stream",
     "text": [
      "\r",
      " 94%|█████████▍| 943/1000 [3:44:43<13:31, 14.24s/it]"
     ]
    },
    {
     "name": "stdout",
     "output_type": "stream",
     "text": [
      "Τεχνικοί - Capital Coast Resort & Spa\n",
      "titleofjob=Τεχνικοί\n",
      "refernce_number=147809\n",
      "city=Πάφος\n",
      "date_posted=08/09/2021\n",
      "expire_date=19/09/2021\n",
      "views=221\n",
      "type_of_employment=Πλήρης\n",
      "employment_sector=Τουρισμός - Ξενοδοχεία\n",
      "publisher=Ιδιωτική Εταιρεία (LTD)\n",
      "category=Υπάλληλοι HORECA, Τεχνικοί\n"
     ]
    },
    {
     "name": "stderr",
     "output_type": "stream",
     "text": [
      "\r",
      " 94%|█████████▍| 944/1000 [3:44:59<13:39, 14.63s/it]"
     ]
    },
    {
     "name": "stdout",
     "output_type": "stream",
     "text": [
      "Teller - SOCIETE GENERALE BANK-CYPRUS\n",
      "titleofjob=Teller\n",
      "refernce_number=147758\n",
      "city=Λάρνακα\n",
      "date_posted=08/09/2021\n",
      "expire_date=19/09/2021\n",
      "views=1093\n",
      "type_of_employment=Πλήρης\n",
      "employment_sector=Τράπεζες / Χρηματοπιστωτικά Ιδρύματα\n",
      "publisher=Ιδιωτική Εταιρεία (LTD)\n",
      "category=Διοίκηση επιχειρήσεων, Χρηματοοικονομικά/Χρηματοπιστωτικά\n"
     ]
    },
    {
     "name": "stderr",
     "output_type": "stream",
     "text": [
      "\r",
      " 94%|█████████▍| 945/1000 [3:45:13<13:21, 14.56s/it]"
     ]
    },
    {
     "name": "stdout",
     "output_type": "stream",
     "text": [
      "Student Affairs Officer (Part-Time) - The Cyprus Institute of Marketing (CIM)\n",
      "titleofjob=Student Affairs Officer (Part-Time)\n",
      "refernce_number=147808\n",
      "city=Λευκωσία\n",
      "date_posted=08/09/2021\n",
      "expire_date=19/09/2021\n",
      "views=679\n",
      "type_of_employment=Μερική\n",
      "employment_sector=Μη διαθέσιμο\n",
      "publisher=Ιδιωτική Εταιρεία (LTD)\n",
      "category=Ανθρώπινο Δυναμικό , Διοίκηση επιχειρήσεων, Μάρκετινγκ / Δημόσιες Σχέσεις\n"
     ]
    },
    {
     "name": "stderr",
     "output_type": "stream",
     "text": [
      "\r",
      " 95%|█████████▍| 946/1000 [3:45:28<13:13, 14.69s/it]"
     ]
    },
    {
     "name": "stdout",
     "output_type": "stream",
     "text": [
      "Head of Stations - LCA - TUS AIRWAYS LTD\n",
      "titleofjob=Head of Stations - LCA\n",
      "refernce_number=147805\n",
      "city=Λάρνακα\n",
      "date_posted=08/09/2021\n",
      "expire_date=19/09/2021\n",
      "views=419\n",
      "type_of_employment=Πλήρης\n",
      "employment_sector=Μη διαθέσιμο\n",
      "publisher=Ιδιωτική Εταιρεία (LTD)\n",
      "category=Διοίκηση επιχειρήσεων\n"
     ]
    },
    {
     "name": "stderr",
     "output_type": "stream",
     "text": [
      "\r",
      " 95%|█████████▍| 947/1000 [3:45:42<12:48, 14.51s/it]"
     ]
    },
    {
     "name": "stdout",
     "output_type": "stream",
     "text": [
      "Safety & Compliance Engineer - TUS AIRWAYS LTD\n",
      "titleofjob=Safety & Compliance Engineer\n",
      "refernce_number=147804\n",
      "city=Λάρνακα\n",
      "date_posted=08/09/2021\n",
      "expire_date=19/09/2021\n",
      "views=422\n",
      "type_of_employment=Πλήρης\n",
      "employment_sector=Μη διαθέσιμο\n",
      "publisher=Ιδιωτική Εταιρεία (LTD)\n",
      "category=Μηχανολόγοι Μηχανικοί\n"
     ]
    },
    {
     "name": "stderr",
     "output_type": "stream",
     "text": [
      "\r",
      " 95%|█████████▍| 948/1000 [3:45:56<12:25, 14.34s/it]"
     ]
    },
    {
     "name": "stdout",
     "output_type": "stream",
     "text": [
      "Email Marketing Officer - BB Media\n",
      "titleofjob=Email Marketing Officer\n",
      "refernce_number=147740\n",
      "city=Λεμεσός\n",
      "date_posted=08/09/2021\n",
      "expire_date=19/09/2021\n",
      "views=443\n",
      "type_of_employment=Πλήρης\n",
      "employment_sector=Μάρκετινγκ / Διαφήμιση\n",
      "publisher=Ιδιωτική Εταιρεία (LTD)\n",
      "category=Διοίκηση επιχειρήσεων, Μάρκετινγκ / Δημόσιες Σχέσεις, Ξένες Γλώσσες / Μεταφραστές\n"
     ]
    },
    {
     "name": "stderr",
     "output_type": "stream",
     "text": [
      "\r",
      " 95%|█████████▍| 949/1000 [3:46:10<12:07, 14.27s/it]"
     ]
    },
    {
     "name": "stdout",
     "output_type": "stream",
     "text": [
      "Engineering Administrator - TUS AIRWAYS LTD\n",
      "titleofjob=Engineering Administrator\n",
      "refernce_number=147803\n",
      "city=Λάρνακα\n",
      "date_posted=08/09/2021\n",
      "expire_date=19/09/2021\n",
      "views=471\n",
      "type_of_employment=Πλήρης\n",
      "employment_sector=Μη διαθέσιμο\n",
      "publisher=Ιδιωτική Εταιρεία (LTD)\n",
      "category=Μηχανολόγοι Μηχανικοί, Τεχνικοί\n"
     ]
    },
    {
     "name": "stderr",
     "output_type": "stream",
     "text": [
      "\r",
      " 95%|█████████▌| 950/1000 [3:46:27<12:22, 14.86s/it]"
     ]
    },
    {
     "name": "stdout",
     "output_type": "stream",
     "text": [
      "Βοηθός Αποθηκάριος - Bionic Electronics H.T. LTD\n",
      "titleofjob=Βοηθός Αποθηκάριος\n",
      "refernce_number=147737\n",
      "city=Λευκωσία\n",
      "date_posted=08/09/2021\n",
      "expire_date=λήγει σημερα\n",
      "views=1141\n",
      "type_of_employment=Πλήρης\n",
      "employment_sector=Πληροφορική\n",
      "publisher=Ιδιωτική Εταιρεία (LTD)\n",
      "category=Αποθηκάριοι\n"
     ]
    },
    {
     "name": "stderr",
     "output_type": "stream",
     "text": [
      "\r",
      " 95%|█████████▌| 951/1000 [3:46:42<12:10, 14.91s/it]"
     ]
    },
    {
     "name": "stdout",
     "output_type": "stream",
     "text": [
      "Βοηθός Αποθήκης/Οδηγός (Διπλός Ρόλος) - Vassos Eliades Ltd\n",
      "titleofjob=Βοηθός Αποθήκης/Οδηγός (Διπλός Ρόλος)\n",
      "refernce_number=147697\n",
      "city=Λευκωσία\n",
      "date_posted=08/09/2021\n",
      "expire_date=19/09/2021\n",
      "views=348\n",
      "type_of_employment=Πλήρης\n",
      "employment_sector=Μη διαθέσιμο\n",
      "publisher=Ιδιωτική Εταιρεία (LTD)\n",
      "category=Αποθηκάριοι, Οδηγοί\n"
     ]
    },
    {
     "name": "stderr",
     "output_type": "stream",
     "text": [
      "\r",
      " 95%|█████████▌| 952/1000 [3:47:00<12:42, 15.88s/it]"
     ]
    },
    {
     "name": "stdout",
     "output_type": "stream",
     "text": [
      "Developer - Chrisons Co. Ltd\n",
      "titleofjob=Developer\n",
      "refernce_number=147652\n",
      "city=Λεμεσός\n",
      "date_posted=08/09/2021\n",
      "expire_date=19/09/2021\n",
      "views=202\n",
      "type_of_employment=Πλήρης\n",
      "employment_sector=Πληροφορική\n",
      "publisher=Ιδιωτική Εταιρεία (LTD)\n",
      "category=Πληροφορική\n"
     ]
    },
    {
     "name": "stderr",
     "output_type": "stream",
     "text": [
      "\r",
      " 95%|█████████▌| 953/1000 [3:47:14<12:00, 15.33s/it]"
     ]
    },
    {
     "name": "stdout",
     "output_type": "stream",
     "text": [
      "Διανομέας/Βοηθός Αποθήκης (Διπλός Ρόλος) - PH HADJIGEORGIOY\n",
      "titleofjob=Διανομέας/Βοηθός Αποθήκης (Διπλός Ρόλος)\n",
      "refernce_number=147653\n",
      "city=Λευκωσία\n",
      "date_posted=08/09/2021\n",
      "expire_date=19/09/2021\n",
      "views=408\n",
      "type_of_employment=Πλήρης\n",
      "employment_sector=Χοντρικό Εμπόριο\n",
      "publisher=Ιδιωτική Εταιρεία (LTD)\n",
      "category=Αποθηκάριοι, Διανομείς\n"
     ]
    },
    {
     "name": "stderr",
     "output_type": "stream",
     "text": [
      "\r",
      " 95%|█████████▌| 954/1000 [3:47:29<11:38, 15.17s/it]"
     ]
    },
    {
     "name": "stdout",
     "output_type": "stream",
     "text": [
      "Γεωπόνος - A.K.PURPLE SERVICES APARTMENTS AND HOTELS LTD\n",
      "titleofjob=Γεωπόνος\n",
      "refernce_number=147641\n",
      "city=Λευκωσία\n",
      "date_posted=08/09/2021\n",
      "expire_date=19/09/2021\n",
      "views=289\n",
      "type_of_employment=Πλήρης\n",
      "employment_sector=Γεωργία / Γεωργικά Προϊόντα\n",
      "publisher=Ιδιωτική Εταιρεία (LTD)\n",
      "category=Γεωργοί / Γεωπόνοι\n"
     ]
    },
    {
     "name": "stderr",
     "output_type": "stream",
     "text": [
      "\r",
      " 96%|█████████▌| 955/1000 [3:47:43<11:08, 14.85s/it]"
     ]
    },
    {
     "name": "stdout",
     "output_type": "stream",
     "text": [
      "Experienced Corporate Lawyer (CL305) - Guricon Limited\n",
      "titleofjob=Experienced Corporate Lawyer (CL305)\n",
      "refernce_number=147457\n",
      "city=Λάρνακα\n",
      "date_posted=08/09/2021\n",
      "expire_date=15/09/2021\n",
      "views=192\n",
      "type_of_employment=Πλήρης\n",
      "employment_sector=Σύμβουλοι Επιχειρήσεων\n",
      "publisher=Ιδιωτική Εταιρεία (LTD)\n",
      "category=Δικηγόροι\n"
     ]
    },
    {
     "name": "stderr",
     "output_type": "stream",
     "text": [
      "\r",
      " 96%|█████████▌| 956/1000 [3:47:57<10:43, 14.62s/it]"
     ]
    },
    {
     "name": "stdout",
     "output_type": "stream",
     "text": [
      "Driver - Elite G.T.M. Services Limited\n",
      "titleofjob=Driver\n",
      "refernce_number=147801\n",
      "city=Λεμεσός\n",
      "date_posted=08/09/2021\n",
      "expire_date=19/09/2021\n",
      "views=427\n",
      "type_of_employment=Πλήρη ή Μερική\n",
      "employment_sector=Μη διαθέσιμο\n",
      "publisher=Ιδιωτική Εταιρεία (LTD)\n",
      "category=Οδηγοί, Ρωσική γλώσσα\n"
     ]
    },
    {
     "name": "stderr",
     "output_type": "stream",
     "text": [
      "\r",
      " 96%|█████████▌| 957/1000 [3:48:11<10:27, 14.60s/it]"
     ]
    },
    {
     "name": "stdout",
     "output_type": "stream",
     "text": [
      "Senior Interior Designer - Roomzly Interior Design Studio\n",
      "titleofjob=Senior Interior Designer\n",
      "refernce_number=147633\n",
      "city=Λεμεσός\n",
      "date_posted=08/09/2021\n",
      "expire_date=19/09/2021\n",
      "views=274\n",
      "type_of_employment=Πλήρης\n",
      "employment_sector=Διακόσμηση Εσωτερικών και Εξωτερικών Χώρων\n",
      "publisher=Ιδιωτική Εταιρεία (LTD)\n",
      "category=Αρχιτέκτονες, Διακοσμητές Χώρων, Ρωσική γλώσσα\n"
     ]
    },
    {
     "name": "stderr",
     "output_type": "stream",
     "text": [
      "\r",
      " 96%|█████████▌| 958/1000 [3:48:25<10:06, 14.44s/it]"
     ]
    },
    {
     "name": "stdout",
     "output_type": "stream",
     "text": [
      "Corporate Lawyer (CL103) - Guricon Limited\n",
      "titleofjob=Corporate Lawyer (CL103)\n",
      "refernce_number=147456\n",
      "city=Λάρνακα\n",
      "date_posted=08/09/2021\n",
      "expire_date=15/09/2021\n",
      "views=577\n",
      "type_of_employment=Πλήρης\n",
      "employment_sector=Σύμβουλοι Επιχειρήσεων\n",
      "publisher=Ιδιωτική Εταιρεία (LTD)\n",
      "category=Δικηγόροι\n"
     ]
    },
    {
     "name": "stderr",
     "output_type": "stream",
     "text": [
      "\r",
      " 96%|█████████▌| 959/1000 [3:48:40<09:51, 14.42s/it]"
     ]
    },
    {
     "name": "stdout",
     "output_type": "stream",
     "text": [
      "Cashier - Panakon Ltd\n",
      "titleofjob=Cashier\n",
      "refernce_number=147699\n",
      "city=Λεμεσός\n",
      "date_posted=08/09/2021\n",
      "expire_date=19/09/2021\n",
      "views=200\n",
      "type_of_employment=Πλήρη ή Μερική\n",
      "employment_sector=Λιανικό Εμπόριο\n",
      "publisher=Ιδιωτική Εταιρεία (LTD)\n",
      "category=Ταμίες\n"
     ]
    },
    {
     "name": "stderr",
     "output_type": "stream",
     "text": [
      "\r",
      " 96%|█████████▌| 960/1000 [3:48:54<09:29, 14.24s/it]"
     ]
    },
    {
     "name": "stdout",
     "output_type": "stream",
     "text": [
      "Store Manager - AXF AE\n",
      "titleofjob=Store Manager\n",
      "refernce_number=147796\n",
      "city=Λευκωσία\n",
      "date_posted=08/09/2021\n",
      "expire_date=19/09/2021\n",
      "views=150\n",
      "type_of_employment=Πλήρης\n",
      "employment_sector=Λιανικό Εμπόριο\n",
      "publisher=Ιδιωτική Εταιρεία (LTD)\n",
      "category=Πωλητές - Καταστήματα\n"
     ]
    },
    {
     "name": "stderr",
     "output_type": "stream",
     "text": [
      "\r",
      " 96%|█████████▌| 961/1000 [3:49:09<09:24, 14.48s/it]"
     ]
    },
    {
     "name": "stdout",
     "output_type": "stream",
     "text": [
      "Λειτουργός Λογιστηρίου - Varnavas Hadjipanayis Ltd\n",
      "titleofjob=Λειτουργός Λογιστηρίου\n",
      "refernce_number=147724\n",
      "city=Λευκωσία\n",
      "date_posted=08/09/2021\n",
      "expire_date=19/09/2021\n",
      "views=466\n",
      "type_of_employment=Πλήρης\n",
      "employment_sector=Μη διαθέσιμο\n",
      "publisher=Ιδιωτική Εταιρεία (LTD)\n",
      "category=Λογιστές, Οικονομολόγοι, Χρηματοοικονομικά/Χρηματοπιστωτικά\n"
     ]
    },
    {
     "name": "stderr",
     "output_type": "stream",
     "text": [
      "\r",
      " 96%|█████████▌| 962/1000 [3:49:23<09:05, 14.36s/it]"
     ]
    },
    {
     "name": "stdout",
     "output_type": "stream",
     "text": [
      "Sales Advisor - AXF AE\n",
      "titleofjob=Sales Advisor\n",
      "refernce_number=147793\n",
      "city=Πάφος\n",
      "date_posted=08/09/2021\n",
      "expire_date=19/09/2021\n",
      "views=189\n",
      "type_of_employment=Πλήρης\n",
      "employment_sector=Λιανικό Εμπόριο\n",
      "publisher=Ιδιωτική Εταιρεία (LTD)\n",
      "category=Πωλητές - Καταστήματα\n"
     ]
    },
    {
     "name": "stderr",
     "output_type": "stream",
     "text": [
      "\r",
      " 96%|█████████▋| 963/1000 [3:49:37<08:49, 14.32s/it]"
     ]
    },
    {
     "name": "stdout",
     "output_type": "stream",
     "text": [
      "Πωλητής/Πωλήτρια - Vassos Eliades Ltd\n",
      "titleofjob=Πωλητής/Πωλήτρια\n",
      "refernce_number=147698\n",
      "city=Λεμεσός\n",
      "date_posted=08/09/2021\n",
      "expire_date=19/09/2021\n",
      "views=185\n",
      "type_of_employment=Πλήρης\n",
      "employment_sector=Μη διαθέσιμο\n",
      "publisher=Ιδιωτική Εταιρεία (LTD)\n",
      "category=Πωλητές - Καταστήματα\n"
     ]
    },
    {
     "name": "stderr",
     "output_type": "stream",
     "text": [
      "\r",
      " 96%|█████████▋| 964/1000 [3:49:51<08:36, 14.34s/it]"
     ]
    },
    {
     "name": "stdout",
     "output_type": "stream",
     "text": [
      "CEO - BBMedia\n",
      "titleofjob=CEO\n",
      "refernce_number=147668\n",
      "city=Λεμεσός\n",
      "date_posted=09/09/2021\n",
      "expire_date=18/09/2021\n",
      "views=304\n",
      "type_of_employment=Πλήρης\n",
      "employment_sector=Μάρκετινγκ / Διαφήμιση\n",
      "publisher=Ιδιωτική Εταιρεία (LTD)\n",
      "category=Διοίκηση επιχειρήσεων, Μάρκετινγκ / Δημόσιες Σχέσεις\n"
     ]
    },
    {
     "name": "stderr",
     "output_type": "stream",
     "text": [
      "\r",
      " 96%|█████████▋| 965/1000 [3:50:06<08:26, 14.47s/it]"
     ]
    },
    {
     "name": "stdout",
     "output_type": "stream",
     "text": [
      "Σερβιτόρος/Σερβιτόρα - Bed n Mix\n",
      "titleofjob=Σερβιτόρος/Σερβιτόρα\n",
      "refernce_number=147650\n",
      "city=Λευκωσία\n",
      "date_posted=09/09/2021\n",
      "expire_date=18/09/2021\n",
      "views=244\n",
      "type_of_employment=Μερική\n",
      "employment_sector=Τουρισμός - Ξενοδοχεία\n",
      "publisher=Ιδιωτική Εταιρεία (LTD)\n",
      "category=Σερβιτόροι\n"
     ]
    },
    {
     "name": "stderr",
     "output_type": "stream",
     "text": [
      "\r",
      " 97%|█████████▋| 966/1000 [3:50:21<08:14, 14.54s/it]"
     ]
    },
    {
     "name": "stdout",
     "output_type": "stream",
     "text": [
      "Sales Assistants – ETAM (Λευκωσία) - VOICI LA MODE GROUP\n",
      "titleofjob=Sales Assistants – ETAM (Λευκωσία)\n",
      "refernce_number=147642\n",
      "city=Λευκωσία\n",
      "date_posted=09/09/2021\n",
      "expire_date=18/09/2021\n",
      "views=198\n",
      "type_of_employment=Πλήρη ή Μερική\n",
      "employment_sector=Λιανικό Εμπόριο\n",
      "publisher=Ιδιωτική Εταιρεία (LTD)\n",
      "category=Εξυπηρέτηση Πελατών, Υπεραγορές - Πολυκαταστήματα, Πωλητές - Καταστήματα\n"
     ]
    },
    {
     "name": "stderr",
     "output_type": "stream",
     "text": [
      "\r",
      " 97%|█████████▋| 967/1000 [3:50:34<07:49, 14.24s/it]"
     ]
    },
    {
     "name": "stdout",
     "output_type": "stream",
     "text": [
      "HR Assistant - Nexxie Group Ltd\n",
      "titleofjob=HR Assistant\n",
      "refernce_number=147763\n",
      "city=Πάφος\n",
      "date_posted=08/09/2021\n",
      "expire_date=18/09/2021\n",
      "views=539\n",
      "type_of_employment=Πλήρης\n",
      "employment_sector=Μη διαθέσιμο\n",
      "publisher=Ιδιωτική Εταιρεία (LTD)\n",
      "category=Ανθρώπινο Δυναμικό , Διοίκηση επιχειρήσεων, Μάρκετινγκ / Δημόσιες Σχέσεις\n"
     ]
    },
    {
     "name": "stderr",
     "output_type": "stream",
     "text": [
      "\r",
      " 97%|█████████▋| 968/1000 [3:50:49<07:35, 14.22s/it]"
     ]
    },
    {
     "name": "stdout",
     "output_type": "stream",
     "text": [
      "Καθηγητής/τρια Διοίκησης Επιχειρήσεων - MESOYIOS COLLEGE\n",
      "titleofjob=Καθηγητής/τρια Διοίκησης Επιχειρήσεων\n",
      "refernce_number=147636\n",
      "city=Λεμεσός\n",
      "date_posted=09/09/2021\n",
      "expire_date=18/09/2021\n",
      "views=355\n",
      "type_of_employment=Μερική\n",
      "employment_sector=Εκπαιδευτικά Κέντρα / Φροντιστήρια\n",
      "publisher=Πανεπιστήμιο / Εκπαιδευτικό Κέντρο\n",
      "category=Καθηγητές / Ακαδημαϊκοί, Διοίκηση επιχειρήσεων, Μάρκετινγκ / Δημόσιες Σχέσεις\n"
     ]
    },
    {
     "name": "stderr",
     "output_type": "stream",
     "text": [
      "\r",
      " 97%|█████████▋| 969/1000 [3:51:02<07:14, 14.02s/it]"
     ]
    },
    {
     "name": "stdout",
     "output_type": "stream",
     "text": [
      "Software Support Officer - PREVENTION AT SEA LTD\n",
      "titleofjob=Software Support Officer\n",
      "refernce_number=147632\n",
      "city=Λάρνακα\n",
      "date_posted=09/09/2021\n",
      "expire_date=18/09/2021\n",
      "views=343\n",
      "type_of_employment=Πλήρης\n",
      "employment_sector=Πληροφορική\n",
      "publisher=Ιδιωτική Εταιρεία (LTD)\n",
      "category=Πληροφορική\n"
     ]
    },
    {
     "name": "stderr",
     "output_type": "stream",
     "text": [
      "\r",
      " 97%|█████████▋| 970/1000 [3:51:17<07:03, 14.13s/it]"
     ]
    },
    {
     "name": "stdout",
     "output_type": "stream",
     "text": [
      "Account Manager - Nexxie Group Ltd\n",
      "titleofjob=Account Manager\n",
      "refernce_number=147764\n",
      "city=Πάφος\n",
      "date_posted=09/09/2021\n",
      "expire_date=18/09/2021\n",
      "views=355\n",
      "type_of_employment=Πλήρης\n",
      "employment_sector=Μη διαθέσιμο\n",
      "publisher=Ιδιωτική Εταιρεία (LTD)\n",
      "category=Ανθρώπινο Δυναμικό , Γραμματειακά, Διοίκηση επιχειρήσεων, Εξυπηρέτηση Πελατών, Μάρκετινγκ / Δημόσιες Σχέσεις\n"
     ]
    },
    {
     "name": "stderr",
     "output_type": "stream",
     "text": [
      "\r",
      " 97%|█████████▋| 971/1000 [3:51:31<06:52, 14.21s/it]"
     ]
    },
    {
     "name": "stdout",
     "output_type": "stream",
     "text": [
      "Director of Architecture and Design - Roomzly Interior Design Studio\n",
      "titleofjob=Director of Architecture and Design\n",
      "refernce_number=147631\n",
      "city=Λεμεσός\n",
      "date_posted=09/09/2021\n",
      "expire_date=18/09/2021\n",
      "views=275\n",
      "type_of_employment=Πλήρης\n",
      "employment_sector=Αρχιτεκτονικά Γραφεία\n",
      "publisher=Ιδιωτική Εταιρεία (LTD)\n",
      "category=Αρχιτέκτονες, Διακοσμητές Χώρων, Ρωσική γλώσσα\n"
     ]
    },
    {
     "name": "stderr",
     "output_type": "stream",
     "text": [
      "\r",
      " 97%|█████████▋| 972/1000 [3:51:45<06:37, 14.21s/it]"
     ]
    },
    {
     "name": "stdout",
     "output_type": "stream",
     "text": [
      "Barista - TSITSI'S KIOSK CAFE\n",
      "titleofjob=Barista\n",
      "refernce_number=147588\n",
      "city=Πάφος\n",
      "date_posted=09/09/2021\n",
      "expire_date=18/09/2021\n",
      "views=279\n",
      "type_of_employment=Πλήρης\n",
      "employment_sector=Μη διαθέσιμο\n",
      "publisher=Ιδιωτική Εταιρεία (LTD)\n",
      "category=Υπάλληλοι HORECA, Baristas\n"
     ]
    },
    {
     "name": "stderr",
     "output_type": "stream",
     "text": [
      "\r",
      " 97%|█████████▋| 973/1000 [3:52:00<06:26, 14.32s/it]"
     ]
    },
    {
     "name": "stdout",
     "output_type": "stream",
     "text": [
      "Καθηγήτρια / Καθηγητής Βιολογίας - Nova Scientia Private Institute\n",
      "titleofjob=Καθηγήτρια / Καθηγητής Βιολογίας\n",
      "refernce_number=147544\n",
      "city=Λεμεσός\n",
      "date_posted=09/09/2021\n",
      "expire_date=18/09/2021\n",
      "views=303\n",
      "type_of_employment=Μερική\n",
      "employment_sector=Εκπαιδευτικά Κέντρα / Φροντιστήρια\n",
      "publisher=Πανεπιστήμιο / Εκπαιδευτικό Κέντρο\n",
      "category=Καθηγητές / Ακαδημαϊκοί, Βιολόγοι\n"
     ]
    },
    {
     "name": "stderr",
     "output_type": "stream",
     "text": [
      "\r",
      " 97%|█████████▋| 974/1000 [3:52:14<06:14, 14.40s/it]"
     ]
    },
    {
     "name": "stdout",
     "output_type": "stream",
     "text": [
      "Network and Security Engineer (Cyprus) - XM\n",
      "titleofjob=Network and Security Engineer (Cyprus)\n",
      "refernce_number=147750\n",
      "city=Λεμεσός, Λευκωσία\n",
      "date_posted=09/09/2021\n",
      "expire_date=18/09/2021\n",
      "views=520\n",
      "type_of_employment=Πλήρης\n",
      "employment_sector=Forex\n",
      "publisher=Ιδιωτική Εταιρεία (LTD)\n",
      "category=Πληροφορική\n"
     ]
    },
    {
     "name": "stderr",
     "output_type": "stream",
     "text": [
      "\r",
      " 98%|█████████▊| 975/1000 [3:52:30<06:07, 14.69s/it]"
     ]
    },
    {
     "name": "stdout",
     "output_type": "stream",
     "text": [
      "Software Developer - HF Markets\n",
      "titleofjob=Software Developer\n",
      "refernce_number=147761\n",
      "city=Λάρνακα\n",
      "date_posted=09/09/2021\n",
      "expire_date=18/09/2021\n",
      "views=170\n",
      "type_of_employment=Πλήρης\n",
      "employment_sector=Forex\n",
      "publisher=Ιδιωτική Εταιρεία (LTD)\n",
      "category=Πληροφορική, Forex\n"
     ]
    },
    {
     "name": "stderr",
     "output_type": "stream",
     "text": [
      "\r",
      " 98%|█████████▊| 976/1000 [3:52:44<05:50, 14.62s/it]"
     ]
    },
    {
     "name": "stdout",
     "output_type": "stream",
     "text": [
      "Front End JavaScript Developer - HF Markets\n",
      "titleofjob=Front End JavaScript Developer\n",
      "refernce_number=147760\n",
      "city=Λάρνακα\n",
      "date_posted=09/09/2021\n",
      "expire_date=18/09/2021\n",
      "views=132\n",
      "type_of_employment=Πλήρης\n",
      "employment_sector=Forex\n",
      "publisher=Ιδιωτική Εταιρεία (LTD)\n",
      "category=Πληροφορική, Forex\n"
     ]
    },
    {
     "name": "stderr",
     "output_type": "stream",
     "text": [
      "\r",
      " 98%|█████████▊| 977/1000 [3:52:58<05:32, 14.44s/it]"
     ]
    },
    {
     "name": "stdout",
     "output_type": "stream",
     "text": [
      "Sales Assistant / Πωλήτριες/Πωλητές Καταστημάτων - Amicci Ltd\n",
      "titleofjob=Sales Assistant / Πωλήτριες/Πωλητές Καταστημάτων\n",
      "refernce_number=147613\n",
      "city=Λευκωσία\n",
      "date_posted=09/09/2021\n",
      "expire_date=18/09/2021\n",
      "views=282\n",
      "type_of_employment=Πλήρης\n",
      "employment_sector=Λιανικό Εμπόριο\n",
      "publisher=Ιδιωτική Εταιρεία (LTD)\n",
      "category=Πωλητές - Καταστήματα\n"
     ]
    },
    {
     "name": "stderr",
     "output_type": "stream",
     "text": [
      "\r",
      " 98%|█████████▊| 978/1000 [3:53:13<05:22, 14.67s/it]"
     ]
    },
    {
     "name": "stdout",
     "output_type": "stream",
     "text": [
      "Junior Back-Office & Marketing Officer - Ayomi Financial Services Ltd\n",
      "titleofjob=Junior Back-Office & Marketing Officer\n",
      "refernce_number=147646\n",
      "city=Λεμεσός\n",
      "date_posted=09/09/2021\n",
      "expire_date=18/09/2021\n",
      "views=303\n",
      "type_of_employment=Πλήρης\n",
      "employment_sector=Τράπεζες / Χρηματοπιστωτικά Ιδρύματα\n",
      "publisher=Ιδιωτική Εταιρεία (LTD)\n",
      "category=Εξυπηρέτηση Πελατών, Μάρκετινγκ / Δημόσιες Σχέσεις\n"
     ]
    },
    {
     "name": "stderr",
     "output_type": "stream",
     "text": [
      "\r",
      " 98%|█████████▊| 979/1000 [3:53:28<05:06, 14.58s/it]"
     ]
    },
    {
     "name": "stdout",
     "output_type": "stream",
     "text": [
      "Καθηγητής/τρια Μαθηματικών - Way to Success - Private Institute\n",
      "titleofjob=Καθηγητής/τρια Μαθηματικών\n",
      "refernce_number=147590\n",
      "city=Λευκωσία\n",
      "date_posted=09/09/2021\n",
      "expire_date=06/09/2021\n",
      "views=138\n",
      "type_of_employment=Πλήρη ή Μερική\n",
      "employment_sector=Εκπαιδευτικά Κέντρα / Φροντιστήρια\n",
      "publisher=Ιδιωτική Εταιρεία (LTD)\n",
      "category=Καθηγητές / Ακαδημαϊκοί, Μαθηματικοί / Στατιστικολόγοι\n"
     ]
    },
    {
     "name": "stderr",
     "output_type": "stream",
     "text": [
      "\r",
      " 98%|█████████▊| 980/1000 [3:53:42<04:46, 14.34s/it]"
     ]
    },
    {
     "name": "stdout",
     "output_type": "stream",
     "text": [
      "Sales Manager - Office and Home Solutions\n",
      "titleofjob=Sales Manager\n",
      "refernce_number=147585\n",
      "city=Λεμεσός\n",
      "date_posted=09/09/2021\n",
      "expire_date=18/09/2021\n",
      "views=220\n",
      "type_of_employment=Πλήρης\n",
      "employment_sector=Μη διαθέσιμο\n",
      "publisher=Ιδιωτική Εταιρεία (LTD)\n",
      "category=Αρχιτέκτονες, Δόμηση - Κατασκευές, Υπεύθυνοι Πωλήσεων\n"
     ]
    },
    {
     "name": "stderr",
     "output_type": "stream",
     "text": [
      "\r",
      " 98%|█████████▊| 981/1000 [3:53:56<04:31, 14.30s/it]"
     ]
    },
    {
     "name": "stdout",
     "output_type": "stream",
     "text": [
      "Βοηθός Λογιστηρίου - VENI COOK & DINE LTD\n",
      "titleofjob=Βοηθός Λογιστηρίου\n",
      "refernce_number=147569\n",
      "city=Λευκωσία\n",
      "date_posted=09/09/2021\n",
      "expire_date=18/09/2021\n",
      "views=479\n",
      "type_of_employment=Πλήρης\n",
      "employment_sector=Εισαγωγές / Εξαγωγές\n",
      "publisher=Ιδιωτική Εταιρεία (LTD)\n",
      "category=Λογιστές, Οικονομολόγοι, Χρηματοοικονομικά/Χρηματοπιστωτικά\n"
     ]
    },
    {
     "name": "stderr",
     "output_type": "stream",
     "text": [
      "\r",
      " 98%|█████████▊| 982/1000 [3:54:11<04:20, 14.47s/it]"
     ]
    },
    {
     "name": "stdout",
     "output_type": "stream",
     "text": [
      "Πωλητής/τρια (Νυχτερινή Βάρδια) - Sunfresh Bakeries Ltd\n",
      "titleofjob=Πωλητής/τρια (Νυχτερινή Βάρδια)\n",
      "refernce_number=147580\n",
      "city=Λεμεσός, Πάφος\n",
      "date_posted=09/09/2021\n",
      "expire_date=18/09/2021\n",
      "views=327\n",
      "type_of_employment=Πλήρη ή Μερική\n",
      "employment_sector=Αρτοποιεία - Ζαχαροπλαστεία\n",
      "publisher=Ιδιωτική Εταιρεία (LTD)\n",
      "category=Πωλητές - Καταστήματα\n"
     ]
    },
    {
     "name": "stderr",
     "output_type": "stream",
     "text": [
      "\r",
      " 98%|█████████▊| 983/1000 [3:54:26<04:09, 14.69s/it]"
     ]
    },
    {
     "name": "stdout",
     "output_type": "stream",
     "text": [
      "Head of Cleaning Department - TLM OPERATIONS LTD\n",
      "titleofjob=Head of Cleaning Department\n",
      "refernce_number=147581\n",
      "city=Λεμεσός\n",
      "date_posted=09/09/2021\n",
      "expire_date=18/09/2021\n",
      "views=601\n",
      "type_of_employment=Πλήρης\n",
      "employment_sector=Μη διαθέσιμο\n",
      "publisher=Ιδιωτική Εταιρεία (LTD)\n",
      "category=Υπάλληλοι HORECA, Καθαριστές / Καθαρίστριες\n"
     ]
    },
    {
     "name": "stderr",
     "output_type": "stream",
     "text": [
      "\r",
      " 98%|█████████▊| 984/1000 [3:54:41<03:55, 14.70s/it]"
     ]
    },
    {
     "name": "stdout",
     "output_type": "stream",
     "text": [
      "Seasonal Sales Assistants (Larnaca & Paphos Airports) - CTC-ARI AIRPORTS LTD\n",
      "titleofjob=Seasonal Sales Assistants (Larnaca & Paphos Airports)\n",
      "refernce_number=147577\n",
      "city=Λάρνακα, Πάφος\n",
      "date_posted=09/09/2021\n",
      "expire_date=18/09/2021\n",
      "views=532\n",
      "type_of_employment=Μερική\n",
      "employment_sector=Αεροπορικές Εταιρείες\n",
      "publisher=Ιδιωτική Εταιρεία (LTD)\n",
      "category=Εξυπηρέτηση Πελατών, Ταμίες, Πωλητές - Καταστήματα\n"
     ]
    },
    {
     "name": "stderr",
     "output_type": "stream",
     "text": [
      "\r",
      " 98%|█████████▊| 985/1000 [3:54:57<03:46, 15.10s/it]"
     ]
    },
    {
     "name": "stdout",
     "output_type": "stream",
     "text": [
      "IT Network Engineer - Acenetworks\n",
      "titleofjob=IT Network Engineer\n",
      "refernce_number=147741\n",
      "city=Λεμεσός\n",
      "date_posted=09/09/2021\n",
      "expire_date=18/09/2021\n",
      "views=461\n",
      "type_of_employment=Πλήρης\n",
      "employment_sector=Πληροφορική\n",
      "publisher=Ιδιωτική Εταιρεία (LTD)\n",
      "category=Πληροφορική\n"
     ]
    },
    {
     "name": "stderr",
     "output_type": "stream",
     "text": [
      "\r",
      " 99%|█████████▊| 986/1000 [3:55:11<03:30, 15.00s/it]"
     ]
    },
    {
     "name": "stdout",
     "output_type": "stream",
     "text": [
      "Business Growth Manager - Unlimint\n",
      "titleofjob=Business Growth Manager\n",
      "refernce_number=147712\n",
      "city=Λεμεσός\n",
      "date_posted=09/09/2021\n",
      "expire_date=18/09/2021\n",
      "views=537\n",
      "type_of_employment=Πλήρης\n",
      "employment_sector=Τράπεζες / Χρηματοπιστωτικά Ιδρύματα\n",
      "publisher=Ιδιωτική Εταιρεία (LTD)\n",
      "category=Διοίκηση επιχειρήσεων, Χρηματοοικονομικά/Χρηματοπιστωτικά\n"
     ]
    },
    {
     "name": "stderr",
     "output_type": "stream",
     "text": [
      "\r",
      " 99%|█████████▊| 987/1000 [3:55:26<03:13, 14.89s/it]"
     ]
    },
    {
     "name": "stdout",
     "output_type": "stream",
     "text": [
      "Digital Marketing Manager - Unlimint\n",
      "titleofjob=Digital Marketing Manager\n",
      "refernce_number=147714\n",
      "city=Λεμεσός\n",
      "date_posted=09/09/2021\n",
      "expire_date=18/09/2021\n",
      "views=364\n",
      "type_of_employment=Πλήρης\n",
      "employment_sector=Τράπεζες / Χρηματοπιστωτικά Ιδρύματα\n",
      "publisher=Ιδιωτική Εταιρεία (LTD)\n",
      "category=Μάρκετινγκ / Δημόσιες Σχέσεις\n"
     ]
    },
    {
     "name": "stderr",
     "output_type": "stream",
     "text": [
      "\r",
      " 99%|█████████▉| 988/1000 [3:55:39<02:52, 14.39s/it]"
     ]
    },
    {
     "name": "stdout",
     "output_type": "stream",
     "text": [
      "Customer Service Officer (German Speaking) - Unlimint\n",
      "titleofjob=Customer Service Officer (German Speaking)\n",
      "refernce_number=147711\n",
      "city=Λεμεσός\n",
      "date_posted=09/09/2021\n",
      "expire_date=18/09/2021\n",
      "views=406\n",
      "type_of_employment=Πλήρης\n",
      "employment_sector=Τράπεζες / Χρηματοπιστωτικά Ιδρύματα\n",
      "publisher=Ιδιωτική Εταιρεία (LTD)\n",
      "category=Εξυπηρέτηση Πελατών, Ξένες Γλώσσες / Μεταφραστές, Χρηματοοικονομικά/Χρηματοπιστωτικά\n"
     ]
    },
    {
     "name": "stderr",
     "output_type": "stream",
     "text": [
      "\r",
      " 99%|█████████▉| 989/1000 [3:55:54<02:38, 14.44s/it]"
     ]
    },
    {
     "name": "stdout",
     "output_type": "stream",
     "text": [
      "Hotel Receptionist - Sveltos Estates Ltd (The Ciao Stelio Deluxe Hotel)\n",
      "titleofjob=Hotel Receptionist\n",
      "refernce_number=147645\n",
      "city=Λάρνακα\n",
      "date_posted=09/09/2021\n",
      "expire_date=18/09/2021\n",
      "views=463\n",
      "type_of_employment=Πλήρης\n",
      "employment_sector=Τουρισμός - Ξενοδοχεία\n",
      "publisher=Ιδιωτική Εταιρεία (LTD)\n",
      "category=Εξυπηρέτηση Πελατών, Υπάλληλοι HORECA, Απόφοιτοι Ξενοδοχειακής Σχολής\n"
     ]
    },
    {
     "name": "stderr",
     "output_type": "stream",
     "text": [
      "\r",
      " 99%|█████████▉| 990/1000 [3:56:07<02:21, 14.16s/it]"
     ]
    },
    {
     "name": "stdout",
     "output_type": "stream",
     "text": [
      "3PL Διανομέας - Cyprus Trading Corporation Plc\n",
      "titleofjob=3PL Διανομέας\n",
      "refernce_number=147574\n",
      "city=Λευκωσία\n",
      "date_posted=09/09/2021\n",
      "expire_date=16/09/2021\n",
      "views=430\n",
      "type_of_employment=Πλήρης\n",
      "employment_sector=Μη διαθέσιμο\n",
      "publisher=Ιδιωτική Εταιρεία (LTD)\n",
      "category=Διανομείς, Οδηγοί\n"
     ]
    },
    {
     "name": "stderr",
     "output_type": "stream",
     "text": [
      "\r",
      " 99%|█████████▉| 991/1000 [3:56:21<02:07, 14.16s/it]"
     ]
    },
    {
     "name": "stdout",
     "output_type": "stream",
     "text": [
      "Junior Full Stack Software Developer - Axiom Consulting\n",
      "titleofjob=Junior Full Stack Software Developer\n",
      "refernce_number=147696\n",
      "city=Λευκωσία\n",
      "date_posted=09/09/2021\n",
      "expire_date=18/09/2021\n",
      "views=457\n",
      "type_of_employment=Πλήρης\n",
      "employment_sector=Πληροφορική\n",
      "publisher=Ιδιωτική Εταιρεία (LTD)\n",
      "category=Πληροφορική\n"
     ]
    },
    {
     "name": "stderr",
     "output_type": "stream",
     "text": [
      "\r",
      " 99%|█████████▉| 992/1000 [3:56:36<01:55, 14.39s/it]"
     ]
    },
    {
     "name": "stdout",
     "output_type": "stream",
     "text": [
      "Διανομείς - ΤΡΟΦΟΕΜΠΟΡΙΚΗ ΛΤΔ\n",
      "titleofjob=Διανομείς\n",
      "refernce_number=147694\n",
      "city=Λεμεσός\n",
      "date_posted=09/09/2021\n",
      "expire_date=18/09/2021\n",
      "views=806\n",
      "type_of_employment=Πλήρης\n",
      "employment_sector=Χοντρικό Εμπόριο\n",
      "publisher=Ιδιωτική Εταιρεία (LTD)\n",
      "category=Διανομείς\n"
     ]
    },
    {
     "name": "stderr",
     "output_type": "stream",
     "text": [
      "\r",
      " 99%|█████████▉| 993/1000 [3:56:51<01:41, 14.45s/it]"
     ]
    },
    {
     "name": "stdout",
     "output_type": "stream",
     "text": [
      "Τεχνικός Σύμβουλος (Service Advisor) - Michaels Automotive ltd\n",
      "titleofjob=Τεχνικός Σύμβουλος (Service Advisor)\n",
      "refernce_number=147616\n",
      "city=Λεμεσός\n",
      "date_posted=09/09/2021\n",
      "expire_date=18/09/2021\n",
      "views=316\n",
      "type_of_employment=Πλήρης\n",
      "employment_sector=Αυτοκινητοβιομηχανίες\n",
      "publisher=Ιδιωτική Εταιρεία (LTD)\n",
      "category=Μηχανικοί Αυτοκινήτων, Μηχανολόγοι Μηχανικοί\n"
     ]
    },
    {
     "name": "stderr",
     "output_type": "stream",
     "text": [
      "\r",
      " 99%|█████████▉| 994/1000 [3:57:04<01:24, 14.14s/it]"
     ]
    },
    {
     "name": "stdout",
     "output_type": "stream",
     "text": [
      "Πωλητές / Πωλήτριες - Flying Tiger Cyprus\n",
      "titleofjob=Πωλητές / Πωλήτριες\n",
      "refernce_number=147745\n",
      "city=Λευκωσία\n",
      "date_posted=09/09/2021\n",
      "expire_date=18/09/2021\n",
      "views=239\n",
      "type_of_employment=Πλήρη ή Μερική\n",
      "employment_sector=Μη διαθέσιμο\n",
      "publisher=Ιδιωτική Εταιρεία (LTD)\n",
      "category=Πωλητές - Καταστήματα\n"
     ]
    },
    {
     "name": "stderr",
     "output_type": "stream",
     "text": [
      "\r",
      "100%|█████████▉| 995/1000 [3:57:21<01:14, 14.91s/it]"
     ]
    },
    {
     "name": "stdout",
     "output_type": "stream",
     "text": [
      "Εκπρόσωπος Πωλήσεων (Sales Representative) - INTERSPORT ATHLETICS\n",
      "titleofjob=Εκπρόσωπος Πωλήσεων (Sales Representative)\n",
      "refernce_number=147568\n",
      "city=Λεμεσός\n",
      "date_posted=09/09/2021\n",
      "expire_date=18/09/2021\n",
      "views=145\n",
      "type_of_employment=Μερική\n",
      "employment_sector=Λιανικό Εμπόριο\n",
      "publisher=Ιδιωτική Εταιρεία (LTD)\n",
      "category=Πωλητές - Καταστήματα\n"
     ]
    },
    {
     "name": "stderr",
     "output_type": "stream",
     "text": [
      "\r",
      "100%|█████████▉| 996/1000 [3:57:35<00:58, 14.65s/it]"
     ]
    },
    {
     "name": "stdout",
     "output_type": "stream",
     "text": [
      "Ταξιθέτες/τριες (K Cineplex, Λεμεσός) - DJK Group of Companies\n",
      "titleofjob=Ταξιθέτες/τριες (K Cineplex, Λεμεσός)\n",
      "refernce_number=147617\n",
      "city=Λεμεσός\n",
      "date_posted=09/09/2021\n",
      "expire_date=18/09/2021\n",
      "views=223\n",
      "type_of_employment=Πλήρη ή Μερική\n",
      "employment_sector=Χώροι αναψυχής\n",
      "publisher=Ιδιωτική Εταιρεία (LTD)\n",
      "category=Ταξιθέτες\n"
     ]
    },
    {
     "name": "stderr",
     "output_type": "stream",
     "text": [
      "\r",
      "100%|█████████▉| 997/1000 [3:57:49<00:43, 14.40s/it]"
     ]
    },
    {
     "name": "stdout",
     "output_type": "stream",
     "text": [
      "Ταμίες (K Cineplex, Λεμεσός) - DJK Group of Companies\n",
      "titleofjob=Ταμίες (K Cineplex, Λεμεσός)\n",
      "refernce_number=147612\n",
      "city=Λεμεσός\n",
      "date_posted=09/09/2021\n",
      "expire_date=18/09/2021\n",
      "views=219\n",
      "type_of_employment=Πλήρη ή Μερική\n",
      "employment_sector=Χώροι αναψυχής\n",
      "publisher=Ιδιωτική Εταιρεία (LTD)\n",
      "category=Ταμίες\n"
     ]
    },
    {
     "name": "stderr",
     "output_type": "stream",
     "text": [
      "\r",
      "100%|█████████▉| 998/1000 [3:58:04<00:29, 14.52s/it]"
     ]
    },
    {
     "name": "stdout",
     "output_type": "stream",
     "text": [
      "Barista - Olebridge Investments ltd\n",
      "titleofjob=Barista\n",
      "refernce_number=147635\n",
      "city=Λάρνακα\n",
      "date_posted=09/09/2021\n",
      "expire_date=18/09/2021\n",
      "views=202\n",
      "type_of_employment=Πλήρης\n",
      "employment_sector=Εστιατόρια / Καφετέριες\n",
      "publisher=Ιδιωτική Εταιρεία (LTD)\n",
      "category=Τουριστικές Σπουδές, Υπάλληλοι HORECA, Baristas\n"
     ]
    },
    {
     "name": "stderr",
     "output_type": "stream",
     "text": [
      "\r",
      "100%|█████████▉| 999/1000 [3:58:18<00:14, 14.39s/it]"
     ]
    },
    {
     "name": "stdout",
     "output_type": "stream",
     "text": [
      "Sommelier - InterTaxAudit Auditors and Consultants Ltd\n",
      "titleofjob=Sommelier\n",
      "refernce_number=147575\n",
      "city=Λεμεσός, Λευκωσία\n",
      "date_posted=09/09/2021\n",
      "expire_date=18/09/2021\n",
      "views=262\n",
      "type_of_employment=Πλήρης\n",
      "employment_sector=Μη διαθέσιμο\n",
      "publisher=Ιδιωτική Εταιρεία (LTD)\n",
      "category=Υπάλληλοι HORECA\n"
     ]
    },
    {
     "name": "stderr",
     "output_type": "stream",
     "text": [
      "100%|██████████| 1000/1000 [3:58:32<00:00, 14.31s/it]\n"
     ]
    }
   ],
   "source": [
    "# extract specific data from each url\n",
    "\n",
    "for Link in tqdm(linksjobs):\n",
    "    try:\n",
    "        job_driver=opensite(Link)\n",
    "        titleofjob, refernce_number, city, date_posted, expire_date, views, type_of_employment, employment_sector, publisher, category=job_analysis(job_driver)\n",
    "        job_driver.quit()\n",
    "        sleep(random.uniform(2,3))\n",
    "    except:\n",
    "        pass\n",
    "        #Complete the dataset\n",
    "    #--------------------------\n",
    "        temp = {\n",
    "        'title_of_job': titleofjob,\n",
    "        'refernce_number': refernce_number,\n",
    "        'city':city, \n",
    "        'date_posted': date_posted,\n",
    "        'expire_date': expire_date,\n",
    "        'views': views,\n",
    "        'type_of_employment': type_of_employment,\n",
    "        'employment_sector':employment_sector, \n",
    "        'publisher': publisher,\n",
    "        'category': category\n",
    "        }\n",
    "        df = df.append(temp, ignore_index=True, )\n",
    "\n",
    "    \n",
    "    "
   ]
  },
  {
   "cell_type": "code",
   "execution_count": 181,
   "metadata": {},
   "outputs": [
    {
     "data": {
      "text/html": [
       "<div>\n",
       "<style scoped>\n",
       "    .dataframe tbody tr th:only-of-type {\n",
       "        vertical-align: middle;\n",
       "    }\n",
       "\n",
       "    .dataframe tbody tr th {\n",
       "        vertical-align: top;\n",
       "    }\n",
       "\n",
       "    .dataframe thead th {\n",
       "        text-align: right;\n",
       "    }\n",
       "</style>\n",
       "<table border=\"1\" class=\"dataframe\">\n",
       "  <thead>\n",
       "    <tr style=\"text-align: right;\">\n",
       "      <th></th>\n",
       "      <th>title_of_job</th>\n",
       "      <th>refernce_number</th>\n",
       "      <th>city</th>\n",
       "      <th>date_posted</th>\n",
       "      <th>expire_date</th>\n",
       "      <th>views</th>\n",
       "      <th>type_of_employment</th>\n",
       "      <th>employment_sector</th>\n",
       "      <th>publisher</th>\n",
       "      <th>category</th>\n",
       "    </tr>\n",
       "  </thead>\n",
       "  <tbody>\n",
       "    <tr>\n",
       "      <th>0</th>\n",
       "      <td>Γραμματέας</td>\n",
       "      <td>148792</td>\n",
       "      <td>Λευκωσία</td>\n",
       "      <td>31/08/2021</td>\n",
       "      <td>27/09/2021</td>\n",
       "      <td>469</td>\n",
       "      <td>Πλήρης</td>\n",
       "      <td>Κτηματομεσιτικά γραφεία</td>\n",
       "      <td>Ιδιωτική Εταιρεία (LTD)</td>\n",
       "      <td>Γραμματειακά, Εξυπηρέτηση Πελατών, Λογιστές</td>\n",
       "    </tr>\n",
       "    <tr>\n",
       "      <th>1</th>\n",
       "      <td>Systems Engineer - NewCytech Business Solution...</td>\n",
       "      <td>148797</td>\n",
       "      <td>Λεμεσός, Λευκωσία</td>\n",
       "      <td>31/08/2021</td>\n",
       "      <td>27/09/2021</td>\n",
       "      <td>159</td>\n",
       "      <td>Πλήρης</td>\n",
       "      <td>Πληροφορική</td>\n",
       "      <td>Δημόσια Εταιρεία (PLC)</td>\n",
       "      <td>Πληροφορική</td>\n",
       "    </tr>\n",
       "    <tr>\n",
       "      <th>2</th>\n",
       "      <td>Senior Accountant</td>\n",
       "      <td>148790</td>\n",
       "      <td>Λεμεσός</td>\n",
       "      <td>31/08/2021</td>\n",
       "      <td>27/09/2021</td>\n",
       "      <td>311</td>\n",
       "      <td>Πλήρης</td>\n",
       "      <td>Λογιστικά / Ελεγκτικά γραφεία</td>\n",
       "      <td>Ιδιωτική Εταιρεία (LTD)</td>\n",
       "      <td>Λογιστές, Οικονομολόγοι, Χρηματοοικονομικά/Χρη...</td>\n",
       "    </tr>\n",
       "    <tr>\n",
       "      <th>3</th>\n",
       "      <td>Web Developer: Nicosia, Cyprus</td>\n",
       "      <td>148788</td>\n",
       "      <td>Λευκωσία</td>\n",
       "      <td>31/08/2021</td>\n",
       "      <td>27/09/2021</td>\n",
       "      <td>191</td>\n",
       "      <td>Πλήρης</td>\n",
       "      <td>Τηλεπικοινωνία / Internet</td>\n",
       "      <td>Ιδιωτική Εταιρεία (LTD)</td>\n",
       "      <td>Πληροφορική</td>\n",
       "    </tr>\n",
       "    <tr>\n",
       "      <th>4</th>\n",
       "      <td>IT Support Engineer - NewCytech Business Solut...</td>\n",
       "      <td>148796</td>\n",
       "      <td>Λευκωσία</td>\n",
       "      <td>31/08/2021</td>\n",
       "      <td>27/09/2021</td>\n",
       "      <td>103</td>\n",
       "      <td>Πλήρης</td>\n",
       "      <td>Πληροφορική</td>\n",
       "      <td>Ιδιωτική Εταιρεία (LTD)</td>\n",
       "      <td>Πληροφορική</td>\n",
       "    </tr>\n",
       "    <tr>\n",
       "      <th>...</th>\n",
       "      <td>...</td>\n",
       "      <td>...</td>\n",
       "      <td>...</td>\n",
       "      <td>...</td>\n",
       "      <td>...</td>\n",
       "      <td>...</td>\n",
       "      <td>...</td>\n",
       "      <td>...</td>\n",
       "      <td>...</td>\n",
       "      <td>...</td>\n",
       "    </tr>\n",
       "    <tr>\n",
       "      <th>995</th>\n",
       "      <td>Εκπρόσωπος Πωλήσεων (Sales Representative)</td>\n",
       "      <td>147568</td>\n",
       "      <td>Λεμεσός</td>\n",
       "      <td>09/09/2021</td>\n",
       "      <td>18/09/2021</td>\n",
       "      <td>145</td>\n",
       "      <td>Μερική</td>\n",
       "      <td>Λιανικό Εμπόριο</td>\n",
       "      <td>Ιδιωτική Εταιρεία (LTD)</td>\n",
       "      <td>Πωλητές - Καταστήματα</td>\n",
       "    </tr>\n",
       "    <tr>\n",
       "      <th>996</th>\n",
       "      <td>Ταξιθέτες/τριες (K Cineplex, Λεμεσός)</td>\n",
       "      <td>147617</td>\n",
       "      <td>Λεμεσός</td>\n",
       "      <td>09/09/2021</td>\n",
       "      <td>18/09/2021</td>\n",
       "      <td>223</td>\n",
       "      <td>Πλήρη ή Μερική</td>\n",
       "      <td>Χώροι αναψυχής</td>\n",
       "      <td>Ιδιωτική Εταιρεία (LTD)</td>\n",
       "      <td>Ταξιθέτες</td>\n",
       "    </tr>\n",
       "    <tr>\n",
       "      <th>997</th>\n",
       "      <td>Ταμίες (K Cineplex, Λεμεσός)</td>\n",
       "      <td>147612</td>\n",
       "      <td>Λεμεσός</td>\n",
       "      <td>09/09/2021</td>\n",
       "      <td>18/09/2021</td>\n",
       "      <td>219</td>\n",
       "      <td>Πλήρη ή Μερική</td>\n",
       "      <td>Χώροι αναψυχής</td>\n",
       "      <td>Ιδιωτική Εταιρεία (LTD)</td>\n",
       "      <td>Ταμίες</td>\n",
       "    </tr>\n",
       "    <tr>\n",
       "      <th>998</th>\n",
       "      <td>Barista</td>\n",
       "      <td>147635</td>\n",
       "      <td>Λάρνακα</td>\n",
       "      <td>09/09/2021</td>\n",
       "      <td>18/09/2021</td>\n",
       "      <td>202</td>\n",
       "      <td>Πλήρης</td>\n",
       "      <td>Εστιατόρια / Καφετέριες</td>\n",
       "      <td>Ιδιωτική Εταιρεία (LTD)</td>\n",
       "      <td>Τουριστικές Σπουδές, Υπάλληλοι HORECA, Baristas</td>\n",
       "    </tr>\n",
       "    <tr>\n",
       "      <th>999</th>\n",
       "      <td>Sommelier</td>\n",
       "      <td>147575</td>\n",
       "      <td>Λεμεσός, Λευκωσία</td>\n",
       "      <td>09/09/2021</td>\n",
       "      <td>18/09/2021</td>\n",
       "      <td>262</td>\n",
       "      <td>Πλήρης</td>\n",
       "      <td>Μη διαθέσιμο</td>\n",
       "      <td>Ιδιωτική Εταιρεία (LTD)</td>\n",
       "      <td>Υπάλληλοι HORECA</td>\n",
       "    </tr>\n",
       "  </tbody>\n",
       "</table>\n",
       "<p>1000 rows × 10 columns</p>\n",
       "</div>"
      ],
      "text/plain": [
       "                                          title_of_job refernce_number  \\\n",
       "0                                           Γραμματέας          148792   \n",
       "1    Systems Engineer - NewCytech Business Solution...          148797   \n",
       "2                                    Senior Accountant          148790   \n",
       "3                       Web Developer: Nicosia, Cyprus          148788   \n",
       "4    IT Support Engineer - NewCytech Business Solut...          148796   \n",
       "..                                                 ...             ...   \n",
       "995         Εκπρόσωπος Πωλήσεων (Sales Representative)          147568   \n",
       "996              Ταξιθέτες/τριες (K Cineplex, Λεμεσός)          147617   \n",
       "997                       Ταμίες (K Cineplex, Λεμεσός)          147612   \n",
       "998                                            Barista          147635   \n",
       "999                                          Sommelier          147575   \n",
       "\n",
       "                  city date_posted expire_date views type_of_employment  \\\n",
       "0             Λευκωσία  31/08/2021  27/09/2021   469             Πλήρης   \n",
       "1    Λεμεσός, Λευκωσία  31/08/2021  27/09/2021   159             Πλήρης   \n",
       "2              Λεμεσός  31/08/2021  27/09/2021   311             Πλήρης   \n",
       "3             Λευκωσία  31/08/2021  27/09/2021   191             Πλήρης   \n",
       "4             Λευκωσία  31/08/2021  27/09/2021   103             Πλήρης   \n",
       "..                 ...         ...         ...   ...                ...   \n",
       "995            Λεμεσός  09/09/2021  18/09/2021   145             Μερική   \n",
       "996            Λεμεσός  09/09/2021  18/09/2021   223     Πλήρη ή Μερική   \n",
       "997            Λεμεσός  09/09/2021  18/09/2021   219     Πλήρη ή Μερική   \n",
       "998            Λάρνακα  09/09/2021  18/09/2021   202             Πλήρης   \n",
       "999  Λεμεσός, Λευκωσία  09/09/2021  18/09/2021   262             Πλήρης   \n",
       "\n",
       "                 employment_sector                publisher  \\\n",
       "0          Κτηματομεσιτικά γραφεία  Ιδιωτική Εταιρεία (LTD)   \n",
       "1                      Πληροφορική   Δημόσια Εταιρεία (PLC)   \n",
       "2    Λογιστικά / Ελεγκτικά γραφεία  Ιδιωτική Εταιρεία (LTD)   \n",
       "3        Τηλεπικοινωνία / Internet  Ιδιωτική Εταιρεία (LTD)   \n",
       "4                      Πληροφορική  Ιδιωτική Εταιρεία (LTD)   \n",
       "..                             ...                      ...   \n",
       "995                Λιανικό Εμπόριο  Ιδιωτική Εταιρεία (LTD)   \n",
       "996                 Χώροι αναψυχής  Ιδιωτική Εταιρεία (LTD)   \n",
       "997                 Χώροι αναψυχής  Ιδιωτική Εταιρεία (LTD)   \n",
       "998        Εστιατόρια / Καφετέριες  Ιδιωτική Εταιρεία (LTD)   \n",
       "999                   Μη διαθέσιμο  Ιδιωτική Εταιρεία (LTD)   \n",
       "\n",
       "                                              category  \n",
       "0          Γραμματειακά, Εξυπηρέτηση Πελατών, Λογιστές  \n",
       "1                                          Πληροφορική  \n",
       "2    Λογιστές, Οικονομολόγοι, Χρηματοοικονομικά/Χρη...  \n",
       "3                                          Πληροφορική  \n",
       "4                                          Πληροφορική  \n",
       "..                                                 ...  \n",
       "995                              Πωλητές - Καταστήματα  \n",
       "996                                          Ταξιθέτες  \n",
       "997                                             Ταμίες  \n",
       "998    Τουριστικές Σπουδές, Υπάλληλοι HORECA, Baristas  \n",
       "999                                   Υπάλληλοι HORECA  \n",
       "\n",
       "[1000 rows x 10 columns]"
      ]
     },
     "execution_count": 181,
     "metadata": {},
     "output_type": "execute_result"
    }
   ],
   "source": [
    "df"
   ]
  },
  {
   "cell_type": "code",
   "execution_count": 182,
   "metadata": {},
   "outputs": [],
   "source": [
    "compression_opts = dict(method='zip',\n",
    "                        archive_name='jobs.csv')  \n",
    "df.to_csv(r'..\\Data\\jobs.zip', index=False,\n",
    "          compression=compression_opts)"
   ]
  },
  {
   "cell_type": "code",
   "execution_count": null,
   "metadata": {},
   "outputs": [],
   "source": []
  },
  {
   "cell_type": "code",
   "execution_count": null,
   "metadata": {},
   "outputs": [],
   "source": []
  },
  {
   "cell_type": "code",
   "execution_count": null,
   "metadata": {},
   "outputs": [],
   "source": []
  },
  {
   "cell_type": "code",
   "execution_count": null,
   "metadata": {},
   "outputs": [],
   "source": []
  },
  {
   "cell_type": "code",
   "execution_count": 214,
   "metadata": {},
   "outputs": [],
   "source": []
  },
  {
   "cell_type": "markdown",
   "metadata": {},
   "source": [
    "## Main"
   ]
  },
  {
   "cell_type": "code",
   "execution_count": 6,
   "metadata": {},
   "outputs": [
    {
     "name": "stdout",
     "output_type": "stream",
     "text": [
      "Ergodotisi.com - Θέσεις εργασίας στην Κύπρο\n",
      "Ad Found\n",
      "\n",
      "Total Ads: 7\n",
      "tries 1\n",
      "tries 2\n",
      "tries 3\n",
      "tries 4\n"
     ]
    },
    {
     "name": "stderr",
     "output_type": "stream",
     "text": [
      "\r",
      "  0%|          | 0/1000 [00:00<?, ?it/s]"
     ]
    },
    {
     "name": "stdout",
     "output_type": "stream",
     "text": [
      "tries 5\n",
      "1000\n"
     ]
    },
    {
     "name": "stderr",
     "output_type": "stream",
     "text": [
      "100%|██████████| 1000/1000 [00:12<00:00, 81.55it/s]\n"
     ]
    }
   ],
   "source": [
    "#OPEN THE SITE\n",
    "\n",
    "url = \"https://www.ergodotisi.com/\"\n",
    "driver=opensite(url)\n",
    "#--------------------------------------------------------------------\n",
    "\n",
    "# click Αναζητηση Εργασιας\n",
    "\n",
    "sleep(random.uniform(0, 1))\n",
    "SearchButton= WebDriverWait(driver,3).until(EC.element_to_be_clickable((By.CSS_SELECTOR,\"input[name='ctl00$ContentplaceholderMenu$ASPxButton1']\")))\n",
    "SearchButton.click()\n",
    "#--------------------------------------------------------------------\n",
    "\n",
    "# put all job in the page\n",
    "\n",
    "sleep(random.uniform(2, 3))\n",
    "start = time.time()\n",
    "\n",
    "All_Jobs_to_me(driver)\n",
    "#--------------------------------------------------------------------\n",
    "\n",
    "#sometimes appear the first message with  οχι !!\n",
    "\n",
    "for check in range(3):\n",
    "    try:\n",
    "        driverjob.find_element_by_xpath(\"//*[contains(text(), 'Οχι')]\").click()\n",
    "        break\n",
    "    except:\n",
    "        continue\n",
    "        sleep(random.uniform(0,0.5))\n",
    "#--------------------------------------------------------------------\n",
    "\n",
    "\n",
    "#How many jobs have the site\n",
    "tableJobs=driver.find_element_by_id(\"ctl00_ContentplaceholderSubMenu_ASPxCallbackPanel1_ASPxDataView2_ICell\")\n",
    "ListOfJobs=tableJobs.find_elements_by_tag_name(\"tr\")\n",
    "print(len(ListOfJobs))\n",
    "\n",
    "# Get the links of jobs\n",
    "linksjobs=[]\n",
    "for job in tqdm(ListOfJobs):\n",
    "    linksjobs.append(job.find_element_by_tag_name(\"a\").get_attribute('href'))"
   ]
  },
  {
   "cell_type": "code",
   "execution_count": null,
   "metadata": {},
   "outputs": [],
   "source": [
    "# extract specific data from each url\n",
    "\n",
    "for Link in tqdm(linksjobs):\n",
    "    try:\n",
    "        job_driver=opensite(Link)\n",
    "        titleofjob, refernce_number, city, expire_date, views=job_analysis(job_driver)\n",
    "        job_driver.quit()\n",
    "        sleep(random.uniform(2,3))\n",
    "    except:\n",
    "        pass\n",
    "    "
   ]
  },
  {
   "cell_type": "code",
   "execution_count": null,
   "metadata": {},
   "outputs": [],
   "source": []
  },
  {
   "cell_type": "code",
   "execution_count": null,
   "metadata": {},
   "outputs": [],
   "source": []
  },
  {
   "cell_type": "code",
   "execution_count": null,
   "metadata": {},
   "outputs": [],
   "source": []
  },
  {
   "cell_type": "code",
   "execution_count": null,
   "metadata": {},
   "outputs": [],
   "source": []
  },
  {
   "cell_type": "code",
   "execution_count": 8,
   "metadata": {},
   "outputs": [
    {
     "data": {
      "text/plain": [
       "['https://www.ergodotisi.com/JobDetails/148792/MESITIS-REAL-ESTATE-AGENTS-LTD',\n",
       " 'https://www.ergodotisi.com/JobDetails/148797/Logicom-Public-Ltd',\n",
       " 'https://www.ergodotisi.com/JobDetails/148790/MSEA-MANAGEMENT-LIMITED',\n",
       " 'https://www.ergodotisi.com/JobDetails/148788/3CX',\n",
       " 'https://www.ergodotisi.com/JobDetails/148796/Logicom-Public-Ltd',\n",
       " 'https://www.ergodotisi.com/JobDetails/148778/D.ELLINAS-HOLDING-LTD',\n",
       " 'https://www.ergodotisi.com/JobDetails/148784/3CX',\n",
       " 'https://www.ergodotisi.com/JobDetails/148795/Logicom-Public-Ltd',\n",
       " 'https://www.ergodotisi.com/JobDetails/148782/3CX',\n",
       " 'https://www.ergodotisi.com/JobDetails/148764/DOMETICA-LTD',\n",
       " 'https://www.ergodotisi.com/JobDetails/148783/3CX',\n",
       " 'https://www.ergodotisi.com/JobDetails/148789/To-Tavernaki',\n",
       " 'https://www.ergodotisi.com/JobDetails/148769/3CX',\n",
       " 'https://www.ergodotisi.com/JobDetails/148773/3CX',\n",
       " 'https://www.ergodotisi.com/JobDetails/148768/Brainrocket',\n",
       " 'https://www.ergodotisi.com/JobDetails/148791/Cypronetwork-Consultancy-Group',\n",
       " 'https://www.ergodotisi.com/JobDetails/148767/ITC-PUBLICWORLD-LTD',\n",
       " 'https://www.ergodotisi.com/JobDetails/148787/A.Tembriotis-AND-Co-Ltd',\n",
       " 'https://www.ergodotisi.com/JobDetails/148786/The-Luck-Factory',\n",
       " 'https://www.ergodotisi.com/JobDetails/148766/Photos-Photiades-Distributors-Ltd',\n",
       " 'https://www.ergodotisi.com/JobDetails/148762/D.ELLINAS-HOLDING-LTD',\n",
       " 'https://www.ergodotisi.com/JobDetails/148785/TSYS,-A-Global-Payments-company',\n",
       " 'https://www.ergodotisi.com/JobDetails/148765/ERMES-GROUP',\n",
       " 'https://www.ergodotisi.com/JobDetails/148781/Iakovos-Photiades-Foodstuff-Suppliers-Ltd',\n",
       " 'https://www.ergodotisi.com/JobDetails/148777/P.T.-HADJIGEORGIOU-CO-LTD',\n",
       " 'https://www.ergodotisi.com/JobDetails/148742/Stademos-Hotels-Ltd',\n",
       " 'https://www.ergodotisi.com/JobDetails/148775/ITC-PUBLICWORLD-LTD',\n",
       " 'https://www.ergodotisi.com/JobDetails/148760/Lekkeran-Car-Hire-LTD',\n",
       " 'https://www.ergodotisi.com/JobDetails/148776/FINCAP-Advisers-Ltd',\n",
       " 'https://www.ergodotisi.com/JobDetails/148758/RnR-Marketing-Ltd',\n",
       " 'https://www.ergodotisi.com/JobDetails/148388/MARINOS-KINEYIROU-ESTATE-AGENCIES-LTD',\n",
       " 'https://www.ergodotisi.com/JobDetails/148771/ITC-PUBLICWORLD-LTD',\n",
       " 'https://www.ergodotisi.com/JobDetails/148770/OJO-SUNGLASSES',\n",
       " 'https://www.ergodotisi.com/JobDetails/148780/JUMBO-TRADING-LTD',\n",
       " 'https://www.ergodotisi.com/JobDetails/148779/Capital-Coast-Resort-AND--Spa',\n",
       " 'https://www.ergodotisi.com/JobDetails/148750/D.ELLINAS-HOLDING-LTD',\n",
       " 'https://www.ergodotisi.com/JobDetails/148729/CareerFinders-Recruitment-Services-Ltd',\n",
       " 'https://www.ergodotisi.com/JobDetails/148740/Stademos-Hotels-Ltd',\n",
       " 'https://www.ergodotisi.com/JobDetails/148728/Uniteam-Recruitment-Services',\n",
       " 'https://www.ergodotisi.com/JobDetails/148726/JANFOOD-TRADING-LIMITED',\n",
       " 'https://www.ergodotisi.com/JobDetails/148708/Christos-M.-Triantafyllides-Law-Firm',\n",
       " 'https://www.ergodotisi.com/JobDetails/148725/CareerFinders-Recruitment-Services-Ltd',\n",
       " 'https://www.ergodotisi.com/JobDetails/148689/%CE%A6%CF%85%CF%83%CE%B9%CE%BA%CF%8C-%CE%A0%CF%81%CF%8C%CF%83%CF%89%CF%80%CE%BF-%CE%91%CE%94',\n",
       " 'https://www.ergodotisi.com/JobDetails/148739/T.he-Italian-Taste-Co-Ltd',\n",
       " 'https://www.ergodotisi.com/JobDetails/148722/CareerFinders-Recruitment-Services-Ltd',\n",
       " 'https://www.ergodotisi.com/JobDetails/148541/INFOCREDIT-SPV',\n",
       " 'https://www.ergodotisi.com/JobDetails/148721/VOICI-LA-MODE-GROUP',\n",
       " 'https://www.ergodotisi.com/JobDetails/148738/Stademos-Hotels-Ltd',\n",
       " 'https://www.ergodotisi.com/JobDetails/148718/UPCOMINDS',\n",
       " 'https://www.ergodotisi.com/JobDetails/148554/EASY-BETUP-LTD',\n",
       " 'https://www.ergodotisi.com/JobDetails/148717/CORPFLOW-LTD',\n",
       " 'https://www.ergodotisi.com/JobDetails/148716/ECLAT-ENTERPRISES-LTD',\n",
       " 'https://www.ergodotisi.com/JobDetails/148302/Meritkapital-Limited',\n",
       " 'https://www.ergodotisi.com/JobDetails/148754/Primewell-Management-Ltd',\n",
       " 'https://www.ergodotisi.com/JobDetails/148735/Stademos-Hotels-Ltd',\n",
       " 'https://www.ergodotisi.com/JobDetails/148759/CareerFinders-Recruitment-Services-Ltd',\n",
       " 'https://www.ergodotisi.com/JobDetails/148734/Stademos-Hotels-Ltd',\n",
       " 'https://www.ergodotisi.com/JobDetails/148747/PHC-Franchised-Restaurants-Public-Ltd',\n",
       " 'https://www.ergodotisi.com/JobDetails/148714/VOICI-LA-MODE-GROUP',\n",
       " 'https://www.ergodotisi.com/JobDetails/148741/Brand-Trader-Cy-Ltd',\n",
       " 'https://www.ergodotisi.com/JobDetails/148730/T.he-Italian-Taste-Co-Ltd',\n",
       " 'https://www.ergodotisi.com/JobDetails/148442/S.Z.ELIADES-LTD',\n",
       " 'https://www.ergodotisi.com/JobDetails/148712/Cyprus-Trading-Corporation-Plc',\n",
       " 'https://www.ergodotisi.com/JobDetails/148757/%CE%9A%CF%85%CE%B2%CE%B5%CF%81%CE%BD%CE%B7%CF%84%CE%B9%CE%BA%CE%AD%CF%82-%CE%98%CE%AD%CF%83%CE%B5%CE%B9%CF%82-%CE%B5%CF%81%CE%B3%CE%B1%CF%83%CE%AF%CE%B1%CF%82',\n",
       " 'https://www.ergodotisi.com/JobDetails/148755/%CE%9A%CF%85%CE%B2%CE%B5%CF%81%CE%BD%CE%B7%CF%84%CE%B9%CE%BA%CE%AD%CF%82-%CE%98%CE%AD%CF%83%CE%B5%CE%B9%CF%82-%CE%B5%CF%81%CE%B3%CE%B1%CF%83%CE%AF%CE%B1%CF%82',\n",
       " 'https://www.ergodotisi.com/JobDetails/148711/Parga-Bookcenter',\n",
       " 'https://www.ergodotisi.com/JobDetails/148710/VOICI-LA-MODE-GROUP',\n",
       " 'https://www.ergodotisi.com/JobDetails/148756/%CE%9A%CF%85%CE%B2%CE%B5%CF%81%CE%BD%CE%B7%CF%84%CE%B9%CE%BA%CE%AD%CF%82-%CE%98%CE%AD%CF%83%CE%B5%CE%B9%CF%82-%CE%B5%CF%81%CE%B3%CE%B1%CF%83%CE%AF%CE%B1%CF%82',\n",
       " 'https://www.ergodotisi.com/JobDetails/148752/%CE%9A%CF%85%CE%B2%CE%B5%CF%81%CE%BD%CE%B7%CF%84%CE%B9%CE%BA%CE%AD%CF%82-%CE%98%CE%AD%CF%83%CE%B5%CE%B9%CF%82-%CE%B5%CF%81%CE%B3%CE%B1%CF%83%CE%AF%CE%B1%CF%82',\n",
       " 'https://www.ergodotisi.com/JobDetails/148753/%CE%9A%CF%85%CE%B2%CE%B5%CF%81%CE%BD%CE%B7%CF%84%CE%B9%CE%BA%CE%AD%CF%82-%CE%98%CE%AD%CF%83%CE%B5%CE%B9%CF%82-%CE%B5%CF%81%CE%B3%CE%B1%CF%83%CE%AF%CE%B1%CF%82',\n",
       " 'https://www.ergodotisi.com/JobDetails/148614/Center-for-Blissful-Children',\n",
       " 'https://www.ergodotisi.com/JobDetails/148749/%CE%9A%CF%85%CE%B2%CE%B5%CF%81%CE%BD%CE%B7%CF%84%CE%B9%CE%BA%CE%AD%CF%82-%CE%98%CE%AD%CF%83%CE%B5%CE%B9%CF%82-%CE%B5%CF%81%CE%B3%CE%B1%CF%83%CE%AF%CE%B1%CF%82',\n",
       " 'https://www.ergodotisi.com/JobDetails/148748/%CE%9A%CF%85%CE%B2%CE%B5%CF%81%CE%BD%CE%B7%CF%84%CE%B9%CE%BA%CE%AD%CF%82-%CE%98%CE%AD%CF%83%CE%B5%CE%B9%CF%82-%CE%B5%CF%81%CE%B3%CE%B1%CF%83%CE%AF%CE%B1%CF%82',\n",
       " 'https://www.ergodotisi.com/JobDetails/148744/%CE%9A%CF%85%CE%B2%CE%B5%CF%81%CE%BD%CE%B7%CF%84%CE%B9%CE%BA%CE%AD%CF%82-%CE%98%CE%AD%CF%83%CE%B5%CE%B9%CF%82-%CE%B5%CF%81%CE%B3%CE%B1%CF%83%CE%AF%CE%B1%CF%82',\n",
       " 'https://www.ergodotisi.com/JobDetails/148746/%CE%9A%CF%85%CE%B2%CE%B5%CF%81%CE%BD%CE%B7%CF%84%CE%B9%CE%BA%CE%AD%CF%82-%CE%B8%CE%AD%CF%83%CE%B5%CE%B9%CF%82-%CE%95%CE%BB%CE%BB%CE%AC%CE%B4%CE%B1',\n",
       " 'https://www.ergodotisi.com/JobDetails/148588/Cyprus-Trading-Corporation-Plc',\n",
       " 'https://www.ergodotisi.com/JobDetails/148745/%CE%99%CE%B1%CF%84%CF%81%CE%B5%CE%AF%CE%BF-%CE%9C.%CE%99.%CE%91',\n",
       " 'https://www.ergodotisi.com/JobDetails/148743/%CE%9A%CF%85%CE%B2%CE%B5%CF%81%CE%BD%CE%B7%CF%84%CE%B9%CE%BA%CE%AD%CF%82-%CE%98%CE%AD%CF%83%CE%B5%CE%B9%CF%82-%CE%B5%CF%81%CE%B3%CE%B1%CF%83%CE%AF%CE%B1%CF%82',\n",
       " 'https://www.ergodotisi.com/JobDetails/148617/ICAP-People-Solutions',\n",
       " 'https://www.ergodotisi.com/JobDetails/148732/%CE%9A%CF%85%CE%B2%CE%B5%CF%81%CE%BD%CE%B7%CF%84%CE%B9%CE%BA%CE%AD%CF%82-%CE%98%CE%AD%CF%83%CE%B5%CE%B9%CF%82-%CE%B5%CF%81%CE%B3%CE%B1%CF%83%CE%AF%CE%B1%CF%82',\n",
       " 'https://www.ergodotisi.com/JobDetails/148733/%CE%9A%CF%85%CE%B2%CE%B5%CF%81%CE%BD%CE%B7%CF%84%CE%B9%CE%BA%CE%AD%CF%82-%CE%98%CE%AD%CF%83%CE%B5%CE%B9%CF%82-%CE%B5%CF%81%CE%B3%CE%B1%CF%83%CE%AF%CE%B1%CF%82',\n",
       " 'https://www.ergodotisi.com/JobDetails/148613/ICAP-People-Solutions',\n",
       " 'https://www.ergodotisi.com/JobDetails/148727/%CE%9A%CF%85%CE%B2%CE%B5%CF%81%CE%BD%CE%B7%CF%84%CE%B9%CE%BA%CE%AD%CF%82-%CE%98%CE%AD%CF%83%CE%B5%CE%B9%CF%82-%CE%B5%CF%81%CE%B3%CE%B1%CF%83%CE%AF%CE%B1%CF%82',\n",
       " 'https://www.ergodotisi.com/JobDetails/148602/AdvancedAudit-AND-Tax-Consulting-(P.P.)-Ltd',\n",
       " 'https://www.ergodotisi.com/JobDetails/148715/%CE%9A%CF%85%CE%B2%CE%B5%CF%81%CE%BD%CE%B7%CF%84%CE%B9%CE%BA%CE%AD%CF%82-%CE%98%CE%AD%CF%83%CE%B5%CE%B9%CF%82-%CE%B5%CF%81%CE%B3%CE%B1%CF%83%CE%AF%CE%B1%CF%82',\n",
       " 'https://www.ergodotisi.com/JobDetails/148723/%CE%9A%CF%85%CE%B2%CE%B5%CF%81%CE%BD%CE%B7%CF%84%CE%B9%CE%BA%CE%AD%CF%82-%CE%98%CE%AD%CF%83%CE%B5%CE%B9%CF%82-%CE%B5%CF%81%CE%B3%CE%B1%CF%83%CE%AF%CE%B1%CF%82',\n",
       " 'https://www.ergodotisi.com/JobDetails/148720/%CE%9A%CF%85%CE%B2%CE%B5%CF%81%CE%BD%CE%B7%CF%84%CE%B9%CE%BA%CE%AD%CF%82-%CE%98%CE%AD%CF%83%CE%B5%CE%B9%CF%82-%CE%B5%CF%81%CE%B3%CE%B1%CF%83%CE%AF%CE%B1%CF%82',\n",
       " 'https://www.ergodotisi.com/JobDetails/148713/%CE%9A%CF%85%CE%B2%CE%B5%CF%81%CE%BD%CE%B7%CF%84%CE%B9%CE%BA%CE%AD%CF%82-%CE%98%CE%AD%CF%83%CE%B5%CE%B9%CF%82-%CE%B5%CF%81%CE%B3%CE%B1%CF%83%CE%AF%CE%B1%CF%82',\n",
       " 'https://www.ergodotisi.com/JobDetails/148253/GEORGE-COUCOUNIS-LLC',\n",
       " 'https://www.ergodotisi.com/JobDetails/148252/GEORGE-COUCOUNIS-LLC',\n",
       " 'https://www.ergodotisi.com/JobDetails/148587/AZIA-RESORT-AND-SPA',\n",
       " 'https://www.ergodotisi.com/JobDetails/148706/Wintrado-Technologies-AG',\n",
       " 'https://www.ergodotisi.com/JobDetails/148701/Factory-39',\n",
       " 'https://www.ergodotisi.com/JobDetails/148705/COSTAS-supermarket',\n",
       " 'https://www.ergodotisi.com/JobDetails/148700/ANDREAS-I.KANNAS-AND-SONS-LTD',\n",
       " 'https://www.ergodotisi.com/JobDetails/148704/Manpower-Cyprus',\n",
       " 'https://www.ergodotisi.com/JobDetails/148699/CELESTINO-LIMASSOL',\n",
       " 'https://www.ergodotisi.com/JobDetails/148703/P.CONSTANTINOU-AND-CO-LTD',\n",
       " 'https://www.ergodotisi.com/JobDetails/148696/THE-OFFICE',\n",
       " 'https://www.ergodotisi.com/JobDetails/148702/Deloitte',\n",
       " 'https://www.ergodotisi.com/JobDetails/148618/ICAP-People-Solutions',\n",
       " 'https://www.ergodotisi.com/JobDetails/148593/Delivery-Hero-(Cyprus)-LTD',\n",
       " 'https://www.ergodotisi.com/JobDetails/148698/Coca--Cola-HBC-Cyprus',\n",
       " 'https://www.ergodotisi.com/JobDetails/148585/AZIA-RESORT-AND-SPA',\n",
       " 'https://www.ergodotisi.com/JobDetails/148697/Coca--Cola-HBC-Cyprus',\n",
       " 'https://www.ergodotisi.com/JobDetails/148694/Wintrado-Technologies-AG',\n",
       " 'https://www.ergodotisi.com/JobDetails/148692/Wintrado-Technologies-AG',\n",
       " 'https://www.ergodotisi.com/JobDetails/148695/Coca--Cola-HBC-Cyprus',\n",
       " 'https://www.ergodotisi.com/JobDetails/148690/Clinical-Laboratories',\n",
       " 'https://www.ergodotisi.com/JobDetails/148693/Vavlitis-Group',\n",
       " 'https://www.ergodotisi.com/JobDetails/148570/TalosCo-Business-Solutions-Ltd',\n",
       " 'https://www.ergodotisi.com/JobDetails/148688/Chrysanthou-Shoes',\n",
       " 'https://www.ergodotisi.com/JobDetails/148683/FREEGREE-LTD',\n",
       " 'https://www.ergodotisi.com/JobDetails/148687/Human-Asset-Ltd',\n",
       " 'https://www.ergodotisi.com/JobDetails/148691/Vavlitis-Group',\n",
       " 'https://www.ergodotisi.com/JobDetails/148682/A.J-VOUROS-GROUP',\n",
       " 'https://www.ergodotisi.com/JobDetails/148686/FREEGREE-LTD',\n",
       " 'https://www.ergodotisi.com/JobDetails/148685/Uniteam-Recruitment-Services',\n",
       " 'https://www.ergodotisi.com/JobDetails/148684/Human-Asset-Ltd',\n",
       " 'https://www.ergodotisi.com/JobDetails/148680/Kpax-Marketing-Online-Ltd',\n",
       " 'https://www.ergodotisi.com/JobDetails/148670/PANDP-Advisory-Services-Limited',\n",
       " 'https://www.ergodotisi.com/JobDetails/148679/FREEGREE-LTD',\n",
       " 'https://www.ergodotisi.com/JobDetails/148678/ASBISc-ENTERPRISES-PLC',\n",
       " 'https://www.ergodotisi.com/JobDetails/148668/One-Net-Ltd',\n",
       " 'https://www.ergodotisi.com/JobDetails/148675/C.A.-PAPAELLINAS-LTD',\n",
       " 'https://www.ergodotisi.com/JobDetails/148681/NOVEL-SUGGESTIONS-(AGENCIES)-LTD',\n",
       " 'https://www.ergodotisi.com/JobDetails/148677/CareerFinders-Recruitment-Services-Ltd',\n",
       " 'https://www.ergodotisi.com/JobDetails/148666/CH.-AVGOUSTI-AND-PARTNERS-LLC',\n",
       " 'https://www.ergodotisi.com/JobDetails/148651/Pandora-Bakeries',\n",
       " 'https://www.ergodotisi.com/JobDetails/148665/MICHAEL-GARAGE-LTD',\n",
       " 'https://www.ergodotisi.com/JobDetails/148673/Margarita-Bakeries',\n",
       " 'https://www.ergodotisi.com/JobDetails/148662/Pandora-Bakeries',\n",
       " 'https://www.ergodotisi.com/JobDetails/148661/%CE%A6%CE%AC%CE%BD%CE%BF%CF%82-%CE%9D.-%CE%95%CF%80%CE%B9%CF%86%CE%B1%CE%BD%CE%AF%CE%BF%CF%85-%CE%94.%CE%95.-%CE%9B%CF%84%CE%B4',\n",
       " 'https://www.ergodotisi.com/JobDetails/148671/CH.-AVGOUSTI-AND-PARTNERS-LLC',\n",
       " 'https://www.ergodotisi.com/JobDetails/148657/The-Junior-AND-Senior-School',\n",
       " 'https://www.ergodotisi.com/JobDetails/148676/Kotsovolos---Dixons-South-East-Europe-SA',\n",
       " 'https://www.ergodotisi.com/JobDetails/148656/ORCHIDEA-JEWELLERY',\n",
       " 'https://www.ergodotisi.com/JobDetails/148658/Pandora-Bakeries',\n",
       " 'https://www.ergodotisi.com/JobDetails/148674/Kotsovolos---Dixons-South-East-Europe-SA',\n",
       " 'https://www.ergodotisi.com/JobDetails/148622/A.S.-Pilavakis-Ltd',\n",
       " 'https://www.ergodotisi.com/JobDetails/148672/Kotsovolos---Dixons-South-East-Europe-SA',\n",
       " 'https://www.ergodotisi.com/JobDetails/148621/%CE%9A%CE%9F%CE%9C%CE%9C%CE%A9%CE%A4%CE%97%CE%A1%CE%99%CE%9F-%CE%9D%CE%A4%CE%99%CE%9D%CE%91%CE%A3',\n",
       " 'https://www.ergodotisi.com/JobDetails/148669/Kotsovolos---Dixons-South-East-Europe-SA',\n",
       " 'https://www.ergodotisi.com/JobDetails/148620/SAMASTERMINDS-PRIVATE-INSTITUTE',\n",
       " 'https://www.ergodotisi.com/JobDetails/148653/Synectics-Ltd',\n",
       " 'https://www.ergodotisi.com/JobDetails/148667/Kotsovolos---Dixons-South-East-Europe-SA',\n",
       " 'https://www.ergodotisi.com/JobDetails/148647/%CE%A0%CE%95%CE%9B%CE%95%CE%A4%CE%99%CE%9A%CE%9F-%CE%9B%CE%A4%CE%94',\n",
       " 'https://www.ergodotisi.com/JobDetails/148664/Kotsovolos---Dixons-South-East-Europe-SA',\n",
       " 'https://www.ergodotisi.com/JobDetails/148619/PARASKEVAS-FOOD-SUPPLIERS',\n",
       " 'https://www.ergodotisi.com/JobDetails/148632/%CE%A0%CE%95%CE%9B%CE%95%CE%A4%CE%99%CE%9A%CE%9F-%CE%9B%CE%A4%CE%94',\n",
       " 'https://www.ergodotisi.com/JobDetails/148663/Kotsovolos---Dixons-South-East-Europe-SA',\n",
       " 'https://www.ergodotisi.com/JobDetails/148659/Kotsovolos---Dixons-South-East-Europe-SA',\n",
       " 'https://www.ergodotisi.com/JobDetails/148610/Oneworld-Ltd',\n",
       " 'https://www.ergodotisi.com/JobDetails/148609/CareerFinders-Recruitment-Services-Ltd',\n",
       " 'https://www.ergodotisi.com/JobDetails/148608/Playtech-BGT-Sports-Ltd',\n",
       " 'https://www.ergodotisi.com/JobDetails/148616/GT-Group',\n",
       " 'https://www.ergodotisi.com/JobDetails/148648/Pandora-Bakeries',\n",
       " 'https://www.ergodotisi.com/JobDetails/148615/Iakovos-Photiades-Foodstuff-Suppliers-Ltd',\n",
       " 'https://www.ergodotisi.com/JobDetails/148624/Globetech-Laboratories-Ltd',\n",
       " 'https://www.ergodotisi.com/JobDetails/148607/sugarfree-cyprus',\n",
       " 'https://www.ergodotisi.com/JobDetails/148655/Kotsovolos---Dixons-South-East-Europe-SA',\n",
       " 'https://www.ergodotisi.com/JobDetails/148652/Kotsovolos---Dixons-South-East-Europe-SA',\n",
       " 'https://www.ergodotisi.com/JobDetails/148606/Jamie%E2%80%99s-Italian',\n",
       " 'https://www.ergodotisi.com/JobDetails/148612/Cablenet-Communication-Systems-PLC',\n",
       " 'https://www.ergodotisi.com/JobDetails/148650/Kotsovolos---Dixons-South-East-Europe-SA',\n",
       " 'https://www.ergodotisi.com/JobDetails/148649/Kotsovolos---Dixons-South-East-Europe-SA',\n",
       " 'https://www.ergodotisi.com/JobDetails/148645/Kotsovolos---Dixons-South-East-Europe-SA',\n",
       " 'https://www.ergodotisi.com/JobDetails/148611/PLAYTECH-SERVICES-(CYPRUS)-LTD',\n",
       " 'https://www.ergodotisi.com/JobDetails/148643/Kotsovolos---Dixons-South-East-Europe-SA',\n",
       " 'https://www.ergodotisi.com/JobDetails/148604/Symeonides-Coffee-Cyprus-LTD',\n",
       " 'https://www.ergodotisi.com/JobDetails/148641/Kotsovolos---Dixons-South-East-Europe-SA',\n",
       " 'https://www.ergodotisi.com/JobDetails/148603/MGR-Human-Resources-Ltd',\n",
       " 'https://www.ergodotisi.com/JobDetails/148638/Kotsovolos---Dixons-South-East-Europe-SA',\n",
       " 'https://www.ergodotisi.com/JobDetails/148637/Kotsovolos---Dixons-South-East-Europe-SA',\n",
       " 'https://www.ergodotisi.com/JobDetails/148600/Symeonides-Coffee-Cyprus-LTD',\n",
       " 'https://www.ergodotisi.com/JobDetails/148635/Kotsovolos---Dixons-South-East-Europe-SA',\n",
       " 'https://www.ergodotisi.com/JobDetails/148633/Kotsovolos---Dixons-South-East-Europe-SA',\n",
       " 'https://www.ergodotisi.com/JobDetails/148631/Kotsovolos---Dixons-South-East-Europe-SA',\n",
       " 'https://www.ergodotisi.com/JobDetails/148601/S.-CHRISTOFIDES-ELECTRICAL',\n",
       " 'https://www.ergodotisi.com/JobDetails/148629/Kotsovolos---Dixons-South-East-Europe-SA',\n",
       " 'https://www.ergodotisi.com/JobDetails/148628/Kotsovolos---Dixons-South-East-Europe-SA',\n",
       " 'https://www.ergodotisi.com/JobDetails/148599/S.-CHRISTOFIDES-ELECTRICAL',\n",
       " 'https://www.ergodotisi.com/JobDetails/148626/Kotsovolos---Dixons-South-East-Europe-SA',\n",
       " 'https://www.ergodotisi.com/JobDetails/148579/SAT7',\n",
       " 'https://www.ergodotisi.com/JobDetails/148598/Symeonides-Coffee-Cyprus-LTD',\n",
       " 'https://www.ergodotisi.com/JobDetails/148596/Symeonides-Coffee-Cyprus-LTD',\n",
       " 'https://www.ergodotisi.com/JobDetails/148597/CareerFinders-Recruitment-Services-Ltd',\n",
       " 'https://www.ergodotisi.com/JobDetails/148595/Mediterranean-Hospital-of-Cyprus',\n",
       " 'https://www.ergodotisi.com/JobDetails/148594/Tech4S-Group-Ltd',\n",
       " 'https://www.ergodotisi.com/JobDetails/148398/MULTIPRO-LTD',\n",
       " 'https://www.ergodotisi.com/JobDetails/148592/Vert-Et-Blanc-Constructions-(Overseas)-Ltd',\n",
       " 'https://www.ergodotisi.com/JobDetails/148591/OUSAI-PROPERTIES-LTD',\n",
       " 'https://www.ergodotisi.com/JobDetails/148589/Cyprus-Trading-Corporation-Plc',\n",
       " 'https://www.ergodotisi.com/JobDetails/148590/UCLan-Cyprus-Ltd',\n",
       " 'https://www.ergodotisi.com/JobDetails/148583/D.A.D-TRADING-CO.-LIMITED',\n",
       " 'https://www.ergodotisi.com/JobDetails/146348/Charis-AND-Giorgos-Charalambous-Ltd',\n",
       " 'https://www.ergodotisi.com/JobDetails/148586/UCLan-Cyprus-Ltd',\n",
       " 'https://www.ergodotisi.com/JobDetails/148582/CYWORLD-WEALTH-LIMITED',\n",
       " 'https://www.ergodotisi.com/JobDetails/148580/SAT7',\n",
       " 'https://www.ergodotisi.com/JobDetails/148581/OUSAI-PROPERTIES-LTD',\n",
       " 'https://www.ergodotisi.com/JobDetails/148578/Spectech-Talent-Solutions-Ltd',\n",
       " 'https://www.ergodotisi.com/JobDetails/148577/BridgerPay',\n",
       " 'https://www.ergodotisi.com/JobDetails/148576/RoboGate-Ltd',\n",
       " 'https://www.ergodotisi.com/JobDetails/148574/%CE%9F%CF%81%CE%B3%CE%AC%CE%BD%CF%89%CF%83%CE%B7-%CE%A0%CE%B1%CF%81%CE%B1%CE%B3%CF%89%CE%B3%CF%8E%CE%BD-%CE%A3%CE%B5%CE%B4%CE%B9%CE%B3%CE%B5%CF%80-%CE%9B%CF%8D%CF%83%CE%B7%CF%82-%CE%9B%CF%84%CE%B4',\n",
       " 'https://www.ergodotisi.com/JobDetails/148575/Ktimatagora',\n",
       " 'https://www.ergodotisi.com/JobDetails/148573/Mediterranean-Hospital-of-Cyprus',\n",
       " 'https://www.ergodotisi.com/JobDetails/148567/SPS-PRIVATE-SECURITY-SERVICES-LIMITED',\n",
       " 'https://www.ergodotisi.com/JobDetails/148572/Rightclima',\n",
       " 'https://www.ergodotisi.com/JobDetails/148571/The-Junior-AND-Senior-School',\n",
       " 'https://www.ergodotisi.com/JobDetails/148568/Maria-Sokratous-dental-clinic',\n",
       " 'https://www.ergodotisi.com/JobDetails/148569/DELTA-QUEST-HOLDINGS-LTD',\n",
       " 'https://www.ergodotisi.com/JobDetails/136948/UGM-SECURITIES-LIMITED',\n",
       " 'https://www.ergodotisi.com/JobDetails/148562/iTrade-Global-(CY)--Ltd',\n",
       " 'https://www.ergodotisi.com/JobDetails/148555/iTrade-Global-(CY)--Ltd',\n",
       " 'https://www.ergodotisi.com/JobDetails/148566/M.A.C.-AUDIT-SERVICES-LTD',\n",
       " 'https://www.ergodotisi.com/JobDetails/148556/%CE%A6%CE%A1%CE%9F%CE%9D%CE%A4%CE%99%CE%A3%CE%A4%CE%97%CE%A1%CE%99%CE%91-%CE%98%CE%95%CE%91-%CE%9A%CE%9F%CE%A3%CE%9C%CE%91',\n",
       " 'https://www.ergodotisi.com/JobDetails/146371/Mitsides-Public-Company-Ltd',\n",
       " 'https://www.ergodotisi.com/JobDetails/148565/M.A.C.-AUDIT-SERVICES-LTD',\n",
       " 'https://www.ergodotisi.com/JobDetails/148559/STESTA-Distribution-Ltd',\n",
       " 'https://www.ergodotisi.com/JobDetails/148564/Oenus-Ltd',\n",
       " 'https://www.ergodotisi.com/JobDetails/148557/STESTA-Distribution-Ltd',\n",
       " 'https://www.ergodotisi.com/JobDetails/148563/A-AND-C-CHRISTOFI-LTD',\n",
       " 'https://www.ergodotisi.com/JobDetails/148558/Christakis-Agathangelou',\n",
       " 'https://www.ergodotisi.com/JobDetails/148561/Digital-HQ',\n",
       " 'https://www.ergodotisi.com/JobDetails/148560/iTrade-Global-(CY)--Ltd',\n",
       " 'https://www.ergodotisi.com/JobDetails/147853/Elma-AND-Fred',\n",
       " 'https://www.ergodotisi.com/JobDetails/147589/Valtou-Rigani-(L)',\n",
       " 'https://www.ergodotisi.com/JobDetails/148553/EFX-PRODUCTIONS-LTD',\n",
       " 'https://www.ergodotisi.com/JobDetails/148552/DIMCO-LTD',\n",
       " 'https://www.ergodotisi.com/JobDetails/148551/Chrysanthou-Shoes',\n",
       " 'https://www.ergodotisi.com/JobDetails/148549/CANDV-KRITICOS-SUPPLIERS-LTD',\n",
       " 'https://www.ergodotisi.com/JobDetails/148550/ANNA-MARIA-MAZARAKI-S.A',\n",
       " 'https://www.ergodotisi.com/JobDetails/148547/IC-Markets-(CY)-LTD',\n",
       " 'https://www.ergodotisi.com/JobDetails/148548/TSYS,-A-Global-Payments-company',\n",
       " 'https://www.ergodotisi.com/JobDetails/148544/CANDV-KRITICOS-SUPPLIERS-LTD',\n",
       " 'https://www.ergodotisi.com/JobDetails/148533/TSYS,-A-Global-Payments-company',\n",
       " 'https://www.ergodotisi.com/JobDetails/148545/Beba-Restaurant-ltd',\n",
       " 'https://www.ergodotisi.com/JobDetails/148543/iTrade-Global-(CY)--Ltd',\n",
       " 'https://www.ergodotisi.com/JobDetails/148542/Iakovos-Photiades-Foodstuff-Suppliers-Ltd',\n",
       " 'https://www.ergodotisi.com/JobDetails/148507/Diogenous-Biomedical-Laboratory',\n",
       " 'https://www.ergodotisi.com/JobDetails/148461/To-Steki-tou-Thanasi',\n",
       " 'https://www.ergodotisi.com/JobDetails/148539/CareerFinders-Recruitment-Services-Ltd',\n",
       " 'https://www.ergodotisi.com/JobDetails/148538/CHRYNIKI-LTD',\n",
       " 'https://www.ergodotisi.com/JobDetails/148540/%CE%9F%CF%81%CE%B3%CE%AC%CE%BD%CF%89%CF%83%CE%B7-%CE%A0%CE%B1%CF%81%CE%B1%CF%80%CE%BB%CE%B7%CE%B3%CE%B9%CE%BA%CF%8E%CE%BD-%CE%9A%CF%8D%CF%80%CF%81%CE%BF%CF%85',\n",
       " 'https://www.ergodotisi.com/JobDetails/148537/Forex-TB-Limited',\n",
       " 'https://www.ergodotisi.com/JobDetails/148536/%CE%9F%CF%81%CE%B3%CE%AC%CE%BD%CF%89%CF%83%CE%B7-%CE%A0%CE%B1%CF%81%CE%B1%CF%80%CE%BB%CE%B7%CE%B3%CE%B9%CE%BA%CF%8E%CE%BD-%CE%9A%CF%8D%CF%80%CF%81%CE%BF%CF%85',\n",
       " 'https://www.ergodotisi.com/JobDetails/148525/BridgerPay',\n",
       " 'https://www.ergodotisi.com/JobDetails/148535/P.G.-Economides-AND-Co-Ltd',\n",
       " 'https://www.ergodotisi.com/JobDetails/148534/Geomatrix-Holding',\n",
       " 'https://www.ergodotisi.com/JobDetails/148454/Potamitis-AND-Nicolaou-Architects-LLC',\n",
       " 'https://www.ergodotisi.com/JobDetails/148532/LIDL-%CE%9A%CF%8D%CF%80%CF%81%CE%BF%CF%85',\n",
       " 'https://www.ergodotisi.com/JobDetails/148531/P.G.-Economides-AND-Co-Ltd',\n",
       " 'https://www.ergodotisi.com/JobDetails/148155/GMK-Services-Limited',\n",
       " 'https://www.ergodotisi.com/JobDetails/148530/PLAYTECH-SERVICES-(CYPRUS)-LTD',\n",
       " 'https://www.ergodotisi.com/JobDetails/148529/Mallouppas-And-Papacostas-Fashion-Ltd',\n",
       " 'https://www.ergodotisi.com/JobDetails/148528/360-Chartered-PR-Consultants',\n",
       " 'https://www.ergodotisi.com/JobDetails/148527/GMCG-LTD',\n",
       " 'https://www.ergodotisi.com/JobDetails/148526/Xerographic-Solutions-Ltd',\n",
       " 'https://www.ergodotisi.com/JobDetails/148511/M.Papapetrou-Ltd',\n",
       " 'https://www.ergodotisi.com/JobDetails/148500/%CE%9F%CF%81%CE%B3%CE%AC%CE%BD%CF%89%CF%83%CE%B7-%CE%A0%CE%B1%CF%81%CE%B1%CF%80%CE%BB%CE%B7%CE%B3%CE%B9%CE%BA%CF%8E%CE%BD-%CE%9A%CF%8D%CF%80%CF%81%CE%BF%CF%85',\n",
       " 'https://www.ergodotisi.com/JobDetails/148522/%CE%9F%CF%81%CE%B3%CE%AC%CE%BD%CF%89%CF%83%CE%B7-%CE%A0%CE%B1%CF%81%CE%B1%CF%80%CE%BB%CE%B7%CE%B3%CE%B9%CE%BA%CF%8E%CE%BD-%CE%9A%CF%8D%CF%80%CF%81%CE%BF%CF%85',\n",
       " 'https://www.ergodotisi.com/JobDetails/148524/CANEO-Enterprises-Ltd',\n",
       " 'https://www.ergodotisi.com/JobDetails/148523/%CE%9F%CF%81%CE%B3%CE%AC%CE%BD%CF%89%CF%83%CE%B7-%CE%A0%CE%B1%CF%81%CE%B1%CF%80%CE%BB%CE%B7%CE%B3%CE%B9%CE%BA%CF%8E%CE%BD-%CE%9A%CF%8D%CF%80%CF%81%CE%BF%CF%85',\n",
       " 'https://www.ergodotisi.com/JobDetails/148521/Caffe-Nero',\n",
       " 'https://www.ergodotisi.com/JobDetails/148518/Digital-HQ',\n",
       " 'https://www.ergodotisi.com/JobDetails/148520/Caffe-Nero',\n",
       " 'https://www.ergodotisi.com/JobDetails/148517/Wagamama',\n",
       " 'https://www.ergodotisi.com/JobDetails/148519/Caffe-Nero',\n",
       " 'https://www.ergodotisi.com/JobDetails/148515/Wagamama',\n",
       " 'https://www.ergodotisi.com/JobDetails/148516/D.-Marinou-AND-Co-Ltd',\n",
       " 'https://www.ergodotisi.com/JobDetails/148514/Y.-Iacovou-AND-Co',\n",
       " 'https://www.ergodotisi.com/JobDetails/148513/Wagamama',\n",
       " 'https://www.ergodotisi.com/JobDetails/148510/Digital-HQ',\n",
       " 'https://www.ergodotisi.com/JobDetails/148512/CareerFinders-Recruitment-Services-Ltd',\n",
       " 'https://www.ergodotisi.com/JobDetails/148506/CBS-IT-SYSTEMS-CYPRUS-LTD',\n",
       " 'https://www.ergodotisi.com/JobDetails/148509/CBS-IT-SYSTEMS-CYPRUS-LTD',\n",
       " 'https://www.ergodotisi.com/JobDetails/148464/G.P.MICHAELIDES-AND-SONS-(AGENCIES)-LTD',\n",
       " 'https://www.ergodotisi.com/JobDetails/148480/DR-PANAYIOTIS-DEMOSTHENOUS-IEPE',\n",
       " 'https://www.ergodotisi.com/JobDetails/148508/CBS-IT-SYSTEMS-CYPRUS-LTD',\n",
       " 'https://www.ergodotisi.com/JobDetails/148456/!eye-creative-communications',\n",
       " 'https://www.ergodotisi.com/JobDetails/148457/Cymat-Building-Materials-Ltd',\n",
       " 'https://www.ergodotisi.com/JobDetails/148479/Technosound-Ltd',\n",
       " 'https://www.ergodotisi.com/JobDetails/148477/Acfin-Audit-Ltd',\n",
       " 'https://www.ergodotisi.com/JobDetails/148505/P.C.M.C.-AUDIT-LTD',\n",
       " 'https://www.ergodotisi.com/JobDetails/148504/LEPTOS-GROUP',\n",
       " 'https://www.ergodotisi.com/JobDetails/148476/H.M-HOUSEMARKET-(CYPRUS)-LTD',\n",
       " 'https://www.ergodotisi.com/JobDetails/148475/H.M-HOUSEMARKET-(CYPRUS)-LTD',\n",
       " 'https://www.ergodotisi.com/JobDetails/148503/LEPTOS-GROUP',\n",
       " 'https://www.ergodotisi.com/JobDetails/148497/CPL-Co-Pharm-Ltd',\n",
       " 'https://www.ergodotisi.com/JobDetails/148474/YIANNIS-CONSTANTINIDES-LTD',\n",
       " 'https://www.ergodotisi.com/JobDetails/148502/%CE%9F%CF%81%CE%B3%CE%AC%CE%BD%CF%89%CF%83%CE%B7-%CE%A0%CE%B1%CF%81%CE%B1%CF%80%CE%BB%CE%B7%CE%B3%CE%B9%CE%BA%CF%8E%CE%BD-%CE%9A%CF%8D%CF%80%CF%81%CE%BF%CF%85',\n",
       " 'https://www.ergodotisi.com/JobDetails/148473/Roomzly-Interior-Design-Studio',\n",
       " 'https://www.ergodotisi.com/JobDetails/148469/Multigrain-Bakery-Cafe-Ltd',\n",
       " 'https://www.ergodotisi.com/JobDetails/148501/MCC-BEST-VALUE-LTD',\n",
       " 'https://www.ergodotisi.com/JobDetails/148465/Kalia-Tsangari-Dental-Clinic',\n",
       " 'https://www.ergodotisi.com/JobDetails/148471/%CE%93%CE%99%CE%A9%CE%A4%CE%97%CE%A3-%CE%A7%CE%A1%CE%99%CE%A3%CE%A4%CE%9F%CE%A5-%CE%9B%CE%A4%CE%94',\n",
       " 'https://www.ergodotisi.com/JobDetails/148463/OVENIT-LTD',\n",
       " 'https://www.ergodotisi.com/JobDetails/148468/Multigrain-Bakery-Cafe-Ltd',\n",
       " 'https://www.ergodotisi.com/JobDetails/148466/Kaimakliotis-LLC',\n",
       " 'https://www.ergodotisi.com/JobDetails/148470/Multigrain-Bakery-Cafe-Ltd',\n",
       " 'https://www.ergodotisi.com/JobDetails/148491/HF-Markets',\n",
       " 'https://www.ergodotisi.com/JobDetails/148490/HF-Markets',\n",
       " 'https://www.ergodotisi.com/JobDetails/148489/HF-Markets',\n",
       " 'https://www.ergodotisi.com/JobDetails/148487/HF-Markets',\n",
       " 'https://www.ergodotisi.com/JobDetails/148472/ROASTED-COFFEE-SHOP',\n",
       " 'https://www.ergodotisi.com/JobDetails/148485/HF-Markets',\n",
       " 'https://www.ergodotisi.com/JobDetails/148467/P-AND-TH-Just-Roasted-Ltd',\n",
       " 'https://www.ergodotisi.com/JobDetails/148452/GANDP-LAZAROU-ESTATE-AGENTS-LTD',\n",
       " 'https://www.ergodotisi.com/JobDetails/148447/Medicquest-Medical-Diagnostic-Laboratory',\n",
       " 'https://www.ergodotisi.com/JobDetails/148422/JobsCyprus',\n",
       " 'https://www.ergodotisi.com/JobDetails/148462/Engino-Net-Limited',\n",
       " 'https://www.ergodotisi.com/JobDetails/148460/KC-Firiakis-Services-Ltd',\n",
       " 'https://www.ergodotisi.com/JobDetails/148459/KC-Firiakis-Services-Ltd',\n",
       " 'https://www.ergodotisi.com/JobDetails/148458/KC-Firiakis-Services-Ltd',\n",
       " 'https://www.ergodotisi.com/JobDetails/148455/FCG-First-Choice-Group-Ltd',\n",
       " 'https://www.ergodotisi.com/JobDetails/148453/CareerFinders-Recruitment-Services-Ltd',\n",
       " 'https://www.ergodotisi.com/JobDetails/148451/Deloitte',\n",
       " 'https://www.ergodotisi.com/JobDetails/148450/Georgiou-AND-Prasanna-Ltd',\n",
       " 'https://www.ergodotisi.com/JobDetails/148449/Aram-Meem-Services-Ltd',\n",
       " 'https://www.ergodotisi.com/JobDetails/148448/Deloitte',\n",
       " 'https://www.ergodotisi.com/JobDetails/148441/Corina-Snacks-Ltd',\n",
       " 'https://www.ergodotisi.com/JobDetails/148446/Capital-Com-SV-Investments-Ltd',\n",
       " 'https://www.ergodotisi.com/JobDetails/148445/Paradisiotis-Ltd',\n",
       " 'https://www.ergodotisi.com/JobDetails/148444/Corina-Snacks-Ltd',\n",
       " 'https://www.ergodotisi.com/JobDetails/148443/CareerFinders-Recruitment-Services-Ltd',\n",
       " 'https://www.ergodotisi.com/JobDetails/148440/Simplex',\n",
       " 'https://www.ergodotisi.com/JobDetails/148438/Amazing-Apps',\n",
       " 'https://www.ergodotisi.com/JobDetails/148436/PRIME-PROPERTY-GROUP',\n",
       " 'https://www.ergodotisi.com/JobDetails/148439/Mavromatis-Employment-Bureau',\n",
       " 'https://www.ergodotisi.com/JobDetails/148437/Mavromatis-Employment-Bureau',\n",
       " 'https://www.ergodotisi.com/JobDetails/148435/PRIMETEL-PLC',\n",
       " 'https://www.ergodotisi.com/JobDetails/148434/M.CHRISTOU-MECH.-ENGINEER',\n",
       " 'https://www.ergodotisi.com/JobDetails/148394/ISIS-Clinic',\n",
       " 'https://www.ergodotisi.com/JobDetails/148433/CareerFinders-Recruitment-Services-Ltd',\n",
       " 'https://www.ergodotisi.com/JobDetails/148432/TopFX-Ltd',\n",
       " 'https://www.ergodotisi.com/JobDetails/148431/Pest-Protection-Services-(Cyprus)-Holdings-Ltd',\n",
       " 'https://www.ergodotisi.com/JobDetails/148429/HDT-Sales-and-Marketing-Ltd',\n",
       " 'https://www.ergodotisi.com/JobDetails/148430/FXPRIMUS',\n",
       " 'https://www.ergodotisi.com/JobDetails/148428/NINE-BRIDGE-MEDIA-LTD',\n",
       " 'https://www.ergodotisi.com/JobDetails/148427/FXPRIMUS',\n",
       " 'https://www.ergodotisi.com/JobDetails/148426/LDMC-Services',\n",
       " 'https://www.ergodotisi.com/JobDetails/148425/PUNIN-WINE',\n",
       " 'https://www.ergodotisi.com/JobDetails/148424/Tsircon',\n",
       " 'https://www.ergodotisi.com/JobDetails/148423/MKR-Mansystems-Business-Consultants-Ltd',\n",
       " 'https://www.ergodotisi.com/JobDetails/148421/MKR-Mansystems-Business-Consultants-Ltd',\n",
       " 'https://www.ergodotisi.com/JobDetails/148406/Veludas-international-ltd',\n",
       " 'https://www.ergodotisi.com/JobDetails/148420/Logicom-Public-Ltd',\n",
       " 'https://www.ergodotisi.com/JobDetails/148419/NICOS-NEOPHYTOU-LAW-PARTNERS',\n",
       " 'https://www.ergodotisi.com/JobDetails/148418/Amdocs-Ltd',\n",
       " 'https://www.ergodotisi.com/JobDetails/148416/Technosound-Ltd',\n",
       " 'https://www.ergodotisi.com/JobDetails/148411/SANDA-STYLIANOU-FLORIST-SUPPLIERS-LTD',\n",
       " 'https://www.ergodotisi.com/JobDetails/148415/Odyssey-Cybersecurity',\n",
       " 'https://www.ergodotisi.com/JobDetails/148417/%CE%A0%CE%A1%CE%9F%CE%A4%CE%A5%CE%A0%CE%9F%CE%A3-%CE%9C%CE%91%CE%99%CE%95%CE%A5%CE%A4%CE%99%CE%9A%CE%97-%CE%93%CE%A5%CE%9D%CE%91%CE%99%CE%9A%CE%9F%CE%9B%CE%9F%CE%93%CE%99%CE%9A%CE%97-%CE%9A%CE%9B%CE%99%CE%9D%CE%99%CE%9A%CE%97-%CE%9B%CE%97%CE%94%CE%A1%CE%91',\n",
       " 'https://www.ergodotisi.com/JobDetails/148413/S.-Dionysiou-AND-Partners-LLC',\n",
       " 'https://www.ergodotisi.com/JobDetails/148319/DEDALOS-CORPORATE-SERVICES-LTD',\n",
       " 'https://www.ergodotisi.com/JobDetails/148412/TSYS,-A-Global-Payments-company',\n",
       " 'https://www.ergodotisi.com/JobDetails/147978/%CE%9B%CE%B1%CE%BC%CF%80%CE%B5%CF%81%CE%AC-%CE%91%CF%83%CF%84%CE%B5%CF%81%CE%AC%CE%BA%CE%B9%CE%B1',\n",
       " 'https://www.ergodotisi.com/JobDetails/148408/Douleutaras',\n",
       " 'https://www.ergodotisi.com/JobDetails/148410/IBSCY-LTD',\n",
       " 'https://www.ergodotisi.com/JobDetails/148409/Deloitte',\n",
       " 'https://www.ergodotisi.com/JobDetails/148226/%CE%9B%CE%95%CE%A5%CE%A4%CE%95%CE%A1%CE%97%CE%A3-%CE%95%CE%9B%CE%95%CE%A5%CE%98%CE%95%CE%A1%CE%99%CE%9F%CE%A5-%CE%9A%CE%91%CE%99-%CE%A5%CE%99%CE%9F%CE%A3-%CE%9B%CE%99%CE%9C%CE%99%CE%A4%CE%95%CE%94',\n",
       " 'https://www.ergodotisi.com/JobDetails/148407/Armenotech-Limited',\n",
       " 'https://www.ergodotisi.com/JobDetails/148404/Cyprus-Trading-Corporation-Plc',\n",
       " 'https://www.ergodotisi.com/JobDetails/147493/Work-Channel-Recruitment-Agency',\n",
       " 'https://www.ergodotisi.com/JobDetails/148405/Arenco-Ltd',\n",
       " 'https://www.ergodotisi.com/JobDetails/148403/A.G.-Demetriou-AND-Sons-Ltd',\n",
       " 'https://www.ergodotisi.com/JobDetails/148402/RISKMATRIX-LTD',\n",
       " 'https://www.ergodotisi.com/JobDetails/148387/A.-Finiris-Co-Ltd',\n",
       " 'https://www.ergodotisi.com/JobDetails/148399/MULTIPRO-LTD',\n",
       " 'https://www.ergodotisi.com/JobDetails/148396/MULTIPRO-LTD',\n",
       " 'https://www.ergodotisi.com/JobDetails/148393/CareerFinders-Recruitment-Services-Ltd',\n",
       " 'https://www.ergodotisi.com/JobDetails/148401/Digital-Tree',\n",
       " 'https://www.ergodotisi.com/JobDetails/148379/Yiannakis-Kokkinos-LTD',\n",
       " 'https://www.ergodotisi.com/JobDetails/148380/Hydro-Comp-Enterprises-Ltd',\n",
       " 'https://www.ergodotisi.com/JobDetails/148400/Digital-Tree',\n",
       " 'https://www.ergodotisi.com/JobDetails/148382/FXCM',\n",
       " 'https://www.ergodotisi.com/JobDetails/148395/Digital-Tree',\n",
       " 'https://www.ergodotisi.com/JobDetails/148392/FXCM',\n",
       " 'https://www.ergodotisi.com/JobDetails/148385/Lounic-Ltd',\n",
       " 'https://www.ergodotisi.com/JobDetails/148391/%CE%A0%CE%91%CE%A3%CE%A5%CE%9A%CE%91%CE%A6',\n",
       " 'https://www.ergodotisi.com/JobDetails/148397/Digital-Tree',\n",
       " 'https://www.ergodotisi.com/JobDetails/148172/Casa-di-Gusto',\n",
       " 'https://www.ergodotisi.com/JobDetails/148390/IronFX',\n",
       " 'https://www.ergodotisi.com/JobDetails/148389/UZZIEL-CONSTRUCTION-LIMITED',\n",
       " 'https://www.ergodotisi.com/JobDetails/148384/FXCM',\n",
       " 'https://www.ergodotisi.com/JobDetails/148383/Lounic-Ltd',\n",
       " 'https://www.ergodotisi.com/JobDetails/148386/UZZIEL-CONSTRUCTION-LIMITED',\n",
       " 'https://www.ergodotisi.com/JobDetails/148381/%CE%A6%CF%85%CF%83%CE%B9%CE%BA%CF%8C-%CE%A0%CF%81%CF%8C%CF%83%CF%89%CF%80%CE%BF-Ianthi-Pilavaki',\n",
       " 'https://www.ergodotisi.com/JobDetails/148378/CPL-Co-Pharm-Ltd',\n",
       " 'https://www.ergodotisi.com/JobDetails/148376/CareerFinders-Recruitment-Services-Ltd',\n",
       " 'https://www.ergodotisi.com/JobDetails/148375/Bird-Aviation-Ltd',\n",
       " 'https://www.ergodotisi.com/JobDetails/148297/CPT-Cyprus-Public-Transport-Services-and-Operations-Ltd',\n",
       " 'https://www.ergodotisi.com/JobDetails/148377/CareerFinders-Recruitment-Services-Ltd',\n",
       " 'https://www.ergodotisi.com/JobDetails/148372/%CE%A0%CE%95%CE%9B%CE%95%CE%A4%CE%99%CE%9A%CE%9F-%CE%9B%CE%A4%CE%94',\n",
       " 'https://www.ergodotisi.com/JobDetails/148371/DIMCO-LTD',\n",
       " 'https://www.ergodotisi.com/JobDetails/148369/%CE%A0%CE%95%CE%9B%CE%95%CE%A4%CE%99%CE%9A%CE%9F-%CE%9B%CE%A4%CE%94',\n",
       " 'https://www.ergodotisi.com/JobDetails/148317/BRAINKID-TOYS-LTD',\n",
       " 'https://www.ergodotisi.com/JobDetails/148305/Windsor-Brokers-Ltd',\n",
       " 'https://www.ergodotisi.com/JobDetails/148303/Quadcode',\n",
       " 'https://www.ergodotisi.com/JobDetails/148315/Babor-Beauty-Spa-by-Marina-Malactou-Colocassidou',\n",
       " 'https://www.ergodotisi.com/JobDetails/148374/Optimus-Actus-Services-Limited',\n",
       " 'https://www.ergodotisi.com/JobDetails/148314/Babor-Beauty-Spa-by-Marina-Malactou-Colocassidou',\n",
       " 'https://www.ergodotisi.com/JobDetails/148373/Optimus-Actus-Services-Limited',\n",
       " 'https://www.ergodotisi.com/JobDetails/148301/CPT-Cyprus-Public-Transport-Services-and-Operations-Ltd',\n",
       " 'https://www.ergodotisi.com/JobDetails/148370/Makou',\n",
       " 'https://www.ergodotisi.com/JobDetails/148312/TheSoul-Publishing',\n",
       " 'https://www.ergodotisi.com/JobDetails/148365/Lefkaritis-Group-of-Companies',\n",
       " 'https://www.ergodotisi.com/JobDetails/148300/Windsor-Solutions-Ltd',\n",
       " 'https://www.ergodotisi.com/JobDetails/148311/Athos-Demetriou-Associates-LLC',\n",
       " 'https://www.ergodotisi.com/JobDetails/148298/CPT-Cyprus-Public-Transport-Services-and-Operations-Ltd',\n",
       " 'https://www.ergodotisi.com/JobDetails/148308/Lumiere-Institute',\n",
       " 'https://www.ergodotisi.com/JobDetails/148368/Apidea-Ltd',\n",
       " 'https://www.ergodotisi.com/JobDetails/148313/GT-Group',\n",
       " 'https://www.ergodotisi.com/JobDetails/148366/Apidea-Ltd',\n",
       " 'https://www.ergodotisi.com/JobDetails/148294/Windsor-Solutions-Ltd',\n",
       " 'https://www.ergodotisi.com/JobDetails/148362/Apidea-Ltd',\n",
       " 'https://www.ergodotisi.com/JobDetails/148356/Apidea-Ltd',\n",
       " 'https://www.ergodotisi.com/JobDetails/148293/%CE%A6%CF%81%CE%BF%CE%BD%CF%84%CE%B9%CF%83%CF%84%CE%AE%CF%81%CE%B9%CE%BF-%CE%A7%CE%B1%CF%81%CE%AF%CE%BA%CE%BB%CE%B5%CE%B9%CE%B1%CF%82-%CE%95%CF%85%CF%81%CE%B9%CF%80%CE%AF%CE%B4%CE%BF%CF%85',\n",
       " 'https://www.ergodotisi.com/JobDetails/148291/Alion-Vegetables-AND-Fruit-Co-Ltd',\n",
       " 'https://www.ergodotisi.com/JobDetails/148307/IronFX',\n",
       " 'https://www.ergodotisi.com/JobDetails/148290/Obon-Sai-Cosmetics-Ltd',\n",
       " 'https://www.ergodotisi.com/JobDetails/148309/DUST-AND-CREAM',\n",
       " 'https://www.ergodotisi.com/JobDetails/148158/IA.SA.-ELECTROTHERM-LTD',\n",
       " 'https://www.ergodotisi.com/JobDetails/148310/DUST-AND-CREAM',\n",
       " 'https://www.ergodotisi.com/JobDetails/148304/Belifor-Ltd',\n",
       " 'https://www.ergodotisi.com/JobDetails/148343/Spectech-Talent-Solutions-Ltd',\n",
       " 'https://www.ergodotisi.com/JobDetails/148299/Monlinks-Services-Ltd',\n",
       " 'https://www.ergodotisi.com/JobDetails/148340/Spectech-Talent-Solutions-Ltd',\n",
       " 'https://www.ergodotisi.com/JobDetails/148339/Spectech-Talent-Solutions-Ltd',\n",
       " 'https://www.ergodotisi.com/JobDetails/148338/Spectech-Talent-Solutions-Ltd',\n",
       " 'https://www.ergodotisi.com/JobDetails/148292/Armenotech-Limited',\n",
       " 'https://www.ergodotisi.com/JobDetails/148336/Spectech-Talent-Solutions-Ltd',\n",
       " 'https://www.ergodotisi.com/JobDetails/148334/Spectech-Talent-Solutions-Ltd',\n",
       " 'https://www.ergodotisi.com/JobDetails/148333/Spectech-Talent-Solutions-Ltd',\n",
       " 'https://www.ergodotisi.com/JobDetails/148332/Spectech-Talent-Solutions-Ltd',\n",
       " 'https://www.ergodotisi.com/JobDetails/148331/Spectech-Talent-Solutions-Ltd',\n",
       " 'https://www.ergodotisi.com/JobDetails/148306/SK-COFFEE-GERMASOGEIA-LTD',\n",
       " 'https://www.ergodotisi.com/JobDetails/148330/Spectech-Talent-Solutions-Ltd',\n",
       " 'https://www.ergodotisi.com/JobDetails/148329/Spectech-Talent-Solutions-Ltd',\n",
       " 'https://www.ergodotisi.com/JobDetails/148328/Spectech-Talent-Solutions-Ltd',\n",
       " 'https://www.ergodotisi.com/JobDetails/148327/Spectech-Talent-Solutions-Ltd',\n",
       " 'https://www.ergodotisi.com/JobDetails/148326/Spectech-Talent-Solutions-Ltd',\n",
       " 'https://www.ergodotisi.com/JobDetails/148325/Spectech-Talent-Solutions-Ltd',\n",
       " 'https://www.ergodotisi.com/JobDetails/148324/Spectech-Talent-Solutions-Ltd',\n",
       " 'https://www.ergodotisi.com/JobDetails/148323/Spectech-Talent-Solutions-Ltd',\n",
       " 'https://www.ergodotisi.com/JobDetails/148322/Spectech-Talent-Solutions-Ltd',\n",
       " 'https://www.ergodotisi.com/JobDetails/148321/Spectech-Talent-Solutions-Ltd',\n",
       " 'https://www.ergodotisi.com/JobDetails/148320/Spectech-Talent-Solutions-Ltd',\n",
       " 'https://www.ergodotisi.com/JobDetails/148296/MEDCOM-TRADING-LTD',\n",
       " 'https://www.ergodotisi.com/JobDetails/148295/MEDCOM-TRADING-LTD',\n",
       " 'https://www.ergodotisi.com/JobDetails/148287/Alion-Vegetables-AND-Fruit-Co-Ltd',\n",
       " 'https://www.ergodotisi.com/JobDetails/148288/%CE%9F%CF%81%CE%B3%CE%AC%CE%BD%CF%89%CF%83%CE%B7-%CE%A0%CE%B1%CF%81%CE%B1%CF%80%CE%BB%CE%B7%CE%B3%CE%B9%CE%BA%CF%8E%CE%BD-%CE%9A%CF%8D%CF%80%CF%81%CE%BF%CF%85',\n",
       " 'https://www.ergodotisi.com/JobDetails/148286/%CE%9A%CF%85%CF%80%CF%81%CE%B9%CE%B1%CE%BA%CF%8C-%CE%A3%CF%85%CE%BC%CE%B2%CE%BF%CF%8D%CE%BB%CE%B9%CE%BF-%CE%91%CE%BD%CE%B1%CE%B6%CF%89%CE%BF%CE%B3%CF%8C%CE%BD%CE%B7%CF%83%CE%B7%CF%82',\n",
       " 'https://www.ergodotisi.com/JobDetails/148285/KFC',\n",
       " 'https://www.ergodotisi.com/JobDetails/148284/A.K.PURPLE-SERVICES--APARTMENTS-AND-HOTELS-LTD',\n",
       " 'https://www.ergodotisi.com/JobDetails/148283/CareerFinders-Recruitment-Services-Ltd',\n",
       " 'https://www.ergodotisi.com/JobDetails/148282/PCE-Hi-Tech-Solutions-Ltd',\n",
       " 'https://www.ergodotisi.com/JobDetails/148237/N.Y.-Centrix-Solutions-Ltd',\n",
       " 'https://www.ergodotisi.com/JobDetails/148280/ZT-ONE-IMAGE-CO-LTD',\n",
       " 'https://www.ergodotisi.com/JobDetails/148273/Pizza-Hut',\n",
       " 'https://www.ergodotisi.com/JobDetails/148279/ZT-ONE-IMAGE-CO-LTD',\n",
       " 'https://www.ergodotisi.com/JobDetails/148277/Deriv-Operations-(Cyprus)-Ltd',\n",
       " 'https://www.ergodotisi.com/JobDetails/148278/iSX-Financial-EU-Ltd',\n",
       " 'https://www.ergodotisi.com/JobDetails/148275/iSX-Financial-EU-Ltd',\n",
       " 'https://www.ergodotisi.com/JobDetails/147507/BKFX-PTY-LTD',\n",
       " 'https://www.ergodotisi.com/JobDetails/148272/Pizza-Hut',\n",
       " 'https://www.ergodotisi.com/JobDetails/148276/Margera',\n",
       " 'https://www.ergodotisi.com/JobDetails/148271/KFC',\n",
       " 'https://www.ergodotisi.com/JobDetails/148274/Margera',\n",
       " 'https://www.ergodotisi.com/JobDetails/148270/Christodoulos-G.-Vassiliades-and-Co-LLC',\n",
       " 'https://www.ergodotisi.com/JobDetails/148268/Deriv-Operations-(Cyprus)-Ltd',\n",
       " 'https://www.ergodotisi.com/JobDetails/148269/KFC',\n",
       " 'https://www.ergodotisi.com/JobDetails/148267/K.Parellis-Accountants',\n",
       " 'https://www.ergodotisi.com/JobDetails/148266/POUROS-DEVELOPMENTS',\n",
       " 'https://www.ergodotisi.com/JobDetails/148265/MANDM-Frangos-Eng.ANDContr.-Ltd',\n",
       " 'https://www.ergodotisi.com/JobDetails/148264/Brew-Story',\n",
       " 'https://www.ergodotisi.com/JobDetails/148263/ICELINE-CYPRUS-LTD',\n",
       " 'https://www.ergodotisi.com/JobDetails/148262/McDonald%E2%80%99s%E2%84%A2-Cyprus',\n",
       " 'https://www.ergodotisi.com/JobDetails/148080/HANDM-HENNES-AND-MAURITZ-AE',\n",
       " 'https://www.ergodotisi.com/JobDetails/148261/Qiiwi-Games-AB',\n",
       " 'https://www.ergodotisi.com/JobDetails/148260/CareerFinders-Recruitment-Services-Ltd',\n",
       " 'https://www.ergodotisi.com/JobDetails/148259/%CE%9A%CE%95%CE%94%CE%99%CE%A6%CE%91%CE%A0-%CE%9B%CE%A4%CE%94',\n",
       " 'https://www.ergodotisi.com/JobDetails/148258/FlexCar-Limited',\n",
       " 'https://www.ergodotisi.com/JobDetails/148256/%CE%9A%CE%95%CE%94%CE%99%CE%A6%CE%91%CE%A0-%CE%9B%CE%A4%CE%94',\n",
       " 'https://www.ergodotisi.com/JobDetails/148257/TSYS,-A-Global-Payments-company',\n",
       " 'https://www.ergodotisi.com/JobDetails/148231/Top-Kinisis-Travel-Limited',\n",
       " 'https://www.ergodotisi.com/JobDetails/148255/CareerFinders-Recruitment-Services-Ltd',\n",
       " 'https://www.ergodotisi.com/JobDetails/148254/Aram-Meem-Services-Ltd',\n",
       " 'https://www.ergodotisi.com/JobDetails/148250/HOSTING-B2B-LTD',\n",
       " 'https://www.ergodotisi.com/JobDetails/148251/GLORIA-JEANS-COFFEES',\n",
       " 'https://www.ergodotisi.com/JobDetails/148249/Columbia-Restaurants-Company-ltd',\n",
       " 'https://www.ergodotisi.com/JobDetails/148246/iSX-Financial-EU-Ltd',\n",
       " 'https://www.ergodotisi.com/JobDetails/148243/ITC-PUBLICWORLD-LTD',\n",
       " 'https://www.ergodotisi.com/JobDetails/148248/A.M.E.-FRESH-SNACK-CYPRUS-LTD',\n",
       " 'https://www.ergodotisi.com/JobDetails/148245/Deloitte',\n",
       " 'https://www.ergodotisi.com/JobDetails/148247/A.M.E.-FRESH-SNACK-CYPRUS-LTD',\n",
       " 'https://www.ergodotisi.com/JobDetails/148241/Themis-Portfolio-Management-Ltd',\n",
       " 'https://www.ergodotisi.com/JobDetails/148244/Alpan-Electroline-Limited',\n",
       " 'https://www.ergodotisi.com/JobDetails/148242/Alpan-Electroline-Limited',\n",
       " 'https://www.ergodotisi.com/JobDetails/148240/Y.Patriotis-Ltd',\n",
       " 'https://www.ergodotisi.com/JobDetails/148239/Themis-Portfolio-Management-Ltd',\n",
       " 'https://www.ergodotisi.com/JobDetails/148238/Times-Global-Express-Ltd',\n",
       " 'https://www.ergodotisi.com/JobDetails/148236/C.A.-PAPAELLINAS-LTD',\n",
       " 'https://www.ergodotisi.com/JobDetails/148234/EUROLIFE',\n",
       " 'https://www.ergodotisi.com/JobDetails/148233/Neapolis-University-Pafos',\n",
       " 'https://www.ergodotisi.com/JobDetails/148229/Domino-s-Pizza',\n",
       " 'https://www.ergodotisi.com/JobDetails/148219/Tutors-Panaretos-Educational-Center',\n",
       " 'https://www.ergodotisi.com/JobDetails/148228/VOICI-LA-MODE-GROUP',\n",
       " 'https://www.ergodotisi.com/JobDetails/148220/ECASTICA-SERVICED-OFFICES-LTD',\n",
       " 'https://www.ergodotisi.com/JobDetails/148227/VOICI-LA-MODE-GROUP',\n",
       " 'https://www.ergodotisi.com/JobDetails/148225/2Plus-Audit-Ltd',\n",
       " 'https://www.ergodotisi.com/JobDetails/148224/2Plus-Audit-Ltd',\n",
       " 'https://www.ergodotisi.com/JobDetails/148223/CareerFinders-Recruitment-Services-Ltd',\n",
       " 'https://www.ergodotisi.com/JobDetails/148222/VOICI-LA-MODE-GROUP',\n",
       " 'https://www.ergodotisi.com/JobDetails/148221/VOICI-LA-MODE-GROUP',\n",
       " 'https://www.ergodotisi.com/JobDetails/148218/Vassos-Eliades-Ltd',\n",
       " 'https://www.ergodotisi.com/JobDetails/148217/TWENTY-TWENTY-OPTICAL',\n",
       " 'https://www.ergodotisi.com/JobDetails/147707/Meat-AND-More-Select-Ltd',\n",
       " 'https://www.ergodotisi.com/JobDetails/148147/Burger-King',\n",
       " 'https://www.ergodotisi.com/JobDetails/148216/PHC-Franchised-Restaurants-Public-Ltd',\n",
       " 'https://www.ergodotisi.com/JobDetails/148213/A.G.-GREENERGY-TECHNOLOGIES-(CYPRUS)-LTD',\n",
       " 'https://www.ergodotisi.com/JobDetails/148215/Pizza-Hut',\n",
       " 'https://www.ergodotisi.com/JobDetails/148214/MEDI-JEUNESSE-CYPRUS-LTD',\n",
       " 'https://www.ergodotisi.com/JobDetails/148212/AAATrade-Ltd',\n",
       " 'https://www.ergodotisi.com/JobDetails/148210/HDT-Sales-and-Marketing-Ltd',\n",
       " 'https://www.ergodotisi.com/JobDetails/148211/Blue-Point-Yachting',\n",
       " 'https://www.ergodotisi.com/JobDetails/148209/AAATrade-Ltd',\n",
       " 'https://www.ergodotisi.com/JobDetails/148208/Luluki-Co.-Ltd',\n",
       " 'https://www.ergodotisi.com/JobDetails/148207/THE-CYPRUS-INTERNATIONAL-INSTITUTE-OF-MANAGEMENT-(CIIM)',\n",
       " 'https://www.ergodotisi.com/JobDetails/148205/Mathitiko-Ergastiri',\n",
       " 'https://www.ergodotisi.com/JobDetails/148201/Capital-Com-SV-Investments-Ltd',\n",
       " 'https://www.ergodotisi.com/JobDetails/148204/Human-Asset-Ltd',\n",
       " 'https://www.ergodotisi.com/JobDetails/148203/River-Catering-Ltd',\n",
       " 'https://www.ergodotisi.com/JobDetails/148206/ITC-PUBLICWORLD-LTD',\n",
       " 'https://www.ergodotisi.com/JobDetails/148202/Acenetworks',\n",
       " 'https://www.ergodotisi.com/JobDetails/148200/More-Blue-Trading-LTD',\n",
       " 'https://www.ergodotisi.com/JobDetails/148187/Human-Asset-Ltd',\n",
       " 'https://www.ergodotisi.com/JobDetails/148199/%CE%99%CE%B4%CE%B9%CF%89%CF%84%CE%B9%CE%BA%CF%8C-%CE%A6%CF%81%CE%BF%CE%BD%CF%84%CE%B9%CF%83%CF%84%CE%AE%CF%81%CE%B9%CE%BF-%CE%A5%CF%80%CE%AD%CF%81%CE%B2%CE%B1%CF%83%CE%B7',\n",
       " 'https://www.ergodotisi.com/JobDetails/148190/%CE%9A%CE%95%CE%94%CE%99%CE%A6%CE%91%CE%A0-%CE%9B%CE%A4%CE%94',\n",
       " 'https://www.ergodotisi.com/JobDetails/148189/A.-C.-Technometal-Ltd',\n",
       " 'https://www.ergodotisi.com/JobDetails/148134/Chrisons-Co.-Ltd',\n",
       " 'https://www.ergodotisi.com/JobDetails/148198/More-Blue-Trading-LTD',\n",
       " 'https://www.ergodotisi.com/JobDetails/148184/Human-Asset-Ltd',\n",
       " 'https://www.ergodotisi.com/JobDetails/148196/VOLKA-Entertainment-Ltd',\n",
       " 'https://www.ergodotisi.com/JobDetails/148182/Orphanos-Group',\n",
       " 'https://www.ergodotisi.com/JobDetails/148180/Human-Asset-Ltd',\n",
       " 'https://www.ergodotisi.com/JobDetails/148194/Sea-Chefs-Cruises-Ltd',\n",
       " 'https://www.ergodotisi.com/JobDetails/148178/Orphanos-Group',\n",
       " 'https://www.ergodotisi.com/JobDetails/147930/Skopeftiki-Organosi-Lemesou',\n",
       " 'https://www.ergodotisi.com/JobDetails/148163/Michael-Panayides-Law-Firm',\n",
       " 'https://www.ergodotisi.com/JobDetails/148162/SM-Aluminium-Creations-Ltd',\n",
       " 'https://www.ergodotisi.com/JobDetails/148151/MGR-Human-Resources-Ltd',\n",
       " 'https://www.ergodotisi.com/JobDetails/148161/Solo-Mind-%CE%9B%CE%B5%CE%BC%CE%B5%CF%83%CF%8C%CF%82,-%CE%A4%CF%83%CE%B9%CF%81%CE%B5%CE%AF%CE%BF%CF%85',\n",
       " 'https://www.ergodotisi.com/JobDetails/148150/WCS-Worldwide-Corporate-Services-Ltd',\n",
       " 'https://www.ergodotisi.com/JobDetails/148160/%CE%99%CE%B4%CE%B9%CF%89%CF%84%CE%B9%CE%BA%CF%8C-%CE%A6%CF%81%CE%BF%CE%BD%CF%84%CE%B9%CF%83%CF%84%CE%AE%CF%81%CE%B9%CE%BF-%CE%A3%CF%8D%CE%B3%CF%87%CF%81%CE%BF%CE%BD%CE%B7-%CE%9C%CE%AC%CE%B8%CE%B7%CF%83%CE%B7',\n",
       " 'https://www.ergodotisi.com/JobDetails/148159/%CE%99%CE%B4%CE%B9%CF%89%CF%84%CE%B9%CE%BA%CF%8C-%CE%A6%CF%81%CE%BF%CE%BD%CF%84%CE%B9%CF%83%CF%84%CE%AE%CF%81%CE%B9%CE%BF-%CE%A3%CF%8D%CE%B3%CF%87%CF%81%CE%BF%CE%BD%CE%B7-%CE%9C%CE%AC%CE%B8%CE%B7%CF%83%CE%B7',\n",
       " 'https://www.ergodotisi.com/JobDetails/148149/ICAP-People-Solutions',\n",
       " 'https://www.ergodotisi.com/JobDetails/148148/PSDA-LIMITED',\n",
       " 'https://www.ergodotisi.com/JobDetails/148157/360-Chartered-PR-Consultants',\n",
       " 'https://www.ergodotisi.com/JobDetails/148156/Coffeehouse-Tastehabitat',\n",
       " 'https://www.ergodotisi.com/JobDetails/148195/The-Cyprus-Institute-of-Marketing-(CIM)',\n",
       " 'https://www.ergodotisi.com/JobDetails/148146/eBOS-Technologies-Ltd',\n",
       " 'https://www.ergodotisi.com/JobDetails/148154/Compulsiro-Holdings-Ltd',\n",
       " 'https://www.ergodotisi.com/JobDetails/148145/Monlinks-Services-Ltd',\n",
       " 'https://www.ergodotisi.com/JobDetails/148153/Domochemica',\n",
       " 'https://www.ergodotisi.com/JobDetails/148152/MGR-Human-Resources-Ltd',\n",
       " 'https://www.ergodotisi.com/JobDetails/148143/Mikael-Trading-Co-Ltd',\n",
       " 'https://www.ergodotisi.com/JobDetails/148142/Monlinks-Services-Ltd',\n",
       " 'https://www.ergodotisi.com/JobDetails/148133/VOICI-LA-MODE-GROUP',\n",
       " 'https://www.ergodotisi.com/JobDetails/148141/Windsor-Solutions-Ltd',\n",
       " 'https://www.ergodotisi.com/JobDetails/148140/MAJESTY-REAL-ESTATE',\n",
       " 'https://www.ergodotisi.com/JobDetails/148094/The-English-School',\n",
       " 'https://www.ergodotisi.com/JobDetails/148144/MELIOR-CAPITAL-LTD',\n",
       " 'https://www.ergodotisi.com/JobDetails/148164/HANGRY-GHOST',\n",
       " 'https://www.ergodotisi.com/JobDetails/148136/SAFE-BULKERS-MANAGEMENT-LTD',\n",
       " 'https://www.ergodotisi.com/JobDetails/148138/INTER-M-PROPERTIES',\n",
       " 'https://www.ergodotisi.com/JobDetails/148139/COSTAS-PAPAELLINAS-ORGANIZATION-LTD',\n",
       " 'https://www.ergodotisi.com/JobDetails/148137/COSTAS-PAPAELLINAS-ORGANIZATION-LTD',\n",
       " 'https://www.ergodotisi.com/JobDetails/148135/PRESTIGE-GROUP',\n",
       " 'https://www.ergodotisi.com/JobDetails/148132/LEMGREG-LTD',\n",
       " 'https://www.ergodotisi.com/JobDetails/148129/LEMGREG-LTD',\n",
       " 'https://www.ergodotisi.com/JobDetails/148131/Louvias',\n",
       " 'https://www.ergodotisi.com/JobDetails/148130/Louvias',\n",
       " 'https://www.ergodotisi.com/JobDetails/148127/Private-Kindergarten-Play4kidz-LTD',\n",
       " 'https://www.ergodotisi.com/JobDetails/148128/Louvias',\n",
       " 'https://www.ergodotisi.com/JobDetails/147996/Margarita-Antoniou-Pharmacy-Ltd',\n",
       " 'https://www.ergodotisi.com/JobDetails/148126/CareerFinders-Recruitment-Services-Ltd',\n",
       " 'https://www.ergodotisi.com/JobDetails/148121/DANDA-CHARALAMBOUS-FOODSTUFF-SUPPLIERS-LTD',\n",
       " 'https://www.ergodotisi.com/JobDetails/148125/Demetriades-Group',\n",
       " 'https://www.ergodotisi.com/JobDetails/148007/LOUKOU-DONUTS-LTD',\n",
       " 'https://www.ergodotisi.com/JobDetails/148085/D-AND-Th-Toumba-Ltd',\n",
       " 'https://www.ergodotisi.com/JobDetails/148124/eBOS-Technologies-Ltd',\n",
       " 'https://www.ergodotisi.com/JobDetails/148123/Tixee',\n",
       " 'https://www.ergodotisi.com/JobDetails/148122/VOICI-LA-MODE-GROUP',\n",
       " 'https://www.ergodotisi.com/JobDetails/148119/KPMG',\n",
       " 'https://www.ergodotisi.com/JobDetails/148120/A.-Georgiou-Law-Office',\n",
       " 'https://www.ergodotisi.com/JobDetails/148078/MiVida-Ltd',\n",
       " 'https://www.ergodotisi.com/JobDetails/148117/Pari-Tech-(Cy)-Limited',\n",
       " 'https://www.ergodotisi.com/JobDetails/148118/Cyprus-Airports-(FANDB)-Ltd',\n",
       " 'https://www.ergodotisi.com/JobDetails/148062/Denickom-Enterprises-Ltd',\n",
       " 'https://www.ergodotisi.com/JobDetails/148115/Hobo-Mediterraneo-Cafe-AND-Restaurant',\n",
       " 'https://www.ergodotisi.com/JobDetails/148114/ServPRO-Accountants-AND-Business-Consultants-Ltd',\n",
       " 'https://www.ergodotisi.com/JobDetails/148116/Verde',\n",
       " 'https://www.ergodotisi.com/JobDetails/148112/DIMAGEO-LTD',\n",
       " 'https://www.ergodotisi.com/JobDetails/148109/KPMG',\n",
       " 'https://www.ergodotisi.com/JobDetails/148111/Remezzo',\n",
       " 'https://www.ergodotisi.com/JobDetails/148110/ServPRO-Accountants-AND-Business-Consultants-Ltd',\n",
       " 'https://www.ergodotisi.com/JobDetails/148113/Pralina',\n",
       " 'https://www.ergodotisi.com/JobDetails/148108/Remezzo',\n",
       " 'https://www.ergodotisi.com/JobDetails/148103/Kipriakon',\n",
       " 'https://www.ergodotisi.com/JobDetails/148106/Remezzo',\n",
       " 'https://www.ergodotisi.com/JobDetails/148107/Pralina',\n",
       " 'https://www.ergodotisi.com/JobDetails/148101/KPMG',\n",
       " 'https://www.ergodotisi.com/JobDetails/148105/Kipriakon',\n",
       " 'https://www.ergodotisi.com/JobDetails/148104/%CE%9F%CE%9C%CE%99%CE%9B%CE%9F%CE%A3-%CE%95%CE%A4%CE%91%CE%99%CE%A1%CE%95%CE%99%CE%A9%CE%9D-%CE%96%CE%9F%CE%A1%CE%A0%CE%91%CE%A3',\n",
       " 'https://www.ergodotisi.com/JobDetails/148100/Kipriakon',\n",
       " 'https://www.ergodotisi.com/JobDetails/148102/%CE%9F%CE%9C%CE%99%CE%9B%CE%9F%CE%A3-%CE%95%CE%A4%CE%91%CE%99%CE%A1%CE%95%CE%99%CE%A9%CE%9D-%CE%96%CE%9F%CE%A1%CE%A0%CE%91%CE%A3',\n",
       " 'https://www.ergodotisi.com/JobDetails/148097/PWC',\n",
       " 'https://www.ergodotisi.com/JobDetails/148099/%CE%9F%CE%9C%CE%99%CE%9B%CE%9F%CE%A3-%CE%95%CE%A4%CE%91%CE%99%CE%A1%CE%95%CE%99%CE%A9%CE%9D-%CE%96%CE%9F%CE%A1%CE%A0%CE%91%CE%A3',\n",
       " 'https://www.ergodotisi.com/JobDetails/148096/PWC',\n",
       " 'https://www.ergodotisi.com/JobDetails/148098/%CE%9F%CE%9C%CE%99%CE%9B%CE%9F%CE%A3-%CE%95%CE%A4%CE%91%CE%99%CE%A1%CE%95%CE%99%CE%A9%CE%9D-%CE%96%CE%9F%CE%A1%CE%A0%CE%91%CE%A3',\n",
       " 'https://www.ergodotisi.com/JobDetails/148095/%CE%9F%CE%9C%CE%99%CE%9B%CE%9F%CE%A3-%CE%95%CE%A4%CE%91%CE%99%CE%A1%CE%95%CE%99%CE%A9%CE%9D-%CE%96%CE%9F%CE%A1%CE%A0%CE%91%CE%A3',\n",
       " 'https://www.ergodotisi.com/JobDetails/148093/%CE%9F%CE%9C%CE%99%CE%9B%CE%9F%CE%A3-%CE%95%CE%A4%CE%91%CE%99%CE%A1%CE%95%CE%99%CE%A9%CE%9D-%CE%96%CE%9F%CE%A1%CE%A0%CE%91%CE%A3',\n",
       " 'https://www.ergodotisi.com/JobDetails/148092/GERASIMOS-CONSTRUCTIONS-LTD',\n",
       " 'https://www.ergodotisi.com/JobDetails/148091/K.Kolokasis-Telecom-Ltd',\n",
       " 'https://www.ergodotisi.com/JobDetails/148090/ENW-ENTERPRISE-NETWORK-LTD',\n",
       " 'https://www.ergodotisi.com/JobDetails/148089/G.S.Hadjiyiannis-Logistics-Ltd',\n",
       " 'https://www.ergodotisi.com/JobDetails/148088/%CE%91.-AND-%CE%91.-%CE%9A.-%CE%91%CE%99%CE%9C%CE%99%CE%9B%CE%99%CE%91%CE%9D%CE%99%CE%94%CE%97%CE%A3,-%CE%9A.-%CE%9A%CE%91%CE%A4%CE%A3%CE%91%CE%A1%CE%9F%CE%A3-AND-%CE%A3%CE%A5%CE%9D%CE%95%CE%A1%CE%93%CE%91%CE%A4%CE%95%CE%A3-%CE%94%CE%95%CE%A0%CE%95',\n",
       " 'https://www.ergodotisi.com/JobDetails/148087/Impact-Tech-Ltd',\n",
       " 'https://www.ergodotisi.com/JobDetails/148086/alfa-security',\n",
       " 'https://www.ergodotisi.com/JobDetails/148084/A.J-VOUROS-GROUP',\n",
       " 'https://www.ergodotisi.com/JobDetails/148083/SINGULARIS-INVESTMENTS-LTD',\n",
       " 'https://www.ergodotisi.com/JobDetails/147304/CARA-BOUTIQUE',\n",
       " 'https://www.ergodotisi.com/JobDetails/148082/VAKIS-ASSOCIATES',\n",
       " 'https://www.ergodotisi.com/JobDetails/148079/Tryfon-Tseriotis',\n",
       " 'https://www.ergodotisi.com/JobDetails/145106/Belka-Games-CY-LTD',\n",
       " 'https://www.ergodotisi.com/JobDetails/148074/G.S.-Europractices-Ltd',\n",
       " 'https://www.ergodotisi.com/JobDetails/148077/S.-STYLIANOU-MEDISUPPLIES-LTD',\n",
       " 'https://www.ergodotisi.com/JobDetails/148076/Domino-s-Pizza',\n",
       " 'https://www.ergodotisi.com/JobDetails/148073/Kpax-Marketing-Online-Ltd',\n",
       " 'https://www.ergodotisi.com/JobDetails/148075/Tryfon-Tseriotis',\n",
       " 'https://www.ergodotisi.com/JobDetails/148071/FINCAP-Advisers-Ltd',\n",
       " 'https://www.ergodotisi.com/JobDetails/148070/PROPERTY-BOX-CONSTRUCTIONS-LTD',\n",
       " 'https://www.ergodotisi.com/JobDetails/148068/ITC-PUBLICWORLD-LTD',\n",
       " 'https://www.ergodotisi.com/JobDetails/148066/RELIANS-CORPORATE-SERVICES',\n",
       " 'https://www.ergodotisi.com/JobDetails/148067/Mallouppas-And-Papacostas-Fashion-Ltd',\n",
       " 'https://www.ergodotisi.com/JobDetails/148065/%CE%A4%CE%AC%CE%BA%CE%B7%CF%82-%CE%96%CE%B1%CE%B2%CF%81%CE%AC%CE%BD%CF%84%CF%89%CE%BD%CE%B1%CF%82-AND-%CE%A5%CE%B9%CE%BF%CE%AF-%CE%9B%CE%A4%CE%94',\n",
       " 'https://www.ergodotisi.com/JobDetails/147663/%CE%91%CE%BB%CF%86%CF%81%CE%AD%CE%B4%CE%BF%CF%82-%CE%91.-%CE%94%CE%B9%CE%B1%CE%BD%CE%BF%CE%BC%CE%B5%CE%AF%CF%82-%CE%9B%CF%84%CE%B4',\n",
       " 'https://www.ergodotisi.com/JobDetails/148063/ITC-PUBLICWORLD-LTD',\n",
       " 'https://www.ergodotisi.com/JobDetails/148061/ITC-PUBLICWORLD-LTD',\n",
       " 'https://www.ergodotisi.com/JobDetails/148028/GEOMAST-ANTIFIRE-CO-LTD',\n",
       " 'https://www.ergodotisi.com/JobDetails/148064/Tsirides-Law',\n",
       " 'https://www.ergodotisi.com/JobDetails/148041/%CE%8C%CE%BC%CE%B9%CE%BB%CE%BF%CF%82-%CE%9C%CE%B1%CE%BB%CE%BB%CE%BF%CF%8D%CF%80%CF%80%CE%B1%CF%82-AND-%CE%A0%CE%B1%CF%80%CE%B1%CE%BA%CF%8E%CF%83%CF%84%CE%B1%CF%82',\n",
       " 'https://www.ergodotisi.com/JobDetails/148060/iCONSULT-Consulting-AND-Design-Engineers',\n",
       " 'https://www.ergodotisi.com/JobDetails/148059/DEMETRIOU-AND-ASSOCIATES-BUSINESS-ADVISERS-LTD',\n",
       " 'https://www.ergodotisi.com/JobDetails/148058/DEMETRIOU-AND-ASSOCIATES-BUSINESS-ADVISERS-LTD',\n",
       " 'https://www.ergodotisi.com/JobDetails/147371/BLUE-ISLAND-PLC',\n",
       " 'https://www.ergodotisi.com/JobDetails/148057/CareerFinders-Recruitment-Services-Ltd',\n",
       " 'https://www.ergodotisi.com/JobDetails/148056/CareerFinders-Recruitment-Services-Ltd',\n",
       " 'https://www.ergodotisi.com/JobDetails/148055/CareerFinders-Recruitment-Services-Ltd',\n",
       " 'https://www.ergodotisi.com/JobDetails/148054/ITC-PUBLICWORLD-LTD',\n",
       " 'https://www.ergodotisi.com/JobDetails/148053/XCH-Business-Solution-Ltd',\n",
       " 'https://www.ergodotisi.com/JobDetails/148047/Greson-Tools-LTD',\n",
       " 'https://www.ergodotisi.com/JobDetails/148052/CareerFinders-Recruitment-Services-Ltd',\n",
       " 'https://www.ergodotisi.com/JobDetails/148051/CareerFinders-Recruitment-Services-Ltd',\n",
       " 'https://www.ergodotisi.com/JobDetails/148048/CareerFinders-Recruitment-Services-Ltd',\n",
       " 'https://www.ergodotisi.com/JobDetails/148050/MGR-Human-Resources-Ltd',\n",
       " 'https://www.ergodotisi.com/JobDetails/148046/MGR-Human-Resources-Ltd',\n",
       " 'https://www.ergodotisi.com/JobDetails/148045/%CE%8C%CE%BC%CE%B9%CE%BB%CE%BF%CF%82-%CE%9C%CE%B1%CE%BB%CE%BB%CE%BF%CF%8D%CF%80%CF%80%CE%B1%CF%82-AND-%CE%A0%CE%B1%CF%80%CE%B1%CE%BA%CF%8E%CF%83%CF%84%CE%B1%CF%82',\n",
       " 'https://www.ergodotisi.com/JobDetails/148042/CareerFinders-Recruitment-Services-Ltd',\n",
       " 'https://www.ergodotisi.com/JobDetails/148049/Landas-Colour',\n",
       " 'https://www.ergodotisi.com/JobDetails/148044/CareerFinders-Recruitment-Services-Ltd',\n",
       " 'https://www.ergodotisi.com/JobDetails/148043/MGR-Human-Resources-Ltd',\n",
       " 'https://www.ergodotisi.com/JobDetails/148040/KIK-TRADING-LTD',\n",
       " 'https://www.ergodotisi.com/JobDetails/147823/Thanos-Hotels',\n",
       " 'https://www.ergodotisi.com/JobDetails/148039/%CE%8C%CE%BC%CE%B9%CE%BB%CE%BF%CF%82-%CE%9C%CE%B1%CE%BB%CE%BB%CE%BF%CF%8D%CF%80%CF%80%CE%B1%CF%82-AND-%CE%A0%CE%B1%CF%80%CE%B1%CE%BA%CF%8E%CF%83%CF%84%CE%B1%CF%82',\n",
       " 'https://www.ergodotisi.com/JobDetails/147343/Prestige-barber-AND-spa',\n",
       " 'https://www.ergodotisi.com/JobDetails/148038/Rescueline-Auto-Services',\n",
       " 'https://www.ergodotisi.com/JobDetails/148037/Human-Asset-Ltd',\n",
       " 'https://www.ergodotisi.com/JobDetails/148035/Human-Asset-Ltd',\n",
       " 'https://www.ergodotisi.com/JobDetails/148036/Hawaii-Hotels-ltd',\n",
       " 'https://www.ergodotisi.com/JobDetails/148034/Vassos-Eliades-Ltd',\n",
       " 'https://www.ergodotisi.com/JobDetails/148033/Phaedrus-Asset-Management-Ltd',\n",
       " 'https://www.ergodotisi.com/JobDetails/148032/Libertex',\n",
       " 'https://www.ergodotisi.com/JobDetails/148031/Vassos-Eliades-Ltd',\n",
       " 'https://www.ergodotisi.com/JobDetails/148014/LOUKOU-DONUTS-LTD',\n",
       " 'https://www.ergodotisi.com/JobDetails/147856/%CE%A4%CE%AC%CE%BA%CE%B7%CF%82-%CE%96%CE%B1%CE%B2%CF%81%CE%AC%CE%BD%CF%84%CF%89%CE%BD%CE%B1%CF%82-AND-%CE%A5%CE%B9%CE%BF%CE%AF-%CE%9B%CE%A4%CE%94',\n",
       " 'https://www.ergodotisi.com/JobDetails/148029/Global-HR-Solutions-(GHRS)-Limited',\n",
       " 'https://www.ergodotisi.com/JobDetails/148012/LOUKOU-DONUTS-LTD',\n",
       " 'https://www.ergodotisi.com/JobDetails/148010/LOUKOU-DONUTS-LTD',\n",
       " 'https://www.ergodotisi.com/JobDetails/148030/Flying-Tiger-Cyprus',\n",
       " 'https://www.ergodotisi.com/JobDetails/148025/Logicom-Public-Ltd',\n",
       " 'https://www.ergodotisi.com/JobDetails/148022/LOUKOU-DONUTS-LTD',\n",
       " 'https://www.ergodotisi.com/JobDetails/147973/Big-Triangle',\n",
       " 'https://www.ergodotisi.com/JobDetails/147963/IBIT-Ltd',\n",
       " 'https://www.ergodotisi.com/JobDetails/147990/%CE%9A%CF%81%CF%85%CF%86%CF%8C-%CE%A3%CF%87%CE%BF%CE%BB%CE%B5%CE%AF%CE%BF',\n",
       " 'https://www.ergodotisi.com/JobDetails/148026/Cosmopolis-multi-venue',\n",
       " 'https://www.ergodotisi.com/JobDetails/147991/Aldente-(Mall)-Larnaca',\n",
       " 'https://www.ergodotisi.com/JobDetails/147988/Aldente-(Mall)-Larnaca',\n",
       " 'https://www.ergodotisi.com/JobDetails/147983/Coffee-Corner',\n",
       " 'https://www.ergodotisi.com/JobDetails/147987/Aldente-(Mall)-Larnaca',\n",
       " 'https://www.ergodotisi.com/JobDetails/147986/%CE%A4%CE%BF-%CE%91%CF%81%CF%87%CE%BF%CE%BD%CF%84%CE%B9%CE%BA%CF%8C%CE%BD',\n",
       " 'https://www.ergodotisi.com/JobDetails/147982/Coffee-Corner',\n",
       " 'https://www.ergodotisi.com/JobDetails/147985/%CE%A4%CE%BF-%CE%91%CF%81%CF%87%CE%BF%CE%BD%CF%84%CE%B9%CE%BA%CF%8C%CE%BD',\n",
       " 'https://www.ergodotisi.com/JobDetails/147999/Arundina-Cafe-Ltd',\n",
       " 'https://www.ergodotisi.com/JobDetails/147970/c.c.viva-tavern-ltd',\n",
       " 'https://www.ergodotisi.com/JobDetails/147980/ActServ-Limited',\n",
       " 'https://www.ergodotisi.com/JobDetails/147989/Aldente-(Mall)-Larnaca',\n",
       " 'https://www.ergodotisi.com/JobDetails/147969/THE-BEST-MCC',\n",
       " 'https://www.ergodotisi.com/JobDetails/147979/ActServ-Limited',\n",
       " 'https://www.ergodotisi.com/JobDetails/147992/Aldente-(Mall)-Larnaca',\n",
       " 'https://www.ergodotisi.com/JobDetails/147981/N.K-FOOD-AND-MORE-LTD',\n",
       " 'https://www.ergodotisi.com/JobDetails/147993/PROAVLIO',\n",
       " 'https://www.ergodotisi.com/JobDetails/147968/THE-BEST-MCC',\n",
       " 'https://www.ergodotisi.com/JobDetails/147967/TLM-OPERATIONS-LTD',\n",
       " 'https://www.ergodotisi.com/JobDetails/147976/MEDSkinCY',\n",
       " 'https://www.ergodotisi.com/JobDetails/147977/Home-AND-Wood-Home-Improvement-Store',\n",
       " 'https://www.ergodotisi.com/JobDetails/147975/Maqam-Al-Sultan',\n",
       " 'https://www.ergodotisi.com/JobDetails/147995/COSMEA-GARDENS-LTD',\n",
       " 'https://www.ergodotisi.com/JobDetails/147966/Lekkeran-Car-Hire-LTD',\n",
       " 'https://www.ergodotisi.com/JobDetails/148017/LOUKOU-DONUTS-LTD',\n",
       " 'https://www.ergodotisi.com/JobDetails/147997/Adonis-Business-Academy',\n",
       " 'https://www.ergodotisi.com/JobDetails/147984/%CE%A4%CE%BF-%CE%91%CF%81%CF%87%CE%BF%CE%BD%CF%84%CE%B9%CE%BA%CF%8C%CE%BD',\n",
       " 'https://www.ergodotisi.com/JobDetails/147998/%CE%99%CE%94%CE%99%CE%A9%CE%A4%CE%99%CE%9A%CE%9F-%CE%A6%CE%A1%CE%9F%CE%9D%CE%A4%CE%99%CE%A3%CE%A4%CE%97%CE%A1%CE%99%CE%9F-%22%CE%9B%CE%95%CE%9E%CE%99%CE%9F%22',\n",
       " 'https://www.ergodotisi.com/JobDetails/147974/PIPIS-HOTELS-LTD',\n",
       " 'https://www.ergodotisi.com/JobDetails/147964/Private-Institute-Learning-Tree',\n",
       " 'https://www.ergodotisi.com/JobDetails/148021/visalenco-ltd',\n",
       " 'https://www.ergodotisi.com/JobDetails/148013/Constantinou-Bros-Group-of-Companies',\n",
       " 'https://www.ergodotisi.com/JobDetails/148004/CREPA-CREPA',\n",
       " 'https://www.ergodotisi.com/JobDetails/147517/Ocean-Basket-Franchise-Ltd',\n",
       " 'https://www.ergodotisi.com/JobDetails/147510/Nexia-Poyiadjis',\n",
       " 'https://www.ergodotisi.com/JobDetails/147965/Private-Institute-Learning-Tree',\n",
       " 'https://www.ergodotisi.com/JobDetails/147627/CORSO-ITALIA-GROUP',\n",
       " 'https://www.ergodotisi.com/JobDetails/147933/NAVARGAL-INVESTMENTS-LTD',\n",
       " 'https://www.ergodotisi.com/JobDetails/147950/Artificial-Intelligence-Lab---University-of-Nicosia',\n",
       " 'https://www.ergodotisi.com/JobDetails/147994/Vassos-Christoforou-LTD',\n",
       " 'https://www.ergodotisi.com/JobDetails/147960/DIMAGEO-LTD',\n",
       " 'https://www.ergodotisi.com/JobDetails/147959/Eagle-Watch-Security-Services-Ltd',\n",
       " 'https://www.ergodotisi.com/JobDetails/147961/C.D.-YIANGOU-PHARMACY-LTD',\n",
       " 'https://www.ergodotisi.com/JobDetails/147955/Burger-King',\n",
       " 'https://www.ergodotisi.com/JobDetails/147954/Burger-King',\n",
       " 'https://www.ergodotisi.com/JobDetails/147947/Melco-Resorts-AND-Entertainment',\n",
       " 'https://www.ergodotisi.com/JobDetails/147944/Melco-Resorts-AND-Entertainment',\n",
       " 'https://www.ergodotisi.com/JobDetails/147942/RED-HR-Solutions',\n",
       " 'https://www.ergodotisi.com/JobDetails/147931/Sveltos-Estates-Ltd-(The-Ciao-Stelio-Deluxe-Hotel)',\n",
       " 'https://www.ergodotisi.com/JobDetails/147949/RED-HR-Solutions',\n",
       " 'https://www.ergodotisi.com/JobDetails/147957/Sophia-Trading-Ltd',\n",
       " 'https://www.ergodotisi.com/JobDetails/147945/Melco-Resorts-AND-Entertainment',\n",
       " 'https://www.ergodotisi.com/JobDetails/147958/COFFEEBREAK-BOUGATSA-AND-KAFES-ATHALASSAS',\n",
       " 'https://www.ergodotisi.com/JobDetails/147939/RED-HR-Solutions',\n",
       " 'https://www.ergodotisi.com/JobDetails/147838/ELECTRON-TRUST-LTD',\n",
       " 'https://www.ergodotisi.com/JobDetails/147956/Doctor-A.S',\n",
       " 'https://www.ergodotisi.com/JobDetails/147926/Stoa-Urban-Kitchen',\n",
       " 'https://www.ergodotisi.com/JobDetails/147923/RETAL-CYPRUS-LTD',\n",
       " 'https://www.ergodotisi.com/JobDetails/147922/VIAGOLD-Ltd',\n",
       " 'https://www.ergodotisi.com/JobDetails/147941/Sveltos-Estates-ltd-(Sveltos-Hotel)',\n",
       " 'https://www.ergodotisi.com/JobDetails/147953/%CE%9A%CF%85%CE%B2%CE%B5%CF%81%CE%BD%CE%B7%CF%84%CE%B9%CE%BA%CE%AD%CF%82-%CE%98%CE%AD%CF%83%CE%B5%CE%B9%CF%82-%CE%B5%CF%81%CE%B3%CE%B1%CF%83%CE%AF%CE%B1%CF%82',\n",
       " 'https://www.ergodotisi.com/JobDetails/147940/ROOM1219-ltd',\n",
       " 'https://www.ergodotisi.com/JobDetails/147952/%CE%9A%CF%85%CE%B2%CE%B5%CF%81%CE%BD%CE%B7%CF%84%CE%B9%CE%BA%CE%AD%CF%82-%CE%98%CE%AD%CF%83%CE%B5%CE%B9%CF%82-%CE%B5%CF%81%CE%B3%CE%B1%CF%83%CE%AF%CE%B1%CF%82',\n",
       " 'https://www.ergodotisi.com/JobDetails/147951/%CE%9A%CF%85%CE%B2%CE%B5%CF%81%CE%BD%CE%B7%CF%84%CE%B9%CE%BA%CE%AD%CF%82-%CE%98%CE%AD%CF%83%CE%B5%CE%B9%CF%82-%CE%B5%CF%81%CE%B3%CE%B1%CF%83%CE%AF%CE%B1%CF%82',\n",
       " 'https://www.ergodotisi.com/JobDetails/147920/D-AND-Th-Toumba-Ltd',\n",
       " 'https://www.ergodotisi.com/JobDetails/147915/XM',\n",
       " 'https://www.ergodotisi.com/JobDetails/147927/E.M.P-Restaurants-Ltd',\n",
       " 'https://www.ergodotisi.com/JobDetails/147943/XM',\n",
       " 'https://www.ergodotisi.com/JobDetails/147919/Uniteam-Recruitment-Services',\n",
       " 'https://www.ergodotisi.com/JobDetails/147934/iRepair-Cyprus-Ltd',\n",
       " 'https://www.ergodotisi.com/JobDetails/147918/Uniteam-Recruitment-Services',\n",
       " 'https://www.ergodotisi.com/JobDetails/147916/Mouaimis-AND-Mouaimis-LLC',\n",
       " 'https://www.ergodotisi.com/JobDetails/147948/The-Cyprus-Institute-of-Marketing-(CIM)',\n",
       " 'https://www.ergodotisi.com/JobDetails/147917/FXVC-Online-Trading',\n",
       " 'https://www.ergodotisi.com/JobDetails/147946/%CE%9A%CF%85%CE%B2%CE%B5%CF%81%CE%BD%CE%B7%CF%84%CE%B9%CE%BA%CE%AD%CF%82-%CE%98%CE%AD%CF%83%CE%B5%CE%B9%CF%82-%CE%B5%CF%81%CE%B3%CE%B1%CF%83%CE%AF%CE%B1%CF%82',\n",
       " 'https://www.ergodotisi.com/JobDetails/147936/ZFN-EUROPE-LTD',\n",
       " 'https://www.ergodotisi.com/JobDetails/147938/ZFN-EUROPE-LTD',\n",
       " 'https://www.ergodotisi.com/JobDetails/147937/ZFN-EUROPE-LTD',\n",
       " 'https://www.ergodotisi.com/JobDetails/147935/ZFN-EUROPE-LTD',\n",
       " 'https://www.ergodotisi.com/JobDetails/147932/%CE%9A%CF%85%CE%B2%CE%B5%CF%81%CE%BD%CE%B7%CF%84%CE%B9%CE%BA%CE%AD%CF%82-%CE%98%CE%AD%CF%83%CE%B5%CE%B9%CF%82-%CE%B5%CF%81%CE%B3%CE%B1%CF%83%CE%AF%CE%B1%CF%82',\n",
       " 'https://www.ergodotisi.com/JobDetails/147928/%CE%9A%CF%85%CE%B2%CE%B5%CF%81%CE%BD%CE%B7%CF%84%CE%B9%CE%BA%CE%AD%CF%82-%CE%98%CE%AD%CF%83%CE%B5%CE%B9%CF%82-%CE%B5%CF%81%CE%B3%CE%B1%CF%83%CE%AF%CE%B1%CF%82',\n",
       " 'https://www.ergodotisi.com/JobDetails/147925/%CE%9A%CF%85%CE%B2%CE%B5%CF%81%CE%BD%CE%B7%CF%84%CE%B9%CE%BA%CE%AD%CF%82-%CE%98%CE%AD%CF%83%CE%B5%CE%B9%CF%82-%CE%B5%CF%81%CE%B3%CE%B1%CF%83%CE%AF%CE%B1%CF%82',\n",
       " 'https://www.ergodotisi.com/JobDetails/147924/%CE%9A%CF%85%CE%B2%CE%B5%CF%81%CE%BD%CE%B7%CF%84%CE%B9%CE%BA%CE%AD%CF%82-%CE%98%CE%AD%CF%83%CE%B5%CE%B9%CF%82-%CE%B5%CF%81%CE%B3%CE%B1%CF%83%CE%AF%CE%B1%CF%82',\n",
       " 'https://www.ergodotisi.com/JobDetails/147735/Casa-College',\n",
       " 'https://www.ergodotisi.com/JobDetails/147906/D-WAY-LTD',\n",
       " 'https://www.ergodotisi.com/JobDetails/147921/%CE%9A%CF%85%CE%B2%CE%B5%CF%81%CE%BD%CE%B7%CF%84%CE%B9%CE%BA%CE%AD%CF%82-%CE%98%CE%AD%CF%83%CE%B5%CE%B9%CF%82-%CE%B5%CF%81%CE%B3%CE%B1%CF%83%CE%AF%CE%B1%CF%82',\n",
       " 'https://www.ergodotisi.com/JobDetails/147914/ROOM1219-ltd',\n",
       " 'https://www.ergodotisi.com/JobDetails/147913/Thanos-Hotels',\n",
       " 'https://www.ergodotisi.com/JobDetails/147912/GLOBALSERVE',\n",
       " 'https://www.ergodotisi.com/JobDetails/147910/IQ-Option-Europe-Ltd',\n",
       " 'https://www.ergodotisi.com/JobDetails/147909/Huawei-Technologies-(Cyprus)-Co-Ltd',\n",
       " 'https://www.ergodotisi.com/JobDetails/147908/Alvexo',\n",
       " 'https://www.ergodotisi.com/JobDetails/147907/Lapieto-Ltd',\n",
       " 'https://www.ergodotisi.com/JobDetails/147905/Lapieto-Ltd',\n",
       " 'https://www.ergodotisi.com/JobDetails/147904/D-WAY-LTD',\n",
       " 'https://www.ergodotisi.com/JobDetails/147903/Airtrans-Group-Ltd',\n",
       " 'https://www.ergodotisi.com/JobDetails/147902/XM',\n",
       " 'https://www.ergodotisi.com/JobDetails/147901/XM',\n",
       " 'https://www.ergodotisi.com/JobDetails/147900/XM',\n",
       " 'https://www.ergodotisi.com/JobDetails/147899/XM',\n",
       " 'https://www.ergodotisi.com/JobDetails/147898/XM',\n",
       " 'https://www.ergodotisi.com/JobDetails/147897/XM',\n",
       " 'https://www.ergodotisi.com/JobDetails/147895/Parklane,-a-Luxury-Collection-Resort-AND-Spa',\n",
       " 'https://www.ergodotisi.com/JobDetails/147893/MGR-Human-Resources-Ltd',\n",
       " 'https://www.ergodotisi.com/JobDetails/147894/Deriv-Operations-(Cyprus)-Ltd',\n",
       " 'https://www.ergodotisi.com/JobDetails/147892/Qiiwi-Games-AB',\n",
       " 'https://www.ergodotisi.com/JobDetails/147896/Sophia-Trading-Ltd',\n",
       " 'https://www.ergodotisi.com/JobDetails/147891/ARETI-CHARIDEMOU-ASSOCIATES-LLC',\n",
       " 'https://www.ergodotisi.com/JobDetails/147876/%CE%93%CE%A5%CE%9C%CE%9D%CE%91%CE%A3%CE%99%CE%9F---%CE%9B%CE%A5%CE%9A%CE%95%CE%99%CE%9F-%CE%9F%CE%9B%CE%A5%CE%9C%CE%A0%CE%99%CE%9F%CE%9D',\n",
       " 'https://www.ergodotisi.com/JobDetails/147875/%CE%93%CE%A5%CE%9C%CE%9D%CE%91%CE%A3%CE%99%CE%9F---%CE%9B%CE%A5%CE%9A%CE%95%CE%99%CE%9F-%CE%9F%CE%9B%CE%A5%CE%9C%CE%A0%CE%99%CE%9F%CE%9D',\n",
       " 'https://www.ergodotisi.com/JobDetails/147854/Elma-AND-Fred',\n",
       " 'https://www.ergodotisi.com/JobDetails/147874/Dosear-Limited',\n",
       " 'https://www.ergodotisi.com/JobDetails/147877/Exinity',\n",
       " 'https://www.ergodotisi.com/JobDetails/147777/%CE%A6%CF%85%CF%83%CE%B9%CE%BA%CF%8C-%CE%A0%CF%81%CF%8C%CF%83%CF%89%CF%80%CE%BF-%CE%93.%CE%A0',\n",
       " 'https://www.ergodotisi.com/JobDetails/147825/CYENS',\n",
       " 'https://www.ergodotisi.com/JobDetails/147857/MGR-Human-Resources-Ltd',\n",
       " 'https://www.ergodotisi.com/JobDetails/147884/Leroy-Merlin',\n",
       " 'https://www.ergodotisi.com/JobDetails/147880/Leroy-Merlin',\n",
       " 'https://www.ergodotisi.com/JobDetails/147344/diktio.cy',\n",
       " 'https://www.ergodotisi.com/JobDetails/147887/Parklane,-a-Luxury-Collection-Resort-AND-Spa',\n",
       " 'https://www.ergodotisi.com/JobDetails/147878/P.-PIERIDES-AND-SONS-LTD',\n",
       " 'https://www.ergodotisi.com/JobDetails/147882/Leroy-Merlin',\n",
       " 'https://www.ergodotisi.com/JobDetails/147873/Terrain-Emirah-Property-Advisory',\n",
       " 'https://www.ergodotisi.com/JobDetails/147879/M.K.MITSINGAS-LTD',\n",
       " 'https://www.ergodotisi.com/JobDetails/147670/Happy-Valley-Veterinary-clinic-Pet-Hotel',\n",
       " 'https://www.ergodotisi.com/JobDetails/147840/StaffMatters-Recruitment-Specialists',\n",
       " 'https://www.ergodotisi.com/JobDetails/147827/Anaglyfo-Consulting-Ltd',\n",
       " 'https://www.ergodotisi.com/JobDetails/147806/Matriarch-Training-AND-Consultancy-Care-Services-Cyprus-Limited',\n",
       " 'https://www.ergodotisi.com/JobDetails/145130/Lekkeran-Car-Hire-LTD',\n",
       " 'https://www.ergodotisi.com/JobDetails/147846/iSX-Financial-EU-Ltd',\n",
       " 'https://www.ergodotisi.com/JobDetails/147851/Louis-Hotels',\n",
       " 'https://www.ergodotisi.com/JobDetails/147828/BridgerPay',\n",
       " 'https://www.ergodotisi.com/JobDetails/147871/impress-Tech-Ltd',\n",
       " 'https://www.ergodotisi.com/JobDetails/147848/Best-Value-Discount-Stores',\n",
       " 'https://www.ergodotisi.com/JobDetails/147845/TheSoul-Publishing',\n",
       " 'https://www.ergodotisi.com/JobDetails/147872/Sigma-Bakeries-Ltd',\n",
       " 'https://www.ergodotisi.com/JobDetails/147843/TheSoul-Publishing',\n",
       " 'https://www.ergodotisi.com/JobDetails/147852/RED-HR-Solutions',\n",
       " 'https://www.ergodotisi.com/JobDetails/147842/marcus-evans',\n",
       " 'https://www.ergodotisi.com/JobDetails/147841/iTrade-Global-(CY)--Ltd',\n",
       " 'https://www.ergodotisi.com/JobDetails/147839/KPMG-LIMITED',\n",
       " 'https://www.ergodotisi.com/JobDetails/147832/PeopleFirst-Ltd',\n",
       " 'https://www.ergodotisi.com/JobDetails/147844/TheSoul-Publishing',\n",
       " 'https://www.ergodotisi.com/JobDetails/147858/AGP-COFFEE-BLENDS-LTD',\n",
       " 'https://www.ergodotisi.com/JobDetails/147850/RED-HR-Solutions',\n",
       " 'https://www.ergodotisi.com/JobDetails/147849/iSX-Financial-EU-Ltd',\n",
       " 'https://www.ergodotisi.com/JobDetails/147870/Spectech-Talent-Solutions-Ltd',\n",
       " 'https://www.ergodotisi.com/JobDetails/147829/M-AND-G-Kitchen-Studio-Ltd',\n",
       " 'https://www.ergodotisi.com/JobDetails/147869/Spectech-Talent-Solutions-Ltd',\n",
       " 'https://www.ergodotisi.com/JobDetails/147868/Spectech-Talent-Solutions-Ltd',\n",
       " 'https://www.ergodotisi.com/JobDetails/147867/Spectech-Talent-Solutions-Ltd',\n",
       " 'https://www.ergodotisi.com/JobDetails/147866/Spectech-Talent-Solutions-Ltd',\n",
       " 'https://www.ergodotisi.com/JobDetails/147830/DIAPO-LTD',\n",
       " 'https://www.ergodotisi.com/JobDetails/147865/Spectech-Talent-Solutions-Ltd',\n",
       " 'https://www.ergodotisi.com/JobDetails/147864/Spectech-Talent-Solutions-Ltd',\n",
       " 'https://www.ergodotisi.com/JobDetails/147863/Spectech-Talent-Solutions-Ltd',\n",
       " 'https://www.ergodotisi.com/JobDetails/147862/Spectech-Talent-Solutions-Ltd',\n",
       " 'https://www.ergodotisi.com/JobDetails/147861/Spectech-Talent-Solutions-Ltd',\n",
       " 'https://www.ergodotisi.com/JobDetails/147860/Spectech-Talent-Solutions-Ltd',\n",
       " 'https://www.ergodotisi.com/JobDetails/147859/Spectech-Talent-Solutions-Ltd',\n",
       " 'https://www.ergodotisi.com/JobDetails/145120/wilton-cyprus-patisserie-ltd',\n",
       " 'https://www.ergodotisi.com/JobDetails/147855/%CE%99%CE%94%CE%A1%CE%A5%CE%9C%CE%91-%CE%91%CE%93%CE%99%CE%9F%CE%A3-%CE%A3%CE%A4%CE%95%CE%A6%CE%91%CE%9D%CE%9F%CE%A3',\n",
       " 'https://www.ergodotisi.com/JobDetails/147772/Ernst-and-Young-Cyprus-Ltd',\n",
       " 'https://www.ergodotisi.com/JobDetails/147771/Ernst-and-Young-Cyprus-Ltd',\n",
       " 'https://www.ergodotisi.com/JobDetails/147770/Ernst-and-Young-Cyprus-Ltd',\n",
       " 'https://www.ergodotisi.com/JobDetails/147437/The-Mighty-Kitchen',\n",
       " 'https://www.ergodotisi.com/JobDetails/147831/SKASH-LTD',\n",
       " 'https://www.ergodotisi.com/JobDetails/147847/Best-Value-Discount-Stores',\n",
       " 'https://www.ergodotisi.com/JobDetails/147835/Louis-Hotels',\n",
       " 'https://www.ergodotisi.com/JobDetails/147775/Maria-Chara-Jewelry',\n",
       " 'https://www.ergodotisi.com/JobDetails/147836/SEMELI-HOTEL',\n",
       " 'https://www.ergodotisi.com/JobDetails/147672/S.L-HealthFeeling-Ltd',\n",
       " 'https://www.ergodotisi.com/JobDetails/147511/marcus-evans',\n",
       " 'https://www.ergodotisi.com/JobDetails/147784/Three-Fam',\n",
       " 'https://www.ergodotisi.com/JobDetails/147785/%CE%A0%CE%B1%CE%BE%CE%B9%CE%BC%CE%AC%CE%B4%CE%B9%CE%B1-%CE%88%CE%BB%CE%B5%CE%BD%CE%B1-%CE%9B%CF%84%CE%B4',\n",
       " 'https://www.ergodotisi.com/JobDetails/147769/TwentyTwenty',\n",
       " 'https://www.ergodotisi.com/JobDetails/147768/TheSoul-Publishing',\n",
       " 'https://www.ergodotisi.com/JobDetails/147754/SABBIA-LIMITED',\n",
       " 'https://www.ergodotisi.com/JobDetails/147767/Taco-Bell',\n",
       " 'https://www.ergodotisi.com/JobDetails/147766/Taco-Bell',\n",
       " 'https://www.ergodotisi.com/JobDetails/147752/SABBIA-LIMITED',\n",
       " 'https://www.ergodotisi.com/JobDetails/147765/Enterisland-Ltd',\n",
       " 'https://www.ergodotisi.com/JobDetails/147834/CareerFinders-Recruitment-Services-Ltd',\n",
       " 'https://www.ergodotisi.com/JobDetails/147762/Equa-Media-ltd',\n",
       " 'https://www.ergodotisi.com/JobDetails/147837/CLOCK-CAFE',\n",
       " 'https://www.ergodotisi.com/JobDetails/147833/Brainrocket',\n",
       " 'https://www.ergodotisi.com/JobDetails/147751/SABBIA-LIMITED',\n",
       " 'https://www.ergodotisi.com/JobDetails/147757/PREVENTION-AT-SEA-LTD',\n",
       " 'https://www.ergodotisi.com/JobDetails/147756/Gruppo-Casa',\n",
       " 'https://www.ergodotisi.com/JobDetails/147643/Sveltos-Estates-ltd-(Sveltos-Hotel)',\n",
       " 'https://www.ergodotisi.com/JobDetails/147753/Amazing-Apps',\n",
       " 'https://www.ergodotisi.com/JobDetails/147749/Amazing-Apps',\n",
       " 'https://www.ergodotisi.com/JobDetails/147748/APLA-E-COMMERCE-LIMITED',\n",
       " 'https://www.ergodotisi.com/JobDetails/147747/FREEGREE-LTD',\n",
       " 'https://www.ergodotisi.com/JobDetails/147746/Amazing-Apps',\n",
       " 'https://www.ergodotisi.com/JobDetails/147744/APLA-E-COMMERCE-LIMITED',\n",
       " 'https://www.ergodotisi.com/JobDetails/147736/Hellenic-Tzilalis-(Cyprus)-Ltd',\n",
       " 'https://www.ergodotisi.com/JobDetails/147399/Golden-Brands-Trading-Cyprus-Ltd',\n",
       " 'https://www.ergodotisi.com/JobDetails/147562/G.S.-CASHLINE-LTD',\n",
       " 'https://www.ergodotisi.com/JobDetails/147732/VOICI-LA-MODE-GROUP',\n",
       " 'https://www.ergodotisi.com/JobDetails/147729/VOICI-LA-MODE-GROUP',\n",
       " 'https://www.ergodotisi.com/JobDetails/147726/Tsirides-Law',\n",
       " 'https://www.ergodotisi.com/JobDetails/147723/Lagrome-Trading-LTD',\n",
       " 'https://www.ergodotisi.com/JobDetails/147720/Thanos-Hotels',\n",
       " 'https://www.ergodotisi.com/JobDetails/147719/Thanos-Hotels',\n",
       " 'https://www.ergodotisi.com/JobDetails/147778/%CE%99%CE%B4%CE%B9%CF%89%CF%84%CE%B9%CE%BA%CE%AC-%CF%86%CF%81%CE%BF%CE%BD%CF%84%CE%B9%CF%83%CF%84%CE%AE%CF%81%CE%B9%CE%B1-%CE%91%CE%99%CE%A7%CE%9C%CE%97-%CE%9B%CF%84%CE%B4',\n",
       " 'https://www.ergodotisi.com/JobDetails/147718/Thanos-Hotels',\n",
       " 'https://www.ergodotisi.com/JobDetails/147716/Thanos-Hotels',\n",
       " 'https://www.ergodotisi.com/JobDetails/147715/Thanos-Hotels',\n",
       " 'https://www.ergodotisi.com/JobDetails/147710/Go-Education-Private-Institute',\n",
       " 'https://www.ergodotisi.com/JobDetails/147326/Bellagio-Home-AND-Garden',\n",
       " 'https://www.ergodotisi.com/JobDetails/147708/Go-Education-Private-Institute',\n",
       " 'https://www.ergodotisi.com/JobDetails/147671/Happy-Valley-Veterinary-clinic-Pet-Hotel',\n",
       " 'https://www.ergodotisi.com/JobDetails/147706/SAVVIDES-INSTITUTE',\n",
       " 'https://www.ergodotisi.com/JobDetails/147647/Sveltos-Estates-Ltd-(The-Ciao-Stelio-Deluxe-Hotel)',\n",
       " 'https://www.ergodotisi.com/JobDetails/147704/M.P.-MICHAELIDES-INSURANCE-AGENT-AND-CONSULTANTS',\n",
       " 'https://www.ergodotisi.com/JobDetails/147334/INFOCREDIT-SPV',\n",
       " 'https://www.ergodotisi.com/JobDetails/147773/iTrade-Global-(CY)--Ltd',\n",
       " 'https://www.ergodotisi.com/JobDetails/147774/iTrade-Global-(CY)--Ltd',\n",
       " 'https://www.ergodotisi.com/JobDetails/147810/iSX-Financial-EU-Ltd',\n",
       " 'https://www.ergodotisi.com/JobDetails/147826/Royal-Pine-AND-Associates',\n",
       " 'https://www.ergodotisi.com/JobDetails/147779/%CE%99%CE%B4%CE%B9%CF%89%CF%84%CE%B9%CE%BA%CE%AC-%CF%86%CF%81%CE%BF%CE%BD%CF%84%CE%B9%CF%83%CF%84%CE%AE%CF%81%CE%B9%CE%B1-%CE%91%CE%99%CE%A7%CE%9C%CE%97-%CE%9B%CF%84%CE%B4',\n",
       " 'https://www.ergodotisi.com/JobDetails/147783/Manpower-Cyprus',\n",
       " 'https://www.ergodotisi.com/JobDetails/147782/Manpower-Cyprus',\n",
       " 'https://www.ergodotisi.com/JobDetails/147780/G.A.P.-Vassilopoulos-Group',\n",
       " 'https://www.ergodotisi.com/JobDetails/147742/BB-Media',\n",
       " 'https://www.ergodotisi.com/JobDetails/147709/CareerFinders-Recruitment-Services-Ltd',\n",
       " 'https://www.ergodotisi.com/JobDetails/147811/CareerFinders-Recruitment-Services-Ltd',\n",
       " 'https://www.ergodotisi.com/JobDetails/147813/CareerFinders-Recruitment-Services-Ltd',\n",
       " 'https://www.ergodotisi.com/JobDetails/147824/Topomaster-Ltd',\n",
       " 'https://www.ergodotisi.com/JobDetails/147807/KIMAGRO-FISHFARMING-LTD',\n",
       " 'https://www.ergodotisi.com/JobDetails/147401/StaffMatters-Recruitment-Specialists',\n",
       " 'https://www.ergodotisi.com/JobDetails/147822/Albourne-Partners-(Cyprus)-Ltd',\n",
       " 'https://www.ergodotisi.com/JobDetails/147821/Albourne-Partners-(Cyprus)-Ltd',\n",
       " 'https://www.ergodotisi.com/JobDetails/147820/Albourne-Partners-(Cyprus)-Ltd',\n",
       " 'https://www.ergodotisi.com/JobDetails/147781/Manpower-Cyprus',\n",
       " 'https://www.ergodotisi.com/JobDetails/147819/Albourne-Partners-(Cyprus)-Ltd',\n",
       " 'https://www.ergodotisi.com/JobDetails/147818/Albourne-Partners-(Cyprus)-Ltd',\n",
       " 'https://www.ergodotisi.com/JobDetails/147817/Albourne-Partners-(Cyprus)-Ltd',\n",
       " 'https://www.ergodotisi.com/JobDetails/147816/HYCM-(EUROPE)-LTD',\n",
       " 'https://www.ergodotisi.com/JobDetails/147815/HYCM-(EUROPE)-LTD',\n",
       " 'https://www.ergodotisi.com/JobDetails/147814/HYCM-(EUROPE)-LTD',\n",
       " 'https://www.ergodotisi.com/JobDetails/147812/HYCM-(EUROPE)-LTD',\n",
       " 'https://www.ergodotisi.com/JobDetails/147701/Tech4S-Group-Ltd',\n",
       " 'https://www.ergodotisi.com/JobDetails/147453/Golden-Brands-Trading-Cyprus-Ltd',\n",
       " 'https://www.ergodotisi.com/JobDetails/147776/Pari-Tech-(Cy)-Limited',\n",
       " 'https://www.ergodotisi.com/JobDetails/147703/Tech4S-Group-Ltd',\n",
       " 'https://www.ergodotisi.com/JobDetails/147702/Tech4S-Group-Ltd',\n",
       " 'https://www.ergodotisi.com/JobDetails/147809/Capital-Coast-Resort-AND--Spa',\n",
       " 'https://www.ergodotisi.com/JobDetails/147758/SOCIETE-GENERALE-BANK-CYPRUS',\n",
       " 'https://www.ergodotisi.com/JobDetails/147808/The-Cyprus-Institute-of-Marketing-(CIM)',\n",
       " 'https://www.ergodotisi.com/JobDetails/147805/TUS-AIRWAYS-LTD',\n",
       " 'https://www.ergodotisi.com/JobDetails/147804/TUS-AIRWAYS-LTD',\n",
       " 'https://www.ergodotisi.com/JobDetails/147740/BB-Media',\n",
       " 'https://www.ergodotisi.com/JobDetails/147803/TUS-AIRWAYS-LTD',\n",
       " 'https://www.ergodotisi.com/JobDetails/147737/Bionic-Electronics-H.T.-LTD',\n",
       " 'https://www.ergodotisi.com/JobDetails/147697/Vassos-Eliades-Ltd',\n",
       " 'https://www.ergodotisi.com/JobDetails/147652/Chrisons-Co.-Ltd',\n",
       " 'https://www.ergodotisi.com/JobDetails/147653/PH-HADJIGEORGIOY',\n",
       " 'https://www.ergodotisi.com/JobDetails/147641/A.K.PURPLE-SERVICES--APARTMENTS-AND-HOTELS-LTD',\n",
       " 'https://www.ergodotisi.com/JobDetails/147457/Guricon-Limited',\n",
       " 'https://www.ergodotisi.com/JobDetails/147801/Elite-G.T.M.-Services-Limited',\n",
       " 'https://www.ergodotisi.com/JobDetails/147633/Roomzly-Interior-Design-Studio',\n",
       " 'https://www.ergodotisi.com/JobDetails/147456/Guricon-Limited',\n",
       " 'https://www.ergodotisi.com/JobDetails/147699/Panakon-Ltd',\n",
       " 'https://www.ergodotisi.com/JobDetails/147796/AXF-AE',\n",
       " 'https://www.ergodotisi.com/JobDetails/147724/Varnavas-Hadjipanayis-Ltd',\n",
       " 'https://www.ergodotisi.com/JobDetails/147793/AXF-AE',\n",
       " 'https://www.ergodotisi.com/JobDetails/147698/Vassos-Eliades-Ltd',\n",
       " 'https://www.ergodotisi.com/JobDetails/147668/BBMedia',\n",
       " 'https://www.ergodotisi.com/JobDetails/147650/Bed-n-Mix',\n",
       " 'https://www.ergodotisi.com/JobDetails/147642/VOICI-LA-MODE-GROUP',\n",
       " 'https://www.ergodotisi.com/JobDetails/147763/Nexxie-Group-Ltd',\n",
       " 'https://www.ergodotisi.com/JobDetails/147636/MESOYIOS-COLLEGE',\n",
       " 'https://www.ergodotisi.com/JobDetails/147632/PREVENTION-AT-SEA-LTD',\n",
       " 'https://www.ergodotisi.com/JobDetails/147764/Nexxie-Group-Ltd',\n",
       " 'https://www.ergodotisi.com/JobDetails/147631/Roomzly-Interior-Design-Studio',\n",
       " \"https://www.ergodotisi.com/JobDetails/147588/TSITSI'S-KIOSK-CAFE\",\n",
       " 'https://www.ergodotisi.com/JobDetails/147544/Nova-Scientia-Private-Institute',\n",
       " 'https://www.ergodotisi.com/JobDetails/147750/XM',\n",
       " 'https://www.ergodotisi.com/JobDetails/147761/HF-Markets',\n",
       " 'https://www.ergodotisi.com/JobDetails/147760/HF-Markets',\n",
       " 'https://www.ergodotisi.com/JobDetails/147613/Amicci-Ltd',\n",
       " 'https://www.ergodotisi.com/JobDetails/147646/Ayomi-Financial-Services-Ltd',\n",
       " 'https://www.ergodotisi.com/JobDetails/147590/Way-to-Success---Private-Institute',\n",
       " 'https://www.ergodotisi.com/JobDetails/147585/Office-and-Home-Solutions',\n",
       " 'https://www.ergodotisi.com/JobDetails/147569/VENI-COOK-AND-DINE-LTD',\n",
       " 'https://www.ergodotisi.com/JobDetails/147580/Sunfresh-Bakeries-Ltd',\n",
       " 'https://www.ergodotisi.com/JobDetails/147581/TLM-OPERATIONS-LTD',\n",
       " 'https://www.ergodotisi.com/JobDetails/147577/CTC-ARI-AIRPORTS-LTD',\n",
       " 'https://www.ergodotisi.com/JobDetails/147741/Acenetworks',\n",
       " 'https://www.ergodotisi.com/JobDetails/147712/Unlimint',\n",
       " 'https://www.ergodotisi.com/JobDetails/147714/Unlimint',\n",
       " 'https://www.ergodotisi.com/JobDetails/147711/Unlimint',\n",
       " 'https://www.ergodotisi.com/JobDetails/147645/Sveltos-Estates-Ltd-(The-Ciao-Stelio-Deluxe-Hotel)',\n",
       " 'https://www.ergodotisi.com/JobDetails/147574/Cyprus-Trading-Corporation-Plc',\n",
       " 'https://www.ergodotisi.com/JobDetails/147696/Axiom-Consulting',\n",
       " 'https://www.ergodotisi.com/JobDetails/147694/%CE%A4%CE%A1%CE%9F%CE%A6%CE%9F%CE%95%CE%9C%CE%A0%CE%9F%CE%A1%CE%99%CE%9A%CE%97-%CE%9B%CE%A4%CE%94',\n",
       " 'https://www.ergodotisi.com/JobDetails/147616/Michaels-Automotive-ltd',\n",
       " 'https://www.ergodotisi.com/JobDetails/147745/Flying-Tiger-Cyprus',\n",
       " 'https://www.ergodotisi.com/JobDetails/147568/INTERSPORT-ATHLETICS',\n",
       " 'https://www.ergodotisi.com/JobDetails/147617/DJK-Group-of-Companies',\n",
       " 'https://www.ergodotisi.com/JobDetails/147612/DJK-Group-of-Companies',\n",
       " 'https://www.ergodotisi.com/JobDetails/147635/Olebridge-Investments-ltd']"
      ]
     },
     "execution_count": 8,
     "metadata": {},
     "output_type": "execute_result"
    }
   ],
   "source": [
    "(linksjobs)"
   ]
  },
  {
   "cell_type": "code",
   "execution_count": 9,
   "metadata": {},
   "outputs": [
    {
     "name": "stdout",
     "output_type": "stream",
     "text": [
      "Συντηρητής/Συντηρήτρια Συσκευών Draught - Photos Photiades Distributors Ltd\n",
      "Ad Found\n",
      "\n",
      "Total Ads: 6\n"
     ]
    }
   ],
   "source": [
    "driverjob=opensite(linksjobs[19])"
   ]
  },
  {
   "cell_type": "code",
   "execution_count": null,
   "metadata": {},
   "outputs": [],
   "source": []
  },
  {
   "cell_type": "code",
   "execution_count": null,
   "metadata": {},
   "outputs": [],
   "source": []
  },
  {
   "cell_type": "code",
   "execution_count": 10,
   "metadata": {},
   "outputs": [
    {
     "ename": "NameError",
     "evalue": "name 'driverjob' is not defined",
     "output_type": "error",
     "traceback": [
      "\u001b[1;31m---------------------------------------------------------------------------\u001b[0m",
      "\u001b[1;31mNameError\u001b[0m                                 Traceback (most recent call last)",
      "\u001b[1;32m<ipython-input-10-b8e62568016c>\u001b[0m in \u001b[0;36m<module>\u001b[1;34m\u001b[0m\n\u001b[0;32m      1\u001b[0m \u001b[1;31m# the actually job in the site\u001b[0m\u001b[1;33m\u001b[0m\u001b[1;33m\u001b[0m\u001b[1;33m\u001b[0m\u001b[0m\n\u001b[1;32m----> 2\u001b[1;33m \u001b[0mthejob\u001b[0m\u001b[1;33m=\u001b[0m\u001b[0mdriverjob\u001b[0m\u001b[1;33m.\u001b[0m\u001b[0mfind_element_by_id\u001b[0m\u001b[1;33m(\u001b[0m\u001b[1;34m\"ctl00_ContentplaceholderSubMenu_PanelLiveContent\"\u001b[0m\u001b[1;33m)\u001b[0m\u001b[1;33m\u001b[0m\u001b[1;33m\u001b[0m\u001b[0m\n\u001b[0m\u001b[0;32m      3\u001b[0m \u001b[0minfo_of_job\u001b[0m\u001b[1;33m=\u001b[0m\u001b[0mthejob\u001b[0m\u001b[1;33m.\u001b[0m\u001b[0mfind_elements_by_tag_name\u001b[0m\u001b[1;33m(\u001b[0m\u001b[1;34m\"a\"\u001b[0m\u001b[1;33m)\u001b[0m\u001b[1;33m\u001b[0m\u001b[1;33m\u001b[0m\u001b[0m\n\u001b[0;32m      4\u001b[0m \u001b[1;33m\u001b[0m\u001b[0m\n\u001b[0;32m      5\u001b[0m \u001b[0mtitleofjob\u001b[0m\u001b[1;33m=\u001b[0m\u001b[0mthejob\u001b[0m\u001b[1;33m.\u001b[0m\u001b[0mfind_element_by_tag_name\u001b[0m\u001b[1;33m(\u001b[0m\u001b[1;34m\"h1\"\u001b[0m\u001b[1;33m)\u001b[0m\u001b[1;33m.\u001b[0m\u001b[0mtext\u001b[0m\u001b[1;33m\u001b[0m\u001b[1;33m\u001b[0m\u001b[0m\n",
      "\u001b[1;31mNameError\u001b[0m: name 'driverjob' is not defined"
     ]
    }
   ],
   "source": [
    "# the actually job in the site\n",
    "thejob=driverjob.find_element_by_id(\"ctl00_ContentplaceholderSubMenu_PanelLiveContent\")\n",
    "info_of_job=thejob.find_elements_by_tag_name(\"a\")\n",
    "\n",
    "titleofjob=thejob.find_element_by_tag_name(\"h1\").text\n",
    "refernce_number=int(info_of_job[0].text[10:])\n",
    "city=info_of_job[1].text\n",
    "date_posted=info_of_job[2].text\n",
    "expire_date=info_of_job[4].text\n",
    "views=int(info_of_job[5].text)"
   ]
  },
  {
   "cell_type": "code",
   "execution_count": 11,
   "metadata": {},
   "outputs": [
    {
     "data": {
      "text/plain": [
       "'αναρτήθηκε σήμερα'"
      ]
     },
     "execution_count": 11,
     "metadata": {},
     "output_type": "execute_result"
    }
   ],
   "source": [
    "date_posted"
   ]
  },
  {
   "cell_type": "code",
   "execution_count": 50,
   "metadata": {},
   "outputs": [
    {
     "ename": "IndentationError",
     "evalue": "expected an indented block (<ipython-input-50-05f49dd34ab6>, line 17)",
     "output_type": "error",
     "traceback": [
      "\u001b[1;36m  File \u001b[1;32m\"<ipython-input-50-05f49dd34ab6>\"\u001b[1;36m, line \u001b[1;32m17\u001b[0m\n\u001b[1;33m    pass\u001b[0m\n\u001b[1;37m    ^\u001b[0m\n\u001b[1;31mIndentationError\u001b[0m\u001b[1;31m:\u001b[0m expected an indented block\n"
     ]
    }
   ],
   "source": [
    "date_posted=info_of_job[2].text\n",
    "if date_posted=='αναρτήθηκε σήμερα':    \n",
    "    # get the date and time now\n",
    "    now = datetime.now()\n",
    "    date_posted = now.strftime(\"%d/%m/%Y\")\n",
    "elif date_posted=='αναρτήθηκε χθές':\n",
    "    # get the date and time now\n",
    "    now = datetime.now()\n",
    "    date_posted=(now - timedelta(hours=24)).strftime(\"%d/%m/%Y\")\n",
    "else:\n",
    "    try:\n",
    "        Posted_days=int(re.findall(r'[0-9]+', date_posted)[0])\n",
    "        # get the date and time now\n",
    "        now = datetime.now()\n",
    "        date_posted=(now + timedelta(days=Posted_days)).strftime(\"%d/%m/%Y\")\n",
    "    except:\n",
    "        pass\n"
   ]
  },
  {
   "cell_type": "code",
   "execution_count": 16,
   "metadata": {},
   "outputs": [
    {
     "name": "stdout",
     "output_type": "stream",
     "text": [
      "λήγει σε 31 ημέρες\n",
      "31\n"
     ]
    }
   ],
   "source": [
    "expire_date=info_of_job[4].text\n",
    "try:\n",
    "\n",
    "    expire_days=int(re.findall(r'[0-9]+', expire_date)[0])\n",
    "    # get the date and time now\n",
    "    now = datetime.now()\n",
    "    expire_date=(now + timedelta(days=expire_days)).strftime(\"%d/%m/%Y\")\n",
    "except:\n",
    "    pass"
   ]
  },
  {
   "cell_type": "code",
   "execution_count": 17,
   "metadata": {},
   "outputs": [
    {
     "name": "stdout",
     "output_type": "stream",
     "text": [
      "titleofjob=Συντηρητής/Συντηρήτρια Συσκευών Draught\n",
      "refernce_number=148766\n",
      "city=Λευκωσία\n",
      "date_posted=27/08/2021\n",
      "expire_date=27/09/2021\n",
      "views=75\n"
     ]
    }
   ],
   "source": [
    "print(f\"titleofjob={titleofjob}\\nrefernce_number={refernce_number}\\ncity={city}\\ndate_posted={date_posted}\\nexpire_date={expire_date}\\nviews={views}\")"
   ]
  },
  {
   "cell_type": "code",
   "execution_count": 18,
   "metadata": {},
   "outputs": [],
   "source": [
    "driverjob.quit()"
   ]
  },
  {
   "cell_type": "code",
   "execution_count": 19,
   "metadata": {},
   "outputs": [
    {
     "data": {
      "text/plain": [
       "75"
      ]
     },
     "execution_count": 19,
     "metadata": {},
     "output_type": "execute_result"
    }
   ],
   "source": [
    "views"
   ]
  },
  {
   "cell_type": "code",
   "execution_count": 408,
   "metadata": {},
   "outputs": [],
   "source": [
    "now = datetime.now()\n"
   ]
  },
  {
   "cell_type": "code",
   "execution_count": 407,
   "metadata": {},
   "outputs": [
    {
     "ename": "AttributeError",
     "evalue": "'datetime.datetime' object has no attribute 'timedelta'",
     "output_type": "error",
     "traceback": [
      "\u001b[1;31m---------------------------------------------------------------------------\u001b[0m",
      "\u001b[1;31mAttributeError\u001b[0m                            Traceback (most recent call last)",
      "\u001b[1;32m<ipython-input-407-1f08b22b9248>\u001b[0m in \u001b[0;36m<module>\u001b[1;34m\u001b[0m\n\u001b[1;32m----> 1\u001b[1;33m \u001b[0mnow\u001b[0m\u001b[1;33m.\u001b[0m\u001b[0mtimedelta\u001b[0m\u001b[1;33m(\u001b[0m\u001b[0mdays\u001b[0m\u001b[1;33m=\u001b[0m\u001b[1;36m1\u001b[0m\u001b[1;33m)\u001b[0m\u001b[1;33m\u001b[0m\u001b[1;33m\u001b[0m\u001b[0m\n\u001b[0m",
      "\u001b[1;31mAttributeError\u001b[0m: 'datetime.datetime' object has no attribute 'timedelta'"
     ]
    }
   ],
   "source": [
    "now.timedelta(days=1)"
   ]
  },
  {
   "cell_type": "code",
   "execution_count": 416,
   "metadata": {},
   "outputs": [
    {
     "ename": "AttributeError",
     "evalue": "type object 'datetime.datetime' has no attribute 'timedelta'",
     "output_type": "error",
     "traceback": [
      "\u001b[1;31m---------------------------------------------------------------------------\u001b[0m",
      "\u001b[1;31mAttributeError\u001b[0m                            Traceback (most recent call last)",
      "\u001b[1;32m<ipython-input-416-a4a5b45e08ce>\u001b[0m in \u001b[0;36m<module>\u001b[1;34m\u001b[0m\n\u001b[0;32m      1\u001b[0m \u001b[0mtoday\u001b[0m \u001b[1;33m=\u001b[0m \u001b[0mdatetime\u001b[0m\u001b[1;33m.\u001b[0m\u001b[0mnow\u001b[0m\u001b[1;33m(\u001b[0m\u001b[1;33m)\u001b[0m\u001b[1;33m\u001b[0m\u001b[1;33m\u001b[0m\u001b[0m\n\u001b[0;32m      2\u001b[0m \u001b[1;33m\u001b[0m\u001b[0m\n\u001b[1;32m----> 3\u001b[1;33m \u001b[0myesterday\u001b[0m \u001b[1;33m=\u001b[0m \u001b[0mtoday\u001b[0m\u001b[1;33m-\u001b[0m\u001b[0mdatetime\u001b[0m\u001b[1;33m.\u001b[0m\u001b[0mtimedelta\u001b[0m\u001b[1;33m(\u001b[0m\u001b[0mdays\u001b[0m\u001b[1;33m=\u001b[0m\u001b[1;36m1\u001b[0m\u001b[1;33m)\u001b[0m\u001b[1;33m\u001b[0m\u001b[1;33m\u001b[0m\u001b[0m\n\u001b[0m",
      "\u001b[1;31mAttributeError\u001b[0m: type object 'datetime.datetime' has no attribute 'timedelta'"
     ]
    }
   ],
   "source": [
    "today = datetime.now()\n",
    "\n",
    "yesterday = today-datetime.timedelta(days=1)"
   ]
  },
  {
   "cell_type": "code",
   "execution_count": 423,
   "metadata": {},
   "outputs": [
    {
     "name": "stdout",
     "output_type": "stream",
     "text": [
      "2021-08-25 13:54:11.223501\n"
     ]
    }
   ],
   "source": [
    "print (datetime.now() - timedelta(days=1))  # Here, I am adding a negative timedelta\n"
   ]
  },
  {
   "cell_type": "code",
   "execution_count": 431,
   "metadata": {},
   "outputs": [],
   "source": [
    "now = datetime.now()\n",
    "yesterday=(now - timedelta(hours=24)).strftime(\"%d/%m/%Y\")"
   ]
  },
  {
   "cell_type": "code",
   "execution_count": 432,
   "metadata": {},
   "outputs": [
    {
     "data": {
      "text/plain": [
       "'25/08/2021'"
      ]
     },
     "execution_count": 432,
     "metadata": {},
     "output_type": "execute_result"
    }
   ],
   "source": [
    "yesterday"
   ]
  },
  {
   "cell_type": "code",
   "execution_count": 457,
   "metadata": {},
   "outputs": [
    {
     "name": "stdout",
     "output_type": "stream",
     "text": [
      "λήγει σε 30 ημέρες\n"
     ]
    }
   ],
   "source": [
    "expire_date= info_of_job[4].text\n",
    "print(expire_date)"
   ]
  },
  {
   "cell_type": "code",
   "execution_count": 459,
   "metadata": {},
   "outputs": [
    {
     "data": {
      "text/plain": [
       "['3', '0']"
      ]
     },
     "execution_count": 459,
     "metadata": {},
     "output_type": "execute_result"
    }
   ],
   "source": [
    "re.findall('[0-9]', expire_date)\n"
   ]
  },
  {
   "cell_type": "code",
   "execution_count": 473,
   "metadata": {},
   "outputs": [
    {
     "data": {
      "text/plain": [
       "['30']"
      ]
     },
     "execution_count": 473,
     "metadata": {},
     "output_type": "execute_result"
    }
   ],
   "source": [
    "re.findall(r'\\d+', expire_date)"
   ]
  },
  {
   "cell_type": "code",
   "execution_count": 476,
   "metadata": {},
   "outputs": [
    {
     "data": {
      "text/plain": [
       "30"
      ]
     },
     "execution_count": 476,
     "metadata": {},
     "output_type": "execute_result"
    }
   ],
   "source": [
    "int(re.findall(r'[0-9]+', expire_date)[0])"
   ]
  },
  {
   "cell_type": "code",
   "execution_count": null,
   "metadata": {},
   "outputs": [],
   "source": []
  },
  {
   "cell_type": "code",
   "execution_count": 172,
   "metadata": {},
   "outputs": [],
   "source": [
    "def job_analysis(driverjob):\n",
    "    # the actually job in the site\n",
    "    thejob=driverjob.find_element_by_id(\"ctl00_ContentplaceholderSubMenu_PanelLiveContent\")\n",
    "    info_of_job=thejob.find_elements_by_tag_name(\"a\")\n",
    "    specific=thejob.find_elements_by_class_name('col-md-6')\n",
    "    specificjob=specific[0].find_elements_by_tag_name('p')\n",
    "    specificjob1=specific[1].find_elements_by_tag_name('p')\n",
    "    \n",
    "    #------titleofjob------    \n",
    "    titleofjob=thejob.find_element_by_tag_name(\"h1\").text  \n",
    "    #----------------------\n",
    "    \n",
    "    \n",
    "    #----refernce_number---    \n",
    "    refernce_number=int(info_of_job[0].text[10:])    \n",
    "    #----------------------\n",
    "    \n",
    "    \n",
    "    #---------city---------    \n",
    "    city=info_of_job[1].text    \n",
    "    #----------------------\n",
    "    \n",
    "    #------date_posted-----    \n",
    "    date_posted=info_of_job[2].text\n",
    "    if date_posted=='αναρτήθηκε σήμερα':    \n",
    "        # get the date and time now\n",
    "        now = datetime.now()\n",
    "        date_posted = now.strftime(\"%d/%m/%Y\")\n",
    "    elif date_posted=='αναρτήθηκε χθές':\n",
    "        # get the date and time now\n",
    "        now = datetime.now()\n",
    "        date_posted=(now - timedelta(hours=24)).strftime(\"%d/%m/%Y\")\n",
    "    else:\n",
    "        try:\n",
    "            Posted_days=int(re.findall(r'[0-9]+', date_posted)[0])\n",
    "            # get the date and time now\n",
    "            now = datetime.now()\n",
    "            date_posted=(now + timedelta(days=Posted_days)).strftime(\"%d/%m/%Y\")\n",
    "        except:\n",
    "            pass\n",
    "    #----------------------\n",
    "    \n",
    "    #------expire_date-----   \n",
    "    expire_date=info_of_job[4].text\n",
    "    try:\n",
    "\n",
    "        expire_days=int(re.findall(r'[0-9]+', expire_date)[0])\n",
    "        # get the date and time now\n",
    "        now = datetime.now()\n",
    "        expire_date=(now + timedelta(days=expire_days)).strftime(\"%d/%m/%Y\")\n",
    "    except:\n",
    "        pass\n",
    "    #----------------------\n",
    "    \n",
    "    #---------views--------   \n",
    "    views=int(info_of_job[5].text)\n",
    "    #----------------------\n",
    "    \n",
    "    #------type_of_job-----   \n",
    "    type_of_employment=specificjob1[0].text\n",
    "    try:\n",
    "        if type_of_employment[:18]=='ΤΥΠΟΣ ΑΠΑΣΧΟΛΗΣΗΣ:':\n",
    "            type_of_employment=type_of_employment[19:]\n",
    "    except:\n",
    "        pass\n",
    "    #----------------------\n",
    "    \n",
    "    #---------employment_sector--------   \n",
    "    employment_sector=specificjob1[1].text\n",
    "    try:\n",
    "        if employment_sector[:19]=='ΚΛΑΔΟΣ ΑΠΑΣΧΟΛΗΣΗΣ:':\n",
    "            employment_sector=employment_sector[20:]\n",
    "    except:\n",
    "        pass\n",
    "    #----------------------------------\n",
    "    \n",
    "    #-------------publisher------------   \n",
    "    publisher=specificjob[1].text\n",
    "    try:\n",
    "        if publisher[:18]=='ΔΗΜΟΣΙΟΠΟΙΗΣΗ ΑΠΟ:':\n",
    "            publisher=publisher[19:]\n",
    "    except:\n",
    "        pass\n",
    "    #----------------------------------\n",
    "    \n",
    "    #-------------category-------------   \n",
    "    category=specificjob[0].text\n",
    "    try:\n",
    "        if category[:22]=='ΚΑΤΗΓΟΡΙΑ ΑΠΑΣΧΟΛΗΣΗΣ:':\n",
    "            category=category[23:]\n",
    "    except:\n",
    "        pass\n",
    "    #----------------------------------\n",
    "    \n",
    "    \n",
    "    \n",
    "    print(f\"titleofjob={titleofjob}\\nrefernce_number={refernce_number}\\ncity={city}\\ndate_posted={date_posted}\\nexpire_date={expire_date}\\nviews={views}\\ntype_of_employment={type_of_employment}\\nemployment_sector={employment_sector}\\npublisher={publisher}\\ncategory={category}\")\n",
    "\n",
    "    return (titleofjob, refernce_number, city, date_posted, expire_date, views, type_of_employment, employment_sector, publisher, category)\n"
   ]
  },
  {
   "cell_type": "code",
   "execution_count": 173,
   "metadata": {},
   "outputs": [],
   "source": [
    "# linksjobs"
   ]
  },
  {
   "cell_type": "code",
   "execution_count": 174,
   "metadata": {},
   "outputs": [
    {
     "name": "stdout",
     "output_type": "stream",
     "text": [
      "Systems Engineer - NewCytech Business Solutions - Nicosia & Limassol - Logicom Public Ltd\n",
      "titleofjob=Systems Engineer - NewCytech Business Solutions - Nicosia & Limassol\n",
      "refernce_number=148797\n",
      "city=Λεμεσός, Λευκωσία\n",
      "date_posted=31/08/2021\n",
      "expire_date=27/09/2021\n",
      "views=155\n",
      "type_of_employment=Πλήρης\n",
      "employment_sector=Πληροφορική\n",
      "publisher=Δημόσια Εταιρεία (PLC)\n",
      "category=Πληροφορική\n"
     ]
    },
    {
     "data": {
      "text/plain": [
       "('Systems Engineer - NewCytech Business Solutions - Nicosia & Limassol',\n",
       " 148797,\n",
       " 'Λεμεσός, Λευκωσία',\n",
       " '31/08/2021',\n",
       " '27/09/2021',\n",
       " 155,\n",
       " 'Πλήρης',\n",
       " 'Πληροφορική',\n",
       " 'Δημόσια Εταιρεία (PLC)',\n",
       " 'Πληροφορική')"
      ]
     },
     "execution_count": 174,
     "metadata": {},
     "output_type": "execute_result"
    }
   ],
   "source": [
    "driver=opensite(linksjobs[1])\n",
    "job_analysis(driver)"
   ]
  },
  {
   "cell_type": "code",
   "execution_count": 118,
   "metadata": {},
   "outputs": [],
   "source": [
    "thejob=driver.find_element_by_id(\"ctl00_ContentplaceholderSubMenu_PanelLiveContent\")"
   ]
  },
  {
   "cell_type": "code",
   "execution_count": 119,
   "metadata": {},
   "outputs": [],
   "source": [
    "specific=thejob.find_elements_by_class_name('col-md-6')"
   ]
  },
  {
   "cell_type": "code",
   "execution_count": 61,
   "metadata": {},
   "outputs": [],
   "source": [
    "specificjobs1=specific[1].find_elements_by_tag_name('p')"
   ]
  },
  {
   "cell_type": "code",
   "execution_count": 62,
   "metadata": {},
   "outputs": [],
   "source": [
    "type_of_employment=specificjobs1[0].text\n",
    "try:\n",
    "    if type_of_employment[:18]=='ΤΥΠΟΣ ΑΠΑΣΧΟΛΗΣΗΣ:':\n",
    "        type_of_employment=type_of_employment[19:]\n",
    "except:\n",
    "    pass"
   ]
  },
  {
   "cell_type": "code",
   "execution_count": 63,
   "metadata": {},
   "outputs": [
    {
     "data": {
      "text/plain": [
       "'Πλήρης'"
      ]
     },
     "execution_count": 63,
     "metadata": {},
     "output_type": "execute_result"
    }
   ],
   "source": [
    "type_of_employment"
   ]
  },
  {
   "cell_type": "code",
   "execution_count": 101,
   "metadata": {},
   "outputs": [],
   "source": [
    "employment_sector=specificjobs1[1].text"
   ]
  },
  {
   "cell_type": "code",
   "execution_count": 103,
   "metadata": {},
   "outputs": [],
   "source": [
    "employment_sector=specificjobs1[1].text\n",
    "try:\n",
    "    if type_of_employment[:19]=='ΚΛΑΔΟΣ ΑΠΑΣΧΟΛΗΣΗΣ:':\n",
    "        employment_sector=employment_sector[20:]\n",
    "except:\n",
    "    pass"
   ]
  },
  {
   "cell_type": "code",
   "execution_count": 104,
   "metadata": {},
   "outputs": [
    {
     "data": {
      "text/plain": [
       "'Πληροφορική'"
      ]
     },
     "execution_count": 104,
     "metadata": {},
     "output_type": "execute_result"
    }
   ],
   "source": [
    "employment_sector"
   ]
  },
  {
   "cell_type": "code",
   "execution_count": 141,
   "metadata": {},
   "outputs": [],
   "source": [
    "specificjob=specific[0].find_elements_by_tag_name('p')"
   ]
  },
  {
   "cell_type": "code",
   "execution_count": 150,
   "metadata": {},
   "outputs": [],
   "source": [
    "publisher=specificjob[1].text\n",
    "try:\n",
    "    if publisher[:18]=='ΔΗΜΟΣΙΟΠΟΙΗΣΗ ΑΠΟ:':\n",
    "        publisher=publisher[19:]\n",
    "except:\n",
    "    pass"
   ]
  },
  {
   "cell_type": "code",
   "execution_count": 151,
   "metadata": {},
   "outputs": [
    {
     "data": {
      "text/plain": [
       "'Δημόσια Εταιρεία (PLC)'"
      ]
     },
     "execution_count": 151,
     "metadata": {},
     "output_type": "execute_result"
    }
   ],
   "source": [
    "publisher"
   ]
  },
  {
   "cell_type": "code",
   "execution_count": 164,
   "metadata": {},
   "outputs": [],
   "source": [
    "category=specificjob[0].text\n",
    "try:\n",
    "    if category[:22]=='ΚΑΤΗΓΟΡΙΑ ΑΠΑΣΧΟΛΗΣΗΣ:':\n",
    "        category=category[23:]\n",
    "except:\n",
    "    pass"
   ]
  },
  {
   "cell_type": "code",
   "execution_count": 165,
   "metadata": {},
   "outputs": [
    {
     "data": {
      "text/plain": [
       "'Πληροφορική'"
      ]
     },
     "execution_count": 165,
     "metadata": {},
     "output_type": "execute_result"
    }
   ],
   "source": [
    "category"
   ]
  },
  {
   "cell_type": "code",
   "execution_count": null,
   "metadata": {},
   "outputs": [],
   "source": []
  }
 ],
 "metadata": {
  "kernelspec": {
   "display_name": "Python 3 (ipykernel)",
   "language": "python",
   "name": "python3"
  },
  "language_info": {
   "codemirror_mode": {
    "name": "ipython",
    "version": 3
   },
   "file_extension": ".py",
   "mimetype": "text/x-python",
   "name": "python",
   "nbconvert_exporter": "python",
   "pygments_lexer": "ipython3",
   "version": "3.9.7"
  }
 },
 "nbformat": 4,
 "nbformat_minor": 4
}
